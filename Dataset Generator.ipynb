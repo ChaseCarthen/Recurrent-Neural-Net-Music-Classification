{
 "metadata": {
  "language": "lua",
  "name": "",
  "signature": "sha256:1d5883b54e7c6ae7e33028e4f1f130e2ee4b6728244efa81034908ee327854bb"
 },
 "nbformat": 3,
 "nbformat_minor": 0,
 "worksheets": [
  {
   "cells": [
    {
     "cell_type": "code",
     "collapsed": false,
     "input": [
      "local torch = require 'torch'\n",
      "local midi = require 'MIDI'\n",
      "mtbv = require \"midiToBinaryVector\"\n",
      "require 'lfs'"
     ],
     "language": "python",
     "metadata": {},
     "outputs": [],
     "prompt_number": 24
    },
    {
     "cell_type": "code",
     "collapsed": false,
     "input": [
      "\n",
      "--Create a table to associate genre names with numerical values.\n",
      "classes = {\"classical\" = \"Classical\", \"jazz\" = \"Jazz\"}\n",
      "\n"
     ],
     "language": "python",
     "metadata": {},
     "outputs": []
    },
    {
     "cell_type": "code",
     "collapsed": false,
     "input": [
      "--Gather the midi files from the music directory. The SongGroupContainer is neccessary since we want to split\n",
      "--our data into training and testing for each genre. This was re eliminate the possibility of having too \n",
      "--few of training midis compared to testing or vica-versa\n",
      "\n",
      "function GatherMidiData(BaseDir) \n",
      "    local SongGroupContainer = {}\n",
      "    directoryCounter = 0;\n",
      "    for directoryName in lfs.dir(BaseDir) \n",
      "    do \n",
      "        if directoryName ~= \"..\" and directoryName ~= \".\" and lfs.attributes(BaseDir..\"/\"..directoryName,\"mode\") == \"directory\"\n",
      "        then\n",
      "            directoryCounter = directoryCounter + 1\n",
      "            directoryPath = BaseDir..\"/\"..directoryName..\"/\"\n",
      "            \n",
      "            local obj = \n",
      "            {\n",
      "                Genre = directoryName,\n",
      "                Songs = {}\n",
      "            }\n",
      "\n",
      "            classes[directoryCounter] = directoryCounter\n",
      "            print(directoryName)\n",
      "            print(directoryCounter)\n",
      "            \n",
      "            fileCounter = 0\n",
      "            for filename in lfs.dir(BaseDir..\"/\"..directoryName) \n",
      "            do FullFilePath = BaseDir..\"/\"..directoryName..\"/\"..filename\n",
      "                if string.find(filename, \".mid\")\n",
      "                then \n",
      "                    fileCounter = fileCounter + 1 \n",
      "                    data = midiToBinaryVec(FullFilePath) \n",
      "                    if data ~= nil then\n",
      "                        obj.Songs[fileCounter] = data\n",
      "                    end\n",
      "                end\n",
      "            end\n",
      "            SongGroupContainer[directoryName] = obj\n",
      "            --SerializeData(directoryPath..outputFileName, obj)\n",
      "        end\n",
      "    end\n",
      "    return SongGroupContainer\n",
      "end"
     ],
     "language": "python",
     "metadata": {},
     "outputs": []
    },
    {
     "cell_type": "code",
     "collapsed": false,
     "input": [
      "function SplitMidiData(data, ratio)\n",
      "    local trainData = {Labels={}, Songs={}}\n",
      "    local testData = {Labels={}, Songs={}}\n",
      "    \n",
      "    TrainingCounter = 1\n",
      "    TestingCounter = 1\n",
      "    for genreKey,value in pairs(data) do \n",
      "        local shuffle = torch.randperm(#data[genreKey].Songs)\n",
      "        local numTrain = math.floor(shuffle:size(1) * ratio)\n",
      "        local numTest = shuffle:size(1) - numTrain\n",
      "            \n",
      "        for i=1,numTrain do\n",
      "          trainData.Songs[TrainingCounter] = data[genreKey].Songs[shuffle[i]]:clone()\n",
      "          --print(\"Hello bob\")\n",
      "          --print(Classifier[genreKey])\n",
      "          trainData.Labels[TrainingCounter] = classes[genreKey]\n",
      "          TrainingCounter = TrainingCounter + 1\n",
      "        end\n",
      "        \n",
      "        for i=numTrain+1,numTrain+numTest do\n",
      "            testData.Songs[TestingCounter] = data[genreKey].Songs[shuffle[i]]:clone()\n",
      "            testData.Labels[TestingCounter] = classes[genreKey]\n",
      "            TestingCounter = TestingCounter + 1\n",
      "        end\n",
      "    end    \n",
      "    \n",
      "    return trainData, testData\n",
      "end"
     ],
     "language": "python",
     "metadata": {},
     "outputs": []
    },
    {
     "cell_type": "code",
     "collapsed": false,
     "input": [
      "function GetTrainAndTestData(BaseDir, Ratio)    \n",
      "    Data = GatherMidiData(BaseDir)\n",
      "    return SplitMidiData(Data, Ratio)\n",
      "end"
     ],
     "language": "python",
     "metadata": {},
     "outputs": []
    },
    {
     "cell_type": "code",
     "collapsed": false,
     "input": [
      "trainData, testData = GetTrainAndTestData(\"./music\", .5)\n",
      "print(trainData)\n",
      "print (testData)"
     ],
     "language": "python",
     "metadata": {},
     "outputs": []
    },
    {
     "cell_type": "code",
     "collapsed": false,
     "input": [],
     "language": "python",
     "metadata": {},
     "outputs": [
      {
       "metadata": {},
       "output_type": "pyout",
       "prompt_number": 53,
       "text": [
        "\n"
       ]
      }
     ],
     "prompt_number": 53
    },
    {
     "cell_type": "code",
     "collapsed": false,
     "input": [],
     "language": "python",
     "metadata": {},
     "outputs": []
    }
   ],
   "metadata": {}
  }
 ]
}