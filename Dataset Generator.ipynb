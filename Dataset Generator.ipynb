{
 "metadata": {
  "language": "lua",
  "name": "",
  "signature": "sha256:838f69cefe2851f477f8c4e207d872d1c15e7f2053b78df9479e87a273de50f4"
 },
 "nbformat": 3,
 "nbformat_minor": 0,
 "worksheets": [
  {
   "cells": [
    {
     "cell_type": "code",
     "collapsed": false,
     "input": [],
     "language": "python",
     "metadata": {},
     "outputs": []
    }
   ],
   "metadata": {}
  }
 ]
}