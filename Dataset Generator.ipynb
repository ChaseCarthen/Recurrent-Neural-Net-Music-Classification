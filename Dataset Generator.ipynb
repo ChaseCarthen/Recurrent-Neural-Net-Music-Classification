{
 "metadata": {
  "language": "lua",
  "name": "",
  "signature": "sha256:9d5879805ec33d947fa524704179fc42e9c05492256f2c999c0282c3d3d75ec6"
 },
 "nbformat": 3,
 "nbformat_minor": 0,
 "worksheets": [
  {
   "cells": [
    {
     "cell_type": "code",
     "collapsed": false,
     "input": [
      "local torch = require 'torch'\n",
      "local midi = require 'MIDI'\n",
      "mtbv = require \"midiToBinaryVector\"\n",
      "require 'lfs'"
     ],
     "language": "python",
     "metadata": {},
     "outputs": [],
     "prompt_number": 7
    },
    {
     "cell_type": "code",
     "collapsed": false,
     "input": [],
     "language": "python",
     "metadata": {},
     "outputs": [
      {
       "metadata": {},
       "output_type": "pyout",
       "prompt_number": 8,
       "text": [
        "\n"
       ]
      }
     ],
     "prompt_number": 8
    },
    {
     "cell_type": "code",
     "collapsed": false,
     "input": [
      "function GatherMidiData(BaseDir)\n",
      "    \n",
      "    local SongGroupContainer = {}\n",
      "    directoryCounter = 0;\n",
      "    for directoryName in lfs.dir(BaseDir) \n",
      "    do \n",
      "        if directoryName ~= \"..\" and directoryName ~= \".\" and lfs.attributes(BaseDir..\"/\"..directoryName,\"mode\") == \"directory\"\n",
      "        then\n",
      "            directoryCounter = directoryCounter + 1\n",
      "            directoryPath = BaseDir..\"/\"..directoryName..\"/\"\n",
      "            \n",
      "            local obj = \n",
      "            {\n",
      "                Genre = directoryName,\n",
      "                Songs = {}\n",
      "            }\n",
      "\n",
      "            fileCounter = 0\n",
      "            for filename in lfs.dir(BaseDir..\"/\"..directoryName) \n",
      "            do FullFilePath = BaseDir..\"/\"..directoryName..\"/\"..filename\n",
      "                if string.find(filename, \".mid\")\n",
      "                then fileCounter = fileCounter + 1 \n",
      "                    obj.Songs[fileCounter] = midiToBinaryVec(FullFilePath) \n",
      "                end\n",
      "            end\n",
      "            SongGroupContainer[directoryCounter] = obj\n",
      "            --SerializeData(directoryPath..outputFileName, obj)\n",
      "        end\n",
      "    end\n",
      "    return SongGroupContainer\n",
      "end"
     ],
     "language": "python",
     "metadata": {},
     "outputs": [],
     "prompt_number": 24
    },
    {
     "cell_type": "code",
     "collapsed": false,
     "input": [
      "--Test = GatherMidiData('./music')"
     ],
     "language": "python",
     "metadata": {},
     "outputs": [],
     "prompt_number": 25
    },
    {
     "cell_type": "code",
     "collapsed": false,
     "input": [
      "--print(Test[1])"
     ],
     "language": "python",
     "metadata": {},
     "outputs": [],
     "prompt_number": 26
    },
    {
     "cell_type": "code",
     "collapsed": false,
     "input": [],
     "language": "python",
     "metadata": {},
     "outputs": []
    }
   ],
   "metadata": {}
  }
 ]
}