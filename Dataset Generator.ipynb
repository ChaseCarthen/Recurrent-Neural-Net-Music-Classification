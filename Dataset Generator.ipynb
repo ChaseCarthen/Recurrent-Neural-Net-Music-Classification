{
 "metadata": {
  "language": "lua",
  "name": "",
  "signature": "sha256:bc2de82db08036c5f1145e42ef4549ab74dbe8b88c7b119b1efbd8694e8ecfe2"
 },
 "nbformat": 3,
 "nbformat_minor": 0,
 "worksheets": [
  {
   "cells": [
    {
     "cell_type": "code",
     "collapsed": false,
     "input": [
      "local torch = require 'torch'\n",
      "local midi = require 'MIDI'\n",
      "mtbv = require \"midiToBinaryVector\"\n",
      "require 'lfs'"
     ],
     "language": "python",
     "metadata": {},
     "outputs": [],
     "prompt_number": 1
    },
    {
     "cell_type": "code",
     "collapsed": false,
     "input": [
      "\n",
      "--Create a table to associate genre names with numerical values.\n",
      "classes = {classical = \"Classical\", jazz = \"Jazz\"}\n",
      "\n"
     ],
     "language": "python",
     "metadata": {},
     "outputs": [],
     "prompt_number": 2
    },
    {
     "cell_type": "code",
     "collapsed": false,
     "input": [
      "--Gather the midi files from the music directory. The SongGroupContainer is neccessary since we want to split\n",
      "--our data into training and testing for each genre. This was re eliminate the possibility of having too \n",
      "--few of training midis compared to testing or vica-versa\n",
      "\n",
      "function GatherMidiData(BaseDir) \n",
      "    local SongGroupContainer = {}\n",
      "    directoryCounter = 0;\n",
      "    for directoryName in lfs.dir(BaseDir) \n",
      "    do \n",
      "        if directoryName ~= \"..\" and directoryName ~= \".\" and lfs.attributes(BaseDir..\"/\"..directoryName,\"mode\") == \"directory\"\n",
      "        then\n",
      "            directoryCounter = directoryCounter + 1\n",
      "            directoryPath = BaseDir..\"/\"..directoryName..\"/\"\n",
      "            \n",
      "            local obj = \n",
      "            {\n",
      "                Genre = directoryName,\n",
      "                Songs = {}\n",
      "            }\n",
      "\n",
      "            classes[directoryCounter] = directoryCounter\n",
      "            print(directoryName)\n",
      "            print(directoryCounter)\n",
      "            \n",
      "            fileCounter = 0\n",
      "            for filename in lfs.dir(BaseDir..\"/\"..directoryName) \n",
      "            do FullFilePath = BaseDir..\"/\"..directoryName..\"/\"..filename\n",
      "                if string.find(filename, \".mid\")\n",
      "                then \n",
      "                    fileCounter = fileCounter + 1 \n",
      "                    data = midiToBinaryVec(FullFilePath) \n",
      "                    if data ~= nil then\n",
      "                        obj.Songs[fileCounter] = data\n",
      "                    end\n",
      "                end\n",
      "            end\n",
      "            SongGroupContainer[directoryName] = obj\n",
      "            --SerializeData(directoryPath..outputFileName, obj)\n",
      "        end\n",
      "    end\n",
      "    return SongGroupContainer\n",
      "end"
     ],
     "language": "python",
     "metadata": {},
     "outputs": [],
     "prompt_number": 3
    },
    {
     "cell_type": "code",
     "collapsed": false,
     "input": [
      "function SplitMidiData(data, ratio)\n",
      "    local trainData = {Labels={}, Songs={}}\n",
      "    local testData = {Labels={}, Songs={}}\n",
      "    --print(data)\n",
      "    --print(ratio)\n",
      "    TrainingCounter = 1\n",
      "    TestingCounter = 1\n",
      "    for genreKey,value in pairs(data) do \n",
      "        local shuffle = torch.randperm(#data[genreKey].Songs)\n",
      "        local numTrain = math.floor(shuffle:size(1) * ratio)\n",
      "        local numTest = shuffle:size(1) - numTrain\n",
      "        print(genreKey)\n",
      "        for i=1,numTrain do\n",
      "          --print(data[genreKey])\n",
      "          print(TrainingCounter)\n",
      "          print(#data[genreKey].Songs)\n",
      "          trainData.Songs[TrainingCounter] = data[genreKey].Songs[shuffle[i]]:clone()\n",
      "          \n",
      "          --print(\"Hello bob\")\n",
      "          --print(Classifier[genreKey])\n",
      "          trainData.Labels[TrainingCounter] = classes[genreKey]\n",
      "          TrainingCounter = TrainingCounter + 1\n",
      "        end\n",
      "        \n",
      "        for i=numTrain+1,numTrain+numTest do\n",
      "            testData.Songs[TestingCounter] = data[genreKey].Songs[shuffle[i]]:clone()\n",
      "            testData.Labels[TestingCounter] = classes[genreKey]\n",
      "            TestingCounter = TestingCounter + 1\n",
      "        end\n",
      "    end    \n",
      "    \n",
      "    return trainData, testData\n",
      "end"
     ],
     "language": "python",
     "metadata": {},
     "outputs": [],
     "prompt_number": 19
    },
    {
     "cell_type": "code",
     "collapsed": false,
     "input": [
      "function GetTrainAndTestData(BaseDir, Ratio)    \n",
      "    Data = GatherMidiData(BaseDir)\n",
      "    return SplitMidiData(Data, Ratio)\n",
      "end"
     ],
     "language": "python",
     "metadata": {},
     "outputs": [],
     "prompt_number": 20
    },
    {
     "cell_type": "code",
     "collapsed": false,
     "input": [
      "trainData, testData = GetTrainAndTestData(\"./music\", .5)\n",
      "print(trainData)\n",
      "print (testData)"
     ],
     "language": "python",
     "metadata": {},
     "outputs": [
      {
       "metadata": {},
       "output_type": "pyout",
       "prompt_number": 21,
       "text": [
        "classical\t\n",
        "1\t\n"
       ]
      },
      {
       "metadata": {},
       "output_type": "pyout",
       "prompt_number": 21,
       "text": [
        "jazz\t\n",
        "2\t\n"
       ]
      },
      {
       "metadata": {},
       "output_type": "pyout",
       "prompt_number": 21,
       "text": [
        "ERROR: \t\n",
        "./midiToBinaryVector.lua:29: attempt to index a number value\t\n",
        "false\t\n"
       ]
      },
      {
       "metadata": {},
       "output_type": "pyout",
       "prompt_number": 21,
       "text": [
        "ERROR: \t\n",
        "./midiToBinaryVector.lua:29: attempt to index a number value\t\n",
        "false\t\n"
       ]
      },
      {
       "metadata": {},
       "output_type": "pyout",
       "prompt_number": 21,
       "text": [
        "ERROR: \t\n",
        "./midiToBinaryVector.lua:29: attempt to index a number value\t\n",
        "false\t\n"
       ]
      },
      {
       "metadata": {},
       "output_type": "pyout",
       "prompt_number": 21,
       "text": [
        "ERROR: \t\n",
        "./midiToBinaryVector.lua:29: attempt to index a number value\t\n",
        "false\t\n"
       ]
      },
      {
       "metadata": {},
       "output_type": "pyout",
       "prompt_number": 21,
       "text": [
        "ERROR: \t\n",
        "./midiToBinaryVector.lua:29: attempt to index a number value\t\n",
        "false\t\n"
       ]
      },
      {
       "metadata": {},
       "output_type": "pyout",
       "prompt_number": 21,
       "text": [
        "ERROR: \t\n",
        "./midiToBinaryVector.lua:29: attempt to index a number value\t\n",
        "false\t\n"
       ]
      },
      {
       "metadata": {},
       "output_type": "pyout",
       "prompt_number": 21,
       "text": [
        "ERROR: \t\n",
        "./midiToBinaryVector.lua:29: attempt to index a number value\t\n",
        "false\t\n"
       ]
      },
      {
       "metadata": {},
       "output_type": "pyout",
       "prompt_number": 21,
       "text": [
        "ERROR: \t\n",
        "./midiToBinaryVector.lua:29: attempt to index a number value\t\n",
        "false\t\n"
       ]
      },
      {
       "metadata": {},
       "output_type": "pyout",
       "prompt_number": 21,
       "text": [
        "ERROR: \t\n",
        "./midiToBinaryVector.lua:29: attempt to index a number value\t\n",
        "false\t\n"
       ]
      },
      {
       "metadata": {},
       "output_type": "pyout",
       "prompt_number": 21,
       "text": [
        "ERROR: \t\n",
        "./midiToBinaryVector.lua:29: attempt to index a number value\t\n",
        "false\t\n"
       ]
      },
      {
       "metadata": {},
       "output_type": "pyout",
       "prompt_number": 21,
       "text": [
        "ERROR: \t\n",
        "./midiToBinaryVector.lua:29: attempt to index a number value\t\n",
        "false\t\n"
       ]
      },
      {
       "metadata": {},
       "output_type": "pyout",
       "prompt_number": 21,
       "text": [
        "ERROR: \t\n",
        "./midiToBinaryVector.lua:29: attempt to index a number value\t\n",
        "false\t\n"
       ]
      },
      {
       "metadata": {},
       "output_type": "pyout",
       "prompt_number": 21,
       "text": [
        "ERROR: \t\n",
        "./midiToBinaryVector.lua:29: attempt to index a number value\t\n",
        "false\t\n"
       ]
      },
      {
       "metadata": {},
       "output_type": "pyout",
       "prompt_number": 21,
       "text": [
        "ERROR: \t\n",
        "./midiToBinaryVector.lua:29: attempt to index a number value\t\n",
        "false\t\n"
       ]
      },
      {
       "metadata": {},
       "output_type": "pyout",
       "prompt_number": 21,
       "text": [
        "ERROR: \t\n",
        "./midiToBinaryVector.lua:29: attempt to index a number value\t\n",
        "false\t\n"
       ]
      },
      {
       "metadata": {},
       "output_type": "pyout",
       "prompt_number": 21,
       "text": [
        "ERROR: \t\n",
        "./midiToBinaryVector.lua:29: attempt to index a number value\t\n",
        "false\t\n"
       ]
      },
      {
       "metadata": {},
       "output_type": "pyout",
       "prompt_number": 21,
       "text": [
        "ERROR: \t\n",
        "./midiToBinaryVector.lua:29: attempt to index a number value\t\n",
        "false\t\n"
       ]
      },
      {
       "metadata": {},
       "output_type": "pyout",
       "prompt_number": 21,
       "text": [
        "ERROR: \t\n",
        "./midiToBinaryVector.lua:29: attempt to index a number value\t\n",
        "false\t\n"
       ]
      },
      {
       "metadata": {},
       "output_type": "pyout",
       "prompt_number": 21,
       "text": [
        "ERROR: \t\n",
        "./midiToBinaryVector.lua:29: attempt to index a number value\t\n",
        "false\t\n"
       ]
      },
      {
       "metadata": {},
       "output_type": "pyout",
       "prompt_number": 21,
       "text": [
        "ERROR: \t\n",
        "./midiToBinaryVector.lua:29: attempt to index a number value\t\n",
        "false\t\n"
       ]
      },
      {
       "metadata": {},
       "output_type": "pyout",
       "prompt_number": 21,
       "text": [
        "ERROR: \t\n",
        "./midiToBinaryVector.lua:29: attempt to index a number value\t\n",
        "false\t\n"
       ]
      },
      {
       "metadata": {},
       "output_type": "pyout",
       "prompt_number": 21,
       "text": [
        "ERROR: \t\n",
        "./midiToBinaryVector.lua:29: attempt to index a number value\t\n",
        "false\t\n"
       ]
      },
      {
       "metadata": {},
       "output_type": "pyout",
       "prompt_number": 21,
       "text": [
        "ERROR: \t\n",
        "./midiToBinaryVector.lua:29: attempt to index a number value\t\n",
        "false\t\n"
       ]
      },
      {
       "metadata": {},
       "output_type": "pyout",
       "prompt_number": 21,
       "text": [
        "ERROR: \t\n",
        "./midiToBinaryVector.lua:29: attempt to index a number value\t\n",
        "false\t\n"
       ]
      },
      {
       "metadata": {},
       "output_type": "pyout",
       "prompt_number": 21,
       "text": [
        "ERROR: \t\n",
        "./midiToBinaryVector.lua:29: attempt to index a number value\t\n",
        "false\t\n"
       ]
      },
      {
       "metadata": {},
       "output_type": "pyout",
       "prompt_number": 21,
       "text": [
        "ERROR: \t\n",
        "./midiToBinaryVector.lua:29: attempt to index a number value\t\n",
        "false\t\n"
       ]
      },
      {
       "metadata": {},
       "output_type": "pyout",
       "prompt_number": 21,
       "text": [
        "classical\t\n",
        "1\t\n",
        "498\t\n",
        "2\t\n",
        "498\t\n",
        "3\t\n",
        "498\t\n",
        "4\t\n",
        "498\t\n",
        "5\t\n",
        "498\t\n"
       ]
      },
      {
       "metadata": {},
       "output_type": "pyout",
       "prompt_number": 21,
       "text": [
        "6\t\n",
        "498\t\n",
        "7\t\n",
        "498\t\n"
       ]
      },
      {
       "metadata": {},
       "output_type": "pyout",
       "prompt_number": 21,
       "text": [
        "8\t\n",
        "498\t\n",
        "9\t\n",
        "498\t\n"
       ]
      },
      {
       "metadata": {},
       "output_type": "pyout",
       "prompt_number": 21,
       "text": [
        "10\t\n",
        "498\t\n",
        "11\t\n",
        "498\t\n"
       ]
      },
      {
       "metadata": {},
       "output_type": "pyout",
       "prompt_number": 21,
       "text": [
        "12\t\n",
        "498\t\n",
        "13\t\n",
        "498\t\n",
        "14\t\n",
        "498\t\n",
        "15\t\n",
        "498\t\n",
        "16\t\n",
        "498\t\n"
       ]
      },
      {
       "metadata": {},
       "output_type": "pyout",
       "prompt_number": 21,
       "text": [
        "17\t\n",
        "498\t\n",
        "18\t\n",
        "498\t\n",
        "19\t\n",
        "498\t\n",
        "20\t\n",
        "498\t\n",
        "21\t\n",
        "498\t\n",
        "22\t\n",
        "498\t\n",
        "23\t\n",
        "498\t\n",
        "24\t\n",
        "498\t\n"
       ]
      },
      {
       "metadata": {},
       "output_type": "pyout",
       "prompt_number": 21,
       "text": [
        "25\t\n",
        "498\t\n",
        "26\t\n",
        "498\t\n"
       ]
      },
      {
       "metadata": {},
       "output_type": "pyout",
       "prompt_number": 21,
       "text": [
        "27\t\n",
        "498\t\n",
        "28\t\n",
        "498\t\n",
        "29\t\n",
        "498\t\n",
        "30\t\n",
        "498\t\n",
        "31\t\n",
        "498\t\n",
        "32\t\n",
        "498\t\n",
        "33\t\n",
        "498\t\n"
       ]
      },
      {
       "metadata": {},
       "output_type": "pyout",
       "prompt_number": 21,
       "text": [
        "34\t\n",
        "498\t\n"
       ]
      },
      {
       "metadata": {},
       "output_type": "pyout",
       "prompt_number": 21,
       "text": [
        "35\t\n",
        "498\t\n",
        "36\t\n",
        "498\t\n",
        "37\t\n",
        "498\t\n",
        "38\t\n",
        "498\t\n",
        "39\t\n",
        "498\t\n",
        "40\t\n",
        "498\t\n",
        "41\t\n"
       ]
      },
      {
       "metadata": {},
       "output_type": "pyout",
       "prompt_number": 21,
       "text": [
        "498\t\n",
        "42\t\n",
        "498\t\n",
        "43\t\n",
        "498\t\n",
        "44\t\n",
        "498\t\n",
        "45\t\n",
        "498\t\n",
        "46\t\n",
        "498\t\n",
        "47\t\n",
        "498\t\n",
        "48\t\n",
        "498\t\n",
        "49\t\n",
        "498\t\n",
        "50\t\n",
        "498\t\n",
        "51\t\n",
        "498\t\n",
        "52\t\n",
        "498\t\n"
       ]
      },
      {
       "metadata": {},
       "output_type": "pyout",
       "prompt_number": 21,
       "text": [
        "53\t\n",
        "498\t\n",
        "54\t\n",
        "498\t\n",
        "55\t\n",
        "498\t\n",
        "56\t\n",
        "498\t\n",
        "57\t\n",
        "498\t\n",
        "58\t\n",
        "498\t\n"
       ]
      },
      {
       "metadata": {},
       "output_type": "pyout",
       "prompt_number": 21,
       "text": [
        "59\t\n",
        "498\t\n",
        "60\t\n",
        "498\t\n",
        "61\t\n",
        "498\t\n"
       ]
      },
      {
       "metadata": {},
       "output_type": "pyout",
       "prompt_number": 21,
       "text": [
        "62\t\n",
        "498\t\n",
        "63\t\n",
        "498\t\n",
        "64\t\n",
        "498\t\n",
        "65\t\n",
        "498\t\n",
        "66\t\n"
       ]
      },
      {
       "metadata": {},
       "output_type": "pyout",
       "prompt_number": 21,
       "text": [
        "498\t\n",
        "67\t\n",
        "498\t\n",
        "68\t\n",
        "498\t\n",
        "69\t\n",
        "498\t\n",
        "70\t\n",
        "498\t\n",
        "71\t\n",
        "498\t\n",
        "72\t\n",
        "498\t\n",
        "73\t\n",
        "498\t\n",
        "74\t\n",
        "498\t\n"
       ]
      },
      {
       "metadata": {},
       "output_type": "pyout",
       "prompt_number": 21,
       "text": [
        "75\t\n",
        "498\t\n",
        "76\t\n",
        "498\t\n",
        "77\t\n",
        "498\t\n",
        "78\t\n",
        "498\t\n",
        "79\t\n",
        "498\t\n"
       ]
      },
      {
       "metadata": {},
       "output_type": "pyout",
       "prompt_number": 21,
       "text": [
        "80\t\n",
        "498\t\n",
        "81\t\n",
        "498\t\n",
        "82\t\n",
        "498\t\n",
        "83\t\n",
        "498\t\n",
        "84\t\n",
        "498\t\n",
        "85\t\n",
        "498\t\n",
        "86\t\n",
        "498\t\n",
        "87\t\n",
        "498\t\n"
       ]
      },
      {
       "metadata": {},
       "output_type": "pyout",
       "prompt_number": 21,
       "text": [
        "88\t\n",
        "498\t\n",
        "89\t\n",
        "498\t\n",
        "90\t\n",
        "498\t\n",
        "91\t\n",
        "498\t\n",
        "92\t\n",
        "498\t\n",
        "93\t\n",
        "498\t\n",
        "94\t\n",
        "498\t\n",
        "95\t\n",
        "498\t\n",
        "96\t\n",
        "498\t\n"
       ]
      },
      {
       "metadata": {},
       "output_type": "pyout",
       "prompt_number": 21,
       "text": [
        "97\t\n",
        "498\t\n",
        "98\t\n",
        "498\t\n",
        "99\t\n",
        "498\t\n",
        "100\t\n",
        "498\t\n",
        "101\t\n",
        "498\t\n",
        "102\t\n",
        "498\t\n",
        "103\t\n",
        "498\t\n"
       ]
      },
      {
       "metadata": {},
       "output_type": "pyout",
       "prompt_number": 21,
       "text": [
        "104\t\n",
        "498\t\n"
       ]
      },
      {
       "metadata": {},
       "output_type": "pyout",
       "prompt_number": 21,
       "text": [
        "105\t\n",
        "498\t\n",
        "106\t\n",
        "498\t\n",
        "107\t\n",
        "498\t\n",
        "108\t\n",
        "498\t\n",
        "109\t\n",
        "498\t\n",
        "110\t\n",
        "498\t\n",
        "111\t\n",
        "498\t\n",
        "112\t\n",
        "498\t\n"
       ]
      },
      {
       "metadata": {},
       "output_type": "pyout",
       "prompt_number": 21,
       "text": [
        "113\t\n",
        "498\t\n",
        "114\t\n",
        "498\t\n",
        "115\t\n",
        "498\t\n",
        "116\t\n",
        "498\t\n",
        "117\t\n",
        "498\t\n",
        "118\t\n",
        "498\t\n",
        "119\t\n",
        "498\t\n",
        "120\t\n",
        "498\t\n",
        "121\t\n",
        "498\t\n",
        "122\t\n",
        "498\t\n",
        "123\t\n",
        "498\t\n",
        "124\t\n",
        "498\t\n"
       ]
      },
      {
       "metadata": {},
       "output_type": "pyout",
       "prompt_number": 21,
       "text": [
        "125\t\n",
        "498\t\n",
        "126\t\n",
        "498\t\n",
        "127\t\n",
        "498\t\n",
        "128\t\n",
        "498\t\n",
        "129\t\n",
        "498\t\n",
        "130\t\n",
        "498\t\n",
        "131\t\n",
        "498\t\n",
        "132\t\n",
        "498\t\n",
        "133\t\n",
        "498\t\n",
        "134\t\n",
        "498\t\n",
        "135\t\n",
        "498\t\n"
       ]
      },
      {
       "metadata": {},
       "output_type": "pyout",
       "prompt_number": 21,
       "text": [
        "136\t\n",
        "498\t\n",
        "137\t\n",
        "498\t\n",
        "138\t\n",
        "498\t\n",
        "139\t\n",
        "498\t\n",
        "140\t\n",
        "498\t\n",
        "141\t\n",
        "498\t\n",
        "142\t\n",
        "498\t\n",
        "143\t\n",
        "498\t\n",
        "144\t\n",
        "498\t\n",
        "145\t\n",
        "498\t\n",
        "146\t\n",
        "498\t\n",
        "147\t\n",
        "498\t\n",
        "148\t\n",
        "498\t\n",
        "149\t\n",
        "498\t\n",
        "150\t\n",
        "498\t\n",
        "151\t\n",
        "498\t\n",
        "152\t\n",
        "498\t\n"
       ]
      },
      {
       "metadata": {},
       "output_type": "pyout",
       "prompt_number": 21,
       "text": [
        "153\t\n",
        "498\t\n",
        "154\t\n",
        "498\t\n"
       ]
      },
      {
       "metadata": {},
       "output_type": "pyout",
       "prompt_number": 21,
       "text": [
        "155\t\n",
        "498\t\n",
        "156\t\n",
        "498\t\n",
        "157\t\n",
        "498\t\n",
        "158\t\n"
       ]
      },
      {
       "metadata": {},
       "output_type": "pyout",
       "prompt_number": 21,
       "text": [
        "498\t\n",
        "159\t\n",
        "498\t\n",
        "160\t\n",
        "498\t\n"
       ]
      },
      {
       "metadata": {},
       "output_type": "pyout",
       "prompt_number": 21,
       "text": [
        "161\t\n",
        "498\t\n",
        "162\t\n",
        "498\t\n",
        "163\t\n",
        "498\t\n",
        "164\t\n",
        "498\t\n",
        "165\t\n",
        "498\t\n",
        "166\t\n",
        "498\t\n",
        "167\t\n",
        "498\t\n",
        "168\t\n",
        "498\t\n"
       ]
      },
      {
       "metadata": {},
       "output_type": "pyout",
       "prompt_number": 21,
       "text": [
        "169\t\n",
        "498\t\n",
        "170\t\n",
        "498\t\n",
        "171\t\n",
        "498\t\n",
        "172\t\n",
        "498\t\n",
        "173\t\n",
        "498\t\n",
        "174\t\n",
        "498\t\n",
        "175\t\n",
        "498\t\n",
        "176\t\n",
        "498\t\n",
        "177\t\n",
        "498\t\n",
        "178\t\n",
        "498\t\n",
        "179\t\n",
        "498\t\n",
        "180\t\n",
        "498\t\n",
        "181\t\n",
        "498\t\n",
        "182\t\n"
       ]
      },
      {
       "metadata": {},
       "output_type": "pyout",
       "prompt_number": 21,
       "text": [
        "498\t\n",
        "183\t\n",
        "498\t\n",
        "184\t\n",
        "498\t\n",
        "185\t\n",
        "498\t\n",
        "186\t\n",
        "498\t\n",
        "187\t\n",
        "498\t\n",
        "188\t\n",
        "498\t\n",
        "189\t\n",
        "498\t\n",
        "190\t\n",
        "498\t\n",
        "191\t\n",
        "498\t\n",
        "192\t\n",
        "498\t\n"
       ]
      },
      {
       "metadata": {},
       "output_type": "pyout",
       "prompt_number": 21,
       "text": [
        "193\t\n",
        "498\t\n",
        "194\t\n",
        "498\t\n",
        "195\t\n",
        "498\t\n",
        "196\t\n",
        "498\t\n",
        "197\t\n",
        "498\t\n",
        "198\t\n",
        "498\t\n",
        "199\t\n",
        "498\t\n",
        "200\t\n",
        "498\t\n"
       ]
      },
      {
       "metadata": {},
       "output_type": "pyout",
       "prompt_number": 21,
       "text": [
        "201\t\n",
        "498\t\n",
        "202\t\n",
        "498\t\n",
        "203\t\n",
        "498\t\n",
        "204\t\n",
        "498\t\n",
        "205\t\n",
        "498\t\n",
        "206\t\n",
        "498\t\n",
        "207\t\n",
        "498\t\n",
        "208\t\n",
        "498\t\n",
        "209\t\n",
        "498\t\n",
        "210\t\n",
        "498\t\n",
        "211\t\n",
        "498\t\n"
       ]
      },
      {
       "metadata": {},
       "output_type": "pyout",
       "prompt_number": 21,
       "text": [
        "212\t\n",
        "498\t\n",
        "213\t\n",
        "498\t\n",
        "214\t\n",
        "498\t\n",
        "215\t\n",
        "498\t\n",
        "216\t\n",
        "498\t\n",
        "217\t\n",
        "498\t\n",
        "218\t\n",
        "498\t\n",
        "219\t\n",
        "498\t\n"
       ]
      },
      {
       "metadata": {},
       "output_type": "pyout",
       "prompt_number": 21,
       "text": [
        "220\t\n",
        "498\t\n",
        "221\t\n",
        "498\t\n",
        "222\t\n",
        "498\t\n",
        "223\t\n",
        "498\t\n",
        "224\t\n",
        "498\t\n",
        "225\t\n",
        "498\t\n",
        "226\t\n",
        "498\t\n",
        "227\t\n",
        "498\t\n",
        "228\t\n",
        "498\t\n",
        "229\t\n",
        "498\t\n",
        "230\t\n",
        "498\t\n",
        "231\t\n",
        "498\t\n",
        "232\t\n",
        "498\t\n",
        "233\t\n",
        "498\t\n"
       ]
      },
      {
       "metadata": {},
       "output_type": "pyout",
       "prompt_number": 21,
       "text": [
        "234\t\n",
        "498\t\n",
        "235\t\n",
        "498\t\n",
        "236\t\n",
        "498\t\n",
        "237\t\n",
        "498\t\n",
        "238\t\n",
        "498\t\n",
        "239\t\n",
        "498\t\n",
        "240\t\n",
        "498\t\n",
        "241\t\n",
        "498\t\n",
        "242\t\n",
        "498\t\n",
        "243\t\n",
        "498\t\n",
        "244\t\n",
        "498\t\n",
        "245\t\n",
        "498\t\n",
        "246\t\n",
        "498\t\n",
        "247\t\n",
        "498\t\n",
        "248\t\n",
        "498\t\n",
        "249\t\n",
        "498\t\n"
       ]
      },
      {
       "metadata": {},
       "output_type": "pyout",
       "prompt_number": 21,
       "text": [
        "jazz\t\n",
        "250\t\n",
        "95\t\n"
       ]
      },
      {
       "metadata": {},
       "output_type": "pyout",
       "prompt_number": 21,
       "text": [
        "251\t\n",
        "95\t\n"
       ]
      },
      {
       "metadata": {},
       "output_type": "pyout",
       "prompt_number": 21,
       "text": [
        "252\t\n",
        "95\t\n"
       ]
      },
      {
       "ename": "[string \"function SplitMidiData(data, ratio)...\"]:17: attempt to index a nil value\nstack traceback:\n\t[string \"function SplitMidiData(data, ratio)...\"]:17: in function 'GetTrainAndTestData'\n\t[string \"trainData, testData = GetTrainAndTestData(\"./...\"]:1: in main chunk\n\t[C]: in function 'xpcall'\n\t/usr/local/share/lua/5.1/itorch/main.lua:174: in function </usr/local/share/lua/5.1/itorch/main.lua:140>\n\t/usr/local/share/lua/5.1/lzmq/poller.lua:75: in function 'poll'\n\t/usr/local/share/lua/5.1/lzmq/impl/loop.lua:307: in function 'poll'\n\t/usr/local/share/lua/5.1/lzmq/impl/loop.lua:325: in function 'sleep_ex'\n\t/usr/local/share/lua/5.1/lzmq/impl/loop.lua:370: in function 'start'\n\t/usr/local/share/lua/5.1/itorch/main.lua:341: in main chunk\n\t[C]: in function 'require'\n\t(command line):1: in main chunk\n\t[C]: at 0x0100dde100",
       "evalue": "",
       "output_type": "pyerr",
       "traceback": [
        "[string \"function SplitMidiData(data, ratio)...\"]:17: attempt to index a nil value\nstack traceback:\n\t[string \"function SplitMidiData(data, ratio)...\"]:17: in function 'GetTrainAndTestData'\n\t[string \"trainData, testData = GetTrainAndTestData(\"./...\"]:1: in main chunk\n\t[C]: in function 'xpcall'\n\t/usr/local/share/lua/5.1/itorch/main.lua:174: in function </usr/local/share/lua/5.1/itorch/main.lua:140>\n\t/usr/local/share/lua/5.1/lzmq/poller.lua:75: in function 'poll'\n\t/usr/local/share/lua/5.1/lzmq/impl/loop.lua:307: in function 'poll'\n\t/usr/local/share/lua/5.1/lzmq/impl/loop.lua:325: in function 'sleep_ex'\n\t/usr/local/share/lua/5.1/lzmq/impl/loop.lua:370: in function 'start'\n\t/usr/local/share/lua/5.1/itorch/main.lua:341: in main chunk\n\t[C]: in function 'require'\n\t(command line):1: in main chunk\n\t[C]: at 0x0100dde100"
       ]
      }
     ],
     "prompt_number": 21
    },
    {
     "cell_type": "code",
     "collapsed": false,
     "input": [],
     "language": "python",
     "metadata": {},
     "outputs": [
      {
       "metadata": {},
       "output_type": "pyout",
       "prompt_number": 7,
       "text": [
        "\n"
       ]
      }
     ],
     "prompt_number": 7
    },
    {
     "cell_type": "code",
     "collapsed": false,
     "input": [],
     "language": "python",
     "metadata": {},
     "outputs": []
    }
   ],
   "metadata": {}
  }
 ]
}