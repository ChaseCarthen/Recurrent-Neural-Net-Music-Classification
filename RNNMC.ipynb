{
 "metadata": {
  "language": "lua",
  "name": "",
  "signature": "sha256:020ac2e04d1bece9e6af7e7ccb60cbd814fac02d7c9e04036f40456c228d58a6"
 },
 "nbformat": 3,
 "nbformat_minor": 0,
 "worksheets": [
  {
   "cells": [
    {
     "cell_type": "code",
     "collapsed": false,
     "input": [
      "require \"torch\"\n",
      "require \"nn\"\n",
      "require \"optim\"\n",
      "require \"midiToBinaryVector\""
     ],
     "language": "python",
     "metadata": {},
     "outputs": [],
     "prompt_number": 3
    },
    {
     "cell_type": "code",
     "collapsed": false,
     "input": [],
     "language": "python",
     "metadata": {},
     "outputs": []
    }
   ],
   "metadata": {}
  }
 ]
}