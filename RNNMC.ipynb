{
 "metadata": {
  "language": "lua",
  "name": "",
  "signature": "sha256:cc1ffd5e689a54f368b42fb420121eac8c0c52add9a877373eb9c3103f8f27b0"
 },
 "nbformat": 3,
 "nbformat_minor": 0,
 "worksheets": [
  {
   "cells": [
    {
     "cell_type": "code",
     "collapsed": false,
     "input": [
      "local torch = require 'torch'\n",
      "local nn = require \"nn\"\n",
      "local midi = require 'MIDI'\n",
      "require \"optim\"\n",
      "require \"midiToBinaryVector\"\n",
      "require 'DatasetGenerator'\n",
      "require 'lfs'"
     ],
     "language": "python",
     "metadata": {},
     "outputs": [],
     "prompt_number": 1
    },
    {
     "cell_type": "code",
     "collapsed": false,
     "input": [
      "--Step 1: Gather our training and testing data - trainData and testData contain a table of Songs and Labels\n",
      "\n",
      "trainData, testData, classes = GetTrainAndTestData(\"./music\", .5)\n",
      "--print (table.getn(obj.Songs))\n",
      "--print(classes)\n",
      "--print(trainData)"
     ],
     "language": "python",
     "metadata": {},
     "outputs": [],
     "prompt_number": 2
    },
    {
     "cell_type": "code",
     "collapsed": false,
     "input": [
      "local RluMax = torch.class('nn.RluMax', 'nn.Module')\n",
      "\n",
      "function RluMax:__init()\n",
      "    self.mask = torch.Tensor()\n",
      "    self.output = torch.Tensor()\n",
      "    self.gradInput = torch.Tensor()\n",
      "end\n",
      "\n",
      "-- Allow only positive values.\n",
      "function RluMax:updateOutput(input)\n",
      "    local mask = self.mask:resizeAs(input)\n",
      "    local output = self.output:resizeAs(input)\n",
      "\n",
      "    output:cmul(input, torch.gt(mask, input, 0))\n",
      "\n",
      "    return output\n",
      "end\n",
      "\n",
      "-- Gradient is constant for positive values and zero otherwise.\n",
      "function RluMax:updateGradInput(input, gradOutput)\n",
      "    local mask = self.mask:resizeAs(input)\n",
      "    local gradInput = self.gradInput:resizeAs(input)\n",
      "\n",
      "    -- Use subgradient 1 at value 0.\n",
      "    gradInput:cmul(torch.ge(mask, input, 0), gradOutput)\n",
      "\n",
      "    return gradInput\n",
      "end"
     ],
     "language": "python",
     "metadata": {},
     "outputs": [],
     "prompt_number": 3
    },
    {
     "cell_type": "code",
     "collapsed": false,
     "input": [
      "--Step 2: Create the model\n",
      "\n",
      "\n",
      "\n",
      "\n",
      "inp=128;  -- dimensionality of one sequence element \n",
      "outp=50; -- number of derived features for one sequence element\n",
      "kw=1;   -- kernel only operates on one sequence element at once\n",
      "dw=1;   -- we step once and go on to the next sequence element\n",
      " \n",
      "--print(nn)\n",
      "mlp=nn.Sequential()\n",
      "mlp:add(nn.TemporalConvolution(inp,outp,kw,dw))\n",
      "mlp:add(nn.Tanh())\n",
      "mlp:add(nn.Linear(50,25))\n",
      "mlp:add(nn.RluMax())\n",
      "mlp:add(nn.Linear(25,2))\n",
      "--mlp:add(nn.parallel)\n",
      "mlp:add(nn.Mean(1))\n",
      "--mlp:add(nn.Mean(2))\n",
      "mlp2 = nn.TemporalSubSampling (inp,kw,dw)\n",
      "x=torch.rand(8,inp) -- a sequence of 7 elements\n",
      "y=torch.rand(8,1)\n",
      "--print(y)\n",
      "--print(x)\n",
      "--print(mlp2:forward(x))\n",
      "--print(mlp:forward(x))\n",
      "model = mlp\n",
      "--print(x)\n",
      "--print (trainData)\n",
      "\n",
      "\n"
     ],
     "language": "python",
     "metadata": {},
     "outputs": [],
     "prompt_number": 4
    },
    {
     "cell_type": "code",
     "collapsed": false,
     "input": [
      "\n",
      "mlp = nn.Sequential()\n",
      "mlp:add( nn.Linear(10, 25) ) -- 10 input, 25 hidden units\n",
      "mlp:add( nn.Tanh() ) -- some hyperbolic tangent transfer function\n",
      "mlp:add( nn.Linear(25, 1) ) -- 1 output\n",
      "\n",
      "--print(mlp:forward(torch.randn(10,10)))\n",
      "--print(model)\n",
      "--[[\n",
      "\n",
      "\n",
      "\n",
      "ninputs = 128\n",
      "noutputs = 1\n",
      "nhidden = 300\n",
      "--MLP\n",
      "model = nn.Sequential()\n",
      "model:add(nn.Reshape(ninputs))\n",
      "model:add(nn.Linear(ninputs,nhidden))\n",
      "\n",
      "model:add(nn.ReLU())\n",
      "model:add(nn.Linear(nhidden, noutputs))\n",
      "model:add(nn.LogSoftMax())\n",
      "--]]"
     ],
     "language": "python",
     "metadata": {},
     "outputs": [],
     "prompt_number": 5
    },
    {
     "cell_type": "code",
     "collapsed": false,
     "input": [
      "--Step 3: Defne Our Loss Function\n",
      "criterion = nn.ClassNLLCriterion()"
     ],
     "language": "python",
     "metadata": {},
     "outputs": [],
     "prompt_number": 6
    },
    {
     "cell_type": "code",
     "collapsed": false,
     "input": [
      "-- classes\n",
      "--classes = {'Classical','Jazz'}\n",
      "--Obtained from GetTrainAndTestData\n",
      "\n",
      "-- This matrix records the current confusion across classes\n",
      "confusion = optim.ConfusionMatrix(classes)\n",
      "print(confusion)\n",
      "-- Log results to files\n",
      "trainLogger = optim.Logger(paths.concat('.', 'train.log'))\n",
      "testLogger = optim.Logger(paths.concat('.', 'test.log'))\n",
      "\n",
      "-- Retrieve parameters and gradients:\n",
      "-- this extracts and flattens all the trainable parameters of the mode\n",
      "-- into a 1-dim vector\n",
      "if model then\n",
      "   parameters,gradParameters = model:getParameters()\n",
      "end"
     ],
     "language": "python",
     "metadata": {},
     "outputs": [
      {
       "metadata": {},
       "output_type": "pyout",
       "prompt_number": 7,
       "text": [
        "ConfusionMatrix:\n",
        "[[       0       0]   nan% \t[class: 1]\n",
        " [       0       0]]  nan% \t[class: 2]\n",
        " + average row correct: nan% \n",
        " + average rowUcol correct (VOC measure): nan% \n",
        " + global correct: nan%\n",
        "{\n",
        "  averageUnionValid : nan\n",
        "  _targ_idx : LongTensor - empty\n",
        "  valids : FloatTensor - size: 2\n",
        "  classes : \n",
        "    {\n",
        "      1 : 1\n",
        "      2 : 2\n",
        "    }\n",
        "  _target : FloatTensor - empty\n",
        "  mat : FloatTensor - size: 2x2\n",
        "  _pred_idx : LongTensor - empty\n",
        "  _max : FloatTensor - empty\n",
        "  unionvalids : FloatTensor - size: 2\n",
        "  nclasses : 2\n",
        "  totalValid : nan\n",
        "  _prediction : FloatTensor - empty\n",
        "  averageValid : nan\n",
        "}\n"
       ]
      }
     ],
     "prompt_number": 7
    },
    {
     "cell_type": "code",
     "collapsed": false,
     "input": [
      "optimState = {\n",
      "    learningRate = 0.003,\n",
      "    weightDecay = 0.01,\n",
      "    momentum = 0.01,\n",
      "    learningRateDecay = 5e-7\n",
      "}\n",
      "optimMethod = optim.sgd\n",
      "--print(torch.randperm(11))"
     ],
     "language": "python",
     "metadata": {},
     "outputs": [],
     "prompt_number": 8
    },
    {
     "cell_type": "code",
     "collapsed": false,
     "input": [
      "epoch = 1\n",
      "function train()\n",
      "\n",
      "   -- epoch tracker\n",
      "   epoch = epoch or 1\n",
      "\n",
      "   -- local vars\n",
      "   local time = sys.clock()\n",
      "\n",
      "   -- set model to training mode (for modules that differ in training and testing, like Dropout)\n",
      "   model:training()\n",
      "   --print(#trainData)\n",
      "   -- shuffle at each epoch\n",
      "   shuffle = torch.randperm(trainData:size())\n",
      "   --print(shuffle:size(1) - #trainData)\n",
      "   -- do one epoch\n",
      "   --print('==> doing epoch on training data:')\n",
      "   --print(\"==> online epoch # \" .. epoch .. ' [batchSize = ' .. 64 .. ']')\n",
      "   --print(trainData:size())\n",
      "    \n",
      "   for t = 1, trainData:size() do\n",
      "        --break\n",
      "      --print (\"HERE\" .. shuffle[t])\n",
      "      -- disp progress\n",
      "      xlua.progress(t, trainData:size())\n",
      "      --for ts = 1,trainData[shuffle[t]]:size(2),64 do\n",
      "      -- create mini batch\n",
      "      \n",
      "        \n",
      "        \n",
      "      --local inputs = {}\n",
      "      --local targets = {}\n",
      "\n",
      "      --for i = t,math.min(t+64-1,trainData:size()) do\n",
      "         -- load new sample\n",
      "         --local input = trainData.Songs[shuffle[i]]\n",
      "         --local target = trainData.Labels[shuffle[i]]\n",
      "         --input = input:double()\n",
      "         --table.insert(inputs, input)\n",
      "         --table.insert(targets, target)\n",
      "      --end\n",
      "    \n",
      "        \n",
      "        \n",
      "        \n",
      "        \n",
      "        \n",
      "       \n",
      "      local inputs = {}\n",
      "      inputs[1] = trainData.Songs[shuffle[t]]\n",
      "      --print(inputs[0]:size(2))\n",
      "      local targets = {}\n",
      "      targets[1] = trainData.Labels[shuffle[t]]\n",
      "        \n",
      "        \n",
      "        \n",
      "        \n",
      "    --print(inputs)\n",
      "    -- print(targets)\n",
      "\n",
      "      -- create closure to evaluate f(X) and df/dX\n",
      "      local feval = function(x)\n",
      "                       -- get new parameters\n",
      "                       if x ~= parameters then\n",
      "                          parameters:copy(x)\n",
      "                       end\n",
      "\n",
      "                       -- reset gradients\n",
      "                       gradParameters:zero()\n",
      "\n",
      "                       -- f is the average of all criterions\n",
      "                       local f = 0\n",
      "\n",
      "                       --print(\"Evaluating mini-batch\")\n",
      "                       -- evaluate function for complete mini batch\n",
      "                       for i = 1,#inputs do\n",
      "                          -- estimate f   \n",
      "                          --print(\"Calculating output via mode:forward(inputs[i])\")\n",
      "                          local output = model:forward(inputs[i])\n",
      "                          --output = torch.reshape(output, #classes)\n",
      "                          --Maybe have to reshape outpit\n",
      "                          \n",
      "                          --print(\"Calculating error\")\n",
      "                          local err = criterion:forward(output, targets[i])\n",
      "                          f = f + err\n",
      "\n",
      "                          \n",
      "                          -- estimate df/dW\n",
      "                          local df_do = criterion:backward(output, targets[i])\n",
      "                          model:backward(inputs[i], df_do)\n",
      "\n",
      "                          -- update confusion\n",
      "                          confusion:add(output, targets[i])\n",
      "                       end\n",
      "\n",
      "                       -- normalize gradients and f(X)\n",
      "                       gradParameters:div(#inputs)\n",
      "                       f = f/#inputs\n",
      "\n",
      "                       --print(\"Returning from feval\")\n",
      "                       -- return f and df/dX\n",
      "                       return f,gradParameters\n",
      "                    end\n",
      "\n",
      "        config = {learningRate = 0.003, weightDecay = 0.01, \n",
      "            momentum = 0.01, learningRateDecay = 5e-7}\n",
      "        --print(\"Before optim.sgd\")\n",
      "        optim.sgd(feval, parameters, config)\n",
      "        --print(\"After optim.sgd\")\n",
      "   end\n",
      "\n",
      "    --print(\"Before taking time\")\n",
      "    \n",
      "   -- time taken\n",
      "   time = sys.clock() - time\n",
      "   time = time / #trainData\n",
      "   --print(\"\\n==> time to learn 1 sample = \" .. (time*1000) .. 'ms')\n",
      "\n",
      "   -- print confusion matrix\n",
      "   print(confusion)\n",
      "\n",
      "   -- update logger/plot\n",
      "   trainLogger:add{['% mean class accuracy (train set)'] = confusion.totalValid * 100}\n",
      "   if true then\n",
      "      trainLogger:style{['% mean class accuracy (train set)'] = '-'}\n",
      "      trainLogger:plot()\n",
      "   end\n",
      "\n",
      "   -- save/log current net\n",
      "   local filename = paths.concat('.', 'model.net')\n",
      "   os.execute('mkdir -p ' .. sys.dirname(filename))\n",
      "   print('==> saving model to '..filename)\n",
      "   torch.save(filename, model)\n",
      "\n",
      "   -- next epoch\n",
      "   confusion:zero()\n",
      "   epoch = epoch + 1\n",
      "end"
     ],
     "language": "python",
     "metadata": {},
     "outputs": [],
     "prompt_number": 9
    },
    {
     "cell_type": "code",
     "collapsed": false,
     "input": [
      "function test()\n",
      "   -- local vars\n",
      "   local time = sys.clock()\n",
      "\n",
      "   -- averaged param use?\n",
      "   if average then\n",
      "      cachedparams = parameters:clone()\n",
      "      parameters:copy(average)\n",
      "   end\n",
      "\n",
      "   -- set model to evaluate mode (for modules that differ in training and testing, like Dropout)\n",
      "   model:evaluate()\n",
      "  print(testData:size())\n",
      "   -- test over test data\n",
      "   print('==> testing on test set:')\n",
      "   for t = 1,testData:size() do\n",
      "      -- disp progress\n",
      "      xlua.progress(t, testData:size())\n",
      "\n",
      "      -- get new sample\n",
      "      local input = testData.Songs[t]\n",
      "      --input = input:double()\n",
      "      local target = testData.Labels[t]\n",
      "\n",
      "      -- test sample\n",
      "      local pred = model:forward(input)\n",
      "      confusion:add(pred, target)\n",
      "   end\n",
      "\n",
      "   -- timing\n",
      "   time = sys.clock() - time\n",
      "   time = time / testData:size()\n",
      "   print(\"\\n==> time to test 1 sample = \" .. (time*1000) .. 'ms')\n",
      "\n",
      "   -- print confusion matrix\n",
      "   print(confusion)\n",
      "\n",
      "   -- update log/plot\n",
      "   testLogger:add{['% mean class accuracy (test set)'] = confusion.totalValid * 100}\n",
      "   if true then\n",
      "      testLogger:style{['% mean class accuracy (test set)'] = '-'}\n",
      "      testLogger:plot()\n",
      "   end\n",
      "\n",
      "   -- averaged param use?\n",
      "   if average then\n",
      "      -- restore parameters\n",
      "      parameters:copy(cachedparams)\n",
      "   end\n",
      "   \n",
      "   -- next iteration:\n",
      "   confusion:zero()\n",
      "end"
     ],
     "language": "python",
     "metadata": {},
     "outputs": [],
     "prompt_number": 10
    },
    {
     "cell_type": "code",
     "collapsed": false,
     "input": [
      "for i=1,4 do\n",
      "    train()\n",
      "end\n",
      "test()"
     ],
     "language": "python",
     "metadata": {},
     "outputs": [
      {
       "metadata": {},
       "output_type": "pyout",
       "prompt_number": 12,
       "text": [
        " ** On entry to SGEMM  parameter number 10 had an illegal value\n"
       ]
      },
      {
       "metadata": {},
       "output_type": "pyout",
       "prompt_number": 12,
       "text": [
        " ** On entry to SGEMM  parameter number 10 had an illegal value\n"
       ]
      },
      {
       "metadata": {},
       "output_type": "pyout",
       "prompt_number": 12,
       "text": [
        " ** On entry to SGEMM  parameter number 10 had an illegal value\n"
       ]
      },
      {
       "metadata": {},
       "output_type": "pyout",
       "prompt_number": 12,
       "text": [
        " ** On entry to SGEMM  parameter number 10 had an illegal value\n"
       ]
      },
      {
       "metadata": {},
       "output_type": "pyout",
       "prompt_number": 12,
       "text": [
        " ** On entry to SGEMM  parameter number 10 had an illegal value\n"
       ]
      },
      {
       "metadata": {},
       "output_type": "pyout",
       "prompt_number": 12,
       "text": [
        " ** On entry to SGEMM  parameter number 10 had an illegal value\n"
       ]
      },
      {
       "metadata": {},
       "output_type": "pyout",
       "prompt_number": 12,
       "text": [
        " ** On entry to SGEMM  parameter number 10 had an illegal value\n"
       ]
      },
      {
       "metadata": {},
       "output_type": "pyout",
       "prompt_number": 12,
       "text": [
        " ** On entry to SGEMM  parameter number 10 had an illegal value\n"
       ]
      },
      {
       "metadata": {},
       "output_type": "pyout",
       "prompt_number": 12,
       "text": [
        " ** On entry to SGEMM  parameter number 10 had an illegal value\n",
        " ** On entry to SGEMM  parameter number 10 had an illegal value\n"
       ]
      },
      {
       "metadata": {},
       "output_type": "pyout",
       "prompt_number": 12,
       "text": [
        " ** On entry to SGEMM  parameter number 10 had an illegal value\n"
       ]
      },
      {
       "metadata": {},
       "output_type": "pyout",
       "prompt_number": 12,
       "text": [
        " ** On entry to SGEMM  parameter number 10 had an illegal value\n"
       ]
      },
      {
       "metadata": {},
       "output_type": "pyout",
       "prompt_number": 12,
       "text": [
        " ** On entry to SGEMM  parameter number 10 had an illegal value\n"
       ]
      },
      {
       "metadata": {},
       "output_type": "pyout",
       "prompt_number": 12,
       "text": [
        " ** On entry to SGEMM  parameter number 10 had an illegal value\n"
       ]
      },
      {
       "metadata": {},
       "output_type": "pyout",
       "prompt_number": 12,
       "text": [
        " ** On entry to SGEMM  parameter number 10 had an illegal value\n",
        " ** On entry to SGEMM  parameter number 10 had an illegal value\n"
       ]
      },
      {
       "metadata": {},
       "output_type": "pyout",
       "prompt_number": 12,
       "text": [
        " ** On entry to SGEMM  parameter number 10 had an illegal value\n",
        " ** On entry to SGEMM  parameter number 10 had an illegal value\n"
       ]
      },
      {
       "metadata": {},
       "output_type": "pyout",
       "prompt_number": 12,
       "text": [
        " ** On entry to SGEMM  parameter number 10 had an illegal value\n"
       ]
      },
      {
       "metadata": {},
       "output_type": "pyout",
       "prompt_number": 12,
       "text": [
        " ** On entry to SGEMM  parameter number 10 had an illegal value\n"
       ]
      },
      {
       "metadata": {},
       "output_type": "pyout",
       "prompt_number": 12,
       "text": [
        " ** On entry to SGEMM  parameter number 10 had an illegal value\n",
        " ** On entry to SGEMM  parameter number 10 had an illegal value\n"
       ]
      },
      {
       "metadata": {},
       "output_type": "pyout",
       "prompt_number": 12,
       "text": [
        " ** On entry to SGEMM  parameter number 10 had an illegal value\n",
        " ** On entry to SGEMM  parameter number 10 had an illegal value\n",
        " ** On entry to SGEMM  parameter number 10 had an illegal value\n"
       ]
      },
      {
       "metadata": {},
       "output_type": "pyout",
       "prompt_number": 12,
       "text": [
        " ** On entry to SGEMM  parameter number 10 had an illegal value\n"
       ]
      },
      {
       "metadata": {},
       "output_type": "pyout",
       "prompt_number": 12,
       "text": [
        " ** On entry to SGEMM  parameter number 10 had an illegal value\n",
        " ** On entry to SGEMM  parameter number 10 had an illegal value\n"
       ]
      },
      {
       "metadata": {},
       "output_type": "pyout",
       "prompt_number": 12,
       "text": [
        " ** On entry to SGEMM  parameter number 10 had an illegal value\n",
        " ** On entry to SGEMM  parameter number 10 had an illegal value\n"
       ]
      },
      {
       "metadata": {},
       "output_type": "pyout",
       "prompt_number": 12,
       "text": [
        " ** On entry to SGEMM  parameter number 10 had an illegal value\n",
        " ** On entry to SGEMM  parameter number 10 had an illegal value\n"
       ]
      },
      {
       "metadata": {},
       "output_type": "pyout",
       "prompt_number": 12,
       "text": [
        " ** On entry to SGEMM  parameter number 10 had an illegal value\n"
       ]
      },
      {
       "metadata": {},
       "output_type": "pyout",
       "prompt_number": 12,
       "text": [
        " ** On entry to SGEMM  parameter number 10 had an illegal value\n",
        " ** On entry to SGEMM  parameter number 10 had an illegal value\n"
       ]
      },
      {
       "metadata": {},
       "output_type": "pyout",
       "prompt_number": 12,
       "text": [
        " ** On entry to SGEMM  parameter number 10 had an illegal value\n"
       ]
      },
      {
       "metadata": {},
       "output_type": "pyout",
       "prompt_number": 12,
       "text": [
        " ** On entry to SGEMM  parameter number 10 had an illegal value\n",
        " ** On entry to SGEMM  parameter number 10 had an illegal value\n"
       ]
      },
      {
       "metadata": {},
       "output_type": "pyout",
       "prompt_number": 12,
       "text": [
        " ** On entry to SGEMM  parameter number 10 had an illegal value\n"
       ]
      },
      {
       "metadata": {},
       "output_type": "pyout",
       "prompt_number": 12,
       "text": [
        " ** On entry to SGEMM  parameter number 10 had an illegal value\n"
       ]
      },
      {
       "metadata": {},
       "output_type": "pyout",
       "prompt_number": 12,
       "text": [
        " ** On entry to SGEMM  parameter number 10 had an illegal value\n"
       ]
      },
      {
       "metadata": {},
       "output_type": "pyout",
       "prompt_number": 12,
       "text": [
        " ** On entry to SGEMM  parameter number 10 had an illegal value\n"
       ]
      },
      {
       "metadata": {},
       "output_type": "pyout",
       "prompt_number": 12,
       "text": [
        " ** On entry to SGEMM  parameter number 10 had an illegal value\n",
        " ** On entry to SGEMM  parameter number 10 had an illegal value\n"
       ]
      },
      {
       "metadata": {},
       "output_type": "pyout",
       "prompt_number": 12,
       "text": [
        " ** On entry to SGEMM  parameter number 10 had an illegal value\n",
        " ** On entry to SGEMM  parameter number 10 had an illegal value\n"
       ]
      },
      {
       "metadata": {},
       "output_type": "pyout",
       "prompt_number": 12,
       "text": [
        " ** On entry to SGEMM  parameter number 10 had an illegal value\n"
       ]
      },
      {
       "metadata": {},
       "output_type": "pyout",
       "prompt_number": 12,
       "text": [
        " ** On entry to SGEMM  parameter number 10 had an illegal value\n"
       ]
      },
      {
       "metadata": {},
       "output_type": "pyout",
       "prompt_number": 12,
       "text": [
        " ** On entry to SGEMM  parameter number 10 had an illegal value\n"
       ]
      },
      {
       "metadata": {},
       "output_type": "pyout",
       "prompt_number": 12,
       "text": [
        " ** On entry to SGEMM  parameter number 10 had an illegal value\n",
        " ** On entry to SGEMM  parameter number 10 had an illegal value\n"
       ]
      },
      {
       "metadata": {},
       "output_type": "pyout",
       "prompt_number": 12,
       "text": [
        " ** On entry to SGEMM  parameter number 10 had an illegal value\n"
       ]
      },
      {
       "metadata": {},
       "output_type": "pyout",
       "prompt_number": 12,
       "text": [
        " ** On entry to SGEMM  parameter number 10 had an illegal value\n",
        " ** On entry to SGEMM  parameter number 10 had an illegal value\n"
       ]
      },
      {
       "metadata": {},
       "output_type": "pyout",
       "prompt_number": 12,
       "text": [
        " ** On entry to SGEMM  parameter number 10 had an illegal value\n"
       ]
      },
      {
       "metadata": {},
       "output_type": "pyout",
       "prompt_number": 12,
       "text": [
        " ** On entry to SGEMM  parameter number 10 had an illegal value\n"
       ]
      },
      {
       "metadata": {},
       "output_type": "pyout",
       "prompt_number": 12,
       "text": [
        " ** On entry to SGEMM  parameter number 10 had an illegal value\n"
       ]
      },
      {
       "metadata": {},
       "output_type": "pyout",
       "prompt_number": 12,
       "text": [
        " ** On entry to SGEMM  parameter number 10 had an illegal value\n"
       ]
      },
      {
       "metadata": {},
       "output_type": "pyout",
       "prompt_number": 12,
       "text": [
        " ** On entry to SGEMM  parameter number 10 had an illegal value\n"
       ]
      },
      {
       "metadata": {},
       "output_type": "pyout",
       "prompt_number": 12,
       "text": [
        " ** On entry to SGEMM  parameter number 10 had an illegal value\n"
       ]
      },
      {
       "metadata": {},
       "output_type": "pyout",
       "prompt_number": 12,
       "text": [
        " ** On entry to SGEMM  parameter number 10 had an illegal value\n"
       ]
      },
      {
       "metadata": {},
       "output_type": "pyout",
       "prompt_number": 12,
       "text": [
        " ** On entry to SGEMM  parameter number 10 had an illegal value\n"
       ]
      },
      {
       "metadata": {},
       "output_type": "pyout",
       "prompt_number": 12,
       "text": [
        " ** On entry to SGEMM  parameter number 10 had an illegal value\n"
       ]
      },
      {
       "metadata": {},
       "output_type": "pyout",
       "prompt_number": 12,
       "text": [
        " ** On entry to SGEMM  parameter number 10 had an illegal value\n"
       ]
      },
      {
       "metadata": {},
       "output_type": "pyout",
       "prompt_number": 12,
       "text": [
        " ** On entry to SGEMM  parameter number 10 had an illegal value\n"
       ]
      },
      {
       "metadata": {},
       "output_type": "pyout",
       "prompt_number": 12,
       "text": [
        " ** On entry to SGEMM  parameter number 10 had an illegal value\n"
       ]
      },
      {
       "metadata": {},
       "output_type": "pyout",
       "prompt_number": 12,
       "text": [
        " ** On entry to SGEMM  parameter number 10 had an illegal value\n"
       ]
      },
      {
       "metadata": {},
       "output_type": "pyout",
       "prompt_number": 12,
       "text": [
        " ** On entry to SGEMM  parameter number 10 had an illegal value\n"
       ]
      },
      {
       "metadata": {},
       "output_type": "pyout",
       "prompt_number": 12,
       "text": [
        " ** On entry to SGEMM  parameter number 10 had an illegal value\n",
        " ** On entry to SGEMM  parameter number 10 had an illegal value\n"
       ]
      },
      {
       "metadata": {},
       "output_type": "pyout",
       "prompt_number": 12,
       "text": [
        " ** On entry to SGEMM  parameter number 10 had an illegal value\n"
       ]
      },
      {
       "metadata": {},
       "output_type": "pyout",
       "prompt_number": 12,
       "text": [
        " ** On entry to SGEMM  parameter number 10 had an illegal value\n"
       ]
      },
      {
       "metadata": {},
       "output_type": "pyout",
       "prompt_number": 12,
       "text": [
        " ** On entry to SGEMM  parameter number 10 had an illegal value\n",
        " ** On entry to SGEMM  parameter number 10 had an illegal value\n"
       ]
      },
      {
       "metadata": {},
       "output_type": "pyout",
       "prompt_number": 12,
       "text": [
        " ** On entry to SGEMM  parameter number 10 had an illegal value\n",
        " ** On entry to SGEMM  parameter number 10 had an illegal value\n"
       ]
      },
      {
       "metadata": {},
       "output_type": "pyout",
       "prompt_number": 12,
       "text": [
        " ** On entry to SGEMM  parameter number 10 had an illegal value\n",
        " ** On entry to SGEMM  parameter number 10 had an illegal value\n"
       ]
      },
      {
       "metadata": {},
       "output_type": "pyout",
       "prompt_number": 12,
       "text": [
        " ** On entry to SGEMM  parameter number 10 had an illegal value\n",
        " ** On entry to SGEMM  parameter number 10 had an illegal value\n",
        " ** On entry to SGEMM  parameter number 10 had an illegal value\n"
       ]
      },
      {
       "metadata": {},
       "output_type": "pyout",
       "prompt_number": 12,
       "text": [
        " ** On entry to SGEMM  parameter number 10 had an illegal value\n"
       ]
      },
      {
       "metadata": {},
       "output_type": "pyout",
       "prompt_number": 12,
       "text": [
        " ** On entry to SGEMM  parameter number 10 had an illegal value\n",
        " ** On entry to SGEMM  parameter number 10 had an illegal value\n"
       ]
      },
      {
       "metadata": {},
       "output_type": "pyout",
       "prompt_number": 12,
       "text": [
        " ** On entry to SGEMM  parameter number 10 had an illegal value\n",
        " ** On entry to SGEMM  parameter number 10 had an illegal value\n"
       ]
      },
      {
       "metadata": {},
       "output_type": "pyout",
       "prompt_number": 12,
       "text": [
        " ** On entry to SGEMM  parameter number 10 had an illegal value\n",
        " ** On entry to SGEMM  parameter number 10 had an illegal value\n"
       ]
      },
      {
       "metadata": {},
       "output_type": "pyout",
       "prompt_number": 12,
       "text": [
        " ** On entry to SGEMM  parameter number 10 had an illegal value\n",
        " ** On entry to SGEMM  parameter number 10 had an illegal value\n"
       ]
      },
      {
       "metadata": {},
       "output_type": "pyout",
       "prompt_number": 12,
       "text": [
        " ** On entry to SGEMM  parameter number 10 had an illegal value\n",
        " ** On entry to SGEMM  parameter number 10 had an illegal value\n"
       ]
      },
      {
       "metadata": {},
       "output_type": "pyout",
       "prompt_number": 12,
       "text": [
        " ** On entry to SGEMM  parameter number 10 had an illegal value\n",
        " ** On entry to SGEMM  parameter number 10 had an illegal value\n"
       ]
      },
      {
       "metadata": {},
       "output_type": "pyout",
       "prompt_number": 12,
       "text": [
        " ** On entry to SGEMM  parameter number 10 had an illegal value\n",
        " ** On entry to SGEMM  parameter number 10 had an illegal value\n"
       ]
      },
      {
       "metadata": {},
       "output_type": "pyout",
       "prompt_number": 12,
       "text": [
        " ** On entry to SGEMM  parameter number 10 had an illegal value\n",
        " ** On entry to SGEMM  parameter number 10 had an illegal value\n"
       ]
      },
      {
       "metadata": {},
       "output_type": "pyout",
       "prompt_number": 12,
       "text": [
        " ** On entry to SGEMM  parameter number 10 had an illegal value\n"
       ]
      },
      {
       "metadata": {},
       "output_type": "pyout",
       "prompt_number": 12,
       "text": [
        " ** On entry to SGEMM  parameter number 10 had an illegal value\n"
       ]
      },
      {
       "metadata": {},
       "output_type": "pyout",
       "prompt_number": 12,
       "text": [
        " ** On entry to SGEMM  parameter number 10 had an illegal value\n"
       ]
      },
      {
       "metadata": {},
       "output_type": "pyout",
       "prompt_number": 12,
       "text": [
        " ** On entry to SGEMM  parameter number 10 had an illegal value\n"
       ]
      },
      {
       "metadata": {},
       "output_type": "pyout",
       "prompt_number": 12,
       "text": [
        " ** On entry to SGEMM  parameter number 10 had an illegal value\n"
       ]
      },
      {
       "metadata": {},
       "output_type": "pyout",
       "prompt_number": 12,
       "text": [
        " ** On entry to SGEMM  parameter number 10 had an illegal value\n"
       ]
      },
      {
       "metadata": {},
       "output_type": "pyout",
       "prompt_number": 12,
       "text": [
        " ** On entry to SGEMM  parameter number 10 had an illegal value\n"
       ]
      },
      {
       "metadata": {},
       "output_type": "pyout",
       "prompt_number": 12,
       "text": [
        " ** On entry to SGEMM  parameter number 10 had an illegal value\n"
       ]
      },
      {
       "metadata": {},
       "output_type": "pyout",
       "prompt_number": 12,
       "text": [
        " ** On entry to SGEMM  parameter number 10 had an illegal value\n"
       ]
      },
      {
       "metadata": {},
       "output_type": "pyout",
       "prompt_number": 12,
       "text": [
        " ** On entry to SGEMM  parameter number 10 had an illegal value\n"
       ]
      },
      {
       "metadata": {},
       "output_type": "pyout",
       "prompt_number": 12,
       "text": [
        " ** On entry to SGEMM  parameter number 10 had an illegal value\n",
        " ** On entry to SGEMM  parameter number 10 had an illegal value\n"
       ]
      },
      {
       "metadata": {},
       "output_type": "pyout",
       "prompt_number": 12,
       "text": [
        " ** On entry to SGEMM  parameter number 10 had an illegal value\n"
       ]
      },
      {
       "metadata": {},
       "output_type": "pyout",
       "prompt_number": 12,
       "text": [
        " ** On entry to SGEMM  parameter number 10 had an illegal value\n"
       ]
      },
      {
       "metadata": {},
       "output_type": "pyout",
       "prompt_number": 12,
       "text": [
        " ** On entry to SGEMM  parameter number 10 had an illegal value\n"
       ]
      },
      {
       "metadata": {},
       "output_type": "pyout",
       "prompt_number": 12,
       "text": [
        " ** On entry to SGEMM  parameter number 10 had an illegal value\n"
       ]
      },
      {
       "metadata": {},
       "output_type": "pyout",
       "prompt_number": 12,
       "text": [
        " ** On entry to SGEMM  parameter number 10 had an illegal value\n",
        " ** On entry to SGEMM  parameter number 10 had an illegal value\n"
       ]
      },
      {
       "metadata": {},
       "output_type": "pyout",
       "prompt_number": 12,
       "text": [
        " ** On entry to SGEMM  parameter number 10 had an illegal value\n",
        " ** On entry to SGEMM  parameter number 10 had an illegal value\n"
       ]
      },
      {
       "metadata": {},
       "output_type": "pyout",
       "prompt_number": 12,
       "text": [
        " ** On entry to SGEMM  parameter number 10 had an illegal value\n",
        " ** On entry to SGEMM  parameter number 10 had an illegal value\n"
       ]
      },
      {
       "metadata": {},
       "output_type": "pyout",
       "prompt_number": 12,
       "text": [
        " ** On entry to SGEMM  parameter number 10 had an illegal value\n",
        " ** On entry to SGEMM  parameter number 10 had an illegal value\n"
       ]
      },
      {
       "metadata": {},
       "output_type": "pyout",
       "prompt_number": 12,
       "text": [
        " ** On entry to SGEMM  parameter number 10 had an illegal value\n",
        " ** On entry to SGEMM  parameter number 10 had an illegal value\n",
        " ** On entry to SGEMM  parameter number 10 had an illegal value\n",
        " ** On entry to SGEMM  parameter number 10 had an illegal value\n"
       ]
      },
      {
       "metadata": {},
       "output_type": "pyout",
       "prompt_number": 12,
       "text": [
        " ** On entry to SGEMM  parameter number 10 had an illegal value\n",
        " ** On entry to SGEMM  parameter number 10 had an illegal value\n",
        " ** On entry to SGEMM  parameter number 10 had an illegal value\n"
       ]
      },
      {
       "metadata": {},
       "output_type": "pyout",
       "prompt_number": 12,
       "text": [
        " ** On entry to SGEMM  parameter number 10 had an illegal value\n"
       ]
      },
      {
       "metadata": {},
       "output_type": "pyout",
       "prompt_number": 12,
       "text": [
        " ** On entry to SGEMM  parameter number 10 had an illegal value\n",
        " ** On entry to SGEMM  parameter number 10 had an illegal value\n"
       ]
      },
      {
       "metadata": {},
       "output_type": "pyout",
       "prompt_number": 12,
       "text": [
        " ** On entry to SGEMM  parameter number 10 had an illegal value\n"
       ]
      },
      {
       "metadata": {},
       "output_type": "pyout",
       "prompt_number": 12,
       "text": [
        " ** On entry to SGEMM  parameter number 10 had an illegal value\n"
       ]
      },
      {
       "metadata": {},
       "output_type": "pyout",
       "prompt_number": 12,
       "text": [
        " ** On entry to SGEMM  parameter number 10 had an illegal value\n",
        " ** On entry to SGEMM  parameter number 10 had an illegal value\n"
       ]
      },
      {
       "metadata": {},
       "output_type": "pyout",
       "prompt_number": 12,
       "text": [
        " ** On entry to SGEMM  parameter number 10 had an illegal value\n",
        " ** On entry to SGEMM  parameter number 10 had an illegal value\n"
       ]
      },
      {
       "metadata": {},
       "output_type": "pyout",
       "prompt_number": 12,
       "text": [
        " ** On entry to SGEMM  parameter number 10 had an illegal value\n"
       ]
      },
      {
       "metadata": {},
       "output_type": "pyout",
       "prompt_number": 12,
       "text": [
        " ** On entry to SGEMM  parameter number 10 had an illegal value\n"
       ]
      },
      {
       "metadata": {},
       "output_type": "pyout",
       "prompt_number": 12,
       "text": [
        " ** On entry to SGEMM  parameter number 10 had an illegal value\n"
       ]
      },
      {
       "metadata": {},
       "output_type": "pyout",
       "prompt_number": 12,
       "text": [
        " ** On entry to SGEMM  parameter number 10 had an illegal value\n"
       ]
      },
      {
       "metadata": {},
       "output_type": "pyout",
       "prompt_number": 12,
       "text": [
        " ** On entry to SGEMM  parameter number 10 had an illegal value\n"
       ]
      },
      {
       "metadata": {},
       "output_type": "pyout",
       "prompt_number": 12,
       "text": [
        " ** On entry to SGEMM  parameter number 10 had an illegal value\n"
       ]
      },
      {
       "metadata": {},
       "output_type": "pyout",
       "prompt_number": 12,
       "text": [
        " ** On entry to SGEMM  parameter number 10 had an illegal value\n"
       ]
      },
      {
       "metadata": {},
       "output_type": "pyout",
       "prompt_number": 12,
       "text": [
        " ** On entry to SGEMM  parameter number 10 had an illegal value\n"
       ]
      },
      {
       "metadata": {},
       "output_type": "pyout",
       "prompt_number": 12,
       "text": [
        " ** On entry to SGEMM  parameter number 10 had an illegal value\n"
       ]
      },
      {
       "metadata": {},
       "output_type": "pyout",
       "prompt_number": 12,
       "text": [
        " ** On entry to SGEMM  parameter number 10 had an illegal value\n"
       ]
      },
      {
       "metadata": {},
       "output_type": "pyout",
       "prompt_number": 12,
       "text": [
        " ** On entry to SGEMM  parameter number 10 had an illegal value\n",
        " ** On entry to SGEMM  parameter number 10 had an illegal value\n"
       ]
      },
      {
       "metadata": {},
       "output_type": "pyout",
       "prompt_number": 12,
       "text": [
        " ** On entry to SGEMM  parameter number 10 had an illegal value\n",
        " ** On entry to SGEMM  parameter number 10 had an illegal value\n"
       ]
      },
      {
       "metadata": {},
       "output_type": "pyout",
       "prompt_number": 12,
       "text": [
        " ** On entry to SGEMM  parameter number 10 had an illegal value\n"
       ]
      },
      {
       "metadata": {},
       "output_type": "pyout",
       "prompt_number": 12,
       "text": [
        " ** On entry to SGEMM  parameter number 10 had an illegal value\n"
       ]
      },
      {
       "metadata": {},
       "output_type": "pyout",
       "prompt_number": 12,
       "text": [
        " ** On entry to SGEMM  parameter number 10 had an illegal value\n"
       ]
      },
      {
       "metadata": {},
       "output_type": "pyout",
       "prompt_number": 12,
       "text": [
        " ** On entry to SGEMM  parameter number 10 had an illegal value\n"
       ]
      },
      {
       "metadata": {},
       "output_type": "pyout",
       "prompt_number": 12,
       "text": [
        " ** On entry to SGEMM  parameter number 10 had an illegal value\n",
        " ** On entry to SGEMM  parameter number 10 had an illegal value\n"
       ]
      },
      {
       "metadata": {},
       "output_type": "pyout",
       "prompt_number": 12,
       "text": [
        " ** On entry to SGEMM  parameter number 10 had an illegal value\n",
        " ** On entry to SGEMM  parameter number 10 had an illegal value\n"
       ]
      },
      {
       "metadata": {},
       "output_type": "pyout",
       "prompt_number": 12,
       "text": [
        " ** On entry to SGEMM  parameter number 10 had an illegal value\n"
       ]
      },
      {
       "metadata": {},
       "output_type": "pyout",
       "prompt_number": 12,
       "text": [
        " ** On entry to SGEMM  parameter number 10 had an illegal value\n"
       ]
      },
      {
       "metadata": {},
       "output_type": "pyout",
       "prompt_number": 12,
       "text": [
        " ** On entry to SGEMM  parameter number 10 had an illegal value\n",
        " ** On entry to SGEMM  parameter number 10 had an illegal value\n"
       ]
      },
      {
       "metadata": {},
       "output_type": "pyout",
       "prompt_number": 12,
       "text": [
        " ** On entry to SGEMM  parameter number 10 had an illegal value\n",
        " ** On entry to SGEMM  parameter number 10 had an illegal value\n"
       ]
      },
      {
       "metadata": {},
       "output_type": "pyout",
       "prompt_number": 12,
       "text": [
        " ** On entry to SGEMM  parameter number 10 had an illegal value\n",
        " ** On entry to SGEMM  parameter number 10 had an illegal value\n"
       ]
      },
      {
       "metadata": {},
       "output_type": "pyout",
       "prompt_number": 12,
       "text": [
        " ** On entry to SGEMM  parameter number 10 had an illegal value\n",
        " ** On entry to SGEMM  parameter number 10 had an illegal value\n"
       ]
      },
      {
       "metadata": {},
       "output_type": "pyout",
       "prompt_number": 12,
       "text": [
        " ** On entry to SGEMM  parameter number 10 had an illegal value\n",
        " ** On entry to SGEMM  parameter number 10 had an illegal value\n"
       ]
      },
      {
       "metadata": {},
       "output_type": "pyout",
       "prompt_number": 12,
       "text": [
        " ** On entry to SGEMM  parameter number 10 had an illegal value\n",
        " ** On entry to SGEMM  parameter number 10 had an illegal value\n"
       ]
      },
      {
       "metadata": {},
       "output_type": "pyout",
       "prompt_number": 12,
       "text": [
        " ** On entry to SGEMM  parameter number 10 had an illegal value\n"
       ]
      },
      {
       "metadata": {},
       "output_type": "pyout",
       "prompt_number": 12,
       "text": [
        " ** On entry to SGEMM  parameter number 10 had an illegal value\n"
       ]
      },
      {
       "metadata": {},
       "output_type": "pyout",
       "prompt_number": 12,
       "text": [
        " ** On entry to SGEMM  parameter number 10 had an illegal value\n"
       ]
      },
      {
       "metadata": {},
       "output_type": "pyout",
       "prompt_number": 12,
       "text": [
        " ** On entry to SGEMM  parameter number 10 had an illegal value\n"
       ]
      },
      {
       "metadata": {},
       "output_type": "pyout",
       "prompt_number": 12,
       "text": [
        " ** On entry to SGEMM  parameter number 10 had an illegal value\n"
       ]
      },
      {
       "metadata": {},
       "output_type": "pyout",
       "prompt_number": 12,
       "text": [
        " ** On entry to SGEMM  parameter number 10 had an illegal value\n",
        " ** On entry to SGEMM  parameter number 10 had an illegal value\n",
        " ** On entry to SGEMM  parameter number 10 had an illegal value\n"
       ]
      },
      {
       "metadata": {},
       "output_type": "pyout",
       "prompt_number": 12,
       "text": [
        " ** On entry to SGEMM  parameter number 10 had an illegal value\n",
        " ** On entry to SGEMM  parameter number 10 had an illegal value\n"
       ]
      },
      {
       "metadata": {},
       "output_type": "pyout",
       "prompt_number": 12,
       "text": [
        " ** On entry to SGEMM  parameter number 10 had an illegal value\n",
        " ** On entry to SGEMM  parameter number 10 had an illegal value\n"
       ]
      },
      {
       "metadata": {},
       "output_type": "pyout",
       "prompt_number": 12,
       "text": [
        " ** On entry to SGEMM  parameter number 10 had an illegal value\n",
        " ** On entry to SGEMM  parameter number 10 had an illegal value\n"
       ]
      },
      {
       "metadata": {},
       "output_type": "pyout",
       "prompt_number": 12,
       "text": [
        " ** On entry to SGEMM  parameter number 10 had an illegal value\n",
        " ** On entry to SGEMM  parameter number 10 had an illegal value\n"
       ]
      },
      {
       "metadata": {},
       "output_type": "pyout",
       "prompt_number": 12,
       "text": [
        " ** On entry to SGEMM  parameter number 10 had an illegal value\n"
       ]
      },
      {
       "metadata": {},
       "output_type": "pyout",
       "prompt_number": 12,
       "text": [
        " ** On entry to SGEMM  parameter number 10 had an illegal value\n"
       ]
      },
      {
       "metadata": {},
       "output_type": "pyout",
       "prompt_number": 12,
       "text": [
        " ** On entry to SGEMM  parameter number 10 had an illegal value\n"
       ]
      },
      {
       "metadata": {},
       "output_type": "pyout",
       "prompt_number": 12,
       "text": [
        " ** On entry to SGEMM  parameter number 10 had an illegal value\n"
       ]
      },
      {
       "metadata": {},
       "output_type": "pyout",
       "prompt_number": 12,
       "text": [
        " ** On entry to SGEMM  parameter number 10 had an illegal value\n",
        " ** On entry to SGEMM  parameter number 10 had an illegal value\n"
       ]
      },
      {
       "metadata": {},
       "output_type": "pyout",
       "prompt_number": 12,
       "text": [
        " ** On entry to SGEMM  parameter number 10 had an illegal value\n",
        " ** On entry to SGEMM  parameter number 10 had an illegal value\n"
       ]
      },
      {
       "metadata": {},
       "output_type": "pyout",
       "prompt_number": 12,
       "text": [
        " ** On entry to SGEMM  parameter number 10 had an illegal value\n",
        " ** On entry to SGEMM  parameter number 10 had an illegal value\n"
       ]
      },
      {
       "metadata": {},
       "output_type": "pyout",
       "prompt_number": 12,
       "text": [
        " ** On entry to SGEMM  parameter number 10 had an illegal value\n"
       ]
      },
      {
       "metadata": {},
       "output_type": "pyout",
       "prompt_number": 12,
       "text": [
        " ** On entry to SGEMM  parameter number 10 had an illegal value\n"
       ]
      },
      {
       "metadata": {},
       "output_type": "pyout",
       "prompt_number": 12,
       "text": [
        " ** On entry to SGEMM  parameter number 10 had an illegal value\n"
       ]
      },
      {
       "metadata": {},
       "output_type": "pyout",
       "prompt_number": 12,
       "text": [
        " ** On entry to SGEMM  parameter number 10 had an illegal value\n"
       ]
      },
      {
       "metadata": {},
       "output_type": "pyout",
       "prompt_number": 12,
       "text": [
        " ** On entry to SGEMM  parameter number 10 had an illegal value\n"
       ]
      },
      {
       "metadata": {},
       "output_type": "pyout",
       "prompt_number": 12,
       "text": [
        " ** On entry to SGEMM  parameter number 10 had an illegal value\n"
       ]
      },
      {
       "metadata": {},
       "output_type": "pyout",
       "prompt_number": 12,
       "text": [
        " ** On entry to SGEMM  parameter number 10 had an illegal value\n",
        " ** On entry to SGEMM  parameter number 10 had an illegal value\n"
       ]
      },
      {
       "metadata": {},
       "output_type": "pyout",
       "prompt_number": 12,
       "text": [
        " ** On entry to SGEMM  parameter number 10 had an illegal value\n",
        " ** On entry to SGEMM  parameter number 10 had an illegal value\n"
       ]
      },
      {
       "metadata": {},
       "output_type": "pyout",
       "prompt_number": 12,
       "text": [
        " ** On entry to SGEMM  parameter number 10 had an illegal value\n",
        " ** On entry to SGEMM  parameter number 10 had an illegal value\n"
       ]
      },
      {
       "metadata": {},
       "output_type": "pyout",
       "prompt_number": 12,
       "text": [
        " ** On entry to SGEMM  parameter number 10 had an illegal value\n"
       ]
      },
      {
       "metadata": {},
       "output_type": "pyout",
       "prompt_number": 12,
       "text": [
        " ** On entry to SGEMM  parameter number 10 had an illegal value\n"
       ]
      },
      {
       "metadata": {},
       "output_type": "pyout",
       "prompt_number": 12,
       "text": [
        " ** On entry to SGEMM  parameter number 10 had an illegal value\n"
       ]
      },
      {
       "metadata": {},
       "output_type": "pyout",
       "prompt_number": 12,
       "text": [
        " ** On entry to SGEMM  parameter number 10 had an illegal value\n"
       ]
      },
      {
       "metadata": {},
       "output_type": "pyout",
       "prompt_number": 12,
       "text": [
        " ** On entry to SGEMM  parameter number 10 had an illegal value\n"
       ]
      },
      {
       "metadata": {},
       "output_type": "pyout",
       "prompt_number": 12,
       "text": [
        " ** On entry to SGEMM  parameter number 10 had an illegal value\n"
       ]
      },
      {
       "metadata": {},
       "output_type": "pyout",
       "prompt_number": 12,
       "text": [
        " ** On entry to SGEMM  parameter number 10 had an illegal value\n"
       ]
      },
      {
       "metadata": {},
       "output_type": "pyout",
       "prompt_number": 12,
       "text": [
        " ** On entry to SGEMM  parameter number 10 had an illegal value\n"
       ]
      },
      {
       "metadata": {},
       "output_type": "pyout",
       "prompt_number": 12,
       "text": [
        " ** On entry to SGEMM  parameter number 10 had an illegal value\n"
       ]
      },
      {
       "metadata": {},
       "output_type": "pyout",
       "prompt_number": 12,
       "text": [
        " ** On entry to SGEMM  parameter number 10 had an illegal value\n"
       ]
      },
      {
       "metadata": {},
       "output_type": "pyout",
       "prompt_number": 12,
       "text": [
        " ** On entry to SGEMM  parameter number 10 had an illegal value\n",
        " ** On entry to SGEMM  parameter number 10 had an illegal value\n"
       ]
      },
      {
       "metadata": {},
       "output_type": "pyout",
       "prompt_number": 12,
       "text": [
        " ** On entry to SGEMM  parameter number 10 had an illegal value\n",
        " ** On entry to SGEMM  parameter number 10 had an illegal value\n"
       ]
      },
      {
       "metadata": {},
       "output_type": "pyout",
       "prompt_number": 12,
       "text": [
        " ** On entry to SGEMM  parameter number 10 had an illegal value\n"
       ]
      },
      {
       "metadata": {},
       "output_type": "pyout",
       "prompt_number": 12,
       "text": [
        " ** On entry to SGEMM  parameter number 10 had an illegal value\n",
        " ** On entry to SGEMM  parameter number 10 had an illegal value\n",
        " ** On entry to SGEMM  parameter number 10 had an illegal value\n"
       ]
      },
      {
       "metadata": {},
       "output_type": "pyout",
       "prompt_number": 12,
       "text": [
        " ** On entry to SGEMM  parameter number 10 had an illegal value\n",
        " ** On entry to SGEMM  parameter number 10 had an illegal value\n"
       ]
      },
      {
       "metadata": {},
       "output_type": "pyout",
       "prompt_number": 12,
       "text": [
        " ** On entry to SGEMM  parameter number 10 had an illegal value\n"
       ]
      },
      {
       "metadata": {},
       "output_type": "pyout",
       "prompt_number": 12,
       "text": [
        " ** On entry to SGEMM  parameter number 10 had an illegal value\n"
       ]
      },
      {
       "metadata": {},
       "output_type": "pyout",
       "prompt_number": 12,
       "text": [
        " ** On entry to SGEMM  parameter number 10 had an illegal value\n"
       ]
      },
      {
       "metadata": {},
       "output_type": "pyout",
       "prompt_number": 12,
       "text": [
        " ** On entry to SGEMM  parameter number 10 had an illegal value\n"
       ]
      },
      {
       "metadata": {},
       "output_type": "pyout",
       "prompt_number": 12,
       "text": [
        " ** On entry to SGEMM  parameter number 10 had an illegal value\n",
        " ** On entry to SGEMM  parameter number 10 had an illegal value\n"
       ]
      },
      {
       "metadata": {},
       "output_type": "pyout",
       "prompt_number": 12,
       "text": [
        " ** On entry to SGEMM  parameter number 10 had an illegal value\n",
        " ** On entry to SGEMM  parameter number 10 had an illegal value\n"
       ]
      },
      {
       "metadata": {},
       "output_type": "pyout",
       "prompt_number": 12,
       "text": [
        " ** On entry to SGEMM  parameter number 10 had an illegal value\n",
        " ** On entry to SGEMM  parameter number 10 had an illegal value\n"
       ]
      },
      {
       "metadata": {},
       "output_type": "pyout",
       "prompt_number": 12,
       "text": [
        " ** On entry to SGEMM  parameter number 10 had an illegal value\n"
       ]
      },
      {
       "metadata": {},
       "output_type": "pyout",
       "prompt_number": 12,
       "text": [
        " ** On entry to SGEMM  parameter number 10 had an illegal value\n"
       ]
      },
      {
       "metadata": {},
       "output_type": "pyout",
       "prompt_number": 12,
       "text": [
        " ** On entry to SGEMM  parameter number 10 had an illegal value\n",
        " ** On entry to SGEMM  parameter number 10 had an illegal value\n"
       ]
      },
      {
       "metadata": {},
       "output_type": "pyout",
       "prompt_number": 12,
       "text": [
        " ** On entry to SGEMM  parameter number 10 had an illegal value\n",
        " ** On entry to SGEMM  parameter number 10 had an illegal value\n"
       ]
      },
      {
       "metadata": {},
       "output_type": "pyout",
       "prompt_number": 12,
       "text": [
        " ** On entry to SGEMM  parameter number 10 had an illegal value\n"
       ]
      },
      {
       "metadata": {},
       "output_type": "pyout",
       "prompt_number": 12,
       "text": [
        " ** On entry to SGEMM  parameter number 10 had an illegal value\n"
       ]
      },
      {
       "metadata": {},
       "output_type": "pyout",
       "prompt_number": 12,
       "text": [
        " ** On entry to SGEMM  parameter number 10 had an illegal value\n"
       ]
      },
      {
       "metadata": {},
       "output_type": "pyout",
       "prompt_number": 12,
       "text": [
        " ** On entry to SGEMM  parameter number 10 had an illegal value\n"
       ]
      },
      {
       "metadata": {},
       "output_type": "pyout",
       "prompt_number": 12,
       "text": [
        " ** On entry to SGEMM  parameter number 10 had an illegal value\n",
        " ** On entry to SGEMM  parameter number 10 had an illegal value\n"
       ]
      },
      {
       "metadata": {},
       "output_type": "pyout",
       "prompt_number": 12,
       "text": [
        " ** On entry to SGEMM  parameter number 10 had an illegal value\n",
        " ** On entry to SGEMM  parameter number 10 had an illegal value\n"
       ]
      },
      {
       "metadata": {},
       "output_type": "pyout",
       "prompt_number": 12,
       "text": [
        " ** On entry to SGEMM  parameter number 10 had an illegal value\n"
       ]
      },
      {
       "metadata": {},
       "output_type": "pyout",
       "prompt_number": 12,
       "text": [
        " ** On entry to SGEMM  parameter number 10 had an illegal value\n"
       ]
      },
      {
       "metadata": {},
       "output_type": "pyout",
       "prompt_number": 12,
       "text": [
        " ** On entry to SGEMM  parameter number 10 had an illegal value\n",
        " ** On entry to SGEMM  parameter number 10 had an illegal value\n"
       ]
      },
      {
       "metadata": {},
       "output_type": "pyout",
       "prompt_number": 12,
       "text": [
        " ** On entry to SGEMM  parameter number 10 had an illegal value\n",
        " ** On entry to SGEMM  parameter number 10 had an illegal value\n"
       ]
      },
      {
       "metadata": {},
       "output_type": "pyout",
       "prompt_number": 12,
       "text": [
        " ** On entry to SGEMM  parameter number 10 had an illegal value\n",
        " ** On entry to SGEMM  parameter number 10 had an illegal value\n"
       ]
      },
      {
       "metadata": {},
       "output_type": "pyout",
       "prompt_number": 12,
       "text": [
        " ** On entry to SGEMM  parameter number 10 had an illegal value\n",
        " ** On entry to SGEMM  parameter number 10 had an illegal value\n"
       ]
      },
      {
       "metadata": {},
       "output_type": "pyout",
       "prompt_number": 12,
       "text": [
        " ** On entry to SGEMM  parameter number 10 had an illegal value\n",
        " ** On entry to SGEMM  parameter number 10 had an illegal value\n"
       ]
      },
      {
       "metadata": {},
       "output_type": "pyout",
       "prompt_number": 12,
       "text": [
        " ** On entry to SGEMM  parameter number 10 had an illegal value\n",
        " ** On entry to SGEMM  parameter number 10 had an illegal value\n"
       ]
      },
      {
       "metadata": {},
       "output_type": "pyout",
       "prompt_number": 12,
       "text": [
        " ** On entry to SGEMM  parameter number 10 had an illegal value\n",
        " ** On entry to SGEMM  parameter number 10 had an illegal value\n"
       ]
      },
      {
       "metadata": {},
       "output_type": "pyout",
       "prompt_number": 12,
       "text": [
        " ** On entry to SGEMM  parameter number 10 had an illegal value\n"
       ]
      },
      {
       "metadata": {},
       "output_type": "pyout",
       "prompt_number": 12,
       "text": [
        " ** On entry to SGEMM  parameter number 10 had an illegal value\n"
       ]
      },
      {
       "metadata": {},
       "output_type": "pyout",
       "prompt_number": 12,
       "text": [
        " ** On entry to SGEMM  parameter number 10 had an illegal value\n",
        " ** On entry to SGEMM  parameter number 10 had an illegal value\n"
       ]
      },
      {
       "metadata": {},
       "output_type": "pyout",
       "prompt_number": 12,
       "text": [
        " ** On entry to SGEMM  parameter number 10 had an illegal value\n"
       ]
      },
      {
       "metadata": {},
       "output_type": "pyout",
       "prompt_number": 12,
       "text": [
        " ** On entry to SGEMM  parameter number 10 had an illegal value\n"
       ]
      },
      {
       "metadata": {},
       "output_type": "pyout",
       "prompt_number": 12,
       "text": [
        " ** On entry to SGEMM  parameter number 10 had an illegal value\n",
        " ** On entry to SGEMM  parameter number 10 had an illegal value\n"
       ]
      },
      {
       "metadata": {},
       "output_type": "pyout",
       "prompt_number": 12,
       "text": [
        " ** On entry to SGEMM  parameter number 10 had an illegal value\n",
        " ** On entry to SGEMM  parameter number 10 had an illegal value\n"
       ]
      },
      {
       "metadata": {},
       "output_type": "pyout",
       "prompt_number": 12,
       "text": [
        " ** On entry to SGEMM  parameter number 10 had an illegal value\n",
        " ** On entry to SGEMM  parameter number 10 had an illegal value\n"
       ]
      },
      {
       "metadata": {},
       "output_type": "pyout",
       "prompt_number": 12,
       "text": [
        " ** On entry to SGEMM  parameter number 10 had an illegal value\n",
        " ** On entry to SGEMM  parameter number 10 had an illegal value\n"
       ]
      },
      {
       "metadata": {},
       "output_type": "pyout",
       "prompt_number": 12,
       "text": [
        " ** On entry to SGEMM  parameter number 10 had an illegal value\n"
       ]
      },
      {
       "metadata": {},
       "output_type": "pyout",
       "prompt_number": 12,
       "text": [
        " ** On entry to SGEMM  parameter number 10 had an illegal value\n"
       ]
      },
      {
       "metadata": {},
       "output_type": "pyout",
       "prompt_number": 12,
       "text": [
        " ** On entry to SGEMM  parameter number 10 had an illegal value\n",
        " ** On entry to SGEMM  parameter number 10 had an illegal value\n"
       ]
      },
      {
       "metadata": {},
       "output_type": "pyout",
       "prompt_number": 12,
       "text": [
        " ** On entry to SGEMM  parameter number 10 had an illegal value\n"
       ]
      },
      {
       "metadata": {},
       "output_type": "pyout",
       "prompt_number": 12,
       "text": [
        " ** On entry to SGEMM  parameter number 10 had an illegal value\n"
       ]
      },
      {
       "metadata": {},
       "output_type": "pyout",
       "prompt_number": 12,
       "text": [
        " ** On entry to SGEMM  parameter number 10 had an illegal value\n",
        " ** On entry to SGEMM  parameter number 10 had an illegal value\n"
       ]
      },
      {
       "metadata": {},
       "output_type": "pyout",
       "prompt_number": 12,
       "text": [
        " ** On entry to SGEMM  parameter number 10 had an illegal value\n"
       ]
      },
      {
       "metadata": {},
       "output_type": "pyout",
       "prompt_number": 12,
       "text": [
        " ** On entry to SGEMM  parameter number 10 had an illegal value\n"
       ]
      },
      {
       "metadata": {},
       "output_type": "pyout",
       "prompt_number": 12,
       "text": [
        " ** On entry to SGEMM  parameter number 10 had an illegal value\n"
       ]
      },
      {
       "metadata": {},
       "output_type": "pyout",
       "prompt_number": 12,
       "text": [
        " ** On entry to SGEMM  parameter number 10 had an illegal value\n"
       ]
      },
      {
       "metadata": {},
       "output_type": "pyout",
       "prompt_number": 12,
       "text": [
        " ** On entry to SGEMM  parameter number 10 had an illegal value\n",
        " ** On entry to SGEMM  parameter number 10 had an illegal value\n"
       ]
      },
      {
       "metadata": {},
       "output_type": "pyout",
       "prompt_number": 12,
       "text": [
        " ** On entry to SGEMM  parameter number 10 had an illegal value\n"
       ]
      },
      {
       "metadata": {},
       "output_type": "pyout",
       "prompt_number": 12,
       "text": [
        " ** On entry to SGEMM  parameter number 10 had an illegal value\n"
       ]
      },
      {
       "metadata": {},
       "output_type": "pyout",
       "prompt_number": 12,
       "text": [
        " ** On entry to SGEMM  parameter number 10 had an illegal value\n",
        " ** On entry to SGEMM  parameter number 10 had an illegal value\n"
       ]
      },
      {
       "metadata": {},
       "output_type": "pyout",
       "prompt_number": 12,
       "text": [
        " ** On entry to SGEMM  parameter number 10 had an illegal value\n"
       ]
      },
      {
       "metadata": {},
       "output_type": "pyout",
       "prompt_number": 12,
       "text": [
        " ** On entry to SGEMM  parameter number 10 had an illegal value\n"
       ]
      },
      {
       "metadata": {},
       "output_type": "pyout",
       "prompt_number": 12,
       "text": [
        " ** On entry to SGEMM  parameter number 10 had an illegal value\n",
        " ** On entry to SGEMM  parameter number 10 had an illegal value\n"
       ]
      },
      {
       "metadata": {},
       "output_type": "pyout",
       "prompt_number": 12,
       "text": [
        " ** On entry to SGEMM  parameter number 10 had an illegal value\n",
        " ** On entry to SGEMM  parameter number 10 had an illegal value\n"
       ]
      },
      {
       "metadata": {},
       "output_type": "pyout",
       "prompt_number": 12,
       "text": [
        " ** On entry to SGEMM  parameter number 10 had an illegal value\n",
        " ** On entry to SGEMM  parameter number 10 had an illegal value\n"
       ]
      },
      {
       "metadata": {},
       "output_type": "pyout",
       "prompt_number": 12,
       "text": [
        " ** On entry to SGEMM  parameter number 10 had an illegal value\n"
       ]
      },
      {
       "metadata": {},
       "output_type": "pyout",
       "prompt_number": 12,
       "text": [
        " ** On entry to SGEMM  parameter number 10 had an illegal value\n"
       ]
      },
      {
       "metadata": {},
       "output_type": "pyout",
       "prompt_number": 12,
       "text": [
        " ** On entry to SGEMM  parameter number 10 had an illegal value\n"
       ]
      },
      {
       "metadata": {},
       "output_type": "pyout",
       "prompt_number": 12,
       "text": [
        " ** On entry to SGEMM  parameter number 10 had an illegal value\n"
       ]
      },
      {
       "metadata": {},
       "output_type": "pyout",
       "prompt_number": 12,
       "text": [
        " ** On entry to SGEMM  parameter number 10 had an illegal value\n",
        " ** On entry to SGEMM  parameter number 10 had an illegal value\n"
       ]
      },
      {
       "metadata": {},
       "output_type": "pyout",
       "prompt_number": 12,
       "text": [
        " ** On entry to SGEMM  parameter number 10 had an illegal value\n",
        " ** On entry to SGEMM  parameter number 10 had an illegal value\n"
       ]
      },
      {
       "metadata": {},
       "output_type": "pyout",
       "prompt_number": 12,
       "text": [
        " ** On entry to SGEMM  parameter number 10 had an illegal value\n",
        " ** On entry to SGEMM  parameter number 10 had an illegal value\n"
       ]
      },
      {
       "metadata": {},
       "output_type": "pyout",
       "prompt_number": 12,
       "text": [
        " ** On entry to SGEMM  parameter number 10 had an illegal value\n",
        " ** On entry to SGEMM  parameter number 10 had an illegal value\n",
        " ** On entry to SGEMM  parameter number 10 had an illegal value\n",
        " ** On entry to SGEMM  parameter number 10 had an illegal value\n"
       ]
      },
      {
       "metadata": {},
       "output_type": "pyout",
       "prompt_number": 12,
       "text": [
        " ** On entry to SGEMM  parameter number 10 had an illegal value\n",
        " ** On entry to SGEMM  parameter number 10 had an illegal value\n"
       ]
      },
      {
       "metadata": {},
       "output_type": "pyout",
       "prompt_number": 12,
       "text": [
        " ** On entry to SGEMM  parameter number 10 had an illegal value\n"
       ]
      },
      {
       "metadata": {},
       "output_type": "pyout",
       "prompt_number": 12,
       "text": [
        " ** On entry to SGEMM  parameter number 10 had an illegal value\n"
       ]
      },
      {
       "metadata": {},
       "output_type": "pyout",
       "prompt_number": 12,
       "text": [
        " ** On entry to SGEMM  parameter number 10 had an illegal value\n",
        " ** On entry to SGEMM  parameter number 10 had an illegal value\n"
       ]
      },
      {
       "metadata": {},
       "output_type": "pyout",
       "prompt_number": 12,
       "text": [
        " ** On entry to SGEMM  parameter number 10 had an illegal value\n",
        " ** On entry to SGEMM  parameter number 10 had an illegal value\n",
        " ** On entry to SGEMM  parameter number 10 had an illegal value\n"
       ]
      },
      {
       "metadata": {},
       "output_type": "pyout",
       "prompt_number": 12,
       "text": [
        " ** On entry to SGEMM  parameter number 10 had an illegal value\n"
       ]
      },
      {
       "metadata": {},
       "output_type": "pyout",
       "prompt_number": 12,
       "text": [
        " ** On entry to SGEMM  parameter number 10 had an illegal value\n",
        " ** On entry to SGEMM  parameter number 10 had an illegal value\n"
       ]
      },
      {
       "metadata": {},
       "output_type": "pyout",
       "prompt_number": 12,
       "text": [
        " ** On entry to SGEMM  parameter number 10 had an illegal value\n",
        " ** On entry to SGEMM  parameter number 10 had an illegal value\n"
       ]
      },
      {
       "metadata": {},
       "output_type": "pyout",
       "prompt_number": 12,
       "text": [
        " ** On entry to SGEMM  parameter number 10 had an illegal value\n",
        " ** On entry to SGEMM  parameter number 10 had an illegal value\n"
       ]
      },
      {
       "metadata": {},
       "output_type": "pyout",
       "prompt_number": 12,
       "text": [
        " ** On entry to SGEMM  parameter number 10 had an illegal value\n",
        " ** On entry to SGEMM  parameter number 10 had an illegal value\n"
       ]
      },
      {
       "metadata": {},
       "output_type": "pyout",
       "prompt_number": 12,
       "text": [
        " ** On entry to SGEMM  parameter number 10 had an illegal value\n"
       ]
      },
      {
       "metadata": {},
       "output_type": "pyout",
       "prompt_number": 12,
       "text": [
        " ** On entry to SGEMM  parameter number 10 had an illegal value\n"
       ]
      },
      {
       "metadata": {},
       "output_type": "pyout",
       "prompt_number": 12,
       "text": [
        " ** On entry to SGEMM  parameter number 10 had an illegal value\n",
        " ** On entry to SGEMM  parameter number 10 had an illegal value\n"
       ]
      },
      {
       "metadata": {},
       "output_type": "pyout",
       "prompt_number": 12,
       "text": [
        " ** On entry to SGEMM  parameter number 10 had an illegal value\n"
       ]
      },
      {
       "metadata": {},
       "output_type": "pyout",
       "prompt_number": 12,
       "text": [
        " ** On entry to SGEMM  parameter number 10 had an illegal value\n"
       ]
      },
      {
       "metadata": {},
       "output_type": "pyout",
       "prompt_number": 12,
       "text": [
        " ** On entry to SGEMM  parameter number 10 had an illegal value\n",
        " ** On entry to SGEMM  parameter number 10 had an illegal value\n",
        " ** On entry to SGEMM  parameter number 10 had an illegal value\n"
       ]
      },
      {
       "metadata": {},
       "output_type": "pyout",
       "prompt_number": 12,
       "text": [
        " ** On entry to SGEMM  parameter number 10 had an illegal value\n"
       ]
      },
      {
       "metadata": {},
       "output_type": "pyout",
       "prompt_number": 12,
       "text": [
        " ** On entry to SGEMM  parameter number 10 had an illegal value\n"
       ]
      },
      {
       "metadata": {},
       "output_type": "pyout",
       "prompt_number": 12,
       "text": [
        " ** On entry to SGEMM  parameter number 10 had an illegal value\n"
       ]
      },
      {
       "metadata": {},
       "output_type": "pyout",
       "prompt_number": 12,
       "text": [
        " ** On entry to SGEMM  parameter number 10 had an illegal value\n"
       ]
      },
      {
       "metadata": {},
       "output_type": "pyout",
       "prompt_number": 12,
       "text": [
        " ** On entry to SGEMM  parameter number 10 had an illegal value\n"
       ]
      },
      {
       "metadata": {},
       "output_type": "pyout",
       "prompt_number": 12,
       "text": [
        " ** On entry to SGEMM  parameter number 10 had an illegal value\n",
        " ** On entry to SGEMM  parameter number 10 had an illegal value\n"
       ]
      },
      {
       "metadata": {},
       "output_type": "pyout",
       "prompt_number": 12,
       "text": [
        " ** On entry to SGEMM  parameter number 10 had an illegal value\n"
       ]
      },
      {
       "metadata": {},
       "output_type": "pyout",
       "prompt_number": 12,
       "text": [
        " ** On entry to SGEMM  parameter number 10 had an illegal value\n"
       ]
      },
      {
       "metadata": {},
       "output_type": "pyout",
       "prompt_number": 12,
       "text": [
        " ** On entry to SGEMM  parameter number 10 had an illegal value\n",
        " ** On entry to SGEMM  parameter number 10 had an illegal value\n"
       ]
      },
      {
       "metadata": {},
       "output_type": "pyout",
       "prompt_number": 12,
       "text": [
        " ** On entry to SGEMM  parameter number 10 had an illegal value\n"
       ]
      },
      {
       "metadata": {},
       "output_type": "pyout",
       "prompt_number": 12,
       "text": [
        " ** On entry to SGEMM  parameter number 10 had an illegal value\n"
       ]
      },
      {
       "metadata": {},
       "output_type": "pyout",
       "prompt_number": 12,
       "text": [
        " ** On entry to SGEMM  parameter number 10 had an illegal value\n"
       ]
      },
      {
       "metadata": {},
       "output_type": "pyout",
       "prompt_number": 12,
       "text": [
        " ** On entry to SGEMM  parameter number 10 had an illegal value\n"
       ]
      },
      {
       "metadata": {},
       "output_type": "pyout",
       "prompt_number": 12,
       "text": [
        " ** On entry to SGEMM  parameter number 10 had an illegal value\n"
       ]
      },
      {
       "metadata": {},
       "output_type": "pyout",
       "prompt_number": 12,
       "text": [
        " ** On entry to SGEMM  parameter number 10 had an illegal value\n"
       ]
      },
      {
       "metadata": {},
       "output_type": "pyout",
       "prompt_number": 12,
       "text": [
        " ** On entry to SGEMM  parameter number 10 had an illegal value\n"
       ]
      },
      {
       "metadata": {},
       "output_type": "pyout",
       "prompt_number": 12,
       "text": [
        " ** On entry to SGEMM  parameter number 10 had an illegal value\n"
       ]
      },
      {
       "metadata": {},
       "output_type": "pyout",
       "prompt_number": 12,
       "text": [
        " ** On entry to SGEMM  parameter number 10 had an illegal value\n",
        " ** On entry to SGEMM  parameter number 10 had an illegal value\n"
       ]
      },
      {
       "metadata": {},
       "output_type": "pyout",
       "prompt_number": 12,
       "text": [
        " ** On entry to SGEMM  parameter number 10 had an illegal value\n"
       ]
      },
      {
       "metadata": {},
       "output_type": "pyout",
       "prompt_number": 12,
       "text": [
        " ** On entry to SGEMM  parameter number 10 had an illegal value\n"
       ]
      },
      {
       "metadata": {},
       "output_type": "pyout",
       "prompt_number": 12,
       "text": [
        " ** On entry to SGEMM  parameter number 10 had an illegal value\n"
       ]
      },
      {
       "metadata": {},
       "output_type": "pyout",
       "prompt_number": 12,
       "text": [
        " ** On entry to SGEMM  parameter number 10 had an illegal value\n"
       ]
      },
      {
       "metadata": {},
       "output_type": "pyout",
       "prompt_number": 12,
       "text": [
        " ** On entry to SGEMM  parameter number 10 had an illegal value\n"
       ]
      },
      {
       "metadata": {},
       "output_type": "pyout",
       "prompt_number": 12,
       "text": [
        " ** On entry to SGEMM  parameter number 10 had an illegal value\n"
       ]
      },
      {
       "metadata": {},
       "output_type": "pyout",
       "prompt_number": 12,
       "text": [
        " ** On entry to SGEMM  parameter number 10 had an illegal value\n"
       ]
      },
      {
       "metadata": {},
       "output_type": "pyout",
       "prompt_number": 12,
       "text": [
        " ** On entry to SGEMM  parameter number 10 had an illegal value\n",
        " ** On entry to SGEMM  parameter number 10 had an illegal value\n"
       ]
      },
      {
       "metadata": {},
       "output_type": "pyout",
       "prompt_number": 12,
       "text": [
        " ** On entry to SGEMM  parameter number 10 had an illegal value\n"
       ]
      },
      {
       "metadata": {},
       "output_type": "pyout",
       "prompt_number": 12,
       "text": [
        " ** On entry to SGEMM  parameter number 10 had an illegal value\n",
        " ** On entry to SGEMM  parameter number 10 had an illegal value\n"
       ]
      },
      {
       "metadata": {},
       "output_type": "pyout",
       "prompt_number": 12,
       "text": [
        " ** On entry to SGEMM  parameter number 10 had an illegal value\n",
        " ** On entry to SGEMM  parameter number 10 had an illegal value\n"
       ]
      },
      {
       "metadata": {},
       "output_type": "pyout",
       "prompt_number": 12,
       "text": [
        " ** On entry to SGEMM  parameter number 10 had an illegal value\n",
        " ** On entry to SGEMM  parameter number 10 had an illegal value\n"
       ]
      },
      {
       "metadata": {},
       "output_type": "pyout",
       "prompt_number": 12,
       "text": [
        " ** On entry to SGEMM  parameter number 10 had an illegal value\n",
        " ** On entry to SGEMM  parameter number 10 had an illegal value\n"
       ]
      },
      {
       "metadata": {},
       "output_type": "pyout",
       "prompt_number": 12,
       "text": [
        " ** On entry to SGEMM  parameter number 10 had an illegal value\n"
       ]
      },
      {
       "metadata": {},
       "output_type": "pyout",
       "prompt_number": 12,
       "text": [
        " ** On entry to SGEMM  parameter number 10 had an illegal value\n"
       ]
      },
      {
       "metadata": {},
       "output_type": "pyout",
       "prompt_number": 12,
       "text": [
        " ** On entry to SGEMM  parameter number 10 had an illegal value\n",
        " ** On entry to SGEMM  parameter number 10 had an illegal value\n"
       ]
      },
      {
       "metadata": {},
       "output_type": "pyout",
       "prompt_number": 12,
       "text": [
        " ** On entry to SGEMM  parameter number 10 had an illegal value\n",
        " ** On entry to SGEMM  parameter number 10 had an illegal value\n"
       ]
      },
      {
       "metadata": {},
       "output_type": "pyout",
       "prompt_number": 12,
       "text": [
        " ** On entry to SGEMM  parameter number 10 had an illegal value\n",
        " ** On entry to SGEMM  parameter number 10 had an illegal value\n"
       ]
      },
      {
       "metadata": {},
       "output_type": "pyout",
       "prompt_number": 12,
       "text": [
        " ** On entry to SGEMM  parameter number 10 had an illegal value\n",
        " ** On entry to SGEMM  parameter number 10 had an illegal value\n"
       ]
      },
      {
       "metadata": {},
       "output_type": "pyout",
       "prompt_number": 12,
       "text": [
        " ** On entry to SGEMM  parameter number 10 had an illegal value\n"
       ]
      },
      {
       "metadata": {},
       "output_type": "pyout",
       "prompt_number": 12,
       "text": [
        " ** On entry to SGEMM  parameter number 10 had an illegal value\n",
        " ** On entry to SGEMM  parameter number 10 had an illegal value\n"
       ]
      },
      {
       "metadata": {},
       "output_type": "pyout",
       "prompt_number": 12,
       "text": [
        " ** On entry to SGEMM  parameter number 10 had an illegal value\n",
        " ** On entry to SGEMM  parameter number 10 had an illegal value\n",
        " ** On entry to SGEMM  parameter number 10 had an illegal value\n"
       ]
      },
      {
       "metadata": {},
       "output_type": "pyout",
       "prompt_number": 12,
       "text": [
        " ** On entry to SGEMM  parameter number 10 had an illegal value\n",
        " ** On entry to SGEMM  parameter number 10 had an illegal value\n",
        " ** On entry to SGEMM  parameter number 10 had an illegal value\n"
       ]
      },
      {
       "metadata": {},
       "output_type": "pyout",
       "prompt_number": 12,
       "text": [
        " ** On entry to SGEMM  parameter number 10 had an illegal value\n"
       ]
      },
      {
       "metadata": {},
       "output_type": "pyout",
       "prompt_number": 12,
       "text": [
        " ** On entry to SGEMM  parameter number 10 had an illegal value\n",
        " ** On entry to SGEMM  parameter number 10 had an illegal value\n"
       ]
      },
      {
       "metadata": {},
       "output_type": "pyout",
       "prompt_number": 12,
       "text": [
        " ** On entry to SGEMM  parameter number 10 had an illegal value\n",
        " ** On entry to SGEMM  parameter number 10 had an illegal value\n"
       ]
      },
      {
       "metadata": {},
       "output_type": "pyout",
       "prompt_number": 12,
       "text": [
        " ** On entry to SGEMM  parameter number 10 had an illegal value\n"
       ]
      },
      {
       "metadata": {},
       "output_type": "pyout",
       "prompt_number": 12,
       "text": [
        " ** On entry to SGEMM  parameter number 10 had an illegal value\n"
       ]
      },
      {
       "metadata": {},
       "output_type": "pyout",
       "prompt_number": 12,
       "text": [
        " ** On entry to SGEMM  parameter number 10 had an illegal value\n"
       ]
      },
      {
       "metadata": {},
       "output_type": "pyout",
       "prompt_number": 12,
       "text": [
        " ** On entry to SGEMM  parameter number 10 had an illegal value\n"
       ]
      },
      {
       "metadata": {},
       "output_type": "pyout",
       "prompt_number": 12,
       "text": [
        " ** On entry to SGEMM  parameter number 10 had an illegal value\n"
       ]
      },
      {
       "metadata": {},
       "output_type": "pyout",
       "prompt_number": 12,
       "text": [
        " ** On entry to SGEMM  parameter number 10 had an illegal value\n"
       ]
      },
      {
       "metadata": {},
       "output_type": "pyout",
       "prompt_number": 12,
       "text": [
        " ** On entry to SGEMM  parameter number 10 had an illegal value\n"
       ]
      },
      {
       "metadata": {},
       "output_type": "pyout",
       "prompt_number": 12,
       "text": [
        " ** On entry to SGEMM  parameter number 10 had an illegal value\n"
       ]
      },
      {
       "metadata": {},
       "output_type": "pyout",
       "prompt_number": 12,
       "text": [
        " ** On entry to SGEMM  parameter number 10 had an illegal value\n",
        " ** On entry to SGEMM  parameter number 10 had an illegal value\n"
       ]
      },
      {
       "metadata": {},
       "output_type": "pyout",
       "prompt_number": 12,
       "text": [
        " ** On entry to SGEMM  parameter number 10 had an illegal value\n"
       ]
      },
      {
       "metadata": {},
       "output_type": "pyout",
       "prompt_number": 12,
       "text": [
        " ** On entry to SGEMM  parameter number 10 had an illegal value\n"
       ]
      },
      {
       "metadata": {},
       "output_type": "pyout",
       "prompt_number": 12,
       "text": [
        " ** On entry to SGEMM  parameter number 10 had an illegal value\n",
        " ** On entry to SGEMM  parameter number 10 had an illegal value\n"
       ]
      },
      {
       "metadata": {},
       "output_type": "pyout",
       "prompt_number": 12,
       "text": [
        " ** On entry to SGEMM  parameter number 10 had an illegal value\n",
        " ** On entry to SGEMM  parameter number 10 had an illegal value\n"
       ]
      },
      {
       "metadata": {},
       "output_type": "pyout",
       "prompt_number": 12,
       "text": [
        " ** On entry to SGEMM  parameter number 10 had an illegal value\n",
        " ** On entry to SGEMM  parameter number 10 had an illegal value\n"
       ]
      },
      {
       "metadata": {},
       "output_type": "pyout",
       "prompt_number": 12,
       "text": [
        " ** On entry to SGEMM  parameter number 10 had an illegal value\n"
       ]
      },
      {
       "metadata": {},
       "output_type": "pyout",
       "prompt_number": 12,
       "text": [
        " ** On entry to SGEMM  parameter number 10 had an illegal value\n"
       ]
      },
      {
       "metadata": {},
       "output_type": "pyout",
       "prompt_number": 12,
       "text": [
        " ** On entry to SGEMM  parameter number 10 had an illegal value\n",
        " ** On entry to SGEMM  parameter number 10 had an illegal value\n"
       ]
      },
      {
       "metadata": {},
       "output_type": "pyout",
       "prompt_number": 12,
       "text": [
        " ** On entry to SGEMM  parameter number 10 had an illegal value\n"
       ]
      },
      {
       "metadata": {},
       "output_type": "pyout",
       "prompt_number": 12,
       "text": [
        " ** On entry to SGEMM  parameter number 10 had an illegal value\n"
       ]
      },
      {
       "metadata": {},
       "output_type": "pyout",
       "prompt_number": 12,
       "text": [
        " ** On entry to SGEMM  parameter number 10 had an illegal value\n",
        " ** On entry to SGEMM  parameter number 10 had an illegal value\n"
       ]
      },
      {
       "metadata": {},
       "output_type": "pyout",
       "prompt_number": 12,
       "text": [
        " ** On entry to SGEMM  parameter number 10 had an illegal value\n"
       ]
      },
      {
       "metadata": {},
       "output_type": "pyout",
       "prompt_number": 12,
       "text": [
        " ** On entry to SGEMM  parameter number 10 had an illegal value\n"
       ]
      },
      {
       "metadata": {},
       "output_type": "pyout",
       "prompt_number": 12,
       "text": [
        " ** On entry to SGEMM  parameter number 10 had an illegal value\n",
        " ** On entry to SGEMM  parameter number 10 had an illegal value\n"
       ]
      },
      {
       "metadata": {},
       "output_type": "pyout",
       "prompt_number": 12,
       "text": [
        " ** On entry to SGEMM  parameter number 10 had an illegal value\n",
        " ** On entry to SGEMM  parameter number 10 had an illegal value\n"
       ]
      },
      {
       "metadata": {},
       "output_type": "pyout",
       "prompt_number": 12,
       "text": [
        " ** On entry to SGEMM  parameter number 10 had an illegal value\n",
        " ** On entry to SGEMM  parameter number 10 had an illegal value\n"
       ]
      },
      {
       "metadata": {},
       "output_type": "pyout",
       "prompt_number": 12,
       "text": [
        " ** On entry to SGEMM  parameter number 10 had an illegal value\n"
       ]
      },
      {
       "metadata": {},
       "output_type": "pyout",
       "prompt_number": 12,
       "text": [
        " ** On entry to SGEMM  parameter number 10 had an illegal value\n"
       ]
      },
      {
       "metadata": {},
       "output_type": "pyout",
       "prompt_number": 12,
       "text": [
        " ** On entry to SGEMM  parameter number 10 had an illegal value\n"
       ]
      },
      {
       "metadata": {},
       "output_type": "pyout",
       "prompt_number": 12,
       "text": [
        " ** On entry to SGEMM  parameter number 10 had an illegal value\n"
       ]
      },
      {
       "metadata": {},
       "output_type": "pyout",
       "prompt_number": 12,
       "text": [
        " ** On entry to SGEMM  parameter number 10 had an illegal value\n"
       ]
      },
      {
       "metadata": {},
       "output_type": "pyout",
       "prompt_number": 12,
       "text": [
        " ** On entry to SGEMM  parameter number 10 had an illegal value\n",
        " ** On entry to SGEMM  parameter number 10 had an illegal value\n",
        " ** On entry to SGEMM  parameter number 10 had an illegal value\n"
       ]
      },
      {
       "metadata": {},
       "output_type": "pyout",
       "prompt_number": 12,
       "text": [
        " ** On entry to SGEMM  parameter number 10 had an illegal value\n"
       ]
      },
      {
       "metadata": {},
       "output_type": "pyout",
       "prompt_number": 12,
       "text": [
        " ** On entry to SGEMM  parameter number 10 had an illegal value\n",
        " ** On entry to SGEMM  parameter number 10 had an illegal value\n"
       ]
      },
      {
       "metadata": {},
       "output_type": "pyout",
       "prompt_number": 12,
       "text": [
        " ** On entry to SGEMM  parameter number 10 had an illegal value\n"
       ]
      },
      {
       "metadata": {},
       "output_type": "pyout",
       "prompt_number": 12,
       "text": [
        " ** On entry to SGEMM  parameter number 10 had an illegal value\n",
        " ** On entry to SGEMM  parameter number 10 had an illegal value\n"
       ]
      },
      {
       "metadata": {},
       "output_type": "pyout",
       "prompt_number": 12,
       "text": [
        " ** On entry to SGEMM  parameter number 10 had an illegal value\n"
       ]
      },
      {
       "metadata": {},
       "output_type": "pyout",
       "prompt_number": 12,
       "text": [
        " ** On entry to SGEMM  parameter number 10 had an illegal value\n",
        " ** On entry to SGEMM  parameter number 10 had an illegal value\n"
       ]
      },
      {
       "metadata": {},
       "output_type": "pyout",
       "prompt_number": 12,
       "text": [
        " ** On entry to SGEMM  parameter number 10 had an illegal value\n"
       ]
      },
      {
       "metadata": {},
       "output_type": "pyout",
       "prompt_number": 12,
       "text": [
        " ** On entry to SGEMM  parameter number 10 had an illegal value\n"
       ]
      },
      {
       "metadata": {},
       "output_type": "pyout",
       "prompt_number": 12,
       "text": [
        " ** On entry to SGEMM  parameter number 10 had an illegal value\n"
       ]
      },
      {
       "metadata": {},
       "output_type": "pyout",
       "prompt_number": 12,
       "text": [
        " ** On entry to SGEMM  parameter number 10 had an illegal value\n"
       ]
      },
      {
       "metadata": {},
       "output_type": "pyout",
       "prompt_number": 12,
       "text": [
        " ** On entry to SGEMM  parameter number 10 had an illegal value\n"
       ]
      },
      {
       "metadata": {},
       "output_type": "pyout",
       "prompt_number": 12,
       "text": [
        " ** On entry to SGEMM  parameter number 10 had an illegal value\n",
        " ** On entry to SGEMM  parameter number 10 had an illegal value\n"
       ]
      },
      {
       "metadata": {},
       "output_type": "pyout",
       "prompt_number": 12,
       "text": [
        " ** On entry to SGEMM  parameter number 10 had an illegal value\n"
       ]
      },
      {
       "metadata": {},
       "output_type": "pyout",
       "prompt_number": 12,
       "text": [
        " ** On entry to SGEMM  parameter number 10 had an illegal value\n"
       ]
      },
      {
       "metadata": {},
       "output_type": "pyout",
       "prompt_number": 12,
       "text": [
        " ** On entry to SGEMM  parameter number 10 had an illegal value\n"
       ]
      },
      {
       "metadata": {},
       "output_type": "pyout",
       "prompt_number": 12,
       "text": [
        " ** On entry to SGEMM  parameter number 10 had an illegal value\n"
       ]
      },
      {
       "metadata": {},
       "output_type": "pyout",
       "prompt_number": 12,
       "text": [
        " ** On entry to SGEMM  parameter number 10 had an illegal value\n"
       ]
      },
      {
       "metadata": {},
       "output_type": "pyout",
       "prompt_number": 12,
       "text": [
        " ** On entry to SGEMM  parameter number 10 had an illegal value\n"
       ]
      },
      {
       "metadata": {},
       "output_type": "pyout",
       "prompt_number": 12,
       "text": [
        " ** On entry to SGEMM  parameter number 10 had an illegal value\n",
        " ** On entry to SGEMM  parameter number 10 had an illegal value\n"
       ]
      },
      {
       "metadata": {},
       "output_type": "pyout",
       "prompt_number": 12,
       "text": [
        " ** On entry to SGEMM  parameter number 10 had an illegal value\n",
        " ** On entry to SGEMM  parameter number 10 had an illegal value\n"
       ]
      },
      {
       "metadata": {},
       "output_type": "pyout",
       "prompt_number": 12,
       "text": [
        " ** On entry to SGEMM  parameter number 10 had an illegal value\n",
        " ** On entry to SGEMM  parameter number 10 had an illegal value\n"
       ]
      },
      {
       "metadata": {},
       "output_type": "pyout",
       "prompt_number": 12,
       "text": [
        " ** On entry to SGEMM  parameter number 10 had an illegal value\n"
       ]
      },
      {
       "metadata": {},
       "output_type": "pyout",
       "prompt_number": 12,
       "text": [
        " ** On entry to SGEMM  parameter number 10 had an illegal value\n"
       ]
      },
      {
       "metadata": {},
       "output_type": "pyout",
       "prompt_number": 12,
       "text": [
        " ** On entry to SGEMM  parameter number 10 had an illegal value\n"
       ]
      },
      {
       "metadata": {},
       "output_type": "pyout",
       "prompt_number": 12,
       "text": [
        " ** On entry to SGEMM  parameter number 10 had an illegal value\n"
       ]
      },
      {
       "metadata": {},
       "output_type": "pyout",
       "prompt_number": 12,
       "text": [
        " ** On entry to SGEMM  parameter number 10 had an illegal value\n",
        " ** On entry to SGEMM  parameter number 10 had an illegal value\n"
       ]
      },
      {
       "metadata": {},
       "output_type": "pyout",
       "prompt_number": 12,
       "text": [
        " ** On entry to SGEMM  parameter number 10 had an illegal value\n",
        " ** On entry to SGEMM  parameter number 10 had an illegal value\n"
       ]
      },
      {
       "metadata": {},
       "output_type": "pyout",
       "prompt_number": 12,
       "text": [
        " ** On entry to SGEMM  parameter number 10 had an illegal value\n",
        " ** On entry to SGEMM  parameter number 10 had an illegal value\n"
       ]
      },
      {
       "metadata": {},
       "output_type": "pyout",
       "prompt_number": 12,
       "text": [
        " ** On entry to SGEMM  parameter number 10 had an illegal value\n"
       ]
      },
      {
       "metadata": {},
       "output_type": "pyout",
       "prompt_number": 12,
       "text": [
        " ** On entry to SGEMM  parameter number 10 had an illegal value\n"
       ]
      },
      {
       "metadata": {},
       "output_type": "pyout",
       "prompt_number": 12,
       "text": [
        " ** On entry to SGEMM  parameter number 10 had an illegal value\n"
       ]
      },
      {
       "metadata": {},
       "output_type": "pyout",
       "prompt_number": 12,
       "text": [
        " ** On entry to SGEMM  parameter number 10 had an illegal value\n"
       ]
      },
      {
       "metadata": {},
       "output_type": "pyout",
       "prompt_number": 12,
       "text": [
        "Progress: 251 / 251\t\n"
       ]
      },
      {
       "metadata": {},
       "output_type": "pyout",
       "prompt_number": 12,
       "text": [
        " ** On entry to SGEMM  parameter number 10 had an illegal value\n",
        " ** On entry to SGEMM  parameter number 10 had an illegal value\n"
       ]
      },
      {
       "metadata": {},
       "output_type": "pyout",
       "prompt_number": 12,
       "text": [
        "ConfusionMatrix:\n",
        "[[       0       2]   0.000% \t[class: 1]\n",
        " [       0     249]]  100.000% \t[class: 2]\n",
        " + average row correct: 50% \n",
        " + average rowUcol correct (VOC measure): 49.601593613625% \n",
        " + global correct: 99.203187250996%\n",
        "{\n",
        "  averageUnionValid : 0.49601593613625\n",
        "  _targ_idx : LongTensor - empty\n",
        "  valids : FloatTensor - size: 2\n",
        "  classes : \n",
        "    {\n",
        "      1 : 1\n",
        "      2 : 2\n",
        "    }\n",
        "  _target : FloatTensor - empty\n",
        "  mat : FloatTensor - size: 2x2\n",
        "  _pred_idx : LongTensor - size: 1\n",
        "  _max : FloatTensor - size: 1\n",
        "  unionvalids : FloatTensor - size: 2\n",
        "  nclasses : 2\n",
        "  totalValid : 0.99203187250996\n"
       ]
      },
      {
       "metadata": {},
       "output_type": "pyout",
       "prompt_number": 12,
       "text": [
        "  _prediction : FloatTensor - size: 2\n",
        "  averageValid : 0.5\n",
        "}\n"
       ]
      },
      {
       "metadata": {},
       "output_type": "pyout",
       "prompt_number": 12,
       "text": [
        "==> saving model to /home/zayik/Desktop/CS491/Recurrent-Neural-Net-Music-Classification/model.net\t\n"
       ]
      },
      {
       "metadata": {},
       "output_type": "pyout",
       "prompt_number": 12,
       "text": [
        " ** On entry to SGEMM  parameter number 10 had an illegal value\n",
        " ** On entry to SGEMM  parameter number 10 had an illegal value\n"
       ]
      },
      {
       "metadata": {},
       "output_type": "pyout",
       "prompt_number": 12,
       "text": [
        " ** On entry to SGEMM  parameter number 10 had an illegal value\n"
       ]
      },
      {
       "metadata": {},
       "output_type": "pyout",
       "prompt_number": 12,
       "text": [
        " ** On entry to SGEMM  parameter number 10 had an illegal value\n"
       ]
      },
      {
       "metadata": {},
       "output_type": "pyout",
       "prompt_number": 12,
       "text": [
        " ** On entry to SGEMM  parameter number 10 had an illegal value\n",
        " ** On entry to SGEMM  parameter number 10 had an illegal value\n"
       ]
      },
      {
       "metadata": {},
       "output_type": "pyout",
       "prompt_number": 12,
       "text": [
        " ** On entry to SGEMM  parameter number 10 had an illegal value\n",
        " ** On entry to SGEMM  parameter number 10 had an illegal value\n",
        " ** On entry to SGEMM  parameter number 10 had an illegal value\n",
        " ** On entry to SGEMM  parameter number 10 had an illegal value\n"
       ]
      },
      {
       "metadata": {},
       "output_type": "pyout",
       "prompt_number": 12,
       "text": [
        " ** On entry to SGEMM  parameter number 10 had an illegal value\n"
       ]
      },
      {
       "metadata": {},
       "output_type": "pyout",
       "prompt_number": 12,
       "text": [
        " ** On entry to SGEMM  parameter number 10 had an illegal value\n"
       ]
      },
      {
       "metadata": {},
       "output_type": "pyout",
       "prompt_number": 12,
       "text": [
        " ** On entry to SGEMM  parameter number 10 had an illegal value\n"
       ]
      },
      {
       "metadata": {},
       "output_type": "pyout",
       "prompt_number": 12,
       "text": [
        " ** On entry to SGEMM  parameter number 10 had an illegal value\n"
       ]
      },
      {
       "metadata": {},
       "output_type": "pyout",
       "prompt_number": 12,
       "text": [
        " ** On entry to SGEMM  parameter number 10 had an illegal value\n",
        " ** On entry to SGEMM  parameter number 10 had an illegal value\n"
       ]
      },
      {
       "metadata": {},
       "output_type": "pyout",
       "prompt_number": 12,
       "text": [
        " ** On entry to SGEMM  parameter number 10 had an illegal value\n"
       ]
      },
      {
       "metadata": {},
       "output_type": "pyout",
       "prompt_number": 12,
       "text": [
        " ** On entry to SGEMM  parameter number 10 had an illegal value\n"
       ]
      },
      {
       "metadata": {},
       "output_type": "pyout",
       "prompt_number": 12,
       "text": [
        " ** On entry to SGEMM  parameter number 10 had an illegal value\n",
        " ** On entry to SGEMM  parameter number 10 had an illegal value\n"
       ]
      },
      {
       "metadata": {},
       "output_type": "pyout",
       "prompt_number": 12,
       "text": [
        " ** On entry to SGEMM  parameter number 10 had an illegal value\n"
       ]
      },
      {
       "metadata": {},
       "output_type": "pyout",
       "prompt_number": 12,
       "text": [
        " ** On entry to SGEMM  parameter number 10 had an illegal value\n"
       ]
      },
      {
       "metadata": {},
       "output_type": "pyout",
       "prompt_number": 12,
       "text": [
        " ** On entry to SGEMM  parameter number 10 had an illegal value\n"
       ]
      },
      {
       "metadata": {},
       "output_type": "pyout",
       "prompt_number": 12,
       "text": [
        " ** On entry to SGEMM  parameter number 10 had an illegal value\n"
       ]
      },
      {
       "metadata": {},
       "output_type": "pyout",
       "prompt_number": 12,
       "text": [
        " ** On entry to SGEMM  parameter number 10 had an illegal value\n"
       ]
      },
      {
       "metadata": {},
       "output_type": "pyout",
       "prompt_number": 12,
       "text": [
        " ** On entry to SGEMM  parameter number 10 had an illegal value\n"
       ]
      },
      {
       "metadata": {},
       "output_type": "pyout",
       "prompt_number": 12,
       "text": [
        " ** On entry to SGEMM  parameter number 10 had an illegal value\n",
        " ** On entry to SGEMM  parameter number 10 had an illegal value\n"
       ]
      },
      {
       "metadata": {},
       "output_type": "pyout",
       "prompt_number": 12,
       "text": [
        " ** On entry to SGEMM  parameter number 10 had an illegal value\n",
        " ** On entry to SGEMM  parameter number 10 had an illegal value\n"
       ]
      },
      {
       "metadata": {},
       "output_type": "pyout",
       "prompt_number": 12,
       "text": [
        " ** On entry to SGEMM  parameter number 10 had an illegal value\n",
        " ** On entry to SGEMM  parameter number 10 had an illegal value\n"
       ]
      },
      {
       "metadata": {},
       "output_type": "pyout",
       "prompt_number": 12,
       "text": [
        " ** On entry to SGEMM  parameter number 10 had an illegal value\n",
        " ** On entry to SGEMM  parameter number 10 had an illegal value\n"
       ]
      },
      {
       "metadata": {},
       "output_type": "pyout",
       "prompt_number": 12,
       "text": [
        " ** On entry to SGEMM  parameter number 10 had an illegal value\n",
        " ** On entry to SGEMM  parameter number 10 had an illegal value\n"
       ]
      },
      {
       "metadata": {},
       "output_type": "pyout",
       "prompt_number": 12,
       "text": [
        " ** On entry to SGEMM  parameter number 10 had an illegal value\n",
        " ** On entry to SGEMM  parameter number 10 had an illegal value\n"
       ]
      },
      {
       "metadata": {},
       "output_type": "pyout",
       "prompt_number": 12,
       "text": [
        " ** On entry to SGEMM  parameter number 10 had an illegal value\n",
        " ** On entry to SGEMM  parameter number 10 had an illegal value\n"
       ]
      },
      {
       "metadata": {},
       "output_type": "pyout",
       "prompt_number": 12,
       "text": [
        " ** On entry to SGEMM  parameter number 10 had an illegal value\n",
        " ** On entry to SGEMM  parameter number 10 had an illegal value\n"
       ]
      },
      {
       "metadata": {},
       "output_type": "pyout",
       "prompt_number": 12,
       "text": [
        " ** On entry to SGEMM  parameter number 10 had an illegal value\n"
       ]
      },
      {
       "metadata": {},
       "output_type": "pyout",
       "prompt_number": 12,
       "text": [
        " ** On entry to SGEMM  parameter number 10 had an illegal value\n"
       ]
      },
      {
       "metadata": {},
       "output_type": "pyout",
       "prompt_number": 12,
       "text": [
        " ** On entry to SGEMM  parameter number 10 had an illegal value\n",
        " ** On entry to SGEMM  parameter number 10 had an illegal value\n"
       ]
      },
      {
       "metadata": {},
       "output_type": "pyout",
       "prompt_number": 12,
       "text": [
        " ** On entry to SGEMM  parameter number 10 had an illegal value\n",
        " ** On entry to SGEMM  parameter number 10 had an illegal value\n"
       ]
      },
      {
       "metadata": {},
       "output_type": "pyout",
       "prompt_number": 12,
       "text": [
        " ** On entry to SGEMM  parameter number 10 had an illegal value\n",
        " ** On entry to SGEMM  parameter number 10 had an illegal value\n"
       ]
      },
      {
       "metadata": {},
       "output_type": "pyout",
       "prompt_number": 12,
       "text": [
        " ** On entry to SGEMM  parameter number 10 had an illegal value\n",
        " ** On entry to SGEMM  parameter number 10 had an illegal value\n"
       ]
      },
      {
       "metadata": {},
       "output_type": "pyout",
       "prompt_number": 12,
       "text": [
        " ** On entry to SGEMM  parameter number 10 had an illegal value\n"
       ]
      },
      {
       "metadata": {},
       "output_type": "pyout",
       "prompt_number": 12,
       "text": [
        " ** On entry to SGEMM  parameter number 10 had an illegal value\n"
       ]
      },
      {
       "metadata": {},
       "output_type": "pyout",
       "prompt_number": 12,
       "text": [
        " ** On entry to SGEMM  parameter number 10 had an illegal value\n"
       ]
      },
      {
       "metadata": {},
       "output_type": "pyout",
       "prompt_number": 12,
       "text": [
        " ** On entry to SGEMM  parameter number 10 had an illegal value\n"
       ]
      },
      {
       "metadata": {},
       "output_type": "pyout",
       "prompt_number": 12,
       "text": [
        " ** On entry to SGEMM  parameter number 10 had an illegal value\n"
       ]
      },
      {
       "metadata": {},
       "output_type": "pyout",
       "prompt_number": 12,
       "text": [
        " ** On entry to SGEMM  parameter number 10 had an illegal value\n"
       ]
      },
      {
       "metadata": {},
       "output_type": "pyout",
       "prompt_number": 12,
       "text": [
        " ** On entry to SGEMM  parameter number 10 had an illegal value\n"
       ]
      },
      {
       "metadata": {},
       "output_type": "pyout",
       "prompt_number": 12,
       "text": [
        " ** On entry to SGEMM  parameter number 10 had an illegal value\n"
       ]
      },
      {
       "metadata": {},
       "output_type": "pyout",
       "prompt_number": 12,
       "text": [
        " ** On entry to SGEMM  parameter number 10 had an illegal value\n",
        " ** On entry to SGEMM  parameter number 10 had an illegal value\n"
       ]
      },
      {
       "metadata": {},
       "output_type": "pyout",
       "prompt_number": 12,
       "text": [
        " ** On entry to SGEMM  parameter number 10 had an illegal value\n"
       ]
      },
      {
       "metadata": {},
       "output_type": "pyout",
       "prompt_number": 12,
       "text": [
        " ** On entry to SGEMM  parameter number 10 had an illegal value\n"
       ]
      },
      {
       "metadata": {},
       "output_type": "pyout",
       "prompt_number": 12,
       "text": [
        " ** On entry to SGEMM  parameter number 10 had an illegal value\n",
        " ** On entry to SGEMM  parameter number 10 had an illegal value\n"
       ]
      },
      {
       "metadata": {},
       "output_type": "pyout",
       "prompt_number": 12,
       "text": [
        " ** On entry to SGEMM  parameter number 10 had an illegal value\n",
        " ** On entry to SGEMM  parameter number 10 had an illegal value\n"
       ]
      },
      {
       "metadata": {},
       "output_type": "pyout",
       "prompt_number": 12,
       "text": [
        " ** On entry to SGEMM  parameter number 10 had an illegal value\n"
       ]
      },
      {
       "metadata": {},
       "output_type": "pyout",
       "prompt_number": 12,
       "text": [
        " ** On entry to SGEMM  parameter number 10 had an illegal value\n"
       ]
      },
      {
       "metadata": {},
       "output_type": "pyout",
       "prompt_number": 12,
       "text": [
        " ** On entry to SGEMM  parameter number 10 had an illegal value\n",
        " ** On entry to SGEMM  parameter number 10 had an illegal value\n"
       ]
      },
      {
       "metadata": {},
       "output_type": "pyout",
       "prompt_number": 12,
       "text": [
        " ** On entry to SGEMM  parameter number 10 had an illegal value\n"
       ]
      },
      {
       "metadata": {},
       "output_type": "pyout",
       "prompt_number": 12,
       "text": [
        " ** On entry to SGEMM  parameter number 10 had an illegal value\n"
       ]
      },
      {
       "metadata": {},
       "output_type": "pyout",
       "prompt_number": 12,
       "text": [
        " ** On entry to SGEMM  parameter number 10 had an illegal value\n",
        " ** On entry to SGEMM  parameter number 10 had an illegal value\n"
       ]
      },
      {
       "metadata": {},
       "output_type": "pyout",
       "prompt_number": 12,
       "text": [
        " ** On entry to SGEMM  parameter number 10 had an illegal value\n",
        " ** On entry to SGEMM  parameter number 10 had an illegal value\n"
       ]
      },
      {
       "metadata": {},
       "output_type": "pyout",
       "prompt_number": 12,
       "text": [
        " ** On entry to SGEMM  parameter number 10 had an illegal value\n",
        " ** On entry to SGEMM  parameter number 10 had an illegal value\n"
       ]
      },
      {
       "metadata": {},
       "output_type": "pyout",
       "prompt_number": 12,
       "text": [
        " ** On entry to SGEMM  parameter number 10 had an illegal value\n",
        " ** On entry to SGEMM  parameter number 10 had an illegal value\n"
       ]
      },
      {
       "metadata": {},
       "output_type": "pyout",
       "prompt_number": 12,
       "text": [
        " ** On entry to SGEMM  parameter number 10 had an illegal value\n",
        " ** On entry to SGEMM  parameter number 10 had an illegal value\n"
       ]
      },
      {
       "metadata": {},
       "output_type": "pyout",
       "prompt_number": 12,
       "text": [
        " ** On entry to SGEMM  parameter number 10 had an illegal value\n",
        " ** On entry to SGEMM  parameter number 10 had an illegal value\n"
       ]
      },
      {
       "metadata": {},
       "output_type": "pyout",
       "prompt_number": 12,
       "text": [
        " ** On entry to SGEMM  parameter number 10 had an illegal value\n",
        " ** On entry to SGEMM  parameter number 10 had an illegal value\n"
       ]
      },
      {
       "metadata": {},
       "output_type": "pyout",
       "prompt_number": 12,
       "text": [
        " ** On entry to SGEMM  parameter number 10 had an illegal value\n"
       ]
      },
      {
       "metadata": {},
       "output_type": "pyout",
       "prompt_number": 12,
       "text": [
        " ** On entry to SGEMM  parameter number 10 had an illegal value\n"
       ]
      },
      {
       "metadata": {},
       "output_type": "pyout",
       "prompt_number": 12,
       "text": [
        " ** On entry to SGEMM  parameter number 10 had an illegal value\n"
       ]
      },
      {
       "metadata": {},
       "output_type": "pyout",
       "prompt_number": 12,
       "text": [
        " ** On entry to SGEMM  parameter number 10 had an illegal value\n",
        " ** On entry to SGEMM  parameter number 10 had an illegal value\n",
        " ** On entry to SGEMM  parameter number 10 had an illegal value\n"
       ]
      },
      {
       "metadata": {},
       "output_type": "pyout",
       "prompt_number": 12,
       "text": [
        " ** On entry to SGEMM  parameter number 10 had an illegal value\n",
        " ** On entry to SGEMM  parameter number 10 had an illegal value\n"
       ]
      },
      {
       "metadata": {},
       "output_type": "pyout",
       "prompt_number": 12,
       "text": [
        " ** On entry to SGEMM  parameter number 10 had an illegal value\n",
        " ** On entry to SGEMM  parameter number 10 had an illegal value\n",
        " ** On entry to SGEMM  parameter number 10 had an illegal value\n"
       ]
      },
      {
       "metadata": {},
       "output_type": "pyout",
       "prompt_number": 12,
       "text": [
        " ** On entry to SGEMM  parameter number 10 had an illegal value\n"
       ]
      },
      {
       "metadata": {},
       "output_type": "pyout",
       "prompt_number": 12,
       "text": [
        " ** On entry to SGEMM  parameter number 10 had an illegal value\n",
        " ** On entry to SGEMM  parameter number 10 had an illegal value\n",
        " ** On entry to SGEMM  parameter number 10 had an illegal value\n"
       ]
      },
      {
       "metadata": {},
       "output_type": "pyout",
       "prompt_number": 12,
       "text": [
        " ** On entry to SGEMM  parameter number 10 had an illegal value\n"
       ]
      },
      {
       "metadata": {},
       "output_type": "pyout",
       "prompt_number": 12,
       "text": [
        " ** On entry to SGEMM  parameter number 10 had an illegal value\n",
        " ** On entry to SGEMM  parameter number 10 had an illegal value\n"
       ]
      },
      {
       "metadata": {},
       "output_type": "pyout",
       "prompt_number": 12,
       "text": [
        " ** On entry to SGEMM  parameter number 10 had an illegal value\n",
        " ** On entry to SGEMM  parameter number 10 had an illegal value\n"
       ]
      },
      {
       "metadata": {},
       "output_type": "pyout",
       "prompt_number": 12,
       "text": [
        " ** On entry to SGEMM  parameter number 10 had an illegal value\n"
       ]
      },
      {
       "metadata": {},
       "output_type": "pyout",
       "prompt_number": 12,
       "text": [
        " ** On entry to SGEMM  parameter number 10 had an illegal value\n"
       ]
      },
      {
       "metadata": {},
       "output_type": "pyout",
       "prompt_number": 12,
       "text": [
        " ** On entry to SGEMM  parameter number 10 had an illegal value\n",
        " ** On entry to SGEMM  parameter number 10 had an illegal value\n"
       ]
      },
      {
       "metadata": {},
       "output_type": "pyout",
       "prompt_number": 12,
       "text": [
        " ** On entry to SGEMM  parameter number 10 had an illegal value\n",
        " ** On entry to SGEMM  parameter number 10 had an illegal value\n"
       ]
      },
      {
       "metadata": {},
       "output_type": "pyout",
       "prompt_number": 12,
       "text": [
        " ** On entry to SGEMM  parameter number 10 had an illegal value\n",
        " ** On entry to SGEMM  parameter number 10 had an illegal value\n"
       ]
      },
      {
       "metadata": {},
       "output_type": "pyout",
       "prompt_number": 12,
       "text": [
        " ** On entry to SGEMM  parameter number 10 had an illegal value\n",
        " ** On entry to SGEMM  parameter number 10 had an illegal value\n",
        " ** On entry to SGEMM  parameter number 10 had an illegal value\n",
        " ** On entry to SGEMM  parameter number 10 had an illegal value\n"
       ]
      },
      {
       "metadata": {},
       "output_type": "pyout",
       "prompt_number": 12,
       "text": [
        " ** On entry to SGEMM  parameter number 10 had an illegal value\n",
        " ** On entry to SGEMM  parameter number 10 had an illegal value\n"
       ]
      },
      {
       "metadata": {},
       "output_type": "pyout",
       "prompt_number": 12,
       "text": [
        " ** On entry to SGEMM  parameter number 10 had an illegal value\n"
       ]
      },
      {
       "metadata": {},
       "output_type": "pyout",
       "prompt_number": 12,
       "text": [
        " ** On entry to SGEMM  parameter number 10 had an illegal value\n"
       ]
      },
      {
       "metadata": {},
       "output_type": "pyout",
       "prompt_number": 12,
       "text": [
        " ** On entry to SGEMM  parameter number 10 had an illegal value\n",
        " ** On entry to SGEMM  parameter number 10 had an illegal value\n"
       ]
      },
      {
       "metadata": {},
       "output_type": "pyout",
       "prompt_number": 12,
       "text": [
        " ** On entry to SGEMM  parameter number 10 had an illegal value\n"
       ]
      },
      {
       "metadata": {},
       "output_type": "pyout",
       "prompt_number": 12,
       "text": [
        " ** On entry to SGEMM  parameter number 10 had an illegal value\n"
       ]
      },
      {
       "metadata": {},
       "output_type": "pyout",
       "prompt_number": 12,
       "text": [
        " ** On entry to SGEMM  parameter number 10 had an illegal value\n",
        " ** On entry to SGEMM  parameter number 10 had an illegal value\n"
       ]
      },
      {
       "metadata": {},
       "output_type": "pyout",
       "prompt_number": 12,
       "text": [
        " ** On entry to SGEMM  parameter number 10 had an illegal value\n",
        " ** On entry to SGEMM  parameter number 10 had an illegal value\n"
       ]
      },
      {
       "metadata": {},
       "output_type": "pyout",
       "prompt_number": 12,
       "text": [
        " ** On entry to SGEMM  parameter number 10 had an illegal value\n",
        " ** On entry to SGEMM  parameter number 10 had an illegal value\n"
       ]
      },
      {
       "metadata": {},
       "output_type": "pyout",
       "prompt_number": 12,
       "text": [
        " ** On entry to SGEMM  parameter number 10 had an illegal value\n",
        " ** On entry to SGEMM  parameter number 10 had an illegal value\n"
       ]
      },
      {
       "metadata": {},
       "output_type": "pyout",
       "prompt_number": 12,
       "text": [
        " ** On entry to SGEMM  parameter number 10 had an illegal value\n",
        " ** On entry to SGEMM  parameter number 10 had an illegal value\n"
       ]
      },
      {
       "metadata": {},
       "output_type": "pyout",
       "prompt_number": 12,
       "text": [
        " ** On entry to SGEMM  parameter number 10 had an illegal value\n"
       ]
      },
      {
       "metadata": {},
       "output_type": "pyout",
       "prompt_number": 12,
       "text": [
        " ** On entry to SGEMM  parameter number 10 had an illegal value\n"
       ]
      },
      {
       "metadata": {},
       "output_type": "pyout",
       "prompt_number": 12,
       "text": [
        " ** On entry to SGEMM  parameter number 10 had an illegal value\n",
        " ** On entry to SGEMM  parameter number 10 had an illegal value\n"
       ]
      },
      {
       "metadata": {},
       "output_type": "pyout",
       "prompt_number": 12,
       "text": [
        " ** On entry to SGEMM  parameter number 10 had an illegal value\n"
       ]
      },
      {
       "metadata": {},
       "output_type": "pyout",
       "prompt_number": 12,
       "text": [
        " ** On entry to SGEMM  parameter number 10 had an illegal value\n"
       ]
      },
      {
       "metadata": {},
       "output_type": "pyout",
       "prompt_number": 12,
       "text": [
        " ** On entry to SGEMM  parameter number 10 had an illegal value\n",
        " ** On entry to SGEMM  parameter number 10 had an illegal value\n"
       ]
      },
      {
       "metadata": {},
       "output_type": "pyout",
       "prompt_number": 12,
       "text": [
        " ** On entry to SGEMM  parameter number 10 had an illegal value\n",
        " ** On entry to SGEMM  parameter number 10 had an illegal value\n"
       ]
      },
      {
       "metadata": {},
       "output_type": "pyout",
       "prompt_number": 12,
       "text": [
        " ** On entry to SGEMM  parameter number 10 had an illegal value\n"
       ]
      },
      {
       "metadata": {},
       "output_type": "pyout",
       "prompt_number": 12,
       "text": [
        " ** On entry to SGEMM  parameter number 10 had an illegal value\n"
       ]
      },
      {
       "metadata": {},
       "output_type": "pyout",
       "prompt_number": 12,
       "text": [
        " ** On entry to SGEMM  parameter number 10 had an illegal value\n",
        " ** On entry to SGEMM  parameter number 10 had an illegal value\n"
       ]
      },
      {
       "metadata": {},
       "output_type": "pyout",
       "prompt_number": 12,
       "text": [
        " ** On entry to SGEMM  parameter number 10 had an illegal value\n",
        " ** On entry to SGEMM  parameter number 10 had an illegal value\n"
       ]
      },
      {
       "metadata": {},
       "output_type": "pyout",
       "prompt_number": 12,
       "text": [
        " ** On entry to SGEMM  parameter number 10 had an illegal value\n"
       ]
      },
      {
       "metadata": {},
       "output_type": "pyout",
       "prompt_number": 12,
       "text": [
        " ** On entry to SGEMM  parameter number 10 had an illegal value\n"
       ]
      },
      {
       "metadata": {},
       "output_type": "pyout",
       "prompt_number": 12,
       "text": [
        " ** On entry to SGEMM  parameter number 10 had an illegal value\n",
        " ** On entry to SGEMM  parameter number 10 had an illegal value\n"
       ]
      },
      {
       "metadata": {},
       "output_type": "pyout",
       "prompt_number": 12,
       "text": [
        " ** On entry to SGEMM  parameter number 10 had an illegal value\n"
       ]
      },
      {
       "metadata": {},
       "output_type": "pyout",
       "prompt_number": 12,
       "text": [
        " ** On entry to SGEMM  parameter number 10 had an illegal value\n"
       ]
      },
      {
       "metadata": {},
       "output_type": "pyout",
       "prompt_number": 12,
       "text": [
        " ** On entry to SGEMM  parameter number 10 had an illegal value\n",
        " ** On entry to SGEMM  parameter number 10 had an illegal value\n"
       ]
      },
      {
       "metadata": {},
       "output_type": "pyout",
       "prompt_number": 12,
       "text": [
        " ** On entry to SGEMM  parameter number 10 had an illegal value\n",
        " ** On entry to SGEMM  parameter number 10 had an illegal value\n"
       ]
      },
      {
       "metadata": {},
       "output_type": "pyout",
       "prompt_number": 12,
       "text": [
        " ** On entry to SGEMM  parameter number 10 had an illegal value\n",
        " ** On entry to SGEMM  parameter number 10 had an illegal value\n"
       ]
      },
      {
       "metadata": {},
       "output_type": "pyout",
       "prompt_number": 12,
       "text": [
        " ** On entry to SGEMM  parameter number 10 had an illegal value\n"
       ]
      },
      {
       "metadata": {},
       "output_type": "pyout",
       "prompt_number": 12,
       "text": [
        " ** On entry to SGEMM  parameter number 10 had an illegal value\n"
       ]
      },
      {
       "metadata": {},
       "output_type": "pyout",
       "prompt_number": 12,
       "text": [
        " ** On entry to SGEMM  parameter number 10 had an illegal value\n"
       ]
      },
      {
       "metadata": {},
       "output_type": "pyout",
       "prompt_number": 12,
       "text": [
        " ** On entry to SGEMM  parameter number 10 had an illegal value\n"
       ]
      },
      {
       "metadata": {},
       "output_type": "pyout",
       "prompt_number": 12,
       "text": [
        " ** On entry to SGEMM  parameter number 10 had an illegal value\n"
       ]
      },
      {
       "metadata": {},
       "output_type": "pyout",
       "prompt_number": 12,
       "text": [
        " ** On entry to SGEMM  parameter number 10 had an illegal value\n"
       ]
      },
      {
       "metadata": {},
       "output_type": "pyout",
       "prompt_number": 12,
       "text": [
        " ** On entry to SGEMM  parameter number 10 had an illegal value\n"
       ]
      },
      {
       "metadata": {},
       "output_type": "pyout",
       "prompt_number": 12,
       "text": [
        " ** On entry to SGEMM  parameter number 10 had an illegal value\n"
       ]
      },
      {
       "metadata": {},
       "output_type": "pyout",
       "prompt_number": 12,
       "text": [
        " ** On entry to SGEMM  parameter number 10 had an illegal value\n",
        " ** On entry to SGEMM  parameter number 10 had an illegal value\n"
       ]
      },
      {
       "metadata": {},
       "output_type": "pyout",
       "prompt_number": 12,
       "text": [
        " ** On entry to SGEMM  parameter number 10 had an illegal value\n",
        " ** On entry to SGEMM  parameter number 10 had an illegal value\n"
       ]
      },
      {
       "metadata": {},
       "output_type": "pyout",
       "prompt_number": 12,
       "text": [
        " ** On entry to SGEMM  parameter number 10 had an illegal value\n"
       ]
      },
      {
       "metadata": {},
       "output_type": "pyout",
       "prompt_number": 12,
       "text": [
        " ** On entry to SGEMM  parameter number 10 had an illegal value\n"
       ]
      },
      {
       "metadata": {},
       "output_type": "pyout",
       "prompt_number": 12,
       "text": [
        " ** On entry to SGEMM  parameter number 10 had an illegal value\n",
        " ** On entry to SGEMM  parameter number 10 had an illegal value\n"
       ]
      },
      {
       "metadata": {},
       "output_type": "pyout",
       "prompt_number": 12,
       "text": [
        " ** On entry to SGEMM  parameter number 10 had an illegal value\n",
        " ** On entry to SGEMM  parameter number 10 had an illegal value\n"
       ]
      },
      {
       "metadata": {},
       "output_type": "pyout",
       "prompt_number": 12,
       "text": [
        " ** On entry to SGEMM  parameter number 10 had an illegal value\n",
        " ** On entry to SGEMM  parameter number 10 had an illegal value\n"
       ]
      },
      {
       "metadata": {},
       "output_type": "pyout",
       "prompt_number": 12,
       "text": [
        " ** On entry to SGEMM  parameter number 10 had an illegal value\n",
        " ** On entry to SGEMM  parameter number 10 had an illegal value\n"
       ]
      },
      {
       "metadata": {},
       "output_type": "pyout",
       "prompt_number": 12,
       "text": [
        " ** On entry to SGEMM  parameter number 10 had an illegal value\n"
       ]
      },
      {
       "metadata": {},
       "output_type": "pyout",
       "prompt_number": 12,
       "text": [
        " ** On entry to SGEMM  parameter number 10 had an illegal value\n"
       ]
      },
      {
       "metadata": {},
       "output_type": "pyout",
       "prompt_number": 12,
       "text": [
        " ** On entry to SGEMM  parameter number 10 had an illegal value\n"
       ]
      },
      {
       "metadata": {},
       "output_type": "pyout",
       "prompt_number": 12,
       "text": [
        " ** On entry to SGEMM  parameter number 10 had an illegal value\n"
       ]
      },
      {
       "metadata": {},
       "output_type": "pyout",
       "prompt_number": 12,
       "text": [
        " ** On entry to SGEMM  parameter number 10 had an illegal value\n",
        " ** On entry to SGEMM  parameter number 10 had an illegal value\n"
       ]
      },
      {
       "metadata": {},
       "output_type": "pyout",
       "prompt_number": 12,
       "text": [
        " ** On entry to SGEMM  parameter number 10 had an illegal value\n"
       ]
      },
      {
       "metadata": {},
       "output_type": "pyout",
       "prompt_number": 12,
       "text": [
        " ** On entry to SGEMM  parameter number 10 had an illegal value\n"
       ]
      },
      {
       "metadata": {},
       "output_type": "pyout",
       "prompt_number": 12,
       "text": [
        " ** On entry to SGEMM  parameter number 10 had an illegal value\n"
       ]
      },
      {
       "metadata": {},
       "output_type": "pyout",
       "prompt_number": 12,
       "text": [
        " ** On entry to SGEMM  parameter number 10 had an illegal value\n"
       ]
      },
      {
       "metadata": {},
       "output_type": "pyout",
       "prompt_number": 12,
       "text": [
        " ** On entry to SGEMM  parameter number 10 had an illegal value\n"
       ]
      },
      {
       "metadata": {},
       "output_type": "pyout",
       "prompt_number": 12,
       "text": [
        " ** On entry to SGEMM  parameter number 10 had an illegal value\n"
       ]
      },
      {
       "metadata": {},
       "output_type": "pyout",
       "prompt_number": 12,
       "text": [
        " ** On entry to SGEMM  parameter number 10 had an illegal value\n"
       ]
      },
      {
       "metadata": {},
       "output_type": "pyout",
       "prompt_number": 12,
       "text": [
        " ** On entry to SGEMM  parameter number 10 had an illegal value\n"
       ]
      },
      {
       "metadata": {},
       "output_type": "pyout",
       "prompt_number": 12,
       "text": [
        " ** On entry to SGEMM  parameter number 10 had an illegal value\n",
        " ** On entry to SGEMM  parameter number 10 had an illegal value\n"
       ]
      },
      {
       "metadata": {},
       "output_type": "pyout",
       "prompt_number": 12,
       "text": [
        " ** On entry to SGEMM  parameter number 10 had an illegal value\n",
        " ** On entry to SGEMM  parameter number 10 had an illegal value\n"
       ]
      },
      {
       "metadata": {},
       "output_type": "pyout",
       "prompt_number": 12,
       "text": [
        " ** On entry to SGEMM  parameter number 10 had an illegal value\n",
        " ** On entry to SGEMM  parameter number 10 had an illegal value\n"
       ]
      },
      {
       "metadata": {},
       "output_type": "pyout",
       "prompt_number": 12,
       "text": [
        " ** On entry to SGEMM  parameter number 10 had an illegal value\n"
       ]
      },
      {
       "metadata": {},
       "output_type": "pyout",
       "prompt_number": 12,
       "text": [
        " ** On entry to SGEMM  parameter number 10 had an illegal value\n"
       ]
      },
      {
       "metadata": {},
       "output_type": "pyout",
       "prompt_number": 12,
       "text": [
        " ** On entry to SGEMM  parameter number 10 had an illegal value\n"
       ]
      },
      {
       "metadata": {},
       "output_type": "pyout",
       "prompt_number": 12,
       "text": [
        " ** On entry to SGEMM  parameter number 10 had an illegal value\n"
       ]
      },
      {
       "metadata": {},
       "output_type": "pyout",
       "prompt_number": 12,
       "text": [
        " ** On entry to SGEMM  parameter number 10 had an illegal value\n",
        " ** On entry to SGEMM  parameter number 10 had an illegal value\n"
       ]
      },
      {
       "metadata": {},
       "output_type": "pyout",
       "prompt_number": 12,
       "text": [
        " ** On entry to SGEMM  parameter number 10 had an illegal value\n",
        " ** On entry to SGEMM  parameter number 10 had an illegal value\n"
       ]
      },
      {
       "metadata": {},
       "output_type": "pyout",
       "prompt_number": 12,
       "text": [
        " ** On entry to SGEMM  parameter number 10 had an illegal value\n",
        " ** On entry to SGEMM  parameter number 10 had an illegal value\n"
       ]
      },
      {
       "metadata": {},
       "output_type": "pyout",
       "prompt_number": 12,
       "text": [
        " ** On entry to SGEMM  parameter number 10 had an illegal value\n",
        " ** On entry to SGEMM  parameter number 10 had an illegal value\n"
       ]
      },
      {
       "metadata": {},
       "output_type": "pyout",
       "prompt_number": 12,
       "text": [
        " ** On entry to SGEMM  parameter number 10 had an illegal value\n",
        " ** On entry to SGEMM  parameter number 10 had an illegal value\n"
       ]
      },
      {
       "metadata": {},
       "output_type": "pyout",
       "prompt_number": 12,
       "text": [
        " ** On entry to SGEMM  parameter number 10 had an illegal value\n"
       ]
      },
      {
       "metadata": {},
       "output_type": "pyout",
       "prompt_number": 12,
       "text": [
        " ** On entry to SGEMM  parameter number 10 had an illegal value\n"
       ]
      },
      {
       "metadata": {},
       "output_type": "pyout",
       "prompt_number": 12,
       "text": [
        " ** On entry to SGEMM  parameter number 10 had an illegal value\n",
        " ** On entry to SGEMM  parameter number 10 had an illegal value\n"
       ]
      },
      {
       "metadata": {},
       "output_type": "pyout",
       "prompt_number": 12,
       "text": [
        " ** On entry to SGEMM  parameter number 10 had an illegal value\n",
        " ** On entry to SGEMM  parameter number 10 had an illegal value\n"
       ]
      },
      {
       "metadata": {},
       "output_type": "pyout",
       "prompt_number": 12,
       "text": [
        " ** On entry to SGEMM  parameter number 10 had an illegal value\n",
        " ** On entry to SGEMM  parameter number 10 had an illegal value\n"
       ]
      },
      {
       "metadata": {},
       "output_type": "pyout",
       "prompt_number": 12,
       "text": [
        " ** On entry to SGEMM  parameter number 10 had an illegal value\n"
       ]
      },
      {
       "metadata": {},
       "output_type": "pyout",
       "prompt_number": 12,
       "text": [
        " ** On entry to SGEMM  parameter number 10 had an illegal value\n"
       ]
      },
      {
       "metadata": {},
       "output_type": "pyout",
       "prompt_number": 12,
       "text": [
        " ** On entry to SGEMM  parameter number 10 had an illegal value\n"
       ]
      },
      {
       "metadata": {},
       "output_type": "pyout",
       "prompt_number": 12,
       "text": [
        " ** On entry to SGEMM  parameter number 10 had an illegal value\n"
       ]
      },
      {
       "metadata": {},
       "output_type": "pyout",
       "prompt_number": 12,
       "text": [
        " ** On entry to SGEMM  parameter number 10 had an illegal value\n",
        " ** On entry to SGEMM  parameter number 10 had an illegal value\n"
       ]
      },
      {
       "metadata": {},
       "output_type": "pyout",
       "prompt_number": 12,
       "text": [
        " ** On entry to SGEMM  parameter number 10 had an illegal value\n"
       ]
      },
      {
       "metadata": {},
       "output_type": "pyout",
       "prompt_number": 12,
       "text": [
        " ** On entry to SGEMM  parameter number 10 had an illegal value\n"
       ]
      },
      {
       "metadata": {},
       "output_type": "pyout",
       "prompt_number": 12,
       "text": [
        " ** On entry to SGEMM  parameter number 10 had an illegal value\n",
        " ** On entry to SGEMM  parameter number 10 had an illegal value\n"
       ]
      },
      {
       "metadata": {},
       "output_type": "pyout",
       "prompt_number": 12,
       "text": [
        " ** On entry to SGEMM  parameter number 10 had an illegal value\n",
        " ** On entry to SGEMM  parameter number 10 had an illegal value\n"
       ]
      },
      {
       "metadata": {},
       "output_type": "pyout",
       "prompt_number": 12,
       "text": [
        " ** On entry to SGEMM  parameter number 10 had an illegal value\n"
       ]
      },
      {
       "metadata": {},
       "output_type": "pyout",
       "prompt_number": 12,
       "text": [
        " ** On entry to SGEMM  parameter number 10 had an illegal value\n",
        " ** On entry to SGEMM  parameter number 10 had an illegal value\n"
       ]
      },
      {
       "metadata": {},
       "output_type": "pyout",
       "prompt_number": 12,
       "text": [
        " ** On entry to SGEMM  parameter number 10 had an illegal value\n"
       ]
      },
      {
       "metadata": {},
       "output_type": "pyout",
       "prompt_number": 12,
       "text": [
        " ** On entry to SGEMM  parameter number 10 had an illegal value\n",
        " ** On entry to SGEMM  parameter number 10 had an illegal value\n"
       ]
      },
      {
       "metadata": {},
       "output_type": "pyout",
       "prompt_number": 12,
       "text": [
        " ** On entry to SGEMM  parameter number 10 had an illegal value\n"
       ]
      },
      {
       "metadata": {},
       "output_type": "pyout",
       "prompt_number": 12,
       "text": [
        " ** On entry to SGEMM  parameter number 10 had an illegal value\n"
       ]
      },
      {
       "metadata": {},
       "output_type": "pyout",
       "prompt_number": 12,
       "text": [
        " ** On entry to SGEMM  parameter number 10 had an illegal value\n",
        " ** On entry to SGEMM  parameter number 10 had an illegal value\n"
       ]
      },
      {
       "metadata": {},
       "output_type": "pyout",
       "prompt_number": 12,
       "text": [
        " ** On entry to SGEMM  parameter number 10 had an illegal value\n",
        " ** On entry to SGEMM  parameter number 10 had an illegal value\n",
        " ** On entry to SGEMM  parameter number 10 had an illegal value\n",
        " ** On entry to SGEMM  parameter number 10 had an illegal value\n"
       ]
      },
      {
       "metadata": {},
       "output_type": "pyout",
       "prompt_number": 12,
       "text": [
        " ** On entry to SGEMM  parameter number 10 had an illegal value\n",
        " ** On entry to SGEMM  parameter number 10 had an illegal value\n"
       ]
      },
      {
       "metadata": {},
       "output_type": "pyout",
       "prompt_number": 12,
       "text": [
        " ** On entry to SGEMM  parameter number 10 had an illegal value\n"
       ]
      },
      {
       "metadata": {},
       "output_type": "pyout",
       "prompt_number": 12,
       "text": [
        " ** On entry to SGEMM  parameter number 10 had an illegal value\n"
       ]
      },
      {
       "metadata": {},
       "output_type": "pyout",
       "prompt_number": 12,
       "text": [
        " ** On entry to SGEMM  parameter number 10 had an illegal value\n"
       ]
      },
      {
       "metadata": {},
       "output_type": "pyout",
       "prompt_number": 12,
       "text": [
        " ** On entry to SGEMM  parameter number 10 had an illegal value\n"
       ]
      },
      {
       "metadata": {},
       "output_type": "pyout",
       "prompt_number": 12,
       "text": [
        " ** On entry to SGEMM  parameter number 10 had an illegal value\n"
       ]
      },
      {
       "metadata": {},
       "output_type": "pyout",
       "prompt_number": 12,
       "text": [
        " ** On entry to SGEMM  parameter number 10 had an illegal value\n"
       ]
      },
      {
       "metadata": {},
       "output_type": "pyout",
       "prompt_number": 12,
       "text": [
        " ** On entry to SGEMM  parameter number 10 had an illegal value\n"
       ]
      },
      {
       "metadata": {},
       "output_type": "pyout",
       "prompt_number": 12,
       "text": [
        " ** On entry to SGEMM  parameter number 10 had an illegal value\n"
       ]
      },
      {
       "metadata": {},
       "output_type": "pyout",
       "prompt_number": 12,
       "text": [
        " ** On entry to SGEMM  parameter number 10 had an illegal value\n",
        " ** On entry to SGEMM  parameter number 10 had an illegal value\n"
       ]
      },
      {
       "metadata": {},
       "output_type": "pyout",
       "prompt_number": 12,
       "text": [
        " ** On entry to SGEMM  parameter number 10 had an illegal value\n"
       ]
      },
      {
       "metadata": {},
       "output_type": "pyout",
       "prompt_number": 12,
       "text": [
        " ** On entry to SGEMM  parameter number 10 had an illegal value\n"
       ]
      },
      {
       "metadata": {},
       "output_type": "pyout",
       "prompt_number": 12,
       "text": [
        " ** On entry to SGEMM  parameter number 10 had an illegal value\n",
        " ** On entry to SGEMM  parameter number 10 had an illegal value\n"
       ]
      },
      {
       "metadata": {},
       "output_type": "pyout",
       "prompt_number": 12,
       "text": [
        " ** On entry to SGEMM  parameter number 10 had an illegal value\n"
       ]
      },
      {
       "metadata": {},
       "output_type": "pyout",
       "prompt_number": 12,
       "text": [
        " ** On entry to SGEMM  parameter number 10 had an illegal value\n"
       ]
      },
      {
       "metadata": {},
       "output_type": "pyout",
       "prompt_number": 12,
       "text": [
        " ** On entry to SGEMM  parameter number 10 had an illegal value\n",
        " ** On entry to SGEMM  parameter number 10 had an illegal value\n"
       ]
      },
      {
       "metadata": {},
       "output_type": "pyout",
       "prompt_number": 12,
       "text": [
        " ** On entry to SGEMM  parameter number 10 had an illegal value\n",
        " ** On entry to SGEMM  parameter number 10 had an illegal value\n"
       ]
      },
      {
       "metadata": {},
       "output_type": "pyout",
       "prompt_number": 12,
       "text": [
        " ** On entry to SGEMM  parameter number 10 had an illegal value\n",
        " ** On entry to SGEMM  parameter number 10 had an illegal value\n"
       ]
      },
      {
       "metadata": {},
       "output_type": "pyout",
       "prompt_number": 12,
       "text": [
        " ** On entry to SGEMM  parameter number 10 had an illegal value\n",
        " ** On entry to SGEMM  parameter number 10 had an illegal value\n"
       ]
      },
      {
       "metadata": {},
       "output_type": "pyout",
       "prompt_number": 12,
       "text": [
        " ** On entry to SGEMM  parameter number 10 had an illegal value\n",
        " ** On entry to SGEMM  parameter number 10 had an illegal value\n"
       ]
      },
      {
       "metadata": {},
       "output_type": "pyout",
       "prompt_number": 12,
       "text": [
        " ** On entry to SGEMM  parameter number 10 had an illegal value\n",
        " ** On entry to SGEMM  parameter number 10 had an illegal value\n"
       ]
      },
      {
       "metadata": {},
       "output_type": "pyout",
       "prompt_number": 12,
       "text": [
        " ** On entry to SGEMM  parameter number 10 had an illegal value\n",
        " ** On entry to SGEMM  parameter number 10 had an illegal value\n"
       ]
      },
      {
       "metadata": {},
       "output_type": "pyout",
       "prompt_number": 12,
       "text": [
        " ** On entry to SGEMM  parameter number 10 had an illegal value\n",
        " ** On entry to SGEMM  parameter number 10 had an illegal value\n"
       ]
      },
      {
       "metadata": {},
       "output_type": "pyout",
       "prompt_number": 12,
       "text": [
        " ** On entry to SGEMM  parameter number 10 had an illegal value\n",
        " ** On entry to SGEMM  parameter number 10 had an illegal value\n"
       ]
      },
      {
       "metadata": {},
       "output_type": "pyout",
       "prompt_number": 12,
       "text": [
        " ** On entry to SGEMM  parameter number 10 had an illegal value\n"
       ]
      },
      {
       "metadata": {},
       "output_type": "pyout",
       "prompt_number": 12,
       "text": [
        " ** On entry to SGEMM  parameter number 10 had an illegal value\n"
       ]
      },
      {
       "metadata": {},
       "output_type": "pyout",
       "prompt_number": 12,
       "text": [
        " ** On entry to SGEMM  parameter number 10 had an illegal value\n"
       ]
      },
      {
       "metadata": {},
       "output_type": "pyout",
       "prompt_number": 12,
       "text": [
        " ** On entry to SGEMM  parameter number 10 had an illegal value\n"
       ]
      },
      {
       "metadata": {},
       "output_type": "pyout",
       "prompt_number": 12,
       "text": [
        " ** On entry to SGEMM  parameter number 10 had an illegal value\n"
       ]
      },
      {
       "metadata": {},
       "output_type": "pyout",
       "prompt_number": 12,
       "text": [
        " ** On entry to SGEMM  parameter number 10 had an illegal value\n"
       ]
      },
      {
       "metadata": {},
       "output_type": "pyout",
       "prompt_number": 12,
       "text": [
        " ** On entry to SGEMM  parameter number 10 had an illegal value\n",
        " ** On entry to SGEMM  parameter number 10 had an illegal value\n"
       ]
      },
      {
       "metadata": {},
       "output_type": "pyout",
       "prompt_number": 12,
       "text": [
        " ** On entry to SGEMM  parameter number 10 had an illegal value\n",
        " ** On entry to SGEMM  parameter number 10 had an illegal value\n"
       ]
      },
      {
       "metadata": {},
       "output_type": "pyout",
       "prompt_number": 12,
       "text": [
        " ** On entry to SGEMM  parameter number 10 had an illegal value\n",
        " ** On entry to SGEMM  parameter number 10 had an illegal value\n"
       ]
      },
      {
       "metadata": {},
       "output_type": "pyout",
       "prompt_number": 12,
       "text": [
        " ** On entry to SGEMM  parameter number 10 had an illegal value\n"
       ]
      },
      {
       "metadata": {},
       "output_type": "pyout",
       "prompt_number": 12,
       "text": [
        " ** On entry to SGEMM  parameter number 10 had an illegal value\n"
       ]
      },
      {
       "metadata": {},
       "output_type": "pyout",
       "prompt_number": 12,
       "text": [
        " ** On entry to SGEMM  parameter number 10 had an illegal value\n",
        " ** On entry to SGEMM  parameter number 10 had an illegal value\n"
       ]
      },
      {
       "metadata": {},
       "output_type": "pyout",
       "prompt_number": 12,
       "text": [
        " ** On entry to SGEMM  parameter number 10 had an illegal value\n",
        " ** On entry to SGEMM  parameter number 10 had an illegal value\n"
       ]
      },
      {
       "metadata": {},
       "output_type": "pyout",
       "prompt_number": 12,
       "text": [
        " ** On entry to SGEMM  parameter number 10 had an illegal value\n"
       ]
      },
      {
       "metadata": {},
       "output_type": "pyout",
       "prompt_number": 12,
       "text": [
        " ** On entry to SGEMM  parameter number 10 had an illegal value\n"
       ]
      },
      {
       "metadata": {},
       "output_type": "pyout",
       "prompt_number": 12,
       "text": [
        " ** On entry to SGEMM  parameter number 10 had an illegal value\n"
       ]
      },
      {
       "metadata": {},
       "output_type": "pyout",
       "prompt_number": 12,
       "text": [
        " ** On entry to SGEMM  parameter number 10 had an illegal value\n"
       ]
      },
      {
       "metadata": {},
       "output_type": "pyout",
       "prompt_number": 12,
       "text": [
        " ** On entry to SGEMM  parameter number 10 had an illegal value\n",
        " ** On entry to SGEMM  parameter number 10 had an illegal value\n"
       ]
      },
      {
       "metadata": {},
       "output_type": "pyout",
       "prompt_number": 12,
       "text": [
        " ** On entry to SGEMM  parameter number 10 had an illegal value\n"
       ]
      },
      {
       "metadata": {},
       "output_type": "pyout",
       "prompt_number": 12,
       "text": [
        " ** On entry to SGEMM  parameter number 10 had an illegal value\n"
       ]
      },
      {
       "metadata": {},
       "output_type": "pyout",
       "prompt_number": 12,
       "text": [
        " ** On entry to SGEMM  parameter number 10 had an illegal value\n"
       ]
      },
      {
       "metadata": {},
       "output_type": "pyout",
       "prompt_number": 12,
       "text": [
        " ** On entry to SGEMM  parameter number 10 had an illegal value\n"
       ]
      },
      {
       "metadata": {},
       "output_type": "pyout",
       "prompt_number": 12,
       "text": [
        " ** On entry to SGEMM  parameter number 10 had an illegal value\n",
        " ** On entry to SGEMM  parameter number 10 had an illegal value\n"
       ]
      },
      {
       "metadata": {},
       "output_type": "pyout",
       "prompt_number": 12,
       "text": [
        " ** On entry to SGEMM  parameter number 10 had an illegal value\n",
        " ** On entry to SGEMM  parameter number 10 had an illegal value\n"
       ]
      },
      {
       "metadata": {},
       "output_type": "pyout",
       "prompt_number": 12,
       "text": [
        " ** On entry to SGEMM  parameter number 10 had an illegal value\n"
       ]
      },
      {
       "metadata": {},
       "output_type": "pyout",
       "prompt_number": 12,
       "text": [
        " ** On entry to SGEMM  parameter number 10 had an illegal value\n"
       ]
      },
      {
       "metadata": {},
       "output_type": "pyout",
       "prompt_number": 12,
       "text": [
        " ** On entry to SGEMM  parameter number 10 had an illegal value\n",
        " ** On entry to SGEMM  parameter number 10 had an illegal value\n",
        " ** On entry to SGEMM  parameter number 10 had an illegal value\n"
       ]
      },
      {
       "metadata": {},
       "output_type": "pyout",
       "prompt_number": 12,
       "text": [
        " ** On entry to SGEMM  parameter number 10 had an illegal value\n"
       ]
      },
      {
       "metadata": {},
       "output_type": "pyout",
       "prompt_number": 12,
       "text": [
        " ** On entry to SGEMM  parameter number 10 had an illegal value\n",
        " ** On entry to SGEMM  parameter number 10 had an illegal value\n"
       ]
      },
      {
       "metadata": {},
       "output_type": "pyout",
       "prompt_number": 12,
       "text": [
        " ** On entry to SGEMM  parameter number 10 had an illegal value\n"
       ]
      },
      {
       "metadata": {},
       "output_type": "pyout",
       "prompt_number": 12,
       "text": [
        " ** On entry to SGEMM  parameter number 10 had an illegal value\n",
        " ** On entry to SGEMM  parameter number 10 had an illegal value\n"
       ]
      },
      {
       "metadata": {},
       "output_type": "pyout",
       "prompt_number": 12,
       "text": [
        " ** On entry to SGEMM  parameter number 10 had an illegal value\n"
       ]
      },
      {
       "metadata": {},
       "output_type": "pyout",
       "prompt_number": 12,
       "text": [
        " ** On entry to SGEMM  parameter number 10 had an illegal value\n",
        " ** On entry to SGEMM  parameter number 10 had an illegal value\n"
       ]
      },
      {
       "metadata": {},
       "output_type": "pyout",
       "prompt_number": 12,
       "text": [
        " ** On entry to SGEMM  parameter number 10 had an illegal value\n",
        " ** On entry to SGEMM  parameter number 10 had an illegal value\n"
       ]
      },
      {
       "metadata": {},
       "output_type": "pyout",
       "prompt_number": 12,
       "text": [
        " ** On entry to SGEMM  parameter number 10 had an illegal value\n"
       ]
      },
      {
       "metadata": {},
       "output_type": "pyout",
       "prompt_number": 12,
       "text": [
        " ** On entry to SGEMM  parameter number 10 had an illegal value\n"
       ]
      },
      {
       "metadata": {},
       "output_type": "pyout",
       "prompt_number": 12,
       "text": [
        " ** On entry to SGEMM  parameter number 10 had an illegal value\n",
        " ** On entry to SGEMM  parameter number 10 had an illegal value\n"
       ]
      },
      {
       "metadata": {},
       "output_type": "pyout",
       "prompt_number": 12,
       "text": [
        " ** On entry to SGEMM  parameter number 10 had an illegal value\n",
        " ** On entry to SGEMM  parameter number 10 had an illegal value\n"
       ]
      },
      {
       "metadata": {},
       "output_type": "pyout",
       "prompt_number": 12,
       "text": [
        " ** On entry to SGEMM  parameter number 10 had an illegal value\n"
       ]
      },
      {
       "metadata": {},
       "output_type": "pyout",
       "prompt_number": 12,
       "text": [
        " ** On entry to SGEMM  parameter number 10 had an illegal value\n"
       ]
      },
      {
       "metadata": {},
       "output_type": "pyout",
       "prompt_number": 12,
       "text": [
        " ** On entry to SGEMM  parameter number 10 had an illegal value\n"
       ]
      },
      {
       "metadata": {},
       "output_type": "pyout",
       "prompt_number": 12,
       "text": [
        " ** On entry to SGEMM  parameter number 10 had an illegal value\n"
       ]
      },
      {
       "metadata": {},
       "output_type": "pyout",
       "prompt_number": 12,
       "text": [
        " ** On entry to SGEMM  parameter number 10 had an illegal value\n"
       ]
      },
      {
       "metadata": {},
       "output_type": "pyout",
       "prompt_number": 12,
       "text": [
        " ** On entry to SGEMM  parameter number 10 had an illegal value\n"
       ]
      },
      {
       "metadata": {},
       "output_type": "pyout",
       "prompt_number": 12,
       "text": [
        " ** On entry to SGEMM  parameter number 10 had an illegal value\n"
       ]
      },
      {
       "metadata": {},
       "output_type": "pyout",
       "prompt_number": 12,
       "text": [
        " ** On entry to SGEMM  parameter number 10 had an illegal value\n"
       ]
      },
      {
       "metadata": {},
       "output_type": "pyout",
       "prompt_number": 12,
       "text": [
        " ** On entry to SGEMM  parameter number 10 had an illegal value\n",
        " ** On entry to SGEMM  parameter number 10 had an illegal value\n"
       ]
      },
      {
       "metadata": {},
       "output_type": "pyout",
       "prompt_number": 12,
       "text": [
        " ** On entry to SGEMM  parameter number 10 had an illegal value\n",
        " ** On entry to SGEMM  parameter number 10 had an illegal value\n"
       ]
      },
      {
       "metadata": {},
       "output_type": "pyout",
       "prompt_number": 12,
       "text": [
        " ** On entry to SGEMM  parameter number 10 had an illegal value\n",
        " ** On entry to SGEMM  parameter number 10 had an illegal value\n"
       ]
      },
      {
       "metadata": {},
       "output_type": "pyout",
       "prompt_number": 12,
       "text": [
        " ** On entry to SGEMM  parameter number 10 had an illegal value\n",
        " ** On entry to SGEMM  parameter number 10 had an illegal value\n"
       ]
      },
      {
       "metadata": {},
       "output_type": "pyout",
       "prompt_number": 12,
       "text": [
        " ** On entry to SGEMM  parameter number 10 had an illegal value\n",
        " ** On entry to SGEMM  parameter number 10 had an illegal value\n"
       ]
      },
      {
       "metadata": {},
       "output_type": "pyout",
       "prompt_number": 12,
       "text": [
        " ** On entry to SGEMM  parameter number 10 had an illegal value\n",
        " ** On entry to SGEMM  parameter number 10 had an illegal value\n"
       ]
      },
      {
       "metadata": {},
       "output_type": "pyout",
       "prompt_number": 12,
       "text": [
        " ** On entry to SGEMM  parameter number 10 had an illegal value\n"
       ]
      },
      {
       "metadata": {},
       "output_type": "pyout",
       "prompt_number": 12,
       "text": [
        " ** On entry to SGEMM  parameter number 10 had an illegal value\n"
       ]
      },
      {
       "metadata": {},
       "output_type": "pyout",
       "prompt_number": 12,
       "text": [
        " ** On entry to SGEMM  parameter number 10 had an illegal value\n",
        " ** On entry to SGEMM  parameter number 10 had an illegal value\n"
       ]
      },
      {
       "metadata": {},
       "output_type": "pyout",
       "prompt_number": 12,
       "text": [
        " ** On entry to SGEMM  parameter number 10 had an illegal value\n"
       ]
      },
      {
       "metadata": {},
       "output_type": "pyout",
       "prompt_number": 12,
       "text": [
        " ** On entry to SGEMM  parameter number 10 had an illegal value\n"
       ]
      },
      {
       "metadata": {},
       "output_type": "pyout",
       "prompt_number": 12,
       "text": [
        " ** On entry to SGEMM  parameter number 10 had an illegal value\n",
        " ** On entry to SGEMM  parameter number 10 had an illegal value\n"
       ]
      },
      {
       "metadata": {},
       "output_type": "pyout",
       "prompt_number": 12,
       "text": [
        " ** On entry to SGEMM  parameter number 10 had an illegal value\n",
        " ** On entry to SGEMM  parameter number 10 had an illegal value\n"
       ]
      },
      {
       "metadata": {},
       "output_type": "pyout",
       "prompt_number": 12,
       "text": [
        " ** On entry to SGEMM  parameter number 10 had an illegal value\n",
        " ** On entry to SGEMM  parameter number 10 had an illegal value\n"
       ]
      },
      {
       "metadata": {},
       "output_type": "pyout",
       "prompt_number": 12,
       "text": [
        " ** On entry to SGEMM  parameter number 10 had an illegal value\n"
       ]
      },
      {
       "metadata": {},
       "output_type": "pyout",
       "prompt_number": 12,
       "text": [
        " ** On entry to SGEMM  parameter number 10 had an illegal value\n"
       ]
      },
      {
       "metadata": {},
       "output_type": "pyout",
       "prompt_number": 12,
       "text": [
        " ** On entry to SGEMM  parameter number 10 had an illegal value\n"
       ]
      },
      {
       "metadata": {},
       "output_type": "pyout",
       "prompt_number": 12,
       "text": [
        " ** On entry to SGEMM  parameter number 10 had an illegal value\n"
       ]
      },
      {
       "metadata": {},
       "output_type": "pyout",
       "prompt_number": 12,
       "text": [
        " ** On entry to SGEMM  parameter number 10 had an illegal value\n"
       ]
      },
      {
       "metadata": {},
       "output_type": "pyout",
       "prompt_number": 12,
       "text": [
        " ** On entry to SGEMM  parameter number 10 had an illegal value\n"
       ]
      },
      {
       "metadata": {},
       "output_type": "pyout",
       "prompt_number": 12,
       "text": [
        " ** On entry to SGEMM  parameter number 10 had an illegal value\n",
        " ** On entry to SGEMM  parameter number 10 had an illegal value\n"
       ]
      },
      {
       "metadata": {},
       "output_type": "pyout",
       "prompt_number": 12,
       "text": [
        " ** On entry to SGEMM  parameter number 10 had an illegal value\n",
        " ** On entry to SGEMM  parameter number 10 had an illegal value\n"
       ]
      },
      {
       "metadata": {},
       "output_type": "pyout",
       "prompt_number": 12,
       "text": [
        " ** On entry to SGEMM  parameter number 10 had an illegal value\n",
        " ** On entry to SGEMM  parameter number 10 had an illegal value\n",
        " ** On entry to SGEMM  parameter number 10 had an illegal value\n",
        " ** On entry to SGEMM  parameter number 10 had an illegal value\n"
       ]
      },
      {
       "metadata": {},
       "output_type": "pyout",
       "prompt_number": 12,
       "text": [
        " ** On entry to SGEMM  parameter number 10 had an illegal value\n",
        " ** On entry to SGEMM  parameter number 10 had an illegal value\n"
       ]
      },
      {
       "metadata": {},
       "output_type": "pyout",
       "prompt_number": 12,
       "text": [
        " ** On entry to SGEMM  parameter number 10 had an illegal value\n"
       ]
      },
      {
       "metadata": {},
       "output_type": "pyout",
       "prompt_number": 12,
       "text": [
        " ** On entry to SGEMM  parameter number 10 had an illegal value\n"
       ]
      },
      {
       "metadata": {},
       "output_type": "pyout",
       "prompt_number": 12,
       "text": [
        " ** On entry to SGEMM  parameter number 10 had an illegal value\n",
        " ** On entry to SGEMM  parameter number 10 had an illegal value\n"
       ]
      },
      {
       "metadata": {},
       "output_type": "pyout",
       "prompt_number": 12,
       "text": [
        " ** On entry to SGEMM  parameter number 10 had an illegal value\n",
        " ** On entry to SGEMM  parameter number 10 had an illegal value\n"
       ]
      },
      {
       "metadata": {},
       "output_type": "pyout",
       "prompt_number": 12,
       "text": [
        " ** On entry to SGEMM  parameter number 10 had an illegal value\n",
        " ** On entry to SGEMM  parameter number 10 had an illegal value\n"
       ]
      },
      {
       "metadata": {},
       "output_type": "pyout",
       "prompt_number": 12,
       "text": [
        " ** On entry to SGEMM  parameter number 10 had an illegal value\n",
        " ** On entry to SGEMM  parameter number 10 had an illegal value\n"
       ]
      },
      {
       "metadata": {},
       "output_type": "pyout",
       "prompt_number": 12,
       "text": [
        " ** On entry to SGEMM  parameter number 10 had an illegal value\n"
       ]
      },
      {
       "metadata": {},
       "output_type": "pyout",
       "prompt_number": 12,
       "text": [
        " ** On entry to SGEMM  parameter number 10 had an illegal value\n"
       ]
      },
      {
       "metadata": {},
       "output_type": "pyout",
       "prompt_number": 12,
       "text": [
        " ** On entry to SGEMM  parameter number 10 had an illegal value\n"
       ]
      },
      {
       "metadata": {},
       "output_type": "pyout",
       "prompt_number": 12,
       "text": [
        " ** On entry to SGEMM  parameter number 10 had an illegal value\n"
       ]
      },
      {
       "metadata": {},
       "output_type": "pyout",
       "prompt_number": 12,
       "text": [
        " ** On entry to SGEMM  parameter number 10 had an illegal value\n"
       ]
      },
      {
       "metadata": {},
       "output_type": "pyout",
       "prompt_number": 12,
       "text": [
        " ** On entry to SGEMM  parameter number 10 had an illegal value\n"
       ]
      },
      {
       "metadata": {},
       "output_type": "pyout",
       "prompt_number": 12,
       "text": [
        " ** On entry to SGEMM  parameter number 10 had an illegal value\n",
        " ** On entry to SGEMM  parameter number 10 had an illegal value\n"
       ]
      },
      {
       "metadata": {},
       "output_type": "pyout",
       "prompt_number": 12,
       "text": [
        " ** On entry to SGEMM  parameter number 10 had an illegal value\n",
        " ** On entry to SGEMM  parameter number 10 had an illegal value\n"
       ]
      },
      {
       "metadata": {},
       "output_type": "pyout",
       "prompt_number": 12,
       "text": [
        " ** On entry to SGEMM  parameter number 10 had an illegal value\n",
        " ** On entry to SGEMM  parameter number 10 had an illegal value\n"
       ]
      },
      {
       "metadata": {},
       "output_type": "pyout",
       "prompt_number": 12,
       "text": [
        " ** On entry to SGEMM  parameter number 10 had an illegal value\n",
        " ** On entry to SGEMM  parameter number 10 had an illegal value\n"
       ]
      },
      {
       "metadata": {},
       "output_type": "pyout",
       "prompt_number": 12,
       "text": [
        " ** On entry to SGEMM  parameter number 10 had an illegal value\n",
        " ** On entry to SGEMM  parameter number 10 had an illegal value\n"
       ]
      },
      {
       "metadata": {},
       "output_type": "pyout",
       "prompt_number": 12,
       "text": [
        " ** On entry to SGEMM  parameter number 10 had an illegal value\n",
        " ** On entry to SGEMM  parameter number 10 had an illegal value\n",
        " ** On entry to SGEMM  parameter number 10 had an illegal value\n"
       ]
      },
      {
       "metadata": {},
       "output_type": "pyout",
       "prompt_number": 12,
       "text": [
        " ** On entry to SGEMM  parameter number 10 had an illegal value\n",
        " ** On entry to SGEMM  parameter number 10 had an illegal value\n",
        " ** On entry to SGEMM  parameter number 10 had an illegal value\n"
       ]
      },
      {
       "metadata": {},
       "output_type": "pyout",
       "prompt_number": 12,
       "text": [
        " ** On entry to SGEMM  parameter number 10 had an illegal value\n",
        " ** On entry to SGEMM  parameter number 10 had an illegal value\n"
       ]
      },
      {
       "metadata": {},
       "output_type": "pyout",
       "prompt_number": 12,
       "text": [
        " ** On entry to SGEMM  parameter number 10 had an illegal value\n"
       ]
      },
      {
       "metadata": {},
       "output_type": "pyout",
       "prompt_number": 12,
       "text": [
        " ** On entry to SGEMM  parameter number 10 had an illegal value\n"
       ]
      },
      {
       "metadata": {},
       "output_type": "pyout",
       "prompt_number": 12,
       "text": [
        " ** On entry to SGEMM  parameter number 10 had an illegal value\n"
       ]
      },
      {
       "metadata": {},
       "output_type": "pyout",
       "prompt_number": 12,
       "text": [
        " ** On entry to SGEMM  parameter number 10 had an illegal value\n"
       ]
      },
      {
       "metadata": {},
       "output_type": "pyout",
       "prompt_number": 12,
       "text": [
        " ** On entry to SGEMM  parameter number 10 had an illegal value\n"
       ]
      },
      {
       "metadata": {},
       "output_type": "pyout",
       "prompt_number": 12,
       "text": [
        " ** On entry to SGEMM  parameter number 10 had an illegal value\n"
       ]
      },
      {
       "metadata": {},
       "output_type": "pyout",
       "prompt_number": 12,
       "text": [
        " ** On entry to SGEMM  parameter number 10 had an illegal value\n",
        " ** On entry to SGEMM  parameter number 10 had an illegal value\n",
        " ** On entry to SGEMM  parameter number 10 had an illegal value\n",
        " ** On entry to SGEMM  parameter number 10 had an illegal value\n"
       ]
      },
      {
       "metadata": {},
       "output_type": "pyout",
       "prompt_number": 12,
       "text": [
        " ** On entry to SGEMM  parameter number 10 had an illegal value\n",
        " ** On entry to SGEMM  parameter number 10 had an illegal value\n"
       ]
      },
      {
       "metadata": {},
       "output_type": "pyout",
       "prompt_number": 12,
       "text": [
        " ** On entry to SGEMM  parameter number 10 had an illegal value\n"
       ]
      },
      {
       "metadata": {},
       "output_type": "pyout",
       "prompt_number": 12,
       "text": [
        " ** On entry to SGEMM  parameter number 10 had an illegal value\n"
       ]
      },
      {
       "metadata": {},
       "output_type": "pyout",
       "prompt_number": 12,
       "text": [
        " ** On entry to SGEMM  parameter number 10 had an illegal value\n"
       ]
      },
      {
       "metadata": {},
       "output_type": "pyout",
       "prompt_number": 12,
       "text": [
        " ** On entry to SGEMM  parameter number 10 had an illegal value\n"
       ]
      },
      {
       "metadata": {},
       "output_type": "pyout",
       "prompt_number": 12,
       "text": [
        " ** On entry to SGEMM  parameter number 10 had an illegal value\n",
        " ** On entry to SGEMM  parameter number 10 had an illegal value\n"
       ]
      },
      {
       "metadata": {},
       "output_type": "pyout",
       "prompt_number": 12,
       "text": [
        " ** On entry to SGEMM  parameter number 10 had an illegal value\n",
        " ** On entry to SGEMM  parameter number 10 had an illegal value\n"
       ]
      },
      {
       "metadata": {},
       "output_type": "pyout",
       "prompt_number": 12,
       "text": [
        " ** On entry to SGEMM  parameter number 10 had an illegal value\n",
        " ** On entry to SGEMM  parameter number 10 had an illegal value\n"
       ]
      },
      {
       "metadata": {},
       "output_type": "pyout",
       "prompt_number": 12,
       "text": [
        " ** On entry to SGEMM  parameter number 10 had an illegal value\n"
       ]
      },
      {
       "metadata": {},
       "output_type": "pyout",
       "prompt_number": 12,
       "text": [
        " ** On entry to SGEMM  parameter number 10 had an illegal value\n"
       ]
      },
      {
       "metadata": {},
       "output_type": "pyout",
       "prompt_number": 12,
       "text": [
        " ** On entry to SGEMM  parameter number 10 had an illegal value\n"
       ]
      },
      {
       "metadata": {},
       "output_type": "pyout",
       "prompt_number": 12,
       "text": [
        " ** On entry to SGEMM  parameter number 10 had an illegal value\n"
       ]
      },
      {
       "metadata": {},
       "output_type": "pyout",
       "prompt_number": 12,
       "text": [
        " ** On entry to SGEMM  parameter number 10 had an illegal value\n",
        " ** On entry to SGEMM  parameter number 10 had an illegal value\n"
       ]
      },
      {
       "metadata": {},
       "output_type": "pyout",
       "prompt_number": 12,
       "text": [
        " ** On entry to SGEMM  parameter number 10 had an illegal value\n",
        " ** On entry to SGEMM  parameter number 10 had an illegal value\n"
       ]
      },
      {
       "metadata": {},
       "output_type": "pyout",
       "prompt_number": 12,
       "text": [
        " ** On entry to SGEMM  parameter number 10 had an illegal value\n",
        " ** On entry to SGEMM  parameter number 10 had an illegal value\n"
       ]
      },
      {
       "metadata": {},
       "output_type": "pyout",
       "prompt_number": 12,
       "text": [
        " ** On entry to SGEMM  parameter number 10 had an illegal value\n"
       ]
      },
      {
       "metadata": {},
       "output_type": "pyout",
       "prompt_number": 12,
       "text": [
        " ** On entry to SGEMM  parameter number 10 had an illegal value\n"
       ]
      },
      {
       "metadata": {},
       "output_type": "pyout",
       "prompt_number": 12,
       "text": [
        " ** On entry to SGEMM  parameter number 10 had an illegal value\n"
       ]
      },
      {
       "metadata": {},
       "output_type": "pyout",
       "prompt_number": 12,
       "text": [
        " ** On entry to SGEMM  parameter number 10 had an illegal value\n"
       ]
      },
      {
       "metadata": {},
       "output_type": "pyout",
       "prompt_number": 12,
       "text": [
        " ** On entry to SGEMM  parameter number 10 had an illegal value\n",
        " ** On entry to SGEMM  parameter number 10 had an illegal value\n"
       ]
      },
      {
       "metadata": {},
       "output_type": "pyout",
       "prompt_number": 12,
       "text": [
        " ** On entry to SGEMM  parameter number 10 had an illegal value\n",
        " ** On entry to SGEMM  parameter number 10 had an illegal value\n"
       ]
      },
      {
       "metadata": {},
       "output_type": "pyout",
       "prompt_number": 12,
       "text": [
        " ** On entry to SGEMM  parameter number 10 had an illegal value\n",
        " ** On entry to SGEMM  parameter number 10 had an illegal value\n"
       ]
      },
      {
       "metadata": {},
       "output_type": "pyout",
       "prompt_number": 12,
       "text": [
        " ** On entry to SGEMM  parameter number 10 had an illegal value\n"
       ]
      },
      {
       "metadata": {},
       "output_type": "pyout",
       "prompt_number": 12,
       "text": [
        " ** On entry to SGEMM  parameter number 10 had an illegal value\n"
       ]
      },
      {
       "metadata": {},
       "output_type": "pyout",
       "prompt_number": 12,
       "text": [
        "Progress: 237 / 251\t\n",
        " ** On entry to SGEMM  parameter number 10 had an illegal value\n",
        " ** On entry to SGEMM  parameter number 10 had an illegal value\n"
       ]
      },
      {
       "metadata": {},
       "output_type": "pyout",
       "prompt_number": 12,
       "text": [
        " ** On entry to SGEMM  parameter number 10 had an illegal value\n"
       ]
      },
      {
       "metadata": {},
       "output_type": "pyout",
       "prompt_number": 12,
       "text": [
        " ** On entry to SGEMM  parameter number 10 had an illegal value\n"
       ]
      },
      {
       "metadata": {},
       "output_type": "pyout",
       "prompt_number": 12,
       "text": [
        " ** On entry to SGEMM  parameter number 10 had an illegal value\n",
        " ** On entry to SGEMM  parameter number 10 had an illegal value\n"
       ]
      },
      {
       "metadata": {},
       "output_type": "pyout",
       "prompt_number": 12,
       "text": [
        " ** On entry to SGEMM  parameter number 10 had an illegal value\n"
       ]
      },
      {
       "metadata": {},
       "output_type": "pyout",
       "prompt_number": 12,
       "text": [
        " ** On entry to SGEMM  parameter number 10 had an illegal value\n",
        " ** On entry to SGEMM  parameter number 10 had an illegal value\n"
       ]
      },
      {
       "metadata": {},
       "output_type": "pyout",
       "prompt_number": 12,
       "text": [
        " ** On entry to SGEMM  parameter number 10 had an illegal value\n"
       ]
      },
      {
       "metadata": {},
       "output_type": "pyout",
       "prompt_number": 12,
       "text": [
        " ** On entry to SGEMM  parameter number 10 had an illegal value\n",
        " ** On entry to SGEMM  parameter number 10 had an illegal value\n",
        " ** On entry to SGEMM  parameter number 10 had an illegal value\n",
        " ** On entry to SGEMM  parameter number 10 had an illegal value\n"
       ]
      },
      {
       "metadata": {},
       "output_type": "pyout",
       "prompt_number": 12,
       "text": [
        " ** On entry to SGEMM  parameter number 10 had an illegal value\n",
        " ** On entry to SGEMM  parameter number 10 had an illegal value\n"
       ]
      },
      {
       "metadata": {},
       "output_type": "pyout",
       "prompt_number": 12,
       "text": [
        " ** On entry to SGEMM  parameter number 10 had an illegal value\n"
       ]
      },
      {
       "metadata": {},
       "output_type": "pyout",
       "prompt_number": 12,
       "text": [
        " ** On entry to SGEMM  parameter number 10 had an illegal value\n"
       ]
      },
      {
       "metadata": {},
       "output_type": "pyout",
       "prompt_number": 12,
       "text": [
        " ** On entry to SGEMM  parameter number 10 had an illegal value\n"
       ]
      },
      {
       "metadata": {},
       "output_type": "pyout",
       "prompt_number": 12,
       "text": [
        " ** On entry to SGEMM  parameter number 10 had an illegal value\n"
       ]
      },
      {
       "metadata": {},
       "output_type": "pyout",
       "prompt_number": 12,
       "text": [
        " ** On entry to SGEMM  parameter number 10 had an illegal value\n",
        " ** On entry to SGEMM  parameter number 10 had an illegal value\n"
       ]
      },
      {
       "metadata": {},
       "output_type": "pyout",
       "prompt_number": 12,
       "text": [
        " ** On entry to SGEMM  parameter number 10 had an illegal value\n"
       ]
      },
      {
       "metadata": {},
       "output_type": "pyout",
       "prompt_number": 12,
       "text": [
        " ** On entry to SGEMM  parameter number 10 had an illegal value\n"
       ]
      },
      {
       "metadata": {},
       "output_type": "pyout",
       "prompt_number": 12,
       "text": [
        " ** On entry to SGEMM  parameter number 10 had an illegal value\n"
       ]
      },
      {
       "metadata": {},
       "output_type": "pyout",
       "prompt_number": 12,
       "text": [
        " ** On entry to SGEMM  parameter number 10 had an illegal value\n"
       ]
      },
      {
       "metadata": {},
       "output_type": "pyout",
       "prompt_number": 12,
       "text": [
        " ** On entry to SGEMM  parameter number 10 had an illegal value\n",
        " ** On entry to SGEMM  parameter number 10 had an illegal value\n",
        " ** On entry to SGEMM  parameter number 10 had an illegal value\n",
        " ** On entry to SGEMM  parameter number 10 had an illegal value\n"
       ]
      },
      {
       "metadata": {},
       "output_type": "pyout",
       "prompt_number": 12,
       "text": [
        "ConfusionMatrix:\n",
        "[[       0       2]   0.000% \t[class: 1]\n",
        " [       0     249]]  100.000% \t[class: 2]\n",
        " + average row correct: 50% \n",
        " + average rowUcol correct (VOC measure): 49.601593613625% \n",
        " + global correct: 99.203187250996%\n",
        "{\n",
        "  averageUnionValid : 0.49601593613625\n",
        "  _targ_idx : LongTensor - empty\n",
        "  valids : FloatTensor - size: 2\n",
        "  classes : \n",
        "    {\n",
        "      1 : 1\n",
        "      2 : 2\n",
        "    }\n",
        "  _target : FloatTensor - empty\n",
        "  mat : FloatTensor - size: 2x2\n",
        "  _pred_idx : LongTensor - size: 1\n",
        "  _max : FloatTensor - size: 1\n",
        "  unionvalids : FloatTensor - size: 2\n",
        "  nclasses : 2\n",
        "  totalValid : 0.99203187250996\n",
        "  _prediction : FloatTensor - size: 2\n",
        "  averageValid : 0.5\n",
        "}\n"
       ]
      },
      {
       "metadata": {},
       "output_type": "pyout",
       "prompt_number": 12,
       "text": [
        "==> saving model to /home/zayik/Desktop/CS491/Recurrent-Neural-Net-Music-Classification/model.net\t\n"
       ]
      },
      {
       "metadata": {},
       "output_type": "pyout",
       "prompt_number": 12,
       "text": [
        " ** On entry to SGEMM  parameter number 10 had an illegal value\n"
       ]
      },
      {
       "metadata": {},
       "output_type": "pyout",
       "prompt_number": 12,
       "text": [
        " ** On entry to SGEMM  parameter number 10 had an illegal value\n"
       ]
      },
      {
       "metadata": {},
       "output_type": "pyout",
       "prompt_number": 12,
       "text": [
        " ** On entry to SGEMM  parameter number 10 had an illegal value\n"
       ]
      },
      {
       "metadata": {},
       "output_type": "pyout",
       "prompt_number": 12,
       "text": [
        " ** On entry to SGEMM  parameter number 10 had an illegal value\n"
       ]
      },
      {
       "metadata": {},
       "output_type": "pyout",
       "prompt_number": 12,
       "text": [
        " ** On entry to SGEMM  parameter number 10 had an illegal value\n"
       ]
      },
      {
       "metadata": {},
       "output_type": "pyout",
       "prompt_number": 12,
       "text": [
        " ** On entry to SGEMM  parameter number 10 had an illegal value\n"
       ]
      },
      {
       "metadata": {},
       "output_type": "pyout",
       "prompt_number": 12,
       "text": [
        " ** On entry to SGEMM  parameter number 10 had an illegal value\n"
       ]
      },
      {
       "metadata": {},
       "output_type": "pyout",
       "prompt_number": 12,
       "text": [
        " ** On entry to SGEMM  parameter number 10 had an illegal value\n"
       ]
      },
      {
       "metadata": {},
       "output_type": "pyout",
       "prompt_number": 12,
       "text": [
        " ** On entry to SGEMM  parameter number 10 had an illegal value\n",
        " ** On entry to SGEMM  parameter number 10 had an illegal value\n"
       ]
      },
      {
       "metadata": {},
       "output_type": "pyout",
       "prompt_number": 12,
       "text": [
        " ** On entry to SGEMM  parameter number 10 had an illegal value\n"
       ]
      },
      {
       "metadata": {},
       "output_type": "pyout",
       "prompt_number": 12,
       "text": [
        " ** On entry to SGEMM  parameter number 10 had an illegal value\n"
       ]
      },
      {
       "metadata": {},
       "output_type": "pyout",
       "prompt_number": 12,
       "text": [
        " ** On entry to SGEMM  parameter number 10 had an illegal value\n"
       ]
      },
      {
       "metadata": {},
       "output_type": "pyout",
       "prompt_number": 12,
       "text": [
        " ** On entry to SGEMM  parameter number 10 had an illegal value\n"
       ]
      },
      {
       "metadata": {},
       "output_type": "pyout",
       "prompt_number": 12,
       "text": [
        " ** On entry to SGEMM  parameter number 10 had an illegal value\n"
       ]
      },
      {
       "metadata": {},
       "output_type": "pyout",
       "prompt_number": 12,
       "text": [
        " ** On entry to SGEMM  parameter number 10 had an illegal value\n"
       ]
      },
      {
       "metadata": {},
       "output_type": "pyout",
       "prompt_number": 12,
       "text": [
        " ** On entry to SGEMM  parameter number 10 had an illegal value\n"
       ]
      },
      {
       "metadata": {},
       "output_type": "pyout",
       "prompt_number": 12,
       "text": [
        " ** On entry to SGEMM  parameter number 10 had an illegal value\n"
       ]
      },
      {
       "metadata": {},
       "output_type": "pyout",
       "prompt_number": 12,
       "text": [
        " ** On entry to SGEMM  parameter number 10 had an illegal value\n",
        " ** On entry to SGEMM  parameter number 10 had an illegal value\n"
       ]
      },
      {
       "metadata": {},
       "output_type": "pyout",
       "prompt_number": 12,
       "text": [
        " ** On entry to SGEMM  parameter number 10 had an illegal value\n"
       ]
      },
      {
       "metadata": {},
       "output_type": "pyout",
       "prompt_number": 12,
       "text": [
        " ** On entry to SGEMM  parameter number 10 had an illegal value\n"
       ]
      },
      {
       "metadata": {},
       "output_type": "pyout",
       "prompt_number": 12,
       "text": [
        " ** On entry to SGEMM  parameter number 10 had an illegal value\n",
        " ** On entry to SGEMM  parameter number 10 had an illegal value\n"
       ]
      },
      {
       "metadata": {},
       "output_type": "pyout",
       "prompt_number": 12,
       "text": [
        " ** On entry to SGEMM  parameter number 10 had an illegal value\n",
        " ** On entry to SGEMM  parameter number 10 had an illegal value\n"
       ]
      },
      {
       "metadata": {},
       "output_type": "pyout",
       "prompt_number": 12,
       "text": [
        " ** On entry to SGEMM  parameter number 10 had an illegal value\n",
        " ** On entry to SGEMM  parameter number 10 had an illegal value\n"
       ]
      },
      {
       "metadata": {},
       "output_type": "pyout",
       "prompt_number": 12,
       "text": [
        " ** On entry to SGEMM  parameter number 10 had an illegal value\n"
       ]
      },
      {
       "metadata": {},
       "output_type": "pyout",
       "prompt_number": 12,
       "text": [
        " ** On entry to SGEMM  parameter number 10 had an illegal value\n"
       ]
      },
      {
       "metadata": {},
       "output_type": "pyout",
       "prompt_number": 12,
       "text": [
        " ** On entry to SGEMM  parameter number 10 had an illegal value\n"
       ]
      },
      {
       "metadata": {},
       "output_type": "pyout",
       "prompt_number": 12,
       "text": [
        " ** On entry to SGEMM  parameter number 10 had an illegal value\n"
       ]
      },
      {
       "metadata": {},
       "output_type": "pyout",
       "prompt_number": 12,
       "text": [
        " ** On entry to SGEMM  parameter number 10 had an illegal value\n",
        " ** On entry to SGEMM  parameter number 10 had an illegal value\n"
       ]
      },
      {
       "metadata": {},
       "output_type": "pyout",
       "prompt_number": 12,
       "text": [
        " ** On entry to SGEMM  parameter number 10 had an illegal value\n",
        " ** On entry to SGEMM  parameter number 10 had an illegal value\n"
       ]
      },
      {
       "metadata": {},
       "output_type": "pyout",
       "prompt_number": 12,
       "text": [
        " ** On entry to SGEMM  parameter number 10 had an illegal value\n",
        " ** On entry to SGEMM  parameter number 10 had an illegal value\n"
       ]
      },
      {
       "metadata": {},
       "output_type": "pyout",
       "prompt_number": 12,
       "text": [
        " ** On entry to SGEMM  parameter number 10 had an illegal value\n"
       ]
      },
      {
       "metadata": {},
       "output_type": "pyout",
       "prompt_number": 12,
       "text": [
        " ** On entry to SGEMM  parameter number 10 had an illegal value\n",
        " ** On entry to SGEMM  parameter number 10 had an illegal value\n"
       ]
      },
      {
       "metadata": {},
       "output_type": "pyout",
       "prompt_number": 12,
       "text": [
        " ** On entry to SGEMM  parameter number 10 had an illegal value\n"
       ]
      },
      {
       "metadata": {},
       "output_type": "pyout",
       "prompt_number": 12,
       "text": [
        " ** On entry to SGEMM  parameter number 10 had an illegal value\n"
       ]
      },
      {
       "metadata": {},
       "output_type": "pyout",
       "prompt_number": 12,
       "text": [
        " ** On entry to SGEMM  parameter number 10 had an illegal value\n"
       ]
      },
      {
       "metadata": {},
       "output_type": "pyout",
       "prompt_number": 12,
       "text": [
        " ** On entry to SGEMM  parameter number 10 had an illegal value\n"
       ]
      },
      {
       "metadata": {},
       "output_type": "pyout",
       "prompt_number": 12,
       "text": [
        " ** On entry to SGEMM  parameter number 10 had an illegal value\n"
       ]
      },
      {
       "metadata": {},
       "output_type": "pyout",
       "prompt_number": 12,
       "text": [
        " ** On entry to SGEMM  parameter number 10 had an illegal value\n"
       ]
      },
      {
       "metadata": {},
       "output_type": "pyout",
       "prompt_number": 12,
       "text": [
        " ** On entry to SGEMM  parameter number 10 had an illegal value\n"
       ]
      },
      {
       "metadata": {},
       "output_type": "pyout",
       "prompt_number": 12,
       "text": [
        " ** On entry to SGEMM  parameter number 10 had an illegal value\n"
       ]
      },
      {
       "metadata": {},
       "output_type": "pyout",
       "prompt_number": 12,
       "text": [
        " ** On entry to SGEMM  parameter number 10 had an illegal value\n"
       ]
      },
      {
       "metadata": {},
       "output_type": "pyout",
       "prompt_number": 12,
       "text": [
        " ** On entry to SGEMM  parameter number 10 had an illegal value\n",
        " ** On entry to SGEMM  parameter number 10 had an illegal value\n"
       ]
      },
      {
       "metadata": {},
       "output_type": "pyout",
       "prompt_number": 12,
       "text": [
        " ** On entry to SGEMM  parameter number 10 had an illegal value\n",
        " ** On entry to SGEMM  parameter number 10 had an illegal value\n"
       ]
      },
      {
       "metadata": {},
       "output_type": "pyout",
       "prompt_number": 12,
       "text": [
        " ** On entry to SGEMM  parameter number 10 had an illegal value\n",
        " ** On entry to SGEMM  parameter number 10 had an illegal value\n"
       ]
      },
      {
       "metadata": {},
       "output_type": "pyout",
       "prompt_number": 12,
       "text": [
        " ** On entry to SGEMM  parameter number 10 had an illegal value\n",
        " ** On entry to SGEMM  parameter number 10 had an illegal value\n"
       ]
      },
      {
       "metadata": {},
       "output_type": "pyout",
       "prompt_number": 12,
       "text": [
        " ** On entry to SGEMM  parameter number 10 had an illegal value\n",
        " ** On entry to SGEMM  parameter number 10 had an illegal value\n"
       ]
      },
      {
       "metadata": {},
       "output_type": "pyout",
       "prompt_number": 12,
       "text": [
        " ** On entry to SGEMM  parameter number 10 had an illegal value\n",
        " ** On entry to SGEMM  parameter number 10 had an illegal value\n"
       ]
      },
      {
       "metadata": {},
       "output_type": "pyout",
       "prompt_number": 12,
       "text": [
        " ** On entry to SGEMM  parameter number 10 had an illegal value\n",
        " ** On entry to SGEMM  parameter number 10 had an illegal value\n"
       ]
      },
      {
       "metadata": {},
       "output_type": "pyout",
       "prompt_number": 12,
       "text": [
        " ** On entry to SGEMM  parameter number 10 had an illegal value\n",
        " ** On entry to SGEMM  parameter number 10 had an illegal value\n"
       ]
      },
      {
       "metadata": {},
       "output_type": "pyout",
       "prompt_number": 12,
       "text": [
        " ** On entry to SGEMM  parameter number 10 had an illegal value\n",
        " ** On entry to SGEMM  parameter number 10 had an illegal value\n"
       ]
      },
      {
       "metadata": {},
       "output_type": "pyout",
       "prompt_number": 12,
       "text": [
        " ** On entry to SGEMM  parameter number 10 had an illegal value\n",
        " ** On entry to SGEMM  parameter number 10 had an illegal value\n"
       ]
      },
      {
       "metadata": {},
       "output_type": "pyout",
       "prompt_number": 12,
       "text": [
        " ** On entry to SGEMM  parameter number 10 had an illegal value\n"
       ]
      },
      {
       "metadata": {},
       "output_type": "pyout",
       "prompt_number": 12,
       "text": [
        " ** On entry to SGEMM  parameter number 10 had an illegal value\n"
       ]
      },
      {
       "metadata": {},
       "output_type": "pyout",
       "prompt_number": 12,
       "text": [
        " ** On entry to SGEMM  parameter number 10 had an illegal value\n"
       ]
      },
      {
       "metadata": {},
       "output_type": "pyout",
       "prompt_number": 12,
       "text": [
        " ** On entry to SGEMM  parameter number 10 had an illegal value\n"
       ]
      },
      {
       "metadata": {},
       "output_type": "pyout",
       "prompt_number": 12,
       "text": [
        " ** On entry to SGEMM  parameter number 10 had an illegal value\n",
        " ** On entry to SGEMM  parameter number 10 had an illegal value\n"
       ]
      },
      {
       "metadata": {},
       "output_type": "pyout",
       "prompt_number": 12,
       "text": [
        " ** On entry to SGEMM  parameter number 10 had an illegal value\n"
       ]
      },
      {
       "metadata": {},
       "output_type": "pyout",
       "prompt_number": 12,
       "text": [
        " ** On entry to SGEMM  parameter number 10 had an illegal value\n"
       ]
      },
      {
       "metadata": {},
       "output_type": "pyout",
       "prompt_number": 12,
       "text": [
        " ** On entry to SGEMM  parameter number 10 had an illegal value\n"
       ]
      },
      {
       "metadata": {},
       "output_type": "pyout",
       "prompt_number": 12,
       "text": [
        " ** On entry to SGEMM  parameter number 10 had an illegal value\n"
       ]
      },
      {
       "metadata": {},
       "output_type": "pyout",
       "prompt_number": 12,
       "text": [
        " ** On entry to SGEMM  parameter number 10 had an illegal value\n",
        " ** On entry to SGEMM  parameter number 10 had an illegal value\n",
        " ** On entry to SGEMM  parameter number 10 had an illegal value\n",
        " ** On entry to SGEMM  parameter number 10 had an illegal value\n"
       ]
      },
      {
       "metadata": {},
       "output_type": "pyout",
       "prompt_number": 12,
       "text": [
        " ** On entry to SGEMM  parameter number 10 had an illegal value\n",
        " ** On entry to SGEMM  parameter number 10 had an illegal value\n",
        " ** On entry to SGEMM  parameter number 10 had an illegal value\n"
       ]
      },
      {
       "metadata": {},
       "output_type": "pyout",
       "prompt_number": 12,
       "text": [
        " ** On entry to SGEMM  parameter number 10 had an illegal value\n",
        " ** On entry to SGEMM  parameter number 10 had an illegal value\n"
       ]
      },
      {
       "metadata": {},
       "output_type": "pyout",
       "prompt_number": 12,
       "text": [
        " ** On entry to SGEMM  parameter number 10 had an illegal value\n",
        " ** On entry to SGEMM  parameter number 10 had an illegal value\n"
       ]
      },
      {
       "metadata": {},
       "output_type": "pyout",
       "prompt_number": 12,
       "text": [
        " ** On entry to SGEMM  parameter number 10 had an illegal value\n"
       ]
      },
      {
       "metadata": {},
       "output_type": "pyout",
       "prompt_number": 12,
       "text": [
        " ** On entry to SGEMM  parameter number 10 had an illegal value\n"
       ]
      },
      {
       "metadata": {},
       "output_type": "pyout",
       "prompt_number": 12,
       "text": [
        " ** On entry to SGEMM  parameter number 10 had an illegal value\n"
       ]
      },
      {
       "metadata": {},
       "output_type": "pyout",
       "prompt_number": 12,
       "text": [
        " ** On entry to SGEMM  parameter number 10 had an illegal value\n"
       ]
      },
      {
       "metadata": {},
       "output_type": "pyout",
       "prompt_number": 12,
       "text": [
        " ** On entry to SGEMM  parameter number 10 had an illegal value\n"
       ]
      },
      {
       "metadata": {},
       "output_type": "pyout",
       "prompt_number": 12,
       "text": [
        " ** On entry to SGEMM  parameter number 10 had an illegal value\n"
       ]
      },
      {
       "metadata": {},
       "output_type": "pyout",
       "prompt_number": 12,
       "text": [
        " ** On entry to SGEMM  parameter number 10 had an illegal value\n"
       ]
      },
      {
       "metadata": {},
       "output_type": "pyout",
       "prompt_number": 12,
       "text": [
        " ** On entry to SGEMM  parameter number 10 had an illegal value\n",
        " ** On entry to SGEMM  parameter number 10 had an illegal value\n"
       ]
      },
      {
       "metadata": {},
       "output_type": "pyout",
       "prompt_number": 12,
       "text": [
        " ** On entry to SGEMM  parameter number 10 had an illegal value\n",
        " ** On entry to SGEMM  parameter number 10 had an illegal value\n"
       ]
      },
      {
       "metadata": {},
       "output_type": "pyout",
       "prompt_number": 12,
       "text": [
        " ** On entry to SGEMM  parameter number 10 had an illegal value\n",
        " ** On entry to SGEMM  parameter number 10 had an illegal value\n"
       ]
      },
      {
       "metadata": {},
       "output_type": "pyout",
       "prompt_number": 12,
       "text": [
        " ** On entry to SGEMM  parameter number 10 had an illegal value\n",
        " ** On entry to SGEMM  parameter number 10 had an illegal value\n"
       ]
      },
      {
       "metadata": {},
       "output_type": "pyout",
       "prompt_number": 12,
       "text": [
        " ** On entry to SGEMM  parameter number 10 had an illegal value\n"
       ]
      },
      {
       "metadata": {},
       "output_type": "pyout",
       "prompt_number": 12,
       "text": [
        " ** On entry to SGEMM  parameter number 10 had an illegal value\n"
       ]
      },
      {
       "metadata": {},
       "output_type": "pyout",
       "prompt_number": 12,
       "text": [
        " ** On entry to SGEMM  parameter number 10 had an illegal value\n",
        " ** On entry to SGEMM  parameter number 10 had an illegal value\n"
       ]
      },
      {
       "metadata": {},
       "output_type": "pyout",
       "prompt_number": 12,
       "text": [
        " ** On entry to SGEMM  parameter number 10 had an illegal value\n",
        " ** On entry to SGEMM  parameter number 10 had an illegal value\n"
       ]
      },
      {
       "metadata": {},
       "output_type": "pyout",
       "prompt_number": 12,
       "text": [
        " ** On entry to SGEMM  parameter number 10 had an illegal value\n",
        " ** On entry to SGEMM  parameter number 10 had an illegal value\n"
       ]
      },
      {
       "metadata": {},
       "output_type": "pyout",
       "prompt_number": 12,
       "text": [
        " ** On entry to SGEMM  parameter number 10 had an illegal value\n",
        " ** On entry to SGEMM  parameter number 10 had an illegal value\n"
       ]
      },
      {
       "metadata": {},
       "output_type": "pyout",
       "prompt_number": 12,
       "text": [
        " ** On entry to SGEMM  parameter number 10 had an illegal value\n",
        " ** On entry to SGEMM  parameter number 10 had an illegal value\n"
       ]
      },
      {
       "metadata": {},
       "output_type": "pyout",
       "prompt_number": 12,
       "text": [
        " ** On entry to SGEMM  parameter number 10 had an illegal value\n",
        " ** On entry to SGEMM  parameter number 10 had an illegal value\n"
       ]
      },
      {
       "metadata": {},
       "output_type": "pyout",
       "prompt_number": 12,
       "text": [
        " ** On entry to SGEMM  parameter number 10 had an illegal value\n"
       ]
      },
      {
       "metadata": {},
       "output_type": "pyout",
       "prompt_number": 12,
       "text": [
        " ** On entry to SGEMM  parameter number 10 had an illegal value\n"
       ]
      },
      {
       "metadata": {},
       "output_type": "pyout",
       "prompt_number": 12,
       "text": [
        " ** On entry to SGEMM  parameter number 10 had an illegal value\n"
       ]
      },
      {
       "metadata": {},
       "output_type": "pyout",
       "prompt_number": 12,
       "text": [
        " ** On entry to SGEMM  parameter number 10 had an illegal value\n"
       ]
      },
      {
       "metadata": {},
       "output_type": "pyout",
       "prompt_number": 12,
       "text": [
        " ** On entry to SGEMM  parameter number 10 had an illegal value\n"
       ]
      },
      {
       "metadata": {},
       "output_type": "pyout",
       "prompt_number": 12,
       "text": [
        " ** On entry to SGEMM  parameter number 10 had an illegal value\n"
       ]
      },
      {
       "metadata": {},
       "output_type": "pyout",
       "prompt_number": 12,
       "text": [
        " ** On entry to SGEMM  parameter number 10 had an illegal value\n"
       ]
      },
      {
       "metadata": {},
       "output_type": "pyout",
       "prompt_number": 12,
       "text": [
        " ** On entry to SGEMM  parameter number 10 had an illegal value\n"
       ]
      },
      {
       "metadata": {},
       "output_type": "pyout",
       "prompt_number": 12,
       "text": [
        " ** On entry to SGEMM  parameter number 10 had an illegal value\n",
        " ** On entry to SGEMM  parameter number 10 had an illegal value\n",
        " ** On entry to SGEMM  parameter number 10 had an illegal value\n",
        " ** On entry to SGEMM  parameter number 10 had an illegal value\n"
       ]
      },
      {
       "metadata": {},
       "output_type": "pyout",
       "prompt_number": 12,
       "text": [
        " ** On entry to SGEMM  parameter number 10 had an illegal value\n",
        " ** On entry to SGEMM  parameter number 10 had an illegal value\n"
       ]
      },
      {
       "metadata": {},
       "output_type": "pyout",
       "prompt_number": 12,
       "text": [
        " ** On entry to SGEMM  parameter number 10 had an illegal value\n",
        " ** On entry to SGEMM  parameter number 10 had an illegal value\n"
       ]
      },
      {
       "metadata": {},
       "output_type": "pyout",
       "prompt_number": 12,
       "text": [
        " ** On entry to SGEMM  parameter number 10 had an illegal value\n",
        " ** On entry to SGEMM  parameter number 10 had an illegal value\n"
       ]
      },
      {
       "metadata": {},
       "output_type": "pyout",
       "prompt_number": 12,
       "text": [
        " ** On entry to SGEMM  parameter number 10 had an illegal value\n"
       ]
      },
      {
       "metadata": {},
       "output_type": "pyout",
       "prompt_number": 12,
       "text": [
        " ** On entry to SGEMM  parameter number 10 had an illegal value\n"
       ]
      },
      {
       "metadata": {},
       "output_type": "pyout",
       "prompt_number": 12,
       "text": [
        " ** On entry to SGEMM  parameter number 10 had an illegal value\n"
       ]
      },
      {
       "metadata": {},
       "output_type": "pyout",
       "prompt_number": 12,
       "text": [
        " ** On entry to SGEMM  parameter number 10 had an illegal value\n"
       ]
      },
      {
       "metadata": {},
       "output_type": "pyout",
       "prompt_number": 12,
       "text": [
        " ** On entry to SGEMM  parameter number 10 had an illegal value\n"
       ]
      },
      {
       "metadata": {},
       "output_type": "pyout",
       "prompt_number": 12,
       "text": [
        " ** On entry to SGEMM  parameter number 10 had an illegal value\n"
       ]
      },
      {
       "metadata": {},
       "output_type": "pyout",
       "prompt_number": 12,
       "text": [
        " ** On entry to SGEMM  parameter number 10 had an illegal value\n"
       ]
      },
      {
       "metadata": {},
       "output_type": "pyout",
       "prompt_number": 12,
       "text": [
        " ** On entry to SGEMM  parameter number 10 had an illegal value\n"
       ]
      },
      {
       "metadata": {},
       "output_type": "pyout",
       "prompt_number": 12,
       "text": [
        " ** On entry to SGEMM  parameter number 10 had an illegal value\n"
       ]
      },
      {
       "metadata": {},
       "output_type": "pyout",
       "prompt_number": 12,
       "text": [
        " ** On entry to SGEMM  parameter number 10 had an illegal value\n"
       ]
      },
      {
       "metadata": {},
       "output_type": "pyout",
       "prompt_number": 12,
       "text": [
        " ** On entry to SGEMM  parameter number 10 had an illegal value\n"
       ]
      },
      {
       "metadata": {},
       "output_type": "pyout",
       "prompt_number": 12,
       "text": [
        " ** On entry to SGEMM  parameter number 10 had an illegal value\n"
       ]
      },
      {
       "metadata": {},
       "output_type": "pyout",
       "prompt_number": 12,
       "text": [
        " ** On entry to SGEMM  parameter number 10 had an illegal value\n"
       ]
      },
      {
       "metadata": {},
       "output_type": "pyout",
       "prompt_number": 12,
       "text": [
        " ** On entry to SGEMM  parameter number 10 had an illegal value\n"
       ]
      },
      {
       "metadata": {},
       "output_type": "pyout",
       "prompt_number": 12,
       "text": [
        " ** On entry to SGEMM  parameter number 10 had an illegal value\n"
       ]
      },
      {
       "metadata": {},
       "output_type": "pyout",
       "prompt_number": 12,
       "text": [
        " ** On entry to SGEMM  parameter number 10 had an illegal value\n"
       ]
      },
      {
       "metadata": {},
       "output_type": "pyout",
       "prompt_number": 12,
       "text": [
        " ** On entry to SGEMM  parameter number 10 had an illegal value\n"
       ]
      },
      {
       "metadata": {},
       "output_type": "pyout",
       "prompt_number": 12,
       "text": [
        " ** On entry to SGEMM  parameter number 10 had an illegal value\n"
       ]
      },
      {
       "metadata": {},
       "output_type": "pyout",
       "prompt_number": 12,
       "text": [
        " ** On entry to SGEMM  parameter number 10 had an illegal value\n"
       ]
      },
      {
       "metadata": {},
       "output_type": "pyout",
       "prompt_number": 12,
       "text": [
        " ** On entry to SGEMM  parameter number 10 had an illegal value\n"
       ]
      },
      {
       "metadata": {},
       "output_type": "pyout",
       "prompt_number": 12,
       "text": [
        " ** On entry to SGEMM  parameter number 10 had an illegal value\n"
       ]
      },
      {
       "metadata": {},
       "output_type": "pyout",
       "prompt_number": 12,
       "text": [
        " ** On entry to SGEMM  parameter number 10 had an illegal value\n"
       ]
      },
      {
       "metadata": {},
       "output_type": "pyout",
       "prompt_number": 12,
       "text": [
        " ** On entry to SGEMM  parameter number 10 had an illegal value\n"
       ]
      },
      {
       "metadata": {},
       "output_type": "pyout",
       "prompt_number": 12,
       "text": [
        " ** On entry to SGEMM  parameter number 10 had an illegal value\n"
       ]
      },
      {
       "metadata": {},
       "output_type": "pyout",
       "prompt_number": 12,
       "text": [
        " ** On entry to SGEMM  parameter number 10 had an illegal value\n"
       ]
      },
      {
       "metadata": {},
       "output_type": "pyout",
       "prompt_number": 12,
       "text": [
        " ** On entry to SGEMM  parameter number 10 had an illegal value\n"
       ]
      },
      {
       "metadata": {},
       "output_type": "pyout",
       "prompt_number": 12,
       "text": [
        " ** On entry to SGEMM  parameter number 10 had an illegal value\n"
       ]
      },
      {
       "metadata": {},
       "output_type": "pyout",
       "prompt_number": 12,
       "text": [
        " ** On entry to SGEMM  parameter number 10 had an illegal value\n"
       ]
      },
      {
       "metadata": {},
       "output_type": "pyout",
       "prompt_number": 12,
       "text": [
        " ** On entry to SGEMM  parameter number 10 had an illegal value\n"
       ]
      },
      {
       "metadata": {},
       "output_type": "pyout",
       "prompt_number": 12,
       "text": [
        " ** On entry to SGEMM  parameter number 10 had an illegal value\n"
       ]
      },
      {
       "metadata": {},
       "output_type": "pyout",
       "prompt_number": 12,
       "text": [
        " ** On entry to SGEMM  parameter number 10 had an illegal value\n",
        " ** On entry to SGEMM  parameter number 10 had an illegal value\n"
       ]
      },
      {
       "metadata": {},
       "output_type": "pyout",
       "prompt_number": 12,
       "text": [
        " ** On entry to SGEMM  parameter number 10 had an illegal value\n"
       ]
      },
      {
       "metadata": {},
       "output_type": "pyout",
       "prompt_number": 12,
       "text": [
        " ** On entry to SGEMM  parameter number 10 had an illegal value\n"
       ]
      },
      {
       "metadata": {},
       "output_type": "pyout",
       "prompt_number": 12,
       "text": [
        " ** On entry to SGEMM  parameter number 10 had an illegal value\n",
        " ** On entry to SGEMM  parameter number 10 had an illegal value\n"
       ]
      },
      {
       "metadata": {},
       "output_type": "pyout",
       "prompt_number": 12,
       "text": [
        " ** On entry to SGEMM  parameter number 10 had an illegal value\n"
       ]
      },
      {
       "metadata": {},
       "output_type": "pyout",
       "prompt_number": 12,
       "text": [
        " ** On entry to SGEMM  parameter number 10 had an illegal value\n"
       ]
      },
      {
       "metadata": {},
       "output_type": "pyout",
       "prompt_number": 12,
       "text": [
        " ** On entry to SGEMM  parameter number 10 had an illegal value\n"
       ]
      },
      {
       "metadata": {},
       "output_type": "pyout",
       "prompt_number": 12,
       "text": [
        " ** On entry to SGEMM  parameter number 10 had an illegal value\n"
       ]
      },
      {
       "metadata": {},
       "output_type": "pyout",
       "prompt_number": 12,
       "text": [
        " ** On entry to SGEMM  parameter number 10 had an illegal value\n",
        " ** On entry to SGEMM  parameter number 10 had an illegal value\n"
       ]
      },
      {
       "metadata": {},
       "output_type": "pyout",
       "prompt_number": 12,
       "text": [
        " ** On entry to SGEMM  parameter number 10 had an illegal value\n"
       ]
      },
      {
       "metadata": {},
       "output_type": "pyout",
       "prompt_number": 12,
       "text": [
        " ** On entry to SGEMM  parameter number 10 had an illegal value\n"
       ]
      },
      {
       "metadata": {},
       "output_type": "pyout",
       "prompt_number": 12,
       "text": [
        " ** On entry to SGEMM  parameter number 10 had an illegal value\n",
        " ** On entry to SGEMM  parameter number 10 had an illegal value\n"
       ]
      },
      {
       "metadata": {},
       "output_type": "pyout",
       "prompt_number": 12,
       "text": [
        " ** On entry to SGEMM  parameter number 10 had an illegal value\n"
       ]
      },
      {
       "metadata": {},
       "output_type": "pyout",
       "prompt_number": 12,
       "text": [
        " ** On entry to SGEMM  parameter number 10 had an illegal value\n"
       ]
      },
      {
       "metadata": {},
       "output_type": "pyout",
       "prompt_number": 12,
       "text": [
        " ** On entry to SGEMM  parameter number 10 had an illegal value\n",
        " ** On entry to SGEMM  parameter number 10 had an illegal value\n"
       ]
      },
      {
       "metadata": {},
       "output_type": "pyout",
       "prompt_number": 12,
       "text": [
        " ** On entry to SGEMM  parameter number 10 had an illegal value\n"
       ]
      },
      {
       "metadata": {},
       "output_type": "pyout",
       "prompt_number": 12,
       "text": [
        " ** On entry to SGEMM  parameter number 10 had an illegal value\n"
       ]
      },
      {
       "metadata": {},
       "output_type": "pyout",
       "prompt_number": 12,
       "text": [
        " ** On entry to SGEMM  parameter number 10 had an illegal value\n"
       ]
      },
      {
       "metadata": {},
       "output_type": "pyout",
       "prompt_number": 12,
       "text": [
        " ** On entry to SGEMM  parameter number 10 had an illegal value\n"
       ]
      },
      {
       "metadata": {},
       "output_type": "pyout",
       "prompt_number": 12,
       "text": [
        " ** On entry to SGEMM  parameter number 10 had an illegal value\n",
        " ** On entry to SGEMM  parameter number 10 had an illegal value\n"
       ]
      },
      {
       "metadata": {},
       "output_type": "pyout",
       "prompt_number": 12,
       "text": [
        " ** On entry to SGEMM  parameter number 10 had an illegal value\n",
        " ** On entry to SGEMM  parameter number 10 had an illegal value\n"
       ]
      },
      {
       "metadata": {},
       "output_type": "pyout",
       "prompt_number": 12,
       "text": [
        " ** On entry to SGEMM  parameter number 10 had an illegal value\n"
       ]
      },
      {
       "metadata": {},
       "output_type": "pyout",
       "prompt_number": 12,
       "text": [
        " ** On entry to SGEMM  parameter number 10 had an illegal value\n"
       ]
      },
      {
       "metadata": {},
       "output_type": "pyout",
       "prompt_number": 12,
       "text": [
        " ** On entry to SGEMM  parameter number 10 had an illegal value\n",
        " ** On entry to SGEMM  parameter number 10 had an illegal value\n",
        " ** On entry to SGEMM  parameter number 10 had an illegal value\n"
       ]
      },
      {
       "metadata": {},
       "output_type": "pyout",
       "prompt_number": 12,
       "text": [
        " ** On entry to SGEMM  parameter number 10 had an illegal value\n"
       ]
      },
      {
       "metadata": {},
       "output_type": "pyout",
       "prompt_number": 12,
       "text": [
        " ** On entry to SGEMM  parameter number 10 had an illegal value\n"
       ]
      },
      {
       "metadata": {},
       "output_type": "pyout",
       "prompt_number": 12,
       "text": [
        " ** On entry to SGEMM  parameter number 10 had an illegal value\n"
       ]
      },
      {
       "metadata": {},
       "output_type": "pyout",
       "prompt_number": 12,
       "text": [
        " ** On entry to SGEMM  parameter number 10 had an illegal value\n",
        " ** On entry to SGEMM  parameter number 10 had an illegal value\n"
       ]
      },
      {
       "metadata": {},
       "output_type": "pyout",
       "prompt_number": 12,
       "text": [
        " ** On entry to SGEMM  parameter number 10 had an illegal value\n",
        " ** On entry to SGEMM  parameter number 10 had an illegal value\n"
       ]
      },
      {
       "metadata": {},
       "output_type": "pyout",
       "prompt_number": 12,
       "text": [
        " ** On entry to SGEMM  parameter number 10 had an illegal value\n",
        " ** On entry to SGEMM  parameter number 10 had an illegal value\n"
       ]
      },
      {
       "metadata": {},
       "output_type": "pyout",
       "prompt_number": 12,
       "text": [
        " ** On entry to SGEMM  parameter number 10 had an illegal value\n",
        " ** On entry to SGEMM  parameter number 10 had an illegal value\n"
       ]
      },
      {
       "metadata": {},
       "output_type": "pyout",
       "prompt_number": 12,
       "text": [
        " ** On entry to SGEMM  parameter number 10 had an illegal value\n"
       ]
      },
      {
       "metadata": {},
       "output_type": "pyout",
       "prompt_number": 12,
       "text": [
        " ** On entry to SGEMM  parameter number 10 had an illegal value\n"
       ]
      },
      {
       "metadata": {},
       "output_type": "pyout",
       "prompt_number": 12,
       "text": [
        " ** On entry to SGEMM  parameter number 10 had an illegal value\n"
       ]
      },
      {
       "metadata": {},
       "output_type": "pyout",
       "prompt_number": 12,
       "text": [
        " ** On entry to SGEMM  parameter number 10 had an illegal value\n"
       ]
      },
      {
       "metadata": {},
       "output_type": "pyout",
       "prompt_number": 12,
       "text": [
        " ** On entry to SGEMM  parameter number 10 had an illegal value\n",
        " ** On entry to SGEMM  parameter number 10 had an illegal value\n"
       ]
      },
      {
       "metadata": {},
       "output_type": "pyout",
       "prompt_number": 12,
       "text": [
        " ** On entry to SGEMM  parameter number 10 had an illegal value\n"
       ]
      },
      {
       "metadata": {},
       "output_type": "pyout",
       "prompt_number": 12,
       "text": [
        " ** On entry to SGEMM  parameter number 10 had an illegal value\n",
        " ** On entry to SGEMM  parameter number 10 had an illegal value\n",
        " ** On entry to SGEMM  parameter number 10 had an illegal value\n"
       ]
      },
      {
       "metadata": {},
       "output_type": "pyout",
       "prompt_number": 12,
       "text": [
        " ** On entry to SGEMM  parameter number 10 had an illegal value\n"
       ]
      },
      {
       "metadata": {},
       "output_type": "pyout",
       "prompt_number": 12,
       "text": [
        " ** On entry to SGEMM  parameter number 10 had an illegal value\n"
       ]
      },
      {
       "metadata": {},
       "output_type": "pyout",
       "prompt_number": 12,
       "text": [
        " ** On entry to SGEMM  parameter number 10 had an illegal value\n",
        " ** On entry to SGEMM  parameter number 10 had an illegal value\n"
       ]
      },
      {
       "metadata": {},
       "output_type": "pyout",
       "prompt_number": 12,
       "text": [
        " ** On entry to SGEMM  parameter number 10 had an illegal value\n",
        " ** On entry to SGEMM  parameter number 10 had an illegal value\n"
       ]
      },
      {
       "metadata": {},
       "output_type": "pyout",
       "prompt_number": 12,
       "text": [
        " ** On entry to SGEMM  parameter number 10 had an illegal value\n",
        " ** On entry to SGEMM  parameter number 10 had an illegal value\n"
       ]
      },
      {
       "metadata": {},
       "output_type": "pyout",
       "prompt_number": 12,
       "text": [
        " ** On entry to SGEMM  parameter number 10 had an illegal value\n",
        " ** On entry to SGEMM  parameter number 10 had an illegal value\n"
       ]
      },
      {
       "metadata": {},
       "output_type": "pyout",
       "prompt_number": 12,
       "text": [
        " ** On entry to SGEMM  parameter number 10 had an illegal value\n",
        " ** On entry to SGEMM  parameter number 10 had an illegal value\n"
       ]
      },
      {
       "metadata": {},
       "output_type": "pyout",
       "prompt_number": 12,
       "text": [
        " ** On entry to SGEMM  parameter number 10 had an illegal value\n"
       ]
      },
      {
       "metadata": {},
       "output_type": "pyout",
       "prompt_number": 12,
       "text": [
        " ** On entry to SGEMM  parameter number 10 had an illegal value\n"
       ]
      },
      {
       "metadata": {},
       "output_type": "pyout",
       "prompt_number": 12,
       "text": [
        " ** On entry to SGEMM  parameter number 10 had an illegal value\n",
        " ** On entry to SGEMM  parameter number 10 had an illegal value\n"
       ]
      },
      {
       "metadata": {},
       "output_type": "pyout",
       "prompt_number": 12,
       "text": [
        " ** On entry to SGEMM  parameter number 10 had an illegal value\n",
        " ** On entry to SGEMM  parameter number 10 had an illegal value\n"
       ]
      },
      {
       "metadata": {},
       "output_type": "pyout",
       "prompt_number": 12,
       "text": [
        " ** On entry to SGEMM  parameter number 10 had an illegal value\n",
        " ** On entry to SGEMM  parameter number 10 had an illegal value\n"
       ]
      },
      {
       "metadata": {},
       "output_type": "pyout",
       "prompt_number": 12,
       "text": [
        " ** On entry to SGEMM  parameter number 10 had an illegal value\n",
        " ** On entry to SGEMM  parameter number 10 had an illegal value\n"
       ]
      },
      {
       "metadata": {},
       "output_type": "pyout",
       "prompt_number": 12,
       "text": [
        " ** On entry to SGEMM  parameter number 10 had an illegal value\n",
        " ** On entry to SGEMM  parameter number 10 had an illegal value\n"
       ]
      },
      {
       "metadata": {},
       "output_type": "pyout",
       "prompt_number": 12,
       "text": [
        " ** On entry to SGEMM  parameter number 10 had an illegal value\n",
        " ** On entry to SGEMM  parameter number 10 had an illegal value\n"
       ]
      },
      {
       "metadata": {},
       "output_type": "pyout",
       "prompt_number": 12,
       "text": [
        " ** On entry to SGEMM  parameter number 10 had an illegal value\n",
        " ** On entry to SGEMM  parameter number 10 had an illegal value\n"
       ]
      },
      {
       "metadata": {},
       "output_type": "pyout",
       "prompt_number": 12,
       "text": [
        " ** On entry to SGEMM  parameter number 10 had an illegal value\n",
        " ** On entry to SGEMM  parameter number 10 had an illegal value\n"
       ]
      },
      {
       "metadata": {},
       "output_type": "pyout",
       "prompt_number": 12,
       "text": [
        " ** On entry to SGEMM  parameter number 10 had an illegal value\n"
       ]
      },
      {
       "metadata": {},
       "output_type": "pyout",
       "prompt_number": 12,
       "text": [
        " ** On entry to SGEMM  parameter number 10 had an illegal value\n"
       ]
      },
      {
       "metadata": {},
       "output_type": "pyout",
       "prompt_number": 12,
       "text": [
        " ** On entry to SGEMM  parameter number 10 had an illegal value\n"
       ]
      },
      {
       "metadata": {},
       "output_type": "pyout",
       "prompt_number": 12,
       "text": [
        " ** On entry to SGEMM  parameter number 10 had an illegal value\n"
       ]
      },
      {
       "metadata": {},
       "output_type": "pyout",
       "prompt_number": 12,
       "text": [
        " ** On entry to SGEMM  parameter number 10 had an illegal value\n"
       ]
      },
      {
       "metadata": {},
       "output_type": "pyout",
       "prompt_number": 12,
       "text": [
        " ** On entry to SGEMM  parameter number 10 had an illegal value\n"
       ]
      },
      {
       "metadata": {},
       "output_type": "pyout",
       "prompt_number": 12,
       "text": [
        " ** On entry to SGEMM  parameter number 10 had an illegal value\n",
        " ** On entry to SGEMM  parameter number 10 had an illegal value\n"
       ]
      },
      {
       "metadata": {},
       "output_type": "pyout",
       "prompt_number": 12,
       "text": [
        " ** On entry to SGEMM  parameter number 10 had an illegal value\n"
       ]
      },
      {
       "metadata": {},
       "output_type": "pyout",
       "prompt_number": 12,
       "text": [
        " ** On entry to SGEMM  parameter number 10 had an illegal value\n"
       ]
      },
      {
       "metadata": {},
       "output_type": "pyout",
       "prompt_number": 12,
       "text": [
        " ** On entry to SGEMM  parameter number 10 had an illegal value\n",
        " ** On entry to SGEMM  parameter number 10 had an illegal value\n"
       ]
      },
      {
       "metadata": {},
       "output_type": "pyout",
       "prompt_number": 12,
       "text": [
        " ** On entry to SGEMM  parameter number 10 had an illegal value\n"
       ]
      },
      {
       "metadata": {},
       "output_type": "pyout",
       "prompt_number": 12,
       "text": [
        " ** On entry to SGEMM  parameter number 10 had an illegal value\n"
       ]
      },
      {
       "metadata": {},
       "output_type": "pyout",
       "prompt_number": 12,
       "text": [
        " ** On entry to SGEMM  parameter number 10 had an illegal value\n",
        " ** On entry to SGEMM  parameter number 10 had an illegal value\n"
       ]
      },
      {
       "metadata": {},
       "output_type": "pyout",
       "prompt_number": 12,
       "text": [
        " ** On entry to SGEMM  parameter number 10 had an illegal value\n"
       ]
      },
      {
       "metadata": {},
       "output_type": "pyout",
       "prompt_number": 12,
       "text": [
        " ** On entry to SGEMM  parameter number 10 had an illegal value\n"
       ]
      },
      {
       "metadata": {},
       "output_type": "pyout",
       "prompt_number": 12,
       "text": [
        " ** On entry to SGEMM  parameter number 10 had an illegal value\n",
        " ** On entry to SGEMM  parameter number 10 had an illegal value\n"
       ]
      },
      {
       "metadata": {},
       "output_type": "pyout",
       "prompt_number": 12,
       "text": [
        " ** On entry to SGEMM  parameter number 10 had an illegal value\n",
        " ** On entry to SGEMM  parameter number 10 had an illegal value\n"
       ]
      },
      {
       "metadata": {},
       "output_type": "pyout",
       "prompt_number": 12,
       "text": [
        " ** On entry to SGEMM  parameter number 10 had an illegal value\n"
       ]
      },
      {
       "metadata": {},
       "output_type": "pyout",
       "prompt_number": 12,
       "text": [
        " ** On entry to SGEMM  parameter number 10 had an illegal value\n"
       ]
      },
      {
       "metadata": {},
       "output_type": "pyout",
       "prompt_number": 12,
       "text": [
        " ** On entry to SGEMM  parameter number 10 had an illegal value\n"
       ]
      },
      {
       "metadata": {},
       "output_type": "pyout",
       "prompt_number": 12,
       "text": [
        " ** On entry to SGEMM  parameter number 10 had an illegal value\n"
       ]
      },
      {
       "metadata": {},
       "output_type": "pyout",
       "prompt_number": 12,
       "text": [
        " ** On entry to SGEMM  parameter number 10 had an illegal value\n",
        " ** On entry to SGEMM  parameter number 10 had an illegal value\n"
       ]
      },
      {
       "metadata": {},
       "output_type": "pyout",
       "prompt_number": 12,
       "text": [
        " ** On entry to SGEMM  parameter number 10 had an illegal value\n",
        " ** On entry to SGEMM  parameter number 10 had an illegal value\n"
       ]
      },
      {
       "metadata": {},
       "output_type": "pyout",
       "prompt_number": 12,
       "text": [
        " ** On entry to SGEMM  parameter number 10 had an illegal value\n",
        " ** On entry to SGEMM  parameter number 10 had an illegal value\n"
       ]
      },
      {
       "metadata": {},
       "output_type": "pyout",
       "prompt_number": 12,
       "text": [
        " ** On entry to SGEMM  parameter number 10 had an illegal value\n",
        " ** On entry to SGEMM  parameter number 10 had an illegal value\n"
       ]
      },
      {
       "metadata": {},
       "output_type": "pyout",
       "prompt_number": 12,
       "text": [
        " ** On entry to SGEMM  parameter number 10 had an illegal value\n",
        " ** On entry to SGEMM  parameter number 10 had an illegal value\n"
       ]
      },
      {
       "metadata": {},
       "output_type": "pyout",
       "prompt_number": 12,
       "text": [
        " ** On entry to SGEMM  parameter number 10 had an illegal value\n",
        " ** On entry to SGEMM  parameter number 10 had an illegal value\n"
       ]
      },
      {
       "metadata": {},
       "output_type": "pyout",
       "prompt_number": 12,
       "text": [
        " ** On entry to SGEMM  parameter number 10 had an illegal value\n"
       ]
      },
      {
       "metadata": {},
       "output_type": "pyout",
       "prompt_number": 12,
       "text": [
        " ** On entry to SGEMM  parameter number 10 had an illegal value\n"
       ]
      },
      {
       "metadata": {},
       "output_type": "pyout",
       "prompt_number": 12,
       "text": [
        "Progress: 147 / 251\t\n"
       ]
      },
      {
       "metadata": {},
       "output_type": "pyout",
       "prompt_number": 12,
       "text": [
        " ** On entry to SGEMM  parameter number 10 had an illegal value\n",
        " ** On entry to SGEMM  parameter number 10 had an illegal value\n"
       ]
      },
      {
       "metadata": {},
       "output_type": "pyout",
       "prompt_number": 12,
       "text": [
        " ** On entry to SGEMM  parameter number 10 had an illegal value\n",
        " ** On entry to SGEMM  parameter number 10 had an illegal value\n"
       ]
      },
      {
       "metadata": {},
       "output_type": "pyout",
       "prompt_number": 12,
       "text": [
        " ** On entry to SGEMM  parameter number 10 had an illegal value\n",
        " ** On entry to SGEMM  parameter number 10 had an illegal value\n"
       ]
      },
      {
       "metadata": {},
       "output_type": "pyout",
       "prompt_number": 12,
       "text": [
        " ** On entry to SGEMM  parameter number 10 had an illegal value\n"
       ]
      },
      {
       "metadata": {},
       "output_type": "pyout",
       "prompt_number": 12,
       "text": [
        " ** On entry to SGEMM  parameter number 10 had an illegal value\n"
       ]
      },
      {
       "metadata": {},
       "output_type": "pyout",
       "prompt_number": 12,
       "text": [
        " ** On entry to SGEMM  parameter number 10 had an illegal value\n",
        " ** On entry to SGEMM  parameter number 10 had an illegal value\n"
       ]
      },
      {
       "metadata": {},
       "output_type": "pyout",
       "prompt_number": 12,
       "text": [
        " ** On entry to SGEMM  parameter number 10 had an illegal value\n",
        " ** On entry to SGEMM  parameter number 10 had an illegal value\n",
        " ** On entry to SGEMM  parameter number 10 had an illegal value\n"
       ]
      },
      {
       "metadata": {},
       "output_type": "pyout",
       "prompt_number": 12,
       "text": [
        " ** On entry to SGEMM  parameter number 10 had an illegal value\n"
       ]
      },
      {
       "metadata": {},
       "output_type": "pyout",
       "prompt_number": 12,
       "text": [
        " ** On entry to SGEMM  parameter number 10 had an illegal value\n",
        " ** On entry to SGEMM  parameter number 10 had an illegal value\n"
       ]
      },
      {
       "metadata": {},
       "output_type": "pyout",
       "prompt_number": 12,
       "text": [
        " ** On entry to SGEMM  parameter number 10 had an illegal value\n",
        " ** On entry to SGEMM  parameter number 10 had an illegal value\n"
       ]
      },
      {
       "metadata": {},
       "output_type": "pyout",
       "prompt_number": 12,
       "text": [
        " ** On entry to SGEMM  parameter number 10 had an illegal value\n",
        " ** On entry to SGEMM  parameter number 10 had an illegal value\n"
       ]
      },
      {
       "metadata": {},
       "output_type": "pyout",
       "prompt_number": 12,
       "text": [
        " ** On entry to SGEMM  parameter number 10 had an illegal value\n",
        " ** On entry to SGEMM  parameter number 10 had an illegal value\n"
       ]
      },
      {
       "metadata": {},
       "output_type": "pyout",
       "prompt_number": 12,
       "text": [
        " ** On entry to SGEMM  parameter number 10 had an illegal value\n",
        " ** On entry to SGEMM  parameter number 10 had an illegal value\n",
        " ** On entry to SGEMM  parameter number 10 had an illegal value\n"
       ]
      },
      {
       "metadata": {},
       "output_type": "pyout",
       "prompt_number": 12,
       "text": [
        " ** On entry to SGEMM  parameter number 10 had an illegal value\n",
        " ** On entry to SGEMM  parameter number 10 had an illegal value\n",
        " ** On entry to SGEMM  parameter number 10 had an illegal value\n"
       ]
      },
      {
       "metadata": {},
       "output_type": "pyout",
       "prompt_number": 12,
       "text": [
        " ** On entry to SGEMM  parameter number 10 had an illegal value\n",
        " ** On entry to SGEMM  parameter number 10 had an illegal value\n"
       ]
      },
      {
       "metadata": {},
       "output_type": "pyout",
       "prompt_number": 12,
       "text": [
        " ** On entry to SGEMM  parameter number 10 had an illegal value\n"
       ]
      },
      {
       "metadata": {},
       "output_type": "pyout",
       "prompt_number": 12,
       "text": [
        " ** On entry to SGEMM  parameter number 10 had an illegal value\n"
       ]
      },
      {
       "metadata": {},
       "output_type": "pyout",
       "prompt_number": 12,
       "text": [
        " ** On entry to SGEMM  parameter number 10 had an illegal value\n"
       ]
      },
      {
       "metadata": {},
       "output_type": "pyout",
       "prompt_number": 12,
       "text": [
        " ** On entry to SGEMM  parameter number 10 had an illegal value\n"
       ]
      },
      {
       "metadata": {},
       "output_type": "pyout",
       "prompt_number": 12,
       "text": [
        " ** On entry to SGEMM  parameter number 10 had an illegal value\n",
        " ** On entry to SGEMM  parameter number 10 had an illegal value\n"
       ]
      },
      {
       "metadata": {},
       "output_type": "pyout",
       "prompt_number": 12,
       "text": [
        " ** On entry to SGEMM  parameter number 10 had an illegal value\n"
       ]
      },
      {
       "metadata": {},
       "output_type": "pyout",
       "prompt_number": 12,
       "text": [
        " ** On entry to SGEMM  parameter number 10 had an illegal value\n"
       ]
      },
      {
       "metadata": {},
       "output_type": "pyout",
       "prompt_number": 12,
       "text": [
        " ** On entry to SGEMM  parameter number 10 had an illegal value\n",
        " ** On entry to SGEMM  parameter number 10 had an illegal value\n"
       ]
      },
      {
       "metadata": {},
       "output_type": "pyout",
       "prompt_number": 12,
       "text": [
        " ** On entry to SGEMM  parameter number 10 had an illegal value\n",
        " ** On entry to SGEMM  parameter number 10 had an illegal value\n"
       ]
      },
      {
       "metadata": {},
       "output_type": "pyout",
       "prompt_number": 12,
       "text": [
        " ** On entry to SGEMM  parameter number 10 had an illegal value\n",
        " ** On entry to SGEMM  parameter number 10 had an illegal value\n"
       ]
      },
      {
       "metadata": {},
       "output_type": "pyout",
       "prompt_number": 12,
       "text": [
        " ** On entry to SGEMM  parameter number 10 had an illegal value\n",
        " ** On entry to SGEMM  parameter number 10 had an illegal value\n"
       ]
      },
      {
       "metadata": {},
       "output_type": "pyout",
       "prompt_number": 12,
       "text": [
        " ** On entry to SGEMM  parameter number 10 had an illegal value\n",
        " ** On entry to SGEMM  parameter number 10 had an illegal value\n"
       ]
      },
      {
       "metadata": {},
       "output_type": "pyout",
       "prompt_number": 12,
       "text": [
        " ** On entry to SGEMM  parameter number 10 had an illegal value\n"
       ]
      },
      {
       "metadata": {},
       "output_type": "pyout",
       "prompt_number": 12,
       "text": [
        " ** On entry to SGEMM  parameter number 10 had an illegal value\n"
       ]
      },
      {
       "metadata": {},
       "output_type": "pyout",
       "prompt_number": 12,
       "text": [
        " ** On entry to SGEMM  parameter number 10 had an illegal value\n",
        " ** On entry to SGEMM  parameter number 10 had an illegal value\n"
       ]
      },
      {
       "metadata": {},
       "output_type": "pyout",
       "prompt_number": 12,
       "text": [
        " ** On entry to SGEMM  parameter number 10 had an illegal value\n"
       ]
      },
      {
       "metadata": {},
       "output_type": "pyout",
       "prompt_number": 12,
       "text": [
        " ** On entry to SGEMM  parameter number 10 had an illegal value\n"
       ]
      },
      {
       "metadata": {},
       "output_type": "pyout",
       "prompt_number": 12,
       "text": [
        " ** On entry to SGEMM  parameter number 10 had an illegal value\n",
        " ** On entry to SGEMM  parameter number 10 had an illegal value\n"
       ]
      },
      {
       "metadata": {},
       "output_type": "pyout",
       "prompt_number": 12,
       "text": [
        " ** On entry to SGEMM  parameter number 10 had an illegal value\n"
       ]
      },
      {
       "metadata": {},
       "output_type": "pyout",
       "prompt_number": 12,
       "text": [
        " ** On entry to SGEMM  parameter number 10 had an illegal value\n"
       ]
      },
      {
       "metadata": {},
       "output_type": "pyout",
       "prompt_number": 12,
       "text": [
        " ** On entry to SGEMM  parameter number 10 had an illegal value\n",
        " ** On entry to SGEMM  parameter number 10 had an illegal value\n"
       ]
      },
      {
       "metadata": {},
       "output_type": "pyout",
       "prompt_number": 12,
       "text": [
        " ** On entry to SGEMM  parameter number 10 had an illegal value\n",
        " ** On entry to SGEMM  parameter number 10 had an illegal value\n"
       ]
      },
      {
       "metadata": {},
       "output_type": "pyout",
       "prompt_number": 12,
       "text": [
        " ** On entry to SGEMM  parameter number 10 had an illegal value\n",
        " ** On entry to SGEMM  parameter number 10 had an illegal value\n"
       ]
      },
      {
       "metadata": {},
       "output_type": "pyout",
       "prompt_number": 12,
       "text": [
        " ** On entry to SGEMM  parameter number 10 had an illegal value\n"
       ]
      },
      {
       "metadata": {},
       "output_type": "pyout",
       "prompt_number": 12,
       "text": [
        " ** On entry to SGEMM  parameter number 10 had an illegal value\n"
       ]
      },
      {
       "metadata": {},
       "output_type": "pyout",
       "prompt_number": 12,
       "text": [
        " ** On entry to SGEMM  parameter number 10 had an illegal value\n"
       ]
      },
      {
       "metadata": {},
       "output_type": "pyout",
       "prompt_number": 12,
       "text": [
        " ** On entry to SGEMM  parameter number 10 had an illegal value\n"
       ]
      },
      {
       "metadata": {},
       "output_type": "pyout",
       "prompt_number": 12,
       "text": [
        " ** On entry to SGEMM  parameter number 10 had an illegal value\n"
       ]
      },
      {
       "metadata": {},
       "output_type": "pyout",
       "prompt_number": 12,
       "text": [
        " ** On entry to SGEMM  parameter number 10 had an illegal value\n"
       ]
      },
      {
       "metadata": {},
       "output_type": "pyout",
       "prompt_number": 12,
       "text": [
        " ** On entry to SGEMM  parameter number 10 had an illegal value\n"
       ]
      },
      {
       "metadata": {},
       "output_type": "pyout",
       "prompt_number": 12,
       "text": [
        " ** On entry to SGEMM  parameter number 10 had an illegal value\n"
       ]
      },
      {
       "metadata": {},
       "output_type": "pyout",
       "prompt_number": 12,
       "text": [
        " ** On entry to SGEMM  parameter number 10 had an illegal value\n"
       ]
      },
      {
       "metadata": {},
       "output_type": "pyout",
       "prompt_number": 12,
       "text": [
        " ** On entry to SGEMM  parameter number 10 had an illegal value\n"
       ]
      },
      {
       "metadata": {},
       "output_type": "pyout",
       "prompt_number": 12,
       "text": [
        " ** On entry to SGEMM  parameter number 10 had an illegal value\n"
       ]
      },
      {
       "metadata": {},
       "output_type": "pyout",
       "prompt_number": 12,
       "text": [
        " ** On entry to SGEMM  parameter number 10 had an illegal value\n"
       ]
      },
      {
       "metadata": {},
       "output_type": "pyout",
       "prompt_number": 12,
       "text": [
        " ** On entry to SGEMM  parameter number 10 had an illegal value\n"
       ]
      },
      {
       "metadata": {},
       "output_type": "pyout",
       "prompt_number": 12,
       "text": [
        " ** On entry to SGEMM  parameter number 10 had an illegal value\n"
       ]
      },
      {
       "metadata": {},
       "output_type": "pyout",
       "prompt_number": 12,
       "text": [
        " ** On entry to SGEMM  parameter number 10 had an illegal value\n"
       ]
      },
      {
       "metadata": {},
       "output_type": "pyout",
       "prompt_number": 12,
       "text": [
        " ** On entry to SGEMM  parameter number 10 had an illegal value\n"
       ]
      },
      {
       "metadata": {},
       "output_type": "pyout",
       "prompt_number": 12,
       "text": [
        " ** On entry to SGEMM  parameter number 10 had an illegal value\n"
       ]
      },
      {
       "metadata": {},
       "output_type": "pyout",
       "prompt_number": 12,
       "text": [
        " ** On entry to SGEMM  parameter number 10 had an illegal value\n"
       ]
      },
      {
       "metadata": {},
       "output_type": "pyout",
       "prompt_number": 12,
       "text": [
        " ** On entry to SGEMM  parameter number 10 had an illegal value\n"
       ]
      },
      {
       "metadata": {},
       "output_type": "pyout",
       "prompt_number": 12,
       "text": [
        " ** On entry to SGEMM  parameter number 10 had an illegal value\n"
       ]
      },
      {
       "metadata": {},
       "output_type": "pyout",
       "prompt_number": 12,
       "text": [
        " ** On entry to SGEMM  parameter number 10 had an illegal value\n",
        " ** On entry to SGEMM  parameter number 10 had an illegal value\n",
        " ** On entry to SGEMM  parameter number 10 had an illegal value\n",
        " ** On entry to SGEMM  parameter number 10 had an illegal value\n"
       ]
      },
      {
       "metadata": {},
       "output_type": "pyout",
       "prompt_number": 12,
       "text": [
        " ** On entry to SGEMM  parameter number 10 had an illegal value\n",
        " ** On entry to SGEMM  parameter number 10 had an illegal value\n"
       ]
      },
      {
       "metadata": {},
       "output_type": "pyout",
       "prompt_number": 12,
       "text": [
        " ** On entry to SGEMM  parameter number 10 had an illegal value\n",
        " ** On entry to SGEMM  parameter number 10 had an illegal value\n"
       ]
      },
      {
       "metadata": {},
       "output_type": "pyout",
       "prompt_number": 12,
       "text": [
        " ** On entry to SGEMM  parameter number 10 had an illegal value\n",
        " ** On entry to SGEMM  parameter number 10 had an illegal value\n",
        " ** On entry to SGEMM  parameter number 10 had an illegal value\n"
       ]
      },
      {
       "metadata": {},
       "output_type": "pyout",
       "prompt_number": 12,
       "text": [
        " ** On entry to SGEMM  parameter number 10 had an illegal value\n"
       ]
      },
      {
       "metadata": {},
       "output_type": "pyout",
       "prompt_number": 12,
       "text": [
        " ** On entry to SGEMM  parameter number 10 had an illegal value\n",
        " ** On entry to SGEMM  parameter number 10 had an illegal value\n"
       ]
      },
      {
       "metadata": {},
       "output_type": "pyout",
       "prompt_number": 12,
       "text": [
        " ** On entry to SGEMM  parameter number 10 had an illegal value\n",
        " ** On entry to SGEMM  parameter number 10 had an illegal value\n"
       ]
      },
      {
       "metadata": {},
       "output_type": "pyout",
       "prompt_number": 12,
       "text": [
        " ** On entry to SGEMM  parameter number 10 had an illegal value\n",
        " ** On entry to SGEMM  parameter number 10 had an illegal value\n"
       ]
      },
      {
       "metadata": {},
       "output_type": "pyout",
       "prompt_number": 12,
       "text": [
        " ** On entry to SGEMM  parameter number 10 had an illegal value\n",
        " ** On entry to SGEMM  parameter number 10 had an illegal value\n"
       ]
      },
      {
       "metadata": {},
       "output_type": "pyout",
       "prompt_number": 12,
       "text": [
        " ** On entry to SGEMM  parameter number 10 had an illegal value\n",
        " ** On entry to SGEMM  parameter number 10 had an illegal value\n"
       ]
      },
      {
       "metadata": {},
       "output_type": "pyout",
       "prompt_number": 12,
       "text": [
        " ** On entry to SGEMM  parameter number 10 had an illegal value\n",
        " ** On entry to SGEMM  parameter number 10 had an illegal value\n"
       ]
      },
      {
       "metadata": {},
       "output_type": "pyout",
       "prompt_number": 12,
       "text": [
        " ** On entry to SGEMM  parameter number 10 had an illegal value\n",
        " ** On entry to SGEMM  parameter number 10 had an illegal value\n"
       ]
      },
      {
       "metadata": {},
       "output_type": "pyout",
       "prompt_number": 12,
       "text": [
        " ** On entry to SGEMM  parameter number 10 had an illegal value\n"
       ]
      },
      {
       "metadata": {},
       "output_type": "pyout",
       "prompt_number": 12,
       "text": [
        " ** On entry to SGEMM  parameter number 10 had an illegal value\n"
       ]
      },
      {
       "metadata": {},
       "output_type": "pyout",
       "prompt_number": 12,
       "text": [
        " ** On entry to SGEMM  parameter number 10 had an illegal value\n",
        " ** On entry to SGEMM  parameter number 10 had an illegal value\n"
       ]
      },
      {
       "metadata": {},
       "output_type": "pyout",
       "prompt_number": 12,
       "text": [
        " ** On entry to SGEMM  parameter number 10 had an illegal value\n",
        " ** On entry to SGEMM  parameter number 10 had an illegal value\n"
       ]
      },
      {
       "metadata": {},
       "output_type": "pyout",
       "prompt_number": 12,
       "text": [
        " ** On entry to SGEMM  parameter number 10 had an illegal value\n"
       ]
      },
      {
       "metadata": {},
       "output_type": "pyout",
       "prompt_number": 12,
       "text": [
        " ** On entry to SGEMM  parameter number 10 had an illegal value\n"
       ]
      },
      {
       "metadata": {},
       "output_type": "pyout",
       "prompt_number": 12,
       "text": [
        " ** On entry to SGEMM  parameter number 10 had an illegal value\n"
       ]
      },
      {
       "metadata": {},
       "output_type": "pyout",
       "prompt_number": 12,
       "text": [
        " ** On entry to SGEMM  parameter number 10 had an illegal value\n"
       ]
      },
      {
       "metadata": {},
       "output_type": "pyout",
       "prompt_number": 12,
       "text": [
        " ** On entry to SGEMM  parameter number 10 had an illegal value\n"
       ]
      },
      {
       "metadata": {},
       "output_type": "pyout",
       "prompt_number": 12,
       "text": [
        " ** On entry to SGEMM  parameter number 10 had an illegal value\n"
       ]
      },
      {
       "metadata": {},
       "output_type": "pyout",
       "prompt_number": 12,
       "text": [
        " ** On entry to SGEMM  parameter number 10 had an illegal value\n"
       ]
      },
      {
       "metadata": {},
       "output_type": "pyout",
       "prompt_number": 12,
       "text": [
        " ** On entry to SGEMM  parameter number 10 had an illegal value\n",
        " ** On entry to SGEMM  parameter number 10 had an illegal value\n"
       ]
      },
      {
       "metadata": {},
       "output_type": "pyout",
       "prompt_number": 12,
       "text": [
        " ** On entry to SGEMM  parameter number 10 had an illegal value\n"
       ]
      },
      {
       "metadata": {},
       "output_type": "pyout",
       "prompt_number": 12,
       "text": [
        " ** On entry to SGEMM  parameter number 10 had an illegal value\n",
        " ** On entry to SGEMM  parameter number 10 had an illegal value\n"
       ]
      },
      {
       "metadata": {},
       "output_type": "pyout",
       "prompt_number": 12,
       "text": [
        " ** On entry to SGEMM  parameter number 10 had an illegal value\n",
        " ** On entry to SGEMM  parameter number 10 had an illegal value\n"
       ]
      },
      {
       "metadata": {},
       "output_type": "pyout",
       "prompt_number": 12,
       "text": [
        " ** On entry to SGEMM  parameter number 10 had an illegal value\n",
        " ** On entry to SGEMM  parameter number 10 had an illegal value\n"
       ]
      },
      {
       "metadata": {},
       "output_type": "pyout",
       "prompt_number": 12,
       "text": [
        " ** On entry to SGEMM  parameter number 10 had an illegal value\n",
        " ** On entry to SGEMM  parameter number 10 had an illegal value\n"
       ]
      },
      {
       "metadata": {},
       "output_type": "pyout",
       "prompt_number": 12,
       "text": [
        " ** On entry to SGEMM  parameter number 10 had an illegal value\n",
        " ** On entry to SGEMM  parameter number 10 had an illegal value\n"
       ]
      },
      {
       "metadata": {},
       "output_type": "pyout",
       "prompt_number": 12,
       "text": [
        " ** On entry to SGEMM  parameter number 10 had an illegal value\n",
        " ** On entry to SGEMM  parameter number 10 had an illegal value\n"
       ]
      },
      {
       "metadata": {},
       "output_type": "pyout",
       "prompt_number": 12,
       "text": [
        " ** On entry to SGEMM  parameter number 10 had an illegal value\n"
       ]
      },
      {
       "metadata": {},
       "output_type": "pyout",
       "prompt_number": 12,
       "text": [
        " ** On entry to SGEMM  parameter number 10 had an illegal value\n"
       ]
      },
      {
       "metadata": {},
       "output_type": "pyout",
       "prompt_number": 12,
       "text": [
        " ** On entry to SGEMM  parameter number 10 had an illegal value\n"
       ]
      },
      {
       "metadata": {},
       "output_type": "pyout",
       "prompt_number": 12,
       "text": [
        " ** On entry to SGEMM  parameter number 10 had an illegal value\n"
       ]
      },
      {
       "metadata": {},
       "output_type": "pyout",
       "prompt_number": 12,
       "text": [
        " ** On entry to SGEMM  parameter number 10 had an illegal value\n"
       ]
      },
      {
       "metadata": {},
       "output_type": "pyout",
       "prompt_number": 12,
       "text": [
        " ** On entry to SGEMM  parameter number 10 had an illegal value\n"
       ]
      },
      {
       "metadata": {},
       "output_type": "pyout",
       "prompt_number": 12,
       "text": [
        " ** On entry to SGEMM  parameter number 10 had an illegal value\n",
        " ** On entry to SGEMM  parameter number 10 had an illegal value\n"
       ]
      },
      {
       "metadata": {},
       "output_type": "pyout",
       "prompt_number": 12,
       "text": [
        " ** On entry to SGEMM  parameter number 10 had an illegal value\n",
        " ** On entry to SGEMM  parameter number 10 had an illegal value\n"
       ]
      },
      {
       "metadata": {},
       "output_type": "pyout",
       "prompt_number": 12,
       "text": [
        " ** On entry to SGEMM  parameter number 10 had an illegal value\n"
       ]
      },
      {
       "metadata": {},
       "output_type": "pyout",
       "prompt_number": 12,
       "text": [
        " ** On entry to SGEMM  parameter number 10 had an illegal value\n"
       ]
      },
      {
       "metadata": {},
       "output_type": "pyout",
       "prompt_number": 12,
       "text": [
        " ** On entry to SGEMM  parameter number 10 had an illegal value\n",
        " ** On entry to SGEMM  parameter number 10 had an illegal value\n"
       ]
      },
      {
       "metadata": {},
       "output_type": "pyout",
       "prompt_number": 12,
       "text": [
        " ** On entry to SGEMM  parameter number 10 had an illegal value\n"
       ]
      },
      {
       "metadata": {},
       "output_type": "pyout",
       "prompt_number": 12,
       "text": [
        " ** On entry to SGEMM  parameter number 10 had an illegal value\n"
       ]
      },
      {
       "metadata": {},
       "output_type": "pyout",
       "prompt_number": 12,
       "text": [
        " ** On entry to SGEMM  parameter number 10 had an illegal value\n",
        " ** On entry to SGEMM  parameter number 10 had an illegal value\n"
       ]
      },
      {
       "metadata": {},
       "output_type": "pyout",
       "prompt_number": 12,
       "text": [
        " ** On entry to SGEMM  parameter number 10 had an illegal value\n",
        " ** On entry to SGEMM  parameter number 10 had an illegal value\n"
       ]
      },
      {
       "metadata": {},
       "output_type": "pyout",
       "prompt_number": 12,
       "text": [
        " ** On entry to SGEMM  parameter number 10 had an illegal value\n",
        " ** On entry to SGEMM  parameter number 10 had an illegal value\n"
       ]
      },
      {
       "metadata": {},
       "output_type": "pyout",
       "prompt_number": 12,
       "text": [
        " ** On entry to SGEMM  parameter number 10 had an illegal value\n",
        " ** On entry to SGEMM  parameter number 10 had an illegal value\n"
       ]
      },
      {
       "metadata": {},
       "output_type": "pyout",
       "prompt_number": 12,
       "text": [
        " ** On entry to SGEMM  parameter number 10 had an illegal value\n"
       ]
      },
      {
       "metadata": {},
       "output_type": "pyout",
       "prompt_number": 12,
       "text": [
        " ** On entry to SGEMM  parameter number 10 had an illegal value\n"
       ]
      },
      {
       "metadata": {},
       "output_type": "pyout",
       "prompt_number": 12,
       "text": [
        " ** On entry to SGEMM  parameter number 10 had an illegal value\n",
        " ** On entry to SGEMM  parameter number 10 had an illegal value\n"
       ]
      },
      {
       "metadata": {},
       "output_type": "pyout",
       "prompt_number": 12,
       "text": [
        " ** On entry to SGEMM  parameter number 10 had an illegal value\n"
       ]
      },
      {
       "metadata": {},
       "output_type": "pyout",
       "prompt_number": 12,
       "text": [
        " ** On entry to SGEMM  parameter number 10 had an illegal value\n"
       ]
      },
      {
       "metadata": {},
       "output_type": "pyout",
       "prompt_number": 12,
       "text": [
        " ** On entry to SGEMM  parameter number 10 had an illegal value\n"
       ]
      },
      {
       "metadata": {},
       "output_type": "pyout",
       "prompt_number": 12,
       "text": [
        " ** On entry to SGEMM  parameter number 10 had an illegal value\n"
       ]
      },
      {
       "metadata": {},
       "output_type": "pyout",
       "prompt_number": 12,
       "text": [
        " ** On entry to SGEMM  parameter number 10 had an illegal value\n"
       ]
      },
      {
       "metadata": {},
       "output_type": "pyout",
       "prompt_number": 12,
       "text": [
        " ** On entry to SGEMM  parameter number 10 had an illegal value\n"
       ]
      },
      {
       "metadata": {},
       "output_type": "pyout",
       "prompt_number": 12,
       "text": [
        " ** On entry to SGEMM  parameter number 10 had an illegal value\n"
       ]
      },
      {
       "metadata": {},
       "output_type": "pyout",
       "prompt_number": 12,
       "text": [
        " ** On entry to SGEMM  parameter number 10 had an illegal value\n"
       ]
      },
      {
       "metadata": {},
       "output_type": "pyout",
       "prompt_number": 12,
       "text": [
        " ** On entry to SGEMM  parameter number 10 had an illegal value\n",
        " ** On entry to SGEMM  parameter number 10 had an illegal value\n"
       ]
      },
      {
       "metadata": {},
       "output_type": "pyout",
       "prompt_number": 12,
       "text": [
        " ** On entry to SGEMM  parameter number 10 had an illegal value\n",
        " ** On entry to SGEMM  parameter number 10 had an illegal value\n"
       ]
      },
      {
       "metadata": {},
       "output_type": "pyout",
       "prompt_number": 12,
       "text": [
        " ** On entry to SGEMM  parameter number 10 had an illegal value\n"
       ]
      },
      {
       "metadata": {},
       "output_type": "pyout",
       "prompt_number": 12,
       "text": [
        " ** On entry to SGEMM  parameter number 10 had an illegal value\n"
       ]
      },
      {
       "metadata": {},
       "output_type": "pyout",
       "prompt_number": 12,
       "text": [
        " ** On entry to SGEMM  parameter number 10 had an illegal value\n"
       ]
      },
      {
       "metadata": {},
       "output_type": "pyout",
       "prompt_number": 12,
       "text": [
        " ** On entry to SGEMM  parameter number 10 had an illegal value\n"
       ]
      },
      {
       "metadata": {},
       "output_type": "pyout",
       "prompt_number": 12,
       "text": [
        " ** On entry to SGEMM  parameter number 10 had an illegal value\n",
        " ** On entry to SGEMM  parameter number 10 had an illegal value\n"
       ]
      },
      {
       "metadata": {},
       "output_type": "pyout",
       "prompt_number": 12,
       "text": [
        " ** On entry to SGEMM  parameter number 10 had an illegal value\n",
        " ** On entry to SGEMM  parameter number 10 had an illegal value\n"
       ]
      },
      {
       "metadata": {},
       "output_type": "pyout",
       "prompt_number": 12,
       "text": [
        " ** On entry to SGEMM  parameter number 10 had an illegal value\n",
        " ** On entry to SGEMM  parameter number 10 had an illegal value\n"
       ]
      },
      {
       "metadata": {},
       "output_type": "pyout",
       "prompt_number": 12,
       "text": [
        " ** On entry to SGEMM  parameter number 10 had an illegal value\n",
        " ** On entry to SGEMM  parameter number 10 had an illegal value\n",
        " ** On entry to SGEMM  parameter number 10 had an illegal value\n",
        " ** On entry to SGEMM  parameter number 10 had an illegal value\n"
       ]
      },
      {
       "metadata": {},
       "output_type": "pyout",
       "prompt_number": 12,
       "text": [
        " ** On entry to SGEMM  parameter number 10 had an illegal value\n",
        " ** On entry to SGEMM  parameter number 10 had an illegal value\n"
       ]
      },
      {
       "metadata": {},
       "output_type": "pyout",
       "prompt_number": 12,
       "text": [
        " ** On entry to SGEMM  parameter number 10 had an illegal value\n",
        " ** On entry to SGEMM  parameter number 10 had an illegal value\n"
       ]
      },
      {
       "metadata": {},
       "output_type": "pyout",
       "prompt_number": 12,
       "text": [
        " ** On entry to SGEMM  parameter number 10 had an illegal value\n"
       ]
      },
      {
       "metadata": {},
       "output_type": "pyout",
       "prompt_number": 12,
       "text": [
        " ** On entry to SGEMM  parameter number 10 had an illegal value\n"
       ]
      },
      {
       "metadata": {},
       "output_type": "pyout",
       "prompt_number": 12,
       "text": [
        " ** On entry to SGEMM  parameter number 10 had an illegal value\n",
        " ** On entry to SGEMM  parameter number 10 had an illegal value\n"
       ]
      },
      {
       "metadata": {},
       "output_type": "pyout",
       "prompt_number": 12,
       "text": [
        " ** On entry to SGEMM  parameter number 10 had an illegal value\n",
        " ** On entry to SGEMM  parameter number 10 had an illegal value\n"
       ]
      },
      {
       "metadata": {},
       "output_type": "pyout",
       "prompt_number": 12,
       "text": [
        " ** On entry to SGEMM  parameter number 10 had an illegal value\n",
        " ** On entry to SGEMM  parameter number 10 had an illegal value\n"
       ]
      },
      {
       "metadata": {},
       "output_type": "pyout",
       "prompt_number": 12,
       "text": [
        " ** On entry to SGEMM  parameter number 10 had an illegal value\n",
        " ** On entry to SGEMM  parameter number 10 had an illegal value\n"
       ]
      },
      {
       "metadata": {},
       "output_type": "pyout",
       "prompt_number": 12,
       "text": [
        " ** On entry to SGEMM  parameter number 10 had an illegal value\n",
        " ** On entry to SGEMM  parameter number 10 had an illegal value\n"
       ]
      },
      {
       "metadata": {},
       "output_type": "pyout",
       "prompt_number": 12,
       "text": [
        " ** On entry to SGEMM  parameter number 10 had an illegal value\n"
       ]
      },
      {
       "metadata": {},
       "output_type": "pyout",
       "prompt_number": 12,
       "text": [
        " ** On entry to SGEMM  parameter number 10 had an illegal value\n"
       ]
      },
      {
       "metadata": {},
       "output_type": "pyout",
       "prompt_number": 12,
       "text": [
        "ConfusionMatrix:\n",
        "[[       0       2]   0.000% \t[class: 1]\n",
        " [       0     249]]  100.000% \t[class: 2]\n",
        " + average row correct: 50% \n",
        " + average rowUcol correct (VOC measure): 49.601593613625% \n",
        " + global correct: 99.203187250996%\n",
        "{\n",
        "  averageUnionValid : 0.49601593613625\n",
        "  _targ_idx : LongTensor - empty\n",
        "  valids : FloatTensor - size: 2\n",
        "  classes : \n",
        "    {\n",
        "      1 : 1\n",
        "      2 : 2\n",
        "    }\n",
        "  _target : FloatTensor - empty\n",
        "  mat : FloatTensor - size: 2x2\n",
        "  _pred_idx : LongTensor - size: 1\n",
        "  _max : FloatTensor - size: 1\n",
        "  unionvalids : FloatTensor - size: 2\n",
        "  nclasses : 2\n",
        "  totalValid : 0.99203187250996\n",
        "  _prediction : FloatTensor - size: 2\n",
        "  averageValid : 0.5\n",
        "}\n"
       ]
      },
      {
       "metadata": {},
       "output_type": "pyout",
       "prompt_number": 12,
       "text": [
        "==> saving model to /home/zayik/Desktop/CS491/Recurrent-Neural-Net-Music-Classification/model.net\t\n"
       ]
      },
      {
       "metadata": {},
       "output_type": "pyout",
       "prompt_number": 12,
       "text": [
        " ** On entry to SGEMM  parameter number 10 had an illegal value\n"
       ]
      },
      {
       "metadata": {},
       "output_type": "pyout",
       "prompt_number": 12,
       "text": [
        " ** On entry to SGEMM  parameter number 10 had an illegal value\n"
       ]
      },
      {
       "metadata": {},
       "output_type": "pyout",
       "prompt_number": 12,
       "text": [
        " ** On entry to SGEMM  parameter number 10 had an illegal value\n"
       ]
      },
      {
       "metadata": {},
       "output_type": "pyout",
       "prompt_number": 12,
       "text": [
        " ** On entry to SGEMM  parameter number 10 had an illegal value\n"
       ]
      },
      {
       "metadata": {},
       "output_type": "pyout",
       "prompt_number": 12,
       "text": [
        " ** On entry to SGEMM  parameter number 10 had an illegal value\n"
       ]
      },
      {
       "metadata": {},
       "output_type": "pyout",
       "prompt_number": 12,
       "text": [
        " ** On entry to SGEMM  parameter number 10 had an illegal value\n"
       ]
      },
      {
       "metadata": {},
       "output_type": "pyout",
       "prompt_number": 12,
       "text": [
        " ** On entry to SGEMM  parameter number 10 had an illegal value\n"
       ]
      },
      {
       "metadata": {},
       "output_type": "pyout",
       "prompt_number": 12,
       "text": [
        " ** On entry to SGEMM  parameter number 10 had an illegal value\n"
       ]
      },
      {
       "metadata": {},
       "output_type": "pyout",
       "prompt_number": 12,
       "text": [
        " ** On entry to SGEMM  parameter number 10 had an illegal value\n"
       ]
      },
      {
       "metadata": {},
       "output_type": "pyout",
       "prompt_number": 12,
       "text": [
        " ** On entry to SGEMM  parameter number 10 had an illegal value\n"
       ]
      },
      {
       "metadata": {},
       "output_type": "pyout",
       "prompt_number": 12,
       "text": [
        " ** On entry to SGEMM  parameter number 10 had an illegal value\n"
       ]
      },
      {
       "metadata": {},
       "output_type": "pyout",
       "prompt_number": 12,
       "text": [
        " ** On entry to SGEMM  parameter number 10 had an illegal value\n"
       ]
      },
      {
       "metadata": {},
       "output_type": "pyout",
       "prompt_number": 12,
       "text": [
        " ** On entry to SGEMM  parameter number 10 had an illegal value\n",
        " ** On entry to SGEMM  parameter number 10 had an illegal value\n"
       ]
      },
      {
       "metadata": {},
       "output_type": "pyout",
       "prompt_number": 12,
       "text": [
        " ** On entry to SGEMM  parameter number 10 had an illegal value\n",
        " ** On entry to SGEMM  parameter number 10 had an illegal value\n"
       ]
      },
      {
       "metadata": {},
       "output_type": "pyout",
       "prompt_number": 12,
       "text": [
        " ** On entry to SGEMM  parameter number 10 had an illegal value\n"
       ]
      },
      {
       "metadata": {},
       "output_type": "pyout",
       "prompt_number": 12,
       "text": [
        " ** On entry to SGEMM  parameter number 10 had an illegal value\n"
       ]
      },
      {
       "metadata": {},
       "output_type": "pyout",
       "prompt_number": 12,
       "text": [
        " ** On entry to SGEMM  parameter number 10 had an illegal value\n"
       ]
      },
      {
       "metadata": {},
       "output_type": "pyout",
       "prompt_number": 12,
       "text": [
        " ** On entry to SGEMM  parameter number 10 had an illegal value\n"
       ]
      },
      {
       "metadata": {},
       "output_type": "pyout",
       "prompt_number": 12,
       "text": [
        " ** On entry to SGEMM  parameter number 10 had an illegal value\n",
        " ** On entry to SGEMM  parameter number 10 had an illegal value\n"
       ]
      },
      {
       "metadata": {},
       "output_type": "pyout",
       "prompt_number": 12,
       "text": [
        " ** On entry to SGEMM  parameter number 10 had an illegal value\n"
       ]
      },
      {
       "metadata": {},
       "output_type": "pyout",
       "prompt_number": 12,
       "text": [
        " ** On entry to SGEMM  parameter number 10 had an illegal value\n"
       ]
      },
      {
       "metadata": {},
       "output_type": "pyout",
       "prompt_number": 12,
       "text": [
        " ** On entry to SGEMM  parameter number 10 had an illegal value\n",
        " ** On entry to SGEMM  parameter number 10 had an illegal value\n"
       ]
      },
      {
       "metadata": {},
       "output_type": "pyout",
       "prompt_number": 12,
       "text": [
        " ** On entry to SGEMM  parameter number 10 had an illegal value\n",
        " ** On entry to SGEMM  parameter number 10 had an illegal value\n"
       ]
      },
      {
       "metadata": {},
       "output_type": "pyout",
       "prompt_number": 12,
       "text": [
        " ** On entry to SGEMM  parameter number 10 had an illegal value\n",
        " ** On entry to SGEMM  parameter number 10 had an illegal value\n"
       ]
      },
      {
       "metadata": {},
       "output_type": "pyout",
       "prompt_number": 12,
       "text": [
        " ** On entry to SGEMM  parameter number 10 had an illegal value\n",
        " ** On entry to SGEMM  parameter number 10 had an illegal value\n"
       ]
      },
      {
       "metadata": {},
       "output_type": "pyout",
       "prompt_number": 12,
       "text": [
        " ** On entry to SGEMM  parameter number 10 had an illegal value\n",
        " ** On entry to SGEMM  parameter number 10 had an illegal value\n"
       ]
      },
      {
       "metadata": {},
       "output_type": "pyout",
       "prompt_number": 12,
       "text": [
        " ** On entry to SGEMM  parameter number 10 had an illegal value\n",
        " ** On entry to SGEMM  parameter number 10 had an illegal value\n"
       ]
      },
      {
       "metadata": {},
       "output_type": "pyout",
       "prompt_number": 12,
       "text": [
        " ** On entry to SGEMM  parameter number 10 had an illegal value\n",
        " ** On entry to SGEMM  parameter number 10 had an illegal value\n"
       ]
      },
      {
       "metadata": {},
       "output_type": "pyout",
       "prompt_number": 12,
       "text": [
        " ** On entry to SGEMM  parameter number 10 had an illegal value\n",
        " ** On entry to SGEMM  parameter number 10 had an illegal value\n"
       ]
      },
      {
       "metadata": {},
       "output_type": "pyout",
       "prompt_number": 12,
       "text": [
        " ** On entry to SGEMM  parameter number 10 had an illegal value\n",
        " ** On entry to SGEMM  parameter number 10 had an illegal value\n"
       ]
      },
      {
       "metadata": {},
       "output_type": "pyout",
       "prompt_number": 12,
       "text": [
        " ** On entry to SGEMM  parameter number 10 had an illegal value\n",
        " ** On entry to SGEMM  parameter number 10 had an illegal value\n"
       ]
      },
      {
       "metadata": {},
       "output_type": "pyout",
       "prompt_number": 12,
       "text": [
        " ** On entry to SGEMM  parameter number 10 had an illegal value\n",
        " ** On entry to SGEMM  parameter number 10 had an illegal value\n"
       ]
      },
      {
       "metadata": {},
       "output_type": "pyout",
       "prompt_number": 12,
       "text": [
        " ** On entry to SGEMM  parameter number 10 had an illegal value\n",
        " ** On entry to SGEMM  parameter number 10 had an illegal value\n"
       ]
      },
      {
       "metadata": {},
       "output_type": "pyout",
       "prompt_number": 12,
       "text": [
        " ** On entry to SGEMM  parameter number 10 had an illegal value\n",
        " ** On entry to SGEMM  parameter number 10 had an illegal value\n"
       ]
      },
      {
       "metadata": {},
       "output_type": "pyout",
       "prompt_number": 12,
       "text": [
        " ** On entry to SGEMM  parameter number 10 had an illegal value\n",
        " ** On entry to SGEMM  parameter number 10 had an illegal value\n"
       ]
      },
      {
       "metadata": {},
       "output_type": "pyout",
       "prompt_number": 12,
       "text": [
        " ** On entry to SGEMM  parameter number 10 had an illegal value\n"
       ]
      },
      {
       "metadata": {},
       "output_type": "pyout",
       "prompt_number": 12,
       "text": [
        " ** On entry to SGEMM  parameter number 10 had an illegal value\n"
       ]
      },
      {
       "metadata": {},
       "output_type": "pyout",
       "prompt_number": 12,
       "text": [
        " ** On entry to SGEMM  parameter number 10 had an illegal value\n"
       ]
      },
      {
       "metadata": {},
       "output_type": "pyout",
       "prompt_number": 12,
       "text": [
        " ** On entry to SGEMM  parameter number 10 had an illegal value\n"
       ]
      },
      {
       "metadata": {},
       "output_type": "pyout",
       "prompt_number": 12,
       "text": [
        " ** On entry to SGEMM  parameter number 10 had an illegal value\n"
       ]
      },
      {
       "metadata": {},
       "output_type": "pyout",
       "prompt_number": 12,
       "text": [
        " ** On entry to SGEMM  parameter number 10 had an illegal value\n"
       ]
      },
      {
       "metadata": {},
       "output_type": "pyout",
       "prompt_number": 12,
       "text": [
        " ** On entry to SGEMM  parameter number 10 had an illegal value\n"
       ]
      },
      {
       "metadata": {},
       "output_type": "pyout",
       "prompt_number": 12,
       "text": [
        " ** On entry to SGEMM  parameter number 10 had an illegal value\n"
       ]
      },
      {
       "metadata": {},
       "output_type": "pyout",
       "prompt_number": 12,
       "text": [
        " ** On entry to SGEMM  parameter number 10 had an illegal value\n",
        " ** On entry to SGEMM  parameter number 10 had an illegal value\n"
       ]
      },
      {
       "metadata": {},
       "output_type": "pyout",
       "prompt_number": 12,
       "text": [
        " ** On entry to SGEMM  parameter number 10 had an illegal value\n"
       ]
      },
      {
       "metadata": {},
       "output_type": "pyout",
       "prompt_number": 12,
       "text": [
        " ** On entry to SGEMM  parameter number 10 had an illegal value\n"
       ]
      },
      {
       "metadata": {},
       "output_type": "pyout",
       "prompt_number": 12,
       "text": [
        " ** On entry to SGEMM  parameter number 10 had an illegal value\n"
       ]
      },
      {
       "metadata": {},
       "output_type": "pyout",
       "prompt_number": 12,
       "text": [
        " ** On entry to SGEMM  parameter number 10 had an illegal value\n"
       ]
      },
      {
       "metadata": {},
       "output_type": "pyout",
       "prompt_number": 12,
       "text": [
        " ** On entry to SGEMM  parameter number 10 had an illegal value\n",
        " ** On entry to SGEMM  parameter number 10 had an illegal value\n"
       ]
      },
      {
       "metadata": {},
       "output_type": "pyout",
       "prompt_number": 12,
       "text": [
        " ** On entry to SGEMM  parameter number 10 had an illegal value\n",
        " ** On entry to SGEMM  parameter number 10 had an illegal value\n"
       ]
      },
      {
       "metadata": {},
       "output_type": "pyout",
       "prompt_number": 12,
       "text": [
        " ** On entry to SGEMM  parameter number 10 had an illegal value\n",
        " ** On entry to SGEMM  parameter number 10 had an illegal value\n"
       ]
      },
      {
       "metadata": {},
       "output_type": "pyout",
       "prompt_number": 12,
       "text": [
        " ** On entry to SGEMM  parameter number 10 had an illegal value\n"
       ]
      },
      {
       "metadata": {},
       "output_type": "pyout",
       "prompt_number": 12,
       "text": [
        " ** On entry to SGEMM  parameter number 10 had an illegal value\n"
       ]
      },
      {
       "metadata": {},
       "output_type": "pyout",
       "prompt_number": 12,
       "text": [
        " ** On entry to SGEMM  parameter number 10 had an illegal value\n"
       ]
      },
      {
       "metadata": {},
       "output_type": "pyout",
       "prompt_number": 12,
       "text": [
        " ** On entry to SGEMM  parameter number 10 had an illegal value\n"
       ]
      },
      {
       "metadata": {},
       "output_type": "pyout",
       "prompt_number": 12,
       "text": [
        " ** On entry to SGEMM  parameter number 10 had an illegal value\n"
       ]
      },
      {
       "metadata": {},
       "output_type": "pyout",
       "prompt_number": 12,
       "text": [
        " ** On entry to SGEMM  parameter number 10 had an illegal value\n"
       ]
      },
      {
       "metadata": {},
       "output_type": "pyout",
       "prompt_number": 12,
       "text": [
        " ** On entry to SGEMM  parameter number 10 had an illegal value\n",
        " ** On entry to SGEMM  parameter number 10 had an illegal value\n"
       ]
      },
      {
       "metadata": {},
       "output_type": "pyout",
       "prompt_number": 12,
       "text": [
        " ** On entry to SGEMM  parameter number 10 had an illegal value\n",
        " ** On entry to SGEMM  parameter number 10 had an illegal value\n"
       ]
      },
      {
       "metadata": {},
       "output_type": "pyout",
       "prompt_number": 12,
       "text": [
        " ** On entry to SGEMM  parameter number 10 had an illegal value\n",
        " ** On entry to SGEMM  parameter number 10 had an illegal value\n"
       ]
      },
      {
       "metadata": {},
       "output_type": "pyout",
       "prompt_number": 12,
       "text": [
        " ** On entry to SGEMM  parameter number 10 had an illegal value\n",
        " ** On entry to SGEMM  parameter number 10 had an illegal value\n"
       ]
      },
      {
       "metadata": {},
       "output_type": "pyout",
       "prompt_number": 12,
       "text": [
        " ** On entry to SGEMM  parameter number 10 had an illegal value\n",
        " ** On entry to SGEMM  parameter number 10 had an illegal value\n"
       ]
      },
      {
       "metadata": {},
       "output_type": "pyout",
       "prompt_number": 12,
       "text": [
        " ** On entry to SGEMM  parameter number 10 had an illegal value\n",
        " ** On entry to SGEMM  parameter number 10 had an illegal value\n"
       ]
      },
      {
       "metadata": {},
       "output_type": "pyout",
       "prompt_number": 12,
       "text": [
        " ** On entry to SGEMM  parameter number 10 had an illegal value\n",
        " ** On entry to SGEMM  parameter number 10 had an illegal value\n"
       ]
      },
      {
       "metadata": {},
       "output_type": "pyout",
       "prompt_number": 12,
       "text": [
        " ** On entry to SGEMM  parameter number 10 had an illegal value\n",
        " ** On entry to SGEMM  parameter number 10 had an illegal value\n",
        " ** On entry to SGEMM  parameter number 10 had an illegal value\n"
       ]
      },
      {
       "metadata": {},
       "output_type": "pyout",
       "prompt_number": 12,
       "text": [
        " ** On entry to SGEMM  parameter number 10 had an illegal value\n"
       ]
      },
      {
       "metadata": {},
       "output_type": "pyout",
       "prompt_number": 12,
       "text": [
        " ** On entry to SGEMM  parameter number 10 had an illegal value\n",
        " ** On entry to SGEMM  parameter number 10 had an illegal value\n"
       ]
      },
      {
       "metadata": {},
       "output_type": "pyout",
       "prompt_number": 12,
       "text": [
        " ** On entry to SGEMM  parameter number 10 had an illegal value\n",
        " ** On entry to SGEMM  parameter number 10 had an illegal value\n"
       ]
      },
      {
       "metadata": {},
       "output_type": "pyout",
       "prompt_number": 12,
       "text": [
        " ** On entry to SGEMM  parameter number 10 had an illegal value\n"
       ]
      },
      {
       "metadata": {},
       "output_type": "pyout",
       "prompt_number": 12,
       "text": [
        " ** On entry to SGEMM  parameter number 10 had an illegal value\n"
       ]
      },
      {
       "metadata": {},
       "output_type": "pyout",
       "prompt_number": 12,
       "text": [
        " ** On entry to SGEMM  parameter number 10 had an illegal value\n"
       ]
      },
      {
       "metadata": {},
       "output_type": "pyout",
       "prompt_number": 12,
       "text": [
        " ** On entry to SGEMM  parameter number 10 had an illegal value\n"
       ]
      },
      {
       "metadata": {},
       "output_type": "pyout",
       "prompt_number": 12,
       "text": [
        " ** On entry to SGEMM  parameter number 10 had an illegal value\n"
       ]
      },
      {
       "metadata": {},
       "output_type": "pyout",
       "prompt_number": 12,
       "text": [
        " ** On entry to SGEMM  parameter number 10 had an illegal value\n"
       ]
      },
      {
       "metadata": {},
       "output_type": "pyout",
       "prompt_number": 12,
       "text": [
        " ** On entry to SGEMM  parameter number 10 had an illegal value\n"
       ]
      },
      {
       "metadata": {},
       "output_type": "pyout",
       "prompt_number": 12,
       "text": [
        " ** On entry to SGEMM  parameter number 10 had an illegal value\n"
       ]
      },
      {
       "metadata": {},
       "output_type": "pyout",
       "prompt_number": 12,
       "text": [
        " ** On entry to SGEMM  parameter number 10 had an illegal value\n",
        " ** On entry to SGEMM  parameter number 10 had an illegal value\n"
       ]
      },
      {
       "metadata": {},
       "output_type": "pyout",
       "prompt_number": 12,
       "text": [
        " ** On entry to SGEMM  parameter number 10 had an illegal value\n",
        " ** On entry to SGEMM  parameter number 10 had an illegal value\n"
       ]
      },
      {
       "metadata": {},
       "output_type": "pyout",
       "prompt_number": 12,
       "text": [
        " ** On entry to SGEMM  parameter number 10 had an illegal value\n"
       ]
      },
      {
       "metadata": {},
       "output_type": "pyout",
       "prompt_number": 12,
       "text": [
        " ** On entry to SGEMM  parameter number 10 had an illegal value\n"
       ]
      },
      {
       "metadata": {},
       "output_type": "pyout",
       "prompt_number": 12,
       "text": [
        " ** On entry to SGEMM  parameter number 10 had an illegal value\n",
        " ** On entry to SGEMM  parameter number 10 had an illegal value\n"
       ]
      },
      {
       "metadata": {},
       "output_type": "pyout",
       "prompt_number": 12,
       "text": [
        " ** On entry to SGEMM  parameter number 10 had an illegal value\n"
       ]
      },
      {
       "metadata": {},
       "output_type": "pyout",
       "prompt_number": 12,
       "text": [
        " ** On entry to SGEMM  parameter number 10 had an illegal value\n"
       ]
      },
      {
       "metadata": {},
       "output_type": "pyout",
       "prompt_number": 12,
       "text": [
        " ** On entry to SGEMM  parameter number 10 had an illegal value\n",
        " ** On entry to SGEMM  parameter number 10 had an illegal value\n"
       ]
      },
      {
       "metadata": {},
       "output_type": "pyout",
       "prompt_number": 12,
       "text": [
        " ** On entry to SGEMM  parameter number 10 had an illegal value\n",
        " ** On entry to SGEMM  parameter number 10 had an illegal value\n"
       ]
      },
      {
       "metadata": {},
       "output_type": "pyout",
       "prompt_number": 12,
       "text": [
        " ** On entry to SGEMM  parameter number 10 had an illegal value\n",
        " ** On entry to SGEMM  parameter number 10 had an illegal value\n"
       ]
      },
      {
       "metadata": {},
       "output_type": "pyout",
       "prompt_number": 12,
       "text": [
        " ** On entry to SGEMM  parameter number 10 had an illegal value\n"
       ]
      },
      {
       "metadata": {},
       "output_type": "pyout",
       "prompt_number": 12,
       "text": [
        " ** On entry to SGEMM  parameter number 10 had an illegal value\n"
       ]
      },
      {
       "metadata": {},
       "output_type": "pyout",
       "prompt_number": 12,
       "text": [
        " ** On entry to SGEMM  parameter number 10 had an illegal value\n"
       ]
      },
      {
       "metadata": {},
       "output_type": "pyout",
       "prompt_number": 12,
       "text": [
        " ** On entry to SGEMM  parameter number 10 had an illegal value\n"
       ]
      },
      {
       "metadata": {},
       "output_type": "pyout",
       "prompt_number": 12,
       "text": [
        " ** On entry to SGEMM  parameter number 10 had an illegal value\n"
       ]
      },
      {
       "metadata": {},
       "output_type": "pyout",
       "prompt_number": 12,
       "text": [
        " ** On entry to SGEMM  parameter number 10 had an illegal value\n"
       ]
      },
      {
       "metadata": {},
       "output_type": "pyout",
       "prompt_number": 12,
       "text": [
        " ** On entry to SGEMM  parameter number 10 had an illegal value\n"
       ]
      },
      {
       "metadata": {},
       "output_type": "pyout",
       "prompt_number": 12,
       "text": [
        " ** On entry to SGEMM  parameter number 10 had an illegal value\n"
       ]
      },
      {
       "metadata": {},
       "output_type": "pyout",
       "prompt_number": 12,
       "text": [
        " ** On entry to SGEMM  parameter number 10 had an illegal value\n",
        " ** On entry to SGEMM  parameter number 10 had an illegal value\n"
       ]
      },
      {
       "metadata": {},
       "output_type": "pyout",
       "prompt_number": 12,
       "text": [
        " ** On entry to SGEMM  parameter number 10 had an illegal value\n",
        " ** On entry to SGEMM  parameter number 10 had an illegal value\n"
       ]
      },
      {
       "metadata": {},
       "output_type": "pyout",
       "prompt_number": 12,
       "text": [
        " ** On entry to SGEMM  parameter number 10 had an illegal value\n"
       ]
      },
      {
       "metadata": {},
       "output_type": "pyout",
       "prompt_number": 12,
       "text": [
        " ** On entry to SGEMM  parameter number 10 had an illegal value\n"
       ]
      },
      {
       "metadata": {},
       "output_type": "pyout",
       "prompt_number": 12,
       "text": [
        " ** On entry to SGEMM  parameter number 10 had an illegal value\n",
        " ** On entry to SGEMM  parameter number 10 had an illegal value\n"
       ]
      },
      {
       "metadata": {},
       "output_type": "pyout",
       "prompt_number": 12,
       "text": [
        " ** On entry to SGEMM  parameter number 10 had an illegal value\n"
       ]
      },
      {
       "metadata": {},
       "output_type": "pyout",
       "prompt_number": 12,
       "text": [
        " ** On entry to SGEMM  parameter number 10 had an illegal value\n"
       ]
      },
      {
       "metadata": {},
       "output_type": "pyout",
       "prompt_number": 12,
       "text": [
        " ** On entry to SGEMM  parameter number 10 had an illegal value\n"
       ]
      },
      {
       "metadata": {},
       "output_type": "pyout",
       "prompt_number": 12,
       "text": [
        " ** On entry to SGEMM  parameter number 10 had an illegal value\n"
       ]
      },
      {
       "metadata": {},
       "output_type": "pyout",
       "prompt_number": 12,
       "text": [
        " ** On entry to SGEMM  parameter number 10 had an illegal value\n",
        " ** On entry to SGEMM  parameter number 10 had an illegal value\n"
       ]
      },
      {
       "metadata": {},
       "output_type": "pyout",
       "prompt_number": 12,
       "text": [
        " ** On entry to SGEMM  parameter number 10 had an illegal value\n",
        " ** On entry to SGEMM  parameter number 10 had an illegal value\n"
       ]
      },
      {
       "metadata": {},
       "output_type": "pyout",
       "prompt_number": 12,
       "text": [
        " ** On entry to SGEMM  parameter number 10 had an illegal value\n",
        " ** On entry to SGEMM  parameter number 10 had an illegal value\n"
       ]
      },
      {
       "metadata": {},
       "output_type": "pyout",
       "prompt_number": 12,
       "text": [
        " ** On entry to SGEMM  parameter number 10 had an illegal value\n",
        " ** On entry to SGEMM  parameter number 10 had an illegal value\n"
       ]
      },
      {
       "metadata": {},
       "output_type": "pyout",
       "prompt_number": 12,
       "text": [
        " ** On entry to SGEMM  parameter number 10 had an illegal value\n",
        " ** On entry to SGEMM  parameter number 10 had an illegal value\n"
       ]
      },
      {
       "metadata": {},
       "output_type": "pyout",
       "prompt_number": 12,
       "text": [
        " ** On entry to SGEMM  parameter number 10 had an illegal value\n",
        " ** On entry to SGEMM  parameter number 10 had an illegal value\n"
       ]
      },
      {
       "metadata": {},
       "output_type": "pyout",
       "prompt_number": 12,
       "text": [
        " ** On entry to SGEMM  parameter number 10 had an illegal value\n",
        " ** On entry to SGEMM  parameter number 10 had an illegal value\n"
       ]
      },
      {
       "metadata": {},
       "output_type": "pyout",
       "prompt_number": 12,
       "text": [
        " ** On entry to SGEMM  parameter number 10 had an illegal value\n",
        " ** On entry to SGEMM  parameter number 10 had an illegal value\n"
       ]
      },
      {
       "metadata": {},
       "output_type": "pyout",
       "prompt_number": 12,
       "text": [
        " ** On entry to SGEMM  parameter number 10 had an illegal value\n",
        " ** On entry to SGEMM  parameter number 10 had an illegal value\n"
       ]
      },
      {
       "metadata": {},
       "output_type": "pyout",
       "prompt_number": 12,
       "text": [
        " ** On entry to SGEMM  parameter number 10 had an illegal value\n",
        " ** On entry to SGEMM  parameter number 10 had an illegal value\n"
       ]
      },
      {
       "metadata": {},
       "output_type": "pyout",
       "prompt_number": 12,
       "text": [
        " ** On entry to SGEMM  parameter number 10 had an illegal value\n",
        " ** On entry to SGEMM  parameter number 10 had an illegal value\n"
       ]
      },
      {
       "metadata": {},
       "output_type": "pyout",
       "prompt_number": 12,
       "text": [
        " ** On entry to SGEMM  parameter number 10 had an illegal value\n",
        " ** On entry to SGEMM  parameter number 10 had an illegal value\n"
       ]
      },
      {
       "metadata": {},
       "output_type": "pyout",
       "prompt_number": 12,
       "text": [
        " ** On entry to SGEMM  parameter number 10 had an illegal value\n"
       ]
      },
      {
       "metadata": {},
       "output_type": "pyout",
       "prompt_number": 12,
       "text": [
        " ** On entry to SGEMM  parameter number 10 had an illegal value\n"
       ]
      },
      {
       "metadata": {},
       "output_type": "pyout",
       "prompt_number": 12,
       "text": [
        " ** On entry to SGEMM  parameter number 10 had an illegal value\n"
       ]
      },
      {
       "metadata": {},
       "output_type": "pyout",
       "prompt_number": 12,
       "text": [
        " ** On entry to SGEMM  parameter number 10 had an illegal value\n"
       ]
      },
      {
       "metadata": {},
       "output_type": "pyout",
       "prompt_number": 12,
       "text": [
        " ** On entry to SGEMM  parameter number 10 had an illegal value\n"
       ]
      },
      {
       "metadata": {},
       "output_type": "pyout",
       "prompt_number": 12,
       "text": [
        " ** On entry to SGEMM  parameter number 10 had an illegal value\n"
       ]
      },
      {
       "metadata": {},
       "output_type": "pyout",
       "prompt_number": 12,
       "text": [
        " ** On entry to SGEMM  parameter number 10 had an illegal value\n",
        " ** On entry to SGEMM  parameter number 10 had an illegal value\n"
       ]
      },
      {
       "metadata": {},
       "output_type": "pyout",
       "prompt_number": 12,
       "text": [
        " ** On entry to SGEMM  parameter number 10 had an illegal value\n"
       ]
      },
      {
       "metadata": {},
       "output_type": "pyout",
       "prompt_number": 12,
       "text": [
        " ** On entry to SGEMM  parameter number 10 had an illegal value\n"
       ]
      },
      {
       "metadata": {},
       "output_type": "pyout",
       "prompt_number": 12,
       "text": [
        " ** On entry to SGEMM  parameter number 10 had an illegal value\n"
       ]
      },
      {
       "metadata": {},
       "output_type": "pyout",
       "prompt_number": 12,
       "text": [
        " ** On entry to SGEMM  parameter number 10 had an illegal value\n"
       ]
      },
      {
       "metadata": {},
       "output_type": "pyout",
       "prompt_number": 12,
       "text": [
        " ** On entry to SGEMM  parameter number 10 had an illegal value\n",
        " ** On entry to SGEMM  parameter number 10 had an illegal value\n"
       ]
      },
      {
       "metadata": {},
       "output_type": "pyout",
       "prompt_number": 12,
       "text": [
        " ** On entry to SGEMM  parameter number 10 had an illegal value\n",
        " ** On entry to SGEMM  parameter number 10 had an illegal value\n"
       ]
      },
      {
       "metadata": {},
       "output_type": "pyout",
       "prompt_number": 12,
       "text": [
        " ** On entry to SGEMM  parameter number 10 had an illegal value\n",
        " ** On entry to SGEMM  parameter number 10 had an illegal value\n"
       ]
      },
      {
       "metadata": {},
       "output_type": "pyout",
       "prompt_number": 12,
       "text": [
        " ** On entry to SGEMM  parameter number 10 had an illegal value\n"
       ]
      },
      {
       "metadata": {},
       "output_type": "pyout",
       "prompt_number": 12,
       "text": [
        " ** On entry to SGEMM  parameter number 10 had an illegal value\n"
       ]
      },
      {
       "metadata": {},
       "output_type": "pyout",
       "prompt_number": 12,
       "text": [
        " ** On entry to SGEMM  parameter number 10 had an illegal value\n",
        " ** On entry to SGEMM  parameter number 10 had an illegal value\n"
       ]
      },
      {
       "metadata": {},
       "output_type": "pyout",
       "prompt_number": 12,
       "text": [
        " ** On entry to SGEMM  parameter number 10 had an illegal value\n",
        " ** On entry to SGEMM  parameter number 10 had an illegal value\n"
       ]
      },
      {
       "metadata": {},
       "output_type": "pyout",
       "prompt_number": 12,
       "text": [
        " ** On entry to SGEMM  parameter number 10 had an illegal value\n"
       ]
      },
      {
       "metadata": {},
       "output_type": "pyout",
       "prompt_number": 12,
       "text": [
        " ** On entry to SGEMM  parameter number 10 had an illegal value\n"
       ]
      },
      {
       "metadata": {},
       "output_type": "pyout",
       "prompt_number": 12,
       "text": [
        " ** On entry to SGEMM  parameter number 10 had an illegal value\n"
       ]
      },
      {
       "metadata": {},
       "output_type": "pyout",
       "prompt_number": 12,
       "text": [
        " ** On entry to SGEMM  parameter number 10 had an illegal value\n"
       ]
      },
      {
       "metadata": {},
       "output_type": "pyout",
       "prompt_number": 12,
       "text": [
        " ** On entry to SGEMM  parameter number 10 had an illegal value\n"
       ]
      },
      {
       "metadata": {},
       "output_type": "pyout",
       "prompt_number": 12,
       "text": [
        " ** On entry to SGEMM  parameter number 10 had an illegal value\n"
       ]
      },
      {
       "metadata": {},
       "output_type": "pyout",
       "prompt_number": 12,
       "text": [
        " ** On entry to SGEMM  parameter number 10 had an illegal value\n"
       ]
      },
      {
       "metadata": {},
       "output_type": "pyout",
       "prompt_number": 12,
       "text": [
        " ** On entry to SGEMM  parameter number 10 had an illegal value\n"
       ]
      },
      {
       "metadata": {},
       "output_type": "pyout",
       "prompt_number": 12,
       "text": [
        " ** On entry to SGEMM  parameter number 10 had an illegal value\n",
        " ** On entry to SGEMM  parameter number 10 had an illegal value\n"
       ]
      },
      {
       "metadata": {},
       "output_type": "pyout",
       "prompt_number": 12,
       "text": [
        " ** On entry to SGEMM  parameter number 10 had an illegal value\n"
       ]
      },
      {
       "metadata": {},
       "output_type": "pyout",
       "prompt_number": 12,
       "text": [
        " ** On entry to SGEMM  parameter number 10 had an illegal value\n"
       ]
      },
      {
       "metadata": {},
       "output_type": "pyout",
       "prompt_number": 12,
       "text": [
        " ** On entry to SGEMM  parameter number 10 had an illegal value\n",
        " ** On entry to SGEMM  parameter number 10 had an illegal value\n"
       ]
      },
      {
       "metadata": {},
       "output_type": "pyout",
       "prompt_number": 12,
       "text": [
        " ** On entry to SGEMM  parameter number 10 had an illegal value\n"
       ]
      },
      {
       "metadata": {},
       "output_type": "pyout",
       "prompt_number": 12,
       "text": [
        " ** On entry to SGEMM  parameter number 10 had an illegal value\n"
       ]
      },
      {
       "metadata": {},
       "output_type": "pyout",
       "prompt_number": 12,
       "text": [
        " ** On entry to SGEMM  parameter number 10 had an illegal value\n"
       ]
      },
      {
       "metadata": {},
       "output_type": "pyout",
       "prompt_number": 12,
       "text": [
        " ** On entry to SGEMM  parameter number 10 had an illegal value\n"
       ]
      },
      {
       "metadata": {},
       "output_type": "pyout",
       "prompt_number": 12,
       "text": [
        " ** On entry to SGEMM  parameter number 10 had an illegal value\n"
       ]
      },
      {
       "metadata": {},
       "output_type": "pyout",
       "prompt_number": 12,
       "text": [
        " ** On entry to SGEMM  parameter number 10 had an illegal value\n"
       ]
      },
      {
       "metadata": {},
       "output_type": "pyout",
       "prompt_number": 12,
       "text": [
        "Progress: 107 / 251\t\n"
       ]
      },
      {
       "metadata": {},
       "output_type": "pyout",
       "prompt_number": 12,
       "text": [
        " ** On entry to SGEMM  parameter number 10 had an illegal value\n"
       ]
      },
      {
       "metadata": {},
       "output_type": "pyout",
       "prompt_number": 12,
       "text": [
        " ** On entry to SGEMM  parameter number 10 had an illegal value\n"
       ]
      },
      {
       "metadata": {},
       "output_type": "pyout",
       "prompt_number": 12,
       "text": [
        " ** On entry to SGEMM  parameter number 10 had an illegal value\n"
       ]
      },
      {
       "metadata": {},
       "output_type": "pyout",
       "prompt_number": 12,
       "text": [
        " ** On entry to SGEMM  parameter number 10 had an illegal value\n"
       ]
      },
      {
       "metadata": {},
       "output_type": "pyout",
       "prompt_number": 12,
       "text": [
        " ** On entry to SGEMM  parameter number 10 had an illegal value\n",
        " ** On entry to SGEMM  parameter number 10 had an illegal value\n"
       ]
      },
      {
       "metadata": {},
       "output_type": "pyout",
       "prompt_number": 12,
       "text": [
        " ** On entry to SGEMM  parameter number 10 had an illegal value\n",
        " ** On entry to SGEMM  parameter number 10 had an illegal value\n"
       ]
      },
      {
       "metadata": {},
       "output_type": "pyout",
       "prompt_number": 12,
       "text": [
        " ** On entry to SGEMM  parameter number 10 had an illegal value\n"
       ]
      },
      {
       "metadata": {},
       "output_type": "pyout",
       "prompt_number": 12,
       "text": [
        " ** On entry to SGEMM  parameter number 10 had an illegal value\n"
       ]
      },
      {
       "metadata": {},
       "output_type": "pyout",
       "prompt_number": 12,
       "text": [
        " ** On entry to SGEMM  parameter number 10 had an illegal value\n",
        " ** On entry to SGEMM  parameter number 10 had an illegal value\n"
       ]
      },
      {
       "metadata": {},
       "output_type": "pyout",
       "prompt_number": 12,
       "text": [
        " ** On entry to SGEMM  parameter number 10 had an illegal value\n"
       ]
      },
      {
       "metadata": {},
       "output_type": "pyout",
       "prompt_number": 12,
       "text": [
        " ** On entry to SGEMM  parameter number 10 had an illegal value\n"
       ]
      },
      {
       "metadata": {},
       "output_type": "pyout",
       "prompt_number": 12,
       "text": [
        " ** On entry to SGEMM  parameter number 10 had an illegal value\n"
       ]
      },
      {
       "metadata": {},
       "output_type": "pyout",
       "prompt_number": 12,
       "text": [
        " ** On entry to SGEMM  parameter number 10 had an illegal value\n"
       ]
      },
      {
       "metadata": {},
       "output_type": "pyout",
       "prompt_number": 12,
       "text": [
        " ** On entry to SGEMM  parameter number 10 had an illegal value\n"
       ]
      },
      {
       "metadata": {},
       "output_type": "pyout",
       "prompt_number": 12,
       "text": [
        " ** On entry to SGEMM  parameter number 10 had an illegal value\n"
       ]
      },
      {
       "metadata": {},
       "output_type": "pyout",
       "prompt_number": 12,
       "text": [
        " ** On entry to SGEMM  parameter number 10 had an illegal value\n",
        " ** On entry to SGEMM  parameter number 10 had an illegal value\n"
       ]
      },
      {
       "metadata": {},
       "output_type": "pyout",
       "prompt_number": 12,
       "text": [
        " ** On entry to SGEMM  parameter number 10 had an illegal value\n"
       ]
      },
      {
       "metadata": {},
       "output_type": "pyout",
       "prompt_number": 12,
       "text": [
        " ** On entry to SGEMM  parameter number 10 had an illegal value\n"
       ]
      },
      {
       "metadata": {},
       "output_type": "pyout",
       "prompt_number": 12,
       "text": [
        " ** On entry to SGEMM  parameter number 10 had an illegal value\n",
        " ** On entry to SGEMM  parameter number 10 had an illegal value\n"
       ]
      },
      {
       "metadata": {},
       "output_type": "pyout",
       "prompt_number": 12,
       "text": [
        " ** On entry to SGEMM  parameter number 10 had an illegal value\n"
       ]
      },
      {
       "metadata": {},
       "output_type": "pyout",
       "prompt_number": 12,
       "text": [
        " ** On entry to SGEMM  parameter number 10 had an illegal value\n"
       ]
      },
      {
       "metadata": {},
       "output_type": "pyout",
       "prompt_number": 12,
       "text": [
        " ** On entry to SGEMM  parameter number 10 had an illegal value\n"
       ]
      },
      {
       "metadata": {},
       "output_type": "pyout",
       "prompt_number": 12,
       "text": [
        " ** On entry to SGEMM  parameter number 10 had an illegal value\n",
        " ** On entry to SGEMM  parameter number 10 had an illegal value\n",
        " ** On entry to SGEMM  parameter number 10 had an illegal value\n"
       ]
      },
      {
       "metadata": {},
       "output_type": "pyout",
       "prompt_number": 12,
       "text": [
        " ** On entry to SGEMM  parameter number 10 had an illegal value\n",
        " ** On entry to SGEMM  parameter number 10 had an illegal value\n"
       ]
      },
      {
       "metadata": {},
       "output_type": "pyout",
       "prompt_number": 12,
       "text": [
        " ** On entry to SGEMM  parameter number 10 had an illegal value\n"
       ]
      },
      {
       "metadata": {},
       "output_type": "pyout",
       "prompt_number": 12,
       "text": [
        " ** On entry to SGEMM  parameter number 10 had an illegal value\n"
       ]
      },
      {
       "metadata": {},
       "output_type": "pyout",
       "prompt_number": 12,
       "text": [
        " ** On entry to SGEMM  parameter number 10 had an illegal value\n"
       ]
      },
      {
       "metadata": {},
       "output_type": "pyout",
       "prompt_number": 12,
       "text": [
        " ** On entry to SGEMM  parameter number 10 had an illegal value\n"
       ]
      },
      {
       "metadata": {},
       "output_type": "pyout",
       "prompt_number": 12,
       "text": [
        " ** On entry to SGEMM  parameter number 10 had an illegal value\n"
       ]
      },
      {
       "metadata": {},
       "output_type": "pyout",
       "prompt_number": 12,
       "text": [
        " ** On entry to SGEMM  parameter number 10 had an illegal value\n"
       ]
      },
      {
       "metadata": {},
       "output_type": "pyout",
       "prompt_number": 12,
       "text": [
        " ** On entry to SGEMM  parameter number 10 had an illegal value\n",
        " ** On entry to SGEMM  parameter number 10 had an illegal value\n"
       ]
      },
      {
       "metadata": {},
       "output_type": "pyout",
       "prompt_number": 12,
       "text": [
        " ** On entry to SGEMM  parameter number 10 had an illegal value\n",
        " ** On entry to SGEMM  parameter number 10 had an illegal value\n",
        " ** On entry to SGEMM  parameter number 10 had an illegal value\n"
       ]
      },
      {
       "metadata": {},
       "output_type": "pyout",
       "prompt_number": 12,
       "text": [
        " ** On entry to SGEMM  parameter number 10 had an illegal value\n"
       ]
      },
      {
       "metadata": {},
       "output_type": "pyout",
       "prompt_number": 12,
       "text": [
        " ** On entry to SGEMM  parameter number 10 had an illegal value\n",
        " ** On entry to SGEMM  parameter number 10 had an illegal value\n"
       ]
      },
      {
       "metadata": {},
       "output_type": "pyout",
       "prompt_number": 12,
       "text": [
        " ** On entry to SGEMM  parameter number 10 had an illegal value\n",
        " ** On entry to SGEMM  parameter number 10 had an illegal value\n"
       ]
      },
      {
       "metadata": {},
       "output_type": "pyout",
       "prompt_number": 12,
       "text": [
        " ** On entry to SGEMM  parameter number 10 had an illegal value\n",
        " ** On entry to SGEMM  parameter number 10 had an illegal value\n",
        " ** On entry to SGEMM  parameter number 10 had an illegal value\n"
       ]
      },
      {
       "metadata": {},
       "output_type": "pyout",
       "prompt_number": 12,
       "text": [
        " ** On entry to SGEMM  parameter number 10 had an illegal value\n"
       ]
      },
      {
       "metadata": {},
       "output_type": "pyout",
       "prompt_number": 12,
       "text": [
        " ** On entry to SGEMM  parameter number 10 had an illegal value\n",
        " ** On entry to SGEMM  parameter number 10 had an illegal value\n"
       ]
      },
      {
       "metadata": {},
       "output_type": "pyout",
       "prompt_number": 12,
       "text": [
        " ** On entry to SGEMM  parameter number 10 had an illegal value\n",
        " ** On entry to SGEMM  parameter number 10 had an illegal value\n"
       ]
      },
      {
       "metadata": {},
       "output_type": "pyout",
       "prompt_number": 12,
       "text": [
        " ** On entry to SGEMM  parameter number 10 had an illegal value\n",
        " ** On entry to SGEMM  parameter number 10 had an illegal value\n"
       ]
      },
      {
       "metadata": {},
       "output_type": "pyout",
       "prompt_number": 12,
       "text": [
        " ** On entry to SGEMM  parameter number 10 had an illegal value\n",
        " ** On entry to SGEMM  parameter number 10 had an illegal value\n"
       ]
      },
      {
       "metadata": {},
       "output_type": "pyout",
       "prompt_number": 12,
       "text": [
        " ** On entry to SGEMM  parameter number 10 had an illegal value\n"
       ]
      },
      {
       "metadata": {},
       "output_type": "pyout",
       "prompt_number": 12,
       "text": [
        " ** On entry to SGEMM  parameter number 10 had an illegal value\n"
       ]
      },
      {
       "metadata": {},
       "output_type": "pyout",
       "prompt_number": 12,
       "text": [
        " ** On entry to SGEMM  parameter number 10 had an illegal value\n"
       ]
      },
      {
       "metadata": {},
       "output_type": "pyout",
       "prompt_number": 12,
       "text": [
        " ** On entry to SGEMM  parameter number 10 had an illegal value\n"
       ]
      },
      {
       "metadata": {},
       "output_type": "pyout",
       "prompt_number": 12,
       "text": [
        " ** On entry to SGEMM  parameter number 10 had an illegal value\n"
       ]
      },
      {
       "metadata": {},
       "output_type": "pyout",
       "prompt_number": 12,
       "text": [
        " ** On entry to SGEMM  parameter number 10 had an illegal value\n"
       ]
      },
      {
       "metadata": {},
       "output_type": "pyout",
       "prompt_number": 12,
       "text": [
        " ** On entry to SGEMM  parameter number 10 had an illegal value\n",
        " ** On entry to SGEMM  parameter number 10 had an illegal value\n"
       ]
      },
      {
       "metadata": {},
       "output_type": "pyout",
       "prompt_number": 12,
       "text": [
        " ** On entry to SGEMM  parameter number 10 had an illegal value\n",
        " ** On entry to SGEMM  parameter number 10 had an illegal value\n"
       ]
      },
      {
       "metadata": {},
       "output_type": "pyout",
       "prompt_number": 12,
       "text": [
        " ** On entry to SGEMM  parameter number 10 had an illegal value\n"
       ]
      },
      {
       "metadata": {},
       "output_type": "pyout",
       "prompt_number": 12,
       "text": [
        " ** On entry to SGEMM  parameter number 10 had an illegal value\n",
        " ** On entry to SGEMM  parameter number 10 had an illegal value\n"
       ]
      },
      {
       "metadata": {},
       "output_type": "pyout",
       "prompt_number": 12,
       "text": [
        " ** On entry to SGEMM  parameter number 10 had an illegal value\n"
       ]
      },
      {
       "metadata": {},
       "output_type": "pyout",
       "prompt_number": 12,
       "text": [
        " ** On entry to SGEMM  parameter number 10 had an illegal value\n"
       ]
      },
      {
       "metadata": {},
       "output_type": "pyout",
       "prompt_number": 12,
       "text": [
        " ** On entry to SGEMM  parameter number 10 had an illegal value\n"
       ]
      },
      {
       "metadata": {},
       "output_type": "pyout",
       "prompt_number": 12,
       "text": [
        " ** On entry to SGEMM  parameter number 10 had an illegal value\n"
       ]
      },
      {
       "metadata": {},
       "output_type": "pyout",
       "prompt_number": 12,
       "text": [
        " ** On entry to SGEMM  parameter number 10 had an illegal value\n"
       ]
      },
      {
       "metadata": {},
       "output_type": "pyout",
       "prompt_number": 12,
       "text": [
        " ** On entry to SGEMM  parameter number 10 had an illegal value\n"
       ]
      },
      {
       "metadata": {},
       "output_type": "pyout",
       "prompt_number": 12,
       "text": [
        " ** On entry to SGEMM  parameter number 10 had an illegal value\n"
       ]
      },
      {
       "metadata": {},
       "output_type": "pyout",
       "prompt_number": 12,
       "text": [
        " ** On entry to SGEMM  parameter number 10 had an illegal value\n"
       ]
      },
      {
       "metadata": {},
       "output_type": "pyout",
       "prompt_number": 12,
       "text": [
        " ** On entry to SGEMM  parameter number 10 had an illegal value\n"
       ]
      },
      {
       "metadata": {},
       "output_type": "pyout",
       "prompt_number": 12,
       "text": [
        " ** On entry to SGEMM  parameter number 10 had an illegal value\n",
        " ** On entry to SGEMM  parameter number 10 had an illegal value\n"
       ]
      },
      {
       "metadata": {},
       "output_type": "pyout",
       "prompt_number": 12,
       "text": [
        " ** On entry to SGEMM  parameter number 10 had an illegal value\n"
       ]
      },
      {
       "metadata": {},
       "output_type": "pyout",
       "prompt_number": 12,
       "text": [
        " ** On entry to SGEMM  parameter number 10 had an illegal value\n"
       ]
      },
      {
       "metadata": {},
       "output_type": "pyout",
       "prompt_number": 12,
       "text": [
        " ** On entry to SGEMM  parameter number 10 had an illegal value\n",
        " ** On entry to SGEMM  parameter number 10 had an illegal value\n"
       ]
      },
      {
       "metadata": {},
       "output_type": "pyout",
       "prompt_number": 12,
       "text": [
        " ** On entry to SGEMM  parameter number 10 had an illegal value\n",
        " ** On entry to SGEMM  parameter number 10 had an illegal value\n"
       ]
      },
      {
       "metadata": {},
       "output_type": "pyout",
       "prompt_number": 12,
       "text": [
        " ** On entry to SGEMM  parameter number 10 had an illegal value\n",
        " ** On entry to SGEMM  parameter number 10 had an illegal value\n"
       ]
      },
      {
       "metadata": {},
       "output_type": "pyout",
       "prompt_number": 12,
       "text": [
        " ** On entry to SGEMM  parameter number 10 had an illegal value\n"
       ]
      },
      {
       "metadata": {},
       "output_type": "pyout",
       "prompt_number": 12,
       "text": [
        " ** On entry to SGEMM  parameter number 10 had an illegal value\n"
       ]
      },
      {
       "metadata": {},
       "output_type": "pyout",
       "prompt_number": 12,
       "text": [
        " ** On entry to SGEMM  parameter number 10 had an illegal value\n"
       ]
      },
      {
       "metadata": {},
       "output_type": "pyout",
       "prompt_number": 12,
       "text": [
        " ** On entry to SGEMM  parameter number 10 had an illegal value\n"
       ]
      },
      {
       "metadata": {},
       "output_type": "pyout",
       "prompt_number": 12,
       "text": [
        " ** On entry to SGEMM  parameter number 10 had an illegal value\n",
        " ** On entry to SGEMM  parameter number 10 had an illegal value\n",
        " ** On entry to SGEMM  parameter number 10 had an illegal value\n"
       ]
      },
      {
       "metadata": {},
       "output_type": "pyout",
       "prompt_number": 12,
       "text": [
        " ** On entry to SGEMM  parameter number 10 had an illegal value\n"
       ]
      },
      {
       "metadata": {},
       "output_type": "pyout",
       "prompt_number": 12,
       "text": [
        " ** On entry to SGEMM  parameter number 10 had an illegal value\n",
        " ** On entry to SGEMM  parameter number 10 had an illegal value\n"
       ]
      },
      {
       "metadata": {},
       "output_type": "pyout",
       "prompt_number": 12,
       "text": [
        " ** On entry to SGEMM  parameter number 10 had an illegal value\n"
       ]
      },
      {
       "metadata": {},
       "output_type": "pyout",
       "prompt_number": 12,
       "text": [
        " ** On entry to SGEMM  parameter number 10 had an illegal value\n"
       ]
      },
      {
       "metadata": {},
       "output_type": "pyout",
       "prompt_number": 12,
       "text": [
        " ** On entry to SGEMM  parameter number 10 had an illegal value\n"
       ]
      },
      {
       "metadata": {},
       "output_type": "pyout",
       "prompt_number": 12,
       "text": [
        " ** On entry to SGEMM  parameter number 10 had an illegal value\n"
       ]
      },
      {
       "metadata": {},
       "output_type": "pyout",
       "prompt_number": 12,
       "text": [
        " ** On entry to SGEMM  parameter number 10 had an illegal value\n",
        " ** On entry to SGEMM  parameter number 10 had an illegal value\n"
       ]
      },
      {
       "metadata": {},
       "output_type": "pyout",
       "prompt_number": 12,
       "text": [
        " ** On entry to SGEMM  parameter number 10 had an illegal value\n",
        " ** On entry to SGEMM  parameter number 10 had an illegal value\n"
       ]
      },
      {
       "metadata": {},
       "output_type": "pyout",
       "prompt_number": 12,
       "text": [
        " ** On entry to SGEMM  parameter number 10 had an illegal value\n",
        " ** On entry to SGEMM  parameter number 10 had an illegal value\n"
       ]
      },
      {
       "metadata": {},
       "output_type": "pyout",
       "prompt_number": 12,
       "text": [
        " ** On entry to SGEMM  parameter number 10 had an illegal value\n"
       ]
      },
      {
       "metadata": {},
       "output_type": "pyout",
       "prompt_number": 12,
       "text": [
        " ** On entry to SGEMM  parameter number 10 had an illegal value\n"
       ]
      },
      {
       "metadata": {},
       "output_type": "pyout",
       "prompt_number": 12,
       "text": [
        " ** On entry to SGEMM  parameter number 10 had an illegal value\n",
        " ** On entry to SGEMM  parameter number 10 had an illegal value\n"
       ]
      },
      {
       "metadata": {},
       "output_type": "pyout",
       "prompt_number": 12,
       "text": [
        " ** On entry to SGEMM  parameter number 10 had an illegal value\n",
        " ** On entry to SGEMM  parameter number 10 had an illegal value\n"
       ]
      },
      {
       "metadata": {},
       "output_type": "pyout",
       "prompt_number": 12,
       "text": [
        " ** On entry to SGEMM  parameter number 10 had an illegal value\n",
        " ** On entry to SGEMM  parameter number 10 had an illegal value\n",
        " ** On entry to SGEMM  parameter number 10 had an illegal value\n"
       ]
      },
      {
       "metadata": {},
       "output_type": "pyout",
       "prompt_number": 12,
       "text": [
        " ** On entry to SGEMM  parameter number 10 had an illegal value\n",
        " ** On entry to SGEMM  parameter number 10 had an illegal value\n",
        " ** On entry to SGEMM  parameter number 10 had an illegal value\n"
       ]
      },
      {
       "metadata": {},
       "output_type": "pyout",
       "prompt_number": 12,
       "text": [
        " ** On entry to SGEMM  parameter number 10 had an illegal value\n",
        " ** On entry to SGEMM  parameter number 10 had an illegal value\n"
       ]
      },
      {
       "metadata": {},
       "output_type": "pyout",
       "prompt_number": 12,
       "text": [
        " ** On entry to SGEMM  parameter number 10 had an illegal value\n"
       ]
      },
      {
       "metadata": {},
       "output_type": "pyout",
       "prompt_number": 12,
       "text": [
        " ** On entry to SGEMM  parameter number 10 had an illegal value\n"
       ]
      },
      {
       "metadata": {},
       "output_type": "pyout",
       "prompt_number": 12,
       "text": [
        " ** On entry to SGEMM  parameter number 10 had an illegal value\n"
       ]
      },
      {
       "metadata": {},
       "output_type": "pyout",
       "prompt_number": 12,
       "text": [
        " ** On entry to SGEMM  parameter number 10 had an illegal value\n"
       ]
      },
      {
       "metadata": {},
       "output_type": "pyout",
       "prompt_number": 12,
       "text": [
        " ** On entry to SGEMM  parameter number 10 had an illegal value\n"
       ]
      },
      {
       "metadata": {},
       "output_type": "pyout",
       "prompt_number": 12,
       "text": [
        " ** On entry to SGEMM  parameter number 10 had an illegal value\n"
       ]
      },
      {
       "metadata": {},
       "output_type": "pyout",
       "prompt_number": 12,
       "text": [
        " ** On entry to SGEMM  parameter number 10 had an illegal value\n"
       ]
      },
      {
       "metadata": {},
       "output_type": "pyout",
       "prompt_number": 12,
       "text": [
        " ** On entry to SGEMM  parameter number 10 had an illegal value\n"
       ]
      },
      {
       "metadata": {},
       "output_type": "pyout",
       "prompt_number": 12,
       "text": [
        " ** On entry to SGEMM  parameter number 10 had an illegal value\n"
       ]
      },
      {
       "metadata": {},
       "output_type": "pyout",
       "prompt_number": 12,
       "text": [
        " ** On entry to SGEMM  parameter number 10 had an illegal value\n"
       ]
      },
      {
       "metadata": {},
       "output_type": "pyout",
       "prompt_number": 12,
       "text": [
        " ** On entry to SGEMM  parameter number 10 had an illegal value\n"
       ]
      },
      {
       "metadata": {},
       "output_type": "pyout",
       "prompt_number": 12,
       "text": [
        " ** On entry to SGEMM  parameter number 10 had an illegal value\n"
       ]
      },
      {
       "metadata": {},
       "output_type": "pyout",
       "prompt_number": 12,
       "text": [
        " ** On entry to SGEMM  parameter number 10 had an illegal value\n"
       ]
      },
      {
       "metadata": {},
       "output_type": "pyout",
       "prompt_number": 12,
       "text": [
        " ** On entry to SGEMM  parameter number 10 had an illegal value\n"
       ]
      },
      {
       "metadata": {},
       "output_type": "pyout",
       "prompt_number": 12,
       "text": [
        " ** On entry to SGEMM  parameter number 10 had an illegal value\n"
       ]
      },
      {
       "metadata": {},
       "output_type": "pyout",
       "prompt_number": 12,
       "text": [
        " ** On entry to SGEMM  parameter number 10 had an illegal value\n"
       ]
      },
      {
       "metadata": {},
       "output_type": "pyout",
       "prompt_number": 12,
       "text": [
        " ** On entry to SGEMM  parameter number 10 had an illegal value\n"
       ]
      },
      {
       "metadata": {},
       "output_type": "pyout",
       "prompt_number": 12,
       "text": [
        " ** On entry to SGEMM  parameter number 10 had an illegal value\n"
       ]
      },
      {
       "metadata": {},
       "output_type": "pyout",
       "prompt_number": 12,
       "text": [
        " ** On entry to SGEMM  parameter number 10 had an illegal value\n"
       ]
      },
      {
       "metadata": {},
       "output_type": "pyout",
       "prompt_number": 12,
       "text": [
        " ** On entry to SGEMM  parameter number 10 had an illegal value\n"
       ]
      },
      {
       "metadata": {},
       "output_type": "pyout",
       "prompt_number": 12,
       "text": [
        " ** On entry to SGEMM  parameter number 10 had an illegal value\n",
        " ** On entry to SGEMM  parameter number 10 had an illegal value\n"
       ]
      },
      {
       "metadata": {},
       "output_type": "pyout",
       "prompt_number": 12,
       "text": [
        " ** On entry to SGEMM  parameter number 10 had an illegal value\n",
        " ** On entry to SGEMM  parameter number 10 had an illegal value\n"
       ]
      },
      {
       "metadata": {},
       "output_type": "pyout",
       "prompt_number": 12,
       "text": [
        " ** On entry to SGEMM  parameter number 10 had an illegal value\n",
        " ** On entry to SGEMM  parameter number 10 had an illegal value\n"
       ]
      },
      {
       "metadata": {},
       "output_type": "pyout",
       "prompt_number": 12,
       "text": [
        " ** On entry to SGEMM  parameter number 10 had an illegal value\n",
        " ** On entry to SGEMM  parameter number 10 had an illegal value\n"
       ]
      },
      {
       "metadata": {},
       "output_type": "pyout",
       "prompt_number": 12,
       "text": [
        " ** On entry to SGEMM  parameter number 10 had an illegal value\n",
        " ** On entry to SGEMM  parameter number 10 had an illegal value\n"
       ]
      },
      {
       "metadata": {},
       "output_type": "pyout",
       "prompt_number": 12,
       "text": [
        " ** On entry to SGEMM  parameter number 10 had an illegal value\n"
       ]
      },
      {
       "metadata": {},
       "output_type": "pyout",
       "prompt_number": 12,
       "text": [
        " ** On entry to SGEMM  parameter number 10 had an illegal value\n"
       ]
      },
      {
       "metadata": {},
       "output_type": "pyout",
       "prompt_number": 12,
       "text": [
        " ** On entry to SGEMM  parameter number 10 had an illegal value\n",
        " ** On entry to SGEMM  parameter number 10 had an illegal value\n"
       ]
      },
      {
       "metadata": {},
       "output_type": "pyout",
       "prompt_number": 12,
       "text": [
        " ** On entry to SGEMM  parameter number 10 had an illegal value\n"
       ]
      },
      {
       "metadata": {},
       "output_type": "pyout",
       "prompt_number": 12,
       "text": [
        " ** On entry to SGEMM  parameter number 10 had an illegal value\n"
       ]
      },
      {
       "metadata": {},
       "output_type": "pyout",
       "prompt_number": 12,
       "text": [
        " ** On entry to SGEMM  parameter number 10 had an illegal value\n"
       ]
      },
      {
       "metadata": {},
       "output_type": "pyout",
       "prompt_number": 12,
       "text": [
        " ** On entry to SGEMM  parameter number 10 had an illegal value\n"
       ]
      },
      {
       "metadata": {},
       "output_type": "pyout",
       "prompt_number": 12,
       "text": [
        " ** On entry to SGEMM  parameter number 10 had an illegal value\n"
       ]
      },
      {
       "metadata": {},
       "output_type": "pyout",
       "prompt_number": 12,
       "text": [
        " ** On entry to SGEMM  parameter number 10 had an illegal value\n"
       ]
      },
      {
       "metadata": {},
       "output_type": "pyout",
       "prompt_number": 12,
       "text": [
        " ** On entry to SGEMM  parameter number 10 had an illegal value\n",
        " ** On entry to SGEMM  parameter number 10 had an illegal value\n"
       ]
      },
      {
       "metadata": {},
       "output_type": "pyout",
       "prompt_number": 12,
       "text": [
        " ** On entry to SGEMM  parameter number 10 had an illegal value\n",
        " ** On entry to SGEMM  parameter number 10 had an illegal value\n"
       ]
      },
      {
       "metadata": {},
       "output_type": "pyout",
       "prompt_number": 12,
       "text": [
        " ** On entry to SGEMM  parameter number 10 had an illegal value\n"
       ]
      },
      {
       "metadata": {},
       "output_type": "pyout",
       "prompt_number": 12,
       "text": [
        " ** On entry to SGEMM  parameter number 10 had an illegal value\n"
       ]
      },
      {
       "metadata": {},
       "output_type": "pyout",
       "prompt_number": 12,
       "text": [
        " ** On entry to SGEMM  parameter number 10 had an illegal value\n"
       ]
      },
      {
       "metadata": {},
       "output_type": "pyout",
       "prompt_number": 12,
       "text": [
        " ** On entry to SGEMM  parameter number 10 had an illegal value\n",
        " ** On entry to SGEMM  parameter number 10 had an illegal value\n",
        " ** On entry to SGEMM  parameter number 10 had an illegal value\n"
       ]
      },
      {
       "metadata": {},
       "output_type": "pyout",
       "prompt_number": 12,
       "text": [
        " ** On entry to SGEMM  parameter number 10 had an illegal value\n"
       ]
      },
      {
       "metadata": {},
       "output_type": "pyout",
       "prompt_number": 12,
       "text": [
        " ** On entry to SGEMM  parameter number 10 had an illegal value\n"
       ]
      },
      {
       "metadata": {},
       "output_type": "pyout",
       "prompt_number": 12,
       "text": [
        " ** On entry to SGEMM  parameter number 10 had an illegal value\n"
       ]
      },
      {
       "metadata": {},
       "output_type": "pyout",
       "prompt_number": 12,
       "text": [
        " ** On entry to SGEMM  parameter number 10 had an illegal value\n"
       ]
      },
      {
       "metadata": {},
       "output_type": "pyout",
       "prompt_number": 12,
       "text": [
        " ** On entry to SGEMM  parameter number 10 had an illegal value\n",
        " ** On entry to SGEMM  parameter number 10 had an illegal value\n",
        " ** On entry to SGEMM  parameter number 10 had an illegal value\n"
       ]
      },
      {
       "metadata": {},
       "output_type": "pyout",
       "prompt_number": 12,
       "text": [
        " ** On entry to SGEMM  parameter number 10 had an illegal value\n"
       ]
      },
      {
       "metadata": {},
       "output_type": "pyout",
       "prompt_number": 12,
       "text": [
        " ** On entry to SGEMM  parameter number 10 had an illegal value\n"
       ]
      },
      {
       "metadata": {},
       "output_type": "pyout",
       "prompt_number": 12,
       "text": [
        " ** On entry to SGEMM  parameter number 10 had an illegal value\n"
       ]
      },
      {
       "metadata": {},
       "output_type": "pyout",
       "prompt_number": 12,
       "text": [
        " ** On entry to SGEMM  parameter number 10 had an illegal value\n"
       ]
      },
      {
       "metadata": {},
       "output_type": "pyout",
       "prompt_number": 12,
       "text": [
        " ** On entry to SGEMM  parameter number 10 had an illegal value\n"
       ]
      },
      {
       "metadata": {},
       "output_type": "pyout",
       "prompt_number": 12,
       "text": [
        " ** On entry to SGEMM  parameter number 10 had an illegal value\n",
        " ** On entry to SGEMM  parameter number 10 had an illegal value\n"
       ]
      },
      {
       "metadata": {},
       "output_type": "pyout",
       "prompt_number": 12,
       "text": [
        " ** On entry to SGEMM  parameter number 10 had an illegal value\n",
        " ** On entry to SGEMM  parameter number 10 had an illegal value\n",
        " ** On entry to SGEMM  parameter number 10 had an illegal value\n"
       ]
      },
      {
       "metadata": {},
       "output_type": "pyout",
       "prompt_number": 12,
       "text": [
        " ** On entry to SGEMM  parameter number 10 had an illegal value\n"
       ]
      },
      {
       "metadata": {},
       "output_type": "pyout",
       "prompt_number": 12,
       "text": [
        " ** On entry to SGEMM  parameter number 10 had an illegal value\n",
        " ** On entry to SGEMM  parameter number 10 had an illegal value\n"
       ]
      },
      {
       "metadata": {},
       "output_type": "pyout",
       "prompt_number": 12,
       "text": [
        " ** On entry to SGEMM  parameter number 10 had an illegal value\n",
        " ** On entry to SGEMM  parameter number 10 had an illegal value\n"
       ]
      },
      {
       "metadata": {},
       "output_type": "pyout",
       "prompt_number": 12,
       "text": [
        " ** On entry to SGEMM  parameter number 10 had an illegal value\n",
        " ** On entry to SGEMM  parameter number 10 had an illegal value\n",
        " ** On entry to SGEMM  parameter number 10 had an illegal value\n"
       ]
      },
      {
       "metadata": {},
       "output_type": "pyout",
       "prompt_number": 12,
       "text": [
        " ** On entry to SGEMM  parameter number 10 had an illegal value\n",
        " ** On entry to SGEMM  parameter number 10 had an illegal value\n"
       ]
      },
      {
       "metadata": {},
       "output_type": "pyout",
       "prompt_number": 12,
       "text": [
        " ** On entry to SGEMM  parameter number 10 had an illegal value\n"
       ]
      },
      {
       "metadata": {},
       "output_type": "pyout",
       "prompt_number": 12,
       "text": [
        " ** On entry to SGEMM  parameter number 10 had an illegal value\n",
        " ** On entry to SGEMM  parameter number 10 had an illegal value\n"
       ]
      },
      {
       "metadata": {},
       "output_type": "pyout",
       "prompt_number": 12,
       "text": [
        " ** On entry to SGEMM  parameter number 10 had an illegal value\n",
        " ** On entry to SGEMM  parameter number 10 had an illegal value\n"
       ]
      },
      {
       "metadata": {},
       "output_type": "pyout",
       "prompt_number": 12,
       "text": [
        " ** On entry to SGEMM  parameter number 10 had an illegal value\n",
        " ** On entry to SGEMM  parameter number 10 had an illegal value\n"
       ]
      },
      {
       "metadata": {},
       "output_type": "pyout",
       "prompt_number": 12,
       "text": [
        " ** On entry to SGEMM  parameter number 10 had an illegal value\n",
        " ** On entry to SGEMM  parameter number 10 had an illegal value\n",
        " ** On entry to SGEMM  parameter number 10 had an illegal value\n",
        " ** On entry to SGEMM  parameter number 10 had an illegal value\n"
       ]
      },
      {
       "metadata": {},
       "output_type": "pyout",
       "prompt_number": 12,
       "text": [
        " ** On entry to SGEMM  parameter number 10 had an illegal value\n"
       ]
      },
      {
       "metadata": {},
       "output_type": "pyout",
       "prompt_number": 12,
       "text": [
        " ** On entry to SGEMM  parameter number 10 had an illegal value\n"
       ]
      },
      {
       "metadata": {},
       "output_type": "pyout",
       "prompt_number": 12,
       "text": [
        " ** On entry to SGEMM  parameter number 10 had an illegal value\n"
       ]
      },
      {
       "metadata": {},
       "output_type": "pyout",
       "prompt_number": 12,
       "text": [
        " ** On entry to SGEMM  parameter number 10 had an illegal value\n"
       ]
      },
      {
       "metadata": {},
       "output_type": "pyout",
       "prompt_number": 12,
       "text": [
        " ** On entry to SGEMM  parameter number 10 had an illegal value\n"
       ]
      },
      {
       "metadata": {},
       "output_type": "pyout",
       "prompt_number": 12,
       "text": [
        " ** On entry to SGEMM  parameter number 10 had an illegal value\n"
       ]
      },
      {
       "metadata": {},
       "output_type": "pyout",
       "prompt_number": 12,
       "text": [
        " ** On entry to SGEMM  parameter number 10 had an illegal value\n"
       ]
      },
      {
       "metadata": {},
       "output_type": "pyout",
       "prompt_number": 12,
       "text": [
        " ** On entry to SGEMM  parameter number 10 had an illegal value\n"
       ]
      },
      {
       "metadata": {},
       "output_type": "pyout",
       "prompt_number": 12,
       "text": [
        " ** On entry to SGEMM  parameter number 10 had an illegal value\n",
        " ** On entry to SGEMM  parameter number 10 had an illegal value\n"
       ]
      },
      {
       "metadata": {},
       "output_type": "pyout",
       "prompt_number": 12,
       "text": [
        " ** On entry to SGEMM  parameter number 10 had an illegal value\n",
        " ** On entry to SGEMM  parameter number 10 had an illegal value\n"
       ]
      },
      {
       "metadata": {},
       "output_type": "pyout",
       "prompt_number": 12,
       "text": [
        " ** On entry to SGEMM  parameter number 10 had an illegal value\n",
        " ** On entry to SGEMM  parameter number 10 had an illegal value\n"
       ]
      },
      {
       "metadata": {},
       "output_type": "pyout",
       "prompt_number": 12,
       "text": [
        " ** On entry to SGEMM  parameter number 10 had an illegal value\n",
        " ** On entry to SGEMM  parameter number 10 had an illegal value\n"
       ]
      },
      {
       "metadata": {},
       "output_type": "pyout",
       "prompt_number": 12,
       "text": [
        " ** On entry to SGEMM  parameter number 10 had an illegal value\n"
       ]
      },
      {
       "metadata": {},
       "output_type": "pyout",
       "prompt_number": 12,
       "text": [
        " ** On entry to SGEMM  parameter number 10 had an illegal value\n"
       ]
      },
      {
       "metadata": {},
       "output_type": "pyout",
       "prompt_number": 12,
       "text": [
        " ** On entry to SGEMM  parameter number 10 had an illegal value\n"
       ]
      },
      {
       "metadata": {},
       "output_type": "pyout",
       "prompt_number": 12,
       "text": [
        " ** On entry to SGEMM  parameter number 10 had an illegal value\n"
       ]
      },
      {
       "metadata": {},
       "output_type": "pyout",
       "prompt_number": 12,
       "text": [
        " ** On entry to SGEMM  parameter number 10 had an illegal value\n"
       ]
      },
      {
       "metadata": {},
       "output_type": "pyout",
       "prompt_number": 12,
       "text": [
        " ** On entry to SGEMM  parameter number 10 had an illegal value\n"
       ]
      },
      {
       "metadata": {},
       "output_type": "pyout",
       "prompt_number": 12,
       "text": [
        " ** On entry to SGEMM  parameter number 10 had an illegal value\n"
       ]
      },
      {
       "metadata": {},
       "output_type": "pyout",
       "prompt_number": 12,
       "text": [
        " ** On entry to SGEMM  parameter number 10 had an illegal value\n"
       ]
      },
      {
       "metadata": {},
       "output_type": "pyout",
       "prompt_number": 12,
       "text": [
        " ** On entry to SGEMM  parameter number 10 had an illegal value\n",
        " ** On entry to SGEMM  parameter number 10 had an illegal value\n"
       ]
      },
      {
       "metadata": {},
       "output_type": "pyout",
       "prompt_number": 12,
       "text": [
        " ** On entry to SGEMM  parameter number 10 had an illegal value\n",
        " ** On entry to SGEMM  parameter number 10 had an illegal value\n"
       ]
      },
      {
       "metadata": {},
       "output_type": "pyout",
       "prompt_number": 12,
       "text": [
        " ** On entry to SGEMM  parameter number 10 had an illegal value\n",
        " ** On entry to SGEMM  parameter number 10 had an illegal value\n"
       ]
      },
      {
       "metadata": {},
       "output_type": "pyout",
       "prompt_number": 12,
       "text": [
        " ** On entry to SGEMM  parameter number 10 had an illegal value\n",
        " ** On entry to SGEMM  parameter number 10 had an illegal value\n"
       ]
      },
      {
       "metadata": {},
       "output_type": "pyout",
       "prompt_number": 12,
       "text": [
        " ** On entry to SGEMM  parameter number 10 had an illegal value\n"
       ]
      },
      {
       "metadata": {},
       "output_type": "pyout",
       "prompt_number": 12,
       "text": [
        " ** On entry to SGEMM  parameter number 10 had an illegal value\n"
       ]
      },
      {
       "metadata": {},
       "output_type": "pyout",
       "prompt_number": 12,
       "text": [
        " ** On entry to SGEMM  parameter number 10 had an illegal value\n"
       ]
      },
      {
       "metadata": {},
       "output_type": "pyout",
       "prompt_number": 12,
       "text": [
        " ** On entry to SGEMM  parameter number 10 had an illegal value\n"
       ]
      },
      {
       "metadata": {},
       "output_type": "pyout",
       "prompt_number": 12,
       "text": [
        " ** On entry to SGEMM  parameter number 10 had an illegal value\n",
        " ** On entry to SGEMM  parameter number 10 had an illegal value\n",
        " ** On entry to SGEMM  parameter number 10 had an illegal value\n"
       ]
      },
      {
       "metadata": {},
       "output_type": "pyout",
       "prompt_number": 12,
       "text": [
        " ** On entry to SGEMM  parameter number 10 had an illegal value\n",
        " ** On entry to SGEMM  parameter number 10 had an illegal value\n",
        " ** On entry to SGEMM  parameter number 10 had an illegal value\n"
       ]
      },
      {
       "metadata": {},
       "output_type": "pyout",
       "prompt_number": 12,
       "text": [
        " ** On entry to SGEMM  parameter number 10 had an illegal value\n",
        " ** On entry to SGEMM  parameter number 10 had an illegal value\n"
       ]
      },
      {
       "metadata": {},
       "output_type": "pyout",
       "prompt_number": 12,
       "text": [
        " ** On entry to SGEMM  parameter number 10 had an illegal value\n",
        " ** On entry to SGEMM  parameter number 10 had an illegal value\n"
       ]
      },
      {
       "metadata": {},
       "output_type": "pyout",
       "prompt_number": 12,
       "text": [
        " ** On entry to SGEMM  parameter number 10 had an illegal value\n",
        " ** On entry to SGEMM  parameter number 10 had an illegal value\n"
       ]
      },
      {
       "metadata": {},
       "output_type": "pyout",
       "prompt_number": 12,
       "text": [
        " ** On entry to SGEMM  parameter number 10 had an illegal value\n",
        " ** On entry to SGEMM  parameter number 10 had an illegal value\n"
       ]
      },
      {
       "metadata": {},
       "output_type": "pyout",
       "prompt_number": 12,
       "text": [
        " ** On entry to SGEMM  parameter number 10 had an illegal value\n",
        " ** On entry to SGEMM  parameter number 10 had an illegal value\n"
       ]
      },
      {
       "metadata": {},
       "output_type": "pyout",
       "prompt_number": 12,
       "text": [
        " ** On entry to SGEMM  parameter number 10 had an illegal value\n",
        " ** On entry to SGEMM  parameter number 10 had an illegal value\n"
       ]
      },
      {
       "metadata": {},
       "output_type": "pyout",
       "prompt_number": 12,
       "text": [
        " ** On entry to SGEMM  parameter number 10 had an illegal value\n"
       ]
      },
      {
       "metadata": {},
       "output_type": "pyout",
       "prompt_number": 12,
       "text": [
        " ** On entry to SGEMM  parameter number 10 had an illegal value\n"
       ]
      },
      {
       "metadata": {},
       "output_type": "pyout",
       "prompt_number": 12,
       "text": [
        " ** On entry to SGEMM  parameter number 10 had an illegal value\n"
       ]
      },
      {
       "metadata": {},
       "output_type": "pyout",
       "prompt_number": 12,
       "text": [
        " ** On entry to SGEMM  parameter number 10 had an illegal value\n"
       ]
      },
      {
       "metadata": {},
       "output_type": "pyout",
       "prompt_number": 12,
       "text": [
        " ** On entry to SGEMM  parameter number 10 had an illegal value\n"
       ]
      },
      {
       "metadata": {},
       "output_type": "pyout",
       "prompt_number": 12,
       "text": [
        " ** On entry to SGEMM  parameter number 10 had an illegal value\n"
       ]
      },
      {
       "metadata": {},
       "output_type": "pyout",
       "prompt_number": 12,
       "text": [
        " ** On entry to SGEMM  parameter number 10 had an illegal value\n"
       ]
      },
      {
       "metadata": {},
       "output_type": "pyout",
       "prompt_number": 12,
       "text": [
        " ** On entry to SGEMM  parameter number 10 had an illegal value\n"
       ]
      },
      {
       "metadata": {},
       "output_type": "pyout",
       "prompt_number": 12,
       "text": [
        " ** On entry to SGEMM  parameter number 10 had an illegal value\n",
        " ** On entry to SGEMM  parameter number 10 had an illegal value\n"
       ]
      },
      {
       "metadata": {},
       "output_type": "pyout",
       "prompt_number": 12,
       "text": [
        " ** On entry to SGEMM  parameter number 10 had an illegal value\n",
        " ** On entry to SGEMM  parameter number 10 had an illegal value\n"
       ]
      },
      {
       "metadata": {},
       "output_type": "pyout",
       "prompt_number": 12,
       "text": [
        " ** On entry to SGEMM  parameter number 10 had an illegal value\n",
        " ** On entry to SGEMM  parameter number 10 had an illegal value\n",
        " ** On entry to SGEMM  parameter number 10 had an illegal value\n"
       ]
      },
      {
       "metadata": {},
       "output_type": "pyout",
       "prompt_number": 12,
       "text": [
        " ** On entry to SGEMM  parameter number 10 had an illegal value\n"
       ]
      },
      {
       "metadata": {},
       "output_type": "pyout",
       "prompt_number": 12,
       "text": [
        " ** On entry to SGEMM  parameter number 10 had an illegal value\n",
        " ** On entry to SGEMM  parameter number 10 had an illegal value\n"
       ]
      },
      {
       "metadata": {},
       "output_type": "pyout",
       "prompt_number": 12,
       "text": [
        " ** On entry to SGEMM  parameter number 10 had an illegal value\n"
       ]
      },
      {
       "metadata": {},
       "output_type": "pyout",
       "prompt_number": 12,
       "text": [
        " ** On entry to SGEMM  parameter number 10 had an illegal value\n",
        " ** On entry to SGEMM  parameter number 10 had an illegal value\n"
       ]
      },
      {
       "metadata": {},
       "output_type": "pyout",
       "prompt_number": 12,
       "text": [
        " ** On entry to SGEMM  parameter number 10 had an illegal value\n",
        "ConfusionMatrix:\n",
        "[[       0       2]   0.000% \t[class: 1]\n",
        " [       0     249]]  100.000% \t[class: 2]\n",
        " + average row correct: 50% \n",
        " + average rowUcol correct (VOC measure): 49.601593613625% \n",
        " + global correct: 99.203187250996%\n",
        "{\n",
        "  averageUnionValid : 0.49601593613625\n",
        "  _targ_idx : LongTensor - empty\n",
        "  valids : FloatTensor - size: 2\n",
        "  classes : \n",
        "    {\n",
        "      1 : 1\n",
        "      2 : 2\n",
        "    }\n",
        "  _target : FloatTensor - empty\n",
        "  mat : FloatTensor - size: 2x2\n",
        "  _pred_idx : LongTensor - size: 1\n",
        "  _max : FloatTensor - size: 1\n",
        "  unionvalids : FloatTensor - size: 2\n",
        "  nclasses : 2\n",
        "  totalValid : 0.99203187250996\n"
       ]
      },
      {
       "metadata": {},
       "output_type": "pyout",
       "prompt_number": 12,
       "text": [
        "  _prediction : FloatTensor - size: 2\n",
        "  averageValid : 0.5\n",
        "}\n"
       ]
      },
      {
       "metadata": {},
       "output_type": "pyout",
       "prompt_number": 12,
       "text": [
        "==> saving model to /home/zayik/Desktop/CS491/Recurrent-Neural-Net-Music-Classification/model.net\t\n"
       ]
      },
      {
       "metadata": {},
       "output_type": "pyout",
       "prompt_number": 12,
       "text": [
        "252\t\n",
        "==> testing on test set:\t\n"
       ]
      },
      {
       "metadata": {},
       "output_type": "pyout",
       "prompt_number": 12,
       "text": [
        "\n",
        "==> time to test 1 sample = 1.8071068657769ms\t\n",
        "ConfusionMatrix:\n",
        "[[       0       3]   0.000% \t[class: 1]\n",
        " [       0     249]]  100.000% \t[class: 2]\n",
        " + average row correct: 50% \n",
        " + average rowUcol correct (VOC measure): 49.404761195183% \n",
        " + global correct: 98.809523809524%\n",
        "{\n",
        "  averageUnionValid : 0.49404761195183\n",
        "  _targ_idx : LongTensor - empty\n",
        "  valids : FloatTensor - size: 2\n",
        "  classes : \n",
        "    {\n",
        "      1 : 1\n",
        "      2 : 2\n",
        "    }\n",
        "  _target : FloatTensor - empty\n",
        "  mat : FloatTensor - size: 2x2\n",
        "  _pred_idx : LongTensor - size: 1\n",
        "  _max : FloatTensor - size: 1\n",
        "  unionvalids : FloatTensor - size: 2\n",
        "  nclasses : 2\n",
        "  totalValid : 0.98809523809524\n",
        "  _prediction : FloatTensor - size: 2\n",
        "  averageValid : 0.5\n",
        "}\n"
       ]
      }
     ],
     "prompt_number": 12
    },
    {
     "cell_type": "code",
     "collapsed": false,
     "input": [],
     "language": "python",
     "metadata": {},
     "outputs": [],
     "prompt_number": 29
    },
    {
     "cell_type": "code",
     "collapsed": false,
     "input": [],
     "language": "python",
     "metadata": {},
     "outputs": [],
     "prompt_number": 30
    },
    {
     "cell_type": "code",
     "collapsed": false,
     "input": [],
     "language": "python",
     "metadata": {},
     "outputs": []
    }
   ],
   "metadata": {}
  }
 ]
}