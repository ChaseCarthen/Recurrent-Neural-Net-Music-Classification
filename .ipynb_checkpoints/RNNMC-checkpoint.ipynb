{
 "metadata": {
  "language": "lua",
  "name": "",
  "signature": "sha256:465ccdc6ad65058e1e91a713727079ceaea4af96c620a950f46592c82150cf2f"
 },
 "nbformat": 3,
 "nbformat_minor": 0,
 "worksheets": [
  {
   "cells": [
    {
     "cell_type": "code",
     "collapsed": false,
     "input": [
      "require \"torch\"\n",
      "require \"nn\"\n",
      "require \"optim\"\n",
      "require \"midiToBinaryVector\""
     ],
     "language": "python",
     "metadata": {},
     "outputs": [
      {
       "ename": "[string \"require \"torch\"...\"]:4: loop or previous error loading module 'midiToBinaryVector'\nstack traceback:\n\t[C]: in function 'require'\n\t[string \"require \"torch\"...\"]:4: in main chunk\n\t[C]: in function 'xpcall'\n\t/home/zayik/torch/install/share/lua/5.1/itorch/main.lua:174: in function </home/zayik/torch/install/share/lua/5.1/itorch/main.lua:140>\n\t/home/zayik/torch/install/share/lua/5.1/lzmq/poller.lua:75: in function 'poll'\n\t/home/zayik/torch/install/share/lua/5.1/lzmq/impl/loop.lua:307: in function 'poll'\n\t/home/zayik/torch/install/share/lua/5.1/lzmq/impl/loop.lua:325: in function 'sleep_ex'\n\t/home/zayik/torch/install/share/lua/5.1/lzmq/impl/loop.lua:370: in function 'start'\n\t/home/zayik/torch/install/share/lua/5.1/itorch/main.lua:341: in main chunk\n\t[C]: in function 'require'\n\t(command line):1: in main chunk\n\t[C]: at 0x00406170",
       "evalue": "",
       "output_type": "pyerr",
       "traceback": [
        "[string \"require \"torch\"...\"]:4: loop or previous error loading module 'midiToBinaryVector'\nstack traceback:\n\t[C]: in function 'require'\n\t[string \"require \"torch\"...\"]:4: in main chunk\n\t[C]: in function 'xpcall'\n\t/home/zayik/torch/install/share/lua/5.1/itorch/main.lua:174: in function </home/zayik/torch/install/share/lua/5.1/itorch/main.lua:140>\n\t/home/zayik/torch/install/share/lua/5.1/lzmq/poller.lua:75: in function 'poll'\n\t/home/zayik/torch/install/share/lua/5.1/lzmq/impl/loop.lua:307: in function 'poll'\n\t/home/zayik/torch/install/share/lua/5.1/lzmq/impl/loop.lua:325: in function 'sleep_ex'\n\t/home/zayik/torch/install/share/lua/5.1/lzmq/impl/loop.lua:370: in function 'start'\n\t/home/zayik/torch/install/share/lua/5.1/itorch/main.lua:341: in main chunk\n\t[C]: in function 'require'\n\t(command line):1: in main chunk\n\t[C]: at 0x00406170"
       ]
      }
     ],
     "prompt_number": 4
    },
    {
     "cell_type": "code",
     "collapsed": false,
     "input": [],
     "language": "python",
     "metadata": {},
     "outputs": [
      {
       "metadata": {},
       "output_type": "pyout",
       "prompt_number": 3,
       "text": [
        "\n"
       ]
      }
     ],
     "prompt_number": 3
    },
    {
     "cell_type": "code",
     "collapsed": false,
     "input": [],
     "language": "python",
     "metadata": {},
     "outputs": []
    }
   ],
   "metadata": {}
  }
 ]
}