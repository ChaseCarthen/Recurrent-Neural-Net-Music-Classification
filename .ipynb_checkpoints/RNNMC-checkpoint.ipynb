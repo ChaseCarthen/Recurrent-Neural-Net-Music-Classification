{
 "metadata": {
  "language": "lua",
  "name": "",
  "signature": "sha256:d69823e4090063d61c4b7b49cd47f938fd747d9655f551dc642dfc6afd4b0058"
 },
 "nbformat": 3,
 "nbformat_minor": 0,
 "worksheets": [
  {
   "cells": [
    {
     "cell_type": "code",
     "collapsed": false,
     "input": [
      "require \"torch\"\n",
      "local nn = require \"nn\"\n",
      "require \"optim\"\n",
      "require \"midiToBinaryVector\""
     ],
     "language": "python",
     "metadata": {},
     "outputs": [],
     "prompt_number": 4
    },
    {
     "cell_type": "code",
     "collapsed": false,
     "input": [
      "local torch = require 'torch'\n",
      "local midi = require 'MIDI'\n",
      "mtbv = require \"midiToBinaryVector\"\n",
      "require 'lfs'\n",
      "\n",
      "obj = \n",
      "{\n",
      "    Genre = \"Classical\",\n",
      "    Songs = {}\n",
      "}\n",
      "\n",
      "counter = 0.\n",
      "for filename in lfs.dir(\"./music/classical\") \n",
      "    do --print (\"./music/classical/\"..filename) \n",
      "    if string.find(filename, \".mid\")\n",
      "    then obj.Songs[filename] = midiToBinaryVec(\"./music/classical/\"..filename)\n",
      "    --print(obj.Songs[filename])\n",
      "    end\n",
      "end\n",
      "\n",
      "obj2 = \n",
      "{\n",
      "    Genre = \"Jazz\",\n",
      "    Songs = {}\n",
      "}\n",
      "\n",
      "counter = 0.\n",
      "for filename in lfs.dir(\"./music/jazz\") \n",
      "    do --print (\"./music/classical/\"..filename) \n",
      "    if string.find(filename, \".mid\")\n",
      "    then obj2.Songs[filename] = midiToBinaryVec(\"./music/jazz/\"..filename)\n",
      "    --print(obj.Songs[filename])\n",
      "    end\n",
      "end\n",
      "\n",
      "trainData = {}\n",
      "labels = {}\n",
      "--print(obj.Songs)\n",
      "count = 1\n",
      "for k,v in pairs(obj.Songs)\n",
      "do\n",
      "    labels[count] = 1\n",
      "    trainData[count] = v:t()\n",
      "    count = count + 1\n",
      "    end\n",
      "for k,v in pairs(obj2.Songs)\n",
      "do\n",
      "    --print(k)\n",
      "    labels[count] = 2\n",
      "    trainData[count] = v:t()\n",
      "    count = count + 1\n",
      "    end\n",
      "print(#trainData)\n",
      "--print (table.getn(obj.Songs))\n",
      "--print(labels)"
     ],
     "language": "python",
     "metadata": {},
     "outputs": [
      {
       "metadata": {},
       "output_type": "pyout",
       "prompt_number": 7,
       "text": [
        "503\t\n"
       ]
      }
     ],
     "prompt_number": 7
    },
    {
     "cell_type": "code",
     "collapsed": false,
     "input": [
      "inp=128;  -- dimensionality of one sequence element \n",
      "outp=50; -- number of derived features for one sequence element\n",
      "kw=1;   -- kernel only operates on one sequence element at once\n",
      "dw=1;   -- we step once and go on to the next sequence element\n",
      " \n",
      "--print(nn)\n",
      "mlp=nn.Sequential()\n",
      "mlp:add(nn.TemporalConvolution(inp,outp,kw,dw))\n",
      "mlp:add(nn.Tanh())\n",
      "mlp:add(nn.Linear(128,25))\n",
      "mlp:add(nn.HardTanh())\n",
      "mlp:add(nn.Linear(25,2))\n",
      "--mlp:add(nn.parallel)\n",
      "mlp:add(nn.Mean(1))\n",
      "--mlp:add(nn.Mean(2))\n",
      "mlp2 = nn.TemporalSubSampling (inp,kw,dw)\n",
      "x=torch.rand(8,inp) -- a sequence of 7 elements\n",
      "y=torch.rand(8,1)\n",
      "--print(y)\n",
      "--print(x)\n",
      "--print(mlp2:forward(x))\n",
      "print(mlp:forward(x))\n",
      "model = mlp\n",
      "--print(x)\n",
      "--print (trainData)"
     ],
     "language": "python",
     "metadata": {},
     "outputs": [
      {
       "metadata": {},
       "output_type": "pyout",
       "prompt_number": 6,
       "text": [
        "0.01 *\n",
        " 2.2054\n",
        "-7.4500\n",
        "[torch.FloatTensor of dimension 2]\n",
        "\n"
       ]
      }
     ],
     "prompt_number": 6
    },
    {
     "cell_type": "code",
     "collapsed": false,
     "input": [
      "mlp = nn.Sequential()\n",
      "mlp:add( nn.Linear(10, 25) ) -- 10 input, 25 hidden units\n",
      "mlp:add( nn.Tanh() ) -- some hyperbolic tangent transfer function\n",
      "mlp:add( nn.Linear(25, 1) ) -- 1 output\n",
      "\n",
      "print(mlp:forward(torch.randn(10,10)))\n",
      "print(model)"
     ],
     "language": "python",
     "metadata": {},
     "outputs": [
      {
       "metadata": {},
       "output_type": "pyout",
       "prompt_number": 407,
       "text": [
        "-0.0934\n",
        "-0.0865\n",
        "-0.7642\n",
        "-0.5057\n",
        "-0.1003\n",
        "-0.1063\n",
        "-0.2301\n",
        " 0.0288\n",
        " 0.1682\n",
        "-0.3294\n",
        "[torch.FloatTensor of dimension 10x1]\n",
        "\n",
        "nn.Sequential {\n",
        "  [input -> (1) -> (2) -> (3) -> (4) -> output]\n",
        "  (1): nn.TemporalConvolution\n",
        "  (2): nn.LogSoftMax\n",
        "  (3): nn.Linear(50 -> 2)\n",
        "  (4): nn.Mean\n",
        "}\n",
        "{\n",
        "  output : FloatTensor - size: 2\n",
        "  gradInput : FloatTensor - size: 72044x128\n",
        "  modules : \n",
        "    {\n",
        "      1 : \n",
        "        nn.TemporalConvolution\n",
        "        {\n",
        "          bias : FloatTensor - size: 50\n",
        "          weight : FloatTensor - size: 50x128\n",
        "          gradInput : FloatTensor - size: 72044x128\n",
        "          gradBias : FloatTensor - size: 50\n",
        "          dW : 1\n",
        "          gradWeight : FloatTensor - size: 50x128\n",
        "          output : FloatTensor - size: 72044x50\n",
        "          outputFrameSize : 50\n",
        "          inputFrameSize : 128\n",
        "          train : true\n",
        "          kW : 1\n",
        "        }\n",
        "      2 : \n",
        "        nn.LogSoftMax\n",
        "        {\n",
        "          train : true\n",
        "          gradInput : FloatTensor - size: 72044x50\n",
        "          output : FloatTensor - size: 72044x50\n",
        "        }\n",
        "      3 : \n",
        "        nn.Linear(50 -> 2)\n",
        "        {\n",
        "          bias : FloatTensor - size: 2\n",
        "          weight : FloatTensor - size: 2x50\n",
        "          gradInput : FloatTensor - size: 72044x50\n",
        "          gradBias : FloatTensor - size: 2\n",
        "          train : true\n",
        "          gradWeight : FloatTensor - size: 2x50\n",
        "          output : FloatTensor - size: 72044x2\n",
        "          addBuffer : FloatTensor - size: 72044\n",
        "        }\n",
        "      4 : \n",
        "        nn.Mean\n",
        "        {\n",
        "          train : true\n",
        "          output : FloatTensor - size: 2\n",
        "          gradInput : FloatTensor - size: 72044x2\n",
        "          dimension : 1\n",
        "        }"
       ]
      },
      {
       "metadata": {},
       "output_type": "pyout",
       "prompt_number": 407,
       "text": [
        "\n",
        "    }\n",
        "}\n"
       ]
      }
     ],
     "prompt_number": 407
    },
    {
     "cell_type": "code",
     "collapsed": false,
     "input": [
      "criterion = nn.ClassNLLCriterion()"
     ],
     "language": "python",
     "metadata": {},
     "outputs": [],
     "prompt_number": 408
    },
    {
     "cell_type": "code",
     "collapsed": false,
     "input": [
      "-- classes\n",
      "classes = {'Classical','Jazz'}\n",
      "\n",
      "-- This matrix records the current confusion across classes\n",
      "confusion = optim.ConfusionMatrix(classes)\n",
      "\n",
      "-- Log results to files\n",
      "trainLogger = optim.Logger(paths.concat('.', 'train.log'))\n",
      "testLogger = optim.Logger(paths.concat('.', 'test.log'))\n",
      "\n",
      "-- Retrieve parameters and gradients:\n",
      "-- this extracts and flattens all the trainable parameters of the mode\n",
      "-- into a 1-dim vector\n",
      "if model then\n",
      "   parameters,gradParameters = model:getParameters()\n",
      "end"
     ],
     "language": "python",
     "metadata": {},
     "outputs": [],
     "prompt_number": 409
    },
    {
     "cell_type": "code",
     "collapsed": false,
     "input": [
      "optimState = {\n",
      "    learningRate = 0.1,\n",
      "    weightDecay = 0.1,\n",
      "    momentum = 0.01,\n",
      "    learningRateDecay = 1e-7\n",
      "}\n",
      "optimMethod = optim.sgd\n",
      "print(torch.randperm(11))"
     ],
     "language": "python",
     "metadata": {},
     "outputs": [],
     "prompt_number": 410
    },
    {
     "cell_type": "code",
     "collapsed": false,
     "input": [
      "epoch = 1\n",
      "function train()\n",
      "\n",
      "   -- epoch tracker\n",
      "   epoch = epoch or 1\n",
      "\n",
      "   -- local vars\n",
      "   local time = sys.clock()\n",
      "\n",
      "   -- set model to training mode (for modules that differ in training and testing, like Dropout)\n",
      "   model:training()\n",
      "   --print(#trainData)\n",
      "   -- shuffle at each epoch\n",
      "   shuffle = torch.randperm(#trainData)\n",
      "   print(shuffle:size(1) - #trainData)\n",
      "   -- do one epoch\n",
      "   print('==> doing epoch on training data:')\n",
      "   print(\"==> online epoch # \" .. epoch .. ' [batchSize = ' .. 64 .. ']')\n",
      "    print(#trainData)\n",
      "    \n",
      "   for t = 1,#trainData do\n",
      "        --break\n",
      "      --print (\"HERE\" .. shuffle[t])\n",
      "      -- disp progress\n",
      "      xlua.progress(t, #trainData)\n",
      "      --for ts = 1,trainData[shuffle[t]]:size(2),64 do\n",
      "      -- create mini batch\n",
      "      local inputs = {}\n",
      "      inputs[1] = trainData[shuffle[t]]\n",
      "      --print(inputs[0]:size(2))\n",
      "      local targets = {}\n",
      "        targets[1] = labels[shuffle[t]]\n",
      "      --for i = ts,math.min(ts+63,trainData[shuffle[t]]:size(2)) do\n",
      "      --   -- load new sample\n",
      "         --local input = trainData[shuffle[t]][i]\n",
      "         --local target = labels[shuffle[t]][i]\n",
      "         --input = input:double()\n",
      "         --table.insert(inputs, input)\n",
      "         --print(input)\n",
      "         --table.insert(targets, target)\n",
      "      --end\n",
      "\n",
      "      --print(inputs)\n",
      "     -- print(targets)\n",
      "\n",
      "      -- create closure to evaluate f(X) and df/dX\n",
      "      local feval = function(x)\n",
      "                       -- get new parameters\n",
      "                       if x ~= parameters then\n",
      "                          parameters:copy(x)\n",
      "                       end\n",
      "\n",
      "                       -- reset gradients\n",
      "                       gradParameters:zero()\n",
      "\n",
      "                       -- f is the average of all criterions\n",
      "                       local f = 0\n",
      "\n",
      "                       -- evaluate function for complete mini batch\n",
      "                       for i = 1,#inputs do\n",
      "                          print(\"BEFORE FORWARD\")\n",
      "                        print(i)\n",
      "                          --print(inputs[i])\n",
      "                          -- estimate f\n",
      "                          local output = model:forward(inputs[i])\n",
      "                          print (\"AFTER FORWARD\")\n",
      "                          print (\"NEO\")\n",
      "                          print(output)\n",
      "                          print(targets[i])\n",
      "                          local err = criterion:forward(output, targets[i])\n",
      "                          print(\"BLAH\")\n",
      "                          f = f + err\n",
      "\n",
      "                          -- estimate df/dW\n",
      "                          local df_do = criterion:backward(output, targets[i])\n",
      "                          model:backward(inputs[i], df_do)\n",
      "\n",
      "                          -- update confusion\n",
      "                          confusion:add(output, targets[i])\n",
      "                       end\n",
      "\n",
      "                       -- normalize gradients and f(X)\n",
      "                       gradParameters:div(#inputs)\n",
      "                       f = f/#inputs\n",
      "\n",
      "                       -- return f and df/dX\n",
      "                       return f,gradParameters\n",
      "                    end\n",
      "\n",
      "      -- optimize on current mini-batch\n",
      "      if optimMethod == optim.asgd then\n",
      "            print \"HERE OPTIM2\"\n",
      "         _,_,average = optimMethod(feval, parameters, optimState)\n",
      "      else\n",
      "        print \"HERE OPTIM\"\n",
      "         optimMethod(feval, parameters, optimState)\n",
      "      end\n",
      "  -- end\n",
      "   end\n",
      "\n",
      "   -- time taken\n",
      "   time = sys.clock() - time\n",
      "   time = time / #trainData\n",
      "   print(\"\\n==> time to learn 1 sample = \" .. (time*1000) .. 'ms')\n",
      "\n",
      "   -- print confusion matrix\n",
      "   print(confusion)\n",
      "\n",
      "   -- update logger/plot\n",
      "   trainLogger:add{['% mean class accuracy (train set)'] = confusion.totalValid * 100}\n",
      "   if true then\n",
      "      trainLogger:style{['% mean class accuracy (train set)'] = '-'}\n",
      "      trainLogger:plot()\n",
      "   end\n",
      "\n",
      "   -- save/log current net\n",
      "   local filename = paths.concat('.', 'model.net')\n",
      "   os.execute('mkdir -p ' .. sys.dirname(filename))\n",
      "   print('==> saving model to '..filename)\n",
      "   torch.save(filename, model)\n",
      "\n",
      "   -- next epoch\n",
      "   confusion:zero()\n",
      "   epoch = epoch + 1\n",
      "end\n",
      "train()"
     ],
     "language": "python",
     "metadata": {},
     "outputs": [
      {
       "metadata": {},
       "output_type": "pyout",
       "prompt_number": 411,
       "text": [
        " 10\n",
        "  9\n",
        " 11\n",
        "  2\n",
        "  8\n",
        "  4\n",
        "  3\n",
        "  1\n",
        "  7\n",
        "  5\n",
        "  6\n",
        "[torch.FloatTensor of dimension 11]\n",
        "\n"
       ]
      },
      {
       "metadata": {},
       "output_type": "pyout",
       "prompt_number": 411,
       "text": [
        "0\t\n",
        "==> doing epoch on training data:\t\n",
        "==> online epoch # 1 [batchSize = 64]\t\n",
        "96\t\n",
        " [.............................................................................]                                                   \b\b\b\b\b\b\b\b\b\b\b\b\b\b\b\b\b\b\b\b\b\b\b\b\b\b\b\b\b\b\b\b\b\b\b\b\b\b\b\b\b\b\b\b\b\b\b\b\b\bETA: 0ms | Step: 0ms\b\b\b\b\b\b\b\b\b\b\b\b\b\b\b\b\b\b\b\b\b\b\b\b\b\b\b\b\b\b\b\b\b\b\b\b\b\b\b\b\b\b\b\b\b\b\b\b\b\b\b\b\b\b\b\b\b\b\b\b\b\b\b\b\b\b\b 1/96 \r",
        "HERE OPTIM\t\n",
        "BEFORE FORWARD\t\n",
        "1\t\n"
       ]
      },
      {
       "metadata": {},
       "output_type": "pyout",
       "prompt_number": 411,
       "text": [
        "AFTER FORWARD\t\n",
        "NEO\t\n",
        " 4.4303\n",
        " 5.5700\n",
        "[torch.FloatTensor of dimension 2]\n",
        "\n",
        "2\t\n",
        "BLAH\t\n",
        " ** On entry to SGEMM  parameter number 10 had an illegal value\n"
       ]
      },
      {
       "metadata": {},
       "output_type": "pyout",
       "prompt_number": 411,
       "text": [
        " ** On entry to SGEMM  parameter number 10 had an illegal value\n"
       ]
      },
      {
       "metadata": {},
       "output_type": "pyout",
       "prompt_number": 411,
       "text": [
        "\r",
        " [>............................................................................]                                                   \b\b\b\b\b\b\b\b\b\b\b\b\b\b\b\b\b\b\b\b\b\b\b\b\b\b\b\b\b\b\b\b\b\b\b\b\b\b\b\b\b\b\b\b\b\b\b\b\b\bETA: 2s635ms | Step: 28ms\b\b\b\b\b\b\b\b\b\b\b\b\b\b\b\b\b\b\b\b\b\b\b\b\b\b\b"
       ]
      },
      {
       "metadata": {},
       "output_type": "pyout",
       "prompt_number": 411,
       "text": [
        "\b\b\b\b\b\b\b\b\b\b\b\b\b\b\b\b\b\b\b\b\b\b\b\b\b\b\b\b\b\b\b\b\b\b\b\b\b\b\b\b\b\b\b\b\b 2/96 \r",
        "HERE OPTIM\t\n",
        "BEFORE FORWARD\t\n",
        "1\t\n"
       ]
      },
      {
       "metadata": {},
       "output_type": "pyout",
       "prompt_number": 411,
       "text": [
        "AFTER FORWARD\t\n",
        "NEO\t\n",
        " 4.3860\n",
        " 5.6143\n",
        "[torch.FloatTensor of dimension 2]\n",
        "\n",
        "2\t\n",
        "BLAH\t\n"
       ]
      },
      {
       "metadata": {},
       "output_type": "pyout",
       "prompt_number": 411,
       "text": [
        " ** On entry to SGEMM  parameter number 10 had an illegal value\n"
       ]
      },
      {
       "metadata": {},
       "output_type": "pyout",
       "prompt_number": 411,
       "text": [
        " ** On entry to SGEMM  parameter number 10 had an illegal value\n"
       ]
      },
      {
       "metadata": {},
       "output_type": "pyout",
       "prompt_number": 411,
       "text": [
        "\r",
        " [=>...........................................................................]                                                   \b\b\b\b\b\b\b\b\b\b\b\b\b\b\b\b\b\b\b\b\b\b\b\b\b\b\b\b\b\b\b\b\b\b\b\b\b\b\b\b\b\b\b\b\b\b\b\b\b\bETA: 10s277ms | Step: 110ms\b\b\b\b\b\b\b\b\b\b\b\b\b\b\b\b\b\b\b\b\b\b\b\b\b\b\b\b\b\b\b\b\b\b\b\b\b\b\b\b\b\b\b\b\b\b\b\b\b\b\b\b\b\b\b\b\b\b\b\b\b\b\b\b\b\b\b\b\b\b\b\b\b\b 3/96 \r",
        "HERE OPTIM\t\n",
        "BEFORE FORWARD\t\n",
        "1\t\n"
       ]
      },
      {
       "metadata": {},
       "output_type": "pyout",
       "prompt_number": 411,
       "text": [
        "AFTER FORWARD\t\n",
        "NEO\t\n",
        " 4.3421\n",
        " 5.6582\n",
        "[torch.FloatTensor of dimension 2]\n",
        "\n",
        "1\t\n",
        "BLAH\t\n",
        " ** On entry to SGEMM  parameter number 10 had an illegal value\n"
       ]
      },
      {
       "metadata": {},
       "output_type": "pyout",
       "prompt_number": 411,
       "text": [
        " ** On entry to SGEMM  parameter number 10 had an illegal value\n"
       ]
      },
      {
       "metadata": {},
       "output_type": "pyout",
       "prompt_number": 411,
       "text": [
        "\r",
        " [=="
       ]
      },
      {
       "metadata": {},
       "output_type": "pyout",
       "prompt_number": 411,
       "text": [
        ">..........................................................................]                                                   \b\b\b\b\b\b\b\b\b\b\b\b\b\b\b\b\b\b\b\b\b\b\b\b\b\b\b\b\b\b\b\b\b\b\b\b\b\b\b\b\b\b\b\b\b\b\b\b\b\bETA: 7s236ms | Step: 78ms\b\b\b\b\b\b\b\b\b\b\b\b\b\b\b\b\b\b\b\b\b\b\b\b\b\b\b\b\b\b\b\b\b\b\b\b\b\b\b\b\b\b\b\b\b\b\b\b\b\b\b\b\b\b\b\b\b\b\b\b\b\b\b\b\b\b\b\b\b\b\b\b 4/96 \r",
        "HERE OPTIM\t\n",
        "BEFORE FORWARD\t\n",
        "1\t\n"
       ]
      },
      {
       "metadata": {},
       "output_type": "pyout",
       "prompt_number": 411,
       "text": [
        "AFTER FORWARD\t"
       ]
      },
      {
       "metadata": {},
       "output_type": "pyout",
       "prompt_number": 411,
       "text": [
        "\n",
        "NEO\t\n",
        " 4.3977\n",
        " 5.6026\n",
        "[torch.FloatTensor of dimension 2]\n",
        "\n",
        "2\t\n",
        "BLAH\t\n"
       ]
      },
      {
       "metadata": {},
       "output_type": "pyout",
       "prompt_number": 411,
       "text": [
        " ** On entry to SGEMM  parameter number 10 had an illegal value\n"
       ]
      },
      {
       "metadata": {},
       "output_type": "pyout",
       "prompt_number": 411,
       "text": [
        " ** On entry to SGEMM  parameter number 10 had an illegal value\n"
       ]
      },
      {
       "metadata": {},
       "output_type": "pyout",
       "prompt_number": 411,
       "text": [
        "\r",
        " [===>.........................................................................]                                                   \b\b\b\b\b\b\b\b\b\b\b\b\b\b\b\b\b\b\b\b\b\b\b\b\b\b\b\b\b\b\b\b\b\b\b\b\b\b\b\b\b\b\b\b\b\b\b\b\b\bETA: 9s936ms | Step: 109ms\b\b\b\b\b\b\b\b\b\b\b\b\b\b\b\b\b\b\b\b\b\b\b\b\b\b\b\b\b\b\b\b\b\b\b\b\b\b\b\b\b\b\b\b\b\b\b\b\b\b\b\b\b\b\b\b\b\b\b\b\b\b\b\b\b\b\b\b\b\b\b\b\b 5/96 \r",
        "HERE OPTIM\t\n",
        "BEFORE FORWARD\t\n",
        "1\t\n"
       ]
      },
      {
       "metadata": {},
       "output_type": "pyout",
       "prompt_number": 411,
       "text": [
        "AFTER FORWARD\t\n",
        "NEO\t\n",
        " 4.3547\n",
        " 5.6456\n",
        "[torch.FloatTensor of dimension 2]\n",
        "\n",
        "1\t\n",
        "BLAH\t\n",
        " ** On entry to SGEMM  parameter number 10 had an illegal value\n"
       ]
      },
      {
       "metadata": {},
       "output_type": "pyout",
       "prompt_number": 411,
       "text": [
        " ** On entry to SGEMM  parameter number 10 had an illegal value\n"
       ]
      },
      {
       "metadata": {},
       "output_type": "pyout",
       "prompt_number": 411,
       "text": [
        "\r",
        " [===>.........................................................................]                                                   \b\b\b\b\b\b\b\b\b\b\b\b\b\b\b\b\b\b\b\b\b\b\b\b\b\b\b\b\b\b\b\b\b\b\b\b\b\b\b\b\b\b\b\b\b\b\b\b\b\bETA: 7s978ms | Step: 88ms\b\b\b\b\b\b\b\b\b\b\b\b\b\b\b\b\b\b\b\b\b\b\b\b\b\b\b\b\b\b\b\b\b\b\b\b\b\b\b\b\b\b\b\b\b\b\b\b\b\b\b\b\b\b\b\b\b\b\b\b\b\b\b\b\b\b\b\b\b\b\b\b 6/96 \r",
        "HERE OPTIM\t\n",
        "BEFORE FORWARD\t\n",
        "1\t\n"
       ]
      },
      {
       "metadata": {},
       "output_type": "pyout",
       "prompt_number": 411,
       "text": [
        "AFTER FORWARD\t\n",
        "NEO\t\n",
        " 4.4101\n",
        " 5.5901\n",
        "[torch.FloatTensor of dimension 2]\n",
        "\n",
        "1\t\n",
        "BLAH\t\n",
        " ** On entry to SGEMM  parameter number 10 had an illegal value\n"
       ]
      },
      {
       "metadata": {},
       "output_type": "pyout",
       "prompt_number": 411,
       "text": [
        " ** On entry to SGEMM  parameter number 10 had an illegal value\n"
       ]
      },
      {
       "metadata": {},
       "output_type": "pyout",
       "prompt_number": 411,
       "text": [
        "\r",
        " [====>........................................................................]                                                   \b\b\b\b\b\b\b\b\b\b\b\b\b\b\b\b\b\b\b\b\b\b\b\b\b\b\b\b\b\b\b\b\b\b\b\b\b\b\b\b\b\b\b\b\b\b\b\b\b\bETA: 6s680ms | Step: 75ms\b\b\b\b\b\b\b\b\b\b\b\b\b\b\b\b\b\b\b\b\b\b\b\b\b\b\b\b\b\b\b\b\b\b\b\b\b\b\b\b\b\b\b\b\b\b\b\b\b\b\b\b\b\b\b\b\b\b\b\b\b\b\b\b\b\b\b\b\b\b\b\b 7/96 \r",
        "HERE OPTIM\t\n",
        "BEFORE FORWARD\t\n",
        "1\t\n"
       ]
      },
      {
       "metadata": {},
       "output_type": "pyout",
       "prompt_number": 411,
       "text": [
        "AFTER FORWARD\t\n",
        "NEO\t\n",
        " 4.4660\n",
        " 5.5342\n",
        "[torch.FloatTensor of dimension 2]\n",
        "\n",
        "2\t\n",
        "BLAH\t\n",
        " ** On entry to SGEMM  parameter number 10 had an illegal value\n"
       ]
      },
      {
       "metadata": {},
       "output_type": "pyout",
       "prompt_number": 411,
       "text": [
        " ** On entry to SGEMM  parameter number 10 had an illegal value\n"
       ]
      },
      {
       "metadata": {},
       "output_type": "pyout",
       "prompt_number": 411,
       "text": [
        "\r",
        " [=====>.......................................................................]            "
       ]
      },
      {
       "metadata": {},
       "output_type": "pyout",
       "prompt_number": 411,
       "text": [
        "                                       \b\b\b\b\b\b\b\b\b\b\b\b\b\b\b\b\b\b\b\b\b\b\b\b\b\b\b\b\b\b\b\b\b\b\b\b\b\b\b\b\b\b\b\b\b\b\b\b\b\bETA: 6s | Step: 68ms\b\b\b\b\b\b\b\b\b\b\b\b\b\b\b\b\b\b\b\b\b\b\b\b\b\b\b\b\b\b\b\b\b\b\b\b\b\b\b\b\b\b\b\b\b\b\b\b\b\b\b\b\b\b\b\b\b\b\b\b\b\b\b\b\b\b\b 8/96 \r",
        "HERE OPTIM\t\n",
        "BEFORE FORWARD\t\n",
        "1\t\n"
       ]
      },
      {
       "metadata": {},
       "output_type": "pyout",
       "prompt_number": 411,
       "text": [
        "AFTER FORWARD\t\n",
        "NEO\t\n",
        " 4.4224\n",
        " 5.5779\n",
        "[torch.FloatTensor of dimension 2]\n",
        "\n",
        "2\t\n",
        "BLAH\t\n"
       ]
      },
      {
       "metadata": {},
       "output_type": "pyout",
       "prompt_number": 411,
       "text": [
        " ** On entry to SGEMM  parameter number 10 had an illegal value\n"
       ]
      },
      {
       "metadata": {},
       "output_type": "pyout",
       "prompt_number": 411,
       "text": [
        " ** On entry to SGEMM  parameter number 10 had an illegal value\n"
       ]
      },
      {
       "metadata": {},
       "output_type": "pyout",
       "prompt_number": 411,
       "text": [
        "\r",
        " [======>......................................................................]                                                   \b\b\b\b\b\b\b\b\b\b\b\b\b\b\b\b\b\b\b\b\b\b\b\b\b\b\b\b\b\b\b\b\b\b\b\b\b\b\b\b\b\b\b\b\b\b\b\b\b\bETA: 10s899ms | Step: 125ms\b\b\b\b\b\b\b\b\b\b\b\b\b\b\b\b\b\b\b\b\b\b\b\b\b\b\b\b\b\b\b\b\b\b\b\b\b\b\b\b\b\b\b\b\b\b\b\b\b\b\b\b\b\b\b\b\b\b\b\b\b\b\b\b\b\b\b\b\b\b\b\b\b\b 9/96 \r",
        "HERE OPTIM\t\n",
        "BEFORE FORWARD\t\n",
        "1\t\n"
       ]
      },
      {
       "metadata": {},
       "output_type": "pyout",
       "prompt_number": 411,
       "text": [
        "AFTER FORWARD\t\n",
        "NEO\t\n",
        " 4.3782\n",
        " 5.6221\n",
        "[torch.FloatTensor of dimension 2]\n",
        "\n",
        "1\t\n",
        "BLAH\t\n",
        " ** On entry to SGEMM  parameter number 10 had an illegal value\n"
       ]
      },
      {
       "metadata": {},
       "output_type": "pyout",
       "prompt_number": 411,
       "text": [
        " ** On entry to SGEMM  parameter number 10 had an illegal value\n"
       ]
      },
      {
       "metadata": {},
       "output_type": "pyout",
       "prompt_number": 411,
       "text": [
        "\r",
        " [=======>.....................................................................]                                                   \b\b\b\b\b\b\b\b\b\b\b\b\b\b\b\b\b\b\b\b\b\b\b\b"
       ]
      },
      {
       "metadata": {},
       "output_type": "pyout",
       "prompt_number": 411,
       "text": [
        "\b\b\b\b\b\b\b\b\b\b\b\b\b\b\b\b\b\b\b\b\b\b\b\b\b\bETA: 9s647ms | Step: 112ms\b\b\b\b\b\b\b\b\b\b\b\b\b\b\b\b\b\b\b\b\b\b\b\b\b\b\b\b\b\b\b\b\b\b\b\b\b\b\b\b\b\b\b\b\b\b\b\b\b\b\b\b\b\b\b\b\b\b\b\b\b\b\b\b\b\b\b\b\b\b\b\b\b 10/96 \r",
        "HERE OPTIM\t\n",
        "BEFORE FORWARD\t\n",
        "1\t\n"
       ]
      },
      {
       "metadata": {},
       "output_type": "pyout",
       "prompt_number": 411,
       "text": [
        "AFTER FORWARD\t\n",
        "NEO\t\n",
        " 4.4334\n",
        " 5.5669\n",
        "[torch.FloatTensor of dimension 2]\n",
        "\n",
        "2\t\n",
        "BLAH\t\n"
       ]
      },
      {
       "metadata": {},
       "output_type": "pyout",
       "prompt_number": 411,
       "text": [
        " ** On entry to SGEMM  parameter number 10 had an illegal value\n"
       ]
      },
      {
       "metadata": {},
       "output_type": "pyout",
       "prompt_number": 411,
       "text": [
        " ** On entry to SGEMM  parameter number 10 had an illegal value\n"
       ]
      },
      {
       "metadata": {},
       "output_type": "pyout",
       "prompt_number": 411,
       "text": [
        "\r",
        " [=======>.....................................................................]                                                   \b\b\b\b\b\b\b\b\b\b\b\b\b\b\b\b\b\b\b\b\b\b\b\b\b\b\b\b\b\b\b\b\b\b\b\b\b\b\b\b\b\b\b\b\b\b\b\b\b\bETA: 12s234ms | Step: 143ms\b\b\b\b\b\b\b\b\b\b\b\b\b\b\b\b\b\b\b\b\b\b\b\b\b\b\b\b\b\b\b\b\b\b\b\b\b\b\b\b\b\b\b\b\b\b\b\b\b\b\b\b\b\b\b\b\b\b\b\b\b\b\b\b\b\b\b\b\b\b\b\b\b\b 11/96 \r",
        "HERE OPTIM\t\n",
        "BEFORE FORWARD\t\n",
        "1\t\n"
       ]
      },
      {
       "metadata": {},
       "output_type": "pyout",
       "prompt_number": 411,
       "text": [
        "AFTER FORWARD\t\n",
        "NEO\t\n",
        " 4.3900\n",
        " 5.6103\n",
        "[torch.FloatTensor of dimension 2]\n",
        "\n",
        "1\t\n",
        "BLAH\t\n",
        " ** On entry to SGEMM  parameter number 10 had an illegal value\n"
       ]
      },
      {
       "metadata": {},
       "output_type": "pyout",
       "prompt_number": 411,
       "text": [
        " ** On entry to SGEMM  parameter number 10 had an illegal value\n"
       ]
      },
      {
       "metadata": {},
       "output_type": "pyout",
       "prompt_number": 411,
       "text": [
        "\r",
        " [========>....................................................................]                                                   \b\b\b\b\b\b\b\b\b\b\b\b\b\b\b\b\b\b\b\b\b\b\b\b\b\b\b\b\b\b\b\b\b\b\b\b\b\b\b\b\b\b\b\b\b\b\b\b\b\bETA: 11s61ms | Step: 131ms\b\b\b\b\b\b\b\b\b\b\b\b\b\b\b\b\b\b\b\b\b\b\b\b\b\b\b\b\b\b\b\b\b\b\b\b\b\b\b\b\b\b\b\b\b\b\b\b\b\b\b\b\b\b\b\b\b\b\b\b\b\b\b\b\b\b\b\b\b\b\b\b\b 12/96 \r",
        "HERE OPTIM\t\n",
        "BEFORE FORWARD\t\n",
        "1\t\n"
       ]
      },
      {
       "metadata": {},
       "output_type": "pyout",
       "prompt_number": 411,
       "text": [
        "AFTER FORWARD\t\n",
        "NEO\t\n",
        " 4.4451\n",
        " 5.5551\n",
        "[torch.FloatTensor of dimension 2]\n",
        "\n",
        "1\t\n",
        "BLAH\t\n",
        " ** On entry to SGEMM  parameter number 10 had an illegal value\n"
       ]
      },
      {
       "metadata": {},
       "output_type": "pyout",
       "prompt_number": 411,
       "text": [
        " ** On entry to SGEMM  parameter number 10 had an illegal value\n"
       ]
      },
      {
       "metadata": {},
       "output_type": "pyout",
       "prompt_number": 411,
       "text": [
        "\r",
        " [=========>...................................................................]                                                   \b\b\b\b\b\b\b\b\b\b\b\b\b\b\b\b\b\b\b\b\b\b\b\b\b\b\b\b\b\b\b\b\b\b\b\b\b\b\b\b\b\b\b\b\b\b\b\b\b\bETA: 10s87ms | Step: 121ms\b\b\b\b\b\b\b\b\b\b\b\b\b\b\b\b\b\b\b\b\b\b\b\b\b\b\b\b\b\b\b\b\b\b\b\b\b\b\b\b\b\b\b\b\b\b\b\b\b\b\b\b\b\b\b\b\b\b\b\b\b\b\b\b\b\b\b\b\b\b\b\b\b 13/96 \r",
        "HERE OPTIM\t\n",
        "BEFORE FORWARD\t\n",
        "1\t\n"
       ]
      },
      {
       "metadata": {},
       "output_type": "pyout",
       "prompt_number": 411,
       "text": [
        "AFTER FORWARD\t\n",
        "NEO\t\n",
        " 4.5007\n",
        " 5.4996\n",
        "[torch.FloatTensor of dimension 2]\n",
        "\n",
        "1\t\n",
        "BLAH\t\n",
        " ** On entry to SGEMM  parameter number 10 had an illegal value\n"
       ]
      },
      {
       "metadata": {},
       "output_type": "pyout",
       "prompt_number": 411,
       "text": [
        " ** On entry to SGEMM  parameter number 10 had an illegal value\n"
       ]
      },
      {
       "metadata": {},
       "output_type": "pyout",
       "prompt_number": 411,
       "text": [
        "\r",
        " [==========>..................................................................]                                                   \b\b\b\b\b\b\b\b\b\b\b\b\b\b\b\b\b\b\b\b\b\b\b\b\b\b\b\b\b\b\b\b\b\b\b\b\b\b\b\b\b\b\b\b\b\b\b\b\b\bETA: 9s246ms | Step: 112ms\b\b\b\b\b\b\b\b\b\b\b\b\b\b\b\b\b\b\b\b\b\b\b\b\b\b\b\b\b\b\b\b\b\b\b\b\b\b\b\b\b\b\b\b\b\b\b\b\b\b\b\b\b\b\b\b\b\b\b\b\b\b\b\b\b\b\b\b\b\b\b\b\b 14/96 \r",
        "HERE OPTIM\t\n",
        "BEFORE FORWARD\t\n",
        "1\t\n"
       ]
      },
      {
       "metadata": {},
       "output_type": "pyout",
       "prompt_number": 411,
       "text": [
        "AFTER FORWARD\t\n",
        "NEO\t\n",
        " 4.5557\n",
        " 5.4446\n",
        "[torch.FloatTensor of dimension 2]\n",
        "\n",
        "2\t\n",
        "BLAH\t\n",
        " ** On entry to SGEMM  parameter number 10 had an illegal value\n"
       ]
      },
      {
       "metadata": {},
       "output_type": "pyout",
       "prompt_number": 411,
       "text": [
        " ** On entry to SGEMM  parameter number 10 had an illegal value\n"
       ]
      },
      {
       "metadata": {},
       "output_type": "pyout",
       "prompt_number": 411,
       "text": [
        "\r",
        " [===========>.................................................................]                                                   \b\b\b\b\b\b\b\b\b\b\b\b\b\b\b\b\b\b\b\b\b\b\b\b\b\b\b\b\b\b\b\b\b\b\b\b\b\b\b\b\b\b\b\b\b\b\b\b\b\bETA: 8s709ms | Step: 107ms\b\b\b\b\b\b\b\b\b\b\b\b\b\b\b\b\b\b\b\b\b\b\b\b\b\b\b\b\b\b\b\b\b\b\b\b\b\b\b\b\b\b\b\b\b\b\b\b\b\b\b\b\b\b\b\b\b\b\b\b\b\b\b\b\b\b\b\b\b\b\b\b\b 15/96 \r",
        "HERE OPTIM\t\n",
        "BEFORE FORWARD\t\n",
        "1\t\n"
       ]
      },
      {
       "metadata": {},
       "output_type": "pyout",
       "prompt_number": 411,
       "text": [
        "AFTER FORWARD\t\n",
        "NEO\t\n",
        " 4.5111\n",
        " 5.4891\n",
        "[torch.FloatTensor of dimension 2]\n",
        "\n",
        "1\t\n",
        "BLAH\t\n",
        " ** On entry to SGEMM  parameter number 10 had an illegal value\n"
       ]
      },
      {
       "metadata": {},
       "output_type": "pyout",
       "prompt_number": 411,
       "text": [
        " ** On entry to SGEMM  parameter number 10 had an illegal value\n"
       ]
      },
      {
       "metadata": {},
       "output_type": "pyout",
       "prompt_number": 411,
       "text": [
        "\r",
        " [===========>.................................................................]                                                   \b\b\b\b\b\b\b\b\b\b\b\b\b\b\b\b\b\b\b\b\b\b\b\b\b\b\b\b\b\b\b\b\b\b\b\b\b\b\b\b\b\b\b\b\b\b\b\b\b\bETA: 8s68ms | Step: 100ms\b\b\b\b\b\b\b\b\b\b\b\b\b\b\b\b\b\b\b\b\b\b\b\b\b\b\b\b\b\b\b\b\b\b\b\b\b\b\b\b\b\b\b\b\b\b\b\b\b\b\b\b\b\b\b\b\b\b\b\b\b\b\b\b\b\b\b\b\b\b\b\b 16/96 \r",
        "HERE OPTIM\t\n",
        "BEFORE FORWARD\t\n",
        "1\t\n"
       ]
      },
      {
       "metadata": {},
       "output_type": "pyout",
       "prompt_number": 411,
       "text": [
        "AFTER FORWARD\t\n",
        "NEO\t\n",
        " 4.5650\n",
        " 5.4353\n",
        "[torch.FloatTensor of dimension 2]\n",
        "\n",
        "2\t\n",
        "BLAH\t\n"
       ]
      },
      {
       "metadata": {},
       "output_type": "pyout",
       "prompt_number": 411,
       "text": [
        " ** On entry to SGEMM  parameter number 10 had an illegal value\n"
       ]
      },
      {
       "metadata": {},
       "output_type": "pyout",
       "prompt_number": 411,
       "text": [
        " ** On entry to SGEMM  parameter number 10 had an illegal value\n"
       ]
      },
      {
       "metadata": {},
       "output_type": "pyout",
       "prompt_number": 411,
       "text": [
        "\r",
        " [============>................................................................]                                                   \b\b\b\b\b\b\b\b\b\b\b\b\b\b\b\b\b\b\b\b\b\b\b\b\b\b\b\b\b\b\b\b\b\b\b\b\b\b\b\b\b\b\b\b\b\b\b\b\b\bETA: 8s723ms | Step: 110ms\b\b\b\b\b\b\b\b\b\b\b\b\b\b\b\b\b\b\b\b\b\b\b\b\b\b\b\b\b\b\b\b\b\b\b\b\b\b\b\b\b\b\b\b\b\b\b\b\b\b\b\b\b\b\b\b\b\b\b\b\b\b\b\b\b\b\b\b\b\b\b\b\b 17/96 \r",
        "HERE OPTIM\t\n",
        "BEFORE FORWARD\t\n",
        "1\t\n"
       ]
      },
      {
       "metadata": {},
       "output_type": "pyout",
       "prompt_number": 411,
       "text": [
        "AFTER FORWARD\t\n",
        "NEO\t\n",
        " 4.5204\n",
        " 5.4799\n",
        "[torch.FloatTensor of dimension 2]\n",
        "\n",
        "1\t\n",
        "BLAH\t\n",
        " ** On entry to SGEMM  parameter number 10 had an illegal value\n"
       ]
      },
      {
       "metadata": {},
       "output_type": "pyout",
       "prompt_number": 411,
       "text": [
        " ** On entry to SGEMM  parameter number 10 had an illegal value\n"
       ]
      },
      {
       "metadata": {},
       "output_type": "pyout",
       "prompt_number": 411,
       "text": [
        "\r",
        " [=============>......................................."
       ]
      },
      {
       "metadata": {},
       "output_type": "pyout",
       "prompt_number": 411,
       "text": [
        "........................]                                                   \b\b\b\b\b\b\b\b\b\b\b\b\b\b\b\b\b\b\b\b\b\b\b\b\b\b\b\b\b\b\b\b\b\b\b\b\b\b\b\b\b\b\b\b\b\b\b\b\b\bETA: 8s153ms | Step: 104ms\b\b\b\b\b\b\b\b\b\b\b\b\b\b\b\b\b\b\b\b\b\b\b\b\b\b\b\b\b\b\b\b\b\b\b\b\b\b\b\b\b\b\b\b\b\b\b\b\b\b\b\b\b\b\b\b\b\b\b\b\b\b\b\b\b\b\b\b\b\b\b\b\b 18/96 \r",
        "HERE OPTIM\t\n",
        "BEFORE FORWARD\t\n",
        "1\t\n"
       ]
      },
      {
       "metadata": {},
       "output_type": "pyout",
       "prompt_number": 411,
       "text": [
        "AFTER FORWARD\t\n",
        "NEO\t\n",
        " 4.5742\n",
        " 5.4261\n",
        "[torch.FloatTensor of dimension 2]\n",
        "\n",
        "2\t\n",
        "BLAH\t\n"
       ]
      },
      {
       "metadata": {},
       "output_type": "pyout",
       "prompt_number": 411,
       "text": [
        " ** On entry to SGEMM  parameter number 10 had an illegal value\n"
       ]
      },
      {
       "metadata": {},
       "output_type": "pyout",
       "prompt_number": 411,
       "text": [
        " ** On entry to SGEMM  parameter number 10 had an illegal value\n"
       ]
      },
      {
       "metadata": {},
       "output_type": "pyout",
       "prompt_number": 411,
       "text": [
        "\r",
        " [==============>..............................................................]                                                   \b\b\b\b\b\b\b\b\b\b\b\b\b\b\b\b\b\b\b\b\b\b\b\b\b\b\b\b\b\b\b\b\b\b\b\b\b\b\b\b\b\b\b\b\b\b\b\b\b\b"
       ]
      },
      {
       "metadata": {},
       "output_type": "pyout",
       "prompt_number": 411,
       "text": [
        "ETA: 8s62ms | Step: 104ms\b\b\b\b\b\b\b\b\b\b\b\b\b\b\b\b\b\b\b\b\b\b\b\b\b\b\b\b\b\b\b\b\b\b\b\b\b\b\b\b\b\b\b\b\b\b\b\b\b\b\b\b\b\b\b\b\b\b\b\b\b\b\b\b\b\b\b\b\b\b\b\b 19/96 \r",
        "HERE OPTIM\t\n",
        "BEFORE FORWARD\t\n",
        "1\t\n"
       ]
      },
      {
       "metadata": {},
       "output_type": "pyout",
       "prompt_number": 411,
       "text": [
        "AFTER FORWARD\t\n",
        "NEO\t\n"
       ]
      },
      {
       "metadata": {},
       "output_type": "pyout",
       "prompt_number": 411,
       "text": [
        " 4.5294\n",
        " 5.4709\n",
        "[torch.FloatTensor of dimension 2]\n",
        "\n",
        "2\t\n",
        "BLAH\t\n",
        " ** On entry to SGEMM  parameter number 10 had an illegal value\n"
       ]
      },
      {
       "metadata": {},
       "output_type": "pyout",
       "prompt_number": 411,
       "text": [
        " ** On entry to SGEMM  parameter number 10 had an illegal value\n"
       ]
      },
      {
       "metadata": {},
       "output_type": "pyout",
       "prompt_number": 411,
       "text": [
        "\r",
        " [===============>.................."
       ]
      },
      {
       "metadata": {},
       "output_type": "pyout",
       "prompt_number": 411,
       "text": [
        "...........................................]                                                   \b\b\b\b\b\b\b\b\b\b\b\b\b\b\b\b\b\b\b\b\b\b\b\b\b\b\b\b\b\b\b\b\b\b\b\b\b\b\b\b\b\b\b\b\b\b\b\b\b\bETA: 7s735ms | Step: 101ms\b\b\b\b\b\b\b\b\b\b\b\b\b\b\b\b\b\b\b\b\b\b\b\b\b\b\b\b\b\b\b\b\b\b\b\b\b\b\b\b\b\b\b\b\b\b\b\b\b\b\b\b\b\b\b\b\b\b\b\b\b\b\b\b\b\b\b\b\b\b\b\b\b 20/96 \r",
        "HERE OPTIM\t\n",
        "BEFORE FORWARD\t\n",
        "1\t\n"
       ]
      },
      {
       "metadata": {},
       "output_type": "pyout",
       "prompt_number": 411,
       "text": [
        "AFTER FORWARD\t\n",
        "NEO\t\n",
        " 4.4841\n",
        " 5.5162\n",
        "[torch.FloatTensor of dimension 2]\n",
        "\n",
        "1\t\n",
        "BLAH\t\n",
        " ** On entry to SGEMM  parameter number 10 had an illegal value\n"
       ]
      },
      {
       "metadata": {},
       "output_type": "pyout",
       "prompt_number": 411,
       "text": [
        " ** On entry to SGEMM  parameter number 10 had an illegal value\n"
       ]
      },
      {
       "metadata": {},
       "output_type": "pyout",
       "prompt_number": 411,
       "text": [
        "\r",
        " [===============>.............................................................]                                                   \b\b\b\b\b\b\b\b\b\b\b\b\b\b\b\b\b\b\b\b\b\b\b\b\b\b\b\b\b\b\b\b\b\b\b\b\b\b\b\b\b\b\b\b\b\b\b\b\b\bETA: 7s305ms | Step: 97ms\b\b\b\b\b\b\b\b\b\b\b\b\b\b\b\b\b\b\b\b\b\b\b\b\b\b\b\b\b\b\b\b\b\b\b\b\b\b\b\b\b\b\b\b\b\b\b\b\b\b\b\b\b\b\b\b\b\b\b\b\b\b\b\b\b\b\b\b\b\b\b\b 21/96 \r",
        "HERE OPTIM\t\n",
        "BEFORE FORWARD\t\n",
        "1\t\n"
       ]
      },
      {
       "metadata": {},
       "output_type": "pyout",
       "prompt_number": 411,
       "text": [
        "AFTER FORWARD\t\n",
        "NEO\t\n",
        " 4.5383\n",
        " 5.4620\n",
        "[torch.FloatTensor of dimension 2]\n",
        "\n",
        "1\t\n",
        "BLAH\t\n",
        " ** On entry to SGEMM  parameter number 10 had an illegal value\n"
       ]
      },
      {
       "metadata": {},
       "output_type": "pyout",
       "prompt_number": 411,
       "text": [
        " ** On entry to SGEMM  parameter number 10 had an illegal value\n"
       ]
      },
      {
       "metadata": {},
       "output_type": "pyout",
       "prompt_number": 411,
       "text": [
        "\r",
        " [================>............................................................]                                                   \b\b\b\b\b\b\b\b\b\b\b\b\b\b\b\b\b\b\b\b\b\b\b\b\b\b\b\b\b\b\b\b\b\b\b\b\b\b\b\b\b\b\b\b\b\b\b\b\b\bETA: 6s904ms | Step: 93ms\b\b\b\b\b\b\b\b\b\b\b\b\b\b\b\b\b\b\b\b\b\b\b\b\b\b\b\b\b\b\b\b\b\b\b\b\b\b\b\b\b\b\b\b\b\b\b\b\b"
       ]
      },
      {
       "metadata": {},
       "output_type": "pyout",
       "prompt_number": 411,
       "text": [
        "\b\b\b\b\b\b\b\b\b\b\b\b\b\b\b\b\b\b\b\b\b\b\b 22/96 \r",
        "HERE OPTIM\t\n",
        "BEFORE FORWARD\t\n",
        "1\t\n"
       ]
      },
      {
       "metadata": {},
       "output_type": "pyout",
       "prompt_number": 411,
       "text": [
        "AFTER FORWARD\t\n",
        "NEO\t\n",
        " 4.5929\n",
        " 5.4074\n",
        "[torch.FloatTensor of dimension 2]\n",
        "\n",
        "2\t\n",
        "BLAH\t\n"
       ]
      },
      {
       "metadata": {},
       "output_type": "pyout",
       "prompt_number": 411,
       "text": [
        " ** On entry to SGEMM  parameter number 10 had an illegal value\n"
       ]
      },
      {
       "metadata": {},
       "output_type": "pyout",
       "prompt_number": 411,
       "text": [
        " ** On entry to SGEMM  parameter number 10 had an illegal value\n"
       ]
      },
      {
       "metadata": {},
       "output_type": "pyout",
       "prompt_number": 411,
       "text": [
        "\r",
        " [=================>...........................................................]                                                   \b\b\b\b\b\b\b\b\b\b\b\b\b\b\b\b\b\b\b\b\b\b\b\b\b\b\b\b\b\b\b\b\b\b\b\b\b\b\b\b\b\b\b\b\b\b\b\b\b\bETA: 6s923ms | Step: 94ms\b\b\b\b\b\b\b\b\b\b\b\b\b\b\b\b\b\b\b\b\b\b\b\b\b\b\b\b\b\b\b\b\b\b\b\b\b\b\b\b\b\b\b\b\b\b\b\b\b\b\b\b\b\b\b\b\b\b\b\b\b\b\b\b\b\b\b\b\b\b\b\b 23/96 \r",
        "HERE OPTIM\t\n",
        "BEFORE FORWARD\t\n",
        "1\t\n"
       ]
      },
      {
       "metadata": {},
       "output_type": "pyout",
       "prompt_number": 411,
       "text": [
        "AFTER FORWARD\t\n",
        "NEO\t\n",
        " 4.5480\n",
        " 5.4523\n",
        "[torch.FloatTensor of dimension 2]\n",
        "\n",
        "2\t\n",
        "BLAH\t\n",
        " ** On entry to SGEMM  parameter number 10 had an illegal value\n"
       ]
      },
      {
       "metadata": {},
       "output_type": "pyout",
       "prompt_number": 411,
       "text": [
        " ** On entry to SGEMM  parameter number 10 had an illegal value\n"
       ]
      },
      {
       "metadata": {},
       "output_type": "pyout",
       "prompt_number": 411,
       "text": [
        "\r",
        " [==================>.................................."
       ]
      },
      {
       "metadata": {},
       "output_type": "pyout",
       "prompt_number": 411,
       "text": [
        "........................]                                                   \b\b\b\b\b\b\b\b\b\b\b\b\b\b\b\b\b\b\b\b\b\b\b\b\b\b\b\b\b\b\b\b\b\b\b\b\b\b\b\b\b\b\b\b\b\b\b\b\b\bETA: 6s758ms | Step: 93ms\b\b\b\b\b\b\b\b\b\b\b\b\b\b\b\b\b\b\b\b\b\b\b\b\b\b\b\b\b\b\b\b\b\b\b\b\b\b\b\b\b\b\b\b\b\b\b\b\b\b\b\b\b\b\b\b\b\b\b\b\b\b\b\b\b\b\b\b\b\b\b\b 24/96 \r",
        "HERE OPTIM\t\n",
        "BEFORE FORWARD\t\n",
        "1\t\n"
       ]
      },
      {
       "metadata": {},
       "output_type": "pyout",
       "prompt_number": 411,
       "text": [
        "AFTER FORWARD\t\n",
        "NEO\t\n",
        " 4.5025\n",
        " 5.4977\n",
        "[torch.FloatTensor of dimension 2]\n",
        "\n",
        "1\t\n",
        "BLAH\t\n",
        " ** On entry to SGEMM  parameter number 10 had an illegal value\n"
       ]
      },
      {
       "metadata": {},
       "output_type": "pyout",
       "prompt_number": 411,
       "text": [
        " ** On entry to SGEMM  parameter number 10 had an illegal value\n"
       ]
      },
      {
       "metadata": {},
       "output_type": "pyout",
       "prompt_number": 411,
       "text": [
        "\r",
        " [===================>.........................................................]                                                   \b\b\b\b\b\b\b\b\b\b\b\b\b\b\b\b\b\b\b\b\b\b\b\b\b\b\b\b\b\b\b\b\b\b\b\b\b\b\b\b\b\b\b\b\b\b\b\b"
       ]
      },
      {
       "metadata": {},
       "output_type": "pyout",
       "prompt_number": 411,
       "text": [
        "\b\bETA: 6s449ms | Step: 90ms\b\b\b\b\b\b\b\b\b\b\b\b\b\b\b\b\b\b\b\b\b\b\b\b\b\b\b\b\b\b\b\b\b\b\b\b\b\b\b\b\b\b\b\b\b\b\b\b\b\b\b\b\b\b\b\b\b\b\b\b\b\b\b\b\b\b\b\b\b\b\b\b 25/96 \r",
        "HERE OPTIM\t\n",
        "BEFORE FORWARD\t\n",
        "1\t\n"
       ]
      },
      {
       "metadata": {},
       "output_type": "pyout",
       "prompt_number": 411,
       "text": [
        "AFTER FORWARD\t\n",
        "NEO\t\n",
        " 4.5565\n",
        " 5.4438\n",
        "[torch.FloatTensor of dimension 2]\n",
        "\n",
        "2\t\n",
        "BLAH\t\n"
       ]
      },
      {
       "metadata": {},
       "output_type": "pyout",
       "prompt_number": 411,
       "text": [
        " ** On entry to SGEMM  parameter number 10 had an illegal value\n"
       ]
      },
      {
       "metadata": {},
       "output_type": "pyout",
       "prompt_number": 411,
       "text": [
        " ** On entry to SGEMM  parameter number 10 had an illegal value\n"
       ]
      },
      {
       "metadata": {},
       "output_type": "pyout",
       "prompt_number": 411,
       "text": [
        "\r",
        " [===================>.........................................................]                                                   \b\b\b\b\b\b\b\b\b\b\b\b\b\b\b\b\b\b\b\b\b\b\b\b\b\b\b\b\b\b\b\b\b\b\b\b\b\b\b\b\b\b\b\b\b\b\b\b\b\bETA: 6s233ms | Step: 89ms\b\b\b\b\b\b\b\b\b\b\b\b\b\b\b\b\b\b\b\b\b\b\b\b\b\b\b\b\b\b\b\b\b\b\b\b\b\b\b\b\b\b\b\b\b\b\b\b\b\b\b\b\b\b\b\b\b\b\b\b\b\b\b\b\b\b\b\b\b\b\b\b 26/96 \r",
        "HERE OPTIM\t\n",
        "BEFORE FORWARD\t\n",
        "1\t\n"
       ]
      },
      {
       "metadata": {},
       "output_type": "pyout",
       "prompt_number": 411,
       "text": [
        "AFTER FORWARD\t\n",
        "NEO\t\n",
        " 4.5119\n",
        " 5.4883\n",
        "[torch.FloatTensor of dimension 2]\n",
        "\n",
        "1\t\n",
        "BLAH\t\n",
        " ** On entry to SGEMM  parameter number 10 had an illegal value\n"
       ]
      },
      {
       "metadata": {},
       "output_type": "pyout",
       "prompt_number": 411,
       "text": [
        " ** On entry to SGEMM  parameter number 10 had an illegal value\n"
       ]
      },
      {
       "metadata": {},
       "output_type": "pyout",
       "prompt_number": 411,
       "text": [
        "\r",
        " [====================>........................................................]                                                   \b\b\b\b\b\b\b\b\b\b\b\b\b\b\b\b\b\b\b\b\b\b\b\b\b\b\b\b\b\b\b\b\b\b\b\b\b\b\b\b\b\b\b\b\b\b\b\b\b\bETA: 5s943ms | Step: 86ms\b\b\b\b\b\b\b\b\b\b\b\b\b\b\b\b\b\b\b\b\b\b\b\b\b\b\b\b\b\b\b\b\b\b\b\b\b\b\b\b\b\b\b\b\b\b\b\b\b\b\b\b\b\b\b\b\b\b\b\b\b\b\b\b\b\b\b\b\b\b\b\b 27/96"
       ]
      },
      {
       "metadata": {},
       "output_type": "pyout",
       "prompt_number": 411,
       "text": [
        " \r",
        "HERE OPTIM\t\n",
        "BEFORE FORWARD\t\n",
        "1\t\n"
       ]
      },
      {
       "metadata": {},
       "output_type": "pyout",
       "prompt_number": 411,
       "text": [
        "AFTER FORWARD\t\n",
        "NEO\t\n"
       ]
      },
      {
       "metadata": {},
       "output_type": "pyout",
       "prompt_number": 411,
       "text": [
        " 4.5658\n",
        " 5.4344\n",
        "[torch.FloatTensor of dimension 2]\n",
        "\n",
        "1\t\n",
        "BLAH\t\n",
        " ** On entry to SGEMM  parameter number 10 had an illegal value\n"
       ]
      },
      {
       "metadata": {},
       "output_type": "pyout",
       "prompt_number": 411,
       "text": [
        " ** On entry to SGEMM  parameter number 10 had an illegal value\n"
       ]
      },
      {
       "metadata": {},
       "output_type": "pyout",
       "prompt_number": 411,
       "text": [
        "\r",
        " [=====================>.......................................................]                                                   \b\b\b\b\b\b\b\b\b\b\b\b\b\b\b\b\b\b\b\b\b\b\b\b\b\b\b\b\b\b\b\b\b\b\b\b\b\b\b\b\b\b\b\b\b\b\b\b\b\bETA: 5s662ms | Step: 83ms\b\b\b\b\b\b\b\b\b\b\b\b\b\b\b\b\b\b\b\b\b\b\b\b\b\b\b\b\b\b\b\b\b\b\b\b\b\b\b\b\b\b\b\b\b\b\b\b\b\b\b\b\b\b\b\b\b\b\b\b\b\b\b\b\b\b\b\b\b\b\b\b 28/96 \r",
        "HERE OPTIM\t\n",
        "BEFORE FORWARD\t\n",
        "1\t\n"
       ]
      },
      {
       "metadata": {},
       "output_type": "pyout",
       "prompt_number": 411,
       "text": [
        "AFTER FORWARD\t\n",
        "NEO\t\n",
        " 4.6201\n",
        " 5.3801\n",
        "[torch.FloatTensor of dimension 2]\n",
        "\n",
        "2\t\n",
        "BLAH\t\n"
       ]
      },
      {
       "metadata": {},
       "output_type": "pyout",
       "prompt_number": 411,
       "text": [
        " ** On entry to SGEMM  parameter number 10 had an illegal value\n"
       ]
      },
      {
       "metadata": {},
       "output_type": "pyout",
       "prompt_number": 411,
       "text": [
        " ** On entry to SGEMM  parameter number 10 had an illegal value\n"
       ]
      },
      {
       "metadata": {},
       "output_type": "pyout",
       "prompt_number": 411,
       "text": [
        "\r",
        " [======================>......................................................]                                                   \b\b\b\b\b\b\b\b\b\b\b\b\b\b\b\b\b\b\b\b\b\b\b\b\b\b\b\b\b\b\b\b\b\b\b\b\b\b\b\b\b\b\b\b\b\b\b\b\b\bETA: 6s388ms | Step: 95ms\b\b\b\b\b\b\b\b\b\b\b\b\b\b\b\b\b\b\b\b\b\b\b\b\b\b\b\b\b\b\b\b\b\b\b\b\b\b\b\b\b\b\b\b\b\b\b\b\b\b\b\b\b\b\b\b\b\b\b\b\b\b\b\b\b\b\b\b\b\b\b\b 29/96 \r",
        "HERE OPTIM\t\n",
        "BEFORE FORWARD\t\n",
        "1\t\n"
       ]
      },
      {
       "metadata": {},
       "output_type": "pyout",
       "prompt_number": 411,
       "text": [
        "AFTER FORWARD\t\n",
        "NEO\t\n",
        " 4.5749\n",
        " 5.4253\n",
        "[torch.FloatTensor of dimension 2]\n",
        "\n",
        "1\t\n",
        "BLAH\t\n",
        " ** On entry to SGEMM  parameter number 10 had an illegal value\n"
       ]
      },
      {
       "metadata": {},
       "output_type": "pyout",
       "prompt_number": 411,
       "text": [
        " ** On entry to SGEMM  parameter number 10 had an illegal value\n"
       ]
      },
      {
       "metadata": {},
       "output_type": "pyout",
       "prompt_number": 411,
       "text": [
        "\r",
        " [=======================>.....................................................]                                                   \b\b\b\b\b\b\b\b\b\b\b\b\b\b\b\b\b\b\b\b\b\b\b\b\b\b\b\b\b\b\b\b\b\b\b\b\b\b\b\b\b\b\b\b\b\b\b\b\b\bETA: 6s102ms | Step: 92ms\b\b\b\b\b\b\b\b\b\b\b\b\b\b\b\b\b\b\b\b\b\b\b\b\b\b\b\b\b"
       ]
      },
      {
       "metadata": {},
       "output_type": "pyout",
       "prompt_number": 411,
       "text": [
        "\b\b\b\b\b\b\b\b\b\b\b\b\b\b\b\b\b\b\b\b\b\b\b\b\b\b\b\b\b\b\b\b\b\b\b\b\b\b\b\b\b\b\b 30/96 \r",
        "HERE OPTIM\t\n",
        "BEFORE FORWARD\t\n",
        "1\t\n"
       ]
      },
      {
       "metadata": {},
       "output_type": "pyout",
       "prompt_number": 411,
       "text": [
        "AFTER FORWARD\t\n",
        "NEO\t\n",
        " 4.6282\n",
        " 5.3721\n",
        "[torch.FloatTensor of dimension 2]\n",
        "\n",
        "2\t\n",
        "BLAH\t\n"
       ]
      },
      {
       "metadata": {},
       "output_type": "pyout",
       "prompt_number": 411,
       "text": [
        " ** On entry to SGEMM  parameter number 10 had an illegal value\n"
       ]
      },
      {
       "metadata": {},
       "output_type": "pyout",
       "prompt_number": 411,
       "text": [
        " ** On entry to SGEMM  parameter number 10 had an illegal value\n"
       ]
      },
      {
       "metadata": {},
       "output_type": "pyout",
       "prompt_number": 411,
       "text": [
        "\r",
        " [=======================>.....................................................]                                                   \b\b\b\b\b\b\b\b\b\b\b\b\b\b\b\b\b\b\b\b\b\b\b\b\b\b\b\b\b\b\b\b\b\b\b\b\b\b\b\b\b\b\b\b\b\b\b\b\b\bETA: 7s234ms | Step: 111ms\b\b\b\b\b\b\b\b\b\b\b\b\b\b\b\b\b\b\b\b\b\b\b\b\b\b\b\b\b\b\b\b\b\b\b\b\b\b\b\b\b\b\b\b\b\b\b\b\b\b\b\b\b\b\b\b\b\b\b\b\b\b\b\b\b\b\b\b\b\b\b\b\b 31/96 \r",
        "HERE OPTIM\t\n",
        "BEFORE FORWARD\t\n",
        "1\t\n"
       ]
      },
      {
       "metadata": {},
       "output_type": "pyout",
       "prompt_number": 411,
       "text": [
        "AFTER FORWARD\t\n",
        "NEO\t\n",
        " 4.5829\n",
        " 5.4174\n",
        "[torch.FloatTensor of dimension 2]\n",
        "\n",
        "1\t\n",
        "BLAH\t\n",
        " ** On entry to SGEMM  parameter number 10 had an illegal value\n"
       ]
      },
      {
       "metadata": {},
       "output_type": "pyout",
       "prompt_number": 411,
       "text": [
        " ** On entry to SGEMM  parameter number 10 had an illegal value\n"
       ]
      },
      {
       "metadata": {},
       "output_type": "pyout",
       "prompt_number": 411,
       "text": [
        "\r",
        " [========================>....................................................]                                                 "
       ]
      },
      {
       "metadata": {},
       "output_type": "pyout",
       "prompt_number": 411,
       "text": [
        "  \b\b\b\b\b\b\b\b\b\b\b\b\b\b\b\b\b\b\b\b\b\b\b\b\b\b\b\b\b\b\b\b\b\b\b\b\b\b\b\b\b\b\b\b\b\b\b\b\b\bETA: 6s918ms | Step: 108ms\b\b\b\b\b\b\b\b\b\b\b\b\b\b\b\b\b\b\b\b\b\b\b\b\b\b\b\b\b\b\b\b\b\b\b\b\b\b\b\b\b\b\b\b\b\b\b\b\b\b\b\b\b\b\b\b\b\b\b\b\b\b\b\b\b\b\b\b\b\b\b\b\b 32/96 \r",
        "HERE OPTIM\t\n",
        "BEFORE FORWARD\t\n",
        "1\t\n"
       ]
      },
      {
       "metadata": {},
       "output_type": "pyout",
       "prompt_number": 411,
       "text": [
        "AFTER FORWARD\t\n",
        "NEO\t\n",
        " 4.6361\n",
        " 5.3642\n",
        "[torch.FloatTensor of dimension 2]\n",
        "\n",
        "2\t\n",
        "BLAH\t\n"
       ]
      },
      {
       "metadata": {},
       "output_type": "pyout",
       "prompt_number": 411,
       "text": [
        " ** On entry to SGEMM  parameter number 10 had an illegal value\n"
       ]
      },
      {
       "metadata": {},
       "output_type": "pyout",
       "prompt_number": 411,
       "text": [
        " ** On entry to SGEMM  parameter number 10 had an illegal value\n"
       ]
      },
      {
       "metadata": {},
       "output_type": "pyout",
       "prompt_number": 411,
       "text": [
        "\r",
        " [=========================>...................................................]                                                   \b\b\b\b\b\b\b\b\b\b\b\b\b\b\b\b\b\b\b\b\b\b\b\b\b\b\b\b\b\b\b\b\b\b\b\b\b\b\b\b\b\b\b\b\b\b\b\b\b\bETA: 6s824ms | Step: 108ms\b\b\b\b\b\b\b\b\b\b\b\b\b\b\b\b\b\b\b\b\b\b\b\b\b\b\b\b\b\b\b\b\b\b\b\b\b\b\b\b\b\b\b\b\b\b\b\b\b\b\b\b\b\b\b\b\b\b\b\b\b\b\b\b\b\b\b\b\b\b\b\b\b 33/96 \r",
        "HERE OPTIM\t\n",
        "BEFORE FORWARD\t\n",
        "1\t\n"
       ]
      },
      {
       "metadata": {},
       "output_type": "pyout",
       "prompt_number": 411,
       "text": [
        "AFTER FORWARD\t\n",
        "NEO\t\n",
        " 4.5907\n",
        " 5.4095\n",
        "[torch.FloatTensor of dimension 2]\n",
        "\n",
        "2\t\n",
        "BLAH\t\n"
       ]
      },
      {
       "metadata": {},
       "output_type": "pyout",
       "prompt_number": 411,
       "text": [
        " ** On entry to SGEMM  parameter number 10 had an illegal value\n"
       ]
      },
      {
       "metadata": {},
       "output_type": "pyout",
       "prompt_number": 411,
       "text": [
        " ** On entry to SGEMM  parameter number 10 had an illegal value\n"
       ]
      },
      {
       "metadata": {},
       "output_type": "pyout",
       "prompt_number": 411,
       "text": [
        "\r",
        " [==========================>..................................................]                                                   \b\b\b\b\b\b\b\b\b\b\b\b\b\b\b\b\b\b\b\b\b\b\b\b\b\b\b\b\b\b\b\b\b\b\b\b\b\b\b\b\b\b\b\b\b\b\b\b\b\bETA: 6s664ms | Step: 107ms\b\b\b\b\b\b\b\b\b\b\b\b\b\b\b\b\b\b\b\b\b\b\b\b\b\b\b\b\b\b\b\b\b\b\b\b\b\b\b\b\b\b\b\b\b\b\b\b\b\b\b\b\b\b\b\b\b\b\b\b\b\b\b\b\b\b\b\b\b\b\b\b\b 34/96 \r",
        "HERE OPTIM\t\n",
        "BEFORE FORWARD\t\n",
        "1\t\n"
       ]
      },
      {
       "metadata": {},
       "output_type": "pyout",
       "prompt_number": 411,
       "text": [
        "AFTER FORWARD\t\n",
        "NEO\t\n",
        " 4.5448\n",
        " 5.4554\n",
        "[torch.FloatTensor of dimension 2]\n",
        "\n",
        "1\t\n",
        "BLAH\t\n",
        " ** On entry to SGEMM  parameter number 10 had an illegal value\n"
       ]
      },
      {
       "metadata": {},
       "output_type": "pyout",
       "prompt_number": 411,
       "text": [
        " ** On entry to SGEMM  parameter number 10 had an illegal value\n"
       ]
      },
      {
       "metadata": {},
       "output_type": "pyout",
       "prompt_number": 411,
       "text": [
        "\r",
        " [===========================>.................................................]                                                   \b\b\b\b\b\b\b\b\b\b\b\b\b\b\b\b\b\b\b\b\b\b\b\b\b\b\b\b\b\b\b\b\b\b\b\b\b\b\b\b\b\b\b\b\b\b\b\b\b\bETA: 6s383ms | Step: 104ms\b\b\b\b\b\b\b\b\b\b\b\b\b\b\b\b\b\b\b\b\b\b\b\b\b\b\b\b\b\b\b\b\b\b\b\b\b\b\b\b\b\b\b\b\b\b\b\b\b\b\b\b\b\b\b\b\b\b\b\b\b\b\b\b\b\b\b\b\b\b\b\b\b 35/96 \r",
        "HERE OPTIM\t\n",
        "BEFORE FORWARD\t\n",
        "1\t\n"
       ]
      },
      {
       "metadata": {},
       "output_type": "pyout",
       "prompt_number": 411,
       "text": [
        "AFTER FORWARD\t\n",
        "NEO\t\n",
        " 4.5984\n",
        " 5.4019\n",
        "[torch.FloatTensor of dimension 2]\n",
        "\n",
        "1\t\n",
        "BLAH\t\n",
        " ** On entry to SGEMM  parameter number 10 had an illegal value\n"
       ]
      },
      {
       "metadata": {},
       "output_type": "pyout",
       "prompt_number": 411,
       "text": [
        " ** On entry to SGEMM  parameter number 10 had an illegal value\n"
       ]
      },
      {
       "metadata": {},
       "output_type": "pyout",
       "prompt_number": 411,
       "text": [
        "\r",
        " [===========================>.................................................]                                                   \b\b\b\b\b\b\b\b\b\b\b\b\b\b\b\b\b\b\b\b\b\b\b\b\b\b\b\b\b\b\b\b\b\b\b\b\b\b\b\b\b\b\b\b\b\b\b\b\b\bETA: 6s117ms | Step: 101ms\b\b\b\b\b\b\b\b\b\b\b\b\b\b\b\b\b\b\b\b\b\b\b\b\b\b\b\b\b\b\b\b\b\b\b\b\b\b\b\b\b\b\b\b\b\b\b\b\b\b\b\b\b\b\b\b\b\b\b\b\b\b\b\b\b\b\b\b\b\b\b\b\b 36/96 \r",
        "HERE OPTIM\t\n",
        "BEFORE FORWARD\t\n",
        "1\t\n"
       ]
      },
      {
       "metadata": {},
       "output_type": "pyout",
       "prompt_number": 411,
       "text": [
        "AFTER FORWARD\t\n",
        "NEO\t\n",
        " 4.6524\n",
        " 5.3479\n",
        "[torch.FloatTensor of dimension 2]\n",
        "\n",
        "1\t\n",
        "BLAH\t\n",
        " ** On entry to SGEMM  parameter number 10 had an illegal value\n"
       ]
      },
      {
       "metadata": {},
       "output_type": "pyout",
       "prompt_number": 411,
       "text": [
        " ** On entry to SGEMM  parameter number 10 had an illegal value\n",
        "\r",
        " [============================>................................................]                                                   \b\b\b\b\b\b\b\b\b\b\b\b\b\b\b\b\b\b\b\b\b\b\b\b\b\b\b\b\b\b\b\b\b\b\b\b\b\b\b\b\b\b\b\b\b\b\b\b\b\bETA: 5s859ms | Step: 99ms\b\b\b\b\b\b\b\b\b\b\b\b\b\b\b\b\b\b\b\b\b\b\b\b\b\b\b\b\b\b\b\b\b\b\b\b\b\b\b\b\b\b\b\b\b\b\b\b\b\b\b\b\b\b\b\b\b\b\b\b\b\b\b\b\b\b\b\b\b\b\b\b 37/96 \r",
        "HERE OPTIM\t\n",
        "BEFORE FORWARD\t\n",
        "1\t\n"
       ]
      },
      {
       "metadata": {},
       "output_type": "pyout",
       "prompt_number": 411,
       "text": [
        "AFTER FORWARD\t\n",
        "NEO\t\n",
        " 4.7059\n",
        " 5.2944\n",
        "[torch.FloatTensor of dimension 2]\n",
        "\n",
        "2\t\n",
        "BLAH\t\n",
        " ** On entry to SGEMM  parameter number 10 had an illegal value\n"
       ]
      },
      {
       "metadata": {},
       "output_type": "pyout",
       "prompt_number": 411,
       "text": [
        " ** On entry to SGEMM  parameter number 10 had an illegal value\n"
       ]
      },
      {
       "metadata": {},
       "output_type": "pyout",
       "prompt_number": 411,
       "text": [
        "\r",
        " [=============================>...............................................]                                                   \b\b\b\b\b\b\b\b\b\b\b\b\b\b\b\b\b\b\b\b\b\b\b\b\b\b\b\b\b\b\b\b\b\b\b\b\b\b\b\b\b\b\b\b\b\b\b\b\b\bETA: 5s621ms | Step: 96ms\b\b\b\b\b\b\b\b\b\b\b\b\b\b\b\b\b\b\b\b\b\b\b\b\b\b\b\b\b\b\b\b\b\b\b\b\b\b\b\b\b\b\b\b\b\b\b\b\b\b\b\b\b\b\b\b\b\b\b\b\b\b\b\b\b\b\b\b\b\b\b\b 38/96 \r",
        "HERE OPTIM\t\n",
        "BEFORE FORWARD\t\n",
        "1\t\n"
       ]
      },
      {
       "metadata": {},
       "output_type": "pyout",
       "prompt_number": 411,
       "text": [
        "AFTER FORWARD\t\n",
        "NEO\t\n",
        " 4.6598\n",
        " 5.3404\n",
        "[torch.FloatTensor of dimension 2]\n",
        "\n",
        "2\t\n",
        "BLAH\t\n"
       ]
      },
      {
       "metadata": {},
       "output_type": "pyout",
       "prompt_number": 411,
       "text": [
        " ** On entry to SGEMM  parameter number 10 had an illegal value\n"
       ]
      },
      {
       "metadata": {},
       "output_type": "pyout",
       "prompt_number": 411,
       "text": [
        " ** On entry to SGEMM  parameter number 10 had an illegal value\n"
       ]
      },
      {
       "metadata": {},
       "output_type": "pyout",
       "prompt_number": 411,
       "text": [
        "\r",
        " [==============================>..............................................]                                                   \b\b\b\b\b\b\b\b\b\b\b\b\b\b\b\b\b\b\b\b\b\b\b\b\b\b\b\b\b\b\b\b\b\b\b\b\b\b\b\b\b\b\b\b\b\b\b\b\b\bETA: 5s463ms | Step: 95ms\b\b\b\b\b\b\b\b\b\b\b\b\b\b\b\b\b\b\b\b\b\b\b\b\b\b\b\b\b\b\b\b\b\b\b\b\b\b\b\b\b\b\b\b\b\b\b\b\b\b\b\b\b\b\b\b\b\b\b\b\b\b\b\b\b\b\b\b\b\b\b\b 39/96 \r",
        "HERE OPTIM\t\n",
        "BEFORE FORWARD\t\n",
        "1\t\n"
       ]
      },
      {
       "metadata": {},
       "output_type": "pyout",
       "prompt_number": 411,
       "text": [
        "AFTER FORWARD\t\n",
        "NEO\t\n",
        " 4.6132\n",
        " 5.3870\n",
        "[torch.FloatTensor of dimension 2]\n",
        "\n",
        "1\t\n",
        "BLAH\t\n",
        " ** On entry to SGEMM  parameter number 10 had an illegal value\n"
       ]
      },
      {
       "metadata": {},
       "output_type": "pyout",
       "prompt_number": 411,
       "text": [
        " ** On entry to SGEMM  parameter number 10 had an illegal value\n"
       ]
      },
      {
       "metadata": {},
       "output_type": "pyout",
       "prompt_number": 411,
       "text": [
        "\r",
        " [===============================>.............................................]                                                   \b\b\b\b\b\b\b\b\b\b\b\b\b\b\b\b\b\b\b\b\b\b\b\b\b\b\b\b\b\b\b\b\b\b\b\b\b\b\b\b\b\b\b\b\b\b\b\b\b\bETA: 5s265ms | Step: 94ms\b\b\b\b\b\b\b\b\b\b\b\b\b\b\b\b\b\b\b\b\b\b\b\b\b\b\b\b\b\b\b\b\b\b\b\b\b\b\b\b\b\b\b\b\b\b\b\b\b\b\b\b\b\b\b\b\b\b\b\b\b\b\b\b\b\b\b\b\b\b\b\b 40/96 \r",
        "HERE OPTIM\t\n",
        "BEFORE FORWARD\t\n",
        "1\t\n"
       ]
      },
      {
       "metadata": {},
       "output_type": "pyout",
       "prompt_number": 411,
       "text": [
        "AFTER FORWARD\t\n",
        "NEO\t\n",
        " 4.6661\n",
        " 5.3342\n",
        "[torch.FloatTensor of dimension 2]\n",
        "\n",
        "1\t\n",
        "BLAH\t\n",
        " ** On entry to SGEMM  parameter number 10 had an illegal value\n"
       ]
      },
      {
       "metadata": {},
       "output_type": "pyout",
       "prompt_number": 411,
       "text": [
        " ** On entry to SGEMM  parameter number 10 had an illegal value\n"
       ]
      },
      {
       "metadata": {},
       "output_type": "pyout",
       "prompt_number": 411,
       "text": [
        "\r",
        " [===============================>.............................................]                                                   \b\b\b\b\b\b\b\b\b\b\b\b\b\b\b\b\b\b\b\b\b\b\b\b\b\b\b\b\b\b\b\b\b\b\b\b\b\b\b\b\b\b\b\b\b\b\b\b\b\bETA: 5s58ms | Step: 91ms\b\b\b\b\b\b\b\b\b\b\b\b\b\b\b\b\b\b\b\b\b\b\b\b\b\b\b\b\b\b\b\b\b\b\b\b\b\b\b\b\b\b\b\b\b\b\b\b\b\b\b\b\b\b\b\b\b\b\b\b\b\b\b\b\b\b\b\b\b\b\b 41/96 \r",
        "HERE OPTIM\t\n",
        "BEFORE FORWARD\t\n",
        "1\t\n"
       ]
      },
      {
       "metadata": {},
       "output_type": "pyout",
       "prompt_number": 411,
       "text": [
        "AFTER FORWARD\t\n",
        "NEO\t\n",
        " 4.7194\n",
        " 5.2808\n",
        "[torch.FloatTensor of dimension 2]\n",
        "\n",
        "2\t\n",
        "BLAH\t\n",
        " ** On entry to SGEMM  parameter number 10 had an illegal value\n"
       ]
      },
      {
       "metadata": {},
       "output_type": "pyout",
       "prompt_number": 411,
       "text": [
        " ** On entry to SGEMM  parameter number 10 had an illegal value\n"
       ]
      },
      {
       "metadata": {},
       "output_type": "pyout",
       "prompt_number": 411,
       "text": [
        "\r",
        " [================================>............................................]                                                   \b\b\b\b\b\b\b\b\b\b\b\b\b\b\b\b\b\b\b\b\b\b\b\b\b\b\b\b\b\b\b\b\b\b\b\b\b\b\b\b\b\b\b\b\b\b\b\b\b\bETA: 4s883ms | Step: 90ms\b\b\b\b\b\b\b\b\b\b\b\b\b\b\b\b\b\b\b\b\b\b\b\b\b\b\b\b\b\b\b\b\b\b\b\b\b\b\b\b\b\b\b\b\b\b\b\b\b\b\b\b\b\b\b\b\b\b\b\b\b\b\b\b\b\b\b\b\b\b\b\b 42/96 \r",
        "HERE OPTIM\t\n",
        "BEFORE FORWARD\t\n",
        "1\t\n"
       ]
      },
      {
       "metadata": {},
       "output_type": "pyout",
       "prompt_number": 411,
       "text": [
        "AFTER FORWARD\t\n",
        "NEO\t\n",
        " 4.6732\n",
        " 5.3270\n",
        "[torch.FloatTensor of dimension 2]\n",
        "\n",
        "2\t\n",
        "BLAH\t\n"
       ]
      },
      {
       "metadata": {},
       "output_type": "pyout",
       "prompt_number": 411,
       "text": [
        " ** On entry to SGEMM  parameter number 10 had an illegal value\n"
       ]
      },
      {
       "metadata": {},
       "output_type": "pyout",
       "prompt_number": 411,
       "text": [
        " ** On entry to SGEMM  parameter number 10 had an illegal value\n"
       ]
      },
      {
       "metadata": {},
       "output_type": "pyout",
       "prompt_number": 411,
       "text": [
        "\r",
        " [=================================>...........................................]                                                   \b\b\b\b\b\b\b\b\b\b\b\b\b\b\b\b\b\b\b\b\b\b\b\b\b\b\b\b\b\b\b\b\b\b\b\b\b\b\b\b\b\b\b\b\b\b\b\b\b\bETA: 5s61ms | Step: 95ms\b\b\b\b\b\b\b\b\b\b\b\b\b\b\b\b\b\b\b\b\b\b\b\b\b\b\b\b\b\b\b\b\b\b\b\b\b\b\b\b\b\b\b\b\b\b\b\b\b\b\b\b\b\b\b\b\b\b\b\b\b\b\b\b\b\b\b\b\b\b\b 43/96 \r",
        "HERE OPTIM\t\n",
        "BEFORE FORWARD\t\n",
        "1\t\n"
       ]
      },
      {
       "metadata": {},
       "output_type": "pyout",
       "prompt_number": 411,
       "text": [
        "AFTER FORWARD\t\n",
        "NEO\t\n",
        " 4.6265\n",
        " 5.3738\n",
        "[torch.FloatTensor of dimension 2]\n",
        "\n",
        "2\t\n",
        "BLAH\t\n"
       ]
      },
      {
       "metadata": {},
       "output_type": "pyout",
       "prompt_number": 411,
       "text": [
        " ** On entry to SGEMM  parameter number 10 had an illegal value\n"
       ]
      },
      {
       "metadata": {},
       "output_type": "pyout",
       "prompt_number": 411,
       "text": [
        " ** On entry to SGEMM  parameter number 10 had an illegal value\n"
       ]
      },
      {
       "metadata": {},
       "output_type": "pyout",
       "prompt_number": 411,
       "text": [
        "\r",
        " [==================================>..........................................]                                                   \b\b\b\b\b\b\b\b\b\b\b\b\b\b\b\b\b\b\b\b\b\b\b\b\b\b\b\b\b\b\b\b\b\b\b\b\b\b\b\b\b\b\b\b\b\b\b\b\b\bETA: 4s999ms | Step: 96ms\b\b\b\b\b\b\b\b\b\b\b\b\b\b\b\b\b\b\b\b\b\b\b\b\b\b\b\b\b\b\b\b\b\b\b\b\b\b\b\b\b\b\b\b\b\b\b\b\b\b\b\b\b\b\b\b\b\b\b\b\b\b\b\b\b"
       ]
      },
      {
       "metadata": {},
       "output_type": "pyout",
       "prompt_number": 411,
       "text": [
        "\b\b\b\b\b\b\b 44/96 \r",
        "HERE OPTIM\t\n",
        "BEFORE FORWARD\t\n",
        "1\t\n"
       ]
      },
      {
       "metadata": {},
       "output_type": "pyout",
       "prompt_number": 411,
       "text": [
        "AFTER FORWARD\t\n",
        "NEO\t\n",
        " 4.5802\n",
        " 5.4200\n",
        "[torch.FloatTensor of dimension 2]\n",
        "\n",
        "2\t\n",
        "BLAH\t\n"
       ]
      },
      {
       "metadata": {},
       "output_type": "pyout",
       "prompt_number": 411,
       "text": [
        " ** On entry to SGEMM  parameter number 10 had an illegal value\n"
       ]
      },
      {
       "metadata": {},
       "output_type": "pyout",
       "prompt_number": 411,
       "text": [
        " ** On entry to SGEMM  parameter number 10 had an illegal value\n"
       ]
      },
      {
       "metadata": {},
       "output_type": "pyout",
       "prompt_number": 411,
       "text": [
        "\r",
        " [===================================>.........................................]                                                   \b\b\b\b\b\b\b\b\b\b\b\b\b\b\b\b\b\b\b\b\b\b\b\b\b\b\b\b\b\b\b\b\b\b\b\b\b\b\b\b\b\b\b\b\b\b\b\b\b\bETA: 5s302ms | Step: 103ms\b\b\b\b\b\b\b\b\b\b\b\b\b\b\b\b\b\b\b\b\b\b\b\b\b\b\b\b\b\b\b\b\b\b\b\b\b\b\b\b\b\b\b\b\b\b\b\b\b\b\b\b\b\b\b\b\b\b\b\b\b\b\b\b\b\b\b\b\b\b\b\b\b 45/96 \r",
        "HERE OPTIM\t\n",
        "BEFORE FORWARD\t\n",
        "1\t\n"
       ]
      },
      {
       "metadata": {},
       "output_type": "pyout",
       "prompt_number": 411,
       "text": [
        "AFTER FORWARD\t\n",
        "NEO\t\n",
        " 4.5344\n",
        " 5.4658\n",
        "[torch.FloatTensor of dimension 2]\n",
        "\n",
        "1\t\n",
        "BLAH\t\n",
        " ** On entry to SGEMM  parameter number 10 had an illegal value\n"
       ]
      },
      {
       "metadata": {},
       "output_type": "pyout",
       "prompt_number": 411,
       "text": [
        " ** On entry to SGEMM  parameter number 10 had an illegal value\n",
        "\r",
        " [===================================>.........................................]                                                   \b\b\b\b\b\b\b\b\b\b\b\b\b\b\b\b\b\b\b\b\b\b\b\b\b\b\b\b\b\b\b\b\b\b\b\b\b\b\b\b\b\b\b\b\b\b\b\b"
       ]
      },
      {
       "metadata": {},
       "output_type": "pyout",
       "prompt_number": 411,
       "text": [
        "\b\bETA: 5s92ms | Step: 101ms\b\b\b\b\b\b\b\b\b\b\b\b\b\b\b\b\b\b\b\b\b\b\b\b\b\b\b\b\b\b\b\b\b\b\b\b\b\b\b\b\b\b\b\b\b\b\b\b\b\b\b\b\b\b\b\b\b\b\b\b\b\b\b\b\b\b\b\b\b\b\b\b 46/96 \r",
        "HERE OPTIM\t\n",
        "BEFORE FORWARD\t\n",
        "1\t\n"
       ]
      },
      {
       "metadata": {},
       "output_type": "pyout",
       "prompt_number": 411,
       "text": [
        "AFTER FORWARD\t\n",
        "NEO\t\n",
        " 4.5881\n",
        " 5.4121\n",
        "[torch.FloatTensor of dimension 2]\n",
        "\n",
        "1\t\n",
        "BLAH\t\n",
        " ** On entry to SGEMM  parameter number 10 had an illegal value\n"
       ]
      },
      {
       "metadata": {},
       "output_type": "pyout",
       "prompt_number": 411,
       "text": [
        " ** On entry to SGEMM  parameter number 10 had an illegal value\n",
        "\r",
        " [====================================>........................................]                                                   \b\b\b\b\b\b\b\b\b\b\b\b\b\b\b\b\b\b\b\b\b\b\b\b\b\b\b\b\b\b\b\b\b\b\b\b\b\b\b\b\b\b\b\b\b\b\b\b\b\bETA: 4s889ms | Step: 99ms\b\b\b\b\b\b\b\b\b\b\b\b\b\b\b\b\b\b\b\b\b\b\b\b\b\b\b\b\b\b\b\b\b\b\b\b\b\b\b\b\b\b\b\b\b\b\b\b\b\b\b\b\b\b\b\b\b\b\b\b\b\b\b\b\b\b\b\b\b\b\b\b 47/96 \r",
        "HERE OPTIM\t\n",
        "BEFORE FORWARD\t\n",
        "1\t\n"
       ]
      },
      {
       "metadata": {},
       "output_type": "pyout",
       "prompt_number": 411,
       "text": [
        "AFTER FORWARD\t\n"
       ]
      },
      {
       "metadata": {},
       "output_type": "pyout",
       "prompt_number": 411,
       "text": [
        "NEO\t\n",
        " 4.6422\n",
        " 5.3580\n",
        "[torch.FloatTensor of dimension 2]\n",
        "\n",
        "2\t\n",
        "BLAH\t\n",
        " ** On entry to SGEMM  parameter number 10 had an illegal value\n"
       ]
      },
      {
       "metadata": {},
       "output_type": "pyout",
       "prompt_number": 411,
       "text": [
        " ** On entry to SGEMM  parameter number 10 had an illegal value\n"
       ]
      },
      {
       "metadata": {},
       "output_type": "pyout",
       "prompt_number": 411,
       "text": [
        "\r",
        " [=====================================>.......................................]                                                   \b\b\b\b\b\b\b\b\b\b\b\b\b\b\b\b\b\b\b\b\b\b\b\b\b\b\b\b\b\b\b\b\b\b\b\b\b\b\b\b\b\b\b\b\b\b\b\b\b\bETA: 4s760ms | Step: 99ms\b\b\b\b\b\b\b\b\b\b\b\b\b\b\b\b\b\b\b\b\b\b\b\b\b\b\b\b\b\b\b\b\b\b\b\b\b\b\b\b\b\b\b\b\b\b\b\b\b\b\b\b\b\b\b\b\b\b\b\b\b\b\b\b\b\b\b\b\b\b\b\b 48/96 \r",
        "HERE OPTIM\t\n",
        "BEFORE FORWARD\t\n",
        "1\t\n"
       ]
      },
      {
       "metadata": {},
       "output_type": "pyout",
       "prompt_number": 411,
       "text": [
        "AFTER FORWARD\t\n",
        "NEO\t\n",
        " 4.5968\n",
        " 5.4034\n",
        "[torch.FloatTensor of dimension 2]\n",
        "\n",
        "2\t\n",
        "BLAH\t\n",
        " ** On entry to SGEMM  parameter number 10 had an illegal value\n"
       ]
      },
      {
       "metadata": {},
       "output_type": "pyout",
       "prompt_number": 411,
       "text": [
        " ** On entry to SGEMM  parameter number 10 had an illegal value\n"
       ]
      },
      {
       "metadata": {},
       "output_type": "pyout",
       "prompt_number": 411,
       "text": [
        "\r",
        " [======================================>......................................] "
       ]
      },
      {
       "metadata": {},
       "output_type": "pyout",
       "prompt_number": 411,
       "text": [
        "                                                  \b\b\b\b\b\b\b\b\b\b\b\b\b\b\b\b\b\b\b\b\b\b\b\b\b\b\b\b\b\b\b\b\b\b\b\b\b\b\b\b\b\b\b\b\b\b\b\b\b\bETA: 4s595ms | Step: 97ms\b\b\b\b\b\b\b\b\b\b\b\b\b\b\b\b\b\b\b\b\b\b\b\b\b\b\b\b\b\b\b\b\b\b\b\b\b\b\b\b\b\b\b\b\b\b\b\b\b\b\b\b\b\b\b\b\b\b\b\b\b\b\b\b\b\b\b\b\b\b\b\b 49/96 \r",
        "HERE OPTIM\t\n",
        "BEFORE FORWARD\t\n",
        "1\t\n"
       ]
      },
      {
       "metadata": {},
       "output_type": "pyout",
       "prompt_number": 411,
       "text": [
        "AFTER FORWARD\t\n",
        "NEO\t\n",
        " 4.5508\n",
        " 5.4494\n",
        "[torch.FloatTensor of dimension 2]\n",
        "\n",
        "1\t\n",
        "BLAH\t\n",
        " ** On entry to SGEMM  parameter number 10 had an illegal value\n"
       ]
      },
      {
       "metadata": {},
       "output_type": "pyout",
       "prompt_number": 411,
       "text": [
        " ** On entry to SGEMM  parameter number 10 had an illegal value\n"
       ]
      },
      {
       "metadata": {},
       "output_type": "pyout",
       "prompt_number": 411,
       "text": [
        "\r",
        " [=======================================>.....................................]                                                   \b\b\b\b\b\b\b\b\b\b\b\b\b\b\b\b\b\b\b\b\b\b\b\b\b\b\b\b\b\b\b\b\b\b\b\b\b\b\b\b\b\b\b\b\b\b\b\b\b\bETA: 4s414ms | Step: 95ms\b\b\b\b\b\b\b\b\b\b\b\b\b\b\b\b\b\b\b\b\b\b\b\b\b\b\b\b\b\b\b\b\b\b\b\b\b\b\b\b\b\b\b\b\b\b\b\b\b\b\b\b"
       ]
      },
      {
       "metadata": {},
       "output_type": "pyout",
       "prompt_number": 411,
       "text": [
        "\b\b\b\b\b\b\b\b\b\b\b\b\b\b\b\b\b\b\b\b 50/96 \r",
        "HERE OPTIM\t\n",
        "BEFORE FORWARD\t\n",
        "1\t\n"
       ]
      },
      {
       "metadata": {},
       "output_type": "pyout",
       "prompt_number": 411,
       "text": [
        "AFTER FORWARD\t\n",
        "NEO\t\n",
        " 4.6043\n",
        " 5.3959\n",
        "[torch.FloatTensor of dimension 2]\n",
        "\n",
        "2\t\n",
        "BLAH\t\n"
       ]
      },
      {
       "metadata": {},
       "output_type": "pyout",
       "prompt_number": 411,
       "text": [
        " ** On entry to SGEMM  parameter number 10 had an illegal value\n"
       ]
      },
      {
       "metadata": {},
       "output_type": "pyout",
       "prompt_number": 411,
       "text": [
        " ** On entry to SGEMM  parameter number 10 had an illegal value\n"
       ]
      },
      {
       "metadata": {},
       "output_type": "pyout",
       "prompt_number": 411,
       "text": [
        "\r",
        " [=======================================>.....................................]                                                   \b\b\b\b\b\b\b\b\b\b\b\b\b\b\b\b\b\b\b\b\b\b\b\b\b\b\b\b\b\b\b\b\b\b\b\b\b\b\b\b\b\b\b\b\b\b\b\b\b\bETA: 4s714ms | Step: 104ms\b\b\b\b\b\b\b\b\b\b\b\b\b\b\b\b\b\b\b\b\b\b\b\b\b\b\b\b\b\b\b\b\b\b\b\b\b\b\b\b\b\b\b\b\b\b\b\b\b\b\b\b\b\b\b\b\b\b\b\b\b\b\b\b\b\b\b\b\b\b\b\b\b 51/96 \r",
        "HERE OPTIM\t\n",
        "BEFORE FORWARD\t\n",
        "1\t\n"
       ]
      },
      {
       "metadata": {},
       "output_type": "pyout",
       "prompt_number": 411,
       "text": [
        "AFTER FORWARD\t\n",
        "NEO\t\n",
        " 4.5592\n",
        " 5.4409\n",
        "[torch.FloatTensor of dimension 2]\n",
        "\n",
        "2\t\n",
        "BLAH\t\n"
       ]
      },
      {
       "metadata": {},
       "output_type": "pyout",
       "prompt_number": 411,
       "text": [
        " ** On entry to SGEMM  parameter number 10 had an illegal value\n"
       ]
      },
      {
       "metadata": {},
       "output_type": "pyout",
       "prompt_number": 411,
       "text": [
        " ** On entry to SGEMM  parameter number 10 had an illegal value\n"
       ]
      },
      {
       "metadata": {},
       "output_type": "pyout",
       "prompt_number": 411,
       "text": [
        "\r",
        " [========================================>....................................]                                                   \b\b\b\b\b\b\b\b\b\b\b\b\b\b\b\b\b\b\b\b\b\b\b\b\b\b\b\b\b\b\b\b\b\b\b\b\b\b\b\b\b\b\b\b\b\b\b\b\b\bETA: 5s658ms | Step: 128ms\b\b\b\b\b\b\b\b\b\b\b\b\b\b\b\b\b\b\b\b\b\b\b\b\b\b\b\b\b\b\b\b\b\b\b\b\b\b\b\b\b\b\b\b\b\b\b\b\b\b\b\b\b\b\b\b\b\b\b\b\b\b\b\b\b\b\b\b\b\b\b\b\b 52/96 \r",
        "HERE OPTIM\t\n",
        "BEFORE FORWARD\t\n",
        "1\t\n"
       ]
      },
      {
       "metadata": {},
       "output_type": "pyout",
       "prompt_number": 411,
       "text": [
        "AFTER FORWARD\t\n",
        "NEO\t\n",
        " 4.5137\n",
        " 5.4866\n",
        "[torch.FloatTensor of dimension 2]\n",
        "\n",
        "2\t\n",
        "BLAH\t\n"
       ]
      },
      {
       "metadata": {},
       "output_type": "pyout",
       "prompt_number": 411,
       "text": [
        " ** On entry to SGEMM  parameter number 10 had an illegal value\n"
       ]
      },
      {
       "metadata": {},
       "output_type": "pyout",
       "prompt_number": 411,
       "text": [
        " ** On entry to SGEMM  parameter number 10 had an illegal value\n"
       ]
      },
      {
       "metadata": {},
       "output_type": "pyout",
       "prompt_number": 411,
       "text": [
        "\r",
        " [=========================================>...................................]                                                   \b\b\b\b\b\b\b\b\b\b\b\b\b\b\b\b\b\b\b\b\b\b\b\b\b\b\b\b\b\b\b\b\b\b\b\b\b\b\b\b\b\b\b\b\b\b\b\b\b\bETA: 5s786ms | Step: 134ms\b\b\b\b\b\b\b\b\b\b\b\b\b\b\b\b\b\b\b\b\b\b\b\b\b\b\b\b\b\b\b\b\b\b\b\b\b\b\b\b\b\b\b\b\b\b\b\b\b\b\b\b\b\b\b\b\b\b\b\b\b\b\b\b\b\b\b\b\b\b\b\b\b 53/96 \r",
        "HERE OPTIM\t\n",
        "BEFORE FORWARD\t\n",
        "1\t\n"
       ]
      },
      {
       "metadata": {},
       "output_type": "pyout",
       "prompt_number": 411,
       "text": [
        "AFTER FORWARD\t\n",
        "NEO\t\n",
        " 4.4685\n",
        " 5.5318\n",
        "[torch.FloatTensor of dimension 2]\n",
        "\n",
        "1\t\n",
        "BLAH\t\n",
        " ** On entry to SGEMM  parameter number 10 had an illegal value\n"
       ]
      },
      {
       "metadata": {},
       "output_type": "pyout",
       "prompt_number": 411,
       "text": [
        " ** On entry to SGEMM  parameter number 10 had an illegal value\n"
       ]
      },
      {
       "metadata": {},
       "output_type": "pyout",
       "prompt_number": 411,
       "text": [
        "\r",
        " [==========================================>..................................]                                                   \b\b\b\b\b\b\b\b\b\b\b\b\b\b\b\b\b\b\b\b\b\b\b\b\b\b\b\b\b\b\b\b\b\b\b\b\b\b\b\b\b\b\b\b\b\b\b\b\b\bETA: 5s552ms | Step: 132ms\b\b\b\b\b\b\b\b\b\b\b\b\b\b\b\b\b\b\b\b\b\b\b\b\b\b\b\b\b\b\b\b\b\b\b\b\b\b\b\b\b\b\b\b\b\b\b\b\b\b\b\b\b\b\b\b\b\b\b\b\b\b\b\b\b\b\b\b\b\b\b\b\b 54/96 \r",
        "HERE OPTIM\t\n",
        "BEFORE FORWARD\t\n",
        "1\t\n"
       ]
      },
      {
       "metadata": {},
       "output_type": "pyout",
       "prompt_number": 411,
       "text": [
        "AFTER FORWARD\t\n",
        "NEO\t\n",
        " 4.5228\n",
        " 5.4775\n",
        "[torch.FloatTensor of dimension 2]\n",
        "\n",
        "1\t\n",
        "BLAH\t\n",
        " ** On entry to SGEMM  parameter number 10 had an illegal value\n"
       ]
      },
      {
       "metadata": {},
       "output_type": "pyout",
       "prompt_number": 411,
       "text": [
        " ** On entry to SGEMM  parameter number 10 had an illegal value\n"
       ]
      },
      {
       "metadata": {},
       "output_type": "pyout",
       "prompt_number": 411,
       "text": [
        "\r",
        " [===========================================>.................................]                                                   \b\b\b\b\b\b\b\b\b\b\b\b\b\b\b\b\b\b\b\b\b\b\b\b\b\b\b\b\b\b\b\b\b\b\b\b\b\b\b\b\b\b\b\b\b\b\b\b\b\bETA: 5s325ms | Step: 129ms\b\b\b\b\b\b\b\b\b\b\b\b\b\b\b\b\b\b\b\b\b\b\b\b\b\b\b\b\b\b\b\b\b\b\b\b\b\b\b\b\b\b\b\b\b\b\b\b\b\b\b\b\b\b\b\b\b\b\b\b\b\b\b\b\b\b\b\b\b\b\b\b\b 55/96 \r",
        "HERE OPTIM\t\n",
        "BEFORE FORWARD\t\n",
        "1\t\n"
       ]
      },
      {
       "metadata": {},
       "output_type": "pyout",
       "prompt_number": 411,
       "text": [
        "AFTER FORWARD\t\n",
        "NEO\t\n",
        " 4.5776\n",
        " 5.4227\n",
        "[torch.FloatTensor of dimension 2]\n",
        "\n",
        "1\t\n",
        "BLAH\t\n",
        " ** On entry to SGEMM  parameter number 10 had an illegal value\n"
       ]
      },
      {
       "metadata": {},
       "output_type": "pyout",
       "prompt_number": 411,
       "text": [
        " ** On entry to SGEMM  parameter number 10 had an illegal value\n"
       ]
      },
      {
       "metadata": {},
       "output_type": "pyout",
       "prompt_number": 411,
       "text": [
        "\r",
        " [===========================================>.................................]                                                   \b\b\b\b\b\b\b\b\b\b\b\b\b\b\b\b\b\b\b\b\b\b\b\b\b\b\b\b\b\b\b\b\b\b\b\b\b\b\b\b\b\b\b\b\b\b\b\b\b\bETA: 5s109ms | Step: 127ms\b\b\b\b\b\b\b\b\b\b\b\b\b\b\b\b\b\b\b\b\b\b\b\b\b\b\b\b\b\b\b\b\b\b\b\b\b\b\b\b\b\b\b\b\b\b\b\b\b\b\b\b\b\b\b\b\b\b\b\b\b\b\b\b\b\b\b\b\b\b\b\b\b 56/96 \r",
        "HERE OPTIM\t\n",
        "BEFORE FORWARD\t\n",
        "1\t\n"
       ]
      },
      {
       "metadata": {},
       "output_type": "pyout",
       "prompt_number": 411,
       "text": [
        "AFTER FORWARD\t\n",
        "NEO\t\n",
        " 4.6318\n",
        " 5.3685\n",
        "[torch.FloatTensor of dimension 2]\n",
        "\n",
        "1\t\n",
        "BLAH\t\n",
        " ** On entry to SGEMM  parameter number 10 had an illegal value\n"
       ]
      },
      {
       "metadata": {},
       "output_type": "pyout",
       "prompt_number": 411,
       "text": [
        " ** On entry to SGEMM  parameter number 10 had an illegal value\n"
       ]
      },
      {
       "metadata": {},
       "output_type": "pyout",
       "prompt_number": 411,
       "text": [
        "\r",
        " [============================================>................................]                                                   \b\b\b\b\b\b\b\b\b\b\b\b\b\b\b\b\b\b\b\b\b\b\b\b\b\b\b\b\b\b\b\b\b\b\b\b\b\b\b\b\b\b\b\b\b\b\b\b\b\bETA: 4s900ms | Step: 125ms\b\b\b\b\b\b\b\b\b\b\b\b\b\b\b\b\b\b\b\b\b\b\b\b\b\b\b\b\b\b\b\b\b\b\b\b\b\b\b\b\b\b\b\b\b\b\b\b\b\b\b\b\b\b\b\b\b\b\b\b\b\b\b\b\b\b\b\b\b\b\b\b\b 57/96 \r",
        "HERE OPTIM\t\n",
        "BEFORE FORWARD\t\n",
        "1\t\n"
       ]
      },
      {
       "metadata": {},
       "output_type": "pyout",
       "prompt_number": 411,
       "text": [
        "AFTER FORWARD\t\n",
        "NEO\t\n",
        " 4.6855\n",
        " 5.3148\n",
        "[torch.FloatTensor of dimension 2]\n",
        "\n",
        "2\t\n",
        "BLAH\t\n",
        " ** On entry to SGEMM  parameter number 10 had an illegal value\n"
       ]
      },
      {
       "metadata": {},
       "output_type": "pyout",
       "prompt_number": 411,
       "text": [
        " ** On entry to SGEMM  parameter number 10 had an illegal value\n"
       ]
      },
      {
       "metadata": {},
       "output_type": "pyout",
       "prompt_number": 411,
       "text": [
        "\r",
        " [=============================================>...............................]                                                   \b\b\b\b\b\b\b\b\b\b\b\b\b\b\b\b\b\b\b\b\b\b\b\b\b\b\b\b\b\b\b\b\b\b\b\b\b\b\b\b\b\b\b\b\b\b\b\b\b\bETA: 4s698ms | Step: 123ms\b\b\b\b\b\b\b\b\b\b\b\b\b\b\b\b\b\b\b\b\b\b\b\b\b\b\b\b\b\b\b\b\b\b\b\b\b\b\b\b\b\b\b\b\b\b\b\b\b\b\b\b\b\b\b\b\b\b\b\b\b\b\b\b\b\b\b\b\b\b\b\b\b 58/96 \r",
        "HERE OPTIM\t\n",
        "BEFORE FORWARD\t\n",
        "1\t\n"
       ]
      },
      {
       "metadata": {},
       "output_type": "pyout",
       "prompt_number": 411,
       "text": [
        "AFTER FORWARD\t\n",
        "NEO\t\n",
        " 4.6397\n",
        " 5.3606\n",
        "[torch.FloatTensor of dimension 2]\n",
        "\n",
        "1\t\n",
        "BLAH\t\n",
        " ** On entry to SGEMM  parameter number 10 had an illegal value\n"
       ]
      },
      {
       "metadata": {},
       "output_type": "pyout",
       "prompt_number": 411,
       "text": [
        " ** On entry to SGEMM  parameter number 10 had an illegal value\n"
       ]
      },
      {
       "metadata": {},
       "output_type": "pyout",
       "prompt_number": 411,
       "text": [
        "\r",
        " [==============================================>..............................]                                                   \b\b\b\b\b\b\b\b\b\b\b\b\b\b\b\b\b\b\b\b\b\b\b\b\b\b\b\b\b\b\b\b\b\b\b\b\b\b\b\b\b\b\b\b\b\b\b\b\b\bETA: 4s500ms | Step: 121ms\b\b\b\b\b\b\b\b\b\b\b\b\b\b\b\b\b\b\b\b\b\b\b\b\b\b\b\b\b\b\b\b\b\b\b\b\b\b\b\b\b\b\b\b\b\b\b\b\b\b\b\b\b\b\b\b\b\b\b\b\b\b\b\b\b\b\b\b\b\b\b\b\b 59/96 \r",
        "HERE OPTIM\t\n",
        "BEFORE FORWARD\t\n",
        "1\t\n"
       ]
      },
      {
       "metadata": {},
       "output_type": "pyout",
       "prompt_number": 411,
       "text": [
        "AFTER FORWARD\t\n",
        "NEO\t\n",
        " 4.6923\n",
        " 5.3080\n",
        "[torch.FloatTensor of dimension 2]\n",
        "\n",
        "2\t\n",
        "BLAH\t\n"
       ]
      },
      {
       "metadata": {},
       "output_type": "pyout",
       "prompt_number": 411,
       "text": [
        " ** On entry to SGEMM  parameter number 10 had an illegal value\n"
       ]
      },
      {
       "metadata": {},
       "output_type": "pyout",
       "prompt_number": 411,
       "text": [
        " ** On entry to SGEMM  parameter number 10 had an illegal value\n"
       ]
      },
      {
       "metadata": {},
       "output_type": "pyout",
       "prompt_number": 411,
       "text": [
        "\r",
        " [===============================================>.............................]                                                   \b\b\b\b\b\b\b\b\b\b\b\b\b\b\b\b\b\b\b\b\b\b\b\b\b\b\b\b\b\b\b\b\b\b\b\b\b\b\b\b\b\b\b\b\b\b\b\b\b\bETA: 4s439ms | Step: 123ms\b\b\b\b\b\b\b\b\b\b\b\b\b\b\b\b\b\b\b\b\b\b\b\b\b\b\b\b\b\b\b\b\b\b\b\b\b\b\b\b\b\b\b\b\b\b\b\b\b\b\b\b\b\b\b\b\b\b\b\b\b\b\b\b\b\b\b\b\b\b\b\b\b 60/96 \r",
        "HERE OPTIM\t\n",
        "BEFORE FORWARD\t\n",
        "1\t\n"
       ]
      },
      {
       "metadata": {},
       "output_type": "pyout",
       "prompt_number": 411,
       "text": [
        "AFTER FORWARD\t\n",
        "NEO\t\n",
        " 4.6463\n",
        " 5.3539\n",
        "[torch.FloatTensor of dimension 2]\n",
        "\n",
        "2\t\n",
        "BLAH\t\n"
       ]
      },
      {
       "metadata": {},
       "output_type": "pyout",
       "prompt_number": 411,
       "text": [
        " ** On entry to SGEMM  parameter number 10 had an illegal value\n"
       ]
      },
      {
       "metadata": {},
       "output_type": "pyout",
       "prompt_number": 411,
       "text": [
        " ** On entry to SGEMM  parameter number 10 had an illegal value\n"
       ]
      },
      {
       "metadata": {},
       "output_type": "pyout",
       "prompt_number": 411,
       "text": [
        "\r",
        " [===============================================>.............................]                                                   \b\b\b\b\b\b\b\b\b\b\b\b\b\b\b\b\b\b\b\b\b\b\b\b\b\b\b\b\b\b\b\b\b\b\b\b\b\b\b\b\b\b\b\b\b\b\b\b\b\bETA: 4s857ms | Step: 138ms\b\b\b\b\b\b\b\b\b\b\b\b\b\b\b\b\b\b\b\b\b\b\b\b\b\b\b\b\b\b\b\b\b\b\b\b\b\b\b\b\b\b\b\b\b\b\b\b\b\b\b\b\b\b\b\b\b\b\b\b\b\b\b\b\b\b\b\b\b\b\b\b\b 61/96 \r",
        "HERE OPTIM\t\n",
        "BEFORE FORWARD\t\n",
        "1\t\n"
       ]
      },
      {
       "metadata": {},
       "output_type": "pyout",
       "prompt_number": 411,
       "text": [
        "AFTER FORWARD\t\n",
        "NEO\t\n",
        " 4.5999\n",
        " 5.4003\n",
        "[torch.FloatTensor of dimension 2]\n",
        "\n",
        "2\t\n",
        "BLAH\t\n"
       ]
      },
      {
       "metadata": {},
       "output_type": "pyout",
       "prompt_number": 411,
       "text": [
        " ** On entry to SGEMM  parameter number 10 had an illegal value\n"
       ]
      },
      {
       "metadata": {},
       "output_type": "pyout",
       "prompt_number": 411,
       "text": [
        " ** On entry to SGEMM  parameter number 10 had an illegal value\n"
       ]
      },
      {
       "metadata": {},
       "output_type": "pyout",
       "prompt_number": 411,
       "text": [
        "\r",
        " [================================================>............................]                                                   \b\b\b\b\b\b\b\b\b\b\b\b\b\b\b\b\b\b\b\b\b\b\b\b\b\b\b\b\b\b\b\b\b\b\b\b\b\b\b\b\b\b\b\b\b\b\b\b\b\bETA: 4s695ms | Step: 138ms\b\b\b\b\b\b\b\b\b\b\b\b\b\b\b\b\b\b\b\b\b\b\b\b\b\b\b\b\b\b\b\b\b\b\b\b\b\b\b\b\b\b\b\b\b\b\b\b\b\b\b\b\b\b\b\b\b\b\b\b\b\b\b\b\b\b\b\b\b\b\b\b\b 62/96 \r",
        "HERE OPTIM\t\n",
        "BEFORE FORWARD\t\n",
        "1\t\n"
       ]
      },
      {
       "metadata": {},
       "output_type": "pyout",
       "prompt_number": 411,
       "text": [
        "AFTER FORWARD\t\n",
        "NEO\t\n",
        " 4.5539\n",
        " 5.4463\n",
        "[torch.FloatTensor of dimension 2]\n",
        "\n",
        "2\t\n",
        "BLAH\t\n",
        " ** On entry to SGEMM  parameter number 10 had an illegal value\n"
       ]
      },
      {
       "metadata": {},
       "output_type": "pyout",
       "prompt_number": 411,
       "text": [
        " ** On entry to SGEMM  parameter number 10 had an illegal value\n"
       ]
      },
      {
       "metadata": {},
       "output_type": "pyout",
       "prompt_number": 411,
       "text": [
        "\r",
        " [=================================================>...........................]                                                   \b\b\b\b\b\b\b\b\b\b\b\b\b\b\b\b\b\b\b\b\b\b\b\b\b\b\b\b\b\b\b\b\b\b\b\b\b\b\b\b\b\b\b\b\b\b\b\b\b\b"
       ]
      },
      {
       "metadata": {},
       "output_type": "pyout",
       "prompt_number": 411,
       "text": [
        "ETA: 4s511ms | Step: 136ms\b\b\b\b\b\b\b\b\b\b\b\b\b\b\b\b\b\b\b\b\b\b\b\b\b\b\b\b\b\b\b\b\b\b\b\b\b\b\b\b\b\b\b\b\b\b\b\b\b\b\b\b\b\b\b\b\b\b\b\b\b\b\b\b\b\b\b\b\b\b\b\b\b 63/96 \r",
        "HERE OPTIM\t\n",
        "BEFORE FORWARD\t\n",
        "1\t\n"
       ]
      },
      {
       "metadata": {},
       "output_type": "pyout",
       "prompt_number": 411,
       "text": [
        "AFTER FORWARD\t\n",
        "NEO\t\n",
        " 4.5083\n",
        " 5.4919\n",
        "[torch.FloatTensor of dimension 2]\n",
        "\n",
        "1\t\n",
        "BLAH\t\n",
        " ** On entry to SGEMM  parameter number 10 had an illegal value\n"
       ]
      },
      {
       "metadata": {},
       "output_type": "pyout",
       "prompt_number": 411,
       "text": [
        " ** On entry to SGEMM  parameter number 10 had an illegal value\n"
       ]
      },
      {
       "metadata": {},
       "output_type": "pyout",
       "prompt_number": 411,
       "text": [
        "\r",
        " [==================================================>..........................]                                                   \b\b\b\b\b\b\b\b\b\b\b\b\b\b\b\b\b\b\b\b\b\b\b\b\b\b\b\b\b\b\b\b\b\b\b\b\b\b\b\b\b\b\b\b\b\b\b\b\b\bETA: 4s312ms | Step: 134ms\b\b\b\b\b\b\b\b\b\b\b\b\b\b\b\b\b\b\b\b\b\b\b\b\b\b\b\b\b\b\b\b\b\b\b\b\b\b\b\b\b\b\b\b\b\b\b\b\b\b\b\b\b\b\b\b\b\b\b\b\b\b\b\b\b\b\b\b\b"
       ]
      },
      {
       "metadata": {},
       "output_type": "pyout",
       "prompt_number": 411,
       "text": [
        "\b\b\b\b 64/96 \r",
        "HERE OPTIM\t\n",
        "BEFORE FORWARD\t\n",
        "1\t\n"
       ]
      },
      {
       "metadata": {},
       "output_type": "pyout",
       "prompt_number": 411,
       "text": [
        "AFTER FORWARD\t\n",
        "NEO\t\n",
        " 4.5622\n",
        " 5.4380\n",
        "[torch.FloatTensor of dimension 2]\n",
        "\n",
        "1\t\n",
        "BLAH\t\n",
        " ** On entry to SGEMM  parameter number 10 had an illegal value\n"
       ]
      },
      {
       "metadata": {},
       "output_type": "pyout",
       "prompt_number": 411,
       "text": [
        " ** On entry to SGEMM  parameter number 10 had an illegal value\n",
        "\r",
        " [============================="
       ]
      },
      {
       "metadata": {},
       "output_type": "pyout",
       "prompt_number": 411,
       "text": [
        "======================>.........................]                                                   \b\b\b\b\b\b\b\b\b\b\b\b\b\b\b\b\b\b\b\b\b\b\b\b\b\b\b\b\b\b\b\b\b\b\b\b\b\b\b\b\b\b\b\b\b\b\b\b\b\bETA: 4s118ms | Step: 132ms\b\b\b\b\b\b\b\b\b\b\b\b\b\b\b\b\b\b\b\b\b\b\b\b\b\b\b\b\b\b\b\b\b\b\b\b\b\b\b\b\b\b\b\b\b\b\b\b\b\b\b\b\b\b\b\b\b\b\b\b\b\b\b\b\b\b\b\b\b\b\b\b\b 65/96 \r",
        "HERE OPTIM\t\n",
        "BEFORE FORWARD\t\n",
        "1\t\n"
       ]
      },
      {
       "metadata": {},
       "output_type": "pyout",
       "prompt_number": 411,
       "text": [
        "AFTER FORWARD\t\n",
        "NEO\t\n",
        " 4.6166\n",
        " 5.3836\n",
        "[torch.FloatTensor of dimension 2]\n",
        "\n",
        "2\t\n",
        "BLAH\t\n"
       ]
      },
      {
       "metadata": {},
       "output_type": "pyout",
       "prompt_number": 411,
       "text": [
        " ** On entry to SGEMM  parameter number 10 had an illegal value\n"
       ]
      },
      {
       "metadata": {},
       "output_type": "pyout",
       "prompt_number": 411,
       "text": [
        " ** On entry to SGEMM  parameter number 10 had an illegal value\n"
       ]
      },
      {
       "metadata": {},
       "output_type": "pyout",
       "prompt_number": 411,
       "text": [
        "\r",
        " [===================================================>.........................]                                                   \b\b\b\b\b\b\b\b\b\b\b\b\b\b\b\b\b\b\b\b\b\b\b\b\b\b\b\b\b\b\b\b\b\b\b\b\b\b\b\b\b\b\b\b\b\b\b\b\b\bETA: 4s159ms | Step: 138ms\b\b\b\b\b\b\b\b\b\b\b\b\b\b\b\b\b\b\b\b\b\b\b\b\b\b\b\b\b\b\b\b\b\b\b\b\b\b\b\b\b\b\b\b\b\b\b\b\b\b\b\b\b\b\b\b\b\b\b\b\b\b\b\b\b\b\b\b\b\b\b\b\b 66/96 \r",
        "HERE OPTIM\t\n",
        "BEFORE FORWARD\t\n",
        "1\t\n"
       ]
      },
      {
       "metadata": {},
       "output_type": "pyout",
       "prompt_number": 411,
       "text": [
        "AFTER FORWARD\t\n",
        "NEO\t\n",
        " 4.5715\n",
        " 5.4287\n",
        "[torch.FloatTensor of dimension 2]\n",
        "\n",
        "1\t\n",
        "BLAH\t\n",
        " ** On entry to SGEMM  parameter number 10 had an illegal value\n"
       ]
      },
      {
       "metadata": {},
       "output_type": "pyout",
       "prompt_number": 411,
       "text": [
        " ** On entry to SGEMM  parameter number 10 had an illegal value\n"
       ]
      },
      {
       "metadata": {},
       "output_type": "pyout",
       "prompt_number": 411,
       "text": [
        "\r",
        " [================"
       ]
      },
      {
       "metadata": {},
       "output_type": "pyout",
       "prompt_number": 411,
       "text": [
        "====================================>........................]                                                   \b\b\b\b\b\b\b\b\b\b\b\b\b\b\b\b\b\b\b\b\b\b\b\b\b\b\b\b\b\b\b\b\b\b\b\b\b\b\b\b\b\b\b\b\b\b\b\b\b\bETA: 3s965ms | Step: 136ms\b\b\b\b\b\b\b\b\b\b\b\b\b\b\b\b\b\b\b\b\b\b\b\b\b\b\b\b\b\b\b\b\b\b\b\b\b\b\b\b\b\b\b\b\b\b\b\b\b\b\b\b\b\b\b\b\b\b\b\b\b\b\b\b\b\b\b\b\b\b\b\b\b 67/96 \r",
        "HERE OPTIM\t\n",
        "BEFORE FORWARD\t\n",
        "1\t\n"
       ]
      },
      {
       "metadata": {},
       "output_type": "pyout",
       "prompt_number": 411,
       "text": [
        "AFTER FORWARD\t\n",
        "NEO\t\n",
        " 4.6248\n",
        " 5.3754\n",
        "[torch.FloatTensor of dimension 2]\n",
        "\n",
        "2\t\n",
        "BLAH\t\n",
        " ** On entry to SGEMM  parameter number 10 had an illegal value\n"
       ]
      },
      {
       "metadata": {},
       "output_type": "pyout",
       "prompt_number": 411,
       "text": [
        " ** On entry to SGEMM  parameter number 10 had an illegal value\n"
       ]
      },
      {
       "metadata": {},
       "output_type": "pyout",
       "prompt_number": 411,
       "text": [
        "\r",
        " [=====================================================>.......................]                                                   \b\b\b\b\b\b\b\b\b\b\b\b\b\b\b\b\b\b\b\b\b\b\b\b\b\b\b\b\b\b\b\b\b\b\b\b\b\b\b\b\b\b\b\b\b\b\b\b\b\bETA: 3s784ms | Step: 135ms\b\b\b\b\b\b\b\b\b\b\b\b\b\b\b\b\b\b\b\b\b\b\b\b\b\b\b\b\b\b\b\b\b\b\b\b\b\b\b\b\b\b\b\b\b\b\b\b\b\b\b\b\b\b\b\b\b\b\b\b\b\b\b\b\b\b\b\b\b\b\b\b\b 68/96 \r",
        "HERE OPTIM\t\n",
        "BEFORE FORWARD\t\n",
        "1\t\n"
       ]
      },
      {
       "metadata": {},
       "output_type": "pyout",
       "prompt_number": 411,
       "text": [
        "AFTER FORWARD\t\n",
        "NEO\t\n",
        " 4.5795\n",
        " 5.4207\n",
        "[torch.FloatTensor of dimension 2]\n",
        "\n",
        "1\t\n",
        "BLAH\t\n",
        " ** On entry to SGEMM  parameter number 10 had an illegal value\n"
       ]
      },
      {
       "metadata": {},
       "output_type": "pyout",
       "prompt_number": 411,
       "text": [
        " ** On entry to SGEMM  parameter number 10 had an illegal value\n"
       ]
      },
      {
       "metadata": {},
       "output_type": "pyout",
       "prompt_number": 411,
       "text": [
        "\r",
        " [==========="
       ]
      },
      {
       "metadata": {},
       "output_type": "pyout",
       "prompt_number": 411,
       "text": [
        "===========================================>......................]                                                   \b\b\b\b\b\b\b\b\b\b\b\b\b\b\b\b\b\b\b\b\b\b\b\b\b\b\b\b\b\b\b\b\b\b\b\b\b\b\b\b\b\b\b\b\b\b\b\b\b\bETA: 3s600ms | Step: 133ms\b\b\b\b\b\b\b\b\b\b\b\b\b\b\b\b\b\b\b\b\b\b\b\b\b\b\b\b\b\b\b\b\b\b\b\b\b\b\b\b\b\b\b\b\b\b\b\b\b\b\b\b\b\b\b\b\b\b\b\b\b\b\b\b\b\b\b\b\b\b\b\b\b 69/96 \r",
        "HERE OPTIM\t\n",
        "BEFORE FORWARD\t\n",
        "1\t\n"
       ]
      },
      {
       "metadata": {},
       "output_type": "pyout",
       "prompt_number": 411,
       "text": [
        "AFTER FORWARD\t\n",
        "NEO\t\n",
        " 4.6327\n",
        " 5.3675\n",
        "[torch.FloatTensor of dimension 2]\n",
        "\n",
        "2\t\n",
        "BLAH\t\n",
        " ** On entry to SGEMM  parameter number 10 had an illegal value\n"
       ]
      },
      {
       "metadata": {},
       "output_type": "pyout",
       "prompt_number": 411,
       "text": [
        " ** On entry to SGEMM  parameter number 10 had an illegal value\n"
       ]
      },
      {
       "metadata": {},
       "output_type": "pyout",
       "prompt_number": 411,
       "text": [
        "\r",
        " [=======================================================>.....................]                                                   \b\b\b\b\b\b\b\b\b\b\b\b\b\b\b\b\b\b\b\b\b\b\b\b\b\b\b\b\b\b\b\b\b\b\b\b\b\b\b\b\b\b\b\b\b\b\b\b\b\bETA: 3s443ms | Step: 132ms\b\b\b\b\b\b\b\b\b\b\b\b\b\b\b\b\b\b\b\b\b\b\b\b\b\b\b\b\b\b\b\b\b\b\b\b\b\b\b\b\b\b\b\b\b\b\b\b\b\b\b\b\b\b\b\b\b\b\b\b\b\b\b\b\b\b\b\b\b\b\b\b\b 70/96 \r",
        "HERE OPTIM\t\n",
        "BEFORE FORWARD\t\n",
        "1\t\n"
       ]
      },
      {
       "metadata": {},
       "output_type": "pyout",
       "prompt_number": 411,
       "text": [
        "AFTER FORWARD\t\n",
        "NEO\t\n",
        " 4.5874\n",
        " 5.4128\n",
        "[torch.FloatTensor of dimension 2]\n",
        "\n",
        "1\t\n",
        "BLAH\t\n",
        " ** On entry to SGEMM  parameter number 10 had an illegal value\n",
        " ** On entry to SGEMM  parameter number 10 had an illegal value\n"
       ]
      },
      {
       "metadata": {},
       "output_type": "pyout",
       "prompt_number": 411,
       "text": [
        "\r",
        " [=======================================================>.....................]                                                   \b\b\b\b\b\b\b\b\b\b\b\b\b\b\b\b\b\b\b\b\b\b\b\b\b\b\b\b\b\b\b\b\b\b\b\b\b\b\b\b\b\b\b\b\b\b\b\b\b\bETA: 3s266ms | Step: 130ms\b\b\b\b\b\b\b\b\b\b\b\b\b\b\b\b\b\b\b\b\b\b\b\b\b\b\b\b\b\b\b\b\b\b\b\b\b\b\b\b\b\b\b\b\b\b\b\b\b\b\b\b\b\b\b\b\b\b\b\b\b\b\b\b"
       ]
      },
      {
       "metadata": {},
       "output_type": "pyout",
       "prompt_number": 411,
       "text": [
        "\b\b\b\b\b\b\b\b\b 71/96 \r",
        "HERE OPTIM\t\n",
        "BEFORE FORWARD\t\n",
        "1\t\n"
       ]
      },
      {
       "metadata": {},
       "output_type": "pyout",
       "prompt_number": 411,
       "text": [
        "AFTER FORWARD\t\n",
        "NEO\t\n",
        " 4.6405\n",
        " 5.3597\n",
        "[torch.FloatTensor of dimension 2]\n",
        "\n",
        "2\t\n",
        "BLAH\t\n"
       ]
      },
      {
       "metadata": {},
       "output_type": "pyout",
       "prompt_number": 411,
       "text": [
        " ** On entry to SGEMM  parameter number 10 had an illegal value\n"
       ]
      },
      {
       "metadata": {},
       "output_type": "pyout",
       "prompt_number": 411,
       "text": [
        " ** On entry to SGEMM  parameter number 10 had an illegal value\n"
       ]
      },
      {
       "metadata": {},
       "output_type": "pyout",
       "prompt_number": 411,
       "text": [
        "\r",
        " [========================================================>....................]                                                   \b\b\b\b\b\b\b\b\b\b\b\b\b\b\b\b\b\b\b\b\b\b\b\b\b\b\b\b\b\b\b\b\b\b\b\b\b\b\b\b\b\b\b\b\b\b\b\b\b\bETA: 3s259ms | Step: 135ms\b\b\b\b\b\b\b\b\b\b\b\b\b\b\b\b\b\b\b\b\b\b\b\b\b\b\b\b\b\b\b\b\b\b\b\b\b\b\b\b\b\b\b\b\b\b\b\b\b\b\b\b\b\b\b\b\b\b\b\b\b\b\b\b\b\b\b\b\b\b\b\b\b 72/96 \r",
        "HERE OPTIM\t\n",
        "BEFORE FORWARD\t\n",
        "1\t\n"
       ]
      },
      {
       "metadata": {},
       "output_type": "pyout",
       "prompt_number": 411,
       "text": [
        "AFTER FORWARD\t\n",
        "NEO\t\n",
        " 4.5951\n",
        " 5.4051\n",
        "[torch.FloatTensor of dimension 2]\n",
        "\n",
        "2\t\n",
        "BLAH\t\n",
        " ** On entry to SGEMM  parameter number 10 had an illegal value\n"
       ]
      },
      {
       "metadata": {},
       "output_type": "pyout",
       "prompt_number": 411,
       "text": [
        " ** On entry to SGEMM  parameter number 10 had an illegal value\n"
       ]
      },
      {
       "metadata": {},
       "output_type": "pyout",
       "prompt_number": 411,
       "text": [
        "\r",
        " [=========================================================>...................]                                                   \b\b\b\b\b\b\b\b\b\b\b\b\b\b\b\b\b\b\b\b\b\b\b\b\b\b\b\b\b\b\b\b\b\b\b\b\b\b\b\b\b\b\b\b\b\b\b\b\b\bETA: 3s87ms | Step: 134ms\b\b\b\b\b\b\b\b\b\b\b\b\b\b\b\b\b\b\b\b\b\b\b\b\b\b\b\b\b\b\b\b\b\b\b\b\b\b\b\b\b\b\b\b\b\b\b\b\b\b\b\b\b\b\b\b\b\b\b\b\b\b\b\b\b\b\b\b\b\b\b\b 73/96 \r",
        "HERE OPTIM\t\n",
        "BEFORE FORWARD\t\n",
        "1\t\n"
       ]
      },
      {
       "metadata": {},
       "output_type": "pyout",
       "prompt_number": 411,
       "text": [
        "AFTER FORWARD\t\n",
        "NEO\t\n"
       ]
      },
      {
       "metadata": {},
       "output_type": "pyout",
       "prompt_number": 411,
       "text": [
        " 4.5492\n",
        " 5.4510\n",
        "[torch.FloatTensor of dimension 2]\n",
        "\n",
        "2\t\n",
        "BLAH\t\n"
       ]
      },
      {
       "metadata": {},
       "output_type": "pyout",
       "prompt_number": 411,
       "text": [
        " ** On entry to SGEMM  parameter number 10 had an illegal value\n"
       ]
      },
      {
       "metadata": {},
       "output_type": "pyout",
       "prompt_number": 411,
       "text": [
        " ** On entry to SGEMM  parameter number 10 had an illegal value\n"
       ]
      },
      {
       "metadata": {},
       "output_type": "pyout",
       "prompt_number": 411,
       "text": [
        "\r",
        " [==========================================================>..................]                                                   \b\b\b\b\b\b\b\b\b\b\b\b\b\b\b\b\b\b\b\b"
       ]
      },
      {
       "metadata": {},
       "output_type": "pyout",
       "prompt_number": 411,
       "text": [
        "\b\b\b\b\b\b\b\b\b\b\b\b\b\b\b\b\b\b\b\b\b\b\b\b\b\b\b\b\b\bETA: 3s10ms | Step: 136ms\b\b\b\b\b\b\b\b\b\b\b\b\b\b\b\b\b\b\b\b\b\b\b\b\b\b\b\b\b\b\b\b\b\b\b\b\b\b\b\b\b\b\b\b\b\b\b\b\b\b\b\b\b\b\b\b\b\b\b\b\b\b\b\b\b\b\b\b\b\b\b\b 74/96 \r",
        "HERE OPTIM\t\n",
        "BEFORE FORWARD\t\n",
        "1\t\n"
       ]
      },
      {
       "metadata": {},
       "output_type": "pyout",
       "prompt_number": 411,
       "text": [
        "AFTER FORWARD\t\n",
        "NEO\t\n",
        " 4.5037\n",
        " 5.4966\n",
        "[torch.FloatTensor of dimension 2]\n",
        "\n",
        "2\t\n",
        "BLAH\t\n"
       ]
      },
      {
       "metadata": {},
       "output_type": "pyout",
       "prompt_number": 411,
       "text": [
        " ** On entry to SGEMM  parameter number 10 had an illegal value\n"
       ]
      },
      {
       "metadata": {},
       "output_type": "pyout",
       "prompt_number": 411,
       "text": [
        " ** On entry to SGEMM  parameter number 10 had an illegal value\n"
       ]
      },
      {
       "metadata": {},
       "output_type": "pyout",
       "prompt_number": 411,
       "text": [
        "\r",
        " [=========================================================="
       ]
      },
      {
       "metadata": {},
       "output_type": "pyout",
       "prompt_number": 411,
       "text": [
        "=>.................]                                                   \b\b\b\b\b\b\b\b\b\b\b\b\b\b\b\b\b\b\b\b\b\b\b\b\b\b\b\b\b\b\b\b\b\b\b\b\b\b\b\b\b\b\b\b\b\b\b\b\b\bETA: 2s943ms | Step: 140ms\b\b\b\b\b\b\b\b\b\b\b\b\b\b\b\b\b\b\b\b\b\b\b\b\b\b\b\b\b\b\b\b\b\b\b\b\b\b\b\b\b\b\b\b\b\b\b\b\b\b\b\b\b\b\b\b\b\b\b\b\b\b\b\b\b\b\b\b\b\b\b\b\b 75/96 \r",
        "HERE OPTIM\t\n",
        "BEFORE FORWARD\t\n",
        "1\t\n"
       ]
      },
      {
       "metadata": {},
       "output_type": "pyout",
       "prompt_number": 411,
       "text": [
        "AFTER FORWARD\t\n",
        "NEO\t\n",
        " 4.4586\n",
        " 5.5416\n",
        "[torch.FloatTensor of dimension 2]\n",
        "\n",
        "2\t\n",
        "BLAH\t\n"
       ]
      },
      {
       "metadata": {},
       "output_type": "pyout",
       "prompt_number": 411,
       "text": [
        " ** On entry to SGEMM  parameter number 10 had an illegal value\n"
       ]
      },
      {
       "metadata": {},
       "output_type": "pyout",
       "prompt_number": 411,
       "text": [
        " ** On entry to SGEMM  parameter number 10 had an illegal value\n"
       ]
      },
      {
       "metadata": {},
       "output_type": "pyout",
       "prompt_number": 411,
       "text": [
        "\r",
        " [===========================================================>.................]                                                   \b\b\b\b\b\b\b\b\b\b\b\b\b\b\b\b\b\b\b\b\b\b\b\b\b\b\b\b\b\b\b\b\b\b\b\b\b\b\b\b\b\b\b\b\b\b\b\b\b\bETA: 2s947ms | Step: 147ms\b\b"
       ]
      },
      {
       "metadata": {},
       "output_type": "pyout",
       "prompt_number": 411,
       "text": [
        "\b\b\b\b\b\b\b\b\b\b\b\b\b\b\b\b\b\b\b\b\b\b\b\b\b\b\b\b\b\b\b\b\b\b\b\b\b\b\b\b\b\b\b\b\b\b\b\b\b\b\b\b\b\b\b\b\b\b\b\b\b\b\b\b\b\b\b\b\b\b\b 76/96 \r",
        "HERE OPTIM\t\n",
        "BEFORE FORWARD\t\n",
        "1\t\n"
       ]
      },
      {
       "metadata": {},
       "output_type": "pyout",
       "prompt_number": 411,
       "text": [
        "AFTER FORWARD\t\n",
        "NEO\t\n"
       ]
      },
      {
       "metadata": {},
       "output_type": "pyout",
       "prompt_number": 411,
       "text": [
        " 4.4140\n",
        " 5.5862\n",
        "[torch.FloatTensor of dimension 2]\n",
        "\n",
        "1\t\n",
        "BLAH\t\n",
        " ** On entry to SGEMM  parameter number 10 had an illegal value\n"
       ]
      },
      {
       "metadata": {},
       "output_type": "pyout",
       "prompt_number": 411,
       "text": [
        " ** On entry to SGEMM  parameter number 10 had an illegal value\n"
       ]
      },
      {
       "metadata": {},
       "output_type": "pyout",
       "prompt_number": 411,
       "text": [
        "\r",
        " [============================================================>................]                                                   \b\b\b\b\b\b\b\b\b\b\b\b\b\b\b\b\b\b\b\b\b\b\b\b\b\b\b\b\b\b\b\b\b\b\b\b\b\b\b\b\b\b\b\b\b\b\b\b\b\bETA: 2s772ms | Step: 145ms\b\b\b\b\b\b\b\b\b\b\b\b\b\b\b\b\b\b\b\b\b\b\b\b\b\b\b\b\b\b\b\b\b\b\b\b\b\b\b\b\b\b\b\b\b\b\b\b\b\b\b\b\b\b\b\b\b\b\b\b\b\b\b\b\b\b\b\b\b\b\b\b\b 77/96 \r",
        "HERE OPTIM\t\n",
        "BEFORE FORWARD\t\n",
        "1\t\n"
       ]
      },
      {
       "metadata": {},
       "output_type": "pyout",
       "prompt_number": 411,
       "text": [
        "AFTER FORWARD\t\n",
        "NEO\t\n",
        " 4.4689\n",
        " 5.5314\n",
        "[torch.FloatTensor of dimension 2]\n",
        "\n",
        "1\t\n",
        "BLAH\t\n",
        " ** On entry to SGEMM  parameter number 10 had an illegal value\n"
       ]
      },
      {
       "metadata": {},
       "output_type": "pyout",
       "prompt_number": 411,
       "text": [
        " ** On entry to SGEMM  parameter number 10 had an illegal value\n"
       ]
      },
      {
       "metadata": {},
       "output_type": "pyout",
       "prompt_number": 411,
       "text": [
        "\r",
        " [=============================================================>...............]                                                   \b\b\b\b\b\b\b\b\b\b\b\b\b\b\b\b\b\b\b\b\b\b\b\b\b\b\b\b\b\b\b\b\b\b\b\b\b\b\b\b\b\b\b\b\b\b\b\b\b\bETA: 2s594ms | Step: 144ms\b\b\b\b\b\b\b\b\b\b\b\b\b\b\b\b\b\b\b\b\b\b\b\b\b\b\b\b\b\b\b\b\b\b\b\b\b\b\b\b\b\b\b\b\b\b\b\b\b\b\b\b\b\b\b\b\b\b\b\b\b\b\b\b\b\b\b\b\b\b\b\b\b 78/96 \r",
        "HERE OPTIM\t\n",
        "BEFORE FORWARD\t\n",
        "1\t\n"
       ]
      },
      {
       "metadata": {},
       "output_type": "pyout",
       "prompt_number": 411,
       "text": [
        "AFTER FORWARD\t\n",
        "NEO\t\n",
        " 4.5242\n",
        " 5.4761\n",
        "[torch.FloatTensor of dimension 2]\n",
        "\n",
        "2\t\n",
        "BLAH\t\n"
       ]
      },
      {
       "metadata": {},
       "output_type": "pyout",
       "prompt_number": 411,
       "text": [
        " ** On entry to SGEMM  parameter number 10 had an illegal value\n"
       ]
      },
      {
       "metadata": {},
       "output_type": "pyout",
       "prompt_number": 411,
       "text": [
        " ** On entry to SGEMM  parameter number 10 had an illegal value\n"
       ]
      },
      {
       "metadata": {},
       "output_type": "pyout",
       "prompt_number": 411,
       "text": [
        "\r",
        " [==============================================================>..............]                                                   \b\b\b\b\b\b\b\b\b\b\b\b\b\b\b\b\b\b\b\b\b\b\b\b\b\b\b\b\b\b\b\b\b\b\b\b\b\b\b\b\b\b\b\b\b\b\b\b\b\bETA: 2s532ms | Step: 148ms\b\b\b\b\b\b\b\b\b\b\b\b\b\b\b\b\b\b\b\b\b\b\b\b\b\b\b\b\b\b\b\b\b\b\b\b\b\b\b\b\b\b\b\b\b\b\b\b\b\b\b\b\b\b\b\b\b\b\b\b"
       ]
      },
      {
       "metadata": {},
       "output_type": "pyout",
       "prompt_number": 411,
       "text": [
        "\b\b\b\b\b\b\b\b\b\b\b\b\b 79/96 \r",
        "HERE OPTIM\t\n",
        "BEFORE FORWARD\t\n",
        "1\t\n"
       ]
      },
      {
       "metadata": {},
       "output_type": "pyout",
       "prompt_number": 411,
       "text": [
        "AFTER FORWARD\t\n",
        "NEO\t\n",
        " 4.4800\n",
        " 5.5203\n",
        "[torch.FloatTensor of dimension 2]\n",
        "\n",
        "1\t"
       ]
      },
      {
       "metadata": {},
       "output_type": "pyout",
       "prompt_number": 411,
       "text": [
        "\n",
        "BLAH\t\n",
        " ** On entry to SGEMM  parameter number 10 had an illegal value\n"
       ]
      },
      {
       "metadata": {},
       "output_type": "pyout",
       "prompt_number": 411,
       "text": [
        " ** On entry to SGEMM  parameter number 10 had an illegal value\n"
       ]
      },
      {
       "metadata": {},
       "output_type": "pyout",
       "prompt_number": 411,
       "text": [
        "\r",
        " [===============================================================>.............]                                                   \b\b\b\b\b\b\b\b\b\b\b\b\b\b\b\b\b\b\b\b\b\b\b\b\b\b\b\b\b\b\b\b\b\b\b\b\b\b\b\b\b\b\b\b\b\b\b\b\b\bETA: 2s355ms | Step: 147ms\b\b\b\b\b\b\b\b\b\b\b\b\b\b\b\b\b\b\b\b\b\b\b\b\b\b\b\b\b\b\b\b\b\b\b\b\b\b\b\b\b\b\b\b\b\b\b\b\b\b\b\b\b\b\b\b\b\b\b\b\b\b\b\b\b\b\b\b\b\b\b\b\b 80/96 \r",
        "HERE OPTIM\t\n",
        "BEFORE FORWARD\t\n",
        "1\t\n"
       ]
      },
      {
       "metadata": {},
       "output_type": "pyout",
       "prompt_number": 411,
       "text": [
        "AFTER FORWARD\t\n",
        "NEO\t\n",
        " 4.5342\n",
        " 5.4661\n",
        "[torch.FloatTensor of dimension 2]\n",
        "\n",
        "2\t\n",
        "BLAH\t\n",
        " ** On entry to SGEMM  parameter number 10 had an illegal value\n"
       ]
      },
      {
       "metadata": {},
       "output_type": "pyout",
       "prompt_number": 411,
       "text": [
        " ** On entry to SGEMM  parameter number 10 had an illegal value\n"
       ]
      },
      {
       "metadata": {},
       "output_type": "pyout",
       "prompt_number": 411,
       "text": [
        "\r",
        " [===============================================================>.............]                                                   \b\b\b\b\b\b\b\b\b\b\b\b\b\b\b\b\b\b\b\b\b\b\b\b\b\b\b\b\b\b\b\b\b\b\b\b\b\b\b\b\b\b\b\b\b\b\b\b\b\bETA: 2s185ms | Step: 145ms\b\b\b\b\b\b\b\b\b\b\b\b\b\b\b\b\b\b\b\b\b\b\b\b\b\b\b\b\b\b\b\b\b\b\b\b\b\b\b\b\b\b\b\b\b\b\b\b\b\b\b\b\b\b\b\b\b\b\b\b\b\b\b\b\b\b\b\b\b\b\b\b\b 81/96 \r",
        "HERE OPTIM\t\n",
        "BEFORE FORWARD\t\n",
        "1\t\n"
       ]
      },
      {
       "metadata": {},
       "output_type": "pyout",
       "prompt_number": 411,
       "text": [
        "AFTER FORWARD\t\n",
        "NEO\t\n",
        " 4.4898\n",
        " 5.5105\n",
        "[torch.FloatTensor of dimension 2]\n",
        "\n",
        "2\t\n",
        "BLAH\t\n"
       ]
      },
      {
       "metadata": {},
       "output_type": "pyout",
       "prompt_number": 411,
       "text": [
        " ** On entry to SGEMM  parameter number 10 had an illegal value\n"
       ]
      },
      {
       "metadata": {},
       "output_type": "pyout",
       "prompt_number": 411,
       "text": [
        " ** On entry to SGEMM  parameter number 10 had an illegal value\n"
       ]
      },
      {
       "metadata": {},
       "output_type": "pyout",
       "prompt_number": 411,
       "text": [
        "\r",
        " [================================================================>............]     "
       ]
      },
      {
       "metadata": {},
       "output_type": "pyout",
       "prompt_number": 411,
       "text": [
        "                                              \b\b\b\b\b\b\b\b\b\b\b\b\b\b\b\b\b\b\b\b\b\b\b\b\b\b\b\b\b\b\b\b\b\b\b\b\b\b\b\b\b\b\b\b\b\b\b\b\b\bETA: 2s25ms | Step: 144ms\b\b\b\b\b\b\b\b\b\b\b\b\b\b\b\b\b\b\b\b\b\b\b\b\b\b\b\b\b\b\b\b\b\b\b\b\b\b\b\b\b\b\b\b\b\b\b\b\b\b\b\b\b\b\b\b\b\b\b\b\b\b\b\b\b\b\b\b\b\b\b\b 82/96 \r",
        "HERE OPTIM\t\n",
        "BEFORE FORWARD\t\n",
        "1\t\n"
       ]
      },
      {
       "metadata": {},
       "output_type": "pyout",
       "prompt_number": 411,
       "text": [
        "AFTER FORWARD\t\n",
        "NEO\t\n",
        " 4.4449\n",
        " 5.5554\n",
        "[torch.FloatTensor of dimension 2]\n",
        "\n",
        "1\t\n",
        "BLAH\t\n"
       ]
      },
      {
       "metadata": {},
       "output_type": "pyout",
       "prompt_number": 411,
       "text": [
        " ** On entry to SGEMM  parameter number 10 had an illegal value\n"
       ]
      },
      {
       "metadata": {},
       "output_type": "pyout",
       "prompt_number": 411,
       "text": [
        " ** On entry to SGEMM  parameter number 10 had an illegal value\n"
       ]
      },
      {
       "metadata": {},
       "output_type": "pyout",
       "prompt_number": 411,
       "text": [
        "\r",
        " [=================================================================>...........]                             "
       ]
      },
      {
       "metadata": {},
       "output_type": "pyout",
       "prompt_number": 411,
       "text": [
        "                      \b\b\b\b\b\b\b\b\b\b\b\b\b\b\b\b\b\b\b\b\b\b\b\b\b\b\b\b\b\b\b\b\b\b\b\b\b\b\b\b\b\b\b\b\b\b\b\b\b\bETA: 1s859ms | Step: 143ms\b\b\b\b\b\b\b\b\b\b\b\b\b\b\b\b\b\b\b\b\b\b\b\b\b\b\b\b\b\b\b\b\b\b\b\b\b\b\b\b\b\b\b\b\b\b\b\b\b\b\b\b\b\b\b\b\b\b\b\b\b\b\b\b\b\b\b\b\b\b\b\b\b 83/96 \r",
        "HERE OPTIM\t\n",
        "BEFORE FORWARD\t\n",
        "1\t\n"
       ]
      },
      {
       "metadata": {},
       "output_type": "pyout",
       "prompt_number": 411,
       "text": [
        "AFTER FORWARD\t\n",
        "NEO\t\n",
        " 4.4995\n",
        " 5.5008\n",
        "[torch.FloatTensor of dimension 2]\n",
        "\n",
        "2\t\n",
        "BLAH\t\n",
        " ** On entry to SGEMM  parameter number 10 had an illegal value\n"
       ]
      },
      {
       "metadata": {},
       "output_type": "pyout",
       "prompt_number": 411,
       "text": [
        " ** On entry to SGEMM  parameter number 10 had an illegal value\n"
       ]
      },
      {
       "metadata": {},
       "output_type": "pyout",
       "prompt_number": 411,
       "text": [
        "\r",
        " [==================================================================>..........]                                                   \b\b\b\b\b\b\b\b\b\b\b\b\b\b\b\b\b\b\b\b\b\b\b\b\b\b\b\b\b\b\b\b\b\b\b\b\b\b\b\b\b\b\b\b\b\b\b\b\b\bETA: 1s701ms | Step: 141ms\b\b\b\b\b\b\b\b\b\b\b\b\b\b\b\b\b\b\b\b\b\b\b\b\b\b\b\b\b\b\b\b\b\b\b\b\b\b\b\b\b\b\b\b\b\b\b\b\b\b\b\b\b\b\b\b\b\b\b\b\b\b\b\b\b\b\b\b\b\b\b\b\b 84/96 \r"
       ]
      },
      {
       "metadata": {},
       "output_type": "pyout",
       "prompt_number": 411,
       "text": [
        "HERE OPTIM\t\n",
        "BEFORE FORWARD\t\n",
        "1\t\n"
       ]
      },
      {
       "metadata": {},
       "output_type": "pyout",
       "prompt_number": 411,
       "text": [
        "AFTER FORWARD\t\n",
        "NEO\t\n",
        " 4.4555\n",
        " 5.5448\n",
        "[torch.FloatTensor of dimension 2]\n",
        "\n",
        "2\t\n",
        "BLAH\t\n"
       ]
      },
      {
       "metadata": {},
       "output_type": "pyout",
       "prompt_number": 411,
       "text": [
        " ** On entry to SGEMM  parameter number 10 had an illegal value\n"
       ]
      },
      {
       "metadata": {},
       "output_type": "pyout",
       "prompt_number": 411,
       "text": [
        " ** On entry to SGEMM  parameter number 10 had an illegal value\n"
       ]
      },
      {
       "metadata": {},
       "output_type": "pyout",
       "prompt_number": 411,
       "text": [
        "\r",
        " [===================================================================>.........]                                                   \b\b\b\b\b\b\b\b\b\b\b\b\b\b\b\b\b\b\b\b\b\b\b\b\b\b\b\b\b\b\b\b\b\b\b\b\b\b\b\b\b\b\b\b\b\b\b\b\b\bETA: 1s620ms | Step: 147ms\b\b\b\b\b\b\b\b\b\b\b\b\b\b\b\b\b\b\b\b\b\b\b\b\b\b\b\b\b\b\b\b\b\b\b\b\b\b\b\b\b\b\b\b\b\b\b\b\b\b\b\b\b\b\b\b\b\b\b\b\b\b\b\b\b\b\b\b\b\b\b\b\b 85/96 \r",
        "HERE OPTIM\t\n",
        "BEFORE FORWARD\t\n",
        "1\t\n"
       ]
      },
      {
       "metadata": {},
       "output_type": "pyout",
       "prompt_number": 411,
       "text": [
        "AFTER FORWARD\t\n",
        "NEO\t\n",
        " 4.4109\n",
        " 5.5893\n",
        "[torch.FloatTensor of dimension 2]\n",
        "\n",
        "2\t\n",
        "BLAH\t\n",
        " ** On entry to SGEMM  parameter number 10 had an illegal value\n"
       ]
      },
      {
       "metadata": {},
       "output_type": "pyout",
       "prompt_number": 411,
       "text": [
        " ** On entry to SGEMM  parameter number 10 had an illegal value\n"
       ]
      },
      {
       "metadata": {},
       "output_type": "pyout",
       "prompt_number": 411,
       "text": [
        "\r",
        " [===================================================================>.........]                                                   \b\b\b\b\b\b\b\b\b\b\b\b\b\b\b\b\b\b\b\b\b\b\b\b\b\b\b\b\b\b\b\b\b\b\b\b\b\b\b\b\b\b\b\b\b\b\b\b\b\bETA: 1s457ms | Step: 145ms\b\b\b\b\b\b\b\b\b\b\b\b\b\b\b\b\b\b\b\b\b\b\b\b\b\b\b\b\b\b\b\b\b\b\b\b\b\b\b\b\b\b\b\b\b\b\b\b\b\b\b\b\b\b\b\b\b\b\b\b\b\b\b\b\b\b\b\b\b\b\b\b\b 86/"
       ]
      },
      {
       "metadata": {},
       "output_type": "pyout",
       "prompt_number": 411,
       "text": [
        "96 \r",
        "HERE OPTIM\t\n",
        "BEFORE FORWARD\t\n",
        "1\t\n"
       ]
      },
      {
       "metadata": {},
       "output_type": "pyout",
       "prompt_number": 411,
       "text": [
        "AFTER FORWARD\t\n",
        "NEO\t\n",
        " 4.3668\n",
        " 5.6334\n",
        "[torch.FloatTensor of dimension 2]\n",
        "\n",
        "2\t\n"
       ]
      },
      {
       "metadata": {},
       "output_type": "pyout",
       "prompt_number": 411,
       "text": [
        "BLAH\t\n",
        " ** On entry to SGEMM  parameter number 10 had an illegal value\n"
       ]
      },
      {
       "metadata": {},
       "output_type": "pyout",
       "prompt_number": 411,
       "text": [
        " ** On entry to SGEMM  parameter number 10 had an illegal value\n"
       ]
      },
      {
       "metadata": {},
       "output_type": "pyout",
       "prompt_number": 411,
       "text": [
        "\r",
        " [====================================================================>........]                                                   \b\b\b\b\b\b\b\b\b\b\b\b\b\b\b\b\b\b\b\b\b\b\b\b\b\b\b\b\b\b\b\b\b\b\b\b\b\b\b\b\b\b\b\b\b\b\b\b\b\bETA: 1s301ms | Step: 144ms\b\b\b\b\b\b\b\b\b\b\b\b\b\b\b\b\b\b\b\b\b\b\b\b\b\b\b\b\b\b\b\b\b\b\b\b\b\b\b\b\b\b\b\b\b\b\b\b\b\b\b\b\b\b\b\b\b\b\b\b\b\b\b\b\b\b\b\b\b\b\b\b\b 87/96 \r",
        "HERE OPTIM\t\n",
        "BEFORE FORWARD\t\n",
        "1\t\n"
       ]
      },
      {
       "metadata": {},
       "output_type": "pyout",
       "prompt_number": 411,
       "text": [
        "AFTER FORWARD\t\n",
        "NEO\t\n",
        " 4.3231\n",
        " 5.6771\n",
        "[torch.FloatTensor of dimension 2]\n",
        "\n",
        "2\t\n",
        "BLAH\t\n",
        " ** On entry to SGEMM  parameter number 10 had an illegal value\n"
       ]
      },
      {
       "metadata": {},
       "output_type": "pyout",
       "prompt_number": 411,
       "text": [
        " ** On entry to SGEMM  parameter number 10 had an illegal value\n"
       ]
      },
      {
       "metadata": {},
       "output_type": "pyout",
       "prompt_number": 411,
       "text": [
        "\r",
        " [=====================================================================>.......]                                                   \b\b\b\b\b\b\b\b\b\b\b\b\b\b\b\b\b\b\b\b\b\b\b\b\b\b\b\b\b\b\b\b\b\b\b\b\b\b\b\b\b\b\b\b\b\b\b\b\b\bETA: 1s147ms | Step: 143ms\b\b\b\b\b\b\b\b\b\b\b\b\b\b\b\b\b\b\b\b\b\b\b\b\b\b\b\b\b\b\b\b\b\b\b\b\b\b\b\b\b\b\b\b\b\b\b\b\b\b\b\b\b\b\b\b\b\b\b\b\b\b\b\b\b\b\b\b\b\b\b\b\b 88/96 \r",
        "HERE OPTIM\t\n",
        "BEFORE FORWARD\t\n",
        "1\t\n"
       ]
      },
      {
       "metadata": {},
       "output_type": "pyout",
       "prompt_number": 411,
       "text": [
        "AFTER FORWARD\t\n",
        "NEO\t\n",
        " 4.2799\n",
        " 5.7203\n",
        "[torch.FloatTensor of dimension 2]\n",
        "\n",
        "1\t\n",
        "BLAH\t\n"
       ]
      },
      {
       "metadata": {},
       "output_type": "pyout",
       "prompt_number": 411,
       "text": [
        " ** On entry to SGEMM  parameter number 10 had an illegal value\n"
       ]
      },
      {
       "metadata": {},
       "output_type": "pyout",
       "prompt_number": 411,
       "text": [
        " ** On entry to SGEMM  parameter number 10 had an illegal value\n"
       ]
      },
      {
       "metadata": {},
       "output_type": "pyout",
       "prompt_number": 411,
       "text": [
        "\r",
        " [======================================================================>......]                                                   \b\b\b\b\b\b\b\b\b\b\b\b\b\b\b\b\b\b\b\b\b\b\b\b\b\b\b\b\b\b\b\b\b\b\b\b\b\b\b\b\b\b\b\b\b\b\b\b\b\bETA: 993ms | Step: 141ms\b\b\b\b\b\b\b\b\b\b\b\b\b\b\b\b\b\b\b\b\b\b\b\b\b\b\b\b\b\b\b\b\b\b\b\b\b\b\b\b\b\b\b\b\b\b\b\b\b\b\b\b\b\b\b\b\b\b\b\b\b\b\b\b\b\b\b\b\b\b\b 89/96 \r",
        "HERE OPTIM\t\n",
        "BEFORE FORWARD\t\n",
        "1\t\n"
       ]
      },
      {
       "metadata": {},
       "output_type": "pyout",
       "prompt_number": 411,
       "text": [
        "AFTER FORWARD\t\n",
        "NEO\t\n",
        " 4.3361\n",
        " 5.6641\n",
        "[torch.FloatTensor of dimension 2]\n",
        "\n",
        "1\t\n",
        "BLAH\t\n",
        " ** On entry to SGEMM  parameter number 10 had an illegal value\n"
       ]
      },
      {
       "metadata": {},
       "output_type": "pyout",
       "prompt_number": 411,
       "text": [
        " ** On entry to SGEMM  parameter number 10 had an illegal value\n"
       ]
      },
      {
       "metadata": {},
       "output_type": "pyout",
       "prompt_number": 411,
       "text": [
        "\r",
        " [=======================================================================>.....]                                                   \b\b\b\b\b\b\b\b\b\b\b\b\b\b\b\b\b\b\b\b\b\b\b\b\b\b\b\b\b\b\b\b\b\b\b\b\b\b\b\b\b\b\b\b\b\b\b\b\b\bETA: 842ms | Step: 140ms\b\b\b\b\b\b\b\b\b\b\b\b\b\b\b\b\b\b\b\b\b\b\b\b\b\b\b\b\b\b\b\b\b\b\b\b\b\b\b\b\b\b\b\b\b\b\b\b\b\b\b\b\b\b\b\b\b\b\b\b\b\b\b\b\b\b\b\b\b\b\b 90/96 \r",
        "HERE OPTIM\t\n",
        "BEFORE FORWARD\t\n",
        "1\t\n"
       ]
      },
      {
       "metadata": {},
       "output_type": "pyout",
       "prompt_number": 411,
       "text": [
        "AFTER FORWARD\t\n",
        "NEO\t\n",
        " 4.3927\n",
        " 5.6075\n",
        "[torch.FloatTensor of dimension 2]\n",
        "\n",
        "2\t\n",
        "BLAH\t\n",
        " ** On entry to SGEMM  parameter number 10 had an illegal value\n"
       ]
      },
      {
       "metadata": {},
       "output_type": "pyout",
       "prompt_number": 411,
       "text": [
        " ** On entry to SGEMM  parameter number 10 had an illegal value\n"
       ]
      },
      {
       "metadata": {},
       "output_type": "pyout",
       "prompt_number": 411,
       "text": [
        "\r",
        " [=======================================================================>.....]                                                   \b\b\b\b\b\b\b\b\b\b\b\b\b\b\b\b\b\b\b\b\b\b\b\b\b\b\b\b\b\b\b\b\b\b\b\b\b\b\b\b\b\b\b\b\b\b\b\b\b\bETA: 698ms | Step: 139ms\b\b\b\b\b\b\b\b\b\b\b\b\b\b\b\b\b\b\b\b\b\b\b\b\b\b\b\b\b\b\b\b\b\b\b\b\b\b\b\b\b\b\b\b\b\b\b\b\b\b\b\b\b\b\b\b\b\b\b\b\b\b\b\b\b\b\b\b\b\b\b 91/96 \r",
        "HERE OPTIM\t\n",
        "BEFORE FORWARD\t\n",
        "1\t\n"
       ]
      },
      {
       "metadata": {},
       "output_type": "pyout",
       "prompt_number": 411,
       "text": [
        "AFTER FORWARD\t\n",
        "NEO\t\n",
        " 4.3498\n",
        " 5.6504\n",
        "[torch.FloatTensor of dimension 2]\n",
        "\n",
        "1\t\n",
        "BLAH\t\n",
        " ** On entry to SGEMM  parameter number 10 had an illegal value\n"
       ]
      },
      {
       "metadata": {},
       "output_type": "pyout",
       "prompt_number": 411,
       "text": [
        " ** On entry to SGEMM  parameter number 10 had an illegal value\n"
       ]
      },
      {
       "metadata": {},
       "output_type": "pyout",
       "prompt_number": 411,
       "text": [
        "\r",
        " [========================================================================>....]                                                   \b\b\b\b\b\b\b\b\b\b\b\b\b\b\b\b\b\b\b\b\b\b\b\b\b\b\b\b\b\b\b\b\b\b\b\b\b\b\b\b\b\b\b\b\b\b\b\b\b\bETA: 552ms | Step: 138ms\b\b\b\b\b\b\b\b\b\b\b\b\b\b\b\b\b\b\b\b\b\b\b\b\b\b\b\b\b\b\b\b\b\b\b\b\b\b\b\b\b\b\b\b\b\b\b\b\b\b\b\b\b\b\b\b\b\b\b\b\b\b\b\b\b\b\b\b\b\b\b 92/96 \r",
        "HERE OPTIM\t\n",
        "BEFORE FORWARD\t\n",
        "1\t\n"
       ]
      },
      {
       "metadata": {},
       "output_type": "pyout",
       "prompt_number": 411,
       "text": [
        "AFTER FORWARD\t\n",
        "NEO\t\n",
        " 4.4053\n",
        " 5.5949\n",
        "[torch.FloatTensor of dimension 2]\n",
        "\n",
        "2\t\n",
        "BLAH\t\n"
       ]
      },
      {
       "metadata": {},
       "output_type": "pyout",
       "prompt_number": 411,
       "text": [
        " ** On entry to SGEMM  parameter number 10 had an illegal value\n"
       ]
      },
      {
       "metadata": {},
       "output_type": "pyout",
       "prompt_number": 411,
       "text": [
        " ** On entry to SGEMM  parameter number 10 had an illegal value\n"
       ]
      },
      {
       "metadata": {},
       "output_type": "pyout",
       "prompt_number": 411,
       "text": [
        "\r",
        " [=========================================================================>...]                                                   \b\b\b\b\b\b\b\b\b\b\b\b\b\b\b\b\b\b\b\b\b\b\b\b\b\b\b\b\b\b\b\b\b\b\b\b\b\b\b\b\b\b\b\b\b\b\b\b\b\bETA: 412ms | Step: 137ms\b\b\b\b\b\b\b\b\b\b\b\b\b\b\b\b\b\b\b\b\b\b\b\b\b\b\b\b\b\b\b\b\b\b\b\b\b\b\b\b\b\b\b\b\b\b\b\b\b\b\b\b\b\b\b\b\b\b\b\b\b\b\b\b\b\b\b\b\b\b\b 93/96 \r",
        "HERE OPTIM\t\n",
        "BEFORE FORWARD\t\n",
        "1\t\n"
       ]
      },
      {
       "metadata": {},
       "output_type": "pyout",
       "prompt_number": 411,
       "text": [
        "AFTER FORWARD\t\n",
        "NEO\t\n",
        " 4.3623\n",
        " 5.6380\n",
        "[torch.FloatTensor of dimension 2]\n",
        "\n",
        "2\t\n",
        "BLAH\t\n"
       ]
      },
      {
       "metadata": {},
       "output_type": "pyout",
       "prompt_number": 411,
       "text": [
        " ** On entry to SGEMM  parameter number 10 had an illegal value\n"
       ]
      },
      {
       "metadata": {},
       "output_type": "pyout",
       "prompt_number": 411,
       "text": [
        " ** On entry to SGEMM  parameter number 10 had an illegal value\n"
       ]
      },
      {
       "metadata": {},
       "output_type": "pyout",
       "prompt_number": 411,
       "text": [
        "\r",
        " [==========================================================================>..]                                                   \b\b\b\b\b\b\b\b\b\b\b\b\b\b\b\b\b\b\b\b\b\b\b\b\b\b\b\b\b\b\b\b\b\b\b\b\b\b\b\b\b\b\b\b\b\b\b\b\b\bETA: 273ms | Step: 136ms\b\b\b\b\b\b\b\b\b\b\b\b\b\b\b\b\b\b\b\b\b\b\b\b\b\b\b\b\b\b\b\b\b\b\b\b\b\b\b\b\b\b\b\b\b\b\b\b\b\b\b\b\b\b\b\b\b\b\b\b\b\b\b\b\b\b\b\b\b\b\b 94/96 \r",
        "HERE OPTIM\t\n",
        "BEFORE FORWARD\t\n",
        "1\t\n"
       ]
      },
      {
       "metadata": {},
       "output_type": "pyout",
       "prompt_number": 411,
       "text": [
        "AFTER FORWARD\t\n",
        "NEO\t\n",
        " 4.3186\n",
        " 5.6816\n",
        "[torch.FloatTensor of dimension 2]\n",
        "\n",
        "1\t\n",
        "BLAH\t\n",
        " ** On entry to SGEMM  parameter number 10 had an illegal value\n"
       ]
      },
      {
       "metadata": {},
       "output_type": "pyout",
       "prompt_number": 411,
       "text": [
        " ** On entry to SGEMM  parameter number 10 had an illegal value\n"
       ]
      },
      {
       "metadata": {},
       "output_type": "pyout",
       "prompt_number": 411,
       "text": [
        "\r",
        " [========================"
       ]
      },
      {
       "metadata": {},
       "output_type": "pyout",
       "prompt_number": 411,
       "text": [
        "===================================================>.]                                                   \b\b\b\b\b\b\b\b\b\b\b\b\b\b\b\b\b\b\b\b\b\b\b\b\b\b\b\b\b\b\b\b\b\b\b\b\b\b\b\b\b\b\b\b\b\b\b\b\b\bETA: 135ms | Step: 135ms\b\b\b\b\b\b\b\b\b\b\b\b\b\b\b\b\b\b\b\b\b\b\b\b\b\b\b\b\b\b\b\b\b\b\b\b\b\b\b\b\b\b\b\b\b\b\b\b\b\b\b\b\b\b\b\b\b\b\b\b\b\b\b\b\b\b\b\b\b\b\b 95/96 \r",
        "HERE OPTIM\t\n",
        "BEFORE FORWARD\t\n",
        "1\t\n"
       ]
      },
      {
       "metadata": {},
       "output_type": "pyout",
       "prompt_number": 411,
       "text": [
        "AFTER FORWARD\t\n",
        "NEO\t\n",
        " 4.3744\n",
        " 5.6258\n",
        "[torch.FloatTensor of dimension 2]\n",
        "\n",
        "1\t\n",
        "BLAH\t\n",
        " ** On entry to SGEMM  parameter number 10 had an illegal value\n"
       ]
      },
      {
       "metadata": {},
       "output_type": "pyout",
       "prompt_number": 411,
       "text": [
        " ** On entry to SGEMM  parameter number 10 had an illegal value\n"
       ]
      },
      {
       "metadata": {},
       "output_type": "pyout",
       "prompt_number": 411,
       "text": [
        "\r",
        " [============================================================================>]                                                   \b\b\b\b\b\b\b\b\b\b\b\b\b\b\b\b\b\b\b\b\b\b\b\b\b\b\b\b\b\b\b\b\b\b\b\b\b\b\b\b\b\b\b\b\b\b\b\b\b\bETA: 0ms | Step: 134ms\b\b\b\b\b\b\b\b\b\b\b\b\b\b\b\b\b\b\b\b\b\b\b\b\b\b\b\b\b\b\b\b\b\b\b\b\b\b\b\b\b\b\b\b\b\b\b\b\b\b\b\b\b\b\b\b\b\b\b\b\b\b\b\b\b\b\b\b\b 96/96 \n",
        "\r",
        "HERE OPTIM\t\n",
        "BEFORE FORWARD\t\n",
        "1\t\n"
       ]
      },
      {
       "metadata": {},
       "output_type": "pyout",
       "prompt_number": 411,
       "text": [
        "AFTER FORWARD\t\n",
        "NEO\t\n",
        " 4.4307\n",
        " 5.5695\n",
        "[torch.FloatTensor of dimension 2]\n",
        "\n",
        "1\t\n",
        "BLAH\t\n",
        " ** On entry to SGEMM  parameter number 10 had an illegal value\n"
       ]
      },
      {
       "metadata": {},
       "output_type": "pyout",
       "prompt_number": 411,
       "text": [
        " ** On entry to SGEMM  parameter number 10 had an illegal value\n"
       ]
      },
      {
       "metadata": {},
       "output_type": "pyout",
       "prompt_number": 411,
       "text": [
        "\n",
        "==> time to learn 1 sample = 132.87764539321ms\t\n",
        "ConfusionMatrix:\n",
        "[[       0      44]   0.000% \t[class: Classical]\n",
        " [       0      52]]  100.000% \t[class: Jazz]\n",
        " + average row correct: 50% \n",
        " + average rowUcol correct (VOC measure): 27.083334326744% \n",
        " + global correct: 54.166666666667%\n",
        "{\n",
        "  averageUnionValid : 0.27083334326744\n",
        "  _targ_idx : LongTensor - empty\n",
        "  valids : FloatTensor - size: 2\n",
        "  classes : \n",
        "    {\n",
        "      1 : Classical\n",
        "      2 : Jazz\n",
        "    }\n",
        "  _target : FloatTensor - empty\n",
        "  mat : FloatTensor - size: 2x2\n",
        "  _pred_idx : LongTensor - size: 1\n",
        "  _max : FloatTensor - size: 1\n",
        "  unionvalids : FloatTensor - size: 2\n",
        "  nclasses : 2\n",
        "  totalValid : 0.54166666666667\n",
        "  _prediction : FloatTensor - size: 2\n",
        "  averageValid : 0.5\n",
        "}\n"
       ]
      },
      {
       "metadata": {},
       "output_type": "pyout",
       "prompt_number": 411,
       "text": [
        "==> saving model to /home/ace/Desktop/Recurrent-Neural-Net-Music-Classification/model.net\t\n"
       ]
      }
     ],
     "prompt_number": 411
    },
    {
     "cell_type": "code",
     "collapsed": false,
     "input": [
      "function test()\n",
      "   -- local vars\n",
      "   local time = sys.clock()\n",
      "\n",
      "   -- averaged param use?\n",
      "   if average then\n",
      "      cachedparams = parameters:clone()\n",
      "      parameters:copy(average)\n",
      "   end\n",
      "\n",
      "   -- set model to evaluate mode (for modules that differ in training and testing, like Dropout)\n",
      "   model:evaluate()\n",
      "\n",
      "   -- test over test data\n",
      "   print('==> testing on test set:')\n",
      "   for t = 1,testData:size() do\n",
      "      -- disp progress\n",
      "      xlua.progress(t, testData:size())\n",
      "\n",
      "      -- get new sample\n",
      "      local input = testData.data[t]\n",
      "      input = input:double()\n",
      "      local target = testData.labels[t]\n",
      "\n",
      "      -- test sample\n",
      "      local pred = model:forward(input)\n",
      "      confusion:add(pred, target)\n",
      "   end\n",
      "\n",
      "   -- timing\n",
      "   time = sys.clock() - time\n",
      "   time = time / testData:size()\n",
      "   print(\"\\n==> time to test 1 sample = \" .. (time*1000) .. 'ms')\n",
      "\n",
      "   -- print confusion matrix\n",
      "   print(confusion)\n",
      "\n",
      "   -- update log/plot\n",
      "   testLogger:add{['% mean class accuracy (test set)'] = confusion.totalValid * 100}\n",
      "   if true then\n",
      "      testLogger:style{['% mean class accuracy (test set)'] = '-'}\n",
      "      testLogger:plot()\n",
      "   end\n",
      "\n",
      "   -- averaged param use?\n",
      "   if average then\n",
      "      -- restore parameters\n",
      "      parameters:copy(cachedparams)\n",
      "   end\n",
      "   \n",
      "   -- next iteration:\n",
      "   confusion:zero()\n",
      "end"
     ],
     "language": "python",
     "metadata": {},
     "outputs": [],
     "prompt_number": 412
    },
    {
     "cell_type": "code",
     "collapsed": false,
     "input": [
      "for i=1,20 do\n",
      "    train()\n",
      "    --test()\n",
      "end"
     ],
     "language": "python",
     "metadata": {},
     "outputs": [
      {
       "metadata": {},
       "output_type": "pyout",
       "prompt_number": 413,
       "text": [
        "0\t\n",
        "==> doing epoch on training data:\t\n",
        "==> online epoch # 2 [batchSize = 64]\t\n",
        "96\t\n",
        " [.............................................................................]                                                   \b\b\b\b\b\b\b\b\b\b\b\b\b\b\b\b\b\b\b\b\b\b\b\b\b\b\b\b\b\b\b\b\b\b\b\b\b\b\b\b\b\b\b\b\b\b\b\b\b\bETA: 0ms | Step: 0ms\b\b\b\b\b\b\b\b\b\b\b\b\b\b\b\b\b\b\b\b\b\b\b\b\b\b\b\b\b\b\b\b\b\b\b\b\b\b\b\b\b\b\b\b\b\b\b\b\b\b\b\b\b\b\b\b\b\b\b\b\b\b\b\b\b\b\b 1/96 \r",
        "HERE OPTIM\t\n",
        "BEFORE FORWARD\t\n",
        "1\t\n"
       ]
      },
      {
       "metadata": {},
       "output_type": "pyout",
       "prompt_number": 413,
       "text": [
        "AFTER FORWARD\t\n",
        "NEO\t\n",
        " 4.4864\n",
        " 5.5138\n",
        "[torch.FloatTensor of dimension 2]\n",
        "\n",
        "2\t\n",
        "BLAH\t\n",
        " ** On entry to SGEMM  parameter number 10 had an illegal value\n",
        " ** On entry to SGEMM  parameter number 10 had an illegal value\n"
       ]
      },
      {
       "metadata": {},
       "output_type": "pyout",
       "prompt_number": 413,
       "text": [
        "\r",
        " [>............................................................................]                                                   \b\b\b\b\b\b\b\b\b\b\b\b\b\b\b\b\b\b\b\b\b\b\b\b\b\b\b\b\b\b\b\b\b\b\b\b\b\b\b\b\b\b\b\b\b\b\b\b\b\bETA: 1s595ms | Step: 16ms\b\b\b\b\b\b\b\b\b\b\b\b\b\b\b\b\b\b\b\b\b\b\b\b\b\b\b\b\b\b\b\b\b\b\b\b\b\b\b\b\b\b\b\b\b\b\b\b\b\b\b\b\b\b\b\b\b\b\b\b\b\b\b\b\b\b\b\b\b\b\b\b 2/96 \r",
        "HERE OPTIM\t\n",
        "BEFORE FORWARD\t\n",
        "1\t\n"
       ]
      },
      {
       "metadata": {},
       "output_type": "pyout",
       "prompt_number": 413,
       "text": [
        "AFTER FORWARD\t\n",
        "NEO\t\n",
        " 4.4425\n",
        " 5.5577\n",
        "[torch.FloatTensor of dimension 2]\n",
        "\n",
        "2\t\n",
        "BLAH\t\n",
        " ** On entry to SGEMM  parameter number 10 had an illegal value\n"
       ]
      },
      {
       "metadata": {},
       "output_type": "pyout",
       "prompt_number": 413,
       "text": [
        " ** On entry to SGEMM  parameter number 10 had an illegal value\n"
       ]
      },
      {
       "metadata": {},
       "output_type": "pyout",
       "prompt_number": 413,
       "text": [
        "\r",
        " [=>...........................................................................]                                                   \b\b\b\b\b\b\b\b\b\b\b\b\b\b\b\b\b\b\b\b\b\b\b\b\b\b\b\b\b\b\b\b\b\b\b\b\b\b\b\b\b\b\b\b\b\b\b\b\b\bETA: 2s306ms | Step: 24ms\b\b\b\b\b\b\b\b\b\b\b\b\b\b\b\b\b\b\b\b\b\b\b\b\b\b\b\b\b\b\b\b\b\b\b\b\b\b\b\b\b\b\b\b\b\b\b\b\b\b\b\b\b\b\b\b\b\b\b\b\b\b\b\b\b\b\b\b\b\b\b\b 3/96 \r",
        "HERE OPTIM\t\n",
        "BEFORE FORWARD\t\n",
        "1\t\n"
       ]
      },
      {
       "metadata": {},
       "output_type": "pyout",
       "prompt_number": 413,
       "text": [
        "AFTER FORWARD\t\n",
        "NEO\t\n",
        " 4.3981\n",
        " 5.6021\n",
        "[torch.FloatTensor of dimension 2]\n",
        "\n",
        "2\t\n",
        "BLAH\t\n"
       ]
      },
      {
       "metadata": {},
       "output_type": "pyout",
       "prompt_number": 413,
       "text": [
        " ** On entry to SGEMM  parameter number 10 had an illegal value\n"
       ]
      },
      {
       "metadata": {},
       "output_type": "pyout",
       "prompt_number": 413,
       "text": [
        " ** On entry to SGEMM  parameter number 10 had an illegal value\n"
       ]
      },
      {
       "metadata": {},
       "output_type": "pyout",
       "prompt_number": 413,
       "text": [
        "\r",
        " [==>..........................................................................]                                                   \b\b\b\b\b\b\b\b\b\b\b\b\b\b\b\b\b\b\b\b\b\b\b\b\b\b\b\b\b\b\b\b\b\b\b\b\b\b\b\b\b\b\b\b\b\b\b\b\b\bETA: 11s912ms | Step: 129ms\b\b\b\b\b\b\b\b\b\b\b\b\b\b\b\b\b\b\b\b\b\b\b\b\b\b\b\b\b\b\b\b\b\b\b\b\b\b\b\b\b\b\b\b\b\b\b\b\b\b\b\b\b\b\b\b\b\b\b\b\b\b\b\b\b\b\b\b\b\b\b\b\b\b 4/96 \r",
        "HERE OPTIM\t\n",
        "BEFORE FORWARD\t\n",
        "1\t\n"
       ]
      },
      {
       "metadata": {},
       "output_type": "pyout",
       "prompt_number": 413,
       "text": [
        "AFTER FORWARD\t\n",
        "NEO\t\n",
        " 4.3541\n",
        " 5.6461\n",
        "[torch.FloatTensor of dimension 2]\n",
        "\n",
        "1\t\n",
        "BLAH\t\n",
        " ** On entry to SGEMM  parameter number 10 had an illegal value\n"
       ]
      },
      {
       "metadata": {},
       "output_type": "pyout",
       "prompt_number": 413,
       "text": [
        " ** On entry to SGEMM  parameter number 10 had an illegal value\n"
       ]
      },
      {
       "metadata": {},
       "output_type": "pyout",
       "prompt_number": 413,
       "text": [
        "\r",
        " [===>.........................................................................]                                                   \b\b\b\b\b\b\b\b\b\b\b\b\b\b\b\b\b\b\b\b\b\b\b\b\b\b\b\b\b\b\b\b\b\b\b\b\b\b\b\b\b\b\b\b\b\b\b\b\b\bETA: 9s143ms | Step: 100ms\b\b\b\b\b\b\b\b\b\b\b\b\b\b\b\b\b\b\b\b\b\b\b\b\b\b\b\b\b\b\b\b\b\b\b\b\b\b\b\b\b\b\b"
       ]
      },
      {
       "metadata": {},
       "output_type": "pyout",
       "prompt_number": 413,
       "text": [
        "\b\b\b\b\b\b\b\b\b\b\b\b\b\b\b\b\b\b\b\b\b\b\b\b\b\b\b\b\b\b 5/96 \r",
        "HERE OPTIM\t\n",
        "BEFORE FORWARD\t\n",
        "1\t\n"
       ]
      },
      {
       "metadata": {},
       "output_type": "pyout",
       "prompt_number": 413,
       "text": [
        "AFTER FORWARD\t\n",
        "NEO\t\n"
       ]
      },
      {
       "metadata": {},
       "output_type": "pyout",
       "prompt_number": 413,
       "text": [
        " 4.4096\n",
        " 5.5907\n",
        "[torch.FloatTensor of dimension 2]\n",
        "\n",
        "1\t\n",
        "BLAH\t\n",
        " ** On entry to SGEMM  parameter number 10 had an illegal value\n"
       ]
      },
      {
       "metadata": {},
       "output_type": "pyout",
       "prompt_number": 413,
       "text": [
        " ** On entry to SGEMM  parameter number 10 had an illegal value\n"
       ]
      },
      {
       "metadata": {},
       "output_type": "pyout",
       "prompt_number": 413,
       "text": [
        "\r",
        " [===>.........................................................................]                                                   \b\b\b\b\b\b\b\b\b\b\b\b\b\b\b\b\b\b\b\b\b\b\b\b\b\b\b\b\b\b\b\b\b\b\b\b\b\b\b\b\b\b\b\b\b\b\b\b\b\bETA: 7s443ms | Step: 82ms\b\b\b\b\b\b\b\b\b\b\b\b\b\b\b\b\b\b\b\b\b\b\b\b\b\b\b\b\b\b\b\b\b\b\b\b\b\b\b\b\b\b\b\b\b\b\b\b\b\b\b\b\b\b\b\b\b\b\b\b\b\b\b\b\b\b\b\b\b\b\b\b 6/96 \r",
        "HERE OPTIM\t\n",
        "BEFORE FORWARD\t\n",
        "1\t\n"
       ]
      },
      {
       "metadata": {},
       "output_type": "pyout",
       "prompt_number": 413,
       "text": [
        "AFTER FORWARD\t\n",
        "NEO\t\n",
        " 4.4655\n",
        " 5.5348\n",
        "[torch.FloatTensor of dimension 2]\n",
        "\n",
        "2\t\n",
        "BLAH\t\n"
       ]
      },
      {
       "metadata": {},
       "output_type": "pyout",
       "prompt_number": 413,
       "text": [
        " ** On entry to SGEMM  parameter number 10 had an illegal value\n"
       ]
      },
      {
       "metadata": {},
       "output_type": "pyout",
       "prompt_number": 413,
       "text": [
        " ** On entry to SGEMM  parameter number 10 had an illegal value\n"
       ]
      },
      {
       "metadata": {},
       "output_type": "pyout",
       "prompt_number": 413,
       "text": [
        "\r",
        " [====>........................................................................]                                                   \b\b\b\b\b\b\b\b\b\b\b\b\b\b\b\b\b\b\b\b\b\b\b\b\b\b\b\b\b\b\b\b\b\b\b\b\b\b\b\b\b\b\b\b\b\b\b\b\b\bETA: 15s914ms | Step: 178ms\b\b\b\b\b\b\b\b\b\b\b\b\b\b\b\b\b\b\b\b\b\b\b\b\b\b\b\b\b\b\b\b\b\b\b\b\b\b\b\b\b\b\b\b\b\b\b\b\b\b\b\b\b\b\b\b\b\b\b\b\b\b\b\b\b\b\b\b\b\b\b\b\b\b 7/96 \r",
        "HERE OPTIM\t\n",
        "BEFORE FORWARD\t\n",
        "1\t\n"
       ]
      },
      {
       "metadata": {},
       "output_type": "pyout",
       "prompt_number": 413,
       "text": [
        "AFTER FORWARD\t\n",
        "NEO\t\n",
        " 4.4218\n",
        " 5.5785\n",
        "[torch.FloatTensor of dimension 2]\n",
        "\n",
        "2\t\n",
        "BLAH\t\n"
       ]
      },
      {
       "metadata": {},
       "output_type": "pyout",
       "prompt_number": 413,
       "text": [
        " ** On entry to SGEMM  parameter number 10 had an illegal value\n"
       ]
      },
      {
       "metadata": {},
       "output_type": "pyout",
       "prompt_number": 413,
       "text": [
        " ** On entry to SGEMM  parameter number 10 had an illegal value\n"
       ]
      },
      {
       "metadata": {},
       "output_type": "pyout",
       "prompt_number": 413,
       "text": [
        "\r",
        " [=====>.......................................................................]                                                   \b\b\b\b\b\b\b\b\b\b\b\b\b\b\b\b\b\b\b\b\b\b\b\b\b\b\b\b\b\b\b\b\b\b\b\b\b\b\b\b\b\b\b\b\b\b\b\b\b\bETA: 15s421ms | Step: 175ms\b\b\b\b\b\b\b\b\b\b\b\b\b\b\b\b\b\b\b\b\b\b\b\b\b\b\b\b\b\b\b\b\b\b\b\b\b\b\b\b\b\b\b\b\b\b\b\b\b\b\b\b\b\b\b\b\b\b\b\b\b\b\b\b\b\b\b\b\b\b\b\b\b\b 8/96 \r",
        "HERE OPTIM\t\n",
        "BEFORE FORWARD\t\n",
        "1\t\n"
       ]
      },
      {
       "metadata": {},
       "output_type": "pyout",
       "prompt_number": 413,
       "text": [
        "AFTER FORWARD\t\n",
        "NEO\t\n",
        " 4.3776\n",
        " 5.6227\n",
        "[torch.FloatTensor of dimension 2]\n",
        "\n",
        "1\t\n",
        "BLAH\t\n",
        " ** On entry to SGEMM  parameter number 10 had an illegal value\n"
       ]
      },
      {
       "metadata": {},
       "output_type": "pyout",
       "prompt_number": 413,
       "text": [
        " ** On entry to SGEMM  parameter number 10 had an illegal value\n",
        "\r",
        " [======>......................................................................]                                                   \b\b\b\b\b\b\b\b\b\b\b\b\b\b\b\b\b\b\b\b\b\b\b\b\b\b\b\b\b\b\b\b\b\b\b\b\b\b\b\b\b\b\b\b\b\b\b\b\b\bETA: 13s480ms | Step: 154ms\b\b\b\b\b\b\b\b\b\b\b\b\b\b\b\b\b\b\b\b\b\b\b\b\b\b\b\b\b\b\b\b\b\b\b\b\b\b\b\b\b\b\b\b\b\b\b\b\b\b\b\b\b\b\b\b\b\b\b\b\b\b\b\b\b\b\b\b\b\b\b\b\b\b 9/96 \r",
        "HERE OPTIM\t\n",
        "BEFORE FORWARD\t\n",
        "1\t\n"
       ]
      },
      {
       "metadata": {},
       "output_type": "pyout",
       "prompt_number": 413,
       "text": [
        "AFTER FORWARD\t\n",
        "NEO\t\n",
        " 4.4328\n",
        " 5.5675\n",
        "[torch.FloatTensor of dimension 2]\n",
        "\n",
        "1\t\n",
        "BLAH\t\n"
       ]
      },
      {
       "metadata": {},
       "output_type": "pyout",
       "prompt_number": 413,
       "text": [
        " ** On entry to SGEMM  parameter number 10 had an illegal value\n"
       ]
      },
      {
       "metadata": {},
       "output_type": "pyout",
       "prompt_number": 413,
       "text": [
        " ** On entry to SGEMM  parameter number 10 had an illegal value\n"
       ]
      },
      {
       "metadata": {},
       "output_type": "pyout",
       "prompt_number": 413,
       "text": [
        "\r",
        " [=======>.....................................................................]                                                   \b\b\b\b\b\b\b\b\b\b\b\b\b\b\b\b\b\b\b\b\b\b\b\b\b\b\b\b\b\b\b\b\b\b\b\b\b\b\b\b\b\b\b\b\b\b\b\b\b\bETA: 11s959ms | Step: 139ms\b\b\b\b\b"
       ]
      },
      {
       "metadata": {},
       "output_type": "pyout",
       "prompt_number": 413,
       "text": [
        "\b\b\b\b\b\b\b\b\b\b\b\b\b\b\b\b\b\b\b\b\b\b\b\b\b\b\b\b\b\b\b\b\b\b\b\b\b\b\b\b\b\b\b\b\b\b\b\b\b\b\b\b\b\b\b\b\b\b\b\b\b\b\b\b\b\b\b\b\b 10/96 \r",
        "HERE OPTIM\t\n",
        "BEFORE FORWARD\t\n",
        "1\t\n"
       ]
      },
      {
       "metadata": {},
       "output_type": "pyout",
       "prompt_number": 413,
       "text": [
        "AFTER FORWARD\t\n",
        "NEO\t\n",
        " 4.4885\n",
        " 5.5118\n",
        "[torch.FloatTensor of dimension 2]\n",
        "\n",
        "1\t\n",
        "BLAH\t\n",
        " ** On entry to SGEMM  parameter number 10 had an illegal value\n",
        " ** On entry to SGEMM  parameter number 10 had an illegal value\n"
       ]
      },
      {
       "metadata": {},
       "output_type": "pyout",
       "prompt_number": 413,
       "text": [
        "\r",
        " [=======>.........................................................."
       ]
      },
      {
       "metadata": {},
       "output_type": "pyout",
       "prompt_number": 413,
       "text": [
        "...........]                                                   \b\b\b\b\b\b\b\b\b\b\b\b\b\b\b\b\b\b\b\b\b\b\b\b\b\b\b\b\b\b\b\b\b\b\b\b\b\b\b\b\b\b\b\b\b\b\b\b\b\bETA: 10s753ms | Step: 126ms\b\b\b\b\b\b\b\b\b\b\b\b\b\b\b\b\b\b\b\b\b\b\b\b\b\b\b\b\b\b\b\b\b\b\b\b\b\b\b\b\b\b\b\b\b\b\b\b\b\b\b\b\b\b\b\b\b\b\b\b\b\b\b\b\b\b\b\b\b\b\b\b\b\b 11/96 \r",
        "HERE OPTIM\t\n",
        "BEFORE FORWARD\t\n",
        "1\t\n"
       ]
      },
      {
       "metadata": {},
       "output_type": "pyout",
       "prompt_number": 413,
       "text": [
        "AFTER FORWARD\t\n",
        "NEO\t\n",
        " 4.5436\n",
        " 5.4567\n",
        "[torch.FloatTensor of dimension 2]\n",
        "\n",
        "2\t\n",
        "BLAH\t\n"
       ]
      },
      {
       "metadata": {},
       "output_type": "pyout",
       "prompt_number": 413,
       "text": [
        " ** On entry to SGEMM  parameter number 10 had an illegal value\n"
       ]
      },
      {
       "metadata": {},
       "output_type": "pyout",
       "prompt_number": 413,
       "text": [
        " ** On entry to SGEMM  parameter number 10 had an illegal value\n"
       ]
      },
      {
       "metadata": {},
       "output_type": "pyout",
       "prompt_number": 413,
       "text": [
        "\r",
        " [========>....................................................................]                                                   \b\b\b\b\b\b\b\b\b\b\b\b\b\b\b\b\b\b\b\b\b\b\b\b\b\b\b\b\b\b\b\b\b\b\b\b\b\b\b\b\b\b\b\b\b\b\b\b\b\bETA: 10s851ms | Step: 129ms\b\b\b\b\b\b\b\b\b\b\b\b\b\b\b\b\b\b\b\b\b\b\b\b\b\b\b\b\b\b\b\b\b\b\b\b\b\b\b\b\b\b\b\b\b\b\b\b\b\b\b\b\b\b\b\b\b\b\b\b\b\b\b\b\b\b\b\b\b\b\b\b\b\b 12/96 \r",
        "HERE OPTIM\t\n",
        "BEFORE FORWARD\t\n",
        "1\t\n"
       ]
      },
      {
       "metadata": {},
       "output_type": "pyout",
       "prompt_number": 413,
       "text": [
        "AFTER FORWARD\t\n",
        "NEO\t\n",
        " 4.4992\n",
        " 5.5011\n",
        "[torch.FloatTensor of dimension 2]\n",
        "\n",
        "1\t\n",
        "BLAH\t\n",
        " ** On entry to SGEMM  parameter number 10 had an illegal value\n"
       ]
      },
      {
       "metadata": {},
       "output_type": "pyout",
       "prompt_number": 413,
       "text": [
        " ** On entry to SGEMM  parameter number 10 had an illegal value\n"
       ]
      },
      {
       "metadata": {},
       "output_type": "pyout",
       "prompt_number": 413,
       "text": [
        "\r",
        " [=========>.........................."
       ]
      },
      {
       "metadata": {},
       "output_type": "pyout",
       "prompt_number": 413,
       "text": [
        ".........................................]                                                   \b\b\b\b\b\b\b\b\b\b\b\b\b\b\b\b\b\b\b\b\b\b\b\b\b\b\b\b\b\b\b\b\b\b\b\b\b\b\b\b\b\b\b\b\b\b\b\b\b\bETA: 9s887ms | Step: 119ms\b\b\b\b\b\b\b\b\b\b\b\b\b\b\b\b\b\b\b\b\b\b\b\b\b\b\b\b\b\b\b\b\b\b\b\b\b\b\b\b\b\b\b\b\b\b\b\b\b\b\b\b\b\b\b\b\b\b\b\b\b\b\b\b\b\b\b\b\b\b\b\b\b 13/96 \r",
        "HERE OPTIM\t\n",
        "BEFORE FORWARD\t\n",
        "1\t\n"
       ]
      },
      {
       "metadata": {},
       "output_type": "pyout",
       "prompt_number": 413,
       "text": [
        "AFTER FORWARD\t\n",
        "NEO\t\n",
        " 4.5532\n",
        " 5.4471\n",
        "[torch.FloatTensor of dimension 2]\n",
        "\n",
        "2\t\n",
        "BLAH\t\n"
       ]
      },
      {
       "metadata": {},
       "output_type": "pyout",
       "prompt_number": 413,
       "text": [
        " ** On entry to SGEMM  parameter number 10 had an illegal value\n"
       ]
      },
      {
       "metadata": {},
       "output_type": "pyout",
       "prompt_number": 413,
       "text": [
        " ** On entry to SGEMM  parameter number 10 had an illegal value\n"
       ]
      },
      {
       "metadata": {},
       "output_type": "pyout",
       "prompt_number": 413,
       "text": [
        "\r",
        " [==========>..................................................................]                                                   \b\b\b\b\b\b\b\b\b\b\b\b\b\b\b\b\b\b\b\b\b\b\b\b\b\b\b\b\b\b\b\b\b\b\b\b\b\b\b\b\b\b\b\b\b\b\b\b\b\bETA: 10s305ms | Step: 125ms\b\b\b\b\b\b\b\b\b\b\b\b\b\b\b\b\b\b\b\b\b\b\b\b\b\b\b\b\b\b\b\b\b\b\b\b\b\b\b\b\b\b\b\b\b\b\b\b\b\b\b\b\b\b\b\b\b\b\b\b\b\b\b\b\b\b\b\b\b\b\b\b\b\b 14/96 \r",
        "HERE OPTIM\t\n",
        "BEFORE FORWARD\t\n",
        "1\t\n"
       ]
      },
      {
       "metadata": {},
       "output_type": "pyout",
       "prompt_number": 413,
       "text": [
        "AFTER FORWARD\t\n",
        "NEO\t\n",
        " 4.5087\n",
        " 5.4916\n",
        "[torch.FloatTensor of dimension 2]\n",
        "\n",
        "2\t\n",
        "BLAH\t\n"
       ]
      },
      {
       "metadata": {},
       "output_type": "pyout",
       "prompt_number": 413,
       "text": [
        " ** On entry to SGEMM  parameter number 10 had an illegal value\n"
       ]
      },
      {
       "metadata": {},
       "output_type": "pyout",
       "prompt_number": 413,
       "text": [
        " ** On entry to SGEMM  parameter number 10 had an illegal value\n"
       ]
      },
      {
       "metadata": {},
       "output_type": "pyout",
       "prompt_number": 413,
       "text": [
        "\r",
        " [===="
       ]
      },
      {
       "metadata": {},
       "output_type": "pyout",
       "prompt_number": 413,
       "text": [
        "=======>.................................................................]                                                   \b\b\b\b\b\b\b\b\b\b\b\b\b\b\b\b\b\b\b\b\b\b\b\b\b\b\b\b\b\b\b\b\b\b\b\b\b\b\b\b\b\b\b\b\b\b\b\b\b\bETA: 9s655ms | Step: 119ms\b\b\b\b\b\b\b\b\b\b\b\b\b\b\b\b\b\b\b\b\b\b\b\b\b\b\b\b\b\b\b\b\b\b\b\b\b\b\b\b\b\b\b\b\b\b\b\b\b\b\b\b\b\b\b\b\b\b\b\b\b\b\b\b\b\b\b\b\b\b\b\b\b 15/96 \r",
        "HERE OPTIM\t\n",
        "BEFORE FORWARD\t\n",
        "1\t\n"
       ]
      },
      {
       "metadata": {},
       "output_type": "pyout",
       "prompt_number": 413,
       "text": [
        "AFTER FORWARD\t\n",
        "NEO\t\n"
       ]
      },
      {
       "metadata": {},
       "output_type": "pyout",
       "prompt_number": 413,
       "text": [
        " 4.4636\n",
        " 5.5367\n",
        "[torch.FloatTensor of dimension 2]\n",
        "\n",
        "2\t\n",
        "BLAH\t\n"
       ]
      },
      {
       "metadata": {},
       "output_type": "pyout",
       "prompt_number": 413,
       "text": [
        " ** On entry to SGEMM  parameter number 10 had an illegal value\n"
       ]
      },
      {
       "metadata": {},
       "output_type": "pyout",
       "prompt_number": 413,
       "text": [
        " ** On entry to SGEMM  parameter number 10 had an illegal value\n"
       ]
      },
      {
       "metadata": {},
       "output_type": "pyout",
       "prompt_number": 413,
       "text": [
        "\r",
        " [===========>.................................................................]                                                   \b\b\b\b\b\b\b\b\b\b\b\b\b\b\b\b\b\b\b\b\b\b\b\b\b\b\b\b\b\b\b\b\b\b\b\b\b\b\b\b\b\b\b\b\b\b\b\b\b\bETA: 10s801ms | Step: 135ms\b\b\b\b\b\b\b\b\b\b\b\b\b\b\b\b\b\b\b\b\b\b\b\b\b\b\b\b\b\b\b\b\b\b\b\b\b\b\b\b\b\b\b\b\b\b\b\b\b\b\b\b\b\b\b\b\b\b\b\b\b\b\b\b\b\b\b\b\b\b\b\b\b\b 16/96 \r",
        "HERE OPTIM\t\n",
        "BEFORE FORWARD\t\n",
        "1\t\n"
       ]
      },
      {
       "metadata": {},
       "output_type": "pyout",
       "prompt_number": 413,
       "text": [
        "AFTER FORWARD\t\n",
        "NEO\t\n",
        " 4.4190\n",
        " 5.5814\n",
        "[torch.FloatTensor of dimension 2]\n",
        "\n",
        "2\t\n",
        "BLAH\t\n"
       ]
      },
      {
       "metadata": {},
       "output_type": "pyout",
       "prompt_number": 413,
       "text": [
        " ** On entry to SGEMM  parameter number 10 had an illegal value\n"
       ]
      },
      {
       "metadata": {},
       "output_type": "pyout",
       "prompt_number": 413,
       "text": [
        " ** On entry to SGEMM  parameter number 10 had an illegal value\n"
       ]
      },
      {
       "metadata": {},
       "output_type": "pyout",
       "prompt_number": 413,
       "text": [
        "\r",
        " [============>................................................................]                                                   \b\b\b\b\b\b\b\b\b\b\b\b\b\b\b\b\b\b\b\b\b\b\b\b\b\b\b\b\b\b\b\b\b\b\b\b\b\b\b\b\b\b\b\b\b\b\b\b\b\bETA: 12s324ms | Step: 156ms\b\b\b\b\b\b\b\b\b\b\b\b\b\b\b\b\b\b\b\b\b\b\b\b"
       ]
      },
      {
       "metadata": {},
       "output_type": "pyout",
       "prompt_number": 413,
       "text": [
        "\b\b\b\b\b\b\b\b\b\b\b\b\b\b\b\b\b\b\b\b\b\b\b\b\b\b\b\b\b\b\b\b\b\b\b\b\b\b\b\b\b\b\b\b\b\b\b\b\b\b 17/96 \r",
        "HERE OPTIM\t\n",
        "BEFORE FORWARD\t\n",
        "1\t\n"
       ]
      },
      {
       "metadata": {},
       "output_type": "pyout",
       "prompt_number": 413,
       "text": [
        "AFTER FORWARD\t\n",
        "NEO\t\n",
        " 4.3748\n",
        " 5.6255\n",
        "[torch.FloatTensor of dimension 2]\n",
        "\n",
        "1\t\n",
        "BLAH\t\n",
        " ** On entry to SGEMM  parameter number 10 had an illegal value\n"
       ]
      },
      {
       "metadata": {},
       "output_type": "pyout",
       "prompt_number": 413,
       "text": [
        " ** On entry to SGEMM  parameter number 10 had an illegal value\n"
       ]
      },
      {
       "metadata": {},
       "output_type": "pyout",
       "prompt_number": 413,
       "text": [
        "\r",
        " [=============>...............................................................]                                                   \b\b\b\b\b\b\b\b\b\b\b\b\b\b\b\b\b\b\b\b\b\b\b\b\b\b\b\b\b\b\b\b\b\b\b\b\b\b\b\b\b\b\b\b\b\b\b\b\b\bETA: 11s493ms | Step: 147ms\b\b\b\b\b\b\b\b\b\b\b\b\b\b\b\b\b\b\b\b\b\b\b\b\b\b\b\b\b\b\b\b\b\b\b\b\b\b\b\b\b\b\b\b\b\b\b\b\b\b\b\b\b\b\b\b\b\b\b\b\b\b\b\b\b\b\b\b\b\b\b\b\b\b 18/96 \r",
        "HERE OPTIM\t\n",
        "BEFORE FORWARD\t\n",
        "1\t\n"
       ]
      },
      {
       "metadata": {},
       "output_type": "pyout",
       "prompt_number": 413,
       "text": [
        "AFTER FORWARD\t\n",
        "NEO\t\n",
        " 4.4300\n",
        " 5.5703\n",
        "[torch.FloatTensor of dimension 2]\n",
        "\n",
        "2\t\n",
        "BLAH\t\n",
        " ** On entry to SGEMM  parameter number 10 had an illegal value\n"
       ]
      },
      {
       "metadata": {},
       "output_type": "pyout",
       "prompt_number": 413,
       "text": [
        " ** On entry to SGEMM  parameter number 10 had an illegal value\n"
       ]
      },
      {
       "metadata": {},
       "output_type": "pyout",
       "prompt_number": 413,
       "text": [
        "\r",
        " [==============>..............................................................]                                                   \b\b\b\b\b\b\b\b\b\b\b\b\b\b\b\b\b\b\b\b\b\b\b\b\b\b\b\b\b\b\b\b\b\b\b\b\b\b\b\b\b\b\b\b\b\b\b\b\b\bETA: 10s758ms | Step: 139ms\b\b\b\b\b\b\b\b\b\b\b\b\b\b\b\b\b\b\b\b\b\b\b\b\b\b\b\b\b\b\b\b\b\b\b\b\b\b\b\b\b\b\b\b\b\b\b\b\b\b\b\b\b\b\b\b\b\b\b\b\b\b\b\b\b\b\b\b\b\b\b\b\b\b 19/96 \r",
        "HERE OPTIM\t\n",
        "BEFORE FORWARD\t\n",
        "1\t\n"
       ]
      },
      {
       "metadata": {},
       "output_type": "pyout",
       "prompt_number": 413,
       "text": [
        "AFTER FORWARD\t\n",
        "NEO\t\n",
        " 4.3867\n",
        " 5.6136\n",
        "[torch.FloatTensor of dimension 2]\n",
        "\n",
        "1\t\n",
        "BLAH\t\n",
        " ** On entry to SGEMM  parameter number 10 had an illegal value\n"
       ]
      },
      {
       "metadata": {},
       "output_type": "pyout",
       "prompt_number": 413,
       "text": [
        " ** On entry to SGEMM  parameter number 10 had an illegal value\n"
       ]
      },
      {
       "metadata": {},
       "output_type": "pyout",
       "prompt_number": 413,
       "text": [
        "\r",
        " [===============>.............................................................]                                                   \b\b\b\b\b\b\b\b\b\b\b\b\b\b\b\b\b\b\b\b\b\b\b\b\b\b\b\b\b\b\b\b\b\b\b\b\b\b\b\b\b\b\b\b\b\b\b\b\b\bETA: 10s86ms | Step: 132ms\b\b\b\b\b\b\b\b\b\b\b\b\b\b\b\b\b\b\b\b\b\b\b\b\b\b\b\b\b\b\b\b\b\b\b\b\b\b\b\b\b\b\b\b\b\b\b\b\b\b\b\b\b\b\b\b\b\b\b\b\b\b\b\b\b\b\b\b\b\b\b\b\b 20/96 \r",
        "HERE OPTIM\t\n",
        "BEFORE FORWARD\t\n",
        "1\t\n"
       ]
      },
      {
       "metadata": {},
       "output_type": "pyout",
       "prompt_number": 413,
       "text": [
        "AFTER FORWARD\t\n",
        "NEO\t\n",
        " 4.4418\n",
        " 5.5585\n",
        "[torch.FloatTensor of dimension 2]\n",
        "\n",
        "2\t\n",
        "BLAH\t\n",
        " ** On entry to SGEMM  parameter number 10 had an illegal value\n"
       ]
      },
      {
       "metadata": {},
       "output_type": "pyout",
       "prompt_number": 413,
       "text": [
        " ** On entry to SGEMM  parameter number 10 had an illegal value\n"
       ]
      },
      {
       "metadata": {},
       "output_type": "pyout",
       "prompt_number": 413,
       "text": [
        "\r",
        " [===============>.............................................................]                                                   \b\b\b\b\b\b\b\b\b\b\b\b\b\b\b\b\b\b\b\b\b\b\b\b\b\b\b\b\b\b\b\b\b\b\b\b\b\b\b\b\b\b\b\b\b\b\b"
       ]
      },
      {
       "metadata": {},
       "output_type": "pyout",
       "prompt_number": 413,
       "text": [
        "\b\b\bETA: 9s726ms | Step: 129ms\b\b\b\b\b\b\b\b\b\b\b\b\b\b\b\b\b\b\b\b\b\b\b\b\b\b\b\b\b\b\b\b\b\b\b\b\b\b\b\b\b\b\b\b\b\b\b\b\b\b\b\b\b\b\b\b\b\b\b\b\b\b\b\b\b\b\b\b\b\b\b\b\b 21/96 \r",
        "HERE OPTIM\t\n",
        "BEFORE FORWARD\t\n",
        "1\t\n"
       ]
      },
      {
       "metadata": {},
       "output_type": "pyout",
       "prompt_number": 413,
       "text": [
        "AFTER FORWARD\t\n",
        "NEO\t\n",
        " 4.3984\n",
        " 5.6019\n",
        "[torch.FloatTensor of dimension 2]\n",
        "\n",
        "2\t\n",
        "BLAH\t\n",
        " ** On entry to SGEMM  parameter number 10 had an illegal value\n"
       ]
      },
      {
       "metadata": {},
       "output_type": "pyout",
       "prompt_number": 413,
       "text": [
        " ** On entry to SGEMM  parameter number 10 had an illegal value\n"
       ]
      },
      {
       "metadata": {},
       "output_type": "pyout",
       "prompt_number": 413,
       "text": [
        "\r",
        " [================>............................................................]                                                   \b\b\b\b\b\b\b\b\b\b\b\b\b\b\b\b\b\b\b\b\b\b\b\b\b\b\b\b\b\b\b\b\b\b\b\b\b\b\b\b\b\b\b\b\b\b\b\b\b\bETA: 9s312ms | Step: 125ms\b\b\b\b\b\b\b\b\b\b\b\b\b\b\b\b\b\b\b\b\b\b\b\b\b\b\b\b\b\b\b\b\b\b\b\b\b\b\b\b\b\b\b\b\b\b\b\b\b\b\b\b\b\b\b\b\b\b\b\b\b\b\b\b\b\b\b\b\b\b\b\b\b 22/96 \r",
        "HERE OPTIM\t\n",
        "BEFORE FORWARD\t\n",
        "1\t\n"
       ]
      },
      {
       "metadata": {},
       "output_type": "pyout",
       "prompt_number": 413,
       "text": [
        "AFTER FORWARD\t\n",
        "NEO\t\n",
        " 4.3544\n",
        " 5.6459\n",
        "[torch.FloatTensor of dimension 2]\n",
        "\n",
        "1\t\n",
        "BLAH\t\n",
        " ** On entry to SGEMM  parameter number 10 had an illegal value\n"
       ]
      },
      {
       "metadata": {},
       "output_type": "pyout",
       "prompt_number": 413,
       "text": [
        " ** On entry to SGEMM  parameter number 10 had an illegal value\n"
       ]
      },
      {
       "metadata": {},
       "output_type": "pyout",
       "prompt_number": 413,
       "text": [
        "\r",
        " [=================>...........................................................]                                                 "
       ]
      },
      {
       "metadata": {},
       "output_type": "pyout",
       "prompt_number": 413,
       "text": [
        "  \b\b\b\b\b\b\b\b\b\b\b\b\b\b\b\b\b\b\b\b\b\b\b\b\b\b\b\b\b\b\b\b\b\b\b\b\b\b\b\b\b\b\b\b\b\b\b\b\b\bETA: 8s803ms | Step: 120ms\b\b\b\b\b\b\b\b\b\b\b\b\b\b\b\b\b\b\b\b\b\b\b\b\b\b\b\b\b\b\b\b\b\b\b\b\b\b\b\b\b\b\b\b\b\b\b\b\b\b\b\b\b\b\b\b\b\b\b\b\b\b\b\b\b\b\b\b\b\b\b\b\b 23/96 \r",
        "HERE OPTIM\t\n",
        "BEFORE FORWARD\t\n",
        "1\t\n"
       ]
      },
      {
       "metadata": {},
       "output_type": "pyout",
       "prompt_number": 413,
       "text": [
        "AFTER FORWARD\t\n",
        "NEO\t\n",
        " 4.4099\n",
        " 5.5904\n",
        "[torch.FloatTensor of dimension 2]\n",
        "\n",
        "1\t\n",
        "BLAH\t\n",
        " ** On entry to SGEMM  parameter number 10 had an illegal value\n"
       ]
      },
      {
       "metadata": {},
       "output_type": "pyout",
       "prompt_number": 413,
       "text": [
        " ** On entry to SGEMM  parameter number 10 had an illegal value\n"
       ]
      },
      {
       "metadata": {},
       "output_type": "pyout",
       "prompt_number": 413,
       "text": [
        "\r",
        " [==================>..........................................................]                                                   \b\b\b\b\b\b\b\b\b\b\b\b\b\b\b\b\b\b\b\b\b\b\b\b\b\b\b\b\b\b\b\b\b\b\b\b\b\b\b\b\b\b\b\b\b\b\b\b\b\bETA: 8s337ms | Step: 115ms\b\b\b\b\b\b\b\b\b\b\b\b\b\b\b\b\b\b\b\b\b\b\b\b\b\b\b\b\b\b\b\b\b\b\b\b\b\b\b\b\b\b\b\b\b\b\b\b\b\b\b\b\b\b\b\b\b\b\b\b\b\b\b\b\b\b\b\b\b\b\b\b\b 24/96 \r",
        "HERE OPTIM\t\n",
        "BEFORE FORWARD\t\n",
        "1\t\n"
       ]
      },
      {
       "metadata": {},
       "output_type": "pyout",
       "prompt_number": 413,
       "text": [
        "AFTER FORWARD\t\n",
        "NEO\t\n",
        " 4.4658\n",
        " 5.5345\n",
        "[torch.FloatTensor of dimension 2]\n",
        "\n",
        "2\t\n",
        "BLAH\t\n",
        " ** On entry to SGEMM  parameter number 10 had an illegal value\n"
       ]
      },
      {
       "metadata": {},
       "output_type": "pyout",
       "prompt_number": 413,
       "text": [
        " ** On entry to SGEMM  parameter number 10 had an illegal value\n"
       ]
      },
      {
       "metadata": {},
       "output_type": "pyout",
       "prompt_number": 413,
       "text": [
        "\r",
        " [===================>.........................................................]                                                   \b\b\b\b\b\b\b\b\b\b\b\b\b\b\b\b\b\b\b\b\b\b\b\b\b\b\b\b\b\b\b\b\b\b\b\b\b\b\b\b\b\b\b\b\b\b\b\b\b\bETA: 7s936ms | Step: 111ms\b\b\b\b\b\b\b\b\b\b\b\b\b\b\b\b\b\b\b\b\b\b\b\b\b\b\b\b\b\b\b\b\b\b\b\b\b\b\b\b\b\b\b\b\b\b\b\b\b\b\b\b\b\b\b\b\b\b\b\b\b\b\b\b\b\b\b\b\b\b\b\b\b 25/96 \r",
        "HERE OPTIM\t\n",
        "BEFORE FORWARD\t\n",
        "1\t\n"
       ]
      },
      {
       "metadata": {},
       "output_type": "pyout",
       "prompt_number": 413,
       "text": [
        "AFTER FORWARD\t\n",
        "NEO\t\n",
        " 4.4221\n",
        " 5.5782\n",
        "[torch.FloatTensor of dimension 2]\n",
        "\n",
        "1\t\n",
        "BLAH\t\n",
        " ** On entry to SGEMM  parameter number 10 had an illegal value\n"
       ]
      },
      {
       "metadata": {},
       "output_type": "pyout",
       "prompt_number": 413,
       "text": [
        " ** On entry to SGEMM  parameter number 10 had an illegal value\n"
       ]
      },
      {
       "metadata": {},
       "output_type": "pyout",
       "prompt_number": 413,
       "text": [
        "\r",
        " [===================>.........................................................]                                                   \b\b\b\b\b\b\b\b\b\b\b\b\b\b\b\b\b\b\b\b\b\b\b\b\b\b\b\b\b\b\b\b\b\b\b\b\b\b\b\b\b\b\b\b\b\b\b\b\b\bETA: 7s545ms | Step: 107ms\b\b\b\b\b\b\b\b\b\b\b\b\b\b\b\b\b\b\b\b\b\b\b\b\b\b\b\b\b\b\b\b\b\b\b\b\b\b\b\b\b\b\b\b\b\b\b\b\b\b\b\b\b\b\b\b\b\b\b\b\b\b\b\b\b\b\b\b\b\b\b\b\b 26/96 \r",
        "HERE OPTIM\t\n",
        "BEFORE FORWARD\t\n",
        "1\t\n"
       ]
      },
      {
       "metadata": {},
       "output_type": "pyout",
       "prompt_number": 413,
       "text": [
        "AFTER FORWARD\t\n",
        "NEO\t\n"
       ]
      },
      {
       "metadata": {},
       "output_type": "pyout",
       "prompt_number": 413,
       "text": [
        " 4.4769\n",
        " 5.5234\n",
        "[torch.FloatTensor of dimension 2]\n",
        "\n",
        "2\t\n",
        "BLAH\t\n"
       ]
      },
      {
       "metadata": {},
       "output_type": "pyout",
       "prompt_number": 413,
       "text": [
        " ** On entry to SGEMM  parameter number 10 had an illegal value\n"
       ]
      },
      {
       "metadata": {},
       "output_type": "pyout",
       "prompt_number": 413,
       "text": [
        " ** On entry to SGEMM  parameter number 10 had an illegal value\n"
       ]
      },
      {
       "metadata": {},
       "output_type": "pyout",
       "prompt_number": 413,
       "text": [
        "\r",
        " [====================>........................................................]                                            "
       ]
      },
      {
       "metadata": {},
       "output_type": "pyout",
       "prompt_number": 413,
       "text": [
        "       \b\b\b\b\b\b\b\b\b\b\b\b\b\b\b\b\b\b\b\b\b\b\b\b\b\b\b\b\b\b\b\b\b\b\b\b\b\b\b\b\b\b\b\b\b\b\b\b\b\bETA: 7s476ms | Step: 108ms\b\b\b\b\b\b\b\b\b\b\b\b\b\b\b\b\b\b\b\b\b\b\b\b\b\b\b\b\b\b\b\b\b\b\b\b\b\b\b\b\b\b\b\b\b\b\b\b\b\b\b\b\b\b\b\b\b\b\b\b\b\b\b\b\b\b\b\b\b\b\b\b\b 27/96 \r",
        "HERE OPTIM\t\n",
        "BEFORE FORWARD\t\n",
        "1\t\n"
       ]
      },
      {
       "metadata": {},
       "output_type": "pyout",
       "prompt_number": 413,
       "text": [
        "AFTER FORWARD\t\n",
        "NEO\t\n",
        " 4.4331\n",
        " 5.5671\n",
        "[torch.FloatTensor of dimension 2]\n",
        "\n"
       ]
      },
      {
       "metadata": {},
       "output_type": "pyout",
       "prompt_number": 413,
       "text": [
        "2\t\n",
        "BLAH\t\n",
        " ** On entry to SGEMM  parameter number 10 had an illegal value\n"
       ]
      },
      {
       "metadata": {},
       "output_type": "pyout",
       "prompt_number": 413,
       "text": [
        " ** On entry to SGEMM  parameter number 10 had an illegal value\n"
       ]
      },
      {
       "metadata": {},
       "output_type": "pyout",
       "prompt_number": 413,
       "text": [
        "\r",
        " [=====================>.......................................................]                                                   \b\b\b\b\b\b\b\b\b\b\b\b\b\b\b\b\b\b\b\b\b\b\b\b\b\b\b\b\b\b\b\b\b\b\b\b\b\b\b\b\b\b\b\b\b\b\b\b\b\bETA: 7s147ms | Step: 105ms\b\b\b\b\b\b\b\b\b\b\b\b\b\b\b\b\b\b\b\b\b\b\b\b\b\b\b\b\b\b\b\b\b\b\b\b\b\b\b\b\b\b\b\b\b\b\b\b\b\b\b\b\b\b\b\b\b\b\b\b\b\b\b\b\b\b"
       ]
      },
      {
       "metadata": {},
       "output_type": "pyout",
       "prompt_number": 413,
       "text": [
        "\b\b\b\b\b\b\b 28/96 \r",
        "HERE OPTIM\t\n",
        "BEFORE FORWARD\t\n",
        "1\t\n"
       ]
      },
      {
       "metadata": {},
       "output_type": "pyout",
       "prompt_number": 413,
       "text": [
        "AFTER FORWARD\t\n",
        "NEO\t\n",
        " 4.3888\n",
        " 5.6115\n",
        "[torch.FloatTensor of dimension 2]\n",
        "\n",
        "2\t\n",
        "BLAH\t\n",
        " ** On entry to SGEMM  parameter number 10 had an illegal value\n"
       ]
      },
      {
       "metadata": {},
       "output_type": "pyout",
       "prompt_number": 413,
       "text": [
        " ** On entry to SGEMM  parameter number 10 had an illegal value\n"
       ]
      },
      {
       "metadata": {},
       "output_type": "pyout",
       "prompt_number": 413,
       "text": [
        "\r",
        " [======================>......................................................]                                                   \b\b\b\b\b\b\b\b\b\b\b\b\b\b\b\b\b\b\b\b\b\b\b\b\b\b\b\b\b\b\b\b\b\b\b\b\b\b\b\b\b\b\b\b\b\b\b\b\b\bETA: 6s866ms | Step: 102ms\b\b\b\b\b\b\b\b\b\b\b\b\b\b\b\b\b\b\b\b\b\b\b\b\b\b\b\b\b\b\b\b\b\b\b\b\b\b\b\b\b\b\b\b\b\b\b\b\b\b\b\b\b\b\b\b\b\b\b\b\b\b\b\b\b\b\b\b\b\b\b\b\b 29/96 \r",
        "HERE OPTIM\t\n",
        "BEFORE FORWARD\t\n",
        "1\t\n"
       ]
      },
      {
       "metadata": {},
       "output_type": "pyout",
       "prompt_number": 413,
       "text": [
        "AFTER FORWARD\t\n",
        "NEO\t\n",
        " 4.3449\n",
        " 5.6554\n",
        "[torch.FloatTensor of dimension 2]\n",
        "\n",
        "1\t\n",
        "BLAH\t\n",
        " ** On entry to SGEMM  parameter number 10 had an illegal value\n"
       ]
      },
      {
       "metadata": {},
       "output_type": "pyout",
       "prompt_number": 413,
       "text": [
        " ** On entry to SGEMM  parameter number 10 had an illegal value\n"
       ]
      },
      {
       "metadata": {},
       "output_type": "pyout",
       "prompt_number": 413,
       "text": [
        "\r",
        " [=======================>.....................................................]                                                   \b\b\b\b\b\b\b\b\b\b\b\b\b\b\b\b\b\b\b\b\b\b\b\b\b\b\b\b\b\b\b\b\b\b\b\b\b\b\b\b\b\b\b\b\b\b\b\b\b\bETA: 6s563ms | Step: 99ms\b\b\b\b\b\b\b\b\b\b\b\b\b\b\b\b\b\b\b\b\b\b\b\b\b\b\b\b\b\b\b\b\b\b\b\b\b\b\b\b\b\b\b\b\b\b\b\b\b\b\b\b\b\b\b\b\b\b\b\b\b\b\b\b\b\b\b\b\b\b\b\b 30/96 \r",
        "HERE OPTIM\t\n",
        "BEFORE FORWARD\t\n",
        "1\t\n"
       ]
      },
      {
       "metadata": {},
       "output_type": "pyout",
       "prompt_number": 413,
       "text": [
        "AFTER FORWARD\t\n",
        "NEO\t\n"
       ]
      },
      {
       "metadata": {},
       "output_type": "pyout",
       "prompt_number": 413,
       "text": [
        " 4.4005\n",
        " 5.5998\n",
        "[torch.FloatTensor of dimension 2]\n",
        "\n",
        "1\t\n",
        "BLAH\t\n",
        " ** On entry to SGEMM  parameter number 10 had an illegal value\n"
       ]
      },
      {
       "metadata": {},
       "output_type": "pyout",
       "prompt_number": 413,
       "text": [
        " ** On entry to SGEMM  parameter number 10 had an illegal value\n"
       ]
      },
      {
       "metadata": {},
       "output_type": "pyout",
       "prompt_number": 413,
       "text": [
        "\r",
        " [=======================>.....................................................]                                                   \b\b\b\b\b\b\b\b\b\b\b\b\b\b\b\b\b\b\b\b\b\b\b\b\b\b\b\b\b\b\b\b\b\b\b\b\b\b\b\b\b\b\b\b\b\b\b\b\b\bETA: 6s264ms | Step: 96ms\b\b\b\b\b\b\b\b\b\b\b\b\b\b\b\b\b\b\b\b\b\b\b\b\b\b\b\b"
       ]
      },
      {
       "metadata": {},
       "output_type": "pyout",
       "prompt_number": 413,
       "text": [
        "\b\b\b\b\b\b\b\b\b\b\b\b\b\b\b\b\b\b\b\b\b\b\b\b\b\b\b\b\b\b\b\b\b\b\b\b\b\b\b\b\b\b\b\b 31/96 \r",
        "HERE OPTIM\t\n",
        "BEFORE FORWARD\t\n",
        "1\t\n"
       ]
      },
      {
       "metadata": {},
       "output_type": "pyout",
       "prompt_number": 413,
       "text": [
        "AFTER FORWARD\t\n",
        "NEO\t\n",
        " 4.4565\n",
        " 5.5438\n",
        "[torch.FloatTensor of dimension 2]\n",
        "\n",
        "2\t\n",
        "BLAH\t\n"
       ]
      },
      {
       "metadata": {},
       "output_type": "pyout",
       "prompt_number": 413,
       "text": [
        " ** On entry to SGEMM  parameter number 10 had an illegal value\n"
       ]
      },
      {
       "metadata": {},
       "output_type": "pyout",
       "prompt_number": 413,
       "text": [
        " ** On entry to SGEMM  parameter number 10 had an illegal value\n"
       ]
      },
      {
       "metadata": {},
       "output_type": "pyout",
       "prompt_number": 413,
       "text": [
        "\r",
        " [========================>....................................................]                                                   \b\b\b\b\b\b\b\b\b\b\b\b\b\b\b\b\b\b\b\b\b\b\b\b\b\b\b\b\b\b\b\b\b\b\b\b\b\b\b\b\b\b\b\b\b\b\b\b\b\bETA: 7s165ms | Step: 111ms\b\b\b\b\b\b\b\b\b\b\b\b\b\b\b\b\b\b\b\b\b\b\b\b\b\b\b\b\b\b\b"
       ]
      },
      {
       "metadata": {},
       "output_type": "pyout",
       "prompt_number": 413,
       "text": [
        "\b\b\b\b\b\b\b\b\b\b\b\b\b\b\b\b\b\b\b\b\b\b\b\b\b\b\b\b\b\b\b\b\b\b\b\b\b\b\b\b\b\b 32/96 \r",
        "HERE OPTIM\t\n",
        "BEFORE FORWARD\t\n",
        "1\t\n"
       ]
      },
      {
       "metadata": {},
       "output_type": "pyout",
       "prompt_number": 413,
       "text": [
        "AFTER FORWARD\t\n",
        "NEO\t\n",
        " 4.4129\n",
        " 5.5874\n",
        "[torch.FloatTensor of dimension 2]\n",
        "\n",
        "2\t\n",
        "BLAH\t\n",
        " ** On entry to SGEMM  parameter number 10 had an illegal value\n"
       ]
      },
      {
       "metadata": {},
       "output_type": "pyout",
       "prompt_number": 413,
       "text": [
        " ** On entry to SGEMM  parameter number 10 had an illegal value\n"
       ]
      },
      {
       "metadata": {},
       "output_type": "pyout",
       "prompt_number": 413,
       "text": [
        "\r",
        " [=========================>...................................................]                                                   \b\b\b\b\b\b\b\b\b\b\b\b\b\b\b\b\b\b\b\b\b\b\b\b\b\b\b\b\b\b\b\b\b\b\b\b\b\b\b\b\b\b\b\b\b\b\b\b\b\bETA: 6s995ms | Step: 111ms\b\b\b\b\b\b\b\b\b\b\b\b\b\b\b\b\b\b\b\b\b\b\b\b\b\b\b\b\b\b\b\b\b\b\b\b\b\b\b\b\b\b\b\b\b\b\b\b\b\b\b\b\b\b\b\b\b\b\b\b\b\b\b\b\b\b\b\b\b\b\b\b\b 33/96 \r",
        "HERE OPTIM\t\n",
        "BEFORE FORWARD\t\n",
        "1\t\n"
       ]
      },
      {
       "metadata": {},
       "output_type": "pyout",
       "prompt_number": 413,
       "text": [
        "AFTER FORWARD\t\n",
        "NEO\t\n",
        " 4.3688\n",
        " 5.6315\n",
        "[torch.FloatTensor of dimension 2]\n",
        "\n",
        "1\t\n",
        "BLAH\t\n",
        " ** On entry to SGEMM  parameter number 10 had an illegal value\n"
       ]
      },
      {
       "metadata": {},
       "output_type": "pyout",
       "prompt_number": 413,
       "text": [
        " ** On entry to SGEMM  parameter number 10 had an illegal value\n"
       ]
      },
      {
       "metadata": {},
       "output_type": "pyout",
       "prompt_number": 413,
       "text": [
        "\r",
        " [==========================>..................................................]                                                   \b\b\b\b\b\b\b\b\b\b\b\b\b\b\b\b\b\b\b\b\b\b\b\b\b\b\b\b\b\b\b\b\b\b\b\b\b\b\b\b\b\b\b\b\b\b\b\b\b\bETA: 6s698ms | Step: 108ms\b\b\b\b\b\b\b\b\b\b\b\b\b\b\b\b\b\b\b\b\b\b\b\b\b\b\b\b\b\b\b\b\b\b\b\b\b\b\b\b\b\b\b\b\b\b\b\b\b\b\b\b\b\b\b\b\b\b\b\b\b\b\b\b\b\b\b\b\b\b\b\b\b 34/96 \r",
        "HERE OPTIM\t\n",
        "BEFORE FORWARD\t\n",
        "1\t\n"
       ]
      },
      {
       "metadata": {},
       "output_type": "pyout",
       "prompt_number": 413,
       "text": [
        "AFTER FORWARD\t\n",
        "NEO\t\n",
        " 4.4241\n",
        " 5.5762\n",
        "[torch.FloatTensor of dimension 2]\n",
        "\n",
        "1\t\n",
        "BLAH\t\n",
        " ** On entry to SGEMM  parameter number 10 had an illegal value\n"
       ]
      },
      {
       "metadata": {},
       "output_type": "pyout",
       "prompt_number": 413,
       "text": [
        " ** On entry to SGEMM  parameter number 10 had an illegal value\n"
       ]
      },
      {
       "metadata": {},
       "output_type": "pyout",
       "prompt_number": 413,
       "text": [
        "\r",
        " [===========================>.................................................]                                                   \b\b\b\b\b\b\b\b\b\b\b\b\b\b\b\b\b\b\b\b\b\b\b\b\b\b\b\b\b\b\b\b\b\b\b\b\b\b\b\b\b\b\b\b\b\b\b\b\b\bETA: 6s430ms | Step: 105ms\b\b\b\b\b\b\b\b\b\b\b\b\b\b\b\b\b\b\b\b\b\b\b\b\b\b\b\b\b\b\b\b\b\b\b\b\b\b\b\b\b\b\b\b\b\b\b\b\b\b\b\b\b\b\b\b\b\b\b\b\b\b\b\b\b\b\b\b\b\b\b\b\b 35/96 \r"
       ]
      },
      {
       "metadata": {},
       "output_type": "pyout",
       "prompt_number": 413,
       "text": [
        "HERE OPTIM\t\n",
        "BEFORE FORWARD\t\n",
        "1\t\n"
       ]
      },
      {
       "metadata": {},
       "output_type": "pyout",
       "prompt_number": 413,
       "text": [
        "AFTER FORWARD\t\n",
        "NEO\t\n",
        " 4.4798\n",
        " 5.5204\n",
        "[torch.FloatTensor of dimension 2]\n",
        "\n",
        "1\t\n",
        "BLAH\t\n",
        " ** On entry to SGEMM  parameter number 10 had an illegal value\n"
       ]
      },
      {
       "metadata": {},
       "output_type": "pyout",
       "prompt_number": 413,
       "text": [
        " ** On entry to SGEMM  parameter number 10 had an illegal value\n"
       ]
      },
      {
       "metadata": {},
       "output_type": "pyout",
       "prompt_number": 413,
       "text": [
        "\r",
        " [===========================>.................................................]                                                   \b\b\b\b\b\b\b\b\b\b\b\b\b\b\b\b\b\b\b\b\b\b\b\b\b\b\b\b\b\b\b\b\b\b\b\b\b\b\b\b\b\b\b\b\b\b\b\b\b\bETA: 6s174ms | Step: 102ms\b\b\b\b\b\b\b\b\b\b\b\b\b\b\b\b\b\b\b\b\b\b\b\b\b\b\b\b\b\b\b\b\b\b\b\b\b\b\b\b\b\b\b\b\b\b\b\b\b\b\b\b\b\b\b\b\b\b\b\b\b\b\b\b\b\b\b\b\b\b\b\b\b 36/96 \r",
        "HERE OPTIM\t\n",
        "BEFORE FORWARD\t\n",
        "1\t\n"
       ]
      },
      {
       "metadata": {},
       "output_type": "pyout",
       "prompt_number": 413,
       "text": [
        "AFTER FORWARD\t\n",
        "NEO\t\n",
        " 4.5351\n",
        " 5.4652\n",
        "[torch.FloatTensor of dimension 2]\n",
        "\n",
        "2\t\n",
        "BLAH\t\n",
        " ** On entry to SGEMM  parameter number 10 had an illegal value\n"
       ]
      },
      {
       "metadata": {},
       "output_type": "pyout",
       "prompt_number": 413,
       "text": [
        " ** On entry to SGEMM  parameter number 10 had an illegal value\n"
       ]
      },
      {
       "metadata": {},
       "output_type": "pyout",
       "prompt_number": 413,
       "text": [
        "\r",
        " [============================>................................................]                                                   \b\b\b\b\b\b\b\b\b\b\b\b\b\b\b\b\b\b\b\b\b\b\b\b\b\b\b\b\b\b\b\b\b\b\b\b\b\b\b\b\b\b\b\b\b\b\b\b\b\b"
       ]
      },
      {
       "metadata": {},
       "output_type": "pyout",
       "prompt_number": 413,
       "text": [
        "ETA: 5s920ms | Step: 100ms\b\b\b\b\b\b\b\b\b\b\b\b\b\b\b\b\b\b\b\b\b\b\b\b\b\b\b\b\b\b\b\b\b\b\b\b\b\b\b\b\b\b\b\b\b\b\b\b\b\b\b\b\b\b\b\b\b\b\b\b\b\b\b\b\b\b\b\b\b\b\b\b\b 37/96 \r",
        "HERE OPTIM\t\n",
        "BEFORE FORWARD\t\n",
        "1\t\n"
       ]
      },
      {
       "metadata": {},
       "output_type": "pyout",
       "prompt_number": 413,
       "text": [
        "AFTER FORWARD\t\n",
        "NEO\t\n",
        " 4.4907\n",
        " 5.5095\n",
        "[torch.FloatTensor of dimension 2]\n",
        "\n",
        "1\t\n",
        "BLAH\t\n"
       ]
      },
      {
       "metadata": {},
       "output_type": "pyout",
       "prompt_number": 413,
       "text": [
        " ** On entry to SGEMM  parameter number 10 had an illegal value\n"
       ]
      },
      {
       "metadata": {},
       "output_type": "pyout",
       "prompt_number": 413,
       "text": [
        " ** On entry to SGEMM  parameter number 10 had an illegal value\n",
        "\r",
        " [=============================>...............................................]                                                   \b\b\b\b\b\b\b\b\b\b\b\b\b\b\b\b\b\b\b\b\b\b\b\b\b\b\b\b\b\b\b\b\b\b\b\b\b\b\b\b\b\b\b\b\b\b\b\b\b\b"
       ]
      },
      {
       "metadata": {},
       "output_type": "pyout",
       "prompt_number": 413,
       "text": [
        "ETA: 5s672ms | Step: 97ms\b\b\b\b\b\b\b\b\b\b\b\b\b\b\b\b\b\b\b\b\b\b\b\b\b\b\b\b\b\b\b\b\b\b\b\b\b\b\b\b\b\b\b\b\b\b\b\b\b\b\b\b\b\b\b\b\b\b\b\b\b\b\b\b\b\b\b\b\b\b\b\b 38/96 \r",
        "HERE OPTIM\t\n",
        "BEFORE FORWARD\t\n",
        "1\t\n"
       ]
      },
      {
       "metadata": {},
       "output_type": "pyout",
       "prompt_number": 413,
       "text": [
        "AFTER FORWARD\t\n",
        "NEO\t\n",
        " 4.5448\n",
        " 5.4554\n",
        "[torch.FloatTensor of dimension 2]\n",
        "\n",
        "1\t\n",
        "BLAH\t\n",
        " ** On entry to SGEMM  parameter number 10 had an illegal value\n"
       ]
      },
      {
       "metadata": {},
       "output_type": "pyout",
       "prompt_number": 413,
       "text": [
        " ** On entry to SGEMM  parameter number 10 had an illegal value\n"
       ]
      },
      {
       "metadata": {},
       "output_type": "pyout",
       "prompt_number": 413,
       "text": [
        "\r",
        " [==============================>..............................................]                                                   \b\b\b\b\b\b\b\b\b\b\b\b\b\b\b\b\b\b\b\b\b\b\b\b\b\b\b\b\b\b\b\b\b\b\b\b\b\b\b\b\b\b\b\b\b\b\b\b\b\bETA: 5s437ms | Step: 95ms\b\b\b\b\b\b\b\b\b\b\b\b\b\b\b\b\b\b\b\b\b\b\b\b\b\b\b\b\b\b\b\b\b\b\b\b\b\b\b\b\b\b\b\b\b\b\b\b\b\b\b\b\b\b\b\b\b\b\b\b\b\b\b\b\b\b\b\b\b\b\b\b 39/96 \r",
        "HERE OPTIM\t\n",
        "BEFORE FORWARD\t\n",
        "1\t\n"
       ]
      },
      {
       "metadata": {},
       "output_type": "pyout",
       "prompt_number": 413,
       "text": [
        "AFTER FORWARD\t\n",
        "NEO\t\n",
        " 4.5994\n",
        " 5.4009\n",
        "[torch.FloatTensor of dimension 2]\n",
        "\n",
        "2\t\n",
        "BLAH\t\n",
        " ** On entry to SGEMM  parameter number 10 had an illegal value\n"
       ]
      },
      {
       "metadata": {},
       "output_type": "pyout",
       "prompt_number": 413,
       "text": [
        " ** On entry to SGEMM  parameter number 10 had an illegal value\n"
       ]
      },
      {
       "metadata": {},
       "output_type": "pyout",
       "prompt_number": 413,
       "text": [
        "\r",
        " [==========================="
       ]
      },
      {
       "metadata": {},
       "output_type": "pyout",
       "prompt_number": 413,
       "text": [
        "====>.............................................]                                                   \b\b\b\b\b\b\b\b\b\b\b\b\b\b\b\b\b\b\b\b\b\b\b\b\b\b\b\b\b\b\b\b\b\b\b\b\b\b\b\b\b\b\b\b\b\b\b\b\b\bETA: 5s250ms | Step: 93ms\b\b\b\b\b\b\b\b\b\b\b\b\b\b\b\b\b\b\b\b\b\b\b\b\b\b\b\b\b\b\b\b\b\b\b\b\b\b\b\b\b\b\b\b\b\b\b\b\b\b\b\b\b\b\b\b\b\b\b\b\b\b\b\b\b\b\b\b\b\b\b\b 40/96 \r",
        "HERE OPTIM\t\n",
        "BEFORE FORWARD\t\n",
        "1\t\n"
       ]
      },
      {
       "metadata": {},
       "output_type": "pyout",
       "prompt_number": 413,
       "text": [
        "AFTER FORWARD\t\n",
        "NEO\t\n",
        " 4.5544\n",
        " 5.4459\n",
        "[torch.FloatTensor of dimension 2]\n",
        "\n",
        "2\t\n",
        "BLAH\t\n"
       ]
      },
      {
       "metadata": {},
       "output_type": "pyout",
       "prompt_number": 413,
       "text": [
        " ** On entry to SGEMM  parameter number 10 had an illegal value\n"
       ]
      },
      {
       "metadata": {},
       "output_type": "pyout",
       "prompt_number": 413,
       "text": [
        " ** On entry to SGEMM  parameter number 10 had an illegal value\n"
       ]
      },
      {
       "metadata": {},
       "output_type": "pyout",
       "prompt_number": 413,
       "text": [
        "\r",
        " [==============================="
       ]
      },
      {
       "metadata": {},
       "output_type": "pyout",
       "prompt_number": 413,
       "text": [
        ">.............................................]                                                   \b\b\b\b\b\b\b\b\b\b\b\b\b\b\b\b\b\b\b\b\b\b\b\b\b\b\b\b\b\b\b\b\b\b\b\b\b\b\b\b\b\b\b\b\b\b\b\b\b\bETA: 5s942ms | Step: 108ms\b\b\b\b\b\b\b\b\b\b\b\b\b\b\b\b\b\b\b\b\b\b\b\b\b\b\b\b\b\b\b\b\b\b\b\b\b\b\b\b\b\b\b\b\b\b\b\b\b\b\b\b\b\b\b\b\b\b\b\b\b\b\b\b\b\b\b\b\b\b\b\b\b 41/96 \r",
        "HERE OPTIM\t\n",
        "BEFORE FORWARD\t\n",
        "1\t\n"
       ]
      },
      {
       "metadata": {},
       "output_type": "pyout",
       "prompt_number": 413,
       "text": [
        "AFTER FORWARD\t\n",
        "NEO\t\n",
        " 4.5088\n",
        " 5.4914\n",
        "[torch.FloatTensor of dimension 2]\n",
        "\n",
        "2\t\n"
       ]
      },
      {
       "metadata": {},
       "output_type": "pyout",
       "prompt_number": 413,
       "text": [
        "BLAH\t\n",
        " ** On entry to SGEMM  parameter number 10 had an illegal value\n"
       ]
      },
      {
       "metadata": {},
       "output_type": "pyout",
       "prompt_number": 413,
       "text": [
        " ** On entry to SGEMM  parameter number 10 had an illegal value\n"
       ]
      },
      {
       "metadata": {},
       "output_type": "pyout",
       "prompt_number": 413,
       "text": [
        "\r",
        " [================================>............................................]                                                   \b\b\b\b\b\b\b\b\b\b\b\b\b\b\b\b\b\b\b\b\b\b\b\b\b\b\b\b\b\b\b\b\b\b\b\b\b\b\b\b\b\b\b\b\b\b\b\b\b\bETA: 5s733ms | Step: 106ms\b\b\b\b\b\b\b\b\b\b\b\b\b\b\b\b\b\b\b\b\b\b\b\b\b\b\b\b\b\b\b\b\b\b\b\b\b\b\b\b\b\b\b\b\b\b\b\b\b\b\b\b\b\b\b\b\b\b\b\b\b\b\b\b\b\b\b\b\b\b\b\b\b 42/96 \r",
        "HERE OPTIM\t\n",
        "BEFORE FORWARD\t\n",
        "1\t\n"
       ]
      },
      {
       "metadata": {},
       "output_type": "pyout",
       "prompt_number": 413,
       "text": [
        "AFTER FORWARD\t\n",
        "NEO\t\n",
        " 4.4637\n",
        " 5.5365\n",
        "[torch.FloatTensor of dimension 2]\n",
        "\n",
        "2\t\n",
        "BLAH\t\n",
        " ** On entry to SGEMM  parameter number 10 had an illegal value\n"
       ]
      },
      {
       "metadata": {},
       "output_type": "pyout",
       "prompt_number": 413,
       "text": [
        " ** On entry to SGEMM  parameter number 10 had an illegal value\n"
       ]
      },
      {
       "metadata": {},
       "output_type": "pyout",
       "prompt_number": 413,
       "text": [
        "\r",
        " [=================================>...........................................]                                                   \b\b\b\b\b\b\b\b\b\b\b\b\b\b\b\b\b\b\b\b\b\b\b\b\b\b\b\b\b\b\b\b\b\b\b\b\b\b\b\b\b\b\b\b\b\b\b\b\b\bETA: 5s572ms | Step: 105ms\b\b\b\b\b\b\b\b\b\b\b\b\b\b\b\b\b\b\b\b\b\b\b\b\b\b\b\b\b\b\b\b\b\b\b\b\b\b\b\b\b\b\b\b\b\b\b\b\b\b\b\b\b\b\b\b\b\b\b\b\b\b\b\b\b\b\b\b\b\b\b\b\b 43/96 \r",
        "HERE OPTIM\t\n",
        "BEFORE FORWARD\t\n",
        "1\t\n"
       ]
      },
      {
       "metadata": {},
       "output_type": "pyout",
       "prompt_number": 413,
       "text": [
        "AFTER FORWARD\t\n",
        "NEO\t\n",
        " 4.4191\n",
        " 5.5811\n",
        "[torch.FloatTensor of dimension 2]\n",
        "\n",
        "1\t\n",
        "BLAH\t\n",
        " ** On entry to SGEMM  parameter number 10 had an illegal value\n"
       ]
      },
      {
       "metadata": {},
       "output_type": "pyout",
       "prompt_number": 413,
       "text": [
        " ** On entry to SGEMM  parameter number 10 had an illegal value\n"
       ]
      },
      {
       "metadata": {},
       "output_type": "pyout",
       "prompt_number": 413,
       "text": [
        "\r",
        " [==================================>..........................................]                                                   \b\b\b\b\b\b\b\b\b\b\b\b\b\b\b\b\b\b\b\b\b\b\b\b\b\b\b\b\b\b\b\b\b\b\b\b\b\b\b\b\b\b\b\b\b\b\b\b\b\bETA: 5s354ms | Step: 102ms\b\b\b\b\b\b\b\b\b\b\b\b\b\b\b\b\b\b\b\b\b\b\b\b\b\b\b\b\b\b\b\b\b\b\b\b\b\b\b\b\b\b\b\b\b\b\b\b\b\b\b\b\b\b\b\b\b\b\b\b\b\b\b\b\b\b\b\b\b\b\b\b\b 44/96 \r",
        "HERE OPTIM\t\n",
        "BEFORE FORWARD\t\n",
        "1\t\n"
       ]
      },
      {
       "metadata": {},
       "output_type": "pyout",
       "prompt_number": 413,
       "text": [
        "AFTER FORWARD\t\n",
        "NEO\t\n",
        " 4.4739\n",
        " 5.5263\n",
        "[torch.FloatTensor of dimension 2]\n",
        "\n",
        "2\t\n",
        "BLAH\t\n",
        " ** On entry to SGEMM  parameter number 10 had an illegal value\n"
       ]
      },
      {
       "metadata": {},
       "output_type": "pyout",
       "prompt_number": 413,
       "text": [
        " ** On entry to SGEMM  parameter number 10 had an illegal value\n"
       ]
      },
      {
       "metadata": {},
       "output_type": "pyout",
       "prompt_number": 413,
       "text": [
        "\r",
        " [===================================>.........................................]                                                   \b\b\b\b\b\b\b\b\b\b\b\b\b\b\b\b\b\b\b\b\b\b\b\b\b\b\b\b\b\b\b\b\b\b\b\b\b\b\b\b\b\b\b\b\b\b\b\b\b\bETA: 5s229ms | Step: 102ms\b\b\b\b\b\b\b\b\b\b\b\b\b\b\b\b\b\b\b\b\b\b\b\b\b\b\b\b\b\b\b\b\b\b\b\b\b\b\b\b\b\b\b\b\b\b\b\b\b\b\b\b\b\b\b\b\b\b\b\b\b\b\b\b\b\b\b\b\b\b\b\b\b 45/96 \r",
        "HERE OPTIM\t\n",
        "BEFORE FORWARD\t\n",
        "1\t\n"
       ]
      },
      {
       "metadata": {},
       "output_type": "pyout",
       "prompt_number": 413,
       "text": [
        "AFTER FORWARD\t\n",
        "NEO\t\n",
        " 4.4302\n",
        " 5.5701\n",
        "[torch.FloatTensor of dimension 2]\n",
        "\n",
        "2\t\n",
        "BLAH\t\n",
        " ** On entry to SGEMM  parameter number 10 had an illegal value\n"
       ]
      },
      {
       "metadata": {},
       "output_type": "pyout",
       "prompt_number": 413,
       "text": [
        " ** On entry to SGEMM  parameter number 10 had an illegal value\n"
       ]
      },
      {
       "metadata": {},
       "output_type": "pyout",
       "prompt_number": 413,
       "text": [
        "\r",
        " [===================================>.........................................]                                                   \b\b\b\b\b\b\b\b\b\b\b\b\b\b\b\b\b\b\b\b\b\b\b\b\b\b\b\b\b\b\b\b\b\b\b\b\b\b\b\b\b\b\b\b\b\b\b\b\b\bETA: 5s68ms | Step: 101ms\b\b\b\b\b\b\b\b\b\b\b\b\b\b\b\b\b\b\b\b\b\b\b\b\b\b\b\b\b\b\b\b\b\b\b\b\b\b\b\b\b\b\b\b\b\b\b\b\b\b\b\b\b\b\b\b\b\b\b\b\b\b\b\b\b\b\b\b\b\b\b\b 46/96 \r",
        "HERE OPTIM\t\n",
        "BEFORE FORWARD\t\n",
        "1\t\n"
       ]
      },
      {
       "metadata": {},
       "output_type": "pyout",
       "prompt_number": 413,
       "text": [
        "AFTER FORWARD\t\n",
        "NEO\t\n",
        " 4.3859\n",
        " 5.6144\n",
        "[torch.FloatTensor of dimension 2]\n",
        "\n",
        "2\t\n",
        "BLAH\t\n"
       ]
      },
      {
       "metadata": {},
       "output_type": "pyout",
       "prompt_number": 413,
       "text": [
        " ** On entry to SGEMM  parameter number 10 had an illegal value\n"
       ]
      },
      {
       "metadata": {},
       "output_type": "pyout",
       "prompt_number": 413,
       "text": [
        " ** On entry to SGEMM  parameter number 10 had an illegal value\n"
       ]
      },
      {
       "metadata": {},
       "output_type": "pyout",
       "prompt_number": 413,
       "text": [
        "\r",
        " [====================================>........................................]                                                   \b\b\b\b\b\b\b\b\b\b\b\b\b\b\b\b\b\b\b\b\b\b\b\b\b\b\b\b\b\b\b\b\b\b\b\b\b\b\b\b\b\b\b\b\b\b\b\b\b\bETA: 5s586ms | Step: 114ms"
       ]
      },
      {
       "metadata": {},
       "output_type": "pyout",
       "prompt_number": 413,
       "text": [
        "\b\b\b\b\b\b\b\b\b\b\b\b\b\b\b\b\b\b\b\b\b\b\b\b\b\b\b\b\b\b\b\b\b\b\b\b\b\b\b\b\b\b\b\b\b\b\b\b\b\b\b\b\b\b\b\b\b\b\b\b\b\b\b\b\b\b\b\b\b\b\b\b\b 47/96 \r",
        "HERE OPTIM\t\n",
        "BEFORE FORWARD\t\n",
        "1\t\n"
       ]
      },
      {
       "metadata": {},
       "output_type": "pyout",
       "prompt_number": 413,
       "text": [
        "AFTER FORWARD\t\n",
        "NEO\t\n",
        " 4.3420\n",
        " 5.6582\n",
        "[torch.FloatTensor of dimension 2]\n",
        "\n",
        "2\t\n",
        "BLAH\t\n"
       ]
      },
      {
       "metadata": {},
       "output_type": "pyout",
       "prompt_number": 413,
       "text": [
        " ** On entry to SGEMM  parameter number 10 had an illegal value\n"
       ]
      },
      {
       "metadata": {},
       "output_type": "pyout",
       "prompt_number": 413,
       "text": [
        " ** On entry to SGEMM  parameter number 10 had an illegal value\n"
       ]
      },
      {
       "metadata": {},
       "output_type": "pyout",
       "prompt_number": 413,
       "text": [
        "\r",
        " [=====================================>.......................................]                                                   \b\b\b\b\b\b\b\b\b\b\b\b\b\b\b\b\b\b\b\b\b\b\b\b\b\b\b\b\b\b\b\b\b\b\b\b\b\b\b\b\b\b\b\b\b\b\b\b\b\bETA: 6s516ms | Step: 135ms\b\b\b\b\b\b\b\b\b\b\b\b\b\b\b\b\b\b\b\b"
       ]
      },
      {
       "metadata": {},
       "output_type": "pyout",
       "prompt_number": 413,
       "text": [
        "\b\b\b\b\b\b\b\b\b\b\b\b\b\b\b\b\b\b\b\b\b\b\b\b\b\b\b\b\b\b\b\b\b\b\b\b\b\b\b\b\b\b\b\b\b\b\b\b\b\b\b\b\b 48/96 \r",
        "HERE OPTIM\t\n",
        "BEFORE FORWARD\t\n",
        "1\t\n"
       ]
      },
      {
       "metadata": {},
       "output_type": "pyout",
       "prompt_number": 413,
       "text": [
        "AFTER FORWARD\t\n",
        "NEO\t\n",
        " 4.2986\n",
        " 5.7015\n",
        "[torch.FloatTensor of dimension 2]\n",
        "\n",
        "2\t\n",
        "BLAH\t\n",
        " ** On entry to SGEMM  parameter number 10 had an illegal value\n"
       ]
      },
      {
       "metadata": {},
       "output_type": "pyout",
       "prompt_number": 413,
       "text": [
        " ** On entry to SGEMM  parameter number 10 had an illegal value\n"
       ]
      },
      {
       "metadata": {},
       "output_type": "pyout",
       "prompt_number": 413,
       "text": [
        "\r",
        " [======================================>......................................]                                                   \b\b\b\b\b\b\b\b\b\b\b\b\b\b\b\b\b\b\b\b\b\b\b\b\b\b\b\b\b\b\b\b\b\b\b\b\b\b\b\b\b\b\b\b\b\b\b\b\b\bETA: 6s266ms | Step: 133ms\b\b\b\b\b\b\b\b\b\b\b\b\b\b\b\b\b\b\b\b\b\b\b\b\b\b\b\b\b\b\b\b\b\b\b\b\b\b\b\b\b\b\b\b\b\b\b\b\b\b\b\b\b\b\b\b\b\b\b\b\b\b\b\b\b\b\b\b\b\b\b\b\b 49/96 \r",
        "HERE OPTIM\t\n",
        "BEFORE FORWARD\t\n",
        "1\t\n"
       ]
      },
      {
       "metadata": {},
       "output_type": "pyout",
       "prompt_number": 413,
       "text": [
        "AFTER FORWARD\t\n",
        "NEO\t\n",
        " 4.2556\n",
        " 5.7445\n",
        "[torch.FloatTensor of dimension 2]\n",
        "\n",
        "1\t\n",
        "BLAH\t\n",
        " ** On entry to SGEMM  parameter number 10 had an illegal value\n"
       ]
      },
      {
       "metadata": {},
       "output_type": "pyout",
       "prompt_number": 413,
       "text": [
        " ** On entry to SGEMM  parameter number 10 had an illegal value\n"
       ]
      },
      {
       "metadata": {},
       "output_type": "pyout",
       "prompt_number": 413,
       "text": [
        "\r",
        " [=======================================>.....................................]                                                   \b\b\b\b\b\b\b\b\b\b\b\b\b\b\b\b\b\b"
       ]
      },
      {
       "metadata": {},
       "output_type": "pyout",
       "prompt_number": 413,
       "text": [
        "\b\b\b\b\b\b\b\b\b\b\b\b\b\b\b\b\b\b\b\b\b\b\b\b\b\b\b\b\b\b\b\bETA: 6s16ms | Step: 130ms\b\b\b\b\b\b\b\b\b\b\b\b\b\b\b\b\b\b\b\b\b\b\b\b\b\b\b\b\b\b\b\b\b\b\b\b\b\b\b\b\b\b\b\b\b\b\b\b\b\b\b\b\b\b\b\b\b\b\b\b\b\b\b\b\b\b\b\b\b\b\b\b 50/96 \r",
        "HERE OPTIM\t\n",
        "BEFORE FORWARD\t\n",
        "1\t\n"
       ]
      },
      {
       "metadata": {},
       "output_type": "pyout",
       "prompt_number": 413,
       "text": [
        "AFTER FORWARD\t\n",
        "NEO\t\n",
        " 4.3120\n",
        " 5.6881\n",
        "[torch.FloatTensor of dimension 2]\n",
        "\n",
        "2\t\n",
        "BLAH\t\n"
       ]
      },
      {
       "metadata": {},
       "output_type": "pyout",
       "prompt_number": 413,
       "text": [
        " ** On entry to SGEMM  parameter number 10 had an illegal value\n"
       ]
      },
      {
       "metadata": {},
       "output_type": "pyout",
       "prompt_number": 413,
       "text": [
        " ** On entry to SGEMM  parameter number 10 had an illegal value\n"
       ]
      },
      {
       "metadata": {},
       "output_type": "pyout",
       "prompt_number": 413,
       "text": [
        "\r",
        " [=======================================>.....................................]                                                   \b\b\b\b\b\b\b\b\b\b\b\b\b\b\b\b\b\b\b\b\b\b\b\b\b\b\b\b\b\b\b\b\b\b\b\b\b\b\b\b\b\b\b\b\b\b\b\b\b\bETA: 5s977ms | Step: 132ms\b\b\b\b\b\b\b\b\b\b\b\b\b\b\b\b\b\b\b\b\b\b\b\b\b\b\b\b\b\b\b\b\b\b\b\b\b\b"
       ]
      },
      {
       "metadata": {},
       "output_type": "pyout",
       "prompt_number": 413,
       "text": [
        "\b\b\b\b\b\b\b\b\b\b\b\b\b\b\b\b\b\b\b\b\b\b\b\b\b\b\b\b\b\b\b\b\b\b\b 51/96 \r",
        "HERE OPTIM\t\n",
        "BEFORE FORWARD\t\n",
        "1\t\n"
       ]
      },
      {
       "metadata": {},
       "output_type": "pyout",
       "prompt_number": 413,
       "text": [
        "AFTER FORWARD\t\n",
        "NEO\t\n",
        " 4.2699\n",
        " 5.7302\n",
        "[torch.FloatTensor of dimension 2]\n",
        "\n",
        "1\t\n",
        "BLAH\t\n",
        " ** On entry to SGEMM  parameter number 10 had an illegal value\n"
       ]
      },
      {
       "metadata": {},
       "output_type": "pyout",
       "prompt_number": 413,
       "text": [
        " ** On entry to SGEMM  parameter number 10 had an illegal value\n",
        "\r",
        " [========================================>....................................]                                                   \b\b\b\b\b\b\b\b\b\b\b\b\b\b\b\b\b\b\b\b\b\b\b\b\b\b\b\b\b\b\b\b\b\b\b\b\b\b\b\b\b\b\b\b\b\b\b\b\b\bETA: 5s737ms | Step: 130ms\b\b\b\b\b\b\b\b\b\b\b\b\b\b\b\b\b\b\b\b\b\b\b\b\b\b\b\b\b\b\b\b\b\b\b\b\b\b\b\b\b\b\b\b\b\b\b\b\b\b\b\b\b\b\b\b\b\b\b\b\b\b\b\b\b\b\b\b\b\b\b\b\b 52/96 \r",
        "HERE OPTIM\t\n",
        "BEFORE FORWARD\t\n",
        "1\t\n"
       ]
      },
      {
       "metadata": {},
       "output_type": "pyout",
       "prompt_number": 413,
       "text": [
        "AFTER FORWARD\t\n",
        "NEO\t\n",
        " 4.3262\n",
        " 5.6739\n",
        "[torch.FloatTensor of dimension 2]\n",
        "\n",
        "1\t\n",
        "BLAH\t\n",
        " ** On entry to SGEMM  parameter number 10 had an illegal value\n"
       ]
      },
      {
       "metadata": {},
       "output_type": "pyout",
       "prompt_number": 413,
       "text": [
        " ** On entry to SGEMM  parameter number 10 had an illegal value\n"
       ]
      },
      {
       "metadata": {},
       "output_type": "pyout",
       "prompt_number": 413,
       "text": [
        "\r",
        " [=========================================>...................................]                                                   \b\b\b\b\b\b\b\b\b\b\b\b\b\b\b\b\b\b\b\b\b\b\b\b\b\b\b\b\b\b\b\b\b\b\b\b\b\b\b\b\b\b\b\b\b\b\b\b\b\bETA: 5s507ms | Step: 128ms\b\b\b\b\b\b\b\b\b\b\b\b\b\b\b\b\b\b\b\b\b\b\b\b\b\b\b\b\b\b\b\b\b\b\b\b\b\b\b\b\b\b\b\b\b\b\b\b\b\b\b\b\b\b\b\b\b\b\b\b\b\b\b\b\b\b\b\b\b\b\b\b\b 53/96 \r",
        "HERE OPTIM\t\n",
        "BEFORE FORWARD\t\n",
        "1\t\n"
       ]
      },
      {
       "metadata": {},
       "output_type": "pyout",
       "prompt_number": 413,
       "text": [
        "AFTER FORWARD\t\n",
        "NEO\t\n",
        " 4.3829\n",
        " 5.6172\n",
        "[torch.FloatTensor of dimension 2]\n",
        "\n",
        "1\t\n",
        "BLAH\t\n"
       ]
      },
      {
       "metadata": {},
       "output_type": "pyout",
       "prompt_number": 413,
       "text": [
        " ** On entry to SGEMM  parameter number 10 had an illegal value\n"
       ]
      },
      {
       "metadata": {},
       "output_type": "pyout",
       "prompt_number": 413,
       "text": [
        " ** On entry to SGEMM  parameter number 10 had an illegal value\n"
       ]
      },
      {
       "metadata": {},
       "output_type": "pyout",
       "prompt_number": 413,
       "text": [
        "\r",
        " [==========================================>..................................]                                                   \b\b\b\b\b\b\b\b\b\b\b\b\b\b\b\b\b\b\b\b\b\b\b\b\b\b\b\b\b\b\b\b\b\b\b\b\b\b\b\b\b\b\b\b\b\b\b\b\b\bETA: 5s304ms | Step: 126ms\b\b\b\b\b\b\b\b\b\b\b\b\b\b\b\b\b\b\b\b\b\b\b\b\b\b\b\b\b\b\b\b\b\b\b\b\b\b\b\b\b\b\b\b\b\b\b\b\b\b\b\b\b\b\b\b\b\b\b\b\b\b\b\b\b\b\b\b\b\b\b\b\b 54/96 \r",
        "HERE OPTIM\t\n",
        "BEFORE FORWARD\t\n",
        "1\t\n"
       ]
      },
      {
       "metadata": {},
       "output_type": "pyout",
       "prompt_number": 413,
       "text": [
        "AFTER FORWARD\t\n",
        "NEO\t\n"
       ]
      },
      {
       "metadata": {},
       "output_type": "pyout",
       "prompt_number": 413,
       "text": [
        " 4.4391\n",
        " 5.5610\n",
        "[torch.FloatTensor of dimension 2]\n",
        "\n",
        "2\t\n",
        "BLAH\t\n",
        " ** On entry to SGEMM  parameter number 10 had an illegal value\n"
       ]
      },
      {
       "metadata": {},
       "output_type": "pyout",
       "prompt_number": 413,
       "text": [
        " ** On entry to SGEMM  parameter number 10 had an illegal value\n"
       ]
      },
      {
       "metadata": {},
       "output_type": "pyout",
       "prompt_number": 413,
       "text": [
        "\r",
        " [===========================================>.................................]                                                   \b\b\b\b\b\b\b\b\b\b\b\b\b\b\b\b\b\b\b\b\b\b\b\b\b\b\b\b\b\b\b\b\b\b\b\b\b\b\b\b\b\b\b\b\b\b\b\b\b\bETA: 5s131ms | Step: 125ms\b\b\b\b\b\b\b\b\b\b\b\b\b\b\b\b\b\b\b\b\b\b\b\b\b\b\b\b\b\b\b\b\b\b\b\b\b\b\b\b\b\b\b\b\b\b\b\b\b\b\b\b\b\b\b\b\b\b\b\b\b\b\b\b\b\b\b\b\b\b\b\b\b 55/96 \r",
        "HERE OPTIM\t\n",
        "BEFORE FORWARD\t\n",
        "1\t\n"
       ]
      },
      {
       "metadata": {},
       "output_type": "pyout",
       "prompt_number": 413,
       "text": [
        "AFTER FORWARD\t\n",
        "NEO\t\n",
        " 4.3957\n",
        " 5.6044\n",
        "[torch.FloatTensor of dimension 2]\n",
        "\n",
        "1\t\n",
        "BLAH\t\n",
        " ** On entry to SGEMM  parameter number 10 had an illegal value\n"
       ]
      },
      {
       "metadata": {},
       "output_type": "pyout",
       "prompt_number": 413,
       "text": [
        " ** On entry to SGEMM  parameter number 10 had an illegal value\n"
       ]
      },
      {
       "metadata": {},
       "output_type": "pyout",
       "prompt_number": 413,
       "text": [
        "\r",
        " [===========================================>.................................]                                                   \b\b\b\b\b\b\b\b\b\b\b\b\b\b\b\b\b\b\b\b\b\b\b\b\b\b\b\b\b\b\b\b\b\b\b\b\b\b\b\b\b\b\b\b\b\b\b\b\b\bETA: 4s921ms | Step: 123ms\b\b\b\b\b\b\b\b\b\b\b\b\b\b\b\b\b\b\b\b\b\b\b\b\b\b\b\b\b\b\b\b\b\b\b\b\b\b\b"
       ]
      },
      {
       "metadata": {},
       "output_type": "pyout",
       "prompt_number": 413,
       "text": [
        "\b\b\b\b\b\b\b\b\b\b\b\b\b\b\b\b\b\b\b\b\b\b\b\b\b\b\b\b\b\b\b\b\b\b 56/96 \r",
        "HERE OPTIM\t\n",
        "BEFORE FORWARD\t\n",
        "1\t\n"
       ]
      },
      {
       "metadata": {},
       "output_type": "pyout",
       "prompt_number": 413,
       "text": [
        "AFTER FORWARD\t\n",
        "NEO\t\n",
        " 4.4508\n",
        " 5.5493\n",
        "[torch.FloatTensor of dimension 2]\n",
        "\n",
        "1\t\n",
        "BLAH\t\n",
        " ** On entry to SGEMM  parameter number 10 had an illegal value\n"
       ]
      },
      {
       "metadata": {},
       "output_type": "pyout",
       "prompt_number": 413,
       "text": [
        " ** On entry to SGEMM  parameter number 10 had an illegal value\n"
       ]
      },
      {
       "metadata": {},
       "output_type": "pyout",
       "prompt_number": 413,
       "text": [
        "\r",
        " [============================================>................................]                                                   \b\b\b\b\b\b\b\b\b\b\b\b\b\b\b\b\b\b\b\b\b\b\b\b\b\b\b\b\b\b\b\b\b\b\b\b\b\b\b\b\b\b\b\b\b\b\b\b\b\bETA: 4s717ms | Step: 120ms\b\b\b\b\b\b\b\b\b\b\b\b\b\b\b\b\b\b\b\b\b\b\b\b\b\b\b\b\b\b\b\b\b\b\b\b\b\b\b\b\b\b\b\b\b\b\b\b\b\b\b\b\b\b\b\b\b\b\b\b\b\b\b\b\b\b\b\b\b\b\b\b\b 57/96 \r",
        "HERE OPTIM\t\n",
        "BEFORE FORWARD\t\n",
        "1\t\n"
       ]
      },
      {
       "metadata": {},
       "output_type": "pyout",
       "prompt_number": 413,
       "text": [
        "AFTER FORWARD\t\n",
        "NEO\t\n",
        " 4.5063\n",
        " 5.4938\n",
        "[torch.FloatTensor of dimension 2]\n",
        "\n",
        "1\t\n",
        "BLAH\t\n",
        " ** On entry to SGEMM  parameter number 10 had an illegal value\n"
       ]
      },
      {
       "metadata": {},
       "output_type": "pyout",
       "prompt_number": 413,
       "text": [
        " ** On entry to SGEMM  parameter number 10 had an illegal value\n"
       ]
      },
      {
       "metadata": {},
       "output_type": "pyout",
       "prompt_number": 413,
       "text": [
        "\r",
        " [=============================================>...............................]                                                   \b\b\b\b\b\b\b\b\b\b\b\b\b\b\b\b\b\b\b\b\b\b\b\b\b\b\b\b\b\b\b\b\b\b\b\b\b\b\b\b\b\b\b\b\b\b\b\b\b\bETA: 4s521ms | Step: 118ms\b\b\b\b\b\b\b\b\b\b\b\b\b\b\b\b\b\b\b\b\b\b\b\b\b\b\b\b\b\b\b\b\b\b\b\b\b\b\b\b\b\b\b\b\b\b\b\b\b\b\b\b\b\b\b\b\b\b\b\b\b\b\b\b\b\b\b\b\b\b\b\b\b 58/96 \r",
        "HERE OPTIM\t\n",
        "BEFORE FORWARD\t\n",
        "1\t\n"
       ]
      },
      {
       "metadata": {},
       "output_type": "pyout",
       "prompt_number": 413,
       "text": [
        "AFTER FORWARD\t\n",
        "NEO\t\n",
        " 4.5612\n",
        " 5.4389\n",
        "[torch.FloatTensor of dimension 2]\n",
        "\n",
        "1\t\n",
        "BLAH\t\n",
        " ** On entry to SGEMM  parameter number 10 had an illegal value\n"
       ]
      },
      {
       "metadata": {},
       "output_type": "pyout",
       "prompt_number": 413,
       "text": [
        " ** On entry to SGEMM  parameter number 10 had an illegal value\n",
        "\r",
        " [==============================================>..............................]                                                   \b\b\b\b\b\b\b\b\b\b\b\b\b\b\b\b\b\b\b\b\b\b\b\b\b\b\b\b\b\b\b\b\b\b\b\b\b\b\b\b\b\b\b\b"
       ]
      },
      {
       "metadata": {},
       "output_type": "pyout",
       "prompt_number": 413,
       "text": [
        "\b\b\b\b\b\bETA: 4s330ms | Step: 117ms\b\b\b\b\b\b\b\b\b\b\b\b\b\b\b\b\b\b\b\b\b\b\b\b\b\b\b\b\b\b\b\b\b\b\b\b\b\b\b\b\b\b\b\b\b\b\b\b\b\b\b\b\b\b\b\b\b\b\b\b\b\b\b\b\b\b\b\b\b\b\b\b\b 59/96 \r",
        "HERE OPTIM\t\n",
        "BEFORE FORWARD\t\n",
        "1\t\n"
       ]
      },
      {
       "metadata": {},
       "output_type": "pyout",
       "prompt_number": 413,
       "text": [
        "AFTER FORWARD\t\n",
        "NEO\t\n",
        " 4.6156\n",
        " 5.3845\n",
        "[torch.FloatTensor of dimension 2]\n",
        "\n",
        "1\t\n",
        "BLAH\t\n",
        " ** On entry to SGEMM  parameter number 10 had an illegal value\n"
       ]
      },
      {
       "metadata": {},
       "output_type": "pyout",
       "prompt_number": 413,
       "text": [
        " ** On entry to SGEMM  parameter number 10 had an illegal value\n"
       ]
      },
      {
       "metadata": {},
       "output_type": "pyout",
       "prompt_number": 413,
       "text": [
        "\r",
        " [===============================================>.............................]                                                   \b\b\b\b\b\b\b\b\b\b\b\b\b\b\b\b\b\b\b\b\b\b\b\b\b\b\b\b\b\b\b\b\b\b\b\b\b\b\b\b\b\b\b\b\b\b\b\b\b\bETA: 4s145ms | Step: 115ms\b\b\b\b\b\b\b\b\b\b\b\b\b\b\b\b\b\b\b\b\b\b\b\b\b\b\b\b\b\b\b\b\b\b\b\b\b\b\b\b\b\b\b\b\b\b\b\b\b\b\b\b\b\b\b\b\b\b\b\b\b\b\b\b\b\b\b\b\b\b\b\b\b 60/96 \r"
       ]
      },
      {
       "metadata": {},
       "output_type": "pyout",
       "prompt_number": 413,
       "text": [
        "HERE OPTIM\t\n",
        "BEFORE FORWARD\t\n",
        "1\t\n"
       ]
      },
      {
       "metadata": {},
       "output_type": "pyout",
       "prompt_number": 413,
       "text": [
        "AFTER FORWARD\t\n",
        "NEO\t\n",
        " 4.6694\n",
        " 5.3307\n",
        "[torch.FloatTensor of dimension 2]\n",
        "\n",
        "2\t\n",
        "BLAH\t\n"
       ]
      },
      {
       "metadata": {},
       "output_type": "pyout",
       "prompt_number": 413,
       "text": [
        " ** On entry to SGEMM  parameter number 10 had an illegal value\n"
       ]
      },
      {
       "metadata": {},
       "output_type": "pyout",
       "prompt_number": 413,
       "text": [
        " ** On entry to SGEMM  parameter number 10 had an illegal value\n"
       ]
      },
      {
       "metadata": {},
       "output_type": "pyout",
       "prompt_number": 413,
       "text": [
        "\r",
        " [=========================="
       ]
      },
      {
       "metadata": {},
       "output_type": "pyout",
       "prompt_number": 413,
       "text": [
        "=====================>.............................]                                                   \b\b\b\b\b\b\b\b\b\b\b\b\b\b\b\b\b\b\b\b\b\b\b\b\b\b\b\b\b\b\b\b\b\b\b\b\b\b\b\b\b\b\b\b\b\b\b\b\b\bETA: 4s150ms | Step: 118ms\b\b\b\b\b\b\b\b\b\b\b\b\b\b\b\b\b\b\b\b\b\b\b\b\b\b\b\b\b\b\b\b\b\b\b\b\b\b\b\b\b\b\b\b\b\b\b\b\b\b\b\b\b\b\b\b\b\b\b\b\b\b\b\b\b\b\b\b\b\b\b\b\b 61/96 \r",
        "HERE OPTIM\t\n",
        "BEFORE FORWARD\t\n",
        "1\t\n"
       ]
      },
      {
       "metadata": {},
       "output_type": "pyout",
       "prompt_number": 413,
       "text": [
        "AFTER FORWARD\t\n",
        "NEO\t\n",
        " 4.6238\n",
        " 5.3764\n",
        "[torch.FloatTensor of dimension 2]\n",
        "\n",
        "2\t\n",
        "BLAH\t\n"
       ]
      },
      {
       "metadata": {},
       "output_type": "pyout",
       "prompt_number": 413,
       "text": [
        " ** On entry to SGEMM  parameter number 10 had an illegal value\n"
       ]
      },
      {
       "metadata": {},
       "output_type": "pyout",
       "prompt_number": 413,
       "text": [
        " ** On entry to SGEMM  parameter number 10 had an illegal value\n"
       ]
      },
      {
       "metadata": {},
       "output_type": "pyout",
       "prompt_number": 413,
       "text": [
        "\r",
        " [================================================>............................]                                                   \b\b\b\b\b\b\b\b\b\b\b\b\b\b\b\b\b\b\b\b\b\b\b\b\b\b\b\b\b\b\b\b\b\b"
       ]
      },
      {
       "metadata": {},
       "output_type": "pyout",
       "prompt_number": 413,
       "text": [
        "\b\b\b\b\b\b\b\b\b\b\b\b\b\b\b\bETA: 3s997ms | Step: 117ms\b\b\b\b\b\b\b\b\b\b\b\b\b\b\b\b\b\b\b\b\b\b\b\b\b\b\b\b\b\b\b\b\b\b\b\b\b\b\b\b\b\b\b\b\b\b\b\b\b\b\b\b\b\b\b\b\b\b\b\b\b\b\b\b\b\b\b\b\b\b\b\b\b 62/96 \r",
        "HERE OPTIM\t\n",
        "BEFORE FORWARD\t\n",
        "1\t\n"
       ]
      },
      {
       "metadata": {},
       "output_type": "pyout",
       "prompt_number": 413,
       "text": [
        "AFTER FORWARD\t\n",
        "NEO\t\n",
        " 4.5775\n",
        " 5.4226\n",
        "[torch.FloatTensor of dimension 2]\n",
        "\n",
        "2\t\n",
        "BLAH\t\n"
       ]
      },
      {
       "metadata": {},
       "output_type": "pyout",
       "prompt_number": 413,
       "text": [
        " ** On entry to SGEMM  parameter number 10 had an illegal value\n"
       ]
      },
      {
       "metadata": {},
       "output_type": "pyout",
       "prompt_number": 413,
       "text": [
        " ** On entry to SGEMM  parameter number 10 had an illegal value\n"
       ]
      },
      {
       "metadata": {},
       "output_type": "pyout",
       "prompt_number": 413,
       "text": [
        "\r",
        " [=================================================>...........................]                                                   \b\b\b\b\b\b\b\b\b\b\b\b\b\b\b\b\b\b\b\b\b\b\b\b\b\b\b\b\b\b\b\b\b\b\b\b\b\b\b\b\b\b\b\b\b\b\b\b\b\bETA: 4s60ms | Step: 123ms\b\b\b\b\b\b\b\b\b\b\b\b\b\b\b\b\b\b\b\b\b\b\b\b\b\b\b\b\b\b\b\b\b\b\b\b\b\b\b\b\b\b\b\b\b\b\b\b\b\b\b\b\b\b\b\b\b\b\b\b\b\b\b\b\b\b\b\b\b\b\b\b 63/96 \r",
        "HERE OPTIM\t\n",
        "BEFORE FORWARD\t\n",
        "1\t\n"
       ]
      },
      {
       "metadata": {},
       "output_type": "pyout",
       "prompt_number": 413,
       "text": [
        "AFTER FORWARD\t\n",
        "NEO\t\n",
        " 4.5317\n",
        " 5.4683\n",
        "[torch.FloatTensor of dimension 2]\n",
        "\n",
        "2\t\n",
        "BLAH\t\n",
        " ** On entry to SGEMM  parameter number 10 had an illegal value\n"
       ]
      },
      {
       "metadata": {},
       "output_type": "pyout",
       "prompt_number": 413,
       "text": [
        " ** On entry to SGEMM  parameter number 10 had an illegal value\n"
       ]
      },
      {
       "metadata": {},
       "output_type": "pyout",
       "prompt_number": 413,
       "text": [
        "\r",
        " [==================================================>..........................]                                                   \b\b\b\b\b\b\b\b\b\b\b\b\b\b\b\b\b\b\b\b\b\b\b\b\b\b\b\b\b\b\b\b\b\b\b\b\b\b\b\b\b\b\b\b\b\b\b\b\b\bETA: 3s889ms | Step: 121ms\b\b\b\b\b\b\b\b\b\b\b\b\b\b\b\b\b\b\b\b\b\b\b\b\b\b\b\b\b\b\b\b\b\b\b\b\b\b\b\b\b\b\b\b\b\b\b\b\b\b\b\b\b\b\b\b\b\b\b\b\b\b\b\b\b\b\b\b\b\b\b\b\b 64/96 \r",
        "HERE OPTIM\t\n",
        "BEFORE FORWARD\t\n",
        "1\t\n"
       ]
      },
      {
       "metadata": {},
       "output_type": "pyout",
       "prompt_number": 413,
       "text": [
        "AFTER FORWARD\t\n",
        "NEO\t\n"
       ]
      },
      {
       "metadata": {},
       "output_type": "pyout",
       "prompt_number": 413,
       "text": [
        " 4.4864\n",
        " 5.5136\n",
        "[torch.FloatTensor of dimension 2]\n",
        "\n",
        "1\t\n",
        "BLAH\t\n",
        " ** On entry to SGEMM  parameter number 10 had an illegal value\n",
        " ** On entry to SGEMM  parameter number 10 had an illegal value\n"
       ]
      },
      {
       "metadata": {},
       "output_type": "pyout",
       "prompt_number": 413,
       "text": [
        "\r",
        " [===================================================>.........................]                                                   \b\b\b\b\b\b\b\b\b\b\b\b\b\b\b\b\b\b\b\b\b\b\b\b\b\b\b\b\b\b\b\b\b\b\b\b\b\b\b\b\b\b\b\b\b\b\b\b\b\b"
       ]
      },
      {
       "metadata": {},
       "output_type": "pyout",
       "prompt_number": 413,
       "text": [
        "ETA: 3s712ms | Step: 119ms\b\b\b\b\b\b\b\b\b\b\b\b\b\b\b\b\b\b\b\b\b\b\b\b\b\b\b\b\b\b\b\b\b\b\b\b\b\b\b\b\b\b\b\b\b\b\b\b\b\b\b\b\b\b\b\b\b\b\b\b\b\b\b\b\b\b\b\b\b\b\b\b\b 65/96 \r",
        "HERE OPTIM\t\n",
        "BEFORE FORWARD\t\n",
        "1\t\n"
       ]
      },
      {
       "metadata": {},
       "output_type": "pyout",
       "prompt_number": 413,
       "text": [
        "AFTER FORWARD\t\n",
        "NEO\t\n",
        " 4.5406\n",
        " 5.4595\n",
        "[torch.FloatTensor of dimension 2]\n",
        "\n",
        "1\t\n",
        "BLAH\t\n",
        " ** On entry to SGEMM  parameter number 10 had an illegal value\n"
       ]
      },
      {
       "metadata": {},
       "output_type": "pyout",
       "prompt_number": 413,
       "text": [
        " ** On entry to SGEMM  parameter number 10 had an illegal value\n"
       ]
      },
      {
       "metadata": {},
       "output_type": "pyout",
       "prompt_number": 413,
       "text": [
        "\r",
        " [===================================================>.........................]                                                   \b\b\b\b\b\b\b\b\b\b\b\b\b\b\b\b\b\b\b\b\b\b\b\b\b\b\b\b\b\b\b\b\b\b\b\b\b\b\b\b\b\b\b\b\b\b\b\b\b\bETA: 3s543ms | Step: 118ms\b\b\b\b\b\b\b\b\b\b\b\b\b\b\b\b\b\b\b\b\b\b\b\b\b\b\b\b\b\b\b\b\b\b\b\b\b\b\b\b\b\b\b\b\b\b\b\b\b\b\b\b\b\b\b\b\b\b\b\b\b\b\b\b\b\b\b\b\b\b\b\b\b 66/96 \r",
        "HERE OPTIM\t\n",
        "BEFORE FORWARD\t\n",
        "1\t\n"
       ]
      },
      {
       "metadata": {},
       "output_type": "pyout",
       "prompt_number": 413,
       "text": [
        "AFTER FORWARD\t\n",
        "NEO\t\n",
        " 4.5951\n",
        " 5.4049\n",
        "[torch.FloatTensor of dimension 2]\n",
        "\n",
        "1\t\n",
        "BLAH\t\n",
        " ** On entry to SGEMM  parameter number 10 had an illegal value\n"
       ]
      },
      {
       "metadata": {},
       "output_type": "pyout",
       "prompt_number": 413,
       "text": [
        " ** On entry to SGEMM  parameter number 10 had an illegal value\n"
       ]
      },
      {
       "metadata": {},
       "output_type": "pyout",
       "prompt_number": 413,
       "text": [
        "\r",
        " [====================================================>........................]                                                   \b\b\b\b\b\b\b\b\b\b\b\b\b\b\b\b\b\b\b\b\b\b\b\b\b\b\b\b\b\b\b\b\b\b\b\b\b\b\b\b\b\b\b\b\b\b\b\b\b\bETA: 3s376ms | Step: 116ms\b\b\b\b\b\b\b\b\b\b\b\b\b\b\b\b\b\b\b\b\b\b\b\b\b\b\b\b\b\b\b\b\b\b\b\b\b\b\b\b\b\b\b\b\b\b\b\b\b\b\b\b\b\b\b\b\b\b\b\b\b\b\b\b\b\b\b\b\b\b\b\b\b 67/96 \r",
        "HERE OPTIM\t\n",
        "BEFORE FORWARD\t\n",
        "1\t\n"
       ]
      },
      {
       "metadata": {},
       "output_type": "pyout",
       "prompt_number": 413,
       "text": [
        "AFTER FORWARD\t\n",
        "NEO\t\n",
        " 4.6492\n",
        " 5.3509\n",
        "[torch.FloatTensor of dimension 2]\n",
        "\n",
        "2\t\n",
        "BLAH\t\n"
       ]
      },
      {
       "metadata": {},
       "output_type": "pyout",
       "prompt_number": 413,
       "text": [
        " ** On entry to SGEMM  parameter number 10 had an illegal value\n"
       ]
      },
      {
       "metadata": {},
       "output_type": "pyout",
       "prompt_number": 413,
       "text": [
        " ** On entry to SGEMM  parameter number 10 had an illegal value\n"
       ]
      },
      {
       "metadata": {},
       "output_type": "pyout",
       "prompt_number": 413,
       "text": [
        "\r",
        " [=====================================================>.......................]                                                   \b\b\b\b\b\b\b\b\b\b"
       ]
      },
      {
       "metadata": {},
       "output_type": "pyout",
       "prompt_number": 413,
       "text": [
        "\b\b\b\b\b\b\b\b\b\b\b\b\b\b\b\b\b\b\b\b\b\b\b\b\b\b\b\b\b\b\b\b\b\b\b\b\b\b\b\bETA: 3s260ms | Step: 116ms\b\b\b\b\b\b\b\b\b\b\b\b\b\b\b\b\b\b\b\b\b\b\b\b\b\b\b\b\b\b\b\b\b\b\b\b\b\b\b\b\b\b\b\b\b\b\b\b\b\b\b\b\b\b\b\b\b\b\b\b\b\b\b\b\b\b\b\b\b\b\b\b\b 68/96 \r",
        "HERE OPTIM\t\n",
        "BEFORE FORWARD\t\n",
        "1\t\n"
       ]
      },
      {
       "metadata": {},
       "output_type": "pyout",
       "prompt_number": 413,
       "text": [
        "AFTER FORWARD\t\n",
        "NEO\t\n",
        " 4.6037\n",
        " 5.3964\n",
        "[torch.FloatTensor of dimension 2]\n",
        "\n",
        "1\t\n",
        "BLAH\t\n",
        " ** On entry to SGEMM  parameter number 10 had an illegal value\n"
       ]
      },
      {
       "metadata": {},
       "output_type": "pyout",
       "prompt_number": 413,
       "text": [
        " ** On entry to SGEMM  parameter number 10 had an illegal value\n"
       ]
      },
      {
       "metadata": {},
       "output_type": "pyout",
       "prompt_number": 413,
       "text": [
        "\r",
        " [======================================================>......................]                                                   \b\b\b\b\b\b\b\b\b\b\b\b\b\b\b\b\b\b\b\b\b\b\b\b\b\b\b\b\b\b\b\b\b\b\b\b\b\b\b\b\b\b\b\b\b\b\b\b\b"
       ]
      },
      {
       "metadata": {},
       "output_type": "pyout",
       "prompt_number": 413,
       "text": [
        "\bETA: 3s106ms | Step: 115ms\b\b\b\b\b\b\b\b\b\b\b\b\b\b\b\b\b\b\b\b\b\b\b\b\b\b\b\b\b\b\b\b\b\b\b\b\b\b\b\b\b\b\b\b\b\b\b\b\b\b\b\b\b\b\b\b\b\b\b\b\b\b\b\b\b\b\b\b\b\b\b\b\b 69/96 \r",
        "HERE OPTIM\t\n",
        "BEFORE FORWARD\t\n",
        "1\t\n"
       ]
      },
      {
       "metadata": {},
       "output_type": "pyout",
       "prompt_number": 413,
       "text": [
        "AFTER FORWARD\t\n",
        "NEO\t\n",
        " 4.6567\n",
        " 5.3434\n",
        "[torch.FloatTensor of dimension 2]\n",
        "\n",
        "2\t\n",
        "BLAH\t\n"
       ]
      },
      {
       "metadata": {},
       "output_type": "pyout",
       "prompt_number": 413,
       "text": [
        " ** On entry to SGEMM  parameter number 10 had an illegal value\n"
       ]
      },
      {
       "metadata": {},
       "output_type": "pyout",
       "prompt_number": 413,
       "text": [
        " ** On entry to SGEMM  parameter number 10 had an illegal value\n"
       ]
      },
      {
       "metadata": {},
       "output_type": "pyout",
       "prompt_number": 413,
       "text": [
        "\r",
        " [=======================================================>.....................]                                                   \b\b\b\b\b\b\b\b\b\b\b\b\b\b\b\b\b\b\b\b\b\b\b\b\b\b\b\b\b\b\b\b\b\b\b\b\b\b\b\b\b\b\b\b\b\b\b\b\b\bETA: 3s128ms | Step: 120ms\b\b\b\b\b\b\b\b\b\b\b\b\b\b\b\b\b\b\b\b\b\b\b\b\b\b\b\b\b\b\b\b\b\b\b\b\b\b\b\b\b\b\b\b\b\b\b\b\b\b\b\b\b\b\b\b\b\b\b\b\b\b\b\b\b\b\b\b\b\b\b\b\b 70/96 \r",
        "HERE OPTIM\t\n",
        "BEFORE FORWARD\t\n",
        "1\t\n"
       ]
      },
      {
       "metadata": {},
       "output_type": "pyout",
       "prompt_number": 413,
       "text": [
        "AFTER FORWARD\t\n",
        "NEO\t\n",
        " 4.6111\n",
        " 5.3890\n",
        "[torch.FloatTensor of dimension 2]\n",
        "\n",
        "1\t\n",
        "BLAH\t\n",
        " ** On entry to SGEMM  parameter number 10 had an illegal value\n"
       ]
      },
      {
       "metadata": {},
       "output_type": "pyout",
       "prompt_number": 413,
       "text": [
        " ** On entry to SGEMM  parameter number 10 had an illegal value\n"
       ]
      },
      {
       "metadata": {},
       "output_type": "pyout",
       "prompt_number": 413,
       "text": [
        "\r",
        " [=======================================================>.....................]                                                   \b\b\b\b\b\b\b\b\b\b\b\b\b\b\b\b\b\b\b\b\b\b\b\b\b\b\b\b\b\b\b\b\b\b\b\b\b\b\b\b\b\b\b\b\b\b\b\b\b\bETA: 2s967ms | Step: 118ms\b\b\b\b\b\b\b\b\b\b\b\b\b\b\b\b\b\b\b\b\b\b\b\b\b\b\b\b\b\b\b\b\b\b\b\b\b\b\b\b\b\b\b\b\b\b\b\b\b\b\b\b\b\b\b\b\b\b\b\b\b\b\b\b\b\b\b\b\b\b\b\b\b 71/96 \r",
        "HERE OPTIM\t\n",
        "BEFORE FORWARD\t\n",
        "1\t\n"
       ]
      },
      {
       "metadata": {},
       "output_type": "pyout",
       "prompt_number": 413,
       "text": [
        "AFTER FORWARD\t\n",
        "NEO\t\n",
        " 4.6640\n",
        " 5.3361\n",
        "[torch.FloatTensor of dimension 2]\n",
        "\n",
        "2\t\n",
        "BLAH\t\n",
        " ** On entry to SGEMM  parameter number 10 had an illegal value\n"
       ]
      },
      {
       "metadata": {},
       "output_type": "pyout",
       "prompt_number": 413,
       "text": [
        " ** On entry to SGEMM  parameter number 10 had an illegal value\n"
       ]
      },
      {
       "metadata": {},
       "output_type": "pyout",
       "prompt_number": 413,
       "text": [
        "\r",
        " [========================================================>....................]                                                   \b\b\b\b\b\b\b"
       ]
      },
      {
       "metadata": {},
       "output_type": "pyout",
       "prompt_number": 413,
       "text": [
        "\b\b\b\b\b\b\b\b\b\b\b\b\b\b\b\b\b\b\b\b\b\b\b\b\b\b\b\b\b\b\b\b\b\b\b\b\b\b\b\b\b\b\bETA: 2s823ms | Step: 117ms\b\b\b\b\b\b\b\b\b\b\b\b\b\b\b\b\b\b\b\b\b\b\b\b\b\b\b\b\b\b\b\b\b\b\b\b\b\b\b\b\b\b\b\b\b\b\b\b\b\b\b\b\b\b\b\b\b\b\b\b\b\b\b\b\b\b\b\b\b\b\b\b\b 72/96 \r",
        "HERE OPTIM\t\n",
        "BEFORE FORWARD\t\n",
        "1\t\n"
       ]
      },
      {
       "metadata": {},
       "output_type": "pyout",
       "prompt_number": 413,
       "text": [
        "AFTER FORWARD\t\n",
        "NEO\t\n",
        " 4.6184\n",
        " 5.3817\n",
        "[torch.FloatTensor of dimension 2]\n",
        "\n",
        "1\t\n",
        "BLAH\t\n",
        " ** On entry to SGEMM  parameter number 10 had an illegal value\n"
       ]
      },
      {
       "metadata": {},
       "output_type": "pyout",
       "prompt_number": 413,
       "text": [
        " ** On entry to SGEMM  parameter number 10 had an illegal value\n"
       ]
      },
      {
       "metadata": {},
       "output_type": "pyout",
       "prompt_number": 413,
       "text": [
        "\r",
        " [===="
       ]
      },
      {
       "metadata": {},
       "output_type": "pyout",
       "prompt_number": 413,
       "text": [
        "=====================================================>...................]                                                   \b\b\b\b\b\b\b\b\b\b\b\b\b\b\b\b\b\b\b\b\b\b\b\b\b\b\b\b\b\b\b\b\b\b\b\b\b\b\b\b\b\b\b\b\b\b\b\b\b\bETA: 2s671ms | Step: 116ms\b\b\b\b\b\b\b\b\b\b\b\b\b\b\b\b\b\b\b\b\b\b\b\b\b\b\b\b\b\b\b\b\b\b\b\b\b\b\b\b\b\b\b\b\b\b\b\b\b\b\b\b\b\b\b\b\b\b\b\b\b\b\b\b\b\b\b\b\b\b\b\b\b 73/96 \r",
        "HERE OPTIM\t\n",
        "BEFORE FORWARD\t\n",
        "1\t\n"
       ]
      },
      {
       "metadata": {},
       "output_type": "pyout",
       "prompt_number": 413,
       "text": [
        "AFTER FORWARD\t\n",
        "NEO\t\n",
        " 4.6712\n",
        " 5.3289\n",
        "[torch.FloatTensor of dimension 2]\n",
        "\n"
       ]
      },
      {
       "metadata": {},
       "output_type": "pyout",
       "prompt_number": 413,
       "text": [
        "2\t\n",
        "BLAH\t\n",
        " ** On entry to SGEMM  parameter number 10 had an illegal value\n"
       ]
      },
      {
       "metadata": {},
       "output_type": "pyout",
       "prompt_number": 413,
       "text": [
        " ** On entry to SGEMM  parameter number 10 had an illegal value\n"
       ]
      },
      {
       "metadata": {},
       "output_type": "pyout",
       "prompt_number": 413,
       "text": [
        "\r",
        " [==========================================================>..................]                                                   \b\b\b\b\b\b\b\b\b\b\b\b\b\b\b\b\b\b\b\b\b\b\b\b\b\b\b\b\b\b\b\b\b\b\b\b\b\b\b\b\b\b\b\b\b\b\b\b\b\bETA: 2s524ms | Step: 114ms\b\b\b\b\b\b\b\b\b\b\b\b\b\b\b\b\b\b\b\b\b\b\b\b\b\b\b\b\b\b\b\b\b\b\b\b\b\b\b\b\b\b\b\b\b\b\b\b\b\b\b\b\b\b\b\b\b\b\b\b\b\b\b\b\b\b\b\b\b\b\b\b\b 74/96 \r",
        "HERE OPTIM\t\n",
        "BEFORE FORWARD\t\n",
        "1\t\n"
       ]
      },
      {
       "metadata": {},
       "output_type": "pyout",
       "prompt_number": 413,
       "text": [
        "AFTER FORWARD\t\n",
        "NEO\t\n",
        " 4.6255\n",
        " 5.3746\n",
        "[torch.FloatTensor of dimension 2]\n",
        "\n",
        "2\t\n",
        "BLAH\t\n"
       ]
      },
      {
       "metadata": {},
       "output_type": "pyout",
       "prompt_number": 413,
       "text": [
        " ** On entry to SGEMM  parameter number 10 had an illegal value\n"
       ]
      },
      {
       "metadata": {},
       "output_type": "pyout",
       "prompt_number": 413,
       "text": [
        " ** On entry to SGEMM  parameter number 10 had an illegal value\n"
       ]
      },
      {
       "metadata": {},
       "output_type": "pyout",
       "prompt_number": 413,
       "text": [
        "\r",
        " [===========================================================>.................]                                                   \b\b\b\b\b\b\b\b\b\b\b\b\b\b\b\b\b\b\b\b\b\b\b\b\b\b\b\b\b\b\b\b\b\b\b\b\b\b\b\b\b\b\b\b\b\b\b\b\b\bETA: 2s514ms | Step: 119ms\b\b\b\b\b\b\b\b\b\b\b\b\b\b\b\b\b\b\b\b\b\b\b\b\b\b\b\b\b\b\b\b\b\b\b\b\b\b\b\b\b\b\b\b\b\b\b\b\b\b\b\b\b\b\b\b\b\b\b\b\b\b\b\b\b\b\b\b\b\b\b\b\b 75/96 \r",
        "HERE OPTIM\t\n",
        "BEFORE FORWARD\t\n",
        "1\t\n"
       ]
      },
      {
       "metadata": {},
       "output_type": "pyout",
       "prompt_number": 413,
       "text": [
        "AFTER FORWARD\t\n",
        "NEO\t\n",
        " 4.5792\n",
        " 5.4208\n",
        "[torch.FloatTensor of dimension 2]\n",
        "\n",
        "1\t\n",
        "BLAH\t\n",
        " ** On entry to SGEMM  parameter number 10 had an illegal value\n"
       ]
      },
      {
       "metadata": {},
       "output_type": "pyout",
       "prompt_number": 413,
       "text": [
        " ** On entry to SGEMM  parameter number 10 had an illegal value\n",
        "\r",
        " [===========================================================>.................]                                                   \b\b\b\b\b\b\b\b\b\b\b\b\b\b\b\b\b\b\b\b\b\b\b\b\b\b\b\b\b\b\b\b\b\b\b\b\b\b\b\b\b\b\b\b\b\b\b\b\b\bETA: 2s364ms | Step: 118ms\b\b\b\b\b\b\b\b\b\b\b\b\b\b\b\b\b\b\b\b\b\b\b\b\b\b\b\b\b\b\b\b\b\b\b\b\b\b\b\b\b\b\b\b\b\b\b\b\b\b\b\b\b\b\b\b\b\b\b\b\b\b\b\b\b\b\b\b\b\b\b\b\b 76/96 \r",
        "HERE OPTIM\t\n",
        "BEFORE FORWARD\t\n",
        "1\t\n"
       ]
      },
      {
       "metadata": {},
       "output_type": "pyout",
       "prompt_number": 413,
       "text": [
        "AFTER FORWARD\t\n",
        "NEO\t\n",
        " 4.6324\n",
        " 5.3676\n",
        "[torch.FloatTensor of dimension 2]\n",
        "\n",
        "2\t\n",
        "BLAH\t\n"
       ]
      },
      {
       "metadata": {},
       "output_type": "pyout",
       "prompt_number": 413,
       "text": [
        " ** On entry to SGEMM  parameter number 10 had an illegal value\n"
       ]
      },
      {
       "metadata": {},
       "output_type": "pyout",
       "prompt_number": 413,
       "text": [
        " ** On entry to SGEMM  parameter number 10 had an illegal value\n"
       ]
      },
      {
       "metadata": {},
       "output_type": "pyout",
       "prompt_number": 413,
       "text": [
        "\r",
        " [============================================================>................]                                                   \b\b\b\b\b\b\b\b\b\b\b\b\b\b\b\b\b\b\b\b\b\b\b\b\b\b\b\b\b\b\b\b\b\b\b\b\b\b\b\b\b\b\b\b\b\b\b\b\b\bETA: 2s549ms | Step: 134ms\b\b\b\b\b\b\b\b\b\b\b\b\b\b\b\b\b\b\b\b\b\b\b\b\b\b\b\b\b\b\b\b\b\b\b\b\b\b\b\b\b\b\b\b\b\b\b\b\b\b\b\b\b\b\b\b\b\b\b\b\b\b\b\b\b\b\b\b\b\b\b\b\b 77/96 \r",
        "HERE OPTIM\t\n",
        "BEFORE FORWARD\t\n",
        "1\t\n"
       ]
      },
      {
       "metadata": {},
       "output_type": "pyout",
       "prompt_number": 413,
       "text": [
        "AFTER FORWARD\t\n",
        "NEO\t\n",
        " 4.5871\n",
        " 5.4131\n",
        "[torch.FloatTensor of dimension 2]\n",
        "\n",
        "1\t\n",
        "BLAH\t\n",
        " ** On entry to SGEMM  parameter number 10 had an illegal value\n"
       ]
      },
      {
       "metadata": {},
       "output_type": "pyout",
       "prompt_number": 413,
       "text": [
        " ** On entry to SGEMM  parameter number 10 had an illegal value\n"
       ]
      },
      {
       "metadata": {},
       "output_type": "pyout",
       "prompt_number": 413,
       "text": [
        "\r",
        " [=============================================================>...............]                                                   \b\b\b\b\b\b\b\b\b\b\b\b\b\b\b\b\b\b\b\b\b\b\b\b\b\b\b\b\b\b\b\b\b\b\b\b\b\b\b\b\b\b\b\b\b\b\b\b\b\bETA: 2s387ms | Step: 132ms\b\b\b\b\b\b\b\b\b\b\b\b\b\b\b\b\b\b\b\b\b\b\b\b\b\b\b\b\b\b\b\b\b\b\b\b\b\b\b\b\b\b\b\b\b\b\b\b\b\b\b\b\b\b\b\b\b\b\b\b\b\b\b\b\b\b\b\b\b\b\b\b\b 78/96 \r",
        "HERE OPTIM\t\n",
        "BEFORE FORWARD\t\n",
        "1\t\n"
       ]
      },
      {
       "metadata": {},
       "output_type": "pyout",
       "prompt_number": 413,
       "text": [
        "AFTER FORWARD\t\n",
        "NEO\t\n",
        " 4.6402\n",
        " 5.3599\n",
        "[torch.FloatTensor of dimension 2]\n",
        "\n",
        "2\t\n",
        "BLAH\t\n"
       ]
      },
      {
       "metadata": {},
       "output_type": "pyout",
       "prompt_number": 413,
       "text": [
        " ** On entry to SGEMM  parameter number 10 had an illegal value\n"
       ]
      },
      {
       "metadata": {},
       "output_type": "pyout",
       "prompt_number": 413,
       "text": [
        " ** On entry to SGEMM  parameter number 10 had an illegal value\n"
       ]
      },
      {
       "metadata": {},
       "output_type": "pyout",
       "prompt_number": 413,
       "text": [
        "\r",
        " [==============================================================>..............]                                                   \b\b\b\b\b\b\b\b\b\b\b\b\b\b\b\b\b\b\b\b\b\b\b\b\b\b\b\b\b\b\b\b\b\b\b\b\b\b\b\b\b\b\b\b\b\b\b\b\b\bETA: 2s257ms | Step: 132ms\b\b\b\b\b\b\b\b\b\b\b\b\b\b\b\b\b\b\b\b\b\b\b\b\b\b\b\b\b\b\b\b\b\b\b\b\b\b\b\b\b\b\b\b\b\b\b\b\b\b\b\b\b\b\b\b\b\b\b\b\b\b\b\b\b\b\b\b\b\b\b\b\b 79/96 \r",
        "HERE OPTIM\t\n",
        "BEFORE FORWARD\t\n",
        "1\t\n"
       ]
      },
      {
       "metadata": {},
       "output_type": "pyout",
       "prompt_number": 413,
       "text": [
        "AFTER FORWARD\t\n",
        "NEO\t\n",
        " 4.5948\n",
        " 5.4053\n",
        "[torch.FloatTensor of dimension 2]\n",
        "\n",
        "2\t\n",
        "BLAH\t\n"
       ]
      },
      {
       "metadata": {},
       "output_type": "pyout",
       "prompt_number": 413,
       "text": [
        " ** On entry to SGEMM  parameter number 10 had an illegal value\n"
       ]
      },
      {
       "metadata": {},
       "output_type": "pyout",
       "prompt_number": 413,
       "text": [
        " ** On entry to SGEMM  parameter number 10 had an illegal value\n"
       ]
      },
      {
       "metadata": {},
       "output_type": "pyout",
       "prompt_number": 413,
       "text": [
        "\r",
        " [===="
       ]
      },
      {
       "metadata": {},
       "output_type": "pyout",
       "prompt_number": 413,
       "text": [
        "===========================================================>.............]                                                   \b\b\b\b\b\b\b\b\b\b\b\b\b\b\b\b\b\b\b\b\b\b\b\b\b\b\b\b\b\b\b\b\b\b\b\b\b\b\b\b\b\b\b\b\b\b\b\b\b\bETA: 2s200ms | Step: 137ms\b\b\b\b\b\b\b\b\b\b\b\b\b\b\b\b\b\b\b\b\b\b\b\b\b\b\b\b\b\b\b\b\b\b\b\b\b\b\b\b\b\b\b\b\b\b\b\b\b\b\b\b\b\b\b\b\b\b\b\b\b\b\b\b\b\b\b\b\b\b\b\b\b 80/96 \r",
        "HERE OPTIM\t\n",
        "BEFORE FORWARD\t\n",
        "1\t\n"
       ]
      },
      {
       "metadata": {},
       "output_type": "pyout",
       "prompt_number": 413,
       "text": [
        "AFTER FORWARD\t\n",
        "NEO\t\n",
        " 4.5489\n",
        " 5.4513\n",
        "[torch.FloatTensor of dimension 2]\n",
        "\n",
        "1\t\n",
        "BLAH\t\n",
        " ** On entry to SGEMM  parameter number 10 had an illegal value\n",
        " ** On entry to SGEMM  parameter number 10 had an illegal value\n"
       ]
      },
      {
       "metadata": {},
       "output_type": "pyout",
       "prompt_number": 413,
       "text": [
        "\r",
        " [===============================================================>.............]                                                   \b\b\b\b\b\b\b\b\b\b\b\b\b\b\b\b\b\b\b\b\b\b\b\b\b\b\b\b\b\b\b\b\b\b\b\b\b\b\b\b\b\b\b\b\b\b\b\b\b\bETA: 2s38ms | Step: 135ms\b\b\b\b\b\b\b\b\b\b\b\b\b\b\b\b\b\b\b\b\b\b\b\b\b\b\b\b\b\b\b\b\b\b\b\b\b\b\b\b\b\b\b\b\b\b\b\b\b\b\b\b\b\b\b\b\b\b\b\b\b\b\b\b\b\b\b\b\b\b\b\b 81/96 \r",
        "HERE OPTIM\t\n",
        "BEFORE FORWARD\t\n",
        "1\t\n"
       ]
      },
      {
       "metadata": {},
       "output_type": "pyout",
       "prompt_number": 413,
       "text": [
        "AFTER FORWARD\t\n",
        "NEO\t\n",
        " 4.6024\n",
        " 5.3978\n",
        "[torch.FloatTensor of dimension 2]\n",
        "\n",
        "1\t\n",
        "BLAH\t\n",
        " ** On entry to SGEMM  parameter number 10 had an illegal value\n"
       ]
      },
      {
       "metadata": {},
       "output_type": "pyout",
       "prompt_number": 413,
       "text": [
        " ** On entry to SGEMM  parameter number 10 had an illegal value\n"
       ]
      },
      {
       "metadata": {},
       "output_type": "pyout",
       "prompt_number": 413,
       "text": [
        "\r",
        " [================================================================>............]                                                   \b\b\b\b\b\b\b\b\b\b\b\b\b\b\b\b\b\b\b\b\b\b\b\b\b\b\b\b\b\b\b\b\b\b\b\b\b\b\b\b\b\b\b\b\b\b\b\b\b\bETA: 1s881ms | Step: 134ms\b\b\b\b\b\b\b\b\b\b\b\b\b\b\b\b\b\b\b\b\b\b\b\b\b\b\b\b\b\b\b\b\b\b\b\b\b\b\b\b\b\b\b\b\b\b\b\b\b\b\b\b\b\b\b\b\b\b\b\b\b\b\b\b\b\b\b\b\b\b\b\b\b 82/96 \r",
        "HERE OPTIM\t\n",
        "BEFORE FORWARD\t\n",
        "1\t\n"
       ]
      },
      {
       "metadata": {},
       "output_type": "pyout",
       "prompt_number": 413,
       "text": [
        "AFTER FORWARD\t\n",
        "NEO\t\n",
        " 4.6563\n",
        " 5.3438\n",
        "[torch.FloatTensor of dimension 2]\n",
        "\n",
        "2\t\n",
        "BLAH\t\n"
       ]
      },
      {
       "metadata": {},
       "output_type": "pyout",
       "prompt_number": 413,
       "text": [
        " ** On entry to SGEMM  parameter number 10 had an illegal value\n"
       ]
      },
      {
       "metadata": {},
       "output_type": "pyout",
       "prompt_number": 413,
       "text": [
        " ** On entry to SGEMM  parameter number 10 had an illegal value\n"
       ]
      },
      {
       "metadata": {},
       "output_type": "pyout",
       "prompt_number": 413,
       "text": [
        "\r",
        " [=================================================================>...........]                                                   \b\b\b\b\b\b\b\b\b\b\b\b\b\b\b\b\b\b\b\b\b\b\b\b\b\b\b\b\b\b\b\b\b\b\b\b\b\b\b\b\b\b\b\b\b\b\b\b\b\bETA: 1s764ms | Step: 135ms\b\b\b\b\b\b\b\b\b\b\b\b\b\b\b\b\b\b\b\b\b\b\b\b\b\b\b\b\b\b\b\b\b\b\b\b\b\b\b\b\b\b\b\b\b\b\b\b\b\b\b\b\b\b\b\b\b\b\b\b\b\b\b\b\b\b\b\b\b\b\b\b\b 83/96 \r",
        "HERE OPTIM\t\n",
        "BEFORE FORWARD\t\n",
        "1\t\n"
       ]
      },
      {
       "metadata": {},
       "output_type": "pyout",
       "prompt_number": 413,
       "text": [
        "AFTER FORWARD\t\n",
        "NEO\t\n",
        " 4.6108\n",
        " 5.3894\n",
        "[torch.FloatTensor of dimension 2]\n",
        "\n",
        "2\t\n",
        "BLAH\t\n"
       ]
      },
      {
       "metadata": {},
       "output_type": "pyout",
       "prompt_number": 413,
       "text": [
        " ** On entry to SGEMM  parameter number 10 had an illegal value\n"
       ]
      },
      {
       "metadata": {},
       "output_type": "pyout",
       "prompt_number": 413,
       "text": [
        " ** On entry to SGEMM  parameter number 10 had an illegal value\n"
       ]
      },
      {
       "metadata": {},
       "output_type": "pyout",
       "prompt_number": 413,
       "text": [
        "\r",
        " [==================================================================>..........]                                                   \b\b\b\b\b\b\b\b\b\b\b\b\b\b\b\b\b\b\b\b\b\b\b\b\b\b\b\b\b\b\b\b\b\b\b\b\b\b\b\b\b\b\b\b\b\b\b\b\b\bETA: 1s665ms | Step: 138ms\b\b\b\b\b\b\b\b\b\b\b\b\b\b\b\b\b\b\b\b\b\b\b\b\b\b\b\b\b\b\b\b\b\b\b\b\b\b\b\b\b\b\b\b\b\b\b\b\b\b\b\b\b\b\b\b\b\b\b\b\b\b\b\b\b\b\b\b\b\b\b\b\b 84/96 \r",
        "HERE OPTIM\t\n",
        "BEFORE FORWARD\t\n",
        "1\t\n"
       ]
      },
      {
       "metadata": {},
       "output_type": "pyout",
       "prompt_number": 413,
       "text": [
        "AFTER FORWARD\t\n",
        "NEO\t\n",
        " 4.5647\n",
        " 5.4355\n",
        "[torch.FloatTensor of dimension 2]\n",
        "\n",
        "1\t\n",
        "BLAH\t\n"
       ]
      },
      {
       "metadata": {},
       "output_type": "pyout",
       "prompt_number": 413,
       "text": [
        " ** On entry to SGEMM  parameter number 10 had an illegal value\n"
       ]
      },
      {
       "metadata": {},
       "output_type": "pyout",
       "prompt_number": 413,
       "text": [
        " ** On entry to SGEMM  parameter number 10 had an illegal value\n"
       ]
      },
      {
       "metadata": {},
       "output_type": "pyout",
       "prompt_number": 413,
       "text": [
        "\r",
        " [===================================================================>.........]                                             "
       ]
      },
      {
       "metadata": {},
       "output_type": "pyout",
       "prompt_number": 413,
       "text": [
        "      \b\b\b\b\b\b\b\b\b\b\b\b\b\b\b\b\b\b\b\b\b\b\b\b\b\b\b\b\b\b\b\b\b\b\b\b\b\b\b\b\b\b\b\b\b\b\b\b\b\bETA: 1s509ms | Step: 137ms\b\b\b\b\b\b\b\b\b\b\b\b\b\b\b\b\b\b\b\b\b\b\b\b\b\b\b\b\b\b\b\b\b\b\b\b\b\b\b\b\b\b\b\b\b\b\b\b\b\b\b\b\b\b\b\b\b\b\b\b\b\b\b\b\b\b\b\b\b\b\b\b\b 85/96 \r",
        "HERE OPTIM\t\n",
        "BEFORE FORWARD\t\n",
        "1\t\n"
       ]
      },
      {
       "metadata": {},
       "output_type": "pyout",
       "prompt_number": 413,
       "text": [
        "AFTER FORWARD\t\n",
        "NEO\t\n",
        " 4.6180\n",
        " 5.3821\n",
        "[torch.FloatTensor of dimension 2]\n",
        "\n",
        "1\t\n",
        "BLAH\t\n",
        " ** On entry to SGEMM  parameter number 10 had an illegal value\n"
       ]
      },
      {
       "metadata": {},
       "output_type": "pyout",
       "prompt_number": 413,
       "text": [
        " ** On entry to SGEMM  parameter number 10 had an illegal value\n"
       ]
      },
      {
       "metadata": {},
       "output_type": "pyout",
       "prompt_number": 413,
       "text": [
        "\r",
        " [===================================================================>.........]                                                   \b\b\b\b\b\b\b\b\b\b\b\b\b\b\b\b\b\b\b\b\b\b\b\b\b\b\b\b\b\b\b\b\b\b\b\b\b\b\b\b\b\b\b\b\b\b\b\b\b\bETA: 1s357ms | Step: 135ms\b\b\b\b\b\b\b\b\b\b\b\b\b\b\b\b\b\b\b\b\b\b\b\b\b\b\b\b\b\b\b\b\b\b\b\b\b\b\b\b\b\b\b\b\b\b\b\b\b\b\b\b\b\b\b\b\b\b\b\b\b\b\b\b\b\b\b\b\b\b\b\b\b 86/96 \r",
        "HERE OPTIM\t\n",
        "BEFORE FORWARD\t\n",
        "1\t\n"
       ]
      },
      {
       "metadata": {},
       "output_type": "pyout",
       "prompt_number": 413,
       "text": [
        "AFTER FORWARD\t\n",
        "NEO\t\n",
        " 4.6719\n",
        " 5.3283\n",
        "[torch.FloatTensor of dimension 2]\n",
        "\n",
        "2\t\n",
        "BLAH\t\n"
       ]
      },
      {
       "metadata": {},
       "output_type": "pyout",
       "prompt_number": 413,
       "text": [
        " ** On entry to SGEMM  parameter number 10 had an illegal value\n"
       ]
      },
      {
       "metadata": {},
       "output_type": "pyout",
       "prompt_number": 413,
       "text": [
        " ** On entry to SGEMM  parameter number 10 had an illegal value\n"
       ]
      },
      {
       "metadata": {},
       "output_type": "pyout",
       "prompt_number": 413,
       "text": [
        "\r",
        " [====================================================================>........]                                                   \b\b\b\b"
       ]
      },
      {
       "metadata": {},
       "output_type": "pyout",
       "prompt_number": 413,
       "text": [
        "\b\b\b\b\b\b\b\b\b\b\b\b\b\b\b\b\b\b\b\b\b\b\b\b\b\b\b\b\b\b\b\b\b\b\b\b\b\b\b\b\b\b\b\b\b\bETA: 1s213ms | Step: 134ms\b\b\b\b\b\b\b\b\b\b\b\b\b\b\b\b\b\b\b\b\b\b\b\b\b\b\b\b\b\b\b\b\b\b\b\b\b\b\b\b\b\b\b\b\b\b\b\b\b\b\b\b\b\b\b\b\b\b\b\b\b\b\b\b\b\b\b\b\b\b\b\b\b 87/96 \r",
        "HERE OPTIM\t\n",
        "BEFORE FORWARD\t\n",
        "1\t\n"
       ]
      },
      {
       "metadata": {},
       "output_type": "pyout",
       "prompt_number": 413,
       "text": [
        "AFTER FORWARD\t\n",
        "NEO\t\n",
        " 4.6261\n",
        " 5.3740\n",
        "[torch.FloatTensor of dimension 2]\n",
        "\n",
        "1\t\n",
        "BLAH\t\n",
        " ** On entry to SGEMM  parameter number 10 had an illegal value\n"
       ]
      },
      {
       "metadata": {},
       "output_type": "pyout",
       "prompt_number": 413,
       "text": [
        " ** On entry to SGEMM  parameter number 10 had an illegal value\n"
       ]
      },
      {
       "metadata": {},
       "output_type": "pyout",
       "prompt_number": 413,
       "text": [
        "\r",
        " [=====================================================================>.......]                                                   \b\b\b\b\b\b\b\b\b\b\b\b\b\b\b\b\b\b\b\b\b\b\b\b\b\b\b\b\b\b\b\b\b\b\b\b\b\b\b\b\b\b\b\b\b\b\b\b\b\bETA: 1s67ms | Step: 133ms\b\b\b\b\b\b\b\b\b\b\b\b\b\b\b\b\b\b\b\b\b\b\b\b\b\b\b\b\b\b\b\b\b\b\b\b\b\b\b\b\b\b\b\b\b\b\b\b\b\b\b\b\b\b\b\b\b\b\b\b\b\b\b\b\b\b\b\b\b\b\b\b 88/96 \r",
        "HERE OPTIM\t\n",
        "BEFORE FORWARD\t\n",
        "1\t\n"
       ]
      },
      {
       "metadata": {},
       "output_type": "pyout",
       "prompt_number": 413,
       "text": [
        "AFTER FORWARD\t\n",
        "NEO\t\n",
        " 4.6789\n",
        " 5.3213\n",
        "[torch.FloatTensor of dimension 2]\n",
        "\n",
        "2\t\n",
        "BLAH\t\n"
       ]
      },
      {
       "metadata": {},
       "output_type": "pyout",
       "prompt_number": 413,
       "text": [
        " ** On entry to SGEMM  parameter number 10 had an illegal value\n"
       ]
      },
      {
       "metadata": {},
       "output_type": "pyout",
       "prompt_number": 413,
       "text": [
        " ** On entry to SGEMM  parameter number 10 had an illegal value\n"
       ]
      },
      {
       "metadata": {},
       "output_type": "pyout",
       "prompt_number": 413,
       "text": [
        "\r",
        " [======================================================================>......]                                                   \b\b\b\b\b\b\b\b\b\b\b\b\b\b\b\b\b\b\b\b\b\b\b\b\b\b\b\b\b\b\b\b\b"
       ]
      },
      {
       "metadata": {},
       "output_type": "pyout",
       "prompt_number": 413,
       "text": [
        "\b\b\b\b\b\b\b\b\b\b\b\b\b\b\b\b\bETA: 927ms | Step: 132ms\b\b\b\b\b\b\b\b\b\b\b\b\b\b\b\b\b\b\b\b\b\b\b\b\b\b\b\b\b\b\b\b\b\b\b\b\b\b\b\b\b\b\b\b\b\b\b\b\b\b\b\b\b\b\b\b\b\b\b\b\b\b\b\b\b\b\b\b\b\b\b 89/96 \r",
        "HERE OPTIM\t\n",
        "BEFORE FORWARD\t\n",
        "1\t\n"
       ]
      },
      {
       "metadata": {},
       "output_type": "pyout",
       "prompt_number": 413,
       "text": [
        "AFTER FORWARD\t\n",
        "NEO\t\n",
        " 4.6331\n",
        " 5.3671\n",
        "[torch.FloatTensor of dimension 2]\n",
        "\n",
        "1\t\n",
        "BLAH\t\n"
       ]
      },
      {
       "metadata": {},
       "output_type": "pyout",
       "prompt_number": 413,
       "text": [
        " ** On entry to SGEMM  parameter number 10 had an illegal value\n"
       ]
      },
      {
       "metadata": {},
       "output_type": "pyout",
       "prompt_number": 413,
       "text": [
        " ** On entry to SGEMM  parameter number 10 had an illegal value\n"
       ]
      },
      {
       "metadata": {},
       "output_type": "pyout",
       "prompt_number": 413,
       "text": [
        "\r",
        " [=======================================================================>.....]                                                   \b\b\b\b\b\b\b\b\b\b\b\b\b\b\b\b\b\b\b\b\b\b\b\b\b\b\b\b\b\b\b\b\b\b\b\b\b\b\b\b\b\b\b\b\b\b\b\b\b\bETA: 786ms | Step: 131ms\b\b\b\b\b\b\b\b\b\b\b\b\b\b\b\b\b\b\b\b\b\b\b\b\b\b\b\b\b\b\b\b\b\b\b\b\b\b\b\b\b\b\b\b\b\b\b\b\b\b\b\b\b\b\b\b\b\b\b\b\b\b\b\b\b\b\b\b\b\b\b 90/96 \r",
        "HERE OPTIM\t\n",
        "BEFORE FORWARD\t\n",
        "1\t\n"
       ]
      },
      {
       "metadata": {},
       "output_type": "pyout",
       "prompt_number": 413,
       "text": [
        "AFTER FORWARD\t\n",
        "NEO\t\n",
        " 4.6858\n",
        " 5.3144\n",
        "[torch.FloatTensor of dimension 2]\n",
        "\n",
        "2\t\n",
        "BLAH\t\n"
       ]
      },
      {
       "metadata": {},
       "output_type": "pyout",
       "prompt_number": 413,
       "text": [
        " ** On entry to SGEMM  parameter number 10 had an illegal value\n"
       ]
      },
      {
       "metadata": {},
       "output_type": "pyout",
       "prompt_number": 413,
       "text": [
        " ** On entry to SGEMM  parameter number 10 had an illegal value\n"
       ]
      },
      {
       "metadata": {},
       "output_type": "pyout",
       "prompt_number": 413,
       "text": [
        "\r",
        " [=======================================================================>.....]                                                   \b\b\b\b\b\b\b\b\b\b\b\b\b\b\b\b\b\b\b\b\b\b\b\b\b\b\b\b\b\b\b\b\b\b\b\b\b\b\b\b\b\b\b\b\b\b\b\b\b\bETA: 672ms | Step: 134ms\b\b\b\b\b\b\b\b\b\b\b\b\b\b\b\b\b\b\b\b\b\b\b\b\b\b\b\b\b\b\b\b\b\b\b"
       ]
      },
      {
       "metadata": {},
       "output_type": "pyout",
       "prompt_number": 413,
       "text": [
        "\b\b\b\b\b\b\b\b\b\b\b\b\b\b\b\b\b\b\b\b\b\b\b\b\b\b\b\b\b\b\b\b\b\b\b\b 91/96 \r",
        "HERE OPTIM\t\n",
        "BEFORE FORWARD\t\n",
        "1\t\n"
       ]
      },
      {
       "metadata": {},
       "output_type": "pyout",
       "prompt_number": 413,
       "text": [
        "AFTER FORWARD\t\n",
        "NEO\t\n",
        " 4.6399\n",
        " 5.3603\n",
        "[torch.FloatTensor of dimension 2]\n",
        "\n",
        "2\t\n",
        "BLAH\t\n",
        " ** On entry to SGEMM  parameter number 10 had an illegal value\n"
       ]
      },
      {
       "metadata": {},
       "output_type": "pyout",
       "prompt_number": 413,
       "text": [
        " ** On entry to SGEMM  parameter number 10 had an illegal value\n"
       ]
      },
      {
       "metadata": {},
       "output_type": "pyout",
       "prompt_number": 413,
       "text": [
        "\r",
        " [========================================================================>....]                                                   \b\b\b\b\b\b\b\b\b\b\b\b\b\b\b\b\b\b\b\b\b\b\b\b\b\b\b\b\b\b\b\b\b\b\b\b\b\b\b\b\b\b\b\b\b\b\b\b\b\bETA: 535ms | Step: 133ms\b\b\b\b\b\b\b\b\b\b\b\b\b\b\b\b\b\b\b\b\b\b\b\b\b\b\b\b\b\b\b\b\b\b\b\b\b\b\b\b\b\b\b\b\b\b\b\b\b\b\b\b\b\b\b\b\b\b\b\b\b\b\b\b\b\b\b\b\b\b\b 92/96 \r",
        "HERE OPTIM\t\n",
        "BEFORE FORWARD\t\n",
        "1\t\n"
       ]
      },
      {
       "metadata": {},
       "output_type": "pyout",
       "prompt_number": 413,
       "text": [
        "AFTER FORWARD\t\n",
        "NEO\t\n",
        " 4.5935\n",
        " 5.4067\n",
        "[torch.FloatTensor of dimension 2]\n",
        "\n",
        "2\t\n",
        "BLAH\t\n",
        " ** On entry to SGEMM  parameter number 10 had an illegal value\n"
       ]
      },
      {
       "metadata": {},
       "output_type": "pyout",
       "prompt_number": 413,
       "text": [
        " ** On entry to SGEMM  parameter number 10 had an illegal value\n"
       ]
      },
      {
       "metadata": {},
       "output_type": "pyout",
       "prompt_number": 413,
       "text": [
        "\r",
        " [=========================================================================>...]                                                   \b\b\b\b\b\b\b\b\b\b\b\b\b\b\b\b\b\b\b\b\b\b\b\b\b\b\b\b\b\b\b\b\b\b\b\b\b\b\b\b\b\b\b\b\b\b\b\b\b\bETA: 399ms | Step: 133ms\b\b\b\b\b\b\b\b\b\b\b\b\b\b\b\b\b\b\b\b\b\b\b\b\b\b\b\b\b\b\b\b\b\b\b\b\b\b\b\b\b\b\b\b\b\b\b\b\b\b\b\b\b\b\b\b\b\b\b\b\b\b\b\b\b\b\b\b\b\b\b 93/96 \r",
        "HERE OPTIM\t\n",
        "BEFORE FORWARD\t\n",
        "1\t\n"
       ]
      },
      {
       "metadata": {},
       "output_type": "pyout",
       "prompt_number": 413,
       "text": [
        "AFTER FORWARD\t\n",
        "NEO\t\n",
        " 4.5476\n",
        " 5.4526\n",
        "[torch.FloatTensor of dimension 2]\n",
        "\n",
        "1\t\n",
        "BLAH\t\n",
        " ** On entry to SGEMM  parameter number 10 had an illegal value\n"
       ]
      },
      {
       "metadata": {},
       "output_type": "pyout",
       "prompt_number": 413,
       "text": [
        " ** On entry to SGEMM  parameter number 10 had an illegal value\n"
       ]
      },
      {
       "metadata": {},
       "output_type": "pyout",
       "prompt_number": 413,
       "text": [
        "\r",
        " [==========================================================================>..]                                                   \b\b\b\b\b\b\b\b\b\b\b\b\b\b\b\b\b\b\b\b\b\b\b\b\b\b\b\b\b\b\b\b\b\b\b\b\b\b\b\b\b\b\b\b\b\b\b\b\b\bETA: 263ms | Step: 131ms\b\b\b\b\b\b\b\b\b\b\b\b\b\b\b\b\b\b\b\b\b\b\b\b\b\b\b\b\b\b\b\b\b\b\b\b\b\b\b\b\b\b\b\b\b\b\b\b\b\b\b\b\b\b\b\b\b\b\b\b\b\b\b\b\b\b\b\b\b\b\b 94/96 \r",
        "HERE OPTIM\t\n",
        "BEFORE FORWARD\t\n",
        "1\t\n"
       ]
      },
      {
       "metadata": {},
       "output_type": "pyout",
       "prompt_number": 413,
       "text": [
        "AFTER FORWARD\t\n",
        "NEO\t\n",
        " 4.6011\n",
        " 5.3991\n",
        "[torch.FloatTensor of dimension 2]\n",
        "\n",
        "2\t\n",
        "BLAH\t\n",
        " ** On entry to SGEMM  parameter number 10 had an illegal value\n"
       ]
      },
      {
       "metadata": {},
       "output_type": "pyout",
       "prompt_number": 413,
       "text": [
        " ** On entry to SGEMM  parameter number 10 had an illegal value\n"
       ]
      },
      {
       "metadata": {},
       "output_type": "pyout",
       "prompt_number": 413,
       "text": [
        "\r",
        " [===========================================================================>.]                                                   \b\b\b\b\b\b\b\b\b\b\b\b\b\b\b\b\b\b\b\b\b\b\b\b\b\b\b\b\b\b\b\b\b\b\b\b\b\b\b\b\b\b\b\b\b\b\b\b\b\bETA: 131ms | Step: 131ms\b\b\b\b\b\b\b\b\b\b\b\b\b\b\b\b\b\b\b\b\b\b\b\b\b\b\b\b\b\b\b\b\b\b\b\b\b\b\b\b\b\b\b\b\b\b\b\b\b\b\b\b\b\b\b\b\b\b\b\b\b\b\b\b\b\b\b\b\b\b\b 95/96 \r",
        "HERE OPTIM\t\n",
        "BEFORE FORWARD\t\n",
        "1\t\n"
       ]
      },
      {
       "metadata": {},
       "output_type": "pyout",
       "prompt_number": 413,
       "text": [
        "AFTER FORWARD\t\n",
        "NEO\t\n",
        " 4.5561\n",
        " 5.4441\n",
        "[torch.FloatTensor of dimension 2]\n",
        "\n",
        "1\t\n",
        "BLAH\t\n",
        " ** On entry to SGEMM  parameter number 10 had an illegal value\n"
       ]
      },
      {
       "metadata": {},
       "output_type": "pyout",
       "prompt_number": 413,
       "text": [
        " ** On entry to SGEMM  parameter number 10 had an illegal value\n",
        "\r",
        " [============================================================================>]                                                   \b\b\b\b\b\b\b\b\b\b\b\b\b\b\b\b\b\b\b\b\b\b\b\b\b\b\b\b\b\b\b\b\b\b\b\b\b\b\b\b\b\b\b\b\b\b\b\b\b\bETA: 0ms | Step: 130ms"
       ]
      },
      {
       "metadata": {},
       "output_type": "pyout",
       "prompt_number": 413,
       "text": [
        "\b\b\b\b\b\b\b\b\b\b\b\b\b\b\b\b\b\b\b\b\b\b\b\b\b\b\b\b\b\b\b\b\b\b\b\b\b\b\b\b\b\b\b\b\b\b\b\b\b\b\b\b\b\b\b\b\b\b\b\b\b\b\b\b\b\b\b\b\b 96/96 \n",
        "\r",
        "HERE OPTIM\t\n",
        "BEFORE FORWARD\t\n",
        "1\t\n"
       ]
      },
      {
       "metadata": {},
       "output_type": "pyout",
       "prompt_number": 413,
       "text": [
        "AFTER FORWARD\t\n",
        "NEO\t\n",
        " 4.6095\n",
        " 5.3907\n",
        "[torch.FloatTensor of dimension 2]\n",
        "\n",
        "2\t\n",
        "BLAH\t\n"
       ]
      },
      {
       "metadata": {},
       "output_type": "pyout",
       "prompt_number": 413,
       "text": [
        " ** On entry to SGEMM  parameter number 10 had an illegal value\n"
       ]
      },
      {
       "metadata": {},
       "output_type": "pyout",
       "prompt_number": 413,
       "text": [
        " ** On entry to SGEMM  parameter number 10 had an illegal value\n"
       ]
      },
      {
       "metadata": {},
       "output_type": "pyout",
       "prompt_number": 413,
       "text": [
        "\n",
        "==> time to learn 1 sample = 134.38006242116ms\t\n",
        "ConfusionMatrix:\n",
        "[[       0      44]   0.000% \t[class: Classical]\n",
        " [       0      52]]  100.000% \t[class: Jazz]\n",
        " + average row correct: 50% \n",
        " + average rowUcol correct (VOC measure): 27.083334326744% \n",
        " + global correct: 54.166666666667%\n",
        "{\n",
        "  averageUnionValid : 0.27083334326744\n",
        "  _targ_idx : LongTensor - empty\n",
        "  valids : FloatTensor - size: 2\n",
        "  classes : \n",
        "    {\n",
        "      1 : Classical\n",
        "      2 : Jazz\n",
        "    }\n",
        "  _target : FloatTensor - empty\n",
        "  mat : FloatTensor - size: 2x2\n",
        "  _pred_idx : LongTensor - size: 1\n",
        "  _max : FloatTensor - size: 1\n",
        "  unionvalids : FloatTensor - size: 2\n",
        "  nclasses : 2\n",
        "  totalValid : 0.54166666666667\n",
        "  _prediction : FloatTensor - size: 2\n",
        "  averageValid : 0.5\n",
        "}\n"
       ]
      },
      {
       "metadata": {},
       "output_type": "pyout",
       "prompt_number": 413,
       "text": [
        "==> saving model to /home/ace/Desktop/Recurrent-Neural-Net-Music-Classification/model.net\t\n"
       ]
      },
      {
       "metadata": {},
       "output_type": "pyout",
       "prompt_number": 413,
       "text": [
        "0\t\n",
        "==> doing epoch on training data:\t\n",
        "==> online epoch # 3 [batchSize = 64]\t\n",
        "96\t\n",
        " [.............................................................................]                     "
       ]
      },
      {
       "metadata": {},
       "output_type": "pyout",
       "prompt_number": 413,
       "text": [
        "                              \b\b\b\b\b\b\b\b\b\b\b\b\b\b\b\b\b\b\b\b\b\b\b\b\b\b\b\b\b\b\b\b\b\b\b\b\b\b\b\b\b\b\b\b\b\b\b\b\b\bETA: 0ms | Step: 0ms\b\b\b\b\b\b\b\b\b\b\b\b\b\b\b\b\b\b\b\b\b\b\b\b\b\b\b\b\b\b\b\b\b\b\b\b\b\b\b\b\b\b\b\b\b\b\b\b\b\b\b\b\b\b\b\b\b\b\b\b\b\b\b\b\b\b\b 1/96 \r",
        "HERE OPTIM\t\n",
        "BEFORE FORWARD\t\n",
        "1\t\n"
       ]
      },
      {
       "metadata": {},
       "output_type": "pyout",
       "prompt_number": 413,
       "text": [
        "AFTER FORWARD\t\n",
        "NEO\t\n",
        " 4.5644\n",
        " 5.4358\n",
        "[torch.FloatTensor of dimension 2]\n",
        "\n",
        "2\t\n",
        "BLAH\t\n"
       ]
      },
      {
       "metadata": {},
       "output_type": "pyout",
       "prompt_number": 413,
       "text": [
        " ** On entry to SGEMM  parameter number 10 had an illegal value\n"
       ]
      },
      {
       "metadata": {},
       "output_type": "pyout",
       "prompt_number": 413,
       "text": [
        " ** On entry to SGEMM  parameter number 10 had an illegal value\n"
       ]
      },
      {
       "metadata": {},
       "output_type": "pyout",
       "prompt_number": 413,
       "text": [
        "\r",
        " [>............................................................................]                                                   \b\b\b\b\b\b\b\b\b\b\b\b\b\b\b\b\b\b\b\b\b\b\b\b\b\b\b\b\b\b\b\b\b\b\b\b\b\b\b\b\b\b\b\b\b\b\b\b\b\bETA: 44s600ms | Step: 474ms\b\b\b\b\b\b\b\b\b\b\b\b\b\b\b\b\b\b\b\b\b\b\b\b\b\b\b\b\b\b\b\b\b\b\b\b\b\b\b\b\b\b\b\b\b\b\b\b\b\b\b\b\b\b\b\b\b\b\b\b\b\b\b\b\b\b\b\b\b\b\b\b\b\b 2/96 \r"
       ]
      },
      {
       "metadata": {},
       "output_type": "pyout",
       "prompt_number": 413,
       "text": [
        "HERE OPTIM\t\n",
        "BEFORE FORWARD\t\n",
        "1\t\n"
       ]
      },
      {
       "metadata": {},
       "output_type": "pyout",
       "prompt_number": 413,
       "text": [
        "AFTER FORWARD\t\n",
        "NEO\t\n",
        " 4.5188\n",
        " 5.4814\n",
        "[torch.FloatTensor of dimension 2]\n",
        "\n",
        "1\t\n",
        "BLAH\t\n",
        " ** On entry to SGEMM  parameter number 10 had an illegal value\n"
       ]
      },
      {
       "metadata": {},
       "output_type": "pyout",
       "prompt_number": 413,
       "text": [
        " ** On entry to SGEMM  parameter number 10 had an illegal value\n"
       ]
      },
      {
       "metadata": {},
       "output_type": "pyout",
       "prompt_number": 413,
       "text": [
        "\r",
        " [=>...........................................................................]                                                   \b\b\b\b\b\b\b\b\b\b\b\b\b\b\b\b\b\b\b\b\b\b\b\b\b\b\b\b\b\b\b\b\b\b\b\b\b\b\b\b\b\b\b\b\b\b\b\b\b\bETA: 22s311ms | Step: 239ms\b\b\b\b\b\b\b\b\b\b\b\b\b\b\b\b\b\b\b\b\b\b\b\b\b\b\b\b\b\b\b\b\b\b\b\b\b\b\b\b\b\b\b\b\b\b\b\b\b\b\b\b\b\b\b\b\b\b\b\b\b\b\b\b\b\b\b\b\b\b\b\b\b\b 3/96 \r",
        "HERE OPTIM\t\n",
        "BEFORE FORWARD\t\n",
        "1\t\n"
       ]
      },
      {
       "metadata": {},
       "output_type": "pyout",
       "prompt_number": 413,
       "text": [
        "AFTER FORWARD\t\n",
        "NEO\t\n",
        " 4.5726\n",
        " 5.4276\n",
        "[torch.FloatTensor of dimension 2]\n",
        "\n",
        "1\t\n",
        "BLAH\t\n"
       ]
      },
      {
       "metadata": {},
       "output_type": "pyout",
       "prompt_number": 413,
       "text": [
        " ** On entry to SGEMM  parameter number 10 had an illegal value\n"
       ]
      },
      {
       "metadata": {},
       "output_type": "pyout",
       "prompt_number": 413,
       "text": [
        " ** On entry to SGEMM  parameter number 10 had an illegal value\n"
       ]
      },
      {
       "metadata": {},
       "output_type": "pyout",
       "prompt_number": 413,
       "text": [
        "\r",
        " [==>..........................................................................]                                                   \b\b\b\b\b\b\b\b\b\b\b\b\b\b\b\b\b\b\b\b\b\b\b\b\b\b\b\b\b\b\b\b\b\b\b\b\b\b\b\b\b\b\b\b\b\b\b\b\b\bETA: 14s972ms | Step: 162ms\b\b\b\b\b\b\b\b\b\b\b\b\b\b\b\b\b\b\b\b\b\b\b\b\b\b\b\b\b\b\b\b\b\b\b\b\b\b\b\b\b\b\b\b\b\b\b\b\b\b\b\b\b\b\b\b\b\b\b\b\b\b\b\b\b\b\b\b\b\b\b\b\b\b 4/96 \r",
        "HERE OPTIM\t\n",
        "BEFORE FORWARD\t\n",
        "1\t\n"
       ]
      },
      {
       "metadata": {},
       "output_type": "pyout",
       "prompt_number": 413,
       "text": [
        "AFTER FORWARD\t\n",
        "NEO\t\n",
        " 4.6269\n",
        " 5.3733\n",
        "[torch.FloatTensor of dimension 2]\n",
        "\n",
        "1\t\n",
        "BLAH\t\n",
        " ** On entry to SGEMM  parameter number 10 had an illegal value\n"
       ]
      },
      {
       "metadata": {},
       "output_type": "pyout",
       "prompt_number": 413,
       "text": [
        " ** On entry to SGEMM  parameter number 10 had an illegal value\n"
       ]
      },
      {
       "metadata": {},
       "output_type": "pyout",
       "prompt_number": 413,
       "text": [
        "\r",
        " [===>.........................................................................]                                                   \b\b\b\b\b\b\b\b\b\b\b\b\b\b\b\b\b\b\b\b\b\b\b\b\b\b\b\b\b\b\b\b\b\b\b\b\b\b\b\b\b\b\b\b\b\b\b\b\b\bETA: 11s399ms | Step: 125ms\b\b\b\b\b\b\b\b\b\b\b\b\b\b\b\b\b\b\b\b\b\b\b\b\b\b\b\b\b\b\b\b\b\b\b\b\b\b\b\b\b\b\b\b\b\b\b\b\b\b\b\b\b\b\b\b\b\b\b\b\b\b\b\b\b\b\b\b\b\b\b\b\b\b 5/96 \r",
        "HERE OPTIM\t\n",
        "BEFORE FORWARD\t\n",
        "1\t\n"
       ]
      },
      {
       "metadata": {},
       "output_type": "pyout",
       "prompt_number": 413,
       "text": [
        "AFTER FORWARD\t\n",
        "NEO\t\n",
        " 4.6806\n",
        " 5.3196\n",
        "[torch.FloatTensor of dimension 2]\n",
        "\n",
        "2\t\n",
        "BLAH\t\n"
       ]
      },
      {
       "metadata": {},
       "output_type": "pyout",
       "prompt_number": 413,
       "text": [
        " ** On entry to SGEMM  parameter number 10 had an illegal value\n"
       ]
      },
      {
       "metadata": {},
       "output_type": "pyout",
       "prompt_number": 413,
       "text": [
        " ** On entry to SGEMM  parameter number 10 had an illegal value\n"
       ]
      },
      {
       "metadata": {},
       "output_type": "pyout",
       "prompt_number": 413,
       "text": [
        "\r",
        " [===>.........................................................................]                                           "
       ]
      },
      {
       "metadata": {},
       "output_type": "pyout",
       "prompt_number": 413,
       "text": [
        "        \b\b\b\b\b\b\b\b\b\b\b\b\b\b\b\b\b\b\b\b\b\b\b\b\b\b\b\b\b\b\b\b\b\b\b\b\b\b\b\b\b\b\b\b\b\b\b\b\b\bETA: 11s439ms | Step: 127ms\b\b\b\b\b\b\b\b\b\b\b\b\b\b\b\b\b\b\b\b\b\b\b\b\b\b\b\b\b\b\b\b\b\b\b\b\b\b\b\b\b\b\b\b\b\b\b\b\b\b\b\b\b\b\b\b\b\b\b\b\b\b\b\b\b\b\b\b\b\b\b\b\b\b 6/96 \r",
        "HERE OPTIM\t\n",
        "BEFORE FORWARD\t\n",
        "1\t\n"
       ]
      },
      {
       "metadata": {},
       "output_type": "pyout",
       "prompt_number": 413,
       "text": [
        "AFTER FORWARD\t\n",
        "NEO\t\n",
        " 4.6348\n",
        " 5.3653\n",
        "[torch.FloatTensor of dimension 2]\n",
        "\n",
        "2\t\n",
        "BLAH\t\n"
       ]
      },
      {
       "metadata": {},
       "output_type": "pyout",
       "prompt_number": 413,
       "text": [
        " ** On entry to SGEMM  parameter number 10 had an illegal value\n"
       ]
      },
      {
       "metadata": {},
       "output_type": "pyout",
       "prompt_number": 413,
       "text": [
        " ** On entry to SGEMM  parameter number 10 had an illegal value\n"
       ]
      },
      {
       "metadata": {},
       "output_type": "pyout",
       "prompt_number": 413,
       "text": [
        "\r",
        " [====>........................................................................]                                                   \b\b\b\b\b\b\b\b\b\b\b\b\b\b\b\b\b\b\b\b\b\b\b\b\b\b\b\b\b\b\b\b\b\b\b\b\b\b\b\b\b\b\b\b\b\b\b\b\b\bETA: 14s685ms | Step: 165ms\b\b\b\b\b\b\b\b\b\b\b\b\b\b\b\b\b\b"
       ]
      },
      {
       "metadata": {},
       "output_type": "pyout",
       "prompt_number": 413,
       "text": [
        "\b\b\b\b\b\b\b\b\b\b\b\b\b\b\b\b\b\b\b\b\b\b\b\b\b\b\b\b\b\b\b\b\b\b\b\b\b\b\b\b\b\b\b\b\b\b\b\b\b\b\b\b\b\b\b\b 7/96 \r",
        "HERE OPTIM\t\n",
        "BEFORE FORWARD\t\n",
        "1\t\n"
       ]
      },
      {
       "metadata": {},
       "output_type": "pyout",
       "prompt_number": 413,
       "text": [
        "AFTER FORWARD\t\n",
        "NEO\t\n",
        " 4.5885\n",
        " 5.4117\n",
        "[torch.FloatTensor of dimension 2]\n",
        "\n",
        "2\t\n",
        "BLAH\t\n"
       ]
      },
      {
       "metadata": {},
       "output_type": "pyout",
       "prompt_number": 413,
       "text": [
        " ** On entry to SGEMM  parameter number 10 had an illegal value\n"
       ]
      },
      {
       "metadata": {},
       "output_type": "pyout",
       "prompt_number": 413,
       "text": [
        " ** On entry to SGEMM  parameter number 10 had an illegal value\n"
       ]
      },
      {
       "metadata": {},
       "output_type": "pyout",
       "prompt_number": 413,
       "text": [
        "\r",
        " [=====>.......................................................................]                                                   \b\b\b\b\b\b\b\b\b\b\b\b\b\b\b\b\b\b\b\b\b\b\b\b\b\b\b\b\b\b\b\b\b\b\b\b\b\b\b\b\b\b\b\b\b\b\b\b\b\bETA: 18s10ms | Step: 204ms\b\b\b\b\b\b\b\b\b\b\b\b\b\b\b\b\b\b\b\b\b\b\b\b\b\b\b\b\b\b\b\b\b\b\b\b\b\b\b\b\b\b\b\b\b\b\b\b\b\b\b\b\b\b\b\b\b\b\b\b\b\b\b\b\b\b\b\b\b\b\b\b\b 8/96 \r",
        "HERE OPTIM\t\n",
        "BEFORE FORWARD\t\n",
        "1\t\n"
       ]
      },
      {
       "metadata": {},
       "output_type": "pyout",
       "prompt_number": 413,
       "text": [
        "AFTER FORWARD\t\n",
        "NEO\t\n",
        " 4.5426\n",
        " 5.4576\n",
        "[torch.FloatTensor of dimension 2]\n",
        "\n",
        "1\t\n",
        "BLAH\t\n",
        " ** On entry to SGEMM  parameter number 10 had an illegal value\n"
       ]
      },
      {
       "metadata": {},
       "output_type": "pyout",
       "prompt_number": 413,
       "text": [
        " ** On entry to SGEMM  parameter number 10 had an illegal value\n"
       ]
      },
      {
       "metadata": {},
       "output_type": "pyout",
       "prompt_number": 413,
       "text": [
        "\r",
        " [======>......................................................................]                                                   \b\b\b\b\b\b\b\b\b\b\b\b\b\b\b\b\b\b\b\b\b\b\b\b\b\b\b\b\b\b\b\b\b\b\b\b\b\b\b\b\b\b\b\b\b\b\b\b\b\bETA: 15s655ms | Step: 179ms\b\b\b\b\b\b\b\b\b\b\b\b\b\b\b\b\b\b\b\b\b\b\b\b\b\b\b\b\b\b\b\b\b\b\b\b\b\b\b\b\b\b\b\b\b\b\b\b\b\b\b\b\b\b\b\b\b\b\b\b\b\b\b\b\b\b\b\b\b\b\b\b\b\b 9/96 \r",
        "HERE OPTIM\t\n",
        "BEFORE FORWARD\t\n",
        "1\t\n"
       ]
      },
      {
       "metadata": {},
       "output_type": "pyout",
       "prompt_number": 413,
       "text": [
        "AFTER FORWARD\t\n",
        "NEO\t\n",
        " 4.5961\n",
        " 5.4041\n",
        "[torch.FloatTensor of dimension 2]\n",
        "\n",
        "2\t\n",
        "BLAH\t\n",
        " ** On entry to SGEMM  parameter number 10 had an illegal value\n"
       ]
      },
      {
       "metadata": {},
       "output_type": "pyout",
       "prompt_number": 413,
       "text": [
        " ** On entry to SGEMM  parameter number 10 had an illegal value\n"
       ]
      },
      {
       "metadata": {},
       "output_type": "pyout",
       "prompt_number": 413,
       "text": [
        "\r",
        " [=======>.....................................................................]                                                   \b\b\b\b\b\b\b\b\b\b\b\b\b\b\b\b\b\b\b\b\b\b\b\b\b\b\b\b\b\b\b\b\b\b\b\b\b\b\b\b\b\b\b\b\b\b\b\b\b\bETA: 13s889ms | Step: 161ms\b\b\b\b\b\b\b\b\b\b\b\b\b\b\b\b\b\b\b\b\b\b\b\b\b\b\b\b\b\b\b\b\b\b\b\b\b\b\b\b\b\b\b\b\b\b\b\b\b\b\b\b\b\b\b\b\b\b\b\b\b\b\b\b\b\b\b\b\b\b\b\b\b\b 10/96 \r",
        "HERE OPTIM\t\n",
        "BEFORE FORWARD\t\n",
        "1\t\n"
       ]
      },
      {
       "metadata": {},
       "output_type": "pyout",
       "prompt_number": 413,
       "text": [
        "AFTER FORWARD\t\n",
        "NEO\t\n",
        " 4.5512\n",
        " 5.4490\n",
        "[torch.FloatTensor of dimension 2]\n",
        "\n",
        "1\t\n",
        "BLAH\t\n",
        " ** On entry to SGEMM  parameter number 10 had an illegal value\n"
       ]
      },
      {
       "metadata": {},
       "output_type": "pyout",
       "prompt_number": 413,
       "text": [
        " ** On entry to SGEMM  parameter number 10 had an illegal value\n"
       ]
      },
      {
       "metadata": {},
       "output_type": "pyout",
       "prompt_number": 413,
       "text": [
        "\r",
        " [===="
       ]
      },
      {
       "metadata": {},
       "output_type": "pyout",
       "prompt_number": 413,
       "text": [
        "===>.....................................................................]                                                   \b\b\b\b\b\b\b\b\b\b\b\b\b\b\b\b\b\b\b\b\b\b\b\b\b\b\b\b\b\b\b\b\b\b\b\b\b\b\b\b\b\b\b\b\b\b\b\b\b\bETA: 12s406ms | Step: 145ms\b\b\b\b\b\b\b\b\b\b\b\b\b\b\b\b\b\b\b\b\b\b\b\b\b\b\b\b\b\b\b\b\b\b\b\b\b\b\b\b\b\b\b\b\b\b\b\b\b\b\b\b\b\b\b\b\b\b\b\b\b\b\b\b\b\b\b\b\b\b\b\b\b\b 11/96 \r",
        "HERE OPTIM\t\n",
        "BEFORE FORWARD\t\n",
        "1\t\n"
       ]
      },
      {
       "metadata": {},
       "output_type": "pyout",
       "prompt_number": 413,
       "text": [
        "AFTER FORWARD\t\n",
        "NEO\t\n",
        " 4.6047\n",
        " 5.3955\n",
        "[torch.FloatTensor of dimension 2]\n",
        "\n",
        "2\t\n",
        "BLAH\t\n",
        " ** On entry to SGEMM  parameter number 10 had an illegal value\n"
       ]
      },
      {
       "metadata": {},
       "output_type": "pyout",
       "prompt_number": 413,
       "text": [
        " ** On entry to SGEMM  parameter number 10 had an illegal value\n"
       ]
      },
      {
       "metadata": {},
       "output_type": "pyout",
       "prompt_number": 413,
       "text": [
        "\r",
        " [========>....................................................................]                                                   \b\b\b\b\b\b\b\b\b\b\b\b\b\b\b\b\b\b\b\b\b\b\b\b\b\b\b\b\b\b\b\b\b\b\b\b\b\b\b\b\b\b\b\b\b\b\b\b\b\bETA: 11s937ms | Step: 142ms\b\b\b\b\b\b\b\b\b\b\b\b\b\b\b\b\b\b\b\b\b\b\b\b\b\b\b\b\b\b\b\b\b\b\b\b\b\b\b\b\b\b\b\b\b\b\b\b\b\b\b\b\b\b\b\b\b\b\b\b\b\b\b\b\b\b\b\b\b\b\b\b\b\b 12/96 \r",
        "HERE OPTIM\t\n",
        "BEFORE FORWARD\t\n",
        "1\t\n"
       ]
      },
      {
       "metadata": {},
       "output_type": "pyout",
       "prompt_number": 413,
       "text": [
        "AFTER FORWARD\t\n",
        "NEO\t\n",
        " 4.5596\n",
        " 5.4406\n",
        "[torch.FloatTensor of dimension 2]\n",
        "\n",
        "1\t\n",
        "BLAH\t\n",
        " ** On entry to SGEMM  parameter number 10 had an illegal value\n"
       ]
      },
      {
       "metadata": {},
       "output_type": "pyout",
       "prompt_number": 413,
       "text": [
        " ** On entry to SGEMM  parameter number 10 had an illegal value\n"
       ]
      },
      {
       "metadata": {},
       "output_type": "pyout",
       "prompt_number": 413,
       "text": [
        "\r",
        " [=========>...................................................................]                                                   \b\b\b\b\b\b\b\b\b\b\b\b\b\b\b\b\b\b\b\b\b\b\b\b\b\b\b\b\b\b\b\b\b\b\b\b\b\b\b\b\b\b\b\b\b\b\b\b\b\bETA: 10s913ms | Step: 131ms\b\b\b\b\b\b\b\b\b\b\b\b\b\b"
       ]
      },
      {
       "metadata": {},
       "output_type": "pyout",
       "prompt_number": 413,
       "text": [
        "\b\b\b\b\b\b\b\b\b\b\b\b\b\b\b\b\b\b\b\b\b\b\b\b\b\b\b\b\b\b\b\b\b\b\b\b\b\b\b\b\b\b\b\b\b\b\b\b\b\b\b\b\b\b\b\b\b\b\b\b 13/96 \r",
        "HERE OPTIM\t\n",
        "BEFORE FORWARD\t\n",
        "1\t\n"
       ]
      },
      {
       "metadata": {},
       "output_type": "pyout",
       "prompt_number": 413,
       "text": [
        "AFTER FORWARD\t\n",
        "NEO\t\n",
        " 4.6130\n",
        " 5.3872\n",
        "[torch.FloatTensor of dimension 2]\n",
        "\n",
        "1\t\n",
        "BLAH\t\n",
        " ** On entry to SGEMM  parameter number 10 had an illegal value\n"
       ]
      },
      {
       "metadata": {},
       "output_type": "pyout",
       "prompt_number": 413,
       "text": [
        " ** On entry to SGEMM  parameter number 10 had an illegal value\n"
       ]
      },
      {
       "metadata": {},
       "output_type": "pyout",
       "prompt_number": 413,
       "text": [
        "\r",
        " [==========>..................................................................]                                        "
       ]
      },
      {
       "metadata": {},
       "output_type": "pyout",
       "prompt_number": 413,
       "text": [
        "           \b\b\b\b\b\b\b\b\b\b\b\b\b\b\b\b\b\b\b\b\b\b\b\b\b\b\b\b\b\b\b\b\b\b\b\b\b\b\b\b\b\b\b\b\b\b\b\b\b\bETA: 10s75ms | Step: 122ms\b\b\b\b\b\b\b\b\b\b\b\b\b\b\b\b\b\b\b\b\b\b\b\b\b\b\b\b\b\b\b\b\b\b\b\b\b\b\b\b\b\b\b\b\b\b\b\b\b\b\b\b\b\b\b\b\b\b\b\b\b\b\b\b\b\b\b\b\b\b\b\b\b 14/96 \r",
        "HERE OPTIM\t\n",
        "BEFORE FORWARD\t\n",
        "1\t\n"
       ]
      },
      {
       "metadata": {},
       "output_type": "pyout",
       "prompt_number": 413,
       "text": [
        "AFTER FORWARD\t\n",
        "NEO\t\n",
        " 4.6669\n",
        " 5.3333\n",
        "[torch.FloatTensor of dimension 2]\n",
        "\n",
        "1\t\n",
        "BLAH\t\n",
        " ** On entry to SGEMM  parameter number 10 had an illegal value\n"
       ]
      },
      {
       "metadata": {},
       "output_type": "pyout",
       "prompt_number": 413,
       "text": [
        " ** On entry to SGEMM  parameter number 10 had an illegal value\n"
       ]
      },
      {
       "metadata": {},
       "output_type": "pyout",
       "prompt_number": 413,
       "text": [
        "\r",
        " [===========>..........."
       ]
      },
      {
       "metadata": {},
       "output_type": "pyout",
       "prompt_number": 413,
       "text": [
        "......................................................]                                                   \b\b\b\b\b\b\b\b\b\b\b\b\b\b\b\b\b\b\b\b\b\b\b\b\b\b\b\b\b\b\b\b\b\b\b\b\b\b\b\b\b\b\b\b\b\b\b\b\b\bETA: 9s382ms | Step: 115ms\b\b\b\b\b\b\b\b\b\b\b\b\b\b\b\b\b\b\b\b\b\b\b\b\b\b\b\b\b\b\b\b\b\b\b\b\b\b\b\b\b\b\b\b\b\b\b\b\b\b\b\b\b\b\b\b\b\b\b\b\b\b\b\b\b\b\b\b\b\b\b\b\b 15/96 \r",
        "HERE OPTIM\t\n",
        "BEFORE FORWARD\t\n",
        "1\t\n"
       ]
      },
      {
       "metadata": {},
       "output_type": "pyout",
       "prompt_number": 413,
       "text": [
        "AFTER FORWARD\t\n",
        "NEO\t\n",
        " 4.7202\n",
        " 5.2800\n",
        "[torch.FloatTensor of dimension 2]\n",
        "\n",
        "1\t\n",
        "BLAH\t\n",
        " ** On entry to SGEMM  parameter number 10 had an illegal value\n"
       ]
      },
      {
       "metadata": {},
       "output_type": "pyout",
       "prompt_number": 413,
       "text": [
        " ** On entry to SGEMM  parameter number 10 had an illegal value\n"
       ]
      },
      {
       "metadata": {},
       "output_type": "pyout",
       "prompt_number": 413,
       "text": [
        "\r",
        " [===========>.................................................................]                                                   \b\b\b\b\b\b\b\b\b\b\b\b\b\b\b\b\b\b\b\b\b\b\b\b\b\b\b\b\b\b\b\b\b\b\b\b\b\b\b\b\b\b\b\b\b\b\b\b\b\bETA: 8s709ms | Step: 108ms\b\b\b\b\b\b\b\b\b\b\b\b\b\b\b\b\b\b\b\b\b\b\b\b\b\b\b\b\b\b\b\b\b\b\b\b\b\b\b\b\b\b\b\b\b\b\b\b\b\b\b\b\b\b\b\b\b\b\b\b\b\b\b\b\b\b\b\b\b\b\b\b\b 16/96 \r",
        "HERE OPTIM\t\n",
        "BEFORE FORWARD\t\n",
        "1\t\n"
       ]
      },
      {
       "metadata": {},
       "output_type": "pyout",
       "prompt_number": 413,
       "text": [
        "AFTER FORWARD\t\n",
        "NEO\t\n",
        " 4.7730\n",
        " 5.2272\n",
        "[torch.FloatTensor of dimension 2]\n",
        "\n",
        "2\t\n",
        "BLAH\t\n",
        " ** On entry to SGEMM  parameter number 10 had an illegal value\n"
       ]
      },
      {
       "metadata": {},
       "output_type": "pyout",
       "prompt_number": 413,
       "text": [
        " ** On entry to SGEMM  parameter number 10 had an illegal value\n"
       ]
      },
      {
       "metadata": {},
       "output_type": "pyout",
       "prompt_number": 413,
       "text": [
        "\r",
        " [============>................................................................]                                                   \b\b\b\b\b\b\b\b\b\b\b\b\b\b\b\b\b\b\b\b\b\b\b\b\b\b\b\b\b\b\b\b\b\b\b\b\b\b\b\b\b\b\b\b\b\b\b\b\b\bETA: 8s200ms | Step: 103ms\b"
       ]
      },
      {
       "metadata": {},
       "output_type": "pyout",
       "prompt_number": 413,
       "text": [
        "\b\b\b\b\b\b\b\b\b\b\b\b\b\b\b\b\b\b\b\b\b\b\b\b\b\b\b\b\b\b\b\b\b\b\b\b\b\b\b\b\b\b\b\b\b\b\b\b\b\b\b\b\b\b\b\b\b\b\b\b\b\b\b\b\b\b\b\b\b\b\b\b 17/96 \r",
        "HERE OPTIM\t\n",
        "BEFORE FORWARD\t\n",
        "1\t\n"
       ]
      },
      {
       "metadata": {},
       "output_type": "pyout",
       "prompt_number": 413,
       "text": [
        "AFTER FORWARD\t\n",
        "NEO\t\n",
        " 4.7263\n",
        " 5.2739\n",
        "[torch.FloatTensor of dimension 2]\n",
        "\n",
        "2\t\n",
        "BLAH\t\n",
        " ** On entry to SGEMM  parameter number 10 had an illegal value\n"
       ]
      },
      {
       "metadata": {},
       "output_type": "pyout",
       "prompt_number": 413,
       "text": [
        " ** On entry to SGEMM  parameter number 10 had an illegal value\n"
       ]
      },
      {
       "metadata": {},
       "output_type": "pyout",
       "prompt_number": 413,
       "text": [
        "\r",
        " [=============>...............................................................]                                                   \b\b\b\b\b\b\b\b\b\b\b\b\b\b\b\b\b\b\b\b\b\b\b\b\b\b\b\b\b\b\b\b\b\b\b\b\b\b\b\b\b\b\b\b\b\b\b\b\b\bETA: 7s865ms | Step: 100ms\b\b\b\b\b\b\b\b\b\b\b\b\b\b\b\b\b\b\b\b\b\b\b\b\b\b\b\b\b\b\b\b\b\b\b\b\b\b\b\b\b\b\b\b\b\b\b\b\b\b\b\b\b\b\b\b\b\b\b\b\b\b\b\b\b\b\b\b\b\b\b\b\b 18/96 \r",
        "HERE OPTIM\t\n",
        "BEFORE FORWARD\t\n",
        "1\t\n"
       ]
      },
      {
       "metadata": {},
       "output_type": "pyout",
       "prompt_number": 413,
       "text": [
        "AFTER FORWARD\t\n",
        "NEO\t\n",
        " 4.6790\n",
        " 5.3211\n",
        "[torch.FloatTensor of dimension 2]\n",
        "\n",
        "2\t\n",
        "BLAH\t\n",
        " ** On entry to SGEMM  parameter number 10 had an illegal value\n"
       ]
      },
      {
       "metadata": {},
       "output_type": "pyout",
       "prompt_number": 413,
       "text": [
        " ** On entry to SGEMM  parameter number 10 had an illegal value\n"
       ]
      },
      {
       "metadata": {},
       "output_type": "pyout",
       "prompt_number": 413,
       "text": [
        "\r",
        " [==============>..............................................................]                                                   \b\b\b\b\b\b\b\b\b\b\b\b\b\b\b\b\b\b\b\b\b\b\b\b\b\b\b\b\b\b\b\b\b\b\b\b\b\b\b\b\b\b\b\b\b\b\b\b\b\bETA: 7s488ms | Step: 97ms\b\b\b\b\b\b\b\b\b\b\b\b\b\b\b\b\b\b\b\b\b\b\b\b\b\b\b\b\b\b\b\b\b\b\b\b\b\b\b\b\b\b\b\b\b\b\b\b\b\b\b\b\b\b\b\b\b\b\b\b\b\b\b\b\b\b\b\b\b\b\b\b 19/96 \r",
        "HERE OPTIM\t\n",
        "BEFORE FORWARD\t\n",
        "1\t\n"
       ]
      },
      {
       "metadata": {},
       "output_type": "pyout",
       "prompt_number": 413,
       "text": [
        "AFTER FORWARD\t\n",
        "NEO\t\n",
        " 4.6322\n",
        " 5.3679\n",
        "[torch.FloatTensor of dimension 2]\n",
        "\n",
        "1\t\n",
        "BLAH\t\n",
        " ** On entry to SGEMM  parameter number 10 had an illegal value\n"
       ]
      },
      {
       "metadata": {},
       "output_type": "pyout",
       "prompt_number": 413,
       "text": [
        " ** On entry to SGEMM  parameter number 10 had an illegal value\n"
       ]
      },
      {
       "metadata": {},
       "output_type": "pyout",
       "prompt_number": 413,
       "text": [
        "\r",
        " [===============>..............................."
       ]
      },
      {
       "metadata": {},
       "output_type": "pyout",
       "prompt_number": 413,
       "text": [
        "..............................]                                                   \b\b\b\b\b\b\b\b\b\b\b\b\b\b\b\b\b\b\b\b\b\b\b\b\b\b\b\b\b\b\b\b\b\b\b\b\b\b\b\b\b\b\b\b\b\b\b\b\b\bETA: 7s42ms | Step: 92ms\b\b\b\b\b\b\b\b\b\b\b\b\b\b\b\b\b\b\b\b\b\b\b\b\b\b\b\b\b\b\b\b\b\b\b\b\b\b\b\b\b\b\b\b\b\b\b\b\b\b\b\b\b\b\b\b\b\b\b\b\b\b\b\b\b\b\b\b\b\b\b 20/96 \r",
        "HERE OPTIM\t\n",
        "BEFORE FORWARD\t\n",
        "1\t\n"
       ]
      },
      {
       "metadata": {},
       "output_type": "pyout",
       "prompt_number": 413,
       "text": [
        "AFTER FORWARD\t\n",
        "NEO\t\n",
        " 4.6849\n",
        " 5.3153\n",
        "[torch.FloatTensor of dimension 2]\n",
        "\n",
        "1\t\n",
        "BLAH\t\n",
        " ** On entry to SGEMM  parameter number 10 had an illegal value\n"
       ]
      },
      {
       "metadata": {},
       "output_type": "pyout",
       "prompt_number": 413,
       "text": [
        " ** On entry to SGEMM  parameter number 10 had an illegal value\n"
       ]
      },
      {
       "metadata": {},
       "output_type": "pyout",
       "prompt_number": 413,
       "text": [
        "\r",
        " [===============>.............................................................]                                                   \b\b\b\b\b\b\b\b\b\b\b\b\b\b\b\b\b\b\b\b\b\b\b\b\b\b\b\b\b\b\b\b\b\b\b\b\b\b\b\b\b\b\b\b\b\b\b\b\b\bETA: 6s634ms | Step: 88ms\b\b\b\b\b\b\b\b\b\b\b\b\b\b\b\b\b\b\b\b\b\b\b\b\b\b\b\b\b\b\b\b\b\b\b\b\b\b\b\b\b\b\b\b\b\b\b\b\b\b\b\b\b\b\b\b\b\b\b\b\b\b\b\b\b\b\b\b\b\b\b\b 21/96 \r",
        "HERE OPTIM\t\n",
        "BEFORE FORWARD\t\n",
        "1\t\n"
       ]
      },
      {
       "metadata": {},
       "output_type": "pyout",
       "prompt_number": 413,
       "text": [
        "AFTER FORWARD\t\n",
        "NEO\t\n",
        " 4.7381\n",
        " 5.2621\n",
        "[torch.FloatTensor of dimension 2]\n",
        "\n",
        "2\t\n",
        "BLAH\t\n",
        " ** On entry to SGEMM  parameter number 10 had an illegal value\n"
       ]
      },
      {
       "metadata": {},
       "output_type": "pyout",
       "prompt_number": 413,
       "text": [
        " ** On entry to SGEMM  parameter number 10 had an illegal value\n"
       ]
      },
      {
       "metadata": {},
       "output_type": "pyout",
       "prompt_number": 413,
       "text": [
        "\r",
        " [================>............................................................"
       ]
      },
      {
       "metadata": {},
       "output_type": "pyout",
       "prompt_number": 413,
       "text": [
        "]                                                   \b\b\b\b\b\b\b\b\b\b\b\b\b\b\b\b\b\b\b\b\b\b\b\b\b\b\b\b\b\b\b\b\b\b\b\b\b\b\b\b\b\b\b\b\b\b\b\b\b\bETA: 6s293ms | Step: 85ms\b\b\b\b\b\b\b\b\b\b\b\b\b\b\b\b\b\b\b\b\b\b\b\b\b\b\b\b\b\b\b\b\b\b\b\b\b\b\b\b\b\b\b\b\b\b\b\b\b\b\b\b\b\b\b\b\b\b\b\b\b\b\b\b\b\b\b\b\b\b\b\b 22/96 \r",
        "HERE OPTIM\t\n",
        "BEFORE FORWARD\t\n",
        "1\t\n"
       ]
      },
      {
       "metadata": {},
       "output_type": "pyout",
       "prompt_number": 413,
       "text": [
        "AFTER FORWARD\t\n",
        "NEO\t\n",
        " 4.6917\n",
        " 5.3085\n",
        "[torch.FloatTensor of dimension 2]\n",
        "\n",
        "2\t\n",
        "BLAH\t\n"
       ]
      },
      {
       "metadata": {},
       "output_type": "pyout",
       "prompt_number": 413,
       "text": [
        " ** On entry to SGEMM  parameter number 10 had an illegal value\n"
       ]
      },
      {
       "metadata": {},
       "output_type": "pyout",
       "prompt_number": 413,
       "text": [
        " ** On entry to SGEMM  parameter number 10 had an illegal value\n"
       ]
      },
      {
       "metadata": {},
       "output_type": "pyout",
       "prompt_number": 413,
       "text": [
        "\r",
        " [=================>...........................................................]                                                   \b\b\b\b\b\b\b\b\b\b\b\b\b\b\b\b\b\b\b\b\b\b\b\b\b\b\b\b\b\b\b\b\b\b\b\b\b\b\b\b\b\b\b\b\b\b\b\b\b\bETA: 6s776ms | Step: 92ms\b\b\b\b\b\b\b\b\b\b\b\b\b\b\b\b\b\b\b\b\b\b\b\b\b\b\b\b\b\b\b\b\b\b\b\b\b\b\b\b\b\b\b\b\b\b\b\b\b\b\b\b\b\b\b\b\b\b\b\b\b\b\b\b\b\b\b\b\b\b\b\b 23/96 \r",
        "HERE OPTIM\t\n",
        "BEFORE FORWARD\t\n",
        "1\t\n"
       ]
      },
      {
       "metadata": {},
       "output_type": "pyout",
       "prompt_number": 413,
       "text": [
        "AFTER FORWARD\t\n",
        "NEO\t\n",
        " 4.6448\n",
        " 5.3554\n",
        "[torch.FloatTensor of dimension 2]\n",
        "\n",
        "1\t\n",
        "BLAH\t\n",
        " ** On entry to SGEMM  parameter number 10 had an illegal value\n"
       ]
      },
      {
       "metadata": {},
       "output_type": "pyout",
       "prompt_number": 413,
       "text": [
        " ** On entry to SGEMM  parameter number 10 had an illegal value\n"
       ]
      },
      {
       "metadata": {},
       "output_type": "pyout",
       "prompt_number": 413,
       "text": [
        "\r",
        " [==================>..........................................................]                                                   \b\b\b\b\b\b\b\b\b\b\b\b\b\b\b\b\b\b\b\b\b\b\b\b\b\b\b\b\b\b\b\b\b\b\b\b\b\b\b\b\b\b\b\b\b\b\b\b\b\bETA: 6s411ms | Step: 89ms\b\b\b\b\b\b\b\b\b\b\b\b\b\b\b\b\b\b\b\b\b\b\b\b\b\b\b\b\b\b\b\b\b\b\b\b\b\b\b\b\b\b\b\b\b\b\b\b\b\b\b\b\b\b\b\b\b\b\b\b\b\b\b\b\b\b\b\b\b\b\b\b 24/96 \r",
        "HERE OPTIM\t\n",
        "BEFORE FORWARD\t\n",
        "1\t\n"
       ]
      },
      {
       "metadata": {},
       "output_type": "pyout",
       "prompt_number": 413,
       "text": [
        "AFTER FORWARD\t\n",
        "NEO\t"
       ]
      },
      {
       "metadata": {},
       "output_type": "pyout",
       "prompt_number": 413,
       "text": [
        "\n",
        " 4.6973\n",
        " 5.3029\n",
        "[torch.FloatTensor of dimension 2]\n",
        "\n",
        "1\t\n",
        "BLAH\t\n",
        " ** On entry to SGEMM  parameter number 10 had an illegal value\n"
       ]
      },
      {
       "metadata": {},
       "output_type": "pyout",
       "prompt_number": 413,
       "text": [
        " ** On entry to SGEMM  parameter number 10 had an illegal value\n"
       ]
      },
      {
       "metadata": {},
       "output_type": "pyout",
       "prompt_number": 413,
       "text": [
        "\r",
        " [===================>.........................................................]                                                   \b\b\b\b\b\b\b\b\b\b\b\b\b\b\b\b\b\b\b\b\b\b\b\b\b\b\b\b\b\b\b\b\b\b\b\b\b\b\b\b\b\b\b\b\b\b\b\b\b\bETA: 6s78ms | Step: 85ms\b\b\b\b\b\b\b\b\b\b\b\b\b\b\b\b\b\b\b\b\b\b\b\b\b\b\b\b\b\b\b\b\b\b\b\b\b\b\b\b\b\b\b\b\b\b\b\b\b\b\b\b\b\b\b\b\b\b\b\b\b\b\b\b\b\b\b\b\b\b\b 25/96 \r",
        "HERE OPTIM\t\n",
        "BEFORE FORWARD\t\n"
       ]
      },
      {
       "metadata": {},
       "output_type": "pyout",
       "prompt_number": 413,
       "text": [
        "1\t\n"
       ]
      },
      {
       "metadata": {},
       "output_type": "pyout",
       "prompt_number": 413,
       "text": [
        "AFTER FORWARD\t\n",
        "NEO\t\n",
        " 4.7503\n",
        " 5.2499\n",
        "[torch.FloatTensor of dimension 2]\n",
        "\n",
        "2\t\n",
        "BLAH\t\n"
       ]
      },
      {
       "metadata": {},
       "output_type": "pyout",
       "prompt_number": 413,
       "text": [
        " ** On entry to SGEMM  parameter number 10 had an illegal value\n"
       ]
      },
      {
       "metadata": {},
       "output_type": "pyout",
       "prompt_number": 413,
       "text": [
        " ** On entry to SGEMM  parameter number 10 had an illegal value\n"
       ]
      },
      {
       "metadata": {},
       "output_type": "pyout",
       "prompt_number": 413,
       "text": [
        "\r",
        " [===================>.........................................................]                                                   \b\b\b\b\b\b\b\b\b\b\b\b\b\b\b\b\b\b\b\b\b\b\b\b\b\b\b\b\b\b\b\b\b\b\b\b\b\b\b\b\b\b\b\b\b\b\b\b\b\bETA: 6s167ms | Step: 88ms\b\b\b\b\b\b\b\b\b\b\b\b\b\b\b\b\b\b\b\b\b\b\b\b\b\b\b\b\b\b\b\b\b\b\b\b\b\b\b\b\b\b\b\b\b\b\b\b\b\b\b\b\b\b\b\b\b\b\b\b\b\b\b\b\b\b\b\b\b\b\b\b 26/96 \r",
        "HERE OPTIM\t\n",
        "BEFORE FORWARD\t\n",
        "1\t\n"
       ]
      },
      {
       "metadata": {},
       "output_type": "pyout",
       "prompt_number": 413,
       "text": [
        "AFTER FORWARD\t\n",
        "NEO\t\n",
        " 4.7038\n",
        " 5.2964\n",
        "[torch.FloatTensor of dimension 2]\n",
        "\n",
        "1\t\n",
        "BLAH\t\n",
        " ** On entry to SGEMM  parameter number 10 had an illegal value\n"
       ]
      },
      {
       "metadata": {},
       "output_type": "pyout",
       "prompt_number": 413,
       "text": [
        " ** On entry to SGEMM  parameter number 10 had an illegal value\n"
       ]
      },
      {
       "metadata": {},
       "output_type": "pyout",
       "prompt_number": 413,
       "text": [
        "\r",
        " [====================>........................................................]                                                   \b\b\b\b\b\b\b\b\b\b\b\b\b\b\b\b\b\b"
       ]
      },
      {
       "metadata": {},
       "output_type": "pyout",
       "prompt_number": 413,
       "text": [
        "\b\b\b\b\b\b\b\b\b\b\b\b\b\b\b\b\b\b\b\b\b\b\b\b\b\b\b\b\b\b\b\bETA: 5s885ms | Step: 85ms\b\b\b\b\b\b\b\b\b\b\b\b\b\b\b\b\b\b\b\b\b\b\b\b\b\b\b\b\b\b\b\b\b\b\b\b\b\b\b\b\b\b\b\b\b\b\b\b\b\b\b\b\b\b\b\b\b\b\b\b\b\b\b\b\b\b\b\b\b\b\b\b 27/96 \r",
        "HERE OPTIM\t\n",
        "BEFORE FORWARD\t\n",
        "1\t\n"
       ]
      },
      {
       "metadata": {},
       "output_type": "pyout",
       "prompt_number": 413,
       "text": [
        "AFTER FORWARD\t\n",
        "NEO\t\n",
        " 4.7558\n",
        " 5.2444\n",
        "[torch.FloatTensor of dimension 2]\n",
        "\n",
        "2\t\n",
        "BLAH\t\n",
        " ** On entry to SGEMM  parameter number 10 had an illegal value\n"
       ]
      },
      {
       "metadata": {},
       "output_type": "pyout",
       "prompt_number": 413,
       "text": [
        " ** On entry to SGEMM  parameter number 10 had an illegal value\n"
       ]
      },
      {
       "metadata": {},
       "output_type": "pyout",
       "prompt_number": 413,
       "text": [
        "\r",
        " [=====================>.......................................................]                                                   \b\b\b\b\b\b\b\b\b\b\b\b\b\b\b\b\b\b\b\b\b\b\b\b\b\b\b\b\b\b\b\b\b\b\b\b\b\b\b\b\b\b\b\b\b\b\b\b\b\bETA: 5s644ms | Step: 83ms\b\b\b\b\b\b\b\b\b\b\b\b\b\b\b\b\b\b\b\b\b\b\b\b\b\b\b\b\b\b\b\b\b\b\b\b\b\b\b\b\b\b\b\b\b\b\b\b\b\b\b\b\b\b\b\b\b\b\b\b\b\b\b\b\b\b\b\b\b\b\b\b 28/96 \r",
        "HERE OPTIM\t\n",
        "BEFORE FORWARD\t\n",
        "1\t\n"
       ]
      },
      {
       "metadata": {},
       "output_type": "pyout",
       "prompt_number": 413,
       "text": [
        "AFTER FORWARD\t\n",
        "NEO\t\n",
        " 4.7093\n",
        " 5.2910\n",
        "[torch.FloatTensor of dimension 2]\n",
        "\n",
        "2\t\n",
        "BLAH\t\n"
       ]
      },
      {
       "metadata": {},
       "output_type": "pyout",
       "prompt_number": 413,
       "text": [
        " ** On entry to SGEMM  parameter number 10 had an illegal value\n"
       ]
      },
      {
       "metadata": {},
       "output_type": "pyout",
       "prompt_number": 413,
       "text": [
        " ** On entry to SGEMM  parameter number 10 had an illegal value\n"
       ]
      },
      {
       "metadata": {},
       "output_type": "pyout",
       "prompt_number": 413,
       "text": [
        "\r",
        " [======================>......................................................]                                                   \b\b\b\b\b\b\b\b\b\b\b\b\b\b\b\b\b\b\b\b\b\b\b\b\b\b\b\b\b\b\b\b\b\b\b\b\b\b\b\b\b\b\b\b\b\b\b\b\b\bETA: 6s471ms | Step: 96ms\b\b\b\b\b\b\b\b\b\b\b\b\b\b\b\b\b\b\b\b\b\b\b\b\b\b\b\b\b\b\b\b\b\b\b\b\b\b\b\b\b\b\b\b\b\b\b\b\b\b\b\b\b\b\b\b\b\b\b\b\b\b\b\b\b\b\b\b\b\b\b\b 29/96 \r",
        "HERE OPTIM\t\n",
        "BEFORE FORWARD\t\n",
        "1\t\n"
       ]
      },
      {
       "metadata": {},
       "output_type": "pyout",
       "prompt_number": 413,
       "text": [
        "AFTER FORWARD\t\n",
        "NEO\t\n",
        " 4.6622\n",
        " 5.3380\n",
        "[torch.FloatTensor of dimension 2]\n",
        "\n",
        "1\t\n",
        "BLAH\t\n",
        " ** On entry to SGEMM  parameter number 10 had an illegal value\n"
       ]
      },
      {
       "metadata": {},
       "output_type": "pyout",
       "prompt_number": 413,
       "text": [
        " ** On entry to SGEMM  parameter number 10 had an illegal value\n"
       ]
      },
      {
       "metadata": {},
       "output_type": "pyout",
       "prompt_number": 413,
       "text": [
        "\r",
        " [=======================>.....................................................]                                "
       ]
      },
      {
       "metadata": {},
       "output_type": "pyout",
       "prompt_number": 413,
       "text": [
        "                   \b\b\b\b\b\b\b\b\b\b\b\b\b\b\b\b\b\b\b\b\b\b\b\b\b\b\b\b\b\b\b\b\b\b\b\b\b\b\b\b\b\b\b\b\b\b\b\b\b\bETA: 6s179ms | Step: 93ms\b\b\b\b\b\b\b\b\b\b\b\b\b\b\b\b\b\b\b\b\b\b\b\b\b\b\b\b\b\b\b\b\b\b\b\b\b\b\b\b\b\b\b\b\b\b\b\b\b\b\b\b\b\b\b\b\b\b\b\b\b\b\b\b\b\b\b\b\b\b\b\b 30/96 \r",
        "HERE OPTIM\t\n",
        "BEFORE FORWARD\t\n",
        "1\t\n"
       ]
      },
      {
       "metadata": {},
       "output_type": "pyout",
       "prompt_number": 413,
       "text": [
        "AFTER FORWARD\t\n",
        "NEO\t\n",
        " 4.7145\n",
        " 5.2857\n",
        "[torch.FloatTensor of dimension 2]\n",
        "\n",
        "2\t\n",
        "BLAH\t\n"
       ]
      },
      {
       "metadata": {},
       "output_type": "pyout",
       "prompt_number": 413,
       "text": [
        " ** On entry to SGEMM  parameter number 10 had an illegal value\n"
       ]
      },
      {
       "metadata": {},
       "output_type": "pyout",
       "prompt_number": 413,
       "text": [
        " ** On entry to SGEMM  parameter number 10 had an illegal value\n"
       ]
      },
      {
       "metadata": {},
       "output_type": "pyout",
       "prompt_number": 413,
       "text": [
        "\r",
        " [=======================>.....................................................]                                                   \b\b\b\b\b\b\b\b\b\b\b\b\b\b\b\b\b\b\b\b\b\b\b\b\b\b\b\b\b\b\b\b\b\b\b\b\b\b\b\b\b\b\b\b\b\b\b\b\b\bETA: 6s17ms | Step: 92ms\b\b\b\b\b\b\b\b\b\b\b\b\b\b\b\b\b\b\b\b\b\b\b\b\b\b\b\b\b\b\b\b\b\b\b\b\b\b\b\b\b\b\b\b\b\b\b\b\b\b\b\b\b\b\b\b\b\b\b\b\b\b\b\b\b\b\b\b\b\b\b 31/96 \r",
        "HERE OPTIM\t\n",
        "BEFORE FORWARD\t\n",
        "1\t\n"
       ]
      },
      {
       "metadata": {},
       "output_type": "pyout",
       "prompt_number": 413,
       "text": [
        "AFTER FORWARD\t\n",
        "NEO\t\n",
        " 4.6684\n",
        " 5.3318\n",
        "[torch.FloatTensor of dimension 2]\n",
        "\n",
        "2\t\n",
        "BLAH\t\n"
       ]
      },
      {
       "metadata": {},
       "output_type": "pyout",
       "prompt_number": 413,
       "text": [
        " ** On entry to SGEMM  parameter number 10 had an illegal value\n"
       ]
      },
      {
       "metadata": {},
       "output_type": "pyout",
       "prompt_number": 413,
       "text": [
        " ** On entry to SGEMM  parameter number 10 had an illegal value\n"
       ]
      },
      {
       "metadata": {},
       "output_type": "pyout",
       "prompt_number": 413,
       "text": [
        "\r",
        " [========================>....................................................]                                                   \b\b\b\b\b\b\b\b\b\b\b\b\b\b\b\b\b\b\b\b\b\b\b\b\b\b\b\b\b\b\b\b\b\b\b\b\b\b\b\b\b\b\b\b\b\b\b\b\b\bETA: 5s932ms | Step: 92ms\b\b\b\b\b\b\b\b\b\b\b\b\b\b\b\b\b\b\b\b\b\b\b\b\b\b\b\b\b\b\b\b\b\b\b\b\b\b\b\b\b\b\b\b\b\b\b\b\b\b\b\b\b\b\b\b\b\b\b\b\b\b\b\b\b\b\b\b\b\b\b\b 32/96 \r",
        "HERE OPTIM\t\n",
        "BEFORE FORWARD\t\n",
        "1\t\n"
       ]
      },
      {
       "metadata": {},
       "output_type": "pyout",
       "prompt_number": 413,
       "text": [
        "AFTER FORWARD\t\n",
        "NEO\t\n",
        " 4.6217\n",
        " 5.3785\n",
        "[torch.FloatTensor of dimension 2]\n",
        "\n",
        "2\t\n",
        "BLAH\t\n"
       ]
      },
      {
       "metadata": {},
       "output_type": "pyout",
       "prompt_number": 413,
       "text": [
        " ** On entry to SGEMM  parameter number 10 had an illegal value\n"
       ]
      },
      {
       "metadata": {},
       "output_type": "pyout",
       "prompt_number": 413,
       "text": [
        " ** On entry to SGEMM  parameter number 10 had an illegal value\n"
       ]
      },
      {
       "metadata": {},
       "output_type": "pyout",
       "prompt_number": 413,
       "text": [
        "\r",
        " [=========================>...................................................]                                                   \b\b\b\b\b\b\b\b\b\b\b\b\b\b\b\b\b\b\b\b\b\b\b\b\b\b\b\b\b\b\b\b\b\b\b\b\b\b\b\b\b\b\b\b\b\b\b\b\b\bETA: 6s970ms | Step: 110ms\b\b\b\b\b\b\b\b\b\b\b\b\b\b\b\b\b\b\b\b\b\b\b\b\b\b\b\b\b\b\b\b\b\b\b\b\b\b\b\b\b\b\b\b\b\b\b\b\b\b\b\b\b\b\b\b\b\b\b\b\b\b\b\b\b\b\b\b\b\b\b\b\b 33/96 \r",
        "HERE OPTIM\t\n",
        "BEFORE FORWARD\t\n",
        "1\t\n"
       ]
      },
      {
       "metadata": {},
       "output_type": "pyout",
       "prompt_number": 413,
       "text": [
        "AFTER FORWARD\t\n",
        "NEO\t\n",
        " 4.5755\n",
        " 5.4248\n",
        "[torch.FloatTensor of dimension 2]\n",
        "\n",
        "2\t\n",
        "BLAH\t\n"
       ]
      },
      {
       "metadata": {},
       "output_type": "pyout",
       "prompt_number": 413,
       "text": [
        " ** On entry to SGEMM  parameter number 10 had an illegal value\n"
       ]
      },
      {
       "metadata": {},
       "output_type": "pyout",
       "prompt_number": 413,
       "text": [
        " ** On entry to SGEMM  parameter number 10 had an illegal value\n"
       ]
      },
      {
       "metadata": {},
       "output_type": "pyout",
       "prompt_number": 413,
       "text": [
        "\r",
        " [==========================>..................................................]                                                   \b\b\b\b\b\b\b\b\b\b\b\b\b\b\b\b\b\b\b\b\b\b\b\b\b\b\b\b\b\b\b\b\b\b\b\b\b\b\b\b\b\b\b\b\b\b\b\b\b\bETA: 7s604ms | Step: 122ms\b\b\b\b\b\b\b\b\b\b\b\b\b\b\b\b\b\b\b\b\b\b\b\b\b\b\b\b\b\b\b\b\b\b\b\b\b\b\b\b\b\b\b\b\b\b\b\b\b\b\b\b\b\b\b\b\b\b\b\b\b\b\b\b\b\b\b\b\b\b\b\b\b 34/96 \r",
        "HERE OPTIM\t\n",
        "BEFORE FORWARD\t\n",
        "1\t\n"
       ]
      },
      {
       "metadata": {},
       "output_type": "pyout",
       "prompt_number": 413,
       "text": [
        "AFTER FORWARD\t\n",
        "NEO\t\n",
        " 4.5297\n",
        " 5.4705\n",
        "[torch.FloatTensor of dimension 2]\n",
        "\n",
        "1\t\n",
        "BLAH\t\n",
        " ** On entry to SGEMM  parameter number 10 had an illegal value\n"
       ]
      },
      {
       "metadata": {},
       "output_type": "pyout",
       "prompt_number": 413,
       "text": [
        " ** On entry to SGEMM  parameter number 10 had an illegal value\n"
       ]
      },
      {
       "metadata": {},
       "output_type": "pyout",
       "prompt_number": 413,
       "text": [
        "\r",
        " [===========================>.................................................]                                     "
       ]
      },
      {
       "metadata": {},
       "output_type": "pyout",
       "prompt_number": 413,
       "text": [
        "              \b\b\b\b\b\b\b\b\b\b\b\b\b\b\b\b\b\b\b\b\b\b\b\b\b\b\b\b\b\b\b\b\b\b\b\b\b\b\b\b\b\b\b\b\b\b\b\b\b\bETA: 7s277ms | Step: 119ms\b\b\b\b\b\b\b\b\b\b\b\b\b\b\b\b\b\b\b\b\b\b\b\b\b\b\b\b\b\b\b\b\b\b\b\b\b\b\b\b\b\b\b\b\b\b\b\b\b\b\b\b\b\b\b\b\b\b\b\b\b\b\b\b\b\b\b\b\b\b\b\b\b 35/96 \r",
        "HERE OPTIM\t\n",
        "BEFORE FORWARD\t\n",
        "1\t\n"
       ]
      },
      {
       "metadata": {},
       "output_type": "pyout",
       "prompt_number": 413,
       "text": [
        "AFTER FORWARD\t\n",
        "NEO\t\n",
        " 4.5834\n",
        " 5.4168\n",
        "[torch.FloatTensor of dimension 2]\n",
        "\n",
        "1\t\n",
        "BLAH\t\n",
        " ** On entry to SGEMM  parameter number 10 had an illegal value\n"
       ]
      },
      {
       "metadata": {},
       "output_type": "pyout",
       "prompt_number": 413,
       "text": [
        " ** On entry to SGEMM  parameter number 10 had an illegal value\n"
       ]
      },
      {
       "metadata": {},
       "output_type": "pyout",
       "prompt_number": 413,
       "text": [
        "\r",
        " [===========================>.................................................]                                                   \b\b\b\b\b\b\b\b\b\b\b\b\b\b\b\b\b\b\b\b\b\b\b\b\b\b\b\b\b\b\b\b\b\b\b\b\b\b\b\b\b\b\b\b\b\b\b\b\b\bETA: 6s964ms | Step: 116ms\b\b\b\b\b\b\b\b\b\b\b\b\b\b\b\b\b\b\b\b\b\b\b\b\b\b\b\b\b\b\b\b\b\b\b\b\b\b\b\b\b\b\b\b\b\b\b\b\b\b\b\b\b\b\b\b\b\b\b\b\b\b\b\b\b\b\b\b\b\b\b\b\b 36/96 \r",
        "HERE OPTIM\t\n",
        "BEFORE FORWARD\t\n",
        "1\t\n"
       ]
      },
      {
       "metadata": {},
       "output_type": "pyout",
       "prompt_number": 413,
       "text": [
        "AFTER FORWARD\t\n",
        "NEO\t\n",
        " 4.6376\n",
        " 5.3627\n",
        "[torch.FloatTensor of dimension 2]\n",
        "\n",
        "2\t\n",
        "BLAH\t\n"
       ]
      },
      {
       "metadata": {},
       "output_type": "pyout",
       "prompt_number": 413,
       "text": [
        " ** On entry to SGEMM  parameter number 10 had an illegal value\n"
       ]
      },
      {
       "metadata": {},
       "output_type": "pyout",
       "prompt_number": 413,
       "text": [
        " ** On entry to SGEMM  parameter number 10 had an illegal value\n"
       ]
      },
      {
       "metadata": {},
       "output_type": "pyout",
       "prompt_number": 413,
       "text": [
        "\r",
        " [============================>............................................"
       ]
      },
      {
       "metadata": {},
       "output_type": "pyout",
       "prompt_number": 413,
       "text": [
        "....]                                                   \b\b\b\b\b\b\b\b\b\b\b\b\b\b\b\b\b\b\b\b\b\b\b\b\b\b\b\b\b\b\b\b\b\b\b\b\b\b\b\b\b\b\b\b\b\b\b\b\b\bETA: 7s786ms | Step: 131ms\b\b\b\b\b\b\b\b\b\b\b\b\b\b\b\b\b\b\b\b\b\b\b\b\b\b\b\b\b\b\b\b\b\b\b\b\b\b\b\b\b\b\b\b\b\b\b\b\b\b\b\b\b\b\b\b\b\b\b\b\b\b\b\b\b\b\b\b\b\b\b\b\b 37/96 \r",
        "HERE OPTIM\t\n",
        "BEFORE FORWARD\t\n",
        "1\t\n"
       ]
      },
      {
       "metadata": {},
       "output_type": "pyout",
       "prompt_number": 413,
       "text": [
        "AFTER FORWARD\t\n",
        "NEO\t\n",
        " 4.5922\n",
        " 5.4080\n",
        "[torch.FloatTensor of dimension 2]\n",
        "\n",
        "2\t\n",
        "BLAH\t\n"
       ]
      },
      {
       "metadata": {},
       "output_type": "pyout",
       "prompt_number": 413,
       "text": [
        " ** On entry to SGEMM  parameter number 10 had an illegal value\n"
       ]
      },
      {
       "metadata": {},
       "output_type": "pyout",
       "prompt_number": 413,
       "text": [
        " ** On entry to SGEMM  parameter number 10 had an illegal value\n"
       ]
      },
      {
       "metadata": {},
       "output_type": "pyout",
       "prompt_number": 413,
       "text": [
        "\r",
        " [======"
       ]
      },
      {
       "metadata": {},
       "output_type": "pyout",
       "prompt_number": 413,
       "text": [
        "=======================>...............................................]                                                   \b\b\b\b\b\b\b\b\b\b\b\b\b\b\b\b\b\b\b\b\b\b\b\b\b\b\b\b\b\b\b\b\b\b\b\b\b\b\b\b\b\b\b\b\b\b\b\b\b\bETA: 9s612ms | Step: 165ms\b\b\b\b\b\b\b\b\b\b\b\b\b\b\b\b\b\b\b\b\b\b\b\b\b\b\b\b\b\b\b\b\b\b\b\b\b\b\b\b\b\b\b\b\b\b\b\b\b\b\b\b\b\b\b\b\b\b\b\b\b\b\b\b\b\b\b\b\b\b\b\b\b 38/96 \r",
        "HERE OPTIM\t\n",
        "BEFORE FORWARD\t\n",
        "1\t\n"
       ]
      },
      {
       "metadata": {},
       "output_type": "pyout",
       "prompt_number": 413,
       "text": [
        "AFTER FORWARD\t\n",
        "NEO\t\n",
        " 4.5463\n",
        " 5.4540\n",
        "[torch.FloatTensor of dimension 2]\n",
        "\n",
        "1\t\n",
        "BLAH\t\n",
        " ** On entry to SGEMM  parameter number 10 had an illegal value\n"
       ]
      },
      {
       "metadata": {},
       "output_type": "pyout",
       "prompt_number": 413,
       "text": [
        " ** On entry to SGEMM  parameter number 10 had an illegal value\n"
       ]
      },
      {
       "metadata": {},
       "output_type": "pyout",
       "prompt_number": 413,
       "text": [
        "\r",
        " [==============================>..............................."
       ]
      },
      {
       "metadata": {},
       "output_type": "pyout",
       "prompt_number": 413,
       "text": [
        "...............]                                                   \b\b\b\b\b\b\b\b\b\b\b\b\b\b\b\b\b\b\b\b\b\b\b\b\b\b\b\b\b\b\b\b\b\b\b\b\b\b\b\b\b\b\b\b\b\b\b\b\b\bETA: 9s214ms | Step: 161ms\b\b\b\b\b\b\b\b\b\b\b\b\b\b\b\b\b\b\b\b\b\b\b\b\b\b\b\b\b\b\b\b\b\b\b\b\b\b\b\b\b\b\b\b\b\b\b\b\b\b\b\b\b\b\b\b\b\b\b\b\b\b\b\b\b\b\b\b\b\b\b\b\b 39/96 \r",
        "HERE OPTIM\t\n",
        "BEFORE FORWARD\t\n",
        "1\t\n"
       ]
      },
      {
       "metadata": {},
       "output_type": "pyout",
       "prompt_number": 413,
       "text": [
        "AFTER FORWARD\t\n",
        "NEO\t\n",
        " 4.5998\n",
        " 5.4005\n",
        "[torch.FloatTensor of dimension 2]\n",
        "\n",
        "2\t\n",
        "BLAH\t\n"
       ]
      },
      {
       "metadata": {},
       "output_type": "pyout",
       "prompt_number": 413,
       "text": [
        " ** On entry to SGEMM  parameter number 10 had an illegal value\n"
       ]
      },
      {
       "metadata": {},
       "output_type": "pyout",
       "prompt_number": 413,
       "text": [
        " ** On entry to SGEMM  parameter number 10 had an illegal value\n"
       ]
      },
      {
       "metadata": {},
       "output_type": "pyout",
       "prompt_number": 413,
       "text": [
        "\r",
        " [===============================>.............................................]                                                   \b\b\b\b\b\b\b\b\b\b\b\b\b\b\b\b\b\b\b\b\b\b\b\b\b\b\b\b\b\b\b\b\b\b\b\b\b\b\b\b\b\b\b\b\b\b\b\b\b\bETA: 9s839ms | Step: 175ms\b\b\b\b\b\b\b\b\b\b\b\b\b\b\b\b\b\b\b\b\b\b\b\b\b\b\b\b\b\b\b\b\b\b\b\b\b\b\b\b\b\b\b\b\b\b\b\b\b\b\b\b\b\b\b\b\b\b\b\b\b\b\b\b\b\b\b\b\b\b\b\b\b 40/96 \r",
        "HERE OPTIM\t\n",
        "BEFORE FORWARD\t\n",
        "1\t\n"
       ]
      },
      {
       "metadata": {},
       "output_type": "pyout",
       "prompt_number": 413,
       "text": [
        "AFTER FORWARD\t\n",
        "NEO\t\n",
        " 4.5548\n",
        " 5.4455\n",
        "[torch.FloatTensor of dimension 2]\n",
        "\n",
        "2\t\n",
        "BLAH\t\n",
        " ** On entry to SGEMM  parameter number 10 had an illegal value\n"
       ]
      },
      {
       "metadata": {},
       "output_type": "pyout",
       "prompt_number": 413,
       "text": [
        " ** On entry to SGEMM  parameter number 10 had an illegal value\n"
       ]
      },
      {
       "metadata": {},
       "output_type": "pyout",
       "prompt_number": 413,
       "text": [
        "\r",
        " [===============================>.............................................]                                                   \b\b\b\b\b\b\b\b\b\b\b\b\b\b\b\b\b\b"
       ]
      },
      {
       "metadata": {},
       "output_type": "pyout",
       "prompt_number": 413,
       "text": [
        "\b\b\b\b\b\b\b\b\b\b\b\b\b\b\b\b\b\b\b\b\b\b\b\b\b\b\b\b\b\b\b\bETA: 9s451ms | Step: 171ms\b\b\b\b\b\b\b\b\b\b\b\b\b\b\b\b\b\b\b\b\b\b\b\b\b\b\b\b\b\b\b\b\b\b\b\b\b\b\b\b\b\b\b\b\b\b\b\b\b\b\b\b\b\b\b\b\b\b\b\b\b\b\b\b\b\b\b\b\b\b\b\b\b 41/96 \r",
        "HERE OPTIM\t\n",
        "BEFORE FORWARD\t\n",
        "1\t\n"
       ]
      },
      {
       "metadata": {},
       "output_type": "pyout",
       "prompt_number": 413,
       "text": [
        "AFTER FORWARD\t\n",
        "NEO\t\n",
        " 4.5093\n",
        " 5.4910\n",
        "[torch.FloatTensor of dimension 2]\n",
        "\n",
        "2\t\n",
        "BLAH\t\n",
        " ** On entry to SGEMM  parameter number 10 had an illegal value\n"
       ]
      },
      {
       "metadata": {},
       "output_type": "pyout",
       "prompt_number": 413,
       "text": [
        " ** On entry to SGEMM  parameter number 10 had an illegal value\n"
       ]
      },
      {
       "metadata": {},
       "output_type": "pyout",
       "prompt_number": 413,
       "text": [
        "\r",
        " [================================>............................................]                                                   \b\b\b\b\b\b\b\b\b\b\b\b\b\b\b\b\b\b\b\b\b\b\b\b\b\b\b\b\b\b\b\b\b\b\b\b\b\b\b\b\b\b\b\b\b\b\b\b\b\bETA: 9s135ms | Step: 169ms\b\b\b\b\b\b\b\b\b\b\b\b\b\b\b\b\b\b\b\b\b\b\b\b\b\b\b\b\b\b\b\b\b\b\b\b\b\b\b\b\b\b\b\b\b\b\b\b\b\b\b\b\b\b\b\b\b\b\b\b\b\b\b\b\b\b\b\b\b\b\b\b\b 42/96 \r",
        "HERE OPTIM\t\n",
        "BEFORE FORWARD\t\n",
        "1\t\n"
       ]
      },
      {
       "metadata": {},
       "output_type": "pyout",
       "prompt_number": 413,
       "text": [
        "AFTER FORWARD\t\n",
        "NEO\t\n",
        " 4.4642\n",
        " 5.5361\n",
        "[torch.FloatTensor of dimension 2]\n",
        "\n",
        "1\t\n",
        "BLAH\t\n",
        " ** On entry to SGEMM  parameter number 10 had an illegal value\n"
       ]
      },
      {
       "metadata": {},
       "output_type": "pyout",
       "prompt_number": 413,
       "text": [
        " ** On entry to SGEMM  parameter number 10 had an illegal value\n"
       ]
      },
      {
       "metadata": {},
       "output_type": "pyout",
       "prompt_number": 413,
       "text": [
        "\r",
        " [=================================>...........................................]                                                   \b\b\b\b\b\b\b\b\b\b\b\b\b\b\b\b\b\b\b\b\b\b\b\b\b\b\b\b\b\b\b\b\b\b\b\b\b\b\b\b\b\b\b\b\b\b\b\b\b\bETA: 8s778ms | Step: 165ms\b\b\b\b\b\b\b\b\b\b\b\b\b\b\b\b\b\b\b\b\b\b\b\b\b\b\b\b\b\b\b\b\b\b\b\b\b\b\b\b\b\b\b\b\b\b\b\b\b\b"
       ]
      },
      {
       "metadata": {},
       "output_type": "pyout",
       "prompt_number": 413,
       "text": [
        "\b\b\b\b\b\b\b\b\b\b\b\b\b\b\b\b\b\b\b\b\b\b\b 43/96 \r",
        "HERE OPTIM\t\n",
        "BEFORE FORWARD\t\n",
        "1\t\n"
       ]
      },
      {
       "metadata": {},
       "output_type": "pyout",
       "prompt_number": 413,
       "text": [
        "AFTER FORWARD\t\n",
        "NEO\t\n",
        " 4.5185\n",
        " 5.4818\n",
        "[torch.FloatTensor of dimension 2]\n",
        "\n",
        "2\t\n",
        "BLAH\t\n",
        " ** On entry to SGEMM  parameter number 10 had an illegal value\n"
       ]
      },
      {
       "metadata": {},
       "output_type": "pyout",
       "prompt_number": 413,
       "text": [
        " ** On entry to SGEMM  parameter number 10 had an illegal value\n"
       ]
      },
      {
       "metadata": {},
       "output_type": "pyout",
       "prompt_number": 413,
       "text": [
        "\r",
        " [==================================>..........................................]                                                   \b\b\b\b\b\b\b\b\b\b\b\b\b\b\b\b\b\b\b\b\b\b\b\b\b\b\b\b\b\b\b\b\b\b\b\b\b\b\b\b\b\b\b\b\b\b\b\b\b\bETA: 8s455ms | Step: 162ms\b\b\b\b\b\b\b\b\b\b\b\b\b\b\b\b\b\b\b\b"
       ]
      },
      {
       "metadata": {},
       "output_type": "pyout",
       "prompt_number": 413,
       "text": [
        "\b\b\b\b\b\b\b\b\b\b\b\b\b\b\b\b\b\b\b\b\b\b\b\b\b\b\b\b\b\b\b\b\b\b\b\b\b\b\b\b\b\b\b\b\b\b\b\b\b\b\b\b\b 44/96 \r",
        "HERE OPTIM\t\n",
        "BEFORE FORWARD\t\n",
        "1\t\n"
       ]
      },
      {
       "metadata": {},
       "output_type": "pyout",
       "prompt_number": 413,
       "text": [
        "AFTER FORWARD\t\n",
        "NEO\t\n",
        " 4.4744\n",
        " 5.5260\n",
        "[torch.FloatTensor of dimension 2]\n",
        "\n",
        "2\t\n",
        "BLAH\t\n",
        " ** On entry to SGEMM  parameter number 10 had an illegal value\n"
       ]
      },
      {
       "metadata": {},
       "output_type": "pyout",
       "prompt_number": 413,
       "text": [
        " ** On entry to SGEMM  parameter number 10 had an illegal value\n"
       ]
      },
      {
       "metadata": {},
       "output_type": "pyout",
       "prompt_number": 413,
       "text": [
        "\r",
        " [===================================>.........................................]                                                   \b\b\b\b\b\b\b\b\b\b\b\b\b\b\b\b\b\b\b\b\b\b\b\b\b\b\b\b\b\b\b\b\b\b\b\b\b\b\b\b\b\b\b\b\b\b\b\b\b\bETA: 8s147ms | Step: 159ms\b\b\b\b\b\b\b\b\b\b\b\b\b\b\b\b\b\b\b\b\b\b\b\b\b\b\b\b\b\b\b\b\b\b\b\b\b\b\b\b\b\b\b\b\b\b\b\b\b\b\b\b\b\b\b\b\b\b\b\b\b\b\b\b\b\b\b\b\b\b\b\b\b 45/96 \r",
        "HERE OPTIM\t\n",
        "BEFORE FORWARD\t\n",
        "1\t\n"
       ]
      },
      {
       "metadata": {},
       "output_type": "pyout",
       "prompt_number": 413,
       "text": [
        "AFTER FORWARD\t\n",
        "NEO\t\n",
        " 4.4296\n",
        " 5.5707\n",
        "[torch.FloatTensor of dimension 2]\n",
        "\n",
        "1\t\n",
        "BLAH\t\n",
        " ** On entry to SGEMM  parameter number 10 had an illegal value\n"
       ]
      },
      {
       "metadata": {},
       "output_type": "pyout",
       "prompt_number": 413,
       "text": [
        " ** On entry to SGEMM  parameter number 10 had an illegal value\n"
       ]
      },
      {
       "metadata": {},
       "output_type": "pyout",
       "prompt_number": 413,
       "text": [
        "\r",
        " [===================================>.........................................]                                                   \b\b\b\b\b\b\b\b\b\b\b\b\b\b\b\b\b\b\b\b\b\b\b\b\b\b\b\b\b\b\b\b\b\b\b\b\b\b\b\b\b\b\b\b\b\b\b\b\b\bETA: 7s818ms | Step: 156ms\b\b\b\b\b\b\b\b\b\b\b\b\b\b\b\b\b\b\b\b\b\b\b\b\b\b\b\b\b\b\b\b\b\b\b\b\b\b\b\b\b\b\b\b\b\b\b\b\b\b\b\b\b\b\b\b\b\b\b\b\b\b\b\b\b\b\b\b\b\b\b\b\b 46/96 \r",
        "HERE OPTIM\t\n",
        "BEFORE FORWARD\t\n",
        "1\t\n"
       ]
      },
      {
       "metadata": {},
       "output_type": "pyout",
       "prompt_number": 413,
       "text": [
        "AFTER FORWARD\t\n",
        "NEO\t\n",
        " 4.4843\n",
        " 5.5160\n",
        "[torch.FloatTensor of dimension 2]\n",
        "\n",
        "2\t\n",
        "BLAH\t\n",
        " ** On entry to SGEMM  parameter number 10 had an illegal value\n"
       ]
      },
      {
       "metadata": {},
       "output_type": "pyout",
       "prompt_number": 413,
       "text": [
        " ** On entry to SGEMM  parameter number 10 had an illegal value\n"
       ]
      },
      {
       "metadata": {},
       "output_type": "pyout",
       "prompt_number": 413,
       "text": [
        "\r",
        " [====================================>........................................]                                                   \b\b\b\b\b\b\b\b\b\b\b\b\b\b\b\b\b\b\b\b\b\b\b\b\b\b\b\b\b\b\b\b\b\b\b\b\b\b\b\b\b\b\b\b\b\b\b\b\b\bETA: 7s503ms | Step: 153ms\b\b\b\b\b\b\b\b\b\b\b\b\b\b\b\b\b\b\b\b\b\b\b\b\b\b\b\b\b\b\b\b\b\b\b\b\b\b\b\b\b\b\b\b\b\b\b\b\b\b\b\b\b\b\b\b\b\b\b\b\b\b\b\b\b\b\b\b\b\b\b\b\b 47/96 \r",
        "HERE OPTIM\t\n",
        "BEFORE FORWARD\t\n",
        "1\t\n"
       ]
      },
      {
       "metadata": {},
       "output_type": "pyout",
       "prompt_number": 413,
       "text": [
        "AFTER FORWARD\t\n",
        "NEO\t\n",
        " 4.4405\n",
        " 5.5598\n",
        "[torch.FloatTensor of dimension 2]\n",
        "\n",
        "2\t\n",
        "BLAH\t\n"
       ]
      },
      {
       "metadata": {},
       "output_type": "pyout",
       "prompt_number": 413,
       "text": [
        " ** On entry to SGEMM  parameter number 10 had an illegal value\n"
       ]
      },
      {
       "metadata": {},
       "output_type": "pyout",
       "prompt_number": 413,
       "text": [
        " ** On entry to SGEMM  parameter number 10 had an illegal value\n"
       ]
      },
      {
       "metadata": {},
       "output_type": "pyout",
       "prompt_number": 413,
       "text": [
        "\r",
        " [=====================================>.......................................]                                                   \b\b\b\b\b\b\b\b\b\b\b\b\b\b\b\b\b\b\b\b\b\b\b\b\b\b\b\b\b\b\b\b\b\b\b\b\b\b\b\b\b\b\b\b\b\b\b\b\b\bETA: 7s374ms | Step: 153ms\b\b\b\b\b\b\b\b\b\b\b\b\b\b\b\b\b\b\b\b\b\b\b\b\b\b\b\b\b\b\b\b\b\b\b\b\b\b\b\b\b\b\b\b\b\b\b\b\b\b\b\b\b\b\b\b\b\b\b\b\b\b\b\b\b\b\b\b\b\b\b\b\b 48/96 \r",
        "HERE OPTIM\t\n",
        "BEFORE FORWARD\t\n",
        "1\t\n"
       ]
      },
      {
       "metadata": {},
       "output_type": "pyout",
       "prompt_number": 413,
       "text": [
        "AFTER FORWARD\t\n",
        "NEO\t\n",
        " 4.3961\n",
        " 5.6042\n",
        "[torch.FloatTensor of dimension 2]\n",
        "\n",
        "1\t\n",
        "BLAH\t\n",
        " ** On entry to SGEMM  parameter number 10 had an illegal value\n"
       ]
      },
      {
       "metadata": {},
       "output_type": "pyout",
       "prompt_number": 413,
       "text": [
        " ** On entry to SGEMM  parameter number 10 had an illegal value\n"
       ]
      },
      {
       "metadata": {},
       "output_type": "pyout",
       "prompt_number": 413,
       "text": [
        "\r",
        " [======================================>......................................]                                                   \b\b\b\b\b\b\b\b\b\b\b\b\b\b\b\b\b\b\b\b\b\b\b\b\b\b\b\b\b\b\b\b\b\b\b\b\b\b\b\b\b\b\b\b\b\b\b\b\b\bETA: 7s84ms | Step: 150ms\b\b\b\b\b\b\b\b\b\b\b\b\b\b\b\b\b\b\b\b\b\b\b\b\b\b\b\b\b\b\b\b\b\b\b\b\b\b\b\b\b\b\b\b\b\b\b\b\b\b\b\b\b\b\b\b\b\b\b\b\b\b\b\b\b\b\b\b\b\b\b\b 49/96 \r",
        "HERE OPTIM\t\n",
        "BEFORE FORWARD\t\n",
        "1\t\n"
       ]
      },
      {
       "metadata": {},
       "output_type": "pyout",
       "prompt_number": 413,
       "text": [
        "AFTER FORWARD\t\n",
        "NEO\t\n",
        " 4.4511\n",
        " 5.5492\n",
        "[torch.FloatTensor of dimension 2]\n",
        "\n",
        "1\t\n",
        "BLAH\t\n",
        " ** On entry to SGEMM  parameter number 10 had an illegal value\n"
       ]
      },
      {
       "metadata": {},
       "output_type": "pyout",
       "prompt_number": 413,
       "text": [
        " ** On entry to SGEMM  parameter number 10 had an illegal value\n"
       ]
      },
      {
       "metadata": {},
       "output_type": "pyout",
       "prompt_number": 413,
       "text": [
        "\r",
        " [=======================================>.....................................]                                                   \b\b\b\b\b\b\b\b\b\b\b\b\b\b\b\b\b\b\b\b\b\b\b\b\b\b\b\b\b\b\b\b\b\b\b\b\b\b\b\b\b\b\b\b\b\b\b\b\b\bETA: 6s813ms | Step: 148ms\b\b\b\b\b\b\b\b\b\b\b\b\b\b\b\b\b\b\b\b\b\b\b\b\b\b\b\b\b\b\b\b\b\b\b\b\b\b\b\b\b\b\b\b\b\b\b\b\b\b\b\b\b\b\b\b\b\b\b\b\b\b\b\b\b\b\b\b\b\b\b\b\b 50/96 \r",
        "HERE OPTIM\t\n",
        "BEFORE FORWARD\t\n",
        "1\t\n"
       ]
      },
      {
       "metadata": {},
       "output_type": "pyout",
       "prompt_number": 413,
       "text": [
        "AFTER FORWARD\t\n",
        "NEO\t\n",
        " 4.5066\n",
        " 5.4937\n",
        "[torch.FloatTensor of dimension 2]\n",
        "\n",
        "1\t\n",
        "BLAH\t\n",
        " ** On entry to SGEMM  parameter number 10 had an illegal value\n"
       ]
      },
      {
       "metadata": {},
       "output_type": "pyout",
       "prompt_number": 413,
       "text": [
        " ** On entry to SGEMM  parameter number 10 had an illegal value\n"
       ]
      },
      {
       "metadata": {},
       "output_type": "pyout",
       "prompt_number": 413,
       "text": [
        "\r",
        " [=======================================>.....................................]                                                   \b\b\b\b\b\b\b\b\b\b\b\b\b\b\b\b\b\b\b\b\b\b\b\b\b\b\b\b\b\b\b\b\b\b\b\b\b\b\b\b\b\b\b\b\b\b\b\b\b\bETA: 6s543ms | Step: 145ms\b\b\b\b\b\b\b\b\b\b\b\b\b\b\b\b\b\b\b\b\b\b\b\b\b\b\b\b\b\b\b\b\b\b\b\b\b\b\b\b\b\b\b\b\b\b\b\b\b\b\b\b\b\b\b\b\b\b\b\b\b\b\b\b\b\b\b\b\b\b\b\b\b 51/96 \r",
        "HERE OPTIM\t\n",
        "BEFORE FORWARD\t\n",
        "1\t\n"
       ]
      },
      {
       "metadata": {},
       "output_type": "pyout",
       "prompt_number": 413,
       "text": [
        "AFTER FORWARD\t"
       ]
      },
      {
       "metadata": {},
       "output_type": "pyout",
       "prompt_number": 413,
       "text": [
        "\n",
        "NEO\t\n",
        " 4.5615\n",
        " 5.4387\n",
        "[torch.FloatTensor of dimension 2]\n",
        "\n",
        "2\t\n",
        "BLAH\t\n",
        " ** On entry to SGEMM  parameter number 10 had an illegal value\n"
       ]
      },
      {
       "metadata": {},
       "output_type": "pyout",
       "prompt_number": 413,
       "text": [
        " ** On entry to SGEMM  parameter number 10 had an illegal value\n"
       ]
      },
      {
       "metadata": {},
       "output_type": "pyout",
       "prompt_number": 413,
       "text": [
        "\r",
        " [========================================>....................................]                                                   \b\b\b\b\b\b\b\b\b\b\b\b\b\b\b\b\b\b\b\b\b\b\b\b\b\b\b\b\b\b\b\b\b\b\b\b\b\b\b\b\b\b\b\b\b\b\b\b\b\bETA: 6s280ms | Step: 142ms\b\b\b\b\b\b\b\b\b\b\b\b\b\b\b\b\b\b\b\b\b\b\b\b\b\b\b\b\b\b\b\b\b\b\b\b\b\b\b\b\b\b\b\b\b\b\b\b\b\b\b\b\b\b\b\b\b\b\b\b\b\b\b\b\b\b\b\b\b\b\b\b\b 52/96 \r",
        "HERE OPTIM\t\n",
        "BEFORE FORWARD\t\n",
        "1\t\n"
       ]
      },
      {
       "metadata": {},
       "output_type": "pyout",
       "prompt_number": 413,
       "text": [
        "AFTER FORWARD\t\n",
        "NEO\t\n",
        " 4.5169\n",
        " 5.4834\n",
        "[torch.FloatTensor of dimension 2]\n",
        "\n",
        "2\t\n",
        "BLAH\t\n"
       ]
      },
      {
       "metadata": {},
       "output_type": "pyout",
       "prompt_number": 413,
       "text": [
        " ** On entry to SGEMM  parameter number 10 had an illegal value\n"
       ]
      },
      {
       "metadata": {},
       "output_type": "pyout",
       "prompt_number": 413,
       "text": [
        " ** On entry to SGEMM  parameter number 10 had an illegal value\n"
       ]
      },
      {
       "metadata": {},
       "output_type": "pyout",
       "prompt_number": 413,
       "text": [
        "\r",
        " [=========================================>...................................]                                                   \b\b\b\b\b\b\b\b\b\b\b\b\b\b\b\b\b\b\b\b\b\b\b\b\b\b\b\b\b\b\b\b\b\b\b\b\b\b\b\b\b\b\b\b\b\b\b\b\b\bETA: 6s485ms | Step: 150ms\b\b\b\b\b\b\b\b\b\b\b\b\b\b\b\b\b\b\b\b\b\b\b\b\b\b\b\b\b\b\b\b\b\b\b\b\b\b\b\b\b\b\b\b\b\b\b\b\b\b\b\b\b\b\b\b\b\b\b\b\b\b\b\b\b\b\b\b\b\b\b\b\b 53/96 \r",
        "HERE OPTIM\t\n",
        "BEFORE FORWARD\t\n",
        "1\t\n"
       ]
      },
      {
       "metadata": {},
       "output_type": "pyout",
       "prompt_number": 413,
       "text": [
        "AFTER FORWARD\t\n",
        "NEO\t\n",
        " 4.4718\n",
        " 5.5285\n",
        "[torch.FloatTensor of dimension 2]\n",
        "\n",
        "1\t\n",
        "BLAH\t\n",
        " ** On entry to SGEMM  parameter number 10 had an illegal value\n"
       ]
      },
      {
       "metadata": {},
       "output_type": "pyout",
       "prompt_number": 413,
       "text": [
        " ** On entry to SGEMM  parameter number 10 had an illegal value\n"
       ]
      },
      {
       "metadata": {},
       "output_type": "pyout",
       "prompt_number": 413,
       "text": [
        "\r",
        " [==========================================>..................................]                                                   \b\b\b\b\b\b\b\b\b\b\b\b\b\b\b\b\b\b\b\b\b\b\b\b\b\b\b\b\b\b\b\b\b\b\b\b\b\b\b\b\b\b\b\b\b\b\b\b\b\bETA: 6s224ms | Step: 148ms\b\b\b\b\b\b\b\b\b\b\b\b\b\b\b\b\b\b\b\b\b\b\b\b\b\b\b\b\b\b\b\b\b\b\b\b\b\b\b\b\b\b\b\b\b\b\b\b\b\b\b\b\b\b\b\b\b\b\b\b\b\b\b\b\b\b\b\b\b\b\b\b\b 54/96 \r",
        "HERE OPTIM\t\n",
        "BEFORE FORWARD\t\n",
        "1\t\n"
       ]
      },
      {
       "metadata": {},
       "output_type": "pyout",
       "prompt_number": 413,
       "text": [
        "AFTER FORWARD\t\n",
        "NEO\t\n",
        " 4.5260\n",
        " 5.4742\n",
        "[torch.FloatTensor of dimension 2]\n",
        "\n",
        "2\t\n",
        "BLAH\t\n",
        " ** On entry to SGEMM  parameter number 10 had an illegal value\n"
       ]
      },
      {
       "metadata": {},
       "output_type": "pyout",
       "prompt_number": 413,
       "text": [
        " ** On entry to SGEMM  parameter number 10 had an illegal value\n"
       ]
      },
      {
       "metadata": {},
       "output_type": "pyout",
       "prompt_number": 413,
       "text": [
        "\r",
        " [===========================================>.................................]                                                   \b\b\b\b\b\b\b\b\b\b\b\b\b\b\b\b\b\b\b\b\b\b\b\b\b\b\b\b\b\b\b\b\b\b\b\b\b\b\b\b\b\b\b\b\b\b\b\b\b\bETA: 6s27ms | Step: 147ms\b\b\b\b\b\b\b\b\b\b\b\b\b\b\b\b\b\b\b\b\b\b\b\b\b\b\b\b\b\b\b\b\b\b\b\b\b\b\b\b\b\b\b\b\b\b\b\b\b\b\b\b\b\b\b\b\b\b\b\b\b\b\b\b\b\b\b\b\b\b\b\b 55/96 \r",
        "HERE OPTIM\t\n",
        "BEFORE FORWARD\t\n",
        "1\t\n"
       ]
      },
      {
       "metadata": {},
       "output_type": "pyout",
       "prompt_number": 413,
       "text": [
        "AFTER FORWARD\t\n",
        "NEO\t\n",
        " 4.4818\n",
        " 5.5185\n",
        "[torch.FloatTensor of dimension 2]\n",
        "\n",
        "2\t\n",
        "BLAH\t\n",
        " ** On entry to SGEMM  parameter number 10 had an illegal value\n"
       ]
      },
      {
       "metadata": {},
       "output_type": "pyout",
       "prompt_number": 413,
       "text": [
        " ** On entry to SGEMM  parameter number 10 had an illegal value\n"
       ]
      },
      {
       "metadata": {},
       "output_type": "pyout",
       "prompt_number": 413,
       "text": [
        "\r",
        " [===========================================>.................................]                                                   \b\b\b\b\b\b\b\b\b\b\b\b\b\b\b\b\b\b\b\b\b\b\b\b\b\b\b\b\b\b\b\b\b\b\b\b\b\b\b\b\b\b\b\b\b\b\b\b\b\bETA: 5s793ms | Step: 144ms\b\b\b\b\b\b\b\b\b\b\b\b\b\b\b\b\b\b\b\b\b\b\b\b\b\b\b\b\b\b\b\b\b\b\b\b\b\b\b\b\b\b\b\b\b\b\b\b\b\b\b\b\b\b\b\b\b\b\b\b\b\b\b\b\b\b\b\b\b\b\b\b\b 56/96 \r",
        "HERE OPTIM\t\n",
        "BEFORE FORWARD\t\n",
        "1\t\n"
       ]
      },
      {
       "metadata": {},
       "output_type": "pyout",
       "prompt_number": 413,
       "text": [
        "AFTER FORWARD\t\n",
        "NEO\t\n",
        " 4.4370\n",
        " 5.5633\n",
        "[torch.FloatTensor of dimension 2]\n",
        "\n",
        "1\t\n",
        "BLAH\t\n",
        " ** On entry to SGEMM  parameter number 10 had an illegal value\n"
       ]
      },
      {
       "metadata": {},
       "output_type": "pyout",
       "prompt_number": 413,
       "text": [
        " ** On entry to SGEMM  parameter number 10 had an illegal value\n"
       ]
      },
      {
       "metadata": {},
       "output_type": "pyout",
       "prompt_number": 413,
       "text": [
        "\r",
        " [============================================>................................]     "
       ]
      },
      {
       "metadata": {},
       "output_type": "pyout",
       "prompt_number": 413,
       "text": [
        "                                              \b\b\b\b\b\b\b\b\b\b\b\b\b\b\b\b\b\b\b\b\b\b\b\b\b\b\b\b\b\b\b\b\b\b\b\b\b\b\b\b\b\b\b\b\b\b\b\b\b\bETA: 5s554ms | Step: 142ms\b\b\b\b\b\b\b\b\b\b\b\b\b\b\b\b\b\b\b\b\b\b\b\b\b\b\b\b\b\b\b\b\b\b\b\b\b\b\b\b\b\b\b\b\b\b\b\b\b\b\b\b\b\b\b\b\b\b\b\b\b\b\b\b\b\b\b\b\b\b\b\b\b 57/96 \r",
        "HERE OPTIM\t\n",
        "BEFORE FORWARD\t\n",
        "1\t\n"
       ]
      },
      {
       "metadata": {},
       "output_type": "pyout",
       "prompt_number": 413,
       "text": [
        "AFTER FORWARD\t\n",
        "NEO\t\n",
        " 4.4916\n",
        " 5.5087\n",
        "[torch.FloatTensor of dimension 2]\n",
        "\n",
        "2\t\n",
        "BLAH\t\n"
       ]
      },
      {
       "metadata": {},
       "output_type": "pyout",
       "prompt_number": 413,
       "text": [
        " ** On entry to SGEMM  parameter number 10 had an illegal value\n"
       ]
      },
      {
       "metadata": {},
       "output_type": "pyout",
       "prompt_number": 413,
       "text": [
        " ** On entry to SGEMM  parameter number 10 had an illegal value\n"
       ]
      },
      {
       "metadata": {},
       "output_type": "pyout",
       "prompt_number": 413,
       "text": [
        "\r",
        " [=============================================>...............................]                                                   \b\b\b\b\b\b\b\b\b\b\b\b\b\b\b\b\b\b\b\b\b\b\b\b\b\b\b\b\b\b\b\b\b\b\b\b\b\b\b\b\b\b\b\b\b\b\b\b\b\bETA: 5s365ms | Step: 141ms\b\b\b\b\b\b\b\b\b\b\b\b\b\b\b\b\b\b\b\b\b\b\b\b\b\b\b\b\b\b\b\b\b\b\b\b\b\b\b\b\b\b\b\b\b\b\b\b\b\b\b\b\b\b\b\b\b\b\b\b\b\b\b\b\b\b\b\b\b\b\b\b\b 58/96 \r",
        "HERE OPTIM\t\n",
        "BEFORE FORWARD\t\n",
        "1\t\n"
       ]
      },
      {
       "metadata": {},
       "output_type": "pyout",
       "prompt_number": 413,
       "text": [
        "AFTER FORWARD\t\n",
        "NEO\t\n",
        " 4.4477\n",
        " 5.5526\n",
        "[torch.FloatTensor of dimension 2]\n",
        "\n",
        "2\t\n",
        "BLAH\t\n"
       ]
      },
      {
       "metadata": {},
       "output_type": "pyout",
       "prompt_number": 413,
       "text": [
        " ** On entry to SGEMM  parameter number 10 had an illegal value\n"
       ]
      },
      {
       "metadata": {},
       "output_type": "pyout",
       "prompt_number": 413,
       "text": [
        " ** On entry to SGEMM  parameter number 10 had an illegal value\n"
       ]
      },
      {
       "metadata": {},
       "output_type": "pyout",
       "prompt_number": 413,
       "text": [
        "\r",
        " [==============================================>..............................]                                                   \b\b\b\b\b\b\b\b\b\b\b\b\b\b\b\b\b\b\b\b\b\b\b\b\b\b\b\b\b\b\b\b\b\b\b\b\b\b\b\b\b\b\b\b\b\b\b\b\b\bETA: 5s315ms | Step: 143ms\b\b\b\b\b\b\b\b\b\b\b\b\b\b\b\b\b\b\b\b\b\b\b\b\b\b\b\b\b\b\b\b\b\b\b\b\b\b\b\b\b\b\b\b\b\b\b\b\b\b\b\b\b\b\b\b\b\b\b\b\b\b\b\b\b\b\b\b\b\b\b\b\b 59/96 \r",
        "HERE OPTIM\t\n",
        "BEFORE FORWARD\t\n",
        "1\t\n"
       ]
      },
      {
       "metadata": {},
       "output_type": "pyout",
       "prompt_number": 413,
       "text": [
        "AFTER FORWARD\t\n",
        "NEO\t\n",
        " 4.4032\n",
        " 5.5971\n",
        "[torch.FloatTensor of dimension 2]\n",
        "\n",
        "1\t\n",
        "BLAH\t\n",
        " ** On entry to SGEMM  parameter number 10 had an illegal value\n"
       ]
      },
      {
       "metadata": {},
       "output_type": "pyout",
       "prompt_number": 413,
       "text": [
        " ** On entry to SGEMM  parameter number 10 had an illegal value\n",
        "\r",
        " [===============================================>.............................]                                                   \b\b\b\b\b\b"
       ]
      },
      {
       "metadata": {},
       "output_type": "pyout",
       "prompt_number": 413,
       "text": [
        "\b\b\b\b\b\b\b\b\b\b\b\b\b\b\b\b\b\b\b\b\b\b\b\b\b\b\b\b\b\b\b\b\b\b\b\b\b\b\b\b\b\b\b\bETA: 5s88ms | Step: 141ms\b\b\b\b\b\b\b\b\b\b\b\b\b\b\b\b\b\b\b\b\b\b\b\b\b\b\b\b\b\b\b\b\b\b\b\b\b\b\b\b\b\b\b\b\b\b\b\b\b\b\b\b\b\b\b\b\b\b\b\b\b\b\b\b\b\b\b\b\b\b\b\b 60/96 \r",
        "HERE OPTIM\t\n",
        "BEFORE FORWARD\t\n",
        "1\t\n"
       ]
      },
      {
       "metadata": {},
       "output_type": "pyout",
       "prompt_number": 413,
       "text": [
        "AFTER FORWARD\t\n",
        "NEO\t\n",
        " 4.4582\n",
        " 5.5421\n",
        "[torch.FloatTensor of dimension 2]\n",
        "\n",
        "1\t\n",
        "BLAH\t\n",
        " ** On entry to SGEMM  parameter number 10 had an illegal value\n"
       ]
      },
      {
       "metadata": {},
       "output_type": "pyout",
       "prompt_number": 413,
       "text": [
        " ** On entry to SGEMM  parameter number 10 had an illegal value\n"
       ]
      },
      {
       "metadata": {},
       "output_type": "pyout",
       "prompt_number": 413,
       "text": [
        "\r",
        " [===============================================>.............................]                                                   \b\b\b\b\b\b\b\b\b\b\b\b\b\b\b\b\b\b\b\b\b\b\b\b\b\b\b\b\b\b\b\b\b\b\b\b\b\b\b\b\b\b\b\b\b\b\b\b\b\bETA: 4s869ms | Step: 139ms\b\b\b\b\b\b\b\b\b\b\b\b\b\b\b\b\b\b\b\b\b\b\b\b\b\b\b\b\b\b\b\b\b\b\b\b\b\b\b\b\b\b\b\b\b\b\b\b\b\b\b\b\b\b\b\b\b\b\b\b\b\b\b\b\b\b\b\b\b\b\b\b\b 61/96 \r",
        "HERE OPTIM\t\n",
        "BEFORE FORWARD\t\n",
        "1\t\n"
       ]
      },
      {
       "metadata": {},
       "output_type": "pyout",
       "prompt_number": 413,
       "text": [
        "AFTER FORWARD\t\n",
        "NEO\t\n",
        " 4.5136\n",
        " 5.4867\n",
        "[torch.FloatTensor of dimension 2]\n",
        "\n",
        "2\t\n",
        "BLAH\t\n"
       ]
      },
      {
       "metadata": {},
       "output_type": "pyout",
       "prompt_number": 413,
       "text": [
        " ** On entry to SGEMM  parameter number 10 had an illegal value\n"
       ]
      },
      {
       "metadata": {},
       "output_type": "pyout",
       "prompt_number": 413,
       "text": [
        " ** On entry to SGEMM  parameter number 10 had an illegal value\n"
       ]
      },
      {
       "metadata": {},
       "output_type": "pyout",
       "prompt_number": 413,
       "text": [
        "\r",
        " [================================================>............................]                                                   \b\b\b\b\b\b\b\b\b\b\b\b\b\b\b\b\b\b\b\b\b\b\b\b\b\b\b\b\b\b\b\b\b\b\b\b\b\b\b\b\b\b\b\b\b\b\b\b\b\bETA: 4s932ms | Step: 145ms\b\b\b\b\b\b\b\b\b\b\b\b\b\b\b\b\b\b\b\b\b\b\b\b\b\b\b\b\b\b\b\b\b\b\b\b\b\b\b\b\b\b\b\b\b\b\b\b\b\b\b\b\b\b\b\b\b\b\b\b\b\b\b\b\b\b\b\b\b\b\b\b\b 62/96 \r",
        "HERE OPTIM\t\n",
        "BEFORE FORWARD\t\n",
        "1\t\n"
       ]
      },
      {
       "metadata": {},
       "output_type": "pyout",
       "prompt_number": 413,
       "text": [
        "AFTER FORWARD\t\n",
        "NEO\t\n",
        " 4.4694\n",
        " 5.5309\n",
        "[torch.FloatTensor of dimension 2]\n",
        "\n",
        "1\t\n",
        "BLAH\t\n",
        " ** On entry to SGEMM  parameter number 10 had an illegal value\n"
       ]
      },
      {
       "metadata": {},
       "output_type": "pyout",
       "prompt_number": 413,
       "text": [
        " ** On entry to SGEMM  parameter number 10 had an illegal value\n"
       ]
      },
      {
       "metadata": {},
       "output_type": "pyout",
       "prompt_number": 413,
       "text": [
        "\r",
        " [=================================================>...........................]                                                   \b\b\b\b\b\b\b\b\b\b\b\b\b\b\b\b\b\b\b\b\b\b\b\b\b\b\b\b\b\b\b\b\b\b\b\b\b\b\b\b\b\b\b\b\b\b\b\b\b\bETA: 4s714ms | Step: 142ms\b\b\b\b\b\b\b"
       ]
      },
      {
       "metadata": {},
       "output_type": "pyout",
       "prompt_number": 413,
       "text": [
        "\b\b\b\b\b\b\b\b\b\b\b\b\b\b\b\b\b\b\b\b\b\b\b\b\b\b\b\b\b\b\b\b\b\b\b\b\b\b\b\b\b\b\b\b\b\b\b\b\b\b\b\b\b\b\b\b\b\b\b\b\b\b\b\b\b\b 63/96 \r",
        "HERE OPTIM\t\n",
        "BEFORE FORWARD\t\n",
        "1\t\n"
       ]
      },
      {
       "metadata": {},
       "output_type": "pyout",
       "prompt_number": 413,
       "text": [
        "AFTER FORWARD\t\n",
        "NEO\t\n",
        " 4.5237\n",
        " 5.4766\n",
        "[torch.FloatTensor of dimension 2]\n",
        "\n",
        "2\t\n",
        "BLAH\t\n",
        " ** On entry to SGEMM  parameter number 10 had an illegal value\n"
       ]
      },
      {
       "metadata": {},
       "output_type": "pyout",
       "prompt_number": 413,
       "text": [
        " ** On entry to SGEMM  parameter number 10 had an illegal value\n"
       ]
      },
      {
       "metadata": {},
       "output_type": "pyout",
       "prompt_number": 413,
       "text": [
        "\r",
        " [==================================================>..........................]                                                   \b\b\b\b\b\b\b\b\b\b\b\b\b\b\b\b\b\b\b\b\b\b\b\b\b\b\b\b\b\b\b\b\b\b\b\b\b\b\b\b\b\b\b\b\b\b\b\b\b\bETA: 4s511ms | Step: 140ms\b\b\b\b\b\b\b\b\b\b\b\b\b\b\b\b\b\b\b\b\b\b\b\b\b\b\b\b\b\b\b\b\b\b\b\b\b\b\b\b\b\b\b\b\b\b\b\b\b\b\b\b\b\b\b\b\b\b\b\b\b\b\b\b\b\b\b\b\b\b\b\b\b 64/96 \r",
        "HERE OPTIM\t\n",
        "BEFORE FORWARD\t\n",
        "1\t\n"
       ]
      },
      {
       "metadata": {},
       "output_type": "pyout",
       "prompt_number": 413,
       "text": [
        "AFTER FORWARD\t\n",
        "NEO\t\n",
        " 4.4795\n",
        " 5.5208\n",
        "[torch.FloatTensor of dimension 2]\n",
        "\n",
        "2\t\n",
        "BLAH\t\n"
       ]
      },
      {
       "metadata": {},
       "output_type": "pyout",
       "prompt_number": 413,
       "text": [
        " ** On entry to SGEMM  parameter number 10 had an illegal value\n"
       ]
      },
      {
       "metadata": {},
       "output_type": "pyout",
       "prompt_number": 413,
       "text": [
        " ** On entry to SGEMM  parameter number 10 had an illegal value\n"
       ]
      },
      {
       "metadata": {},
       "output_type": "pyout",
       "prompt_number": 413,
       "text": [
        "\r",
        " [==========================================="
       ]
      },
      {
       "metadata": {},
       "output_type": "pyout",
       "prompt_number": 413,
       "text": [
        "========>.........................]                                                   \b\b\b\b\b\b\b\b\b\b\b\b\b\b\b\b\b\b\b\b\b\b\b\b\b\b\b\b\b\b\b\b\b\b\b\b\b\b\b\b\b\b\b\b\b\b\b\b\b\bETA: 4s366ms | Step: 140ms\b\b\b\b\b\b\b\b\b\b\b\b\b\b\b\b\b\b\b\b\b\b\b\b\b\b\b\b\b\b\b\b\b\b\b\b\b\b\b\b\b\b\b\b\b\b\b\b\b\b\b\b\b\b\b\b\b\b\b\b\b\b\b\b\b\b\b\b\b\b\b\b\b 65/96 \r",
        "HERE OPTIM\t\n",
        "BEFORE FORWARD\t\n",
        "1\t\n"
       ]
      },
      {
       "metadata": {},
       "output_type": "pyout",
       "prompt_number": 413,
       "text": [
        "AFTER FORWARD\t\n",
        "NEO\t\n",
        " 4.4347\n",
        " 5.5656\n",
        "[torch.FloatTensor of dimension 2]\n",
        "\n",
        "2\t\n",
        "BLAH\t\n"
       ]
      },
      {
       "metadata": {},
       "output_type": "pyout",
       "prompt_number": 413,
       "text": [
        " ** On entry to SGEMM  parameter number 10 had an illegal value\n"
       ]
      },
      {
       "metadata": {},
       "output_type": "pyout",
       "prompt_number": 413,
       "text": [
        " ** On entry to SGEMM  parameter number 10 had an illegal value\n"
       ]
      },
      {
       "metadata": {},
       "output_type": "pyout",
       "prompt_number": 413,
       "text": [
        "\r",
        " [===================================================>.........................]                                                   \b\b\b\b\b\b\b\b\b\b\b\b\b\b\b\b\b\b\b\b\b\b\b\b\b\b\b\b\b\b\b\b\b\b\b\b\b\b\b\b\b\b\b\b\b\b\b\b\b\bETA: 4s186ms | Step: 139ms\b\b\b\b\b\b\b\b\b\b\b\b\b\b\b\b\b\b\b\b\b\b\b\b\b\b\b\b\b\b\b\b\b\b\b\b\b\b\b\b\b\b\b\b\b\b\b\b\b\b\b\b\b\b\b\b\b\b\b\b\b\b\b\b\b\b\b\b\b\b\b\b\b 66/96 \r",
        "HERE OPTIM\t\n",
        "BEFORE FORWARD\t\n",
        "1\t\n"
       ]
      },
      {
       "metadata": {},
       "output_type": "pyout",
       "prompt_number": 413,
       "text": [
        "AFTER FORWARD\t\n",
        "NEO\t\n",
        " 4.3904\n",
        " 5.6099\n",
        "[torch.FloatTensor of dimension 2]\n",
        "\n",
        "2\t\n",
        "BLAH\t\n",
        " ** On entry to SGEMM  parameter number 10 had an illegal value\n"
       ]
      },
      {
       "metadata": {},
       "output_type": "pyout",
       "prompt_number": 413,
       "text": [
        " ** On entry to SGEMM  parameter number 10 had an illegal value\n"
       ]
      },
      {
       "metadata": {},
       "output_type": "pyout",
       "prompt_number": 413,
       "text": [
        "\r",
        " [====================================================>........................]                                                   \b\b\b\b\b\b\b\b\b\b\b\b\b\b\b\b\b\b\b\b\b\b\b\b\b\b\b\b\b\b\b\b\b\b\b\b\b\b\b\b\b\b\b\b\b\b\b\b\b\bETA: 4s8ms | Step: 138ms\b\b\b\b\b\b\b\b\b\b\b\b\b\b\b\b\b\b\b\b\b\b\b\b\b\b\b\b\b\b\b\b\b\b\b\b\b\b\b\b\b\b\b\b\b\b\b\b\b\b\b\b\b\b\b\b\b\b\b\b\b\b\b\b\b\b\b\b\b\b\b 67/96 \r",
        "HERE OPTIM\t\n",
        "BEFORE FORWARD\t\n",
        "1\t\n"
       ]
      },
      {
       "metadata": {},
       "output_type": "pyout",
       "prompt_number": 413,
       "text": [
        "AFTER FORWARD\t\n",
        "NEO\t\n",
        " 4.3465\n",
        " 5.6538\n",
        "[torch.FloatTensor of dimension 2]\n",
        "\n",
        "1\t\n",
        "BLAH\t\n",
        " ** On entry to SGEMM  parameter number 10 had an illegal value\n"
       ]
      },
      {
       "metadata": {},
       "output_type": "pyout",
       "prompt_number": 413,
       "text": [
        " ** On entry to SGEMM  parameter number 10 had an illegal value\n"
       ]
      },
      {
       "metadata": {},
       "output_type": "pyout",
       "prompt_number": 413,
       "text": [
        "\r",
        " [=====================================================>.......................]                                                   \b\b\b\b"
       ]
      },
      {
       "metadata": {},
       "output_type": "pyout",
       "prompt_number": 413,
       "text": [
        "\b\b\b\b\b\b\b\b\b\b\b\b\b\b\b\b\b\b\b\b\b\b\b\b\b\b\b\b\b\b\b\b\b\b\b\b\b\b\b\b\b\b\b\b\b\bETA: 3s815ms | Step: 136ms\b\b\b\b\b\b\b\b\b\b\b\b\b\b\b\b\b\b\b\b\b\b\b\b\b\b\b\b\b\b\b\b\b\b\b\b\b\b\b\b\b\b\b\b\b\b\b\b\b\b\b\b\b\b\b\b\b\b\b\b\b\b\b\b\b\b\b\b\b\b\b\b\b 68/96 \r",
        "HERE OPTIM\t\n",
        "BEFORE FORWARD\t\n",
        "1\t\n"
       ]
      },
      {
       "metadata": {},
       "output_type": "pyout",
       "prompt_number": 413,
       "text": [
        "AFTER FORWARD\t\n",
        "NEO\t\n",
        " 4.4020\n",
        " 5.5983\n",
        "[torch.FloatTensor of dimension 2]\n",
        "\n",
        "1\t\n",
        "BLAH\t\n",
        " ** On entry to SGEMM  parameter number 10 had an illegal value\n"
       ]
      },
      {
       "metadata": {},
       "output_type": "pyout",
       "prompt_number": 413,
       "text": [
        " ** On entry to SGEMM  parameter number 10 had an illegal value\n"
       ]
      },
      {
       "metadata": {},
       "output_type": "pyout",
       "prompt_number": 413,
       "text": [
        "\r",
        " [======================================================>......................]                                                   \b\b\b\b\b\b\b\b\b\b\b\b\b\b\b\b\b\b\b\b\b\b\b\b\b\b\b\b\b\b\b\b\b\b\b\b\b\b\b\b\b\b\b\b\b\b\b\b\b\bETA: 3s633ms | Step: 134ms\b\b\b\b\b\b\b\b\b\b\b\b\b\b\b\b\b\b\b\b\b\b\b\b\b\b\b\b\b\b\b\b\b\b\b\b\b\b\b\b\b\b\b\b\b\b\b\b\b\b\b\b\b\b\b\b\b\b\b\b\b\b\b\b\b\b\b\b\b\b\b\b\b 69/96 \r",
        "HERE OPTIM\t\n",
        "BEFORE FORWARD\t\n",
        "1\t\n"
       ]
      },
      {
       "metadata": {},
       "output_type": "pyout",
       "prompt_number": 413,
       "text": [
        "AFTER FORWARD\t\n",
        "NEO\t\n",
        " 4.4580\n",
        " 5.5423\n",
        "[torch.FloatTensor of dimension 2]\n",
        "\n",
        "1\t\n",
        "BLAH\t\n",
        " ** On entry to SGEMM  parameter number 10 had an illegal value\n"
       ]
      },
      {
       "metadata": {},
       "output_type": "pyout",
       "prompt_number": 413,
       "text": [
        " ** On entry to SGEMM  parameter number 10 had an illegal value\n"
       ]
      },
      {
       "metadata": {},
       "output_type": "pyout",
       "prompt_number": 413,
       "text": [
        "\r",
        " [=======================================================>.....................]                                                   \b\b\b\b\b\b\b\b\b\b\b\b\b\b\b\b\b\b\b\b\b\b\b\b\b\b\b\b\b\b\b\b\b\b\b\b\b\b\b\b\b\b\b\b\b\b\b\b\b\bETA: 3s450ms | Step: 132ms\b\b\b\b\b\b\b\b\b\b\b\b\b\b\b\b\b\b\b\b\b\b\b\b\b\b\b\b\b\b\b\b\b\b\b\b\b\b\b\b\b\b\b\b\b\b\b\b\b\b\b\b\b\b\b\b\b\b\b\b\b\b\b\b\b\b\b\b\b\b\b\b\b 70/96 \r",
        "HERE OPTIM\t\n",
        "BEFORE FORWARD\t\n",
        "1\t\n"
       ]
      },
      {
       "metadata": {},
       "output_type": "pyout",
       "prompt_number": 413,
       "text": [
        "AFTER FORWARD\t\n",
        "NEO\t\n",
        " 4.5134\n",
        " 5.4869\n",
        "[torch.FloatTensor of dimension 2]\n",
        "\n",
        "1\t\n",
        "BLAH\t\n",
        " ** On entry to SGEMM  parameter number 10 had an illegal value\n"
       ]
      },
      {
       "metadata": {},
       "output_type": "pyout",
       "prompt_number": 413,
       "text": [
        " ** On entry to SGEMM  parameter number 10 had an illegal value\n"
       ]
      },
      {
       "metadata": {},
       "output_type": "pyout",
       "prompt_number": 413,
       "text": [
        "\r",
        " [=======================================================>.....................]                                                   \b\b\b\b\b\b\b\b"
       ]
      },
      {
       "metadata": {},
       "output_type": "pyout",
       "prompt_number": 413,
       "text": [
        "\b\b\b\b\b\b\b\b\b\b\b\b\b\b\b\b\b\b\b\b\b\b\b\b\b\b\b\b\b\b\b\b\b\b\b\b\b\b\b\b\b\bETA: 3s276ms | Step: 131ms\b\b\b\b\b\b\b\b\b\b\b\b\b\b\b\b\b\b\b\b\b\b\b\b\b\b\b\b\b\b\b\b\b\b\b\b\b\b\b\b\b\b\b\b\b\b\b\b\b\b\b\b\b\b\b\b\b\b\b\b\b\b\b\b\b\b\b\b\b\b\b\b\b 71/96 \r",
        "HERE OPTIM\t\n",
        "BEFORE FORWARD\t\n",
        "1\t\n"
       ]
      },
      {
       "metadata": {},
       "output_type": "pyout",
       "prompt_number": 413,
       "text": [
        "AFTER FORWARD\t\n",
        "NEO\t\n",
        " 4.5683\n",
        " 5.4320\n",
        "[torch.FloatTensor of dimension 2]\n",
        "\n",
        "1\t\n",
        "BLAH\t\n"
       ]
      },
      {
       "metadata": {},
       "output_type": "pyout",
       "prompt_number": 413,
       "text": [
        " ** On entry to SGEMM  parameter number 10 had an illegal value\n"
       ]
      },
      {
       "metadata": {},
       "output_type": "pyout",
       "prompt_number": 413,
       "text": [
        " ** On entry to SGEMM  parameter number 10 had an illegal value\n"
       ]
      },
      {
       "metadata": {},
       "output_type": "pyout",
       "prompt_number": 413,
       "text": [
        "\r",
        " [========================================================>....................]                                                   \b\b\b\b\b\b\b\b\b\b\b\b\b\b\b\b\b\b\b\b\b\b\b\b\b\b\b\b\b\b\b\b\b\b\b\b\b\b\b\b\b\b\b\b\b\b\b\b\b\bETA: 3s104ms | Step: 129ms\b\b\b\b\b\b\b\b\b\b\b\b\b\b\b\b\b\b\b\b\b\b\b\b\b\b\b\b\b\b\b\b\b\b\b\b\b\b\b\b\b\b\b\b\b\b\b\b\b\b\b\b\b\b\b\b\b\b\b\b\b\b\b\b\b\b\b\b\b\b\b\b\b 72/96 \r",
        "HERE OPTIM\t\n",
        "BEFORE FORWARD\t\n",
        "1\t\n"
       ]
      },
      {
       "metadata": {},
       "output_type": "pyout",
       "prompt_number": 413,
       "text": [
        "AFTER FORWARD\t\n",
        "NEO\t\n",
        " 4.6226\n",
        " 5.3777\n",
        "[torch.FloatTensor of dimension 2]\n",
        "\n",
        "2\t\n",
        "BLAH\t\n"
       ]
      },
      {
       "metadata": {},
       "output_type": "pyout",
       "prompt_number": 413,
       "text": [
        " ** On entry to SGEMM  parameter number 10 had an illegal value\n"
       ]
      },
      {
       "metadata": {},
       "output_type": "pyout",
       "prompt_number": 413,
       "text": [
        " ** On entry to SGEMM  parameter number 10 had an illegal value\n"
       ]
      },
      {
       "metadata": {},
       "output_type": "pyout",
       "prompt_number": 413,
       "text": [
        "\r",
        " [=========================================================>...................]                                                   \b\b\b\b\b\b\b\b\b\b\b\b\b\b\b\b\b\b\b\b\b\b\b\b\b\b\b\b\b\b\b\b\b\b\b\b\b\b\b\b\b\b\b\b\b\b\b\b\b\bETA: 2s975ms | Step: 129ms\b\b\b\b\b\b\b"
       ]
      },
      {
       "metadata": {},
       "output_type": "pyout",
       "prompt_number": 413,
       "text": [
        "\b\b\b\b\b\b\b\b\b\b\b\b\b\b\b\b\b\b\b\b\b\b\b\b\b\b\b\b\b\b\b\b\b\b\b\b\b\b\b\b\b\b\b\b\b\b\b\b\b\b\b\b\b\b\b\b\b\b\b\b\b\b\b\b\b\b 73/96 \r",
        "HERE OPTIM\t\n",
        "BEFORE FORWARD\t\n",
        "1\t\n"
       ]
      },
      {
       "metadata": {},
       "output_type": "pyout",
       "prompt_number": 413,
       "text": [
        "AFTER FORWARD\t\n",
        "NEO\t\n",
        " 4.5774\n",
        " 5.4229\n",
        "[torch.FloatTensor of dimension 2]\n",
        "\n",
        "2\t\n",
        "BLAH\t\n"
       ]
      },
      {
       "metadata": {},
       "output_type": "pyout",
       "prompt_number": 413,
       "text": [
        " ** On entry to SGEMM  parameter number 10 had an illegal value\n"
       ]
      },
      {
       "metadata": {},
       "output_type": "pyout",
       "prompt_number": 413,
       "text": [
        " ** On entry to SGEMM  parameter number 10 had an illegal value\n"
       ]
      },
      {
       "metadata": {},
       "output_type": "pyout",
       "prompt_number": 413,
       "text": [
        "\r",
        " [==========================================================>..................]                                                   \b\b\b\b\b\b\b\b\b\b\b\b\b\b\b\b\b\b\b\b\b\b\b\b\b\b\b\b\b\b\b\b\b\b\b\b\b\b\b\b\b\b\b\b\b\b\b\b\b\b"
       ]
      },
      {
       "metadata": {},
       "output_type": "pyout",
       "prompt_number": 413,
       "text": [
        "ETA: 2s822ms | Step: 128ms\b\b\b\b\b\b\b\b\b\b\b\b\b\b\b\b\b\b\b\b\b\b\b\b\b\b\b\b\b\b\b\b\b\b\b\b\b\b\b\b\b\b\b\b\b\b\b\b\b\b\b\b\b\b\b\b\b\b\b\b\b\b\b\b\b\b\b\b\b\b\b\b\b 74/96 \r",
        "HERE OPTIM\t\n",
        "BEFORE FORWARD\t\n",
        "1\t\n"
       ]
      },
      {
       "metadata": {},
       "output_type": "pyout",
       "prompt_number": 413,
       "text": [
        "AFTER FORWARD\t\n",
        "NEO\t\n",
        " 4.5316\n",
        " 5.4687\n",
        "[torch.FloatTensor of dimension 2]\n",
        "\n",
        "2\t\n",
        "BLAH\t\n",
        " ** On entry to SGEMM  parameter number 10 had an illegal value\n"
       ]
      },
      {
       "metadata": {},
       "output_type": "pyout",
       "prompt_number": 413,
       "text": [
        " ** On entry to SGEMM  parameter number 10 had an illegal value\n"
       ]
      },
      {
       "metadata": {},
       "output_type": "pyout",
       "prompt_number": 413,
       "text": [
        "\r",
        " [===========================================================>.................]                                                   \b\b\b\b\b\b\b\b\b\b\b\b\b\b\b\b\b\b\b\b\b\b\b\b\b\b\b\b\b\b\b\b\b\b\b\b\b\b\b\b\b\b\b\b\b\b\b\b\b\bETA: 2s660ms | Step: 126ms\b\b\b\b\b\b\b\b\b\b\b\b\b\b\b\b\b\b\b\b\b\b\b\b\b\b\b\b\b\b\b\b\b\b\b\b\b\b\b\b\b\b\b\b\b\b\b\b\b\b\b\b\b\b\b\b\b\b\b\b\b\b"
       ]
      },
      {
       "metadata": {},
       "output_type": "pyout",
       "prompt_number": 413,
       "text": [
        "\b\b\b\b\b\b\b\b\b\b\b 75/96 \r",
        "HERE OPTIM\t\n",
        "BEFORE FORWARD\t\n",
        "1\t\n"
       ]
      },
      {
       "metadata": {},
       "output_type": "pyout",
       "prompt_number": 413,
       "text": [
        "AFTER FORWARD\t\n",
        "NEO\t\n",
        " 4.4863\n",
        " 5.5140\n",
        "[torch.FloatTensor of dimension 2]\n",
        "\n",
        "2\t\n",
        "BLAH\t\n"
       ]
      },
      {
       "metadata": {},
       "output_type": "pyout",
       "prompt_number": 413,
       "text": [
        " ** On entry to SGEMM  parameter number 10 had an illegal value\n"
       ]
      },
      {
       "metadata": {},
       "output_type": "pyout",
       "prompt_number": 413,
       "text": [
        " ** On entry to SGEMM  parameter number 10 had an illegal value\n"
       ]
      },
      {
       "metadata": {},
       "output_type": "pyout",
       "prompt_number": 413,
       "text": [
        "\r",
        " [======================================"
       ]
      },
      {
       "metadata": {},
       "output_type": "pyout",
       "prompt_number": 413,
       "text": [
        "=====================>.................]                                                   \b\b\b\b\b\b\b\b\b\b\b\b\b\b\b\b\b\b\b\b\b\b\b\b\b\b\b\b\b\b\b\b\b\b\b\b\b\b\b\b\b\b\b\b\b\b\b\b\b\bETA: 2s643ms | Step: 132ms\b\b\b\b\b\b\b\b\b\b\b\b\b\b\b\b\b\b\b\b\b\b\b\b\b\b\b\b\b\b\b\b\b\b\b\b\b\b\b\b\b\b\b\b\b\b\b\b\b\b\b\b\b\b\b\b\b\b\b\b\b\b\b\b\b\b\b\b\b\b\b\b\b 76/96 \r",
        "HERE OPTIM\t\n",
        "BEFORE FORWARD\t\n",
        "1\t\n"
       ]
      },
      {
       "metadata": {},
       "output_type": "pyout",
       "prompt_number": 413,
       "text": [
        "AFTER FORWARD\t\n",
        "NEO\t\n",
        " 4.4414\n",
        " 5.5589\n",
        "[torch.FloatTensor of dimension 2]\n",
        "\n",
        "2\t\n",
        "BLAH\t\n"
       ]
      },
      {
       "metadata": {},
       "output_type": "pyout",
       "prompt_number": 413,
       "text": [
        " ** On entry to SGEMM  parameter number 10 had an illegal value\n"
       ]
      },
      {
       "metadata": {},
       "output_type": "pyout",
       "prompt_number": 413,
       "text": [
        " ** On entry to SGEMM  parameter number 10 had an illegal value\n"
       ]
      },
      {
       "metadata": {},
       "output_type": "pyout",
       "prompt_number": 413,
       "text": [
        "\r",
        " [============================================================>................]                                                   \b\b\b\b\b\b\b\b\b\b\b\b\b\b\b\b\b\b\b\b\b\b\b\b\b\b\b\b\b\b\b\b\b\b\b\b\b\b\b\b\b\b\b\b\b\b\b\b\b\bETA: 2s589ms | Step: 136ms\b\b\b\b\b\b\b\b\b\b\b\b\b\b\b\b\b\b\b\b\b\b\b\b\b\b\b\b\b\b\b\b\b\b\b\b\b\b\b\b\b\b\b\b\b\b\b\b\b\b\b\b\b\b\b\b\b\b\b\b\b\b\b\b\b\b\b\b\b\b\b\b\b 77/96 \r",
        "HERE OPTIM\t\n",
        "BEFORE FORWARD\t\n",
        "1\t\n"
       ]
      },
      {
       "metadata": {},
       "output_type": "pyout",
       "prompt_number": 413,
       "text": [
        "AFTER FORWARD\t\n",
        "NEO\t\n",
        " 4.3970\n",
        " 5.6033\n",
        "[torch.FloatTensor of dimension 2]\n",
        "\n",
        "1\t\n",
        "BLAH\t\n",
        " ** On entry to SGEMM  parameter number 10 had an illegal value\n"
       ]
      },
      {
       "metadata": {},
       "output_type": "pyout",
       "prompt_number": 413,
       "text": [
        " ** On entry to SGEMM  parameter number 10 had an illegal value\n"
       ]
      },
      {
       "metadata": {},
       "output_type": "pyout",
       "prompt_number": 413,
       "text": [
        "\r",
        " [=============================================================>...............]                            "
       ]
      },
      {
       "metadata": {},
       "output_type": "pyout",
       "prompt_number": 413,
       "text": [
        "                       \b\b\b\b\b\b\b\b\b\b\b\b\b\b\b\b\b\b\b\b\b\b\b\b\b\b\b\b\b\b\b\b\b\b\b\b\b\b\b\b\b\b\b\b\b\b\b\b\b\bETA: 2s422ms | Step: 134ms\b\b\b\b\b\b\b\b\b\b\b\b\b\b\b\b\b\b\b\b\b\b\b\b\b\b\b\b\b\b\b\b\b\b\b\b\b\b\b\b\b\b\b\b\b\b\b\b\b\b\b\b\b\b\b\b\b\b\b\b\b\b\b\b\b\b\b\b\b\b\b\b\b 78/96 \r",
        "HERE OPTIM\t\n",
        "BEFORE FORWARD\t\n",
        "1\t\n"
       ]
      },
      {
       "metadata": {},
       "output_type": "pyout",
       "prompt_number": 413,
       "text": [
        "AFTER FORWARD\t\n",
        "NEO\t\n",
        " 4.4520\n",
        " 5.5483\n",
        "[torch.FloatTensor of dimension 2]\n",
        "\n",
        "1\t\n",
        "BLAH\t\n",
        " ** On entry to SGEMM  parameter number 10 had an illegal value\n",
        " ** On entry to SGEMM  parameter number 10 had an illegal value\n"
       ]
      },
      {
       "metadata": {},
       "output_type": "pyout",
       "prompt_number": 413,
       "text": [
        "\r",
        " [==============================================================>..............]                                                   \b\b\b\b\b\b\b\b\b\b\b\b\b\b\b\b\b\b\b\b\b\b\b\b\b\b\b\b\b\b\b\b\b\b\b\b\b\b\b\b\b\b\b\b\b\b\b\b\b\bETA: 2s260ms | Step: 132ms\b\b\b\b\b\b\b\b\b\b\b\b\b\b\b\b\b\b\b\b\b\b\b\b\b\b\b\b\b\b\b\b\b\b\b\b\b\b\b\b\b\b\b\b\b\b\b\b\b\b\b\b\b\b\b\b\b\b\b\b\b\b\b\b\b\b\b\b\b\b\b\b\b 79/96 \r",
        "HERE OPTIM\t\n",
        "BEFORE FORWARD\t\n",
        "1\t\n"
       ]
      },
      {
       "metadata": {},
       "output_type": "pyout",
       "prompt_number": 413,
       "text": [
        "AFTER FORWARD\t\n",
        "NEO\t\n",
        " 4.5075\n",
        " 5.4928\n",
        "[torch.FloatTensor of dimension 2]\n",
        "\n",
        "2\t\n",
        "BLAH\t\n"
       ]
      },
      {
       "metadata": {},
       "output_type": "pyout",
       "prompt_number": 413,
       "text": [
        " ** On entry to SGEMM  parameter number 10 had an illegal value\n"
       ]
      },
      {
       "metadata": {},
       "output_type": "pyout",
       "prompt_number": 413,
       "text": [
        " ** On entry to SGEMM  parameter number 10 had an illegal value\n"
       ]
      },
      {
       "metadata": {},
       "output_type": "pyout",
       "prompt_number": 413,
       "text": [
        "\r",
        " [===============================================================>.............]                                                   \b\b\b\b\b\b\b\b\b\b\b\b\b\b\b\b\b\b\b\b\b\b\b\b\b\b\b\b\b\b\b\b\b\b\b\b\b\b\b\b"
       ]
      },
      {
       "metadata": {},
       "output_type": "pyout",
       "prompt_number": 413,
       "text": [
        "\b\b\b\b\b\b\b\b\b\bETA: 2s143ms | Step: 133ms\b\b\b\b\b\b\b\b\b\b\b\b\b\b\b\b\b\b\b\b\b\b\b\b\b\b\b\b\b\b\b\b\b\b\b\b\b\b\b\b\b\b\b\b\b\b\b\b\b\b\b\b\b\b\b\b\b\b\b\b\b\b\b\b\b\b\b\b\b\b\b\b\b 80/96 \r",
        "HERE OPTIM\t\n",
        "BEFORE FORWARD\t\n",
        "1\t\n"
       ]
      },
      {
       "metadata": {},
       "output_type": "pyout",
       "prompt_number": 413,
       "text": [
        "AFTER FORWARD\t\n",
        "NEO\t\n",
        " 4.4634\n",
        " 5.5369\n",
        "[torch.FloatTensor of dimension 2]\n",
        "\n",
        "2\t\n",
        "BLAH\t\n"
       ]
      },
      {
       "metadata": {},
       "output_type": "pyout",
       "prompt_number": 413,
       "text": [
        " ** On entry to SGEMM  parameter number 10 had an illegal value\n"
       ]
      },
      {
       "metadata": {},
       "output_type": "pyout",
       "prompt_number": 413,
       "text": [
        " ** On entry to SGEMM  parameter number 10 had an illegal value\n"
       ]
      },
      {
       "metadata": {},
       "output_type": "pyout",
       "prompt_number": 413,
       "text": [
        "\r",
        " [==================================================="
       ]
      },
      {
       "metadata": {},
       "output_type": "pyout",
       "prompt_number": 413,
       "text": [
        "============>.............]                                                   \b\b\b\b\b\b\b\b\b\b\b\b\b\b\b\b\b\b\b\b\b\b\b\b\b\b\b\b\b\b\b\b\b\b\b\b\b\b\b\b\b\b\b\b\b\b\b\b\b\bETA: 2s177ms | Step: 145ms\b\b\b\b\b\b\b\b\b\b\b\b\b\b\b\b\b\b\b\b\b\b\b\b\b\b\b\b\b\b\b\b\b\b\b\b\b\b\b\b\b\b\b\b\b\b\b\b\b\b\b\b\b\b\b\b\b\b\b\b\b\b\b\b\b\b\b\b\b\b\b\b\b 81/96 \r",
        "HERE OPTIM\t\n",
        "BEFORE FORWARD\t\n",
        "1\t\n"
       ]
      },
      {
       "metadata": {},
       "output_type": "pyout",
       "prompt_number": 413,
       "text": [
        "AFTER FORWARD\t\n",
        "NEO\t\n",
        " 4.4188\n",
        " 5.5814\n",
        "[torch.FloatTensor of dimension 2]\n",
        "\n",
        "2\t\n",
        "BLAH\t\n"
       ]
      },
      {
       "metadata": {},
       "output_type": "pyout",
       "prompt_number": 413,
       "text": [
        " ** On entry to SGEMM  parameter number 10 had an illegal value\n"
       ]
      },
      {
       "metadata": {},
       "output_type": "pyout",
       "prompt_number": 413,
       "text": [
        " ** On entry to SGEMM  parameter number 10 had an illegal value\n"
       ]
      },
      {
       "metadata": {},
       "output_type": "pyout",
       "prompt_number": 413,
       "text": [
        "\r",
        " [================================================================>............]                                                   \b\b\b\b\b\b\b\b\b\b\b\b\b\b\b\b\b\b\b\b\b\b\b\b\b\b\b\b\b\b\b\b\b\b\b\b\b\b\b\b\b\b\b\b\b\b\b\b\b\bETA: 2s71ms | Step: 147ms\b\b\b\b\b\b\b\b\b\b\b\b\b\b\b\b\b\b\b\b\b\b\b\b\b\b\b\b\b\b\b\b\b\b\b\b\b\b\b\b\b\b\b\b\b\b\b\b\b\b\b\b\b\b\b\b\b\b\b\b\b\b\b\b\b\b\b\b\b\b\b\b 82/96 \r",
        "HERE OPTIM\t\n",
        "BEFORE FORWARD\t\n",
        "1\t\n"
       ]
      },
      {
       "metadata": {},
       "output_type": "pyout",
       "prompt_number": 413,
       "text": [
        "AFTER FORWARD\t\n",
        "NEO\t\n",
        " 4.3746\n",
        " 5.6256\n",
        "[torch.FloatTensor of dimension 2]\n",
        "\n",
        "1\t\n",
        "BLAH\t\n",
        " ** On entry to SGEMM  parameter number 10 had an illegal value\n"
       ]
      },
      {
       "metadata": {},
       "output_type": "pyout",
       "prompt_number": 413,
       "text": [
        " ** On entry to SGEMM  parameter number 10 had an illegal value\n"
       ]
      },
      {
       "metadata": {},
       "output_type": "pyout",
       "prompt_number": 413,
       "text": [
        "\r",
        " [=================================================================>...........]                                                   \b\b\b\b\b\b\b\b\b\b\b\b\b\b\b\b\b\b\b\b\b\b\b\b\b\b\b\b\b\b\b\b\b\b\b\b\b\b\b\b\b\b\b\b\b\b\b\b\b\bETA: 1s901ms | Step: 146ms\b\b\b\b\b\b\b\b\b\b\b\b\b\b\b\b\b\b\b\b\b\b\b\b\b\b\b\b\b\b\b\b\b\b\b\b\b\b\b\b\b\b\b\b\b\b\b\b\b\b\b\b\b\b\b\b\b\b\b\b\b\b\b\b\b\b\b\b\b\b\b\b\b 83/96 \r",
        "HERE OPTIM\t\n",
        "BEFORE FORWARD\t\n",
        "1\t\n"
       ]
      },
      {
       "metadata": {},
       "output_type": "pyout",
       "prompt_number": 413,
       "text": [
        "AFTER FORWARD\t\n",
        "NEO\t\n",
        " 4.4299\n",
        " 5.5703\n",
        "[torch.FloatTensor of dimension 2]\n",
        "\n",
        "2\t\n",
        "BLAH\t\n"
       ]
      },
      {
       "metadata": {},
       "output_type": "pyout",
       "prompt_number": 413,
       "text": [
        " ** On entry to SGEMM  parameter number 10 had an illegal value\n"
       ]
      },
      {
       "metadata": {},
       "output_type": "pyout",
       "prompt_number": 413,
       "text": [
        " ** On entry to SGEMM  parameter number 10 had an illegal value\n"
       ]
      },
      {
       "metadata": {},
       "output_type": "pyout",
       "prompt_number": 413,
       "text": [
        "\r",
        " [==================================================================>..........]                                                   \b\b\b\b\b\b\b\b\b\b\b\b\b\b\b\b\b\b\b\b\b\b\b\b\b\b\b\b\b\b\b\b\b\b\b\b\b\b\b\b\b\b\b\b\b\b\b\b\b\bETA: 1s744ms | Step: 145ms\b\b\b\b\b\b\b\b\b\b\b\b\b\b\b\b\b\b\b\b\b\b\b\b\b\b\b\b\b\b\b\b\b\b\b\b\b\b\b\b\b\b\b\b\b\b\b\b\b\b\b\b\b\b\b\b\b\b\b\b\b\b\b\b\b\b\b\b\b\b\b\b\b 84/96 \r",
        "HERE OPTIM\t\n",
        "BEFORE FORWARD\t\n",
        "1\t\n"
       ]
      },
      {
       "metadata": {},
       "output_type": "pyout",
       "prompt_number": 413,
       "text": [
        "AFTER FORWARD\t\n",
        "NEO\t\n",
        " 4.3866\n",
        " 5.6136\n",
        "[torch.FloatTensor of dimension 2]\n",
        "\n",
        "1\t\n",
        "BLAH\t\n",
        " ** On entry to SGEMM  parameter number 10 had an illegal value\n"
       ]
      },
      {
       "metadata": {},
       "output_type": "pyout",
       "prompt_number": 413,
       "text": [
        " ** On entry to SGEMM  parameter number 10 had an illegal value\n",
        "\r",
        " [===================================================================>.........]                                                   \b\b\b\b\b\b\b\b\b\b\b\b\b\b\b\b\b\b\b\b\b\b\b\b\b\b\b\b\b\b\b\b\b\b\b\b\b\b\b\b\b\b\b\b\b\b\b\b\b\bETA: 1s580ms | Step: 143ms\b\b\b\b\b\b\b\b\b\b\b\b\b\b\b\b\b\b\b\b\b\b\b\b\b\b\b\b\b\b\b\b\b\b\b\b\b\b\b\b\b\b\b\b\b\b\b\b\b\b\b\b\b\b\b\b\b\b\b\b\b\b\b\b\b\b\b\b\b\b\b\b\b 85/96 \r",
        "HERE OPTIM\t\n",
        "BEFORE FORWARD\t\n",
        "1\t\n"
       ]
      },
      {
       "metadata": {},
       "output_type": "pyout",
       "prompt_number": 413,
       "text": [
        "AFTER FORWARD\t\n",
        "NEO\t\n",
        " 4.4417\n",
        " 5.5585\n",
        "[torch.FloatTensor of dimension 2]\n",
        "\n",
        "2\t\n",
        "BLAH\t\n"
       ]
      },
      {
       "metadata": {},
       "output_type": "pyout",
       "prompt_number": 413,
       "text": [
        " ** On entry to SGEMM  parameter number 10 had an illegal value\n"
       ]
      },
      {
       "metadata": {},
       "output_type": "pyout",
       "prompt_number": 413,
       "text": [
        " ** On entry to SGEMM  parameter number 10 had an illegal value\n"
       ]
      },
      {
       "metadata": {},
       "output_type": "pyout",
       "prompt_number": 413,
       "text": [
        "\r",
        " [===================================================================>.........]                                                   \b\b\b\b\b\b\b"
       ]
      },
      {
       "metadata": {},
       "output_type": "pyout",
       "prompt_number": 413,
       "text": [
        "\b\b\b\b\b\b\b\b\b\b\b\b\b\b\b\b\b\b\b\b\b\b\b\b\b\b\b\b\b\b\b\b\b\b\b\b\b\b\b\b\b\b\bETA: 1s455ms | Step: 145ms\b\b\b\b\b\b\b\b\b\b\b\b\b\b\b\b\b\b\b\b\b\b\b\b\b\b\b\b\b\b\b\b\b\b\b\b\b\b\b\b\b\b\b\b\b\b\b\b\b\b\b\b\b\b\b\b\b\b\b\b\b\b\b\b\b\b\b\b\b\b\b\b\b 86/96 \r",
        "HERE OPTIM\t\n",
        "BEFORE FORWARD\t\n",
        "1\t\n"
       ]
      },
      {
       "metadata": {},
       "output_type": "pyout",
       "prompt_number": 413,
       "text": [
        "AFTER FORWARD\t\n",
        "NEO\t\n",
        " 4.3983\n",
        " 5.6019\n",
        "[torch.FloatTensor of dimension 2]\n",
        "\n",
        "2\t\n",
        "BLAH\t\n",
        " ** On entry to SGEMM  parameter number 10 had an illegal value\n"
       ]
      },
      {
       "metadata": {},
       "output_type": "pyout",
       "prompt_number": 413,
       "text": [
        " ** On entry to SGEMM  parameter number 10 had an illegal value\n"
       ]
      },
      {
       "metadata": {},
       "output_type": "pyout",
       "prompt_number": 413,
       "text": [
        "\r",
        " [====================================================================>........]                                                   \b\b\b\b\b\b\b\b\b\b\b\b\b\b\b\b\b\b\b\b\b\b\b\b\b\b\b\b\b\b\b\b\b\b\b\b\b\b\b\b\b\b\b\b\b\b\b\b\b\bETA: 1s301ms | Step: 144ms\b\b\b\b\b\b\b\b\b\b\b\b\b\b\b\b\b\b\b\b\b\b\b\b\b\b\b\b\b\b\b\b\b\b\b\b\b\b\b\b\b\b\b\b\b\b\b\b\b\b\b\b\b\b\b\b\b\b\b\b\b\b\b\b\b\b\b\b\b\b\b\b\b 87/96 \r",
        "HERE OPTIM\t\n",
        "BEFORE FORWARD\t\n",
        "1\t\n"
       ]
      },
      {
       "metadata": {},
       "output_type": "pyout",
       "prompt_number": 413,
       "text": [
        "AFTER FORWARD\t\n",
        "NEO\t\n",
        " 4.3543\n",
        " 5.6459\n",
        "[torch.FloatTensor of dimension 2]\n",
        "\n",
        "2\t\n"
       ]
      },
      {
       "metadata": {},
       "output_type": "pyout",
       "prompt_number": 413,
       "text": [
        "BLAH\t\n",
        " ** On entry to SGEMM  parameter number 10 had an illegal value\n"
       ]
      },
      {
       "metadata": {},
       "output_type": "pyout",
       "prompt_number": 413,
       "text": [
        " ** On entry to SGEMM  parameter number 10 had an illegal value\n"
       ]
      },
      {
       "metadata": {},
       "output_type": "pyout",
       "prompt_number": 413,
       "text": [
        "\r",
        " [=====================================================================>.......]                                                   \b\b\b\b\b\b\b\b\b\b\b\b\b\b\b\b\b\b\b\b\b\b\b\b\b\b\b\b\b\b\b\b\b\b\b\b\b\b\b\b\b\b\b\b\b\b\b\b\b\bETA: 1s148ms | Step: 143ms\b\b\b\b\b\b\b\b\b\b\b\b\b\b\b\b\b\b\b\b\b\b\b\b\b\b\b\b\b\b\b\b\b\b\b\b\b\b\b\b\b\b\b\b\b\b\b\b\b\b\b\b\b\b\b\b\b\b\b\b\b\b\b\b\b\b\b\b\b\b\b\b\b 88/96 \r",
        "HERE OPTIM\t\n",
        "BEFORE FORWARD\t\n",
        "1\t\n"
       ]
      },
      {
       "metadata": {},
       "output_type": "pyout",
       "prompt_number": 413,
       "text": [
        "AFTER FORWARD\t\n",
        "NEO\t\n",
        " 4.3107\n",
        " 5.6895\n",
        "[torch.FloatTensor of dimension 2]\n",
        "\n",
        "1\t\n",
        "BLAH\t\n",
        " ** On entry to SGEMM  parameter number 10 had an illegal value\n"
       ]
      },
      {
       "metadata": {},
       "output_type": "pyout",
       "prompt_number": 413,
       "text": [
        " ** On entry to SGEMM  parameter number 10 had an illegal value\n"
       ]
      },
      {
       "metadata": {},
       "output_type": "pyout",
       "prompt_number": 413,
       "text": [
        "\r",
        " [============================================"
       ]
      },
      {
       "metadata": {},
       "output_type": "pyout",
       "prompt_number": 413,
       "text": [
        "==========================>......]                                                   \b\b\b\b\b\b\b\b\b\b\b\b\b\b\b\b\b\b\b\b\b\b\b\b\b\b\b\b\b\b\b\b\b\b\b\b\b\b\b\b\b\b\b\b\b\b\b\b\b\bETA: 994ms | Step: 142ms\b\b\b\b\b\b\b\b\b\b\b\b\b\b\b\b\b\b\b\b\b\b\b\b\b\b\b\b\b\b\b\b\b\b\b\b\b\b\b\b\b\b\b\b\b\b\b\b\b\b\b\b\b\b\b\b\b\b\b\b\b\b\b\b\b\b\b\b\b\b\b 89/96 \r",
        "HERE OPTIM\t\n",
        "BEFORE FORWARD\t\n",
        "1\t\n"
       ]
      },
      {
       "metadata": {},
       "output_type": "pyout",
       "prompt_number": 413,
       "text": [
        "AFTER FORWARD\t\n",
        "NEO\t\n",
        " 4.3666\n",
        " 5.6336\n",
        "[torch.FloatTensor of dimension 2]\n",
        "\n",
        "2\t\n",
        "BLAH\t\n",
        " ** On entry to SGEMM  parameter number 10 had an illegal value\n"
       ]
      },
      {
       "metadata": {},
       "output_type": "pyout",
       "prompt_number": 413,
       "text": [
        " ** On entry to SGEMM  parameter number 10 had an illegal value\n"
       ]
      },
      {
       "metadata": {},
       "output_type": "pyout",
       "prompt_number": 413,
       "text": [
        "\r",
        " [=======================================================================>.....]                                               "
       ]
      },
      {
       "metadata": {},
       "output_type": "pyout",
       "prompt_number": 413,
       "text": [
        "    \b\b\b\b\b\b\b\b\b\b\b\b\b\b\b\b\b\b\b\b\b\b\b\b\b\b\b\b\b\b\b\b\b\b\b\b\b\b\b\b\b\b\b\b\b\b\b\b\b\bETA: 845ms | Step: 140ms\b\b\b\b\b\b\b\b\b\b\b\b\b\b\b\b\b\b\b\b\b\b\b\b\b\b\b\b\b\b\b\b\b\b\b\b\b\b\b\b\b\b\b\b\b\b\b\b\b\b\b\b\b\b\b\b\b\b\b\b\b\b\b\b\b\b\b\b\b\b\b 90/96 \r",
        "HERE OPTIM\t\n",
        "BEFORE FORWARD\t\n",
        "1\t\n"
       ]
      },
      {
       "metadata": {},
       "output_type": "pyout",
       "prompt_number": 413,
       "text": [
        "AFTER FORWARD\t\n",
        "NEO\t\n",
        " 4.3240\n",
        " 5.6762\n",
        "[torch.FloatTensor of dimension 2]\n",
        "\n",
        "1\t\n",
        "BLAH\t\n",
        " ** On entry to SGEMM  parameter number 10 had an illegal value\n"
       ]
      },
      {
       "metadata": {},
       "output_type": "pyout",
       "prompt_number": 413,
       "text": [
        " ** On entry to SGEMM  parameter number 10 had an illegal value\n"
       ]
      },
      {
       "metadata": {},
       "output_type": "pyout",
       "prompt_number": 413,
       "text": [
        "\r",
        " [=======================================================================>.....]                                                   \b\b\b\b\b\b\b\b\b\b\b\b\b\b\b\b\b\b\b\b\b\b\b\b\b\b\b\b\b\b\b\b\b\b\b\b\b\b\b\b\b\b\b\b\b\b\b\b\b\bETA: 697ms | Step: 139ms\b\b\b\b\b\b\b\b\b\b\b\b\b\b\b\b\b\b\b\b\b\b\b\b\b\b\b\b\b\b\b\b\b\b\b\b\b\b\b\b\b\b\b\b\b\b\b\b\b\b\b\b\b\b\b\b\b\b\b\b\b\b\b\b\b\b\b\b\b\b\b 91/96 \r",
        "HERE OPTIM\t\n",
        "BEFORE FORWARD\t\n",
        "1\t\n"
       ]
      },
      {
       "metadata": {},
       "output_type": "pyout",
       "prompt_number": 413,
       "text": [
        "AFTER FORWARD\t\n",
        "NEO\t\n",
        " 4.3797\n",
        " 5.6205\n",
        "[torch.FloatTensor of dimension 2]\n",
        "\n",
        "1\t\n",
        "BLAH\t\n",
        " ** On entry to SGEMM  parameter number 10 had an illegal value\n"
       ]
      },
      {
       "metadata": {},
       "output_type": "pyout",
       "prompt_number": 413,
       "text": [
        " ** On entry to SGEMM  parameter number 10 had an illegal value\n"
       ]
      },
      {
       "metadata": {},
       "output_type": "pyout",
       "prompt_number": 413,
       "text": [
        "\r",
        " [========================================================================>....]                                                   \b\b\b\b\b\b\b\b\b\b\b\b\b\b\b\b\b\b\b\b\b\b\b\b\b\b\b\b\b\b\b\b\b\b\b\b\b\b\b\b\b\b\b\b\b\b\b\b\b\bETA: 552ms | Step: 138ms\b\b\b\b\b\b\b\b\b\b\b\b\b\b\b\b\b\b\b\b\b\b\b\b\b\b\b\b\b\b\b\b\b\b\b\b\b\b\b\b\b\b\b\b\b\b\b\b\b\b\b\b\b\b\b\b\b\b\b\b\b\b\b\b\b\b\b\b\b\b\b 92/96 \r",
        "HERE OPTIM\t\n",
        "BEFORE FORWARD\t\n",
        "1\t\n"
       ]
      },
      {
       "metadata": {},
       "output_type": "pyout",
       "prompt_number": 413,
       "text": [
        "AFTER FORWARD\t\n",
        "NEO\t\n",
        " 4.4359\n",
        " 5.5643\n",
        "[torch.FloatTensor of dimension 2]\n",
        "\n",
        "1\t\n",
        "BLAH\t\n",
        " ** On entry to SGEMM  parameter number 10 had an illegal value\n"
       ]
      },
      {
       "metadata": {},
       "output_type": "pyout",
       "prompt_number": 413,
       "text": [
        " ** On entry to SGEMM  parameter number 10 had an illegal value\n"
       ]
      },
      {
       "metadata": {},
       "output_type": "pyout",
       "prompt_number": 413,
       "text": [
        "\r",
        " [=========================================================================>...]                                                   \b\b\b\b\b\b\b\b\b\b\b\b\b\b\b\b\b\b\b\b\b\b\b\b\b\b\b\b\b\b\b\b\b\b\b\b\b\b\b\b\b\b\b\b\b\b\b\b\b\bETA: 409ms | Step: 136ms\b\b\b\b\b\b\b\b\b\b\b\b\b\b\b\b\b\b\b\b\b\b\b\b\b\b\b\b\b\b\b\b\b\b\b\b\b\b\b\b\b\b\b\b\b\b\b\b\b\b\b\b\b\b\b\b\b\b\b\b\b\b\b\b\b\b\b\b\b\b\b 93/96 \r",
        "HERE OPTIM\t\n",
        "BEFORE FORWARD\t\n",
        "1\t\n"
       ]
      },
      {
       "metadata": {},
       "output_type": "pyout",
       "prompt_number": 413,
       "text": [
        "AFTER FORWARD\t\n",
        "NEO\t\n",
        " 4.4916\n",
        " 5.5086\n",
        "[torch.FloatTensor of dimension 2]\n",
        "\n",
        "1\t\n",
        "BLAH\t\n",
        " ** On entry to SGEMM  parameter number 10 had an illegal value\n"
       ]
      },
      {
       "metadata": {},
       "output_type": "pyout",
       "prompt_number": 413,
       "text": [
        " ** On entry to SGEMM  parameter number 10 had an illegal value\n"
       ]
      },
      {
       "metadata": {},
       "output_type": "pyout",
       "prompt_number": 413,
       "text": [
        "\r",
        " [==========================================================================>..]                                                   \b\b\b\b\b\b\b\b\b\b\b\b\b\b\b\b\b\b\b\b\b\b\b\b\b\b\b\b\b\b\b\b\b\b\b\b\b\b\b\b\b\b\b\b\b\b\b\b\b\bETA: 270ms | Step: 135ms\b\b\b\b\b\b\b\b\b\b\b\b\b\b\b\b\b\b\b\b\b\b\b\b\b\b\b\b\b\b\b\b\b\b\b\b\b\b\b\b\b\b"
       ]
      },
      {
       "metadata": {},
       "output_type": "pyout",
       "prompt_number": 413,
       "text": [
        "\b\b\b\b\b\b\b\b\b\b\b\b\b\b\b\b\b\b\b\b\b\b\b\b\b\b\b\b\b 94/96 \r",
        "HERE OPTIM\t\n",
        "BEFORE FORWARD\t\n",
        "1\t\n"
       ]
      },
      {
       "metadata": {},
       "output_type": "pyout",
       "prompt_number": 413,
       "text": [
        "AFTER FORWARD\t\n",
        "NEO\t\n",
        " 4.5467\n",
        " 5.4535\n",
        "[torch.FloatTensor of dimension 2]\n",
        "\n",
        "1\t\n",
        "BLAH\t\n",
        " ** On entry to SGEMM  parameter number 10 had an illegal value\n"
       ]
      },
      {
       "metadata": {},
       "output_type": "pyout",
       "prompt_number": 413,
       "text": [
        " ** On entry to SGEMM  parameter number 10 had an illegal value\n",
        "\r",
        " [===========================================================================>.]                                                   \b\b\b\b\b\b\b\b\b\b\b\b\b\b\b\b\b\b\b\b\b\b\b\b\b\b\b\b\b\b\b\b"
       ]
      },
      {
       "metadata": {},
       "output_type": "pyout",
       "prompt_number": 413,
       "text": [
        "\b\b\b\b\b\b\b\b\b\b\b\b\b\b\b\b\b\bETA: 133ms | Step: 133ms\b\b\b\b\b\b\b\b\b\b\b\b\b\b\b\b\b\b\b\b\b\b\b\b\b\b\b\b\b\b\b\b\b\b\b\b\b\b\b\b\b\b\b\b\b\b\b\b\b\b\b\b\b\b\b\b\b\b\b\b\b\b\b\b\b\b\b\b\b\b\b 95/96 \r",
        "HERE OPTIM\t\n",
        "BEFORE FORWARD\t\n",
        "1\t\n"
       ]
      },
      {
       "metadata": {},
       "output_type": "pyout",
       "prompt_number": 413,
       "text": [
        "AFTER FORWARD\t\n",
        "NEO\t\n",
        " 4.6012\n",
        " 5.3990\n",
        "[torch.FloatTensor of dimension 2]\n",
        "\n",
        "2\t\n",
        "BLAH\t\n",
        " ** On entry to SGEMM  parameter number 10 had an illegal value\n"
       ]
      },
      {
       "metadata": {},
       "output_type": "pyout",
       "prompt_number": 413,
       "text": [
        " ** On entry to SGEMM  parameter number 10 had an illegal value\n"
       ]
      },
      {
       "metadata": {},
       "output_type": "pyout",
       "prompt_number": 413,
       "text": [
        "\r",
        " [============================================================================>]                                                   \b\b\b\b\b\b\b\b\b\b\b\b\b\b\b\b\b\b\b\b\b\b\b\b\b\b\b\b\b\b\b\b\b\b\b\b\b\b\b\b\b\b\b\b\b\b\b\b\b\bETA: 0ms | Step: 132ms\b\b\b\b\b\b\b\b\b\b\b\b\b\b\b\b\b\b\b\b\b\b\b\b\b\b\b\b\b\b\b\b\b\b\b\b\b\b\b\b\b\b\b\b\b\b\b\b\b\b\b\b\b\b\b\b\b\b\b\b\b\b\b\b\b\b\b\b\b 96/96 \n",
        "\r",
        "HERE OPTIM\t\n",
        "BEFORE FORWARD\t\n",
        "1\t\n"
       ]
      },
      {
       "metadata": {},
       "output_type": "pyout",
       "prompt_number": 413,
       "text": [
        "AFTER FORWARD\t\n",
        "NEO\t\n",
        " 4.5562\n",
        " 5.4440\n",
        "[torch.FloatTensor of dimension 2]\n",
        "\n",
        "1\t\n",
        "BLAH\t\n",
        " ** On entry to SGEMM  parameter number 10 had an illegal value\n"
       ]
      },
      {
       "metadata": {},
       "output_type": "pyout",
       "prompt_number": 413,
       "text": [
        " ** On entry to SGEMM  parameter number 10 had an illegal value\n"
       ]
      },
      {
       "metadata": {},
       "output_type": "pyout",
       "prompt_number": 413,
       "text": [
        "\n",
        "==> time to learn 1 sample = 131.46148870389ms\t\n",
        "ConfusionMatrix:\n",
        "[[       0      44]   0.000% \t[class: Classical]\n",
        " [       0      52]]  100.000% \t[class: Jazz]\n",
        " + average row correct: 50% \n",
        " + average rowUcol correct (VOC measure): 27.083334326744% \n",
        " + global correct: 54.166666666667%\n",
        "{\n",
        "  averageUnionValid : 0.27083334326744\n",
        "  _targ_idx : LongTensor - empty\n",
        "  valids : FloatTensor - size: 2\n",
        "  classes : \n",
        "    {\n",
        "      1 : Classical\n",
        "      2 : Jazz\n",
        "    }\n",
        "  _target : FloatTensor - empty\n",
        "  mat : FloatTensor - size: 2x2\n",
        "  _pred_idx : LongTensor - size: 1\n",
        "  _max : FloatTensor - size: 1\n",
        "  unionvalids : FloatTensor - size: 2\n",
        "  nclasses : 2\n",
        "  totalValid : 0.54166666666667\n",
        "  _prediction : FloatTensor - size: 2\n",
        "  averageValid : 0.5\n",
        "}\n"
       ]
      },
      {
       "metadata": {},
       "output_type": "pyout",
       "prompt_number": 413,
       "text": [
        "==> saving model to /home/ace/Desktop/Recurrent-Neural-Net-Music-Classification/model.net\t\n"
       ]
      },
      {
       "metadata": {},
       "output_type": "pyout",
       "prompt_number": 413,
       "text": [
        "0\t\n",
        "==> doing epoch on training data:\t\n",
        "==> online epoch # 4 [batchSize = 64]\t\n",
        "96\t\n",
        " [.............................................................................]                                                   \b\b\b\b\b\b\b\b\b\b\b\b\b\b\b\b\b\b\b\b\b\b\b\b\b\b\b\b\b\b\b\b\b\b\b\b\b\b\b\b\b\b\b\b\b\b\b\b\b\bETA: 0ms | Step: 0ms\b\b\b\b\b\b\b\b\b\b\b\b\b\b\b\b\b\b\b\b\b\b\b\b\b\b\b\b\b\b\b\b\b\b\b\b\b\b\b\b\b\b\b\b\b\b\b\b\b\b\b\b\b\b\b\b\b\b\b\b\b\b\b\b\b\b\b 1/96 \r",
        "HERE OPTIM\t\n",
        "BEFORE FORWARD\t\n",
        "1\t\n"
       ]
      },
      {
       "metadata": {},
       "output_type": "pyout",
       "prompt_number": 413,
       "text": [
        "AFTER FORWARD\t\n",
        "NEO\t\n",
        " 4.6096\n",
        " 5.3906\n",
        "[torch.FloatTensor of dimension 2]\n",
        "\n",
        "2\t\n",
        "BLAH\t\n"
       ]
      },
      {
       "metadata": {},
       "output_type": "pyout",
       "prompt_number": 413,
       "text": [
        " ** On entry to SGEMM  parameter number 10 had an illegal value\n"
       ]
      },
      {
       "metadata": {},
       "output_type": "pyout",
       "prompt_number": 413,
       "text": [
        " ** On entry to SGEMM  parameter number 10 had an illegal value\n"
       ]
      },
      {
       "metadata": {},
       "output_type": "pyout",
       "prompt_number": 413,
       "text": [
        "\r",
        " [>............................................................................]                                                   \b\b\b\b\b\b\b\b\b\b\b\b\b\b\b\b\b\b\b\b\b\b\b\b\b\b\b\b\b\b\b\b\b\b\b\b"
       ]
      },
      {
       "metadata": {},
       "output_type": "pyout",
       "prompt_number": 413,
       "text": [
        "\b\b\b\b\b\b\b\b\b\b\b\b\b\bETA: 1m6s | Step: 705ms\b\b\b\b\b\b\b\b\b\b\b\b\b\b\b\b\b\b\b\b\b\b\b\b\b\b\b\b\b\b\b\b\b\b\b\b\b\b\b\b\b\b\b\b\b\b\b\b\b\b\b\b\b\b\b\b\b\b\b\b\b\b\b\b\b\b\b\b\b\b 2/96 \r",
        "HERE OPTIM\t\n",
        "BEFORE FORWARD\t\n",
        "1\t\n"
       ]
      },
      {
       "metadata": {},
       "output_type": "pyout",
       "prompt_number": 413,
       "text": [
        "AFTER FORWARD\t\n",
        "NEO\t\n",
        " 4.5645\n",
        " 5.4357\n",
        "[torch.FloatTensor of dimension 2]\n",
        "\n",
        "1\t\n",
        "BLAH\t\n",
        " ** On entry to SGEMM  parameter number 10 had an illegal value\n"
       ]
      },
      {
       "metadata": {},
       "output_type": "pyout",
       "prompt_number": 413,
       "text": [
        " ** On entry to SGEMM  parameter number 10 had an illegal value\n"
       ]
      },
      {
       "metadata": {},
       "output_type": "pyout",
       "prompt_number": 413,
       "text": [
        "\r",
        " [=>.............................................."
       ]
      },
      {
       "metadata": {},
       "output_type": "pyout",
       "prompt_number": 413,
       "text": [
        ".............................]                                                   \b\b\b\b\b\b\b\b\b\b\b\b\b\b\b\b\b\b\b\b\b\b\b\b\b\b\b\b\b\b\b\b\b\b\b\b\b\b\b\b\b\b\b\b\b\b\b\b\b\bETA: 33s245ms | Step: 357ms\b\b\b\b\b\b\b\b\b\b\b\b\b\b\b\b\b\b\b\b\b\b\b\b\b\b\b\b\b\b\b\b\b\b\b\b\b\b\b\b\b\b\b\b\b\b\b\b\b\b\b\b\b\b\b\b\b\b\b\b\b\b\b\b\b\b\b\b\b\b\b\b\b\b 3/96 \r",
        "HERE OPTIM\t\n"
       ]
      },
      {
       "metadata": {},
       "output_type": "pyout",
       "prompt_number": 413,
       "text": [
        "BEFORE FORWARD\t\n",
        "1\t\n"
       ]
      },
      {
       "metadata": {},
       "output_type": "pyout",
       "prompt_number": 413,
       "text": [
        "AFTER FORWARD\t\n",
        "NEO\t\n",
        " 4.6179\n",
        " 5.3824\n",
        "[torch.FloatTensor of dimension 2]\n",
        "\n",
        "2\t\n",
        "BLAH\t\n",
        " ** On entry to SGEMM  parameter number 10 had an illegal value\n"
       ]
      },
      {
       "metadata": {},
       "output_type": "pyout",
       "prompt_number": 413,
       "text": [
        " ** On entry to SGEMM  parameter number 10 had an illegal value\n"
       ]
      },
      {
       "metadata": {},
       "output_type": "pyout",
       "prompt_number": 413,
       "text": [
        "\r",
        " [==>..........................................................................]                                                   \b\b\b\b\b\b\b\b\b\b\b\b\b\b\b\b\b\b\b\b\b\b\b\b\b\b\b\b\b\b\b\b\b\b\b\b\b\b\b\b\b\b\b\b\b\b\b\b\b\bETA: 22s219ms | Step: 241ms\b\b\b\b\b\b\b\b\b\b\b\b\b\b\b\b\b\b\b\b\b\b\b\b\b\b\b\b\b\b\b\b\b\b\b\b\b\b\b\b\b\b\b\b\b\b\b\b\b\b\b\b\b\b\b\b\b\b\b\b\b\b\b\b\b\b\b\b\b\b\b\b\b\b 4/96 \r",
        "HERE OPTIM\t\n",
        "BEFORE FORWARD\t\n",
        "1\t\n"
       ]
      },
      {
       "metadata": {},
       "output_type": "pyout",
       "prompt_number": 413,
       "text": [
        "AFTER FORWARD\t\n",
        "NEO\t\n",
        " 4.5727\n",
        " 5.4275\n",
        "[torch.FloatTensor of dimension 2]\n",
        "\n",
        "1\t\n",
        "BLAH\t\n",
        " ** On entry to SGEMM  parameter number 10 had an illegal value\n"
       ]
      },
      {
       "metadata": {},
       "output_type": "pyout",
       "prompt_number": 413,
       "text": [
        " ** On entry to SGEMM  parameter number 10 had an illegal value\n"
       ]
      },
      {
       "metadata": {},
       "output_type": "pyout",
       "prompt_number": 413,
       "text": [
        "\r",
        " [===>.........................................................................]                                                   \b\b\b\b\b\b\b\b\b\b\b\b\b\b\b\b\b\b\b\b\b\b\b\b\b\b\b\b\b\b\b\b\b\b\b\b\b\b\b\b\b\b\b\b\b\b\b\b\b\bETA: 16s741ms | Step: 183ms\b\b\b\b\b\b\b\b\b\b\b\b\b\b\b\b\b\b\b\b\b\b\b\b\b\b\b\b\b\b\b\b\b\b\b\b\b\b\b\b\b\b\b\b\b\b\b\b\b\b\b\b\b\b\b\b\b\b\b\b\b\b\b\b\b\b\b\b\b\b\b\b\b\b 5/96 \r",
        "HERE OPTIM\t\n",
        "BEFORE FORWARD\t\n",
        "1\t\n"
       ]
      },
      {
       "metadata": {},
       "output_type": "pyout",
       "prompt_number": 413,
       "text": [
        "AFTER FORWARD\t\n",
        "NEO\t\n"
       ]
      },
      {
       "metadata": {},
       "output_type": "pyout",
       "prompt_number": 413,
       "text": [
        " 4.6260\n",
        " 5.3743\n",
        "[torch.FloatTensor of dimension 2]\n",
        "\n",
        "2\t\n",
        "BLAH\t\n",
        " ** On entry to SGEMM  parameter number 10 had an illegal value\n"
       ]
      },
      {
       "metadata": {},
       "output_type": "pyout",
       "prompt_number": 413,
       "text": [
        " ** On entry to SGEMM  parameter number 10 had an illegal value\n"
       ]
      },
      {
       "metadata": {},
       "output_type": "pyout",
       "prompt_number": 413,
       "text": [
        "\r",
        " [===>.........................................................................]                                                   \b\b\b\b\b\b\b\b\b\b\b\b\b\b\b\b\b\b\b\b\b\b\b\b\b\b\b\b\b\b\b\b\b\b\b\b\b\b\b\b\b\b\b\b\b\b\b\b\b\bETA: 13s884ms | Step: 154ms\b\b\b\b\b\b\b\b\b\b\b\b\b\b\b\b\b\b\b\b\b\b\b\b\b\b\b\b\b\b\b\b\b\b\b\b\b\b\b\b\b\b\b\b\b\b\b\b\b\b\b\b\b\b\b\b\b\b\b\b\b\b\b\b\b\b\b\b\b\b\b\b\b\b 6/96 \r",
        "HERE OPTIM\t\n",
        "BEFORE FORWARD\t\n",
        "1\t\n"
       ]
      },
      {
       "metadata": {},
       "output_type": "pyout",
       "prompt_number": 413,
       "text": [
        "AFTER FORWARD\t\n",
        "NEO\t\n",
        " 4.5807\n",
        " 5.4195\n",
        "[torch.FloatTensor of dimension 2]\n",
        "\n",
        "2\t\n",
        "BLAH\t\n"
       ]
      },
      {
       "metadata": {},
       "output_type": "pyout",
       "prompt_number": 413,
       "text": [
        " ** On entry to SGEMM  parameter number 10 had an illegal value\n"
       ]
      },
      {
       "metadata": {},
       "output_type": "pyout",
       "prompt_number": 413,
       "text": [
        " ** On entry to SGEMM  parameter number 10 had an illegal value\n"
       ]
      },
      {
       "metadata": {},
       "output_type": "pyout",
       "prompt_number": 413,
       "text": [
        "\r",
        " [====>........................................................................]                                                   \b\b\b\b\b\b\b\b\b\b\b\b\b\b\b\b\b\b\b\b\b\b\b\b\b\b\b\b\b\b\b\b\b\b\b\b\b\b\b\b\b\b\b\b\b\b\b\b\b\bETA: 13s599ms | Step: 152ms\b\b\b\b\b\b\b\b\b\b\b\b\b\b\b\b\b\b\b\b\b\b\b\b\b\b\b\b\b\b\b\b\b\b\b\b\b\b\b\b\b\b\b\b\b\b\b\b\b\b\b\b\b\b\b\b\b\b\b\b\b\b\b\b\b\b\b\b\b\b\b\b\b\b 7/96 \r",
        "HERE OPTIM\t\n",
        "BEFORE FORWARD\t\n",
        "1\t\n"
       ]
      },
      {
       "metadata": {},
       "output_type": "pyout",
       "prompt_number": 413,
       "text": [
        "AFTER FORWARD\t\n",
        "NEO\t\n",
        " 4.5349\n",
        " 5.4653\n",
        "[torch.FloatTensor of dimension 2]\n",
        "\n",
        "1\t\n",
        "BLAH\t\n",
        " ** On entry to SGEMM  parameter number 10 had an illegal value\n"
       ]
      },
      {
       "metadata": {},
       "output_type": "pyout",
       "prompt_number": 413,
       "text": [
        " ** On entry to SGEMM  parameter number 10 had an illegal value\n"
       ]
      },
      {
       "metadata": {},
       "output_type": "pyout",
       "prompt_number": 413,
       "text": [
        "\r",
        " [=====>.......................................................................]                                                   \b\b\b\b\b\b\b\b\b\b\b\b\b\b\b\b\b\b\b"
       ]
      },
      {
       "metadata": {},
       "output_type": "pyout",
       "prompt_number": 413,
       "text": [
        "\b\b\b\b\b\b\b\b\b\b\b\b\b\b\b\b\b\b\b\b\b\b\b\b\b\b\b\b\b\b\bETA: 11s647ms | Step: 132ms\b\b\b\b\b\b\b\b\b\b\b\b\b\b\b\b\b\b\b\b\b\b\b\b\b\b\b\b\b\b\b\b\b\b\b\b\b\b\b\b\b\b\b\b\b\b\b\b\b\b\b\b\b\b\b\b\b\b\b\b\b\b\b\b\b\b\b\b\b\b\b\b\b\b 8/96 \r",
        "HERE OPTIM\t\n",
        "BEFORE FORWARD\t\n",
        "1\t\n"
       ]
      },
      {
       "metadata": {},
       "output_type": "pyout",
       "prompt_number": 413,
       "text": [
        "AFTER FORWARD\t\n",
        "NEO\t\n",
        " 4.5886\n",
        " 5.4117\n",
        "[torch.FloatTensor of dimension 2]\n",
        "\n",
        "2\t\n",
        "BLAH\t\n",
        " ** On entry to SGEMM  parameter number 10 had an illegal value\n"
       ]
      },
      {
       "metadata": {},
       "output_type": "pyout",
       "prompt_number": 413,
       "text": [
        " ** On entry to SGEMM  parameter number 10 had an illegal value\n"
       ]
      },
      {
       "metadata": {},
       "output_type": "pyout",
       "prompt_number": 413,
       "text": [
        "\r",
        " [======>......................................................................]                                                   \b\b\b\b\b\b\b\b\b\b\b\b\b\b\b\b\b\b\b\b\b\b\b\b\b\b\b\b\b\b\b\b\b\b\b\b\b\b\b\b\b\b\b\b\b\b\b\b\b\bETA: 10s181ms | Step: 117ms\b\b\b\b\b\b\b\b\b\b\b\b\b\b\b\b\b\b\b\b\b\b\b\b\b\b\b\b\b\b\b\b\b\b\b\b\b\b\b\b\b\b\b\b\b\b\b\b\b\b\b\b\b\b\b\b\b\b\b\b\b\b\b\b\b\b\b\b\b\b\b\b\b\b 9/96 \r",
        "HERE OPTIM\t\n",
        "BEFORE FORWARD\t\n",
        "1\t\n"
       ]
      },
      {
       "metadata": {},
       "output_type": "pyout",
       "prompt_number": 413,
       "text": [
        "AFTER FORWARD\t\n",
        "NEO\t\n",
        " 4.5437\n",
        " 5.4566\n",
        "[torch.FloatTensor of dimension 2]\n",
        "\n",
        "2\t\n",
        "BLAH\t\n"
       ]
      },
      {
       "metadata": {},
       "output_type": "pyout",
       "prompt_number": 413,
       "text": [
        " ** On entry to SGEMM  parameter number 10 had an illegal value\n"
       ]
      },
      {
       "metadata": {},
       "output_type": "pyout",
       "prompt_number": 413,
       "text": [
        " ** On entry to SGEMM  parameter number 10 had an illegal value\n"
       ]
      },
      {
       "metadata": {},
       "output_type": "pyout",
       "prompt_number": 413,
       "text": [
        "\r",
        " [=======>.....................................................................]                                                   \b\b\b\b\b\b\b\b\b\b\b\b\b\b\b\b\b\b\b\b\b\b\b\b\b\b\b\b\b\b\b\b\b\b\b\b\b\b\b\b\b\b\b\b\b\b\b\b\b\bETA: 10s280ms | Step: 119ms\b\b\b\b\b\b\b\b\b\b\b\b\b\b\b\b\b\b\b\b\b\b\b\b\b\b\b\b\b\b\b\b\b\b\b\b\b\b\b\b\b\b\b\b\b\b\b\b\b\b\b\b\b\b\b\b\b\b\b\b\b\b\b\b\b\b\b\b\b\b\b\b\b\b 10/96 \r",
        "HERE OPTIM\t\n",
        "BEFORE FORWARD\t\n",
        "1\t\n"
       ]
      },
      {
       "metadata": {},
       "output_type": "pyout",
       "prompt_number": 413,
       "text": [
        "AFTER FORWARD\t\n",
        "NEO\t\n",
        " 4.4982\n",
        " 5.5020\n",
        "[torch.FloatTensor of dimension 2]\n",
        "\n",
        "2\t\n",
        "BLAH\t\n"
       ]
      },
      {
       "metadata": {},
       "output_type": "pyout",
       "prompt_number": 413,
       "text": [
        " ** On entry to SGEMM  parameter number 10 had an illegal value\n"
       ]
      },
      {
       "metadata": {},
       "output_type": "pyout",
       "prompt_number": 413,
       "text": [
        " ** On entry to SGEMM  parameter number 10 had an illegal value\n"
       ]
      },
      {
       "metadata": {},
       "output_type": "pyout",
       "prompt_number": 413,
       "text": [
        "\r",
        " [=======>.....................................................................]                                                   \b\b\b\b\b\b\b\b\b\b\b\b\b\b\b\b\b\b\b\b\b\b\b\b\b\b\b\b\b\b\b\b\b"
       ]
      },
      {
       "metadata": {},
       "output_type": "pyout",
       "prompt_number": 413,
       "text": [
        "\b\b\b\b\b\b\b\b\b\b\b\b\b\b\b\b\bETA: 13s34ms | Step: 153ms\b\b\b\b\b\b\b\b\b\b\b\b\b\b\b\b\b\b\b\b\b\b\b\b\b\b\b\b\b\b\b\b\b\b\b\b\b\b\b\b\b\b\b\b\b\b\b\b\b\b\b\b\b\b\b\b\b\b\b\b\b\b\b\b\b\b\b\b\b\b\b\b\b 11/96 \r",
        "HERE OPTIM\t\n",
        "BEFORE FORWARD\t\n",
        "1\t\n"
       ]
      },
      {
       "metadata": {},
       "output_type": "pyout",
       "prompt_number": 413,
       "text": [
        "AFTER FORWARD\t\n",
        "NEO\t\n",
        " 4.4533\n",
        " 5.5469\n",
        "[torch.FloatTensor of dimension 2]\n",
        "\n",
        "1\t\n",
        "BLAH\t\n",
        " ** On entry to SGEMM  parameter number 10 had an illegal value\n"
       ]
      },
      {
       "metadata": {},
       "output_type": "pyout",
       "prompt_number": 413,
       "text": [
        " ** On entry to SGEMM  parameter number 10 had an illegal value\n"
       ]
      },
      {
       "metadata": {},
       "output_type": "pyout",
       "prompt_number": 413,
       "text": [
        "\r",
        " [========>....................................................................]                                                   \b\b\b\b\b\b\b\b\b\b\b\b\b\b\b\b\b\b\b\b\b\b\b\b\b\b\b\b\b\b\b\b\b\b\b\b\b\b\b\b\b\b\b\b\b\b\b\b\b\bETA: 11s782ms | Step: 140ms\b\b\b\b\b\b\b\b\b\b\b\b\b\b\b\b\b\b\b\b\b\b\b\b\b\b\b\b\b\b\b\b\b\b\b\b\b\b\b\b\b\b\b\b\b\b\b\b\b\b\b\b\b\b\b\b\b\b\b\b\b\b\b\b\b\b\b\b\b\b\b\b\b\b 12/96 \r",
        "HERE OPTIM\t\n",
        "BEFORE FORWARD\t\n",
        "1\t\n"
       ]
      },
      {
       "metadata": {},
       "output_type": "pyout",
       "prompt_number": 413,
       "text": [
        "AFTER FORWARD\t\n",
        "NEO\t\n",
        " 4.5077\n",
        " 5.4924\n",
        "[torch.FloatTensor of dimension 2]\n",
        "\n",
        "2\t\n",
        "BLAH\t\n",
        " ** On entry to SGEMM  parameter number 10 had an illegal value\n"
       ]
      },
      {
       "metadata": {},
       "output_type": "pyout",
       "prompt_number": 413,
       "text": [
        " ** On entry to SGEMM  parameter number 10 had an illegal value\n"
       ]
      },
      {
       "metadata": {},
       "output_type": "pyout",
       "prompt_number": 413,
       "text": [
        "\r",
        " [=========>...................................................................]                                                   \b\b\b\b\b\b\b\b\b\b\b\b\b\b\b\b\b\b\b\b\b\b\b\b\b\b\b\b\b\b\b\b\b\b\b\b\b\b\b\b\b\b\b\b\b\b\b\b\b\b"
       ]
      },
      {
       "metadata": {},
       "output_type": "pyout",
       "prompt_number": 413,
       "text": [
        "ETA: 11s128ms | Step: 134ms\b\b\b\b\b\b\b\b\b\b\b\b\b\b\b\b\b\b\b\b\b\b\b\b\b\b\b\b\b\b\b\b\b\b\b\b\b\b\b\b\b\b\b\b\b\b\b\b\b\b\b\b\b\b\b\b\b\b\b\b\b\b\b\b\b\b\b\b\b\b\b\b\b\b 13/96 \r",
        "HERE OPTIM\t\n",
        "BEFORE FORWARD\t\n",
        "1\t\n"
       ]
      },
      {
       "metadata": {},
       "output_type": "pyout",
       "prompt_number": 413,
       "text": [
        "AFTER FORWARD\t\n",
        "NEO\t\n",
        " 4.4636\n",
        " 5.5365\n",
        "[torch.FloatTensor of dimension 2]\n"
       ]
      },
      {
       "metadata": {},
       "output_type": "pyout",
       "prompt_number": 413,
       "text": [
        "\n",
        "2\t\n",
        "BLAH\t\n"
       ]
      },
      {
       "metadata": {},
       "output_type": "pyout",
       "prompt_number": 413,
       "text": [
        " ** On entry to SGEMM  parameter number 10 had an illegal value\n"
       ]
      },
      {
       "metadata": {},
       "output_type": "pyout",
       "prompt_number": 413,
       "text": [
        " ** On entry to SGEMM  parameter number 10 had an illegal value\n"
       ]
      },
      {
       "metadata": {},
       "output_type": "pyout",
       "prompt_number": 413,
       "text": [
        "\r",
        " [==========>...................."
       ]
      },
      {
       "metadata": {},
       "output_type": "pyout",
       "prompt_number": 413,
       "text": [
        "..............................................]                                                   \b\b\b\b\b\b\b\b\b\b\b\b\b\b\b\b\b\b\b\b\b\b\b\b\b\b\b\b\b\b\b\b\b\b\b\b\b\b\b\b\b\b\b\b\b\b\b\b\b\bETA: 12s713ms | Step: 155ms\b\b\b\b\b\b\b\b\b\b\b\b\b\b\b\b\b\b\b\b\b\b\b\b\b\b\b\b\b\b\b\b\b\b\b\b\b\b\b\b\b\b\b\b\b\b\b\b\b\b\b\b\b\b\b\b\b\b\b\b\b\b\b\b\b\b\b\b\b\b\b\b\b\b 14/96 \r",
        "HERE OPTIM\t\n",
        "BEFORE FORWARD\t\n",
        "1\t\n"
       ]
      },
      {
       "metadata": {},
       "output_type": "pyout",
       "prompt_number": 413,
       "text": [
        "AFTER FORWARD\t\n",
        "NEO\t\n",
        " 4.4190\n",
        " 5.5811\n",
        "[torch.FloatTensor of dimension 2]\n",
        "\n",
        "2\t\n",
        "BLAH\t\n",
        " ** On entry to SGEMM  parameter number 10 had an illegal value\n"
       ]
      },
      {
       "metadata": {},
       "output_type": "pyout",
       "prompt_number": 413,
       "text": [
        " ** On entry to SGEMM  parameter number 10 had an illegal value\n"
       ]
      },
      {
       "metadata": {},
       "output_type": "pyout",
       "prompt_number": 413,
       "text": [
        "\r",
        " [===========>.................................................................]                                                   \b\b\b\b\b\b\b\b\b\b\b\b\b\b\b\b\b\b\b\b\b\b\b\b\b\b\b\b\b\b\b\b\b\b\b\b\b\b\b\b\b\b\b\b\b\b\b\b\b\bETA: 12s305ms | Step: 151ms\b\b\b\b\b\b\b\b\b\b\b\b\b\b\b\b\b\b\b\b\b\b\b\b\b\b\b\b\b\b\b\b\b\b\b\b\b\b\b\b\b\b\b\b\b\b\b\b\b\b\b\b\b\b\b\b\b\b\b\b\b\b\b\b\b\b\b\b\b\b\b\b\b\b 15/96 \r",
        "HERE OPTIM\t\n",
        "BEFORE FORWARD\t\n",
        "1\t\n"
       ]
      },
      {
       "metadata": {},
       "output_type": "pyout",
       "prompt_number": 413,
       "text": [
        "AFTER FORWARD\t\n",
        "NEO\t\n",
        " 4.3748\n",
        " 5.6253\n",
        "[torch.FloatTensor of dimension 2]\n",
        "\n",
        "2\t\n",
        "BLAH\t\n",
        " ** On entry to SGEMM  parameter number 10 had an illegal value\n"
       ]
      },
      {
       "metadata": {},
       "output_type": "pyout",
       "prompt_number": 413,
       "text": [
        " ** On entry to SGEMM  parameter number 10 had an illegal value\n"
       ]
      },
      {
       "metadata": {},
       "output_type": "pyout",
       "prompt_number": 413,
       "text": [
        "\r",
        " [===========>.................................................................]                                                   \b\b\b\b\b\b\b\b\b\b\b\b\b\b\b\b\b\b\b\b\b\b\b\b\b\b\b\b\b\b\b\b\b\b\b\b\b\b\b\b\b\b\b\b\b\b\b\b\b\bETA: 11s462ms | Step: 143ms\b\b\b\b\b\b\b\b\b\b\b\b\b\b\b\b\b\b\b\b\b\b\b\b\b\b\b\b\b\b\b\b\b\b\b\b\b\b\b\b\b\b\b\b\b\b\b\b\b\b\b\b\b\b\b\b\b\b\b\b\b\b\b\b\b\b\b\b\b\b\b\b\b\b 16/96 \r",
        "HERE OPTIM\t\n",
        "BEFORE FORWARD\t\n",
        "1\t\n"
       ]
      },
      {
       "metadata": {},
       "output_type": "pyout",
       "prompt_number": 413,
       "text": [
        "AFTER FORWARD\t\n",
        "NEO\t\n",
        " 4.3311\n",
        " 5.6691\n",
        "[torch.FloatTensor of dimension 2]\n",
        "\n",
        "1\t\n",
        "BLAH\t\n"
       ]
      },
      {
       "metadata": {},
       "output_type": "pyout",
       "prompt_number": 413,
       "text": [
        " ** On entry to SGEMM  parameter number 10 had an illegal value\n"
       ]
      },
      {
       "metadata": {},
       "output_type": "pyout",
       "prompt_number": 413,
       "text": [
        " ** On entry to SGEMM  parameter number 10 had an illegal value\n"
       ]
      },
      {
       "metadata": {},
       "output_type": "pyout",
       "prompt_number": 413,
       "text": [
        "\r",
        " [============>................................................................]                                                   \b\b\b\b\b\b\b\b\b\b\b\b\b\b\b\b\b\b\b\b\b\b\b\b\b\b\b\b\b\b\b\b\b\b\b\b\b\b\b\b\b"
       ]
      },
      {
       "metadata": {},
       "output_type": "pyout",
       "prompt_number": 413,
       "text": [
        "\b\b\b\b\b\b\b\b\bETA: 10s657ms | Step: 134ms\b\b\b\b\b\b\b\b\b\b\b\b\b\b\b\b\b\b\b\b\b\b\b\b\b\b\b\b\b\b\b\b\b\b\b\b\b\b\b\b\b\b\b\b\b\b\b\b\b\b\b\b\b\b\b\b\b\b\b\b\b\b\b\b\b\b\b\b\b\b\b\b\b\b 17/96 \r",
        "HERE OPTIM\t\n",
        "BEFORE FORWARD\t\n",
        "1\t\n"
       ]
      },
      {
       "metadata": {},
       "output_type": "pyout",
       "prompt_number": 413,
       "text": [
        "AFTER FORWARD\t\n",
        "NEO\t\n"
       ]
      },
      {
       "metadata": {},
       "output_type": "pyout",
       "prompt_number": 413,
       "text": [
        " 4.3868\n",
        " 5.6134\n",
        "[torch.FloatTensor of dimension 2]\n",
        "\n",
        "2\t\n",
        "BLAH\t\n",
        " ** On entry to SGEMM  parameter number 10 had an illegal value\n"
       ]
      },
      {
       "metadata": {},
       "output_type": "pyout",
       "prompt_number": 413,
       "text": [
        " ** On entry to SGEMM  parameter number 10 had an illegal value\n"
       ]
      },
      {
       "metadata": {},
       "output_type": "pyout",
       "prompt_number": 413,
       "text": [
        "\r",
        " [=============>...............................................................]                                                   \b\b\b\b\b\b\b\b\b\b\b\b\b\b\b\b\b\b\b\b\b\b\b\b\b\b\b\b\b\b\b\b\b\b\b\b\b\b\b\b\b\b\b\b\b\b\b\b\b\bETA: 10s225ms | Step: 131ms\b\b\b\b\b\b\b\b\b\b\b\b\b\b\b\b\b\b\b\b\b\b\b\b\b\b\b\b\b\b\b\b\b\b\b\b\b\b\b\b\b\b\b\b\b\b\b\b\b\b\b\b\b\b\b\b\b\b\b\b\b\b\b\b\b\b\b\b\b\b\b\b\b\b 18/96 \r",
        "HERE OPTIM\t\n",
        "BEFORE FORWARD\t\n",
        "1\t\n"
       ]
      },
      {
       "metadata": {},
       "output_type": "pyout",
       "prompt_number": 413,
       "text": [
        "AFTER FORWARD\t\n",
        "NEO\t\n",
        " 4.3439\n",
        " 5.6563\n",
        "[torch.FloatTensor of dimension 2]\n",
        "\n",
        "2\t\n",
        "BLAH\t\n"
       ]
      },
      {
       "metadata": {},
       "output_type": "pyout",
       "prompt_number": 413,
       "text": [
        " ** On entry to SGEMM  parameter number 10 had an illegal value\n"
       ]
      },
      {
       "metadata": {},
       "output_type": "pyout",
       "prompt_number": 413,
       "text": [
        " ** On entry to SGEMM  parameter number 10 had an illegal value\n"
       ]
      },
      {
       "metadata": {},
       "output_type": "pyout",
       "prompt_number": 413,
       "text": [
        "\r",
        " [==============>..............................................................]                                                   \b\b\b\b\b\b\b\b\b\b\b\b\b\b\b\b\b\b\b\b\b\b\b\b\b\b\b\b\b\b\b\b\b\b\b\b\b\b\b\b\b\b\b\b\b\b\b\b\b\bETA: 14s215ms | Step: 184ms\b\b\b\b\b\b\b\b\b\b\b\b\b\b\b\b\b\b\b\b\b\b\b\b\b\b\b\b\b\b\b\b\b\b\b\b\b\b\b\b\b\b\b\b\b\b\b\b\b\b\b\b\b\b\b\b\b\b\b\b\b\b\b\b\b\b\b\b\b\b\b\b\b\b 19/96 \r",
        "HERE OPTIM\t\n",
        "BEFORE FORWARD\t\n",
        "1\t\n"
       ]
      },
      {
       "metadata": {},
       "output_type": "pyout",
       "prompt_number": 413,
       "text": [
        "AFTER FORWARD\t\n",
        "NEO\t\n",
        " 4.3004\n",
        " 5.6996\n",
        "[torch.FloatTensor of dimension 2]\n",
        "\n",
        "2\t\n",
        "BLAH\t\n",
        " ** On entry to SGEMM  parameter number 10 had an illegal value\n"
       ]
      },
      {
       "metadata": {},
       "output_type": "pyout",
       "prompt_number": 413,
       "text": [
        " ** On entry to SGEMM  parameter number 10 had an illegal value\n"
       ]
      },
      {
       "metadata": {},
       "output_type": "pyout",
       "prompt_number": 413,
       "text": [
        "\r",
        " [===============>.............................................................]                                                   \b\b\b\b\b\b\b\b\b\b\b\b\b\b\b\b\b\b\b\b\b\b\b\b\b\b\b\b\b\b\b\b\b\b\b\b\b\b\b\b\b\b\b\b\b\b\b\b\b\bETA: 13s579ms | Step: 178ms\b\b\b\b\b\b\b\b\b\b\b\b\b\b\b\b\b\b\b\b\b\b\b\b\b\b\b\b\b\b\b\b\b\b\b\b\b\b\b\b\b\b\b\b\b\b\b\b\b\b\b\b\b\b\b\b\b\b\b\b\b\b\b\b\b\b\b\b\b\b\b\b\b\b 20/96 \r",
        "HERE OPTIM\t\n",
        "BEFORE FORWARD\t\n",
        "1\t\n"
       ]
      },
      {
       "metadata": {},
       "output_type": "pyout",
       "prompt_number": 413,
       "text": [
        "AFTER FORWARD\t\n",
        "NEO\t\n",
        " 4.2574\n",
        " 5.7426\n",
        "[torch.FloatTensor of dimension 2]\n",
        "\n",
        "2\t\n",
        "BLAH\t\n",
        " ** On entry to SGEMM  parameter number 10 had an illegal value\n"
       ]
      },
      {
       "metadata": {},
       "output_type": "pyout",
       "prompt_number": 413,
       "text": [
        " ** On entry to SGEMM  parameter number 10 had an illegal value\n"
       ]
      },
      {
       "metadata": {},
       "output_type": "pyout",
       "prompt_number": 413,
       "text": [
        "\r",
        " [===============>.............................................................]                                                   \b\b\b\b\b\b\b\b\b\b\b\b\b\b\b\b\b\b\b\b\b\b\b\b\b\b\b\b\b\b\b\b\b\b\b\b\b\b\b\b\b\b\b\b\b\b\b\b\b\bETA: 12s828ms | Step: 171ms\b\b\b\b\b\b\b\b\b\b\b\b\b\b\b\b\b\b\b\b\b\b\b\b\b\b\b\b\b\b\b\b\b\b\b\b\b\b\b\b\b\b\b\b\b\b\b\b\b\b\b\b\b\b\b\b\b\b\b\b\b\b\b\b\b\b\b\b\b\b"
       ]
      },
      {
       "metadata": {},
       "output_type": "pyout",
       "prompt_number": 413,
       "text": [
        "\b\b\b\b 21/96 \r",
        "HERE OPTIM\t\n",
        "BEFORE FORWARD\t\n",
        "1\t\n"
       ]
      },
      {
       "metadata": {},
       "output_type": "pyout",
       "prompt_number": 413,
       "text": [
        "AFTER FORWARD\t\n",
        "NEO\t\n",
        " 4.2149\n",
        " 5.7852\n",
        "[torch.FloatTensor of dimension 2]\n",
        "\n",
        "1\t\n",
        "BLAH\t\n",
        " ** On entry to SGEMM  parameter number 10 had an illegal value\n"
       ]
      },
      {
       "metadata": {},
       "output_type": "pyout",
       "prompt_number": 413,
       "text": [
        " ** On entry to SGEMM  parameter number 10 had an illegal value\n"
       ]
      },
      {
       "metadata": {},
       "output_type": "pyout",
       "prompt_number": 413,
       "text": [
        "\r",
        " [================>............."
       ]
      },
      {
       "metadata": {},
       "output_type": "pyout",
       "prompt_number": 413,
       "text": [
        "...............................................]                                                   \b\b\b\b\b\b\b\b\b\b\b\b\b\b\b\b\b\b\b\b\b\b\b\b\b\b\b\b\b\b\b\b\b\b\b\b\b\b\b\b\b\b\b\b\b\b\b\b\b\bETA: 12s95ms | Step: 163ms\b\b\b\b\b\b\b\b\b\b\b\b\b\b\b\b\b\b\b\b\b\b\b\b\b\b\b\b\b\b\b\b\b\b\b\b\b\b\b\b\b\b\b\b\b\b\b\b\b\b\b\b\b\b\b\b\b\b\b\b\b\b\b\b\b\b\b\b\b\b\b\b\b 22/96 \r",
        "HERE OPTIM\t\n",
        "BEFORE FORWARD\t\n",
        "1\t\n"
       ]
      },
      {
       "metadata": {},
       "output_type": "pyout",
       "prompt_number": 413,
       "text": [
        "AFTER FORWARD\t\n",
        "NEO\t\n",
        " 4.2717\n",
        " 5.7284\n",
        "[torch.FloatTensor of dimension 2]\n",
        "\n",
        "2\t\n",
        "BLAH\t\n"
       ]
      },
      {
       "metadata": {},
       "output_type": "pyout",
       "prompt_number": 413,
       "text": [
        " ** On entry to SGEMM  parameter number 10 had an illegal value\n"
       ]
      },
      {
       "metadata": {},
       "output_type": "pyout",
       "prompt_number": 413,
       "text": [
        " ** On entry to SGEMM  parameter number 10 had an illegal value\n"
       ]
      },
      {
       "metadata": {},
       "output_type": "pyout",
       "prompt_number": 413,
       "text": [
        "\r",
        " [=================>...........................................................]                                                   \b\b\b\b\b\b\b\b\b\b\b\b\b\b\b\b\b\b\b\b\b\b\b\b\b\b\b\b\b\b\b\b\b\b\b\b\b\b\b\b\b\b\b\b\b\b\b\b\b\bETA: 13s155ms | Step: 180ms\b\b\b\b\b\b\b\b\b\b\b\b\b\b\b\b\b\b\b\b\b\b\b\b\b\b\b\b\b\b\b\b\b\b\b\b\b\b\b\b\b\b\b\b\b\b\b\b\b\b\b\b\b\b\b\b\b\b\b\b\b\b\b\b\b\b\b\b\b\b\b\b\b\b 23/96 \r",
        "HERE OPTIM\t\n",
        "BEFORE FORWARD\t\n",
        "1\t\n"
       ]
      },
      {
       "metadata": {},
       "output_type": "pyout",
       "prompt_number": 413,
       "text": [
        "AFTER FORWARD\t\n",
        "NEO\t\n",
        " 4.2300\n",
        " 5.7701\n",
        "[torch.FloatTensor of dimension 2]\n",
        "\n",
        "1\t\n",
        "BLAH\t\n",
        " ** On entry to SGEMM  parameter number 10 had an illegal value\n"
       ]
      },
      {
       "metadata": {},
       "output_type": "pyout",
       "prompt_number": 413,
       "text": [
        " ** On entry to SGEMM  parameter number 10 had an illegal value\n"
       ]
      },
      {
       "metadata": {},
       "output_type": "pyout",
       "prompt_number": 413,
       "text": [
        "\r",
        " [==================>..........................................................]                                                   \b\b\b\b\b\b\b\b\b\b\b\b\b\b\b\b\b\b\b\b\b\b\b\b\b\b\b\b\b\b\b\b\b\b\b\b\b\b\b\b\b\b\b\b\b\b\b\b\b\bETA: 12s451ms | Step: 172ms\b\b\b\b\b\b\b\b\b\b\b\b\b\b\b\b\b\b\b\b\b\b\b\b\b\b\b\b\b\b\b\b\b\b\b\b\b\b\b\b\b\b\b\b\b\b\b\b\b\b\b\b\b\b\b\b\b\b\b\b\b\b\b\b\b\b\b\b\b\b\b\b\b\b 24/96 \r",
        "HERE OPTIM\t\n",
        "BEFORE FORWARD\t\n",
        "1\t\n"
       ]
      },
      {
       "metadata": {},
       "output_type": "pyout",
       "prompt_number": 413,
       "text": [
        "AFTER FORWARD\t\n",
        "NEO\t\n",
        " 4.2867\n",
        " 5.7134\n",
        "[torch.FloatTensor of dimension 2]\n",
        "\n",
        "2\t\n",
        "BLAH\t\n",
        " ** On entry to SGEMM  parameter number 10 had an illegal value\n"
       ]
      },
      {
       "metadata": {},
       "output_type": "pyout",
       "prompt_number": 413,
       "text": [
        " ** On entry to SGEMM  parameter number 10 had an illegal value\n"
       ]
      },
      {
       "metadata": {},
       "output_type": "pyout",
       "prompt_number": 413,
       "text": [
        "\r",
        " [===================>.........................................................]                                                   \b\b\b\b\b\b\b\b\b\b\b\b\b\b\b\b\b\b\b\b\b\b\b\b\b\b\b\b\b\b\b\b\b\b\b\b\b\b\b\b\b\b\b\b\b\b\b\b\b\bETA: 11s821ms | Step: 166ms\b\b\b\b\b\b\b\b\b\b\b\b\b\b\b\b\b\b\b\b\b\b\b\b\b\b\b\b\b\b\b\b\b\b\b\b\b\b\b\b\b\b\b\b\b\b\b\b\b\b\b\b\b\b\b\b\b\b\b\b\b\b\b\b\b\b\b\b\b\b\b\b\b\b 25/96 \r",
        "HERE OPTIM\t\n",
        "BEFORE FORWARD\t\n",
        "1\t\n"
       ]
      },
      {
       "metadata": {},
       "output_type": "pyout",
       "prompt_number": 413,
       "text": [
        "AFTER FORWARD\t\n",
        "NEO\t\n",
        " 4.2448\n",
        " 5.7553\n",
        "[torch.FloatTensor of dimension 2]\n",
        "\n",
        "1\t\n",
        "BLAH\t\n",
        " ** On entry to SGEMM  parameter number 10 had an illegal value\n"
       ]
      },
      {
       "metadata": {},
       "output_type": "pyout",
       "prompt_number": 413,
       "text": [
        " ** On entry to SGEMM  parameter number 10 had an illegal value\n"
       ]
      },
      {
       "metadata": {},
       "output_type": "pyout",
       "prompt_number": 413,
       "text": [
        "\r",
        " [===================>................."
       ]
      },
      {
       "metadata": {},
       "output_type": "pyout",
       "prompt_number": 413,
       "text": [
        "........................................]                                                   \b\b\b\b\b\b\b\b\b\b\b\b\b\b\b\b\b\b\b\b\b\b\b\b\b\b\b\b\b\b\b\b\b\b\b\b\b\b\b\b\b\b\b\b\b\b\b\b\b\bETA: 11s230ms | Step: 160ms\b\b\b\b\b\b\b\b\b\b\b\b\b\b\b\b\b\b\b\b\b\b\b\b\b\b\b\b\b\b\b\b\b\b\b\b\b\b\b\b\b\b\b\b\b\b\b\b\b\b\b\b\b\b\b\b\b\b\b\b\b\b\b\b\b\b\b\b\b\b\b\b\b\b 26/96 \r",
        "HERE OPTIM\t\n",
        "BEFORE FORWARD\t\n",
        "1\t\n"
       ]
      },
      {
       "metadata": {},
       "output_type": "pyout",
       "prompt_number": 413,
       "text": [
        "AFTER FORWARD\t\n",
        "NEO\t\n",
        " 4.3014\n",
        " 5.6987\n",
        "[torch.FloatTensor of dimension 2]\n",
        "\n",
        "2\t\n",
        "BLAH\t\n"
       ]
      },
      {
       "metadata": {},
       "output_type": "pyout",
       "prompt_number": 413,
       "text": [
        " ** On entry to SGEMM  parameter number 10 had an illegal value\n"
       ]
      },
      {
       "metadata": {},
       "output_type": "pyout",
       "prompt_number": 413,
       "text": [
        " ** On entry to SGEMM  parameter number 10 had an illegal value\n"
       ]
      },
      {
       "metadata": {},
       "output_type": "pyout",
       "prompt_number": 413,
       "text": [
        "\r",
        " [====================>........................................................]                                                   \b\b\b\b\b\b\b\b\b\b\b\b\b\b\b\b\b\b\b\b\b\b\b\b\b\b\b\b\b\b\b\b\b\b\b\b\b\b\b\b\b\b\b\b\b\b\b\b\b\bETA: 11s1ms | Step: 159ms\b\b\b\b\b\b\b\b\b\b\b\b\b\b\b\b\b\b\b\b\b\b\b\b\b\b\b\b\b\b\b\b\b\b\b\b\b\b\b\b\b\b\b\b\b\b\b\b\b\b\b\b\b\b\b\b\b\b\b\b\b\b\b\b\b\b\b\b\b\b\b\b 27/96 \r",
        "HERE OPTIM\t\n",
        "BEFORE FORWARD\t\n",
        "1\t\n"
       ]
      },
      {
       "metadata": {},
       "output_type": "pyout",
       "prompt_number": 413,
       "text": [
        "AFTER FORWARD\t\n",
        "NEO\t\n",
        " 4.2594\n",
        " 5.7407\n",
        "[torch.FloatTensor of dimension 2]\n",
        "\n",
        "1\t\n",
        "BLAH\t\n",
        " ** On entry to SGEMM  parameter number 10 had an illegal value\n"
       ]
      },
      {
       "metadata": {},
       "output_type": "pyout",
       "prompt_number": 413,
       "text": [
        " ** On entry to SGEMM  parameter number 10 had an illegal value\n"
       ]
      },
      {
       "metadata": {},
       "output_type": "pyout",
       "prompt_number": 413,
       "text": [
        "\r",
        " [=====================>.......................................................]                                                   \b\b\b\b\b\b\b\b\b\b\b\b\b\b\b\b\b\b\b\b\b\b\b\b\b\b\b\b\b\b\b\b\b\b\b\b\b\b\b\b\b\b\b\b\b\b\b\b\b\bETA: 10s470ms | Step: 153ms\b\b\b\b\b\b\b\b\b\b\b\b\b\b\b\b\b\b\b\b\b\b\b\b\b\b\b\b\b\b\b\b\b\b\b\b\b\b\b\b\b\b\b\b\b\b\b\b\b\b\b\b\b\b\b\b\b\b\b\b\b\b\b\b\b\b\b\b\b\b\b\b\b\b 28/96 \r",
        "HERE OPTIM\t\n",
        "BEFORE FORWARD\t\n",
        "1\t\n"
       ]
      },
      {
       "metadata": {},
       "output_type": "pyout",
       "prompt_number": 413,
       "text": [
        "AFTER FORWARD\t\n",
        "NEO\t\n",
        " 4.3158\n",
        " 5.6843\n",
        "[torch.FloatTensor of dimension 2]\n",
        "\n",
        "2\t\n",
        "BLAH\t\n"
       ]
      },
      {
       "metadata": {},
       "output_type": "pyout",
       "prompt_number": 413,
       "text": [
        " ** On entry to SGEMM  parameter number 10 had an illegal value\n"
       ]
      },
      {
       "metadata": {},
       "output_type": "pyout",
       "prompt_number": 413,
       "text": [
        " ** On entry to SGEMM  parameter number 10 had an illegal value\n"
       ]
      },
      {
       "metadata": {},
       "output_type": "pyout",
       "prompt_number": 413,
       "text": [
        "\r",
        " [======================>......................................................]                                                   \b\b\b\b\b\b\b\b\b\b\b\b\b\b\b\b\b\b\b\b\b\b\b\b\b\b\b\b\b\b\b\b\b\b\b\b\b\b\b\b\b\b\b\b\b\b\b\b\b\bETA: 11s14ms | Step: 164ms\b\b\b\b\b\b\b\b\b\b\b\b\b\b\b\b\b\b\b\b\b\b\b\b\b\b\b\b\b\b\b\b\b\b\b\b\b\b\b\b\b\b\b\b\b\b\b\b\b\b\b\b\b\b\b\b\b\b\b\b\b\b\b\b\b\b\b\b\b\b\b\b\b 29/96 \r",
        "HERE OPTIM\t\n",
        "BEFORE FORWARD\t\n",
        "1\t\n"
       ]
      },
      {
       "metadata": {},
       "output_type": "pyout",
       "prompt_number": 413,
       "text": [
        "AFTER FORWARD\t\n",
        "NEO\t\n",
        " 4.2736\n",
        " 5.7264\n",
        "[torch.FloatTensor of dimension 2]\n",
        "\n",
        "1\t\n",
        "BLAH\t\n",
        " ** On entry to SGEMM  parameter number 10 had an illegal value\n"
       ]
      },
      {
       "metadata": {},
       "output_type": "pyout",
       "prompt_number": 413,
       "text": [
        " ** On entry to SGEMM  parameter number 10 had an illegal value\n"
       ]
      },
      {
       "metadata": {},
       "output_type": "pyout",
       "prompt_number": 413,
       "text": [
        "\r",
        " [=======================>.....................................................]                                                   \b\b\b\b\b\b\b\b\b\b\b\b\b\b\b\b\b\b\b\b\b\b\b\b\b\b\b\b\b\b\b\b\b\b\b\b\b\b\b\b\b\b\b\b\b\b\b\b\b\bETA: 10s543ms | Step: 159ms\b\b\b\b\b\b\b\b\b\b\b\b\b\b\b\b\b\b\b\b\b\b\b\b\b\b\b\b\b\b\b\b\b\b\b\b\b\b\b\b\b\b\b\b\b\b\b\b\b\b\b\b\b\b\b\b\b\b\b\b\b\b\b\b\b\b\b\b\b\b\b\b\b\b 30/96 \r",
        "HERE OPTIM\t\n",
        "BEFORE FORWARD\t\n",
        "1\t\n"
       ]
      },
      {
       "metadata": {},
       "output_type": "pyout",
       "prompt_number": 413,
       "text": [
        "AFTER FORWARD\t\n",
        "NEO\t\n",
        " 4.3299\n",
        " 5.6702\n",
        "[torch.FloatTensor of dimension 2]\n",
        "\n",
        "2\t\n",
        "BLAH\t\n"
       ]
      },
      {
       "metadata": {},
       "output_type": "pyout",
       "prompt_number": 413,
       "text": [
        " ** On entry to SGEMM  parameter number 10 had an illegal value\n"
       ]
      },
      {
       "metadata": {},
       "output_type": "pyout",
       "prompt_number": 413,
       "text": [
        " ** On entry to SGEMM  parameter number 10 had an illegal value\n"
       ]
      },
      {
       "metadata": {},
       "output_type": "pyout",
       "prompt_number": 413,
       "text": [
        "\r",
        " [=======================>..................."
       ]
      },
      {
       "metadata": {},
       "output_type": "pyout",
       "prompt_number": 413,
       "text": [
        "..................................]                                                   \b\b\b\b\b\b\b\b\b\b\b\b\b\b\b\b\b\b\b\b\b\b\b\b\b\b\b\b\b\b\b\b\b\b\b\b\b\b\b\b\b\b\b\b\b\b\b\b\b\bETA: 10s617ms | Step: 163ms\b\b\b\b\b\b\b\b\b\b\b\b\b\b\b\b\b\b\b\b\b\b\b\b\b\b\b\b\b\b\b\b\b\b\b\b\b\b\b\b\b\b\b\b\b\b\b\b\b\b\b\b\b\b\b\b\b\b\b\b\b\b\b\b\b\b\b\b\b\b\b\b\b\b 31/96 \r",
        "HERE OPTIM\t\n",
        "BEFORE FORWARD\t\n",
        "1\t\n"
       ]
      },
      {
       "metadata": {},
       "output_type": "pyout",
       "prompt_number": 413,
       "text": [
        "AFTER FORWARD\t\n",
        "NEO\t\n",
        " 4.2876\n",
        " 5.7125\n",
        "[torch.FloatTensor of dimension 2]\n",
        "\n",
        "1\t\n",
        "BLAH\t\n",
        " ** On entry to SGEMM  parameter number 10 had an illegal value\n"
       ]
      },
      {
       "metadata": {},
       "output_type": "pyout",
       "prompt_number": 413,
       "text": [
        " ** On entry to SGEMM  parameter number 10 had an illegal value\n"
       ]
      },
      {
       "metadata": {},
       "output_type": "pyout",
       "prompt_number": 413,
       "text": [
        "\r",
        " [========================>....................................................]                                                   \b\b\b\b\b\b\b\b\b\b\b\b\b\b\b\b\b\b\b\b\b\b\b\b\b\b\b\b\b\b\b\b\b\b\b\b\b\b\b\b\b\b\b\b\b\b\b\b\b\bETA: 10s141ms | Step: 158ms\b\b\b\b\b\b\b\b\b\b\b\b\b\b\b\b\b\b\b\b\b\b\b\b\b\b\b\b\b\b\b\b\b\b\b\b\b\b\b\b\b"
       ]
      },
      {
       "metadata": {},
       "output_type": "pyout",
       "prompt_number": 413,
       "text": [
        "\b\b\b\b\b\b\b\b\b\b\b\b\b\b\b\b\b\b\b\b\b\b\b\b\b\b\b\b\b\b\b\b\b 32/96 \r",
        "HERE OPTIM\t\n",
        "BEFORE FORWARD\t\n",
        "1\t\n"
       ]
      },
      {
       "metadata": {},
       "output_type": "pyout",
       "prompt_number": 413,
       "text": [
        "AFTER FORWARD\t\n",
        "NEO\t\n",
        " 4.3437\n",
        " 5.6564\n",
        "[torch.FloatTensor of dimension 2]\n",
        "\n",
        "1\t\n",
        "BLAH\t\n",
        " ** On entry to SGEMM  parameter number 10 had an illegal value\n"
       ]
      },
      {
       "metadata": {},
       "output_type": "pyout",
       "prompt_number": 413,
       "text": [
        " ** On entry to SGEMM  parameter number 10 had an illegal value\n"
       ]
      },
      {
       "metadata": {},
       "output_type": "pyout",
       "prompt_number": 413,
       "text": [
        "\r",
        " [=========================>...................................................]                                                   \b\b\b\b\b\b\b\b\b\b\b\b\b\b\b\b\b\b\b\b\b\b\b\b\b\b\b\b\b\b\b\b\b\b\b\b\b\b\b\b\b\b\b\b\b\b\b\b\b\bETA: 9s685ms | Step: 153ms\b\b\b\b\b\b\b\b\b\b\b\b\b\b\b\b\b\b\b\b\b\b\b\b\b\b\b\b\b\b\b\b\b\b\b\b\b\b\b\b\b\b\b\b\b\b\b\b\b\b\b\b\b\b\b\b\b\b\b\b\b\b\b\b\b\b\b\b\b\b\b\b\b 33/96 \r",
        "HERE OPTIM\t\n",
        "BEFORE FORWARD\t\n",
        "1\t\n"
       ]
      },
      {
       "metadata": {},
       "output_type": "pyout",
       "prompt_number": 413,
       "text": [
        "AFTER FORWARD\t\n",
        "NEO\t\n",
        " 4.4003\n",
        " 5.5998\n",
        "[torch.FloatTensor of dimension 2]\n",
        "\n",
        "1\t\n",
        "BLAH\t\n",
        " ** On entry to SGEMM  parameter number 10 had an illegal value\n"
       ]
      },
      {
       "metadata": {},
       "output_type": "pyout",
       "prompt_number": 413,
       "text": [
        " ** On entry to SGEMM  parameter number 10 had an illegal value\n"
       ]
      },
      {
       "metadata": {},
       "output_type": "pyout",
       "prompt_number": 413,
       "text": [
        "\r",
        " [==========================>..................................................]                                                   \b\b\b\b\b\b\b\b\b\b\b\b\b\b\b\b\b\b\b\b\b\b\b\b\b\b\b\b\b\b\b\b\b\b\b\b\b\b\b\b\b\b\b\b\b\b\b\b\b\bETA: 9s253ms | Step: 149ms\b\b\b"
       ]
      },
      {
       "metadata": {},
       "output_type": "pyout",
       "prompt_number": 413,
       "text": [
        "\b\b\b\b\b\b\b\b\b\b\b\b\b\b\b\b\b\b\b\b\b\b\b\b\b\b\b\b\b\b\b\b\b\b\b\b\b\b\b\b\b\b\b\b\b\b\b\b\b\b\b\b\b\b\b\b\b\b\b\b\b\b\b\b\b\b\b\b\b\b 34/96 \r",
        "HERE OPTIM\t\n",
        "BEFORE FORWARD\t\n",
        "1\t\n"
       ]
      },
      {
       "metadata": {},
       "output_type": "pyout",
       "prompt_number": 413,
       "text": [
        "AFTER FORWARD\t\n",
        "NEO\t\n",
        " 4.4563\n",
        " 5.5438\n",
        "[torch.FloatTensor of dimension 2]\n",
        "\n"
       ]
      },
      {
       "metadata": {},
       "output_type": "pyout",
       "prompt_number": 413,
       "text": [
        "1\t\n",
        "BLAH\t\n",
        " ** On entry to SGEMM  parameter number 10 had an illegal value\n"
       ]
      },
      {
       "metadata": {},
       "output_type": "pyout",
       "prompt_number": 413,
       "text": [
        " ** On entry to SGEMM  parameter number 10 had an illegal value\n",
        "\r",
        " [============="
       ]
      },
      {
       "metadata": {},
       "output_type": "pyout",
       "prompt_number": 413,
       "text": [
        "==============>.................................................]                                                   \b\b\b\b\b\b\b\b\b\b\b\b\b\b\b\b\b\b\b\b\b\b\b\b\b\b\b\b\b\b\b\b\b\b\b\b\b\b\b\b\b\b\b\b\b\b\b\b\b\bETA: 8s849ms | Step: 145ms\b\b\b\b\b\b\b\b\b\b\b\b\b\b\b\b\b\b\b\b\b\b\b\b\b\b\b\b\b\b\b\b\b\b\b\b\b\b\b\b\b\b\b\b\b\b\b\b\b\b\b\b\b\b\b\b\b\b\b\b\b\b\b\b\b\b\b\b\b\b\b\b\b 35/96 \r",
        "HERE OPTIM\t\n",
        "BEFORE FORWARD\t\n",
        "1\t\n"
       ]
      },
      {
       "metadata": {},
       "output_type": "pyout",
       "prompt_number": 413,
       "text": [
        "AFTER FORWARD\t\n",
        "NEO\t\n",
        " 4.5117\n",
        " 5.4884\n",
        "[torch.FloatTensor of dimension 2]\n",
        "\n",
        "2\t\n",
        "BLAH\t\n",
        " ** On entry to SGEMM  parameter number 10 had an illegal value\n"
       ]
      },
      {
       "metadata": {},
       "output_type": "pyout",
       "prompt_number": 413,
       "text": [
        " ** On entry to SGEMM  parameter number 10 had an illegal value\n"
       ]
      },
      {
       "metadata": {},
       "output_type": "pyout",
       "prompt_number": 413,
       "text": [
        "\r",
        " [===========================>........"
       ]
      },
      {
       "metadata": {},
       "output_type": "pyout",
       "prompt_number": 413,
       "text": [
        ".........................................]                                                   \b\b\b\b\b\b\b\b\b\b\b\b\b\b\b\b\b\b\b\b\b\b\b\b\b\b\b\b\b\b\b\b\b\b\b\b\b\b\b\b\b\b\b\b\b\b\b\b\b\bETA: 8s572ms | Step: 142ms\b\b\b\b\b\b\b\b\b\b\b\b\b\b\b\b\b\b\b\b\b\b\b\b\b\b\b\b\b\b\b\b\b\b\b\b\b\b\b\b\b\b\b\b\b\b\b\b\b\b\b\b\b\b\b\b\b\b\b\b\b\b\b\b\b\b\b\b\b\b\b\b\b 36/96 \r",
        "HERE OPTIM\t\n",
        "BEFORE FORWARD\t\n",
        "1\t\n"
       ]
      },
      {
       "metadata": {},
       "output_type": "pyout",
       "prompt_number": 413,
       "text": [
        "AFTER FORWARD\t\n",
        "NEO\t\n",
        " 4.4676\n",
        " 5.5325\n",
        "[torch.FloatTensor of dimension 2]\n",
        "\n",
        "1\t\n",
        "BLAH\t\n"
       ]
      },
      {
       "metadata": {},
       "output_type": "pyout",
       "prompt_number": 413,
       "text": [
        " ** On entry to SGEMM  parameter number 10 had an illegal value\n"
       ]
      },
      {
       "metadata": {},
       "output_type": "pyout",
       "prompt_number": 413,
       "text": [
        " ** On entry to SGEMM  parameter number 10 had an illegal value\n"
       ]
      },
      {
       "metadata": {},
       "output_type": "pyout",
       "prompt_number": 413,
       "text": [
        "\r",
        " [============================>................................................]                                                   \b\b\b"
       ]
      },
      {
       "metadata": {},
       "output_type": "pyout",
       "prompt_number": 413,
       "text": [
        "\b\b\b\b\b\b\b\b\b\b\b\b\b\b\b\b\b\b\b\b\b\b\b\b\b\b\b\b\b\b\b\b\b\b\b\b\b\b\b\b\b\b\b\b\b\b\bETA: 8s216ms | Step: 139ms\b\b\b\b\b\b\b\b\b\b\b\b\b\b\b\b\b\b\b\b\b\b\b\b\b\b\b\b\b\b\b\b\b\b\b\b\b\b\b\b\b\b\b\b\b\b\b\b\b\b\b\b\b\b\b\b\b\b\b\b\b\b\b\b\b\b\b\b\b\b\b\b\b 37/96 \r",
        "HERE OPTIM\t\n",
        "BEFORE FORWARD\t\n",
        "1\t\n"
       ]
      },
      {
       "metadata": {},
       "output_type": "pyout",
       "prompt_number": 413,
       "text": [
        "AFTER FORWARD\t\n",
        "NEO\t\n",
        " 4.5219\n",
        " 5.4781\n",
        "[torch.FloatTensor of dimension 2]\n",
        "\n",
        "1\t\n"
       ]
      },
      {
       "metadata": {},
       "output_type": "pyout",
       "prompt_number": 413,
       "text": [
        "BLAH\t\n",
        " ** On entry to SGEMM  parameter number 10 had an illegal value\n"
       ]
      },
      {
       "metadata": {},
       "output_type": "pyout",
       "prompt_number": 413,
       "text": [
        " ** On entry to SGEMM  parameter number 10 had an illegal value\n"
       ]
      },
      {
       "metadata": {},
       "output_type": "pyout",
       "prompt_number": 413,
       "text": [
        "\r",
        " [=============================>........"
       ]
      },
      {
       "metadata": {},
       "output_type": "pyout",
       "prompt_number": 413,
       "text": [
        ".......................................]                                                   \b\b\b\b\b\b\b\b\b\b\b\b\b\b\b\b\b\b\b\b\b\b\b\b\b\b\b\b\b\b\b\b\b\b\b\b\b\b\b\b\b\b\b\b\b\b\b\b\b\bETA: 7s871ms | Step: 135ms\b\b\b\b\b\b\b\b\b\b\b\b\b\b\b\b\b\b\b\b\b\b\b\b\b\b\b\b\b\b\b\b\b\b\b\b\b\b\b\b\b\b\b\b\b\b\b\b\b\b\b\b\b\b\b\b\b\b\b\b\b\b\b\b\b\b\b\b\b\b\b\b\b 38/96 \r",
        "HERE OPTIM\t\n",
        "BEFORE FORWARD\t\n",
        "1\t\n"
       ]
      },
      {
       "metadata": {},
       "output_type": "pyout",
       "prompt_number": 413,
       "text": [
        "AFTER FORWARD\t\n",
        "NEO\t\n",
        " 4.5767\n",
        " 5.4234\n",
        "[torch.FloatTensor of dimension 2]\n",
        "\n",
        "2\t\n",
        "BLAH\t\n"
       ]
      },
      {
       "metadata": {},
       "output_type": "pyout",
       "prompt_number": 413,
       "text": [
        " ** On entry to SGEMM  parameter number 10 had an illegal value\n"
       ]
      },
      {
       "metadata": {},
       "output_type": "pyout",
       "prompt_number": 413,
       "text": [
        " ** On entry to SGEMM  parameter number 10 had an illegal value\n"
       ]
      },
      {
       "metadata": {},
       "output_type": "pyout",
       "prompt_number": 413,
       "text": [
        "\r",
        " [==============================>..............................................]                                                   \b\b\b\b\b\b\b\b\b\b\b\b\b\b\b\b\b\b\b\b\b\b\b\b\b\b\b\b\b\b\b\b\b\b\b\b\b\b\b\b\b\b\b\b\b\b\b\b\b\bETA: 8s295ms | Step: 145ms\b\b\b\b\b\b\b\b\b\b\b\b\b\b\b\b\b\b\b\b\b\b\b\b\b\b\b\b\b\b\b\b\b\b\b\b\b\b\b\b\b\b\b\b\b\b\b\b\b\b\b\b\b\b\b\b\b\b\b\b\b\b\b\b\b\b\b\b\b\b\b\b\b 39/96 \r",
        "HERE OPTIM\t\n",
        "BEFORE FORWARD\t\n",
        "1\t\n"
       ]
      },
      {
       "metadata": {},
       "output_type": "pyout",
       "prompt_number": 413,
       "text": [
        "AFTER FORWARD\t\n",
        "NEO\t\n",
        " 4.5319\n",
        " 5.4682\n",
        "[torch.FloatTensor of dimension 2]\n",
        "\n",
        "1\t\n",
        "BLAH\t\n",
        " ** On entry to SGEMM  parameter number 10 had an illegal value\n"
       ]
      },
      {
       "metadata": {},
       "output_type": "pyout",
       "prompt_number": 413,
       "text": [
        " ** On entry to SGEMM  parameter number 10 had an illegal value\n"
       ]
      },
      {
       "metadata": {},
       "output_type": "pyout",
       "prompt_number": 413,
       "text": [
        "\r",
        " [===============================>.............................................]                                                   \b\b\b\b\b\b\b\b\b\b\b\b\b\b\b\b\b\b\b\b\b\b\b\b\b\b\b\b\b\b\b\b\b\b\b\b\b\b\b\b\b\b\b\b\b\b\b\b\b\bETA: 7s950ms | Step: 141ms\b\b\b\b\b\b\b\b\b\b\b\b\b\b\b\b\b\b\b\b\b\b\b\b\b\b\b\b\b\b\b\b\b\b\b\b\b\b\b\b\b\b\b\b\b\b\b\b\b\b\b\b\b\b\b\b\b\b\b\b\b\b\b\b\b\b\b\b\b\b\b\b\b 40/96 \r",
        "HERE OPTIM\t\n",
        "BEFORE FORWARD\t\n",
        "1\t\n"
       ]
      },
      {
       "metadata": {},
       "output_type": "pyout",
       "prompt_number": 413,
       "text": [
        "AFTER FORWARD\t\n",
        "NEO\t\n",
        " 4.5856\n",
        " 5.4145\n",
        "[torch.FloatTensor of dimension 2]\n",
        "\n",
        "1\t\n",
        "BLAH\t\n",
        " ** On entry to SGEMM  parameter number 10 had an illegal value\n"
       ]
      },
      {
       "metadata": {},
       "output_type": "pyout",
       "prompt_number": 413,
       "text": [
        " ** On entry to SGEMM  parameter number 10 had an illegal value\n"
       ]
      },
      {
       "metadata": {},
       "output_type": "pyout",
       "prompt_number": 413,
       "text": [
        "\r",
        " [===============================>.............................................]                                                   \b\b\b\b\b\b\b\b\b\b\b\b\b\b\b\b\b\b\b\b\b\b\b\b\b\b\b\b\b\b\b\b\b\b\b\b\b\b\b\b\b\b\b\b\b\b\b\b\b\bETA: 7s624ms | Step: 138ms\b\b\b\b\b\b\b\b\b\b\b\b\b\b\b\b\b\b\b\b\b\b\b\b\b\b\b\b\b\b\b\b\b\b\b\b\b\b\b\b\b\b\b\b\b\b\b\b\b\b\b\b\b\b\b\b\b\b\b\b\b\b\b\b\b\b\b\b\b\b\b\b\b 41/96 \r",
        "HERE OPTIM\t\n",
        "BEFORE FORWARD\t\n",
        "1\t\n"
       ]
      },
      {
       "metadata": {},
       "output_type": "pyout",
       "prompt_number": 413,
       "text": [
        "AFTER FORWARD\t\n",
        "NEO\t\n",
        " 4.6398\n",
        " 5.3603\n",
        "[torch.FloatTensor of dimension 2]\n",
        "\n",
        "2\t\n",
        "BLAH\t\n"
       ]
      },
      {
       "metadata": {},
       "output_type": "pyout",
       "prompt_number": 413,
       "text": [
        " ** On entry to SGEMM  parameter number 10 had an illegal value\n"
       ]
      },
      {
       "metadata": {},
       "output_type": "pyout",
       "prompt_number": 413,
       "text": [
        " ** On entry to SGEMM  parameter number 10 had an illegal value\n"
       ]
      },
      {
       "metadata": {},
       "output_type": "pyout",
       "prompt_number": 413,
       "text": [
        "\r",
        " [================================>.................................."
       ]
      },
      {
       "metadata": {},
       "output_type": "pyout",
       "prompt_number": 413,
       "text": [
        "..........]                                                   \b\b\b\b\b\b\b\b\b\b\b\b\b\b\b\b\b\b\b\b\b\b\b\b\b\b\b\b\b\b\b\b\b\b\b\b\b\b\b\b\b\b\b\b\b\b\b\b\b\bETA: 7s691ms | Step: 142ms\b\b\b\b\b\b\b\b\b\b\b\b\b\b\b\b\b\b\b\b\b\b\b\b\b\b\b\b\b\b\b\b\b\b\b\b\b\b\b\b\b\b\b\b\b\b\b\b\b\b\b\b\b\b\b\b\b\b\b\b\b\b\b\b\b\b\b\b\b\b\b\b\b 42/96 \r",
        "HERE OPTIM\t\n",
        "BEFORE FORWARD\t\n",
        "1\t\n"
       ]
      },
      {
       "metadata": {},
       "output_type": "pyout",
       "prompt_number": 413,
       "text": [
        "AFTER FORWARD\t\n",
        "NEO\t\n",
        " 4.5944\n",
        " 5.4058\n",
        "[torch.FloatTensor of dimension 2]\n",
        "\n",
        "1\t\n",
        "BLAH\t\n"
       ]
      },
      {
       "metadata": {},
       "output_type": "pyout",
       "prompt_number": 413,
       "text": [
        " ** On entry to SGEMM  parameter number 10 had an illegal value\n"
       ]
      },
      {
       "metadata": {},
       "output_type": "pyout",
       "prompt_number": 413,
       "text": [
        " ** On entry to SGEMM  parameter number 10 had an illegal value\n"
       ]
      },
      {
       "metadata": {},
       "output_type": "pyout",
       "prompt_number": 413,
       "text": [
        "\r",
        " [=================================>...........................................]                                                   \b\b\b\b\b\b\b\b\b\b\b\b\b\b\b\b\b\b\b\b\b\b\b\b\b\b\b\b\b\b\b\b\b\b\b\b\b\b\b\b\b\b\b\b\b\b\b\b\b\bETA: 7s386ms | Step: 139ms\b\b\b\b\b\b\b\b\b\b\b\b\b\b\b\b\b\b\b\b\b\b\b\b\b\b\b\b\b\b\b\b\b\b\b\b\b\b\b\b\b\b\b\b\b\b\b\b\b\b\b\b\b\b\b\b\b\b\b\b\b\b\b\b\b\b\b\b\b\b\b\b\b 43/96 \r",
        "HERE OPTIM\t\n",
        "BEFORE FORWARD\t\n",
        "1\t\n"
       ]
      },
      {
       "metadata": {},
       "output_type": "pyout",
       "prompt_number": 413,
       "text": [
        "AFTER FORWARD\t\n",
        "NEO\t\n",
        " 4.6474\n",
        " 5.3527\n",
        "[torch.FloatTensor of dimension 2]\n",
        "\n",
        "2\t\n",
        "BLAH\t\n"
       ]
      },
      {
       "metadata": {},
       "output_type": "pyout",
       "prompt_number": 413,
       "text": [
        " ** On entry to SGEMM  parameter number 10 had an illegal value\n"
       ]
      },
      {
       "metadata": {},
       "output_type": "pyout",
       "prompt_number": 413,
       "text": [
        " ** On entry to SGEMM  parameter number 10 had an illegal value\n"
       ]
      },
      {
       "metadata": {},
       "output_type": "pyout",
       "prompt_number": 413,
       "text": [
        "\r",
        " [==================================>..........................................]                                                   \b\b\b\b\b\b\b\b\b\b\b\b\b\b\b\b\b\b\b\b\b\b\b\b\b\b\b\b\b\b\b\b\b\b\b\b\b\b\b\b\b\b\b\b\b\b\b\b\b\bETA: 7s99ms | Step: 136ms\b\b\b\b\b\b\b\b\b\b\b\b\b\b\b\b\b\b\b\b\b\b\b\b\b\b\b\b\b\b\b\b\b\b\b\b\b\b\b\b\b\b\b\b\b\b\b\b\b\b\b\b\b\b\b\b\b\b\b\b\b\b\b\b\b\b\b\b\b\b\b\b 44/96 \r",
        "HERE OPTIM\t\n",
        "BEFORE FORWARD\t\n",
        "1\t\n"
       ]
      },
      {
       "metadata": {},
       "output_type": "pyout",
       "prompt_number": 413,
       "text": [
        "AFTER FORWARD\t\n",
        "NEO\t\n",
        " 4.6020\n",
        " 5.3982\n",
        "[torch.FloatTensor of dimension 2]\n",
        "\n",
        "2\t\n",
        "BLAH\t\n"
       ]
      },
      {
       "metadata": {},
       "output_type": "pyout",
       "prompt_number": 413,
       "text": [
        " ** On entry to SGEMM  parameter number 10 had an illegal value\n"
       ]
      },
      {
       "metadata": {},
       "output_type": "pyout",
       "prompt_number": 413,
       "text": [
        " ** On entry to SGEMM  parameter number 10 had an illegal value\n"
       ]
      },
      {
       "metadata": {},
       "output_type": "pyout",
       "prompt_number": 413,
       "text": [
        "\r",
        " [===================================>.........................................]                                                   \b\b\b\b\b\b\b\b\b\b\b\b\b\b\b\b\b\b\b\b\b\b\b\b\b\b\b\b\b\b\b\b\b\b\b\b\b\b\b\b\b\b\b\b\b\b\b\b\b\bETA: 7s531ms | Step: 147ms\b\b\b\b\b\b\b\b\b\b\b\b\b\b\b\b\b\b\b\b\b\b\b\b\b\b\b\b\b\b\b\b\b\b\b\b\b\b\b\b\b\b\b\b\b\b\b\b\b\b\b\b\b\b\b\b\b\b\b\b\b\b\b\b\b\b\b\b\b\b\b\b\b 45/96 \r",
        "HERE OPTIM\t\n",
        "BEFORE FORWARD\t\n",
        "1\t\n"
       ]
      },
      {
       "metadata": {},
       "output_type": "pyout",
       "prompt_number": 413,
       "text": [
        "AFTER FORWARD\t\n",
        "NEO\t\n",
        " 4.5559\n",
        " 5.4441\n",
        "[torch.FloatTensor of dimension 2]\n",
        "\n",
        "2\t\n",
        "BLAH\t\n"
       ]
      },
      {
       "metadata": {},
       "output_type": "pyout",
       "prompt_number": 413,
       "text": [
        " ** On entry to SGEMM  parameter number 10 had an illegal value\n"
       ]
      },
      {
       "metadata": {},
       "output_type": "pyout",
       "prompt_number": 413,
       "text": [
        " ** On entry to SGEMM  parameter number 10 had an illegal value\n"
       ]
      },
      {
       "metadata": {},
       "output_type": "pyout",
       "prompt_number": 413,
       "text": [
        "\r",
        " [===================================>.........................................]                                                   \b\b\b\b\b\b\b\b\b\b\b\b\b\b\b\b\b\b\b\b\b\b\b\b\b\b\b\b\b\b\b\b\b\b\b\b\b\b\b\b\b\b\b\b\b\b\b\b\b\bETA: 7s742ms | Step: 154ms\b\b\b\b\b\b\b\b\b\b\b\b\b\b\b\b\b\b\b\b\b\b\b\b\b\b\b\b\b\b\b\b\b\b\b\b\b\b\b\b\b\b\b\b\b\b\b\b\b\b\b\b\b\b\b\b\b\b\b\b\b\b\b\b\b\b\b\b\b\b\b\b\b 46/96 \r",
        "HERE OPTIM\t\n",
        "BEFORE FORWARD\t\n"
       ]
      },
      {
       "metadata": {},
       "output_type": "pyout",
       "prompt_number": 413,
       "text": [
        "1\t\n"
       ]
      },
      {
       "metadata": {},
       "output_type": "pyout",
       "prompt_number": 413,
       "text": [
        "AFTER FORWARD\t\n",
        "NEO\t\n",
        " 4.5104\n",
        " 5.4897\n",
        "[torch.FloatTensor of dimension 2]\n",
        "\n",
        "2\t\n",
        "BLAH\t\n",
        " ** On entry to SGEMM  parameter number 10 had an illegal value\n"
       ]
      },
      {
       "metadata": {},
       "output_type": "pyout",
       "prompt_number": 413,
       "text": [
        " ** On entry to SGEMM  parameter number 10 had an illegal value\n"
       ]
      },
      {
       "metadata": {},
       "output_type": "pyout",
       "prompt_number": 413,
       "text": [
        "\r",
        " [====================================>........................................]                                                   \b\b\b\b\b\b\b\b\b\b\b\b\b\b\b\b\b\b\b\b\b\b\b\b\b\b\b\b\b\b\b\b\b\b\b\b\b\b\b\b\b\b\b\b\b\b\b\b\b\bETA: 7s468ms | Step: 152ms\b\b\b\b\b\b\b\b\b\b\b\b\b\b\b\b\b\b\b\b\b\b\b\b\b\b\b\b\b\b\b\b\b\b\b\b\b\b\b\b\b\b\b\b\b\b\b\b\b\b\b\b\b\b\b\b\b\b\b\b\b\b\b\b\b\b\b\b\b\b\b\b\b 47/96 \r",
        "HERE OPTIM\t\n",
        "BEFORE FORWARD\t\n",
        "1\t\n"
       ]
      },
      {
       "metadata": {},
       "output_type": "pyout",
       "prompt_number": 413,
       "text": [
        "AFTER FORWARD\t\n",
        "NEO\t\n",
        " 4.4653\n",
        " 5.5348\n",
        "[torch.FloatTensor of dimension 2]\n",
        "\n",
        "1\t\n",
        "BLAH\t\n"
       ]
      },
      {
       "metadata": {},
       "output_type": "pyout",
       "prompt_number": 413,
       "text": [
        " ** On entry to SGEMM  parameter number 10 had an illegal value\n"
       ]
      },
      {
       "metadata": {},
       "output_type": "pyout",
       "prompt_number": 413,
       "text": [
        " ** On entry to SGEMM  parameter number 10 had an illegal value\n"
       ]
      },
      {
       "metadata": {},
       "output_type": "pyout",
       "prompt_number": 413,
       "text": [
        "\r",
        " [=====================================>.......................................]                                                   \b\b\b\b\b\b\b\b\b\b\b\b\b\b\b\b\b\b\b\b\b\b\b\b\b\b\b\b\b\b\b\b\b\b\b\b\b\b\b\b\b\b\b\b\b"
       ]
      },
      {
       "metadata": {},
       "output_type": "pyout",
       "prompt_number": 413,
       "text": [
        "\b\b\b\b\bETA: 7s172ms | Step: 149ms\b\b\b\b\b\b\b\b\b\b\b\b\b\b\b\b\b\b\b\b\b\b\b\b\b\b\b\b\b\b\b\b\b\b\b\b\b\b\b\b\b\b\b\b\b\b\b\b\b\b\b\b\b\b\b\b\b\b\b\b\b\b\b\b\b\b\b\b\b\b\b\b\b 48/96 \r",
        "HERE OPTIM\t\n",
        "BEFORE FORWARD\t\n",
        "1\t\n"
       ]
      },
      {
       "metadata": {},
       "output_type": "pyout",
       "prompt_number": 413,
       "text": [
        "AFTER FORWARD\t\n",
        "NEO\t\n",
        " 4.5196\n",
        " 5.4805\n",
        "[torch.FloatTensor of dimension 2]\n",
        "\n",
        "2\t\n",
        "BLAH\t\n"
       ]
      },
      {
       "metadata": {},
       "output_type": "pyout",
       "prompt_number": 413,
       "text": [
        " ** On entry to SGEMM  parameter number 10 had an illegal value\n"
       ]
      },
      {
       "metadata": {},
       "output_type": "pyout",
       "prompt_number": 413,
       "text": [
        " ** On entry to SGEMM  parameter number 10 had an illegal value\n"
       ]
      },
      {
       "metadata": {},
       "output_type": "pyout",
       "prompt_number": 413,
       "text": [
        "\r",
        " [======================================>......................................]                                                   \b\b\b\b\b\b\b\b\b\b\b\b\b\b\b\b\b\b\b\b\b\b\b\b\b\b\b\b\b\b\b\b\b\b\b\b\b\b\b\b\b\b\b\b\b\b\b\b\b\bETA: 6s986ms | Step: 148ms\b\b\b\b\b\b\b\b\b\b\b\b\b\b\b\b\b\b\b\b\b\b\b\b\b\b\b\b\b\b\b\b\b\b\b\b\b\b\b\b\b\b\b\b\b\b\b\b\b\b\b\b\b\b\b\b\b\b\b\b\b\b\b\b\b\b\b\b\b\b\b\b\b 49"
       ]
      },
      {
       "metadata": {},
       "output_type": "pyout",
       "prompt_number": 413,
       "text": [
        "/96 \r",
        "HERE OPTIM\t\n",
        "BEFORE FORWARD\t\n",
        "1\t\n"
       ]
      },
      {
       "metadata": {},
       "output_type": "pyout",
       "prompt_number": 413,
       "text": [
        "AFTER FORWARD\t\n",
        "NEO\t\n",
        " 4.4754\n",
        " 5.5247\n",
        "[torch.FloatTensor of dimension 2]\n",
        "\n",
        "1\t\n",
        "BLAH\t\n",
        " ** On entry to SGEMM  parameter number 10 had an illegal value\n"
       ]
      },
      {
       "metadata": {},
       "output_type": "pyout",
       "prompt_number": 413,
       "text": [
        " ** On entry to SGEMM  parameter number 10 had an illegal value\n"
       ]
      },
      {
       "metadata": {},
       "output_type": "pyout",
       "prompt_number": 413,
       "text": [
        "\r",
        " [=======================================>.................................."
       ]
      },
      {
       "metadata": {},
       "output_type": "pyout",
       "prompt_number": 413,
       "text": [
        "...]                                                   \b\b\b\b\b\b\b\b\b\b\b\b\b\b\b\b\b\b\b\b\b\b\b\b\b\b\b\b\b\b\b\b\b\b\b\b\b\b\b\b\b\b\b\b\b\b\b\b\b\bETA: 6s710ms | Step: 145ms\b\b\b\b\b\b\b\b\b\b\b\b\b\b\b\b\b\b\b\b\b\b\b\b\b\b\b\b\b\b\b\b\b\b\b\b\b\b\b\b\b\b\b\b\b\b\b\b\b\b\b\b\b\b\b\b\b\b\b\b\b\b\b\b\b\b\b\b\b\b\b\b\b 50/96 \r",
        "HERE OPTIM\t\n",
        "BEFORE FORWARD\t\n",
        "1\t\n"
       ]
      },
      {
       "metadata": {},
       "output_type": "pyout",
       "prompt_number": 413,
       "text": [
        "AFTER FORWARD\t\n",
        "NEO\t\n",
        " 4.5297\n",
        " 5.4704\n",
        "[torch.FloatTensor of dimension 2]\n",
        "\n",
        "1\t\n",
        "BLAH\t\n",
        " ** On entry to SGEMM  parameter number 10 had an illegal value\n"
       ]
      },
      {
       "metadata": {},
       "output_type": "pyout",
       "prompt_number": 413,
       "text": [
        " ** On entry to SGEMM  parameter number 10 had an illegal value\n"
       ]
      },
      {
       "metadata": {},
       "output_type": "pyout",
       "prompt_number": 413,
       "text": [
        "\r",
        " [=======================================>.................."
       ]
      },
      {
       "metadata": {},
       "output_type": "pyout",
       "prompt_number": 413,
       "text": [
        "...................]                                                   \b\b\b\b\b\b\b\b\b\b\b\b\b\b\b\b\b\b\b\b\b\b\b\b\b\b\b\b\b\b\b\b\b\b\b\b\b\b\b\b\b\b\b\b\b\b\b\b\b\bETA: 6s440ms | Step: 143ms\b\b\b\b\b\b\b\b\b\b\b\b\b\b\b\b\b\b\b\b\b\b\b\b\b\b\b\b\b\b\b\b\b\b\b\b\b\b\b\b\b\b\b\b\b\b\b\b\b\b\b\b\b\b\b\b\b\b\b\b\b\b\b\b\b\b\b\b\b\b\b\b\b 51/96 \r",
        "HERE OPTIM\t\n",
        "BEFORE FORWARD\t\n",
        "1\t\n"
       ]
      },
      {
       "metadata": {},
       "output_type": "pyout",
       "prompt_number": 413,
       "text": [
        "AFTER FORWARD\t\n",
        "NEO\t\n",
        " 4.5844\n",
        " 5.4157\n",
        "[torch.FloatTensor of dimension 2]\n",
        "\n",
        "1\t\n",
        "BLAH\t\n",
        " ** On entry to SGEMM  parameter number 10 had an illegal value\n"
       ]
      },
      {
       "metadata": {},
       "output_type": "pyout",
       "prompt_number": 413,
       "text": [
        " ** On entry to SGEMM  parameter number 10 had an illegal value\n"
       ]
      },
      {
       "metadata": {},
       "output_type": "pyout",
       "prompt_number": 413,
       "text": [
        "\r",
        " [========================================>....................................]                                                   \b\b\b\b\b\b\b\b\b\b\b\b\b\b\b\b\b\b\b\b\b\b\b\b\b\b\b\b\b\b\b\b\b\b\b\b\b\b\b\b\b\b\b\b\b\b\b\b\b\bETA: 6s184ms | Step: 140ms\b\b\b\b\b\b\b\b\b\b\b\b\b\b\b\b\b\b\b\b\b\b\b\b\b\b\b\b\b\b\b\b\b\b\b\b\b\b\b\b\b\b\b\b\b\b\b\b\b\b\b\b\b\b\b\b\b\b\b\b\b\b\b\b\b\b\b\b\b\b\b\b\b 52/96 \r",
        "HERE OPTIM\t\n",
        "BEFORE FORWARD\t\n",
        "1\t\n"
       ]
      },
      {
       "metadata": {},
       "output_type": "pyout",
       "prompt_number": 413,
       "text": [
        "AFTER FORWARD\t\n",
        "NEO\t\n",
        " 4.6385\n",
        " 5.3616\n",
        "[torch.FloatTensor of dimension 2]\n",
        "\n",
        "2\t\n",
        "BLAH\t\n",
        " ** On entry to SGEMM  parameter number 10 had an illegal value\n"
       ]
      },
      {
       "metadata": {},
       "output_type": "pyout",
       "prompt_number": 413,
       "text": [
        " ** On entry to SGEMM  parameter number 10 had an illegal value\n"
       ]
      },
      {
       "metadata": {},
       "output_type": "pyout",
       "prompt_number": 413,
       "text": [
        "\r",
        " [=========================================>...................................]                                                   \b\b\b\b\b\b\b\b\b\b\b\b\b\b\b\b\b\b\b\b\b\b\b\b\b\b\b\b\b\b\b\b\b\b\b\b\b\b\b\b\b\b\b\b\b\b\b\b\b\bETA: 5s990ms | Step: 139ms\b\b\b\b\b\b\b\b\b\b\b\b\b\b\b\b\b\b\b\b\b\b\b\b\b\b\b\b\b\b\b\b\b\b\b\b\b\b\b\b\b\b\b\b\b\b\b\b\b\b\b\b\b\b\b\b\b\b\b\b\b\b\b\b\b\b\b\b\b\b\b\b\b 53/96 \r",
        "HERE OPTIM\t\n",
        "BEFORE FORWARD\t\n",
        "1\t\n"
       ]
      },
      {
       "metadata": {},
       "output_type": "pyout",
       "prompt_number": 413,
       "text": [
        "AFTER FORWARD\t\n",
        "NEO\t\n",
        " 4.5931\n",
        " 5.4069\n",
        "[torch.FloatTensor of dimension 2]\n",
        "\n",
        "2\t\n",
        "BLAH\t\n"
       ]
      },
      {
       "metadata": {},
       "output_type": "pyout",
       "prompt_number": 413,
       "text": [
        " ** On entry to SGEMM  parameter number 10 had an illegal value\n"
       ]
      },
      {
       "metadata": {},
       "output_type": "pyout",
       "prompt_number": 413,
       "text": [
        " ** On entry to SGEMM  parameter number 10 had an illegal value\n"
       ]
      },
      {
       "metadata": {},
       "output_type": "pyout",
       "prompt_number": 413,
       "text": [
        "\r",
        " [==========================================>..................................]                                                   \b\b\b\b\b\b\b\b\b\b\b\b\b\b\b\b\b\b\b\b\b\b\b\b\b\b\b\b\b\b\b\b\b\b\b\b\b\b\b\b\b\b\b\b\b\b\b\b\b\bETA: 6s162ms | Step: 146ms\b\b\b\b\b\b\b\b\b\b\b\b\b\b\b\b\b\b\b\b\b\b\b\b\b\b\b\b\b\b\b\b\b\b\b\b\b\b\b\b\b\b\b\b\b\b\b\b\b\b\b\b\b\b\b\b\b\b\b\b\b\b\b\b\b\b\b\b\b\b\b\b\b 54/96 \r",
        "HERE OPTIM\t\n",
        "BEFORE FORWARD\t\n",
        "1\t\n"
       ]
      },
      {
       "metadata": {},
       "output_type": "pyout",
       "prompt_number": 413,
       "text": [
        "AFTER FORWARD\t\n",
        "NEO\t\n",
        " 4.5472\n",
        " 5.4529\n",
        "[torch.FloatTensor of dimension 2]\n",
        "\n",
        "1\t\n",
        "BLAH\t\n"
       ]
      },
      {
       "metadata": {},
       "output_type": "pyout",
       "prompt_number": 413,
       "text": [
        " ** On entry to SGEMM  parameter number 10 had an illegal value\n"
       ]
      },
      {
       "metadata": {},
       "output_type": "pyout",
       "prompt_number": 413,
       "text": [
        " ** On entry to SGEMM  parameter number 10 had an illegal value\n",
        "\r",
        " [===========================================>.................................]                                                   \b\b\b\b\b\b\b\b\b\b\b\b\b\b\b\b\b\b\b\b\b\b\b\b\b\b\b\b\b\b\b\b\b\b\b\b\b\b\b\b\b\b\b\b\b\b\b\b\b\bETA: 5s910ms | Step: 144ms\b\b\b\b\b\b\b\b\b\b\b\b\b\b\b\b\b\b\b\b\b\b\b\b\b\b\b\b\b\b\b\b\b\b\b\b\b\b\b\b\b\b\b\b\b\b\b\b\b\b\b\b\b\b\b\b\b\b\b\b\b\b\b\b\b\b\b\b\b\b\b\b\b 55/96 \r",
        "HERE OPTIM\t\n",
        "BEFORE FORWARD\t\n",
        "1\t\n"
       ]
      },
      {
       "metadata": {},
       "output_type": "pyout",
       "prompt_number": 413,
       "text": [
        "AFTER FORWARD\t\n",
        "NEO\t\n",
        " 4.6007\n",
        " 5.3993\n",
        "[torch.FloatTensor of dimension 2]\n",
        "\n",
        "1\t\n",
        "BLAH\t\n",
        " ** On entry to SGEMM  parameter number 10 had an illegal value\n"
       ]
      },
      {
       "metadata": {},
       "output_type": "pyout",
       "prompt_number": 413,
       "text": [
        " ** On entry to SGEMM  parameter number 10 had an illegal value\n"
       ]
      },
      {
       "metadata": {},
       "output_type": "pyout",
       "prompt_number": 413,
       "text": [
        "\r",
        " [===========================================>.................................]                                                   \b\b\b\b\b\b\b\b\b\b\b\b\b\b\b\b\b\b\b\b\b\b\b\b\b\b\b\b\b\b\b\b\b\b\b\b\b\b\b\b\b\b\b\b\b\b\b\b\b\bETA: 5s665ms | Step: 141ms\b\b\b\b\b\b\b\b\b\b\b\b\b\b\b\b\b\b\b\b\b\b\b\b\b\b\b\b\b\b\b\b\b\b\b\b\b\b\b\b\b\b\b\b\b\b\b\b\b\b\b\b\b\b\b\b\b\b\b\b\b\b\b\b\b\b\b\b\b\b\b\b\b 56/96 \r",
        "HERE OPTIM\t\n",
        "BEFORE FORWARD\t\n",
        "1\t\n"
       ]
      },
      {
       "metadata": {},
       "output_type": "pyout",
       "prompt_number": 413,
       "text": [
        "AFTER FORWARD\t\n",
        "NEO\t\n",
        " 4.6547\n",
        " 5.3453\n",
        "[torch.FloatTensor of dimension 2]\n",
        "\n",
        "1\t\n",
        "BLAH\t\n",
        " ** On entry to SGEMM  parameter number 10 had an illegal value\n"
       ]
      },
      {
       "metadata": {},
       "output_type": "pyout",
       "prompt_number": 413,
       "text": [
        " ** On entry to SGEMM  parameter number 10 had an illegal value\n"
       ]
      },
      {
       "metadata": {},
       "output_type": "pyout",
       "prompt_number": 413,
       "text": [
        "\r",
        " [============================================>................................]                                                   \b\b\b\b\b\b\b\b\b\b\b\b\b\b\b\b\b\b\b\b\b\b\b\b\b\b\b\b\b\b\b\b\b\b\b\b\b\b\b\b\b\b\b\b\b\b\b\b\b\bETA: 5s429ms | Step: 139ms\b\b\b\b\b\b\b\b\b\b\b\b\b\b\b\b\b\b\b\b\b\b\b\b\b\b\b\b\b\b\b\b\b\b\b\b\b\b\b\b\b\b\b\b\b\b\b\b\b\b\b\b\b\b\b\b\b\b\b\b\b\b\b\b\b\b\b\b\b\b\b\b\b 57/96 \r",
        "HERE OPTIM\t\n",
        "BEFORE FORWARD\t\n",
        "1\t\n"
       ]
      },
      {
       "metadata": {},
       "output_type": "pyout",
       "prompt_number": 413,
       "text": [
        "AFTER FORWARD\t\n",
        "NEO\t\n",
        " 4.7082\n",
        " 5.2919\n",
        "[torch.FloatTensor of dimension 2]\n",
        "\n",
        "2\t\n",
        "BLAH\t\n"
       ]
      },
      {
       "metadata": {},
       "output_type": "pyout",
       "prompt_number": 413,
       "text": [
        " ** On entry to SGEMM  parameter number 10 had an illegal value\n"
       ]
      },
      {
       "metadata": {},
       "output_type": "pyout",
       "prompt_number": 413,
       "text": [
        " ** On entry to SGEMM  parameter number 10 had an illegal value\n"
       ]
      },
      {
       "metadata": {},
       "output_type": "pyout",
       "prompt_number": 413,
       "text": [
        "\r",
        " [=============================================>...............................]                                                   \b\b\b\b\b\b\b\b\b\b\b\b\b\b\b\b\b\b\b\b\b\b\b\b\b\b\b\b\b\b\b\b\b\b\b\b\b\b\b\b\b\b\b\b\b\b\b\b\b\bETA: 5s665ms | Step: 149ms\b\b\b\b\b\b\b\b\b\b\b\b\b\b\b\b\b\b\b\b\b\b\b\b\b\b\b\b\b\b\b\b\b\b\b\b\b\b\b\b\b\b\b\b\b\b\b\b\b\b\b\b\b\b\b\b\b\b\b\b\b\b\b\b\b\b\b\b\b\b\b\b\b 58/96 \r",
        "HERE OPTIM\t\n",
        "BEFORE FORWARD\t\n",
        "1\t\n"
       ]
      },
      {
       "metadata": {},
       "output_type": "pyout",
       "prompt_number": 413,
       "text": [
        "AFTER FORWARD\t\n",
        "NEO\t\n",
        " 4.6621\n",
        " 5.3379\n",
        "[torch.FloatTensor of dimension 2]\n",
        "\n",
        "2\t\n",
        "BLAH\t\n"
       ]
      },
      {
       "metadata": {},
       "output_type": "pyout",
       "prompt_number": 413,
       "text": [
        " ** On entry to SGEMM  parameter number 10 had an illegal value\n"
       ]
      },
      {
       "metadata": {},
       "output_type": "pyout",
       "prompt_number": 413,
       "text": [
        " ** On entry to SGEMM  parameter number 10 had an illegal value\n"
       ]
      },
      {
       "metadata": {},
       "output_type": "pyout",
       "prompt_number": 413,
       "text": [
        "\r",
        " [==============================================>..............................]                                                   \b\b\b\b\b\b\b\b\b\b\b\b\b\b\b\b\b\b\b\b\b\b\b\b\b\b\b\b\b\b\b\b\b\b\b\b\b\b\b\b\b\b\b\b\b\b\b\b\b\bETA: 6s281ms | Step: 169ms\b\b\b\b\b\b\b\b\b\b\b\b\b\b\b\b\b\b\b\b\b\b\b\b\b\b\b\b\b\b\b\b\b\b\b\b\b\b\b\b\b\b\b\b\b\b\b\b\b\b\b\b\b\b\b\b\b\b\b\b\b\b\b\b\b\b\b\b\b\b\b\b\b 59/96 \r",
        "HERE OPTIM\t\n",
        "BEFORE FORWARD\t\n",
        "1\t\n"
       ]
      },
      {
       "metadata": {},
       "output_type": "pyout",
       "prompt_number": 413,
       "text": [
        "AFTER FORWARD\t\n",
        "NEO\t\n",
        " 4.6155\n",
        " 5.3847\n",
        "[torch.FloatTensor of dimension 2]\n",
        "\n",
        "1\t\n",
        "BLAH\t\n",
        " ** On entry to SGEMM  parameter number 10 had an illegal value\n"
       ]
      },
      {
       "metadata": {},
       "output_type": "pyout",
       "prompt_number": 413,
       "text": [
        " ** On entry to SGEMM  parameter number 10 had an illegal value\n",
        "\r",
        " [===============================================>.............................]                 "
       ]
      },
      {
       "metadata": {},
       "output_type": "pyout",
       "prompt_number": 413,
       "text": [
        "                                  \b\b\b\b\b\b\b\b\b\b\b\b\b\b\b\b\b\b\b\b\b\b\b\b\b\b\b\b\b\b\b\b\b\b\b\b\b\b\b\b\b\b\b\b\b\b\b\b\b\bETA: 6s12ms | Step: 167ms\b\b\b\b\b\b\b\b\b\b\b\b\b\b\b\b\b\b\b\b\b\b\b\b\b\b\b\b\b\b\b\b\b\b\b\b\b\b\b\b\b\b\b\b\b\b\b\b\b\b\b\b\b\b\b\b\b\b\b\b\b\b\b\b\b\b\b\b\b\b\b\b 60/96 \r",
        "HERE OPTIM\t\n",
        "BEFORE FORWARD\t\n",
        "1\t\n"
       ]
      },
      {
       "metadata": {},
       "output_type": "pyout",
       "prompt_number": 413,
       "text": [
        "AFTER FORWARD\t\n",
        "NEO\t\n",
        " 4.6683\n",
        " 5.3318\n",
        "[torch.FloatTensor of dimension 2]\n",
        "\n",
        "2\t\n",
        "BLAH\t\n",
        " ** On entry to SGEMM  parameter number 10 had an illegal value\n"
       ]
      },
      {
       "metadata": {},
       "output_type": "pyout",
       "prompt_number": 413,
       "text": [
        " ** On entry to SGEMM  parameter number 10 had an illegal value\n"
       ]
      },
      {
       "metadata": {},
       "output_type": "pyout",
       "prompt_number": 413,
       "text": [
        "\r",
        " [===============================================>.............................]                                                   \b\b\b\b\b\b\b\b\b\b\b\b\b\b\b\b\b\b\b\b\b\b\b\b\b\b\b\b\b\b\b\b\b\b\b\b\b\b\b\b\b\b\b\b\b\b\b\b\b\bETA: 5s770ms | Step: 164ms\b\b\b\b\b\b\b\b\b\b\b\b\b\b\b\b\b\b\b\b\b\b\b\b\b\b\b\b\b\b\b\b\b\b\b\b\b\b\b\b\b\b\b\b\b\b\b\b\b\b\b\b\b\b\b\b\b\b\b\b\b\b\b\b\b\b\b\b\b\b\b\b\b 61/96 \r",
        "HERE OPTIM\t\n",
        "BEFORE FORWARD\t\n",
        "1\t\n"
       ]
      },
      {
       "metadata": {},
       "output_type": "pyout",
       "prompt_number": 413,
       "text": [
        "AFTER FORWARD\t\n",
        "NEO\t\n",
        " 4.6226\n",
        " 5.3775\n",
        "[torch.FloatTensor of dimension 2]\n",
        "\n",
        "2\t\n",
        "BLAH\t\n",
        " ** On entry to SGEMM  parameter number 10 had an illegal value\n"
       ]
      },
      {
       "metadata": {},
       "output_type": "pyout",
       "prompt_number": 413,
       "text": [
        " ** On entry to SGEMM  parameter number 10 had an illegal value\n"
       ]
      },
      {
       "metadata": {},
       "output_type": "pyout",
       "prompt_number": 413,
       "text": [
        "\r",
        " [================================================>............................]                                                   \b\b\b\b\b\b\b\b\b\b\b\b\b\b\b\b\b\b\b\b\b\b\b\b\b\b\b\b\b\b\b\b\b\b\b\b\b\b\b\b\b\b\b\b\b\b\b\b\b\bETA: 5s548ms | Step: 163ms\b\b\b\b\b\b\b\b\b\b\b\b\b\b\b\b\b\b\b\b\b\b\b\b\b\b\b\b\b\b\b\b\b\b\b\b\b\b\b\b\b\b\b\b\b\b\b\b\b\b\b\b\b\b\b\b\b\b\b\b\b\b\b\b\b\b\b\b\b\b\b\b\b 62/96 \r",
        "HERE OPTIM\t\n",
        "BEFORE FORWARD\t\n",
        "1\t\n"
       ]
      },
      {
       "metadata": {},
       "output_type": "pyout",
       "prompt_number": 413,
       "text": [
        "AFTER FORWARD\t\n",
        "NEO\t\n",
        " 4.5764\n",
        " 5.4238\n",
        "[torch.FloatTensor of dimension 2]\n",
        "\n",
        "2\t\n",
        "BLAH\t\n",
        " ** On entry to SGEMM  parameter number 10 had an illegal value\n"
       ]
      },
      {
       "metadata": {},
       "output_type": "pyout",
       "prompt_number": 413,
       "text": [
        " ** On entry to SGEMM  parameter number 10 had an illegal value\n"
       ]
      },
      {
       "metadata": {},
       "output_type": "pyout",
       "prompt_number": 413,
       "text": [
        "\r",
        " [=================================================>...........................]                                                   \b\b\b\b\b\b\b\b\b\b\b\b\b\b\b\b\b\b\b\b\b\b\b\b\b\b\b\b\b\b\b\b\b\b\b\b\b\b\b\b\b\b\b\b\b\b\b\b\b\bETA: 5s324ms | Step: 161ms\b\b\b\b\b\b\b\b\b\b\b\b\b\b\b\b\b\b\b\b\b\b\b\b\b\b\b\b\b\b\b\b\b\b\b\b\b\b\b\b\b\b\b\b\b\b\b\b\b\b\b\b\b\b\b\b\b\b\b\b\b\b\b\b\b\b\b\b\b\b\b\b\b 63/96 \r",
        "HERE OPTIM\t\n",
        "BEFORE FORWARD\t\n",
        "1\t\n"
       ]
      },
      {
       "metadata": {},
       "output_type": "pyout",
       "prompt_number": 413,
       "text": [
        "AFTER FORWARD\t\n",
        "NEO\t\n",
        " 4.5307\n",
        " 5.4695\n",
        "[torch.FloatTensor of dimension 2]\n",
        "\n",
        "2\t\n",
        "BLAH\t\n"
       ]
      },
      {
       "metadata": {},
       "output_type": "pyout",
       "prompt_number": 413,
       "text": [
        " ** On entry to SGEMM  parameter number 10 had an illegal value\n"
       ]
      },
      {
       "metadata": {},
       "output_type": "pyout",
       "prompt_number": 413,
       "text": [
        " ** On entry to SGEMM  parameter number 10 had an illegal value\n"
       ]
      },
      {
       "metadata": {},
       "output_type": "pyout",
       "prompt_number": 413,
       "text": [
        "\r",
        " [==================================================>..........................]                                                   \b\b\b\b\b\b\b\b\b\b\b\b\b\b\b\b\b\b\b\b\b\b\b\b\b\b\b\b\b\b\b\b\b\b\b\b\b\b\b\b\b\b\b\b\b\b\b\b\b\bETA: 5s258ms | Step: 164ms\b\b\b\b\b\b\b\b\b\b\b\b\b\b\b\b\b\b\b\b\b\b\b\b\b\b\b\b\b\b\b\b\b\b\b\b\b\b\b\b\b\b\b\b\b\b\b\b\b\b\b\b\b\b\b\b\b\b\b\b\b\b\b\b\b\b\b\b\b\b\b\b\b 64/96 \r",
        "HERE OPTIM\t\n",
        "BEFORE FORWARD\t\n",
        "1\t\n"
       ]
      },
      {
       "metadata": {},
       "output_type": "pyout",
       "prompt_number": 413,
       "text": [
        "AFTER FORWARD\t\n",
        "NEO\t\n",
        " 4.4853\n",
        " 5.5149\n",
        "[torch.FloatTensor of dimension 2]\n",
        "\n",
        "2\t\n",
        "BLAH\t\n",
        " ** On entry to SGEMM  parameter number 10 had an illegal value\n"
       ]
      },
      {
       "metadata": {},
       "output_type": "pyout",
       "prompt_number": 413,
       "text": [
        " ** On entry to SGEMM  parameter number 10 had an illegal value\n"
       ]
      },
      {
       "metadata": {},
       "output_type": "pyout",
       "prompt_number": 413,
       "text": [
        "\r",
        " [===================================================>.........................]                                                   \b\b\b\b\b\b\b\b\b\b\b\b\b\b\b\b\b\b\b\b\b\b\b\b\b\b\b\b\b\b\b\b\b\b\b\b\b\b\b\b\b\b\b\b\b\b\b\b\b\bETA: 5s108ms | Step: 164ms\b\b\b\b\b\b\b\b\b\b\b\b\b\b\b\b\b\b\b\b\b\b\b\b\b\b\b\b\b\b\b\b\b\b\b\b\b\b\b\b\b\b\b\b\b\b\b\b\b\b\b\b\b\b\b\b\b\b\b\b\b\b\b\b\b\b\b\b\b\b\b\b\b 65/96 \r",
        "HERE OPTIM\t\n",
        "BEFORE FORWARD\t\n",
        "1\t\n"
       ]
      },
      {
       "metadata": {},
       "output_type": "pyout",
       "prompt_number": 413,
       "text": [
        "AFTER FORWARD\t\n",
        "NEO\t\n",
        " 4.4405\n",
        " 5.5597\n",
        "[torch.FloatTensor of dimension 2]\n",
        "\n",
        "1\t\n",
        "BLAH\t\n",
        " ** On entry to SGEMM  parameter number 10 had an illegal value\n"
       ]
      },
      {
       "metadata": {},
       "output_type": "pyout",
       "prompt_number": 413,
       "text": [
        " ** On entry to SGEMM  parameter number 10 had an illegal value\n"
       ]
      },
      {
       "metadata": {},
       "output_type": "pyout",
       "prompt_number": 413,
       "text": [
        "\r",
        " [===================================================>.........................]                                                   \b\b\b\b\b\b\b\b\b\b\b\b\b\b\b\b\b\b\b\b\b\b\b\b\b\b\b"
       ]
      },
      {
       "metadata": {},
       "output_type": "pyout",
       "prompt_number": 413,
       "text": [
        "\b\b\b\b\b\b\b\b\b\b\b\b\b\b\b\b\b\b\b\b\b\b\bETA: 4s874ms | Step: 162ms\b\b\b\b\b\b\b\b\b\b\b\b\b\b\b\b\b\b\b\b\b\b\b\b\b\b\b\b\b\b\b\b\b\b\b\b\b\b\b\b\b\b\b\b\b\b\b\b\b\b\b\b\b\b\b\b\b\b\b\b\b\b\b\b\b\b\b\b\b\b\b\b\b 66/96 \r",
        "HERE OPTIM\t\n",
        "BEFORE FORWARD\t\n",
        "1\t\n"
       ]
      },
      {
       "metadata": {},
       "output_type": "pyout",
       "prompt_number": 413,
       "text": [
        "AFTER FORWARD\t\n",
        "NEO\t\n",
        " 4.4951\n",
        " 5.5051\n",
        "[torch.FloatTensor of dimension 2]\n",
        "\n",
        "2\t\n",
        "BLAH\t\n",
        " ** On entry to SGEMM  parameter number 10 had an illegal value\n"
       ]
      },
      {
       "metadata": {},
       "output_type": "pyout",
       "prompt_number": 413,
       "text": [
        " ** On entry to SGEMM  parameter number 10 had an illegal value\n"
       ]
      },
      {
       "metadata": {},
       "output_type": "pyout",
       "prompt_number": 413,
       "text": [
        "\r",
        " [====================================================>........................]                                                   \b\b\b\b\b\b\b\b\b\b\b\b\b\b\b\b\b\b\b\b\b\b\b\b\b\b\b\b\b\b\b\b\b\b\b\b\b\b\b\b\b\b\b\b\b\b\b\b\b\bETA: 4s647ms | Step: 160ms\b\b\b\b\b\b\b\b\b\b\b\b\b\b\b\b\b\b\b\b\b\b\b\b\b\b\b\b\b\b\b\b\b\b\b\b\b\b\b\b\b\b\b\b\b\b\b\b\b\b\b\b\b\b\b\b\b\b\b\b\b\b\b\b\b\b\b\b\b\b\b\b\b 67/96 \r",
        "HERE OPTIM\t\n",
        "BEFORE FORWARD\t\n",
        "1\t\n"
       ]
      },
      {
       "metadata": {},
       "output_type": "pyout",
       "prompt_number": 413,
       "text": [
        "AFTER FORWARD\t\n",
        "NEO\t\n",
        " 4.4511\n",
        " 5.5491\n",
        "[torch.FloatTensor of dimension 2]\n",
        "\n",
        "1\t\n",
        "BLAH\t\n",
        " ** On entry to SGEMM  parameter number 10 had an illegal value\n"
       ]
      },
      {
       "metadata": {},
       "output_type": "pyout",
       "prompt_number": 413,
       "text": [
        " ** On entry to SGEMM  parameter number 10 had an illegal value\n"
       ]
      },
      {
       "metadata": {},
       "output_type": "pyout",
       "prompt_number": 413,
       "text": [
        "\r",
        " [=====================================================>.......................]                     "
       ]
      },
      {
       "metadata": {},
       "output_type": "pyout",
       "prompt_number": 413,
       "text": [
        "                              \b\b\b\b\b\b\b\b\b\b\b\b\b\b\b\b\b\b\b\b\b\b\b\b\b\b\b\b\b\b\b\b\b\b\b\b\b\b\b\b\b\b\b\b\b\b\b\b\b\bETA: 4s425ms | Step: 158ms\b\b\b\b\b\b\b\b\b\b\b\b\b\b\b\b\b\b\b\b\b\b\b\b\b\b\b\b\b\b\b\b\b\b\b\b\b\b\b\b\b\b\b\b\b\b\b\b\b\b\b\b\b\b\b\b\b\b\b\b\b\b\b\b\b\b\b\b\b\b\b\b\b 68/96 \r",
        "HERE OPTIM\t\n",
        "BEFORE FORWARD\t\n",
        "1\t\n"
       ]
      },
      {
       "metadata": {},
       "output_type": "pyout",
       "prompt_number": 413,
       "text": [
        "AFTER FORWARD\t\n",
        "NEO\t\n",
        " 4.5056\n",
        " 5.4946\n",
        "[torch.FloatTensor of dimension 2]\n",
        "\n",
        "1\t\n",
        "BLAH\t\n",
        " ** On entry to SGEMM  parameter number 10 had an illegal value\n"
       ]
      },
      {
       "metadata": {},
       "output_type": "pyout",
       "prompt_number": 413,
       "text": [
        " ** On entry to SGEMM  parameter number 10 had an illegal value\n"
       ]
      },
      {
       "metadata": {},
       "output_type": "pyout",
       "prompt_number": 413,
       "text": [
        "\r",
        " [======================================================>......................]                                                   \b\b\b\b\b\b\b\b\b\b\b\b\b\b\b\b\b\b\b\b\b\b\b\b\b\b\b\b\b\b\b\b\b\b\b\b\b\b\b\b\b\b\b\b\b\b\b\b\b\bETA: 4s207ms | Step: 155ms\b\b\b\b\b\b\b\b\b\b\b\b\b\b\b\b\b\b\b\b\b\b\b\b\b\b\b\b\b\b\b\b\b\b\b\b\b\b\b\b\b\b\b\b\b\b\b\b\b\b\b\b\b\b\b\b\b\b\b\b\b\b\b\b\b\b\b\b\b\b\b\b\b 69/96 \r",
        "HERE OPTIM\t\n",
        "BEFORE FORWARD\t\n",
        "1\t\n"
       ]
      },
      {
       "metadata": {},
       "output_type": "pyout",
       "prompt_number": 413,
       "text": [
        "AFTER FORWARD\t\n",
        "NEO\t\n",
        " 4.5606\n",
        " 5.4396\n",
        "[torch.FloatTensor of dimension 2]\n",
        "\n",
        "2\t\n",
        "BLAH\t\n",
        " ** On entry to SGEMM  parameter number 10 had an illegal value\n"
       ]
      },
      {
       "metadata": {},
       "output_type": "pyout",
       "prompt_number": 413,
       "text": [
        " ** On entry to SGEMM  parameter number 10 had an illegal value\n"
       ]
      },
      {
       "metadata": {},
       "output_type": "pyout",
       "prompt_number": 413,
       "text": [
        "\r",
        " [=======================================================>.....................]                                                   \b\b\b\b\b\b\b\b\b\b\b\b\b\b\b\b\b\b\b\b\b\b\b\b\b\b\b\b\b\b\b\b\b\b\b\b\b\b\b\b\b\b\b\b\b\b\b\b\b\bETA: 4s16ms | Step: 154ms\b\b\b\b\b\b\b\b\b\b\b\b\b\b\b\b\b\b\b\b\b\b\b\b\b\b\b\b\b\b\b\b\b\b\b\b\b\b\b\b\b\b\b\b\b\b\b\b\b\b\b\b\b\b\b\b\b\b\b\b\b\b\b\b\b\b\b\b\b\b\b\b 70/96 \r",
        "HERE OPTIM\t\n",
        "BEFORE FORWARD\t\n",
        "1\t\n"
       ]
      },
      {
       "metadata": {},
       "output_type": "pyout",
       "prompt_number": 413,
       "text": [
        "AFTER FORWARD\t\n",
        "NEO\t\n",
        " 4.5160\n",
        " 5.4842\n",
        "[torch.FloatTensor of dimension 2]\n",
        "\n",
        "2\t\n",
        "BLAH\t\n",
        " ** On entry to SGEMM  parameter number 10 had an illegal value\n"
       ]
      },
      {
       "metadata": {},
       "output_type": "pyout",
       "prompt_number": 413,
       "text": [
        " ** On entry to SGEMM  parameter number 10 had an illegal value\n"
       ]
      },
      {
       "metadata": {},
       "output_type": "pyout",
       "prompt_number": 413,
       "text": [
        "\r",
        " [=======================================================>.....................]                                                   \b\b\b\b\b\b\b\b\b\b\b\b\b\b\b\b\b\b\b\b\b\b\b\b\b\b\b\b\b\b\b\b\b\b\b\b\b\b\b\b\b\b\b\b\b\b\b\b\b\bETA: 3s819ms | Step: 152ms\b\b\b\b\b\b\b\b\b\b\b\b\b\b\b\b\b\b\b\b\b\b\b\b\b\b\b\b\b\b\b\b\b\b\b\b\b\b\b\b\b\b\b\b\b\b\b\b\b\b\b\b\b\b\b\b\b\b\b\b\b\b\b\b\b\b\b\b\b\b\b\b\b 71/96 \r",
        "HERE OPTIM\t\n",
        "BEFORE FORWARD\t\n",
        "1\t\n"
       ]
      },
      {
       "metadata": {},
       "output_type": "pyout",
       "prompt_number": 413,
       "text": [
        "AFTER FORWARD\t\n",
        "NEO\t\n",
        " 4.4708\n",
        " 5.5294\n",
        "[torch.FloatTensor of dimension 2]\n",
        "\n",
        "2\t\n",
        "BLAH\t\n",
        " ** On entry to SGEMM  parameter number 10 had an illegal value\n"
       ]
      },
      {
       "metadata": {},
       "output_type": "pyout",
       "prompt_number": 413,
       "text": [
        " ** On entry to SGEMM  parameter number 10 had an illegal value\n"
       ]
      },
      {
       "metadata": {},
       "output_type": "pyout",
       "prompt_number": 413,
       "text": [
        "\r",
        " [================="
       ]
      },
      {
       "metadata": {},
       "output_type": "pyout",
       "prompt_number": 413,
       "text": [
        "=======================================>....................]                                                   \b\b\b\b\b\b\b\b\b\b\b\b\b\b\b\b\b\b\b\b\b\b\b\b\b\b\b\b\b\b\b\b\b\b\b\b\b\b\b\b\b\b\b\b\b\b\b\b\b\bETA: 3s622ms | Step: 150ms\b\b\b\b\b\b\b\b\b\b\b\b\b\b\b\b\b\b\b\b\b\b\b\b\b\b\b\b\b\b\b\b\b\b\b\b\b\b\b\b\b\b\b\b\b\b\b\b\b\b\b\b\b\b\b\b\b\b\b\b\b\b\b\b\b\b\b\b\b\b\b\b\b 72/96 \r",
        "HERE OPTIM\t\n",
        "BEFORE FORWARD\t\n",
        "1\t\n"
       ]
      },
      {
       "metadata": {},
       "output_type": "pyout",
       "prompt_number": 413,
       "text": [
        "AFTER FORWARD\t\n",
        "NEO\t\n"
       ]
      },
      {
       "metadata": {},
       "output_type": "pyout",
       "prompt_number": 413,
       "text": [
        " 4.4261\n",
        " 5.5741\n",
        "[torch.FloatTensor of dimension 2]\n",
        "\n",
        "2\t\n",
        "BLAH\t\n",
        " ** On entry to SGEMM  parameter number 10 had an illegal value\n"
       ]
      },
      {
       "metadata": {},
       "output_type": "pyout",
       "prompt_number": 413,
       "text": [
        " ** On entry to SGEMM  parameter number 10 had an illegal value\n"
       ]
      },
      {
       "metadata": {},
       "output_type": "pyout",
       "prompt_number": 413,
       "text": [
        "\r",
        " [=========================================================>...................]                                                   \b\b\b\b\b\b\b\b\b\b\b\b\b\b\b\b\b\b\b\b\b\b\b\b\b\b\b\b\b\b\b\b\b\b\b\b\b\b\b\b\b\b\b\b\b\b\b\b\b\bETA: 3s438ms | Step: 149ms\b\b\b\b\b\b\b\b\b\b\b\b\b\b\b\b\b\b\b\b\b\b\b\b\b\b\b\b\b\b\b\b\b\b\b\b\b\b\b\b\b\b\b\b\b\b\b\b\b\b\b\b\b\b\b\b\b\b\b\b\b\b\b\b\b\b\b\b\b\b\b\b\b 73/96 \r",
        "HERE OPTIM\t\n",
        "BEFORE FORWARD\t\n",
        "1\t\n"
       ]
      },
      {
       "metadata": {},
       "output_type": "pyout",
       "prompt_number": 413,
       "text": [
        "AFTER FORWARD\t\n",
        "NEO\t\n",
        " 4.3818\n",
        " 5.6184\n",
        "[torch.FloatTensor of dimension 2]\n",
        "\n",
        "1\t\n",
        "BLAH\t\n",
        " ** On entry to SGEMM  parameter number 10 had an illegal value\n"
       ]
      },
      {
       "metadata": {},
       "output_type": "pyout",
       "prompt_number": 413,
       "text": [
        " ** On entry to SGEMM  parameter number 10 had an illegal value\n"
       ]
      },
      {
       "metadata": {},
       "output_type": "pyout",
       "prompt_number": 413,
       "text": [
        "\r",
        " [==========================================================>..................]                                                   \b\b\b\b\b\b\b\b\b\b\b\b\b\b\b\b\b\b\b\b\b\b\b\b\b\b\b\b\b\b\b\b\b\b\b\b\b\b\b\b\b\b\b\b\b\b\b\b\b\bETA: 3s249ms | Step: 147ms\b\b\b\b\b\b\b\b\b\b\b\b\b\b\b\b\b\b\b\b\b\b\b\b\b\b\b\b\b\b\b\b\b\b\b\b\b\b\b\b\b\b\b\b\b\b\b\b\b\b\b\b\b\b\b\b\b\b\b\b\b\b\b\b\b\b\b\b\b\b\b\b\b 74/96 \r",
        "HERE OPTIM\t\n",
        "BEFORE FORWARD\t\n",
        "1\t\n"
       ]
      },
      {
       "metadata": {},
       "output_type": "pyout",
       "prompt_number": 413,
       "text": [
        "AFTER FORWARD\t\n",
        "NEO\t\n",
        " 4.4370\n",
        " 5.5632\n",
        "[torch.FloatTensor of dimension 2]\n",
        "\n",
        "1\t\n",
        "BLAH\t\n",
        " ** On entry to SGEMM  parameter number 10 had an illegal value\n"
       ]
      },
      {
       "metadata": {},
       "output_type": "pyout",
       "prompt_number": 413,
       "text": [
        " ** On entry to SGEMM  parameter number 10 had an illegal value\n"
       ]
      },
      {
       "metadata": {},
       "output_type": "pyout",
       "prompt_number": 413,
       "text": [
        "\r",
        " [===========================================================>.................]                                                   \b\b\b\b\b\b\b\b\b\b\b\b\b\b\b\b\b\b\b\b\b\b\b\b\b\b\b\b\b\b\b\b\b\b\b\b\b\b\b\b\b\b\b\b\b\b\b\b\b\bETA: 3s62ms | Step: 145ms\b\b\b\b\b\b\b\b\b\b\b\b\b\b\b\b\b\b\b\b\b\b\b\b\b\b\b\b"
       ]
      },
      {
       "metadata": {},
       "output_type": "pyout",
       "prompt_number": 413,
       "text": [
        "\b\b\b\b\b\b\b\b\b\b\b\b\b\b\b\b\b\b\b\b\b\b\b\b\b\b\b\b\b\b\b\b\b\b\b\b\b\b\b\b\b\b\b\b 75/96 \r",
        "HERE OPTIM\t\n",
        "BEFORE FORWARD\t\n",
        "1\t\n"
       ]
      },
      {
       "metadata": {},
       "output_type": "pyout",
       "prompt_number": 413,
       "text": [
        "AFTER FORWARD\t\n",
        "NEO\t\n",
        " 4.4926\n",
        " 5.5076\n",
        "[torch.FloatTensor of dimension 2]\n",
        "\n",
        "2\t\n",
        "BLAH\t\n"
       ]
      },
      {
       "metadata": {},
       "output_type": "pyout",
       "prompt_number": 413,
       "text": [
        " ** On entry to SGEMM  parameter number 10 had an illegal value\n"
       ]
      },
      {
       "metadata": {},
       "output_type": "pyout",
       "prompt_number": 413,
       "text": [
        " ** On entry to SGEMM  parameter number 10 had an illegal value\n"
       ]
      },
      {
       "metadata": {},
       "output_type": "pyout",
       "prompt_number": 413,
       "text": [
        "\r",
        " [===========================================================>.................]                                                   \b\b\b\b\b\b\b\b\b\b\b\b\b\b\b\b\b\b\b\b\b\b\b\b\b\b\b\b\b\b\b\b\b\b\b\b\b\b\b\b\b\b\b\b\b\b\b\b\b\bETA: 3s12ms | Step: 150ms\b\b\b\b\b\b\b\b\b\b\b\b\b\b\b\b\b\b\b\b\b\b\b\b\b\b\b\b\b\b\b\b\b\b\b\b\b\b\b\b\b\b\b\b\b\b\b\b\b\b\b\b\b\b\b\b\b\b\b\b\b\b\b\b\b\b\b\b\b\b\b\b 76/96 \r",
        "HERE OPTIM\t\n",
        "BEFORE FORWARD\t\n",
        "1\t\n"
       ]
      },
      {
       "metadata": {},
       "output_type": "pyout",
       "prompt_number": 413,
       "text": [
        "AFTER FORWARD\t\n",
        "NEO\t\n",
        " 4.4487\n",
        " 5.5515\n",
        "[torch.FloatTensor of dimension 2]\n",
        "\n",
        "2\t\n",
        "BLAH\t\n"
       ]
      },
      {
       "metadata": {},
       "output_type": "pyout",
       "prompt_number": 413,
       "text": [
        " ** On entry to SGEMM  parameter number 10 had an illegal value\n"
       ]
      },
      {
       "metadata": {},
       "output_type": "pyout",
       "prompt_number": 413,
       "text": [
        " ** On entry to SGEMM  parameter number 10 had an illegal value\n"
       ]
      },
      {
       "metadata": {},
       "output_type": "pyout",
       "prompt_number": 413,
       "text": [
        "\r",
        " [============================================================>................]                                                   \b\b\b\b\b\b\b\b\b\b\b\b\b\b\b\b\b\b\b\b\b\b\b\b\b\b\b\b\b\b\b\b\b\b\b\b\b\b\b\b\b\b\b\b\b\b\b\b\b\bETA: 2s908ms | Step: 153ms\b\b\b\b\b\b\b\b\b\b\b\b\b\b\b\b\b\b\b\b\b\b\b\b\b\b\b\b\b\b\b\b\b\b\b\b\b\b\b\b\b\b\b\b\b\b\b\b\b\b\b\b\b\b\b\b\b\b\b\b\b\b\b\b\b\b\b\b\b\b\b\b\b 77/96 \r",
        "HERE OPTIM\t\n",
        "BEFORE FORWARD\t\n",
        "1\t\n"
       ]
      },
      {
       "metadata": {},
       "output_type": "pyout",
       "prompt_number": 413,
       "text": [
        "AFTER FORWARD\t\n",
        "NEO\t\n",
        " 4.4042\n",
        " 5.5960\n",
        "[torch.FloatTensor of dimension 2]\n",
        "\n",
        "1\t\n",
        "BLAH\t\n",
        " ** On entry to SGEMM  parameter number 10 had an illegal value\n"
       ]
      },
      {
       "metadata": {},
       "output_type": "pyout",
       "prompt_number": 413,
       "text": [
        " ** On entry to SGEMM  parameter number 10 had an illegal value\n"
       ]
      },
      {
       "metadata": {},
       "output_type": "pyout",
       "prompt_number": 413,
       "text": [
        "\r",
        " [=============================================================>...............]                                                   \b\b\b\b\b\b\b\b\b\b\b\b\b\b\b\b\b\b\b\b\b\b\b\b\b\b\b\b\b\b\b\b\b\b\b\b\b\b\b\b\b\b\b\b\b\b\b\b\b\bETA: 2s722ms | Step: 151ms\b\b\b\b\b\b\b\b\b\b\b\b\b\b\b\b\b\b\b\b\b\b\b\b\b\b\b\b\b\b\b\b\b\b\b\b\b\b\b\b\b\b\b\b\b\b\b\b\b\b\b\b\b\b\b\b\b\b\b\b\b\b\b\b\b\b\b\b\b\b\b\b\b 78/96 \r",
        "HERE OPTIM\t\n",
        "BEFORE FORWARD\t\n",
        "1\t\n"
       ]
      },
      {
       "metadata": {},
       "output_type": "pyout",
       "prompt_number": 413,
       "text": [
        "AFTER FORWARD\t\n",
        "NEO\t\n",
        " 4.4592\n",
        " 5.5411\n",
        "[torch.FloatTensor of dimension 2]\n",
        "\n",
        "1\t\n",
        "BLAH\t\n",
        " ** On entry to SGEMM  parameter number 10 had an illegal value\n"
       ]
      },
      {
       "metadata": {},
       "output_type": "pyout",
       "prompt_number": 413,
       "text": [
        " ** On entry to SGEMM  parameter number 10 had an illegal value\n"
       ]
      },
      {
       "metadata": {},
       "output_type": "pyout",
       "prompt_number": 413,
       "text": [
        "\r",
        " [==============================================================>..............]                                                   \b\b\b\b\b\b\b\b\b\b\b\b\b\b\b\b\b\b\b\b\b\b\b\b\b\b\b\b\b\b\b\b\b\b\b\b\b\b\b\b\b\b\b\b\b\b\b\b\b\bETA: 2s539ms | Step: 149ms\b\b\b\b\b\b\b\b\b\b\b\b\b\b\b\b\b\b\b\b\b\b\b\b\b\b\b\b\b\b\b\b\b\b\b\b\b\b\b\b\b\b\b\b\b\b\b\b\b\b\b\b\b\b\b\b\b\b\b\b\b\b\b\b\b\b\b\b\b\b\b\b\b 79/96 \r",
        "HERE OPTIM\t\n",
        "BEFORE FORWARD\t\n",
        "1\t\n"
       ]
      },
      {
       "metadata": {},
       "output_type": "pyout",
       "prompt_number": 413,
       "text": [
        "AFTER FORWARD\t\n",
        "NEO\t\n",
        " 4.5146\n",
        " 5.4857\n",
        "[torch.FloatTensor of dimension 2]\n",
        "\n",
        "2\t\n",
        "BLAH\t\n",
        " ** On entry to SGEMM  parameter number 10 had an illegal value\n"
       ]
      },
      {
       "metadata": {},
       "output_type": "pyout",
       "prompt_number": 413,
       "text": [
        " ** On entry to SGEMM  parameter number 10 had an illegal value\n"
       ]
      },
      {
       "metadata": {},
       "output_type": "pyout",
       "prompt_number": 413,
       "text": [
        "\r",
        " [===============================================================>.............]                                                   \b\b\b\b\b\b\b\b\b\b\b\b\b\b\b\b\b\b\b\b\b\b\b\b\b\b\b\b\b\b\b\b\b\b\b\b\b\b\b\b\b\b\b\b\b\b\b\b\b\bETA: 2s367ms | Step: 147ms\b\b\b\b\b\b\b\b\b\b\b\b\b\b\b\b\b\b\b\b\b\b\b\b\b\b\b\b\b\b\b\b\b\b\b\b\b\b\b\b\b\b\b\b\b\b\b\b\b\b\b\b\b\b\b\b\b\b\b\b\b\b\b\b\b\b\b\b\b\b\b\b\b 80/96 \r",
        "HERE OPTIM\t\n",
        "BEFORE FORWARD\t\n",
        "1\t\n"
       ]
      },
      {
       "metadata": {},
       "output_type": "pyout",
       "prompt_number": 413,
       "text": [
        "AFTER FORWARD\t\n",
        "NEO\t\n",
        " 4.4704\n",
        " 5.5298\n",
        "[torch.FloatTensor of dimension 2]\n",
        "\n",
        "2\t\n",
        "BLAH\t\n"
       ]
      },
      {
       "metadata": {},
       "output_type": "pyout",
       "prompt_number": 413,
       "text": [
        " ** On entry to SGEMM  parameter number 10 had an illegal value\n"
       ]
      },
      {
       "metadata": {},
       "output_type": "pyout",
       "prompt_number": 413,
       "text": [
        " ** On entry to SGEMM  parameter number 10 had an illegal value\n"
       ]
      },
      {
       "metadata": {},
       "output_type": "pyout",
       "prompt_number": 413,
       "text": [
        "\r",
        " [===============================================================>.............]                                                   \b\b\b\b\b\b\b\b\b\b\b\b\b\b\b\b\b\b\b\b\b\b\b\b\b\b\b\b\b\b\b\b\b\b\b\b\b\b\b\b\b\b\b\b\b\b\b\b\b\bETA: 2s212ms | Step: 147ms\b\b\b\b\b\b\b\b\b\b\b\b\b\b\b\b\b\b\b\b\b\b\b\b\b\b\b\b\b\b\b\b\b\b\b\b\b\b\b\b\b\b\b\b\b\b\b\b\b\b\b\b\b\b\b\b\b\b\b\b\b\b\b\b\b\b\b\b\b\b\b\b\b 81/96 \r"
       ]
      },
      {
       "metadata": {},
       "output_type": "pyout",
       "prompt_number": 413,
       "text": [
        "HERE OPTIM\t\n",
        "BEFORE FORWARD\t\n",
        "1\t\n"
       ]
      },
      {
       "metadata": {},
       "output_type": "pyout",
       "prompt_number": 413,
       "text": [
        "AFTER FORWARD\t\n",
        "NEO\t\n",
        " 4.4257\n",
        " 5.5745\n",
        "[torch.FloatTensor of dimension 2]\n",
        "\n",
        "2\t\n",
        "BLAH\t\n"
       ]
      },
      {
       "metadata": {},
       "output_type": "pyout",
       "prompt_number": 413,
       "text": [
        " ** On entry to SGEMM  parameter number 10 had an illegal value\n"
       ]
      },
      {
       "metadata": {},
       "output_type": "pyout",
       "prompt_number": 413,
       "text": [
        " ** On entry to SGEMM  parameter number 10 had an illegal value\n"
       ]
      },
      {
       "metadata": {},
       "output_type": "pyout",
       "prompt_number": 413,
       "text": [
        "\r",
        " [================================================================>............]                                                   \b\b\b\b\b\b\b\b\b\b\b\b\b\b\b\b\b\b\b\b\b\b\b\b\b\b\b\b\b\b\b\b\b\b\b\b\b\b\b\b\b\b\b\b\b\b\b\b\b\bETA: 2s76ms | Step: 148ms\b\b\b\b\b\b\b\b\b\b\b\b\b\b\b\b\b\b\b\b\b\b\b\b\b\b\b\b\b\b\b\b\b\b\b\b\b\b\b\b\b\b\b\b\b\b\b\b\b\b\b\b\b\b\b\b\b\b\b\b\b\b\b\b\b\b\b\b\b\b\b\b 82/96 \r",
        "HERE OPTIM\t\n"
       ]
      },
      {
       "metadata": {},
       "output_type": "pyout",
       "prompt_number": 413,
       "text": [
        "BEFORE FORWARD\t\n",
        "1\t\n"
       ]
      },
      {
       "metadata": {},
       "output_type": "pyout",
       "prompt_number": 413,
       "text": [
        "AFTER FORWARD\t\n",
        "NEO\t\n",
        " 4.3815\n",
        " 5.6188\n",
        "[torch.FloatTensor of dimension 2]\n",
        "\n",
        "2\t\n",
        "BLAH\t\n"
       ]
      },
      {
       "metadata": {},
       "output_type": "pyout",
       "prompt_number": 413,
       "text": [
        " ** On entry to SGEMM  parameter number 10 had an illegal value\n"
       ]
      },
      {
       "metadata": {},
       "output_type": "pyout",
       "prompt_number": 413,
       "text": [
        " ** On entry to SGEMM  parameter number 10 had an illegal value\n"
       ]
      },
      {
       "metadata": {},
       "output_type": "pyout",
       "prompt_number": 413,
       "text": [
        "\r",
        " [=================================================================>...........]                                                   \b\b\b\b\b\b\b\b\b\b\b\b\b\b\b\b\b\b\b\b\b\b\b\b\b\b\b\b\b\b\b\b\b\b\b\b\b\b\b\b\b\b\b\b\b\b\b\b\b\bETA: 1s918ms | Step: 147ms\b\b\b\b\b\b\b\b\b\b\b\b\b\b\b\b\b\b\b\b\b\b\b\b\b\b\b\b\b\b\b\b\b\b\b\b\b\b\b\b\b\b\b\b\b\b\b\b\b\b\b\b\b\b\b\b\b\b\b\b\b\b\b\b\b\b\b\b\b\b\b\b\b 83/96 \r",
        "HERE OPTIM\t\n",
        "BEFORE FORWARD\t\n",
        "1\t\n"
       ]
      },
      {
       "metadata": {},
       "output_type": "pyout",
       "prompt_number": 413,
       "text": [
        "AFTER FORWARD\t\n",
        "NEO\t\n",
        " 4.3377\n",
        " 5.6626\n",
        "[torch.FloatTensor of dimension 2]\n",
        "\n",
        "1\t\n",
        "BLAH\t\n",
        " ** On entry to SGEMM  parameter number 10 had an illegal value\n"
       ]
      },
      {
       "metadata": {},
       "output_type": "pyout",
       "prompt_number": 413,
       "text": [
        " ** On entry to SGEMM  parameter number 10 had an illegal value\n"
       ]
      },
      {
       "metadata": {},
       "output_type": "pyout",
       "prompt_number": 413,
       "text": [
        "\r",
        " [==================================================================>..........]                                                   \b\b\b\b\b\b\b\b\b\b\b\b\b\b\b\b\b\b\b\b\b\b\b\b\b\b\b\b\b\b\b\b\b\b\b\b\b\b\b\b\b\b\b\b\b\b\b\b\b\b"
       ]
      },
      {
       "metadata": {},
       "output_type": "pyout",
       "prompt_number": 413,
       "text": [
        "ETA: 1s751ms | Step: 145ms\b\b\b\b\b\b\b\b\b\b\b\b\b\b\b\b\b\b\b\b\b\b\b\b\b\b\b\b\b\b\b\b\b\b\b\b\b\b\b\b\b\b\b\b\b\b\b\b\b\b\b\b\b\b\b\b\b\b\b\b\b\b\b\b\b\b\b\b\b\b\b\b\b 84/96 \r",
        "HERE OPTIM\t\n",
        "BEFORE FORWARD\t\n",
        "1\t\n"
       ]
      },
      {
       "metadata": {},
       "output_type": "pyout",
       "prompt_number": 413,
       "text": [
        "AFTER FORWARD\t\n",
        "NEO\t\n",
        " 4.3933\n",
        " 5.6069\n",
        "[torch.FloatTensor of dimension 2]\n",
        "\n",
        "1\t\n",
        "BLAH\t\n",
        " ** On entry to SGEMM  parameter number 10 had an illegal value\n"
       ]
      },
      {
       "metadata": {},
       "output_type": "pyout",
       "prompt_number": 413,
       "text": [
        " ** On entry to SGEMM  parameter number 10 had an illegal value\n"
       ]
      },
      {
       "metadata": {},
       "output_type": "pyout",
       "prompt_number": 413,
       "text": [
        "\r",
        " [===================================================================>.........]                                                   \b\b\b\b\b\b\b\b\b\b\b\b\b\b\b\b\b\b\b\b\b\b\b\b\b\b\b\b\b\b\b\b\b\b\b\b\b\b\b\b\b\b\b\b\b\b\b\b\b\bETA: 1s588ms | Step: 144ms\b\b\b\b\b\b\b\b\b\b\b\b\b\b\b\b\b\b\b\b\b\b\b\b\b\b\b\b\b\b\b\b\b\b\b\b\b\b\b\b\b\b\b\b\b\b\b\b\b\b\b\b\b\b\b\b\b\b\b\b\b\b\b\b\b\b\b\b\b\b\b\b\b 85/96 \r",
        "HERE OPTIM\t\n",
        "BEFORE FORWARD\t\n",
        "1\t\n"
       ]
      },
      {
       "metadata": {},
       "output_type": "pyout",
       "prompt_number": 413,
       "text": [
        "AFTER FORWARD\t\n",
        "NEO\t\n",
        " 4.4493\n",
        " 5.5509\n",
        "[torch.FloatTensor of dimension 2]\n",
        "\n",
        "2\t\n",
        "BLAH\t\n",
        " ** On entry to SGEMM  parameter number 10 had an illegal value\n"
       ]
      },
      {
       "metadata": {},
       "output_type": "pyout",
       "prompt_number": 413,
       "text": [
        " ** On entry to SGEMM  parameter number 10 had an illegal value\n"
       ]
      },
      {
       "metadata": {},
       "output_type": "pyout",
       "prompt_number": 413,
       "text": [
        "\r",
        " [=================================="
       ]
      },
      {
       "metadata": {},
       "output_type": "pyout",
       "prompt_number": 413,
       "text": [
        "=================================>.........]                                                   \b\b\b\b\b\b\b\b\b\b\b\b\b\b\b\b\b\b\b\b\b\b\b\b\b\b\b\b\b\b\b\b\b\b\b\b\b\b\b\b\b\b\b\b\b\b\b\b\b\bETA: 1s431ms | Step: 143ms\b\b\b\b\b\b\b\b\b\b\b\b\b\b\b\b\b\b\b\b\b\b\b\b\b\b\b\b\b\b\b\b\b\b\b\b\b\b\b\b\b\b\b\b\b\b\b\b\b\b\b\b\b\b\b\b\b\b\b\b\b\b\b\b\b\b\b\b\b\b\b\b\b 86/96 \r",
        "HERE OPTIM\t\n",
        "BEFORE FORWARD\t\n",
        "1\t\n"
       ]
      },
      {
       "metadata": {},
       "output_type": "pyout",
       "prompt_number": 413,
       "text": [
        "AFTER FORWARD\t\n",
        "NEO\t\n",
        " 4.4059\n",
        " 5.5944\n",
        "[torch.FloatTensor of dimension 2]\n",
        "\n",
        "1\t\n",
        "BLAH\t\n",
        " ** On entry to SGEMM  parameter number 10 had an illegal value\n"
       ]
      },
      {
       "metadata": {},
       "output_type": "pyout",
       "prompt_number": 413,
       "text": [
        " ** On entry to SGEMM  parameter number 10 had an illegal value\n"
       ]
      },
      {
       "metadata": {},
       "output_type": "pyout",
       "prompt_number": 413,
       "text": [
        "\r",
        " [====================================================================>........]                                                   \b\b\b\b\b\b\b\b\b\b\b\b\b\b\b\b\b\b\b\b\b\b\b\b\b\b\b\b\b\b\b\b\b\b\b\b\b\b\b\b\b\b\b\b\b\b\b\b\b\bETA: 1s274ms | Step: 141ms\b\b\b\b\b\b\b\b\b\b\b\b\b\b\b\b\b\b\b\b\b\b\b\b\b\b\b\b\b\b\b\b\b\b\b\b\b\b\b\b\b\b\b\b\b\b\b\b\b\b\b\b\b\b\b\b\b\b\b\b\b\b\b\b\b\b\b\b\b\b\b\b\b 87/96 \r",
        "HERE OPTIM\t\n",
        "BEFORE FORWARD\t\n",
        "1\t\n"
       ]
      },
      {
       "metadata": {},
       "output_type": "pyout",
       "prompt_number": 413,
       "text": [
        "AFTER FORWARD\t\n",
        "NEO\t\n",
        " 4.4608\n",
        " 5.5394\n",
        "[torch.FloatTensor of dimension 2]\n",
        "\n",
        "1\t\n",
        "BLAH\t\n",
        " ** On entry to SGEMM  parameter number 10 had an illegal value\n"
       ]
      },
      {
       "metadata": {},
       "output_type": "pyout",
       "prompt_number": 413,
       "text": [
        " ** On entry to SGEMM  parameter number 10 had an illegal value\n"
       ]
      },
      {
       "metadata": {},
       "output_type": "pyout",
       "prompt_number": 413,
       "text": [
        "\r",
        " [=====================================================================>.......]                                                   \b\b\b\b\b\b\b\b\b\b\b\b\b\b\b\b\b\b\b\b\b\b\b\b\b\b\b\b\b\b\b\b\b\b\b\b\b\b\b\b\b\b\b\b\b\b\b\b\b\bETA: 1s120ms | Step: 140ms\b\b\b\b\b\b\b\b\b\b\b\b\b\b\b\b\b\b\b\b\b\b\b\b\b\b\b\b\b\b\b\b\b\b\b\b\b\b\b\b\b\b\b\b\b\b\b\b\b\b\b\b\b\b\b\b\b\b\b\b\b\b\b\b\b\b\b\b\b\b\b\b\b 88/96 \r",
        "HERE OPTIM\t\n",
        "BEFORE FORWARD\t\n",
        "1\t\n"
       ]
      },
      {
       "metadata": {},
       "output_type": "pyout",
       "prompt_number": 413,
       "text": [
        "AFTER FORWARD\t\n",
        "NEO\t\n",
        " 4.5162\n",
        " 5.4840\n",
        "[torch.FloatTensor of dimension 2]\n",
        "\n",
        "2\t\n",
        "BLAH\t\n",
        " ** On entry to SGEMM  parameter number 10 had an illegal value\n"
       ]
      },
      {
       "metadata": {},
       "output_type": "pyout",
       "prompt_number": 413,
       "text": [
        " ** On entry to SGEMM  parameter number 10 had an illegal value\n"
       ]
      },
      {
       "metadata": {},
       "output_type": "pyout",
       "prompt_number": 413,
       "text": [
        "\r",
        " [======================================================================>......]                                                   \b\b\b\b\b\b\b\b\b\b\b\b\b\b\b\b\b\b\b\b\b\b\b\b\b\b\b\b\b\b\b\b\b\b\b\b\b\b\b\b\b\b\b\b\b\b\b\b\b\bETA: 973ms | Step: 139ms\b\b\b\b\b\b\b\b\b\b\b\b\b\b\b\b\b\b\b\b\b\b\b\b\b\b\b\b\b\b\b\b\b\b\b\b\b\b\b\b\b\b\b\b\b\b\b\b\b\b\b\b\b\b\b\b\b\b\b\b\b\b\b\b\b\b\b\b\b\b\b 89/96 \r",
        "HERE OPTIM\t\n",
        "BEFORE FORWARD\t\n",
        "1\t\n"
       ]
      },
      {
       "metadata": {},
       "output_type": "pyout",
       "prompt_number": 413,
       "text": [
        "AFTER FORWARD\t\n",
        "NEO\t\n",
        " 4.4720\n",
        " 5.5282\n",
        "[torch.FloatTensor of dimension 2]\n",
        "\n",
        "1\t\n",
        "BLAH\t\n",
        " ** On entry to SGEMM  parameter number 10 had an illegal value\n"
       ]
      },
      {
       "metadata": {},
       "output_type": "pyout",
       "prompt_number": 413,
       "text": [
        " ** On entry to SGEMM  parameter number 10 had an illegal value\n"
       ]
      },
      {
       "metadata": {},
       "output_type": "pyout",
       "prompt_number": 413,
       "text": [
        "\r",
        " [=======================================================================>.....]                                                   \b\b\b\b\b\b\b\b\b\b\b\b\b\b\b\b\b\b\b\b\b\b\b\b\b\b\b\b\b\b\b\b\b\b\b\b\b\b\b\b\b\b\b\b\b\b\b\b\b\bETA: 825ms | Step: 137ms\b\b\b\b\b\b\b\b\b\b\b\b\b\b\b\b\b\b\b\b\b\b\b\b\b\b\b\b\b\b\b\b\b\b\b\b\b\b\b\b\b\b\b\b\b\b\b\b\b\b\b\b\b"
       ]
      },
      {
       "metadata": {},
       "output_type": "pyout",
       "prompt_number": 413,
       "text": [
        "\b\b\b\b\b\b\b\b\b\b\b\b\b\b\b\b\b\b 90/96 \r",
        "HERE OPTIM\t\n",
        "BEFORE FORWARD\t\n",
        "1\t\n"
       ]
      },
      {
       "metadata": {},
       "output_type": "pyout",
       "prompt_number": 413,
       "text": [
        "AFTER FORWARD\t\n",
        "NEO\t\n",
        " 4.5263\n",
        " 5.4739\n",
        "[torch.FloatTensor of dimension 2]\n",
        "\n",
        "1\t\n",
        "BLAH\t\n"
       ]
      },
      {
       "metadata": {},
       "output_type": "pyout",
       "prompt_number": 413,
       "text": [
        " ** On entry to SGEMM  parameter number 10 had an illegal value\n"
       ]
      },
      {
       "metadata": {},
       "output_type": "pyout",
       "prompt_number": 413,
       "text": [
        " ** On entry to SGEMM  parameter number 10 had an illegal value\n"
       ]
      },
      {
       "metadata": {},
       "output_type": "pyout",
       "prompt_number": 413,
       "text": [
        "\r",
        " [====================================================================="
       ]
      },
      {
       "metadata": {},
       "output_type": "pyout",
       "prompt_number": 413,
       "text": [
        "==>.....]                                                   \b\b\b\b\b\b\b\b\b\b\b\b\b\b\b\b\b\b\b\b\b\b\b\b\b\b\b\b\b\b\b\b\b\b\b\b\b\b\b\b\b\b\b\b\b\b\b\b\b\bETA: 680ms | Step: 136ms\b\b\b\b\b\b\b\b\b\b\b\b\b\b\b\b\b\b\b\b\b\b\b\b\b\b\b\b\b\b\b\b\b\b\b\b\b\b\b\b\b\b\b\b\b\b\b\b\b\b\b\b\b\b\b\b\b\b\b\b\b\b\b\b\b\b\b\b\b\b\b 91/96 \r",
        "HERE OPTIM\t\n",
        "BEFORE FORWARD\t\n",
        "1\t\n"
       ]
      },
      {
       "metadata": {},
       "output_type": "pyout",
       "prompt_number": 413,
       "text": [
        "AFTER FORWARD\t\n"
       ]
      },
      {
       "metadata": {},
       "output_type": "pyout",
       "prompt_number": 413,
       "text": [
        "NEO\t\n",
        " 4.5810\n",
        " 5.4192\n",
        "[torch.FloatTensor of dimension 2]\n",
        "\n",
        "1\t\n",
        "BLAH\t\n",
        " ** On entry to SGEMM  parameter number 10 had an illegal value\n"
       ]
      },
      {
       "metadata": {},
       "output_type": "pyout",
       "prompt_number": 413,
       "text": [
        " ** On entry to SGEMM  parameter number 10 had an illegal value\n"
       ]
      },
      {
       "metadata": {},
       "output_type": "pyout",
       "prompt_number": 413,
       "text": [
        "\r",
        " [========================================================================>....]                                                   \b\b\b\b\b\b\b\b\b\b\b\b\b\b\b\b\b\b\b\b\b\b\b\b\b\b\b\b\b\b\b\b\b\b\b\b\b\b\b\b\b\b\b\b\b\b\b\b\b\bETA: 539ms | Step: 134ms\b\b\b\b\b\b\b\b\b\b\b\b\b\b\b\b\b\b\b\b\b\b\b\b\b\b\b\b\b\b\b\b\b\b\b\b\b\b\b\b\b\b\b\b\b\b\b\b\b\b\b\b\b\b\b\b\b\b\b\b\b\b\b\b\b\b\b\b\b\b\b 92/96 \r",
        "HERE OPTIM\t\n",
        "BEFORE FORWARD\t\n",
        "1\t\n"
       ]
      },
      {
       "metadata": {},
       "output_type": "pyout",
       "prompt_number": 413,
       "text": [
        "AFTER FORWARD\t\n",
        "NEO\t\n",
        " 4.6352\n",
        " 5.3650\n",
        "[torch.FloatTensor of dimension 2]\n",
        "\n",
        "1\t\n",
        "BLAH\t\n",
        " ** On entry to SGEMM  parameter number 10 had an illegal value\n"
       ]
      },
      {
       "metadata": {},
       "output_type": "pyout",
       "prompt_number": 413,
       "text": [
        " ** On entry to SGEMM  parameter number 10 had an illegal value\n",
        "\r",
        " [=========================================================================>...]       "
       ]
      },
      {
       "metadata": {},
       "output_type": "pyout",
       "prompt_number": 413,
       "text": [
        "                                            \b\b\b\b\b\b\b\b\b\b\b\b\b\b\b\b\b\b\b\b\b\b\b\b\b\b\b\b\b\b\b\b\b\b\b\b\b\b\b\b\b\b\b\b\b\b\b\b\b\bETA: 400ms | Step: 133ms\b\b\b\b\b\b\b\b\b\b\b\b\b\b\b\b\b\b\b\b\b\b\b\b\b\b\b\b\b\b\b\b\b\b\b\b\b\b\b\b\b\b\b\b\b\b\b\b\b\b\b\b\b\b\b\b\b\b\b\b\b\b\b\b\b\b\b\b\b\b\b 93/96 \r",
        "HERE OPTIM\t\n",
        "BEFORE FORWARD\t\n",
        "1\t\n"
       ]
      },
      {
       "metadata": {},
       "output_type": "pyout",
       "prompt_number": 413,
       "text": [
        "AFTER FORWARD\t\n",
        "NEO\t\n",
        " 4.6889\n",
        " 5.3113\n",
        "[torch.FloatTensor of dimension 2]\n",
        "\n",
        "1\t\n",
        "BLAH\t\n",
        " ** On entry to SGEMM  parameter number 10 had an illegal value\n"
       ]
      },
      {
       "metadata": {},
       "output_type": "pyout",
       "prompt_number": 413,
       "text": [
        " ** On entry to SGEMM  parameter number 10 had an illegal value\n",
        "\r",
        " [==========================================================================>..]                                                   \b\b\b\b\b\b\b\b\b\b\b\b\b\b\b\b\b\b\b\b\b\b\b\b\b\b\b\b\b\b\b\b\b\b\b\b\b\b\b\b\b\b\b\b\b\b\b\b\b\bETA: 264ms | Step: 132ms\b\b\b\b\b\b\b\b\b\b\b\b\b\b\b\b\b\b\b\b\b\b\b\b\b\b\b\b\b\b\b\b\b\b\b\b\b\b\b\b\b\b\b\b\b\b\b\b\b\b\b\b\b\b\b\b\b\b\b\b\b\b\b\b\b\b\b\b\b\b\b 94/96 \r",
        "HERE OPTIM\t\n",
        "BEFORE FORWARD\t\n",
        "1\t\n"
       ]
      },
      {
       "metadata": {},
       "output_type": "pyout",
       "prompt_number": 413,
       "text": [
        "AFTER FORWARD\t\n",
        "NEO\t\n",
        " 4.7420\n",
        " 5.2582\n",
        "[torch.FloatTensor of dimension 2]\n",
        "\n",
        "1\t\n",
        "BLAH\t\n",
        " ** On entry to SGEMM  parameter number 10 had an illegal value\n"
       ]
      },
      {
       "metadata": {},
       "output_type": "pyout",
       "prompt_number": 413,
       "text": [
        " ** On entry to SGEMM  parameter number 10 had an illegal value\n"
       ]
      },
      {
       "metadata": {},
       "output_type": "pyout",
       "prompt_number": 413,
       "text": [
        "\r",
        " [===========================================================================>.]                                                   \b\b\b\b\b\b\b\b\b\b\b\b\b\b\b\b\b\b\b\b\b\b\b\b\b\b\b\b\b\b\b\b\b\b\b\b\b\b\b\b\b\b\b\b\b\b\b\b\b\bETA: 130ms | Step: 130ms\b\b\b\b\b\b\b\b\b\b\b\b\b\b\b\b\b\b\b\b\b\b\b\b\b\b\b\b\b\b\b\b\b\b\b\b\b\b\b\b\b\b\b\b\b\b\b\b\b\b\b\b\b\b\b\b\b\b\b\b\b\b\b\b\b\b\b\b\b\b\b 95/96 \r",
        "HERE OPTIM\t\n",
        "BEFORE FORWARD\t\n",
        "1\t\n"
       ]
      },
      {
       "metadata": {},
       "output_type": "pyout",
       "prompt_number": 413,
       "text": [
        "AFTER FORWARD\t\n",
        "NEO\t\n",
        " 4.7946\n",
        " 5.2056\n",
        "[torch.FloatTensor of dimension 2]\n",
        "\n",
        "2\t\n",
        "BLAH\t\n",
        " ** On entry to SGEMM  parameter number 10 had an illegal value\n"
       ]
      },
      {
       "metadata": {},
       "output_type": "pyout",
       "prompt_number": 413,
       "text": [
        " ** On entry to SGEMM  parameter number 10 had an illegal value\n"
       ]
      },
      {
       "metadata": {},
       "output_type": "pyout",
       "prompt_number": 413,
       "text": [
        "\r",
        " [============================================================================>]                                                   \b\b\b\b\b\b\b\b\b\b\b\b\b\b\b\b\b\b\b\b\b"
       ]
      },
      {
       "metadata": {},
       "output_type": "pyout",
       "prompt_number": 413,
       "text": [
        "\b\b\b\b\b\b\b\b\b\b\b\b\b\b\b\b\b\b\b\b\b\b\b\b\b\b\b\b\bETA: 0ms | Step: 129ms\b\b\b\b\b\b\b\b\b\b\b\b\b\b\b\b\b\b\b\b\b\b\b\b\b\b\b\b\b\b\b\b\b\b\b\b\b\b\b\b\b\b\b\b\b\b\b\b\b\b\b\b\b\b\b\b\b\b\b\b\b\b\b\b\b\b\b\b\b 96/96 \n",
        "\r",
        "HERE OPTIM\t\n",
        "BEFORE FORWARD\t\n",
        "1\t\n"
       ]
      },
      {
       "metadata": {},
       "output_type": "pyout",
       "prompt_number": 413,
       "text": [
        "AFTER FORWARD\t\n",
        "NEO\t\n",
        " 4.7477\n",
        " 5.2526\n",
        "[torch.FloatTensor of dimension 2]\n",
        "\n",
        "2\t\n",
        "BLAH\t\n"
       ]
      },
      {
       "metadata": {},
       "output_type": "pyout",
       "prompt_number": 413,
       "text": [
        " ** On entry to SGEMM  parameter number 10 had an illegal value\n"
       ]
      },
      {
       "metadata": {},
       "output_type": "pyout",
       "prompt_number": 413,
       "text": [
        " ** On entry to SGEMM  parameter number 10 had an illegal value\n"
       ]
      },
      {
       "metadata": {},
       "output_type": "pyout",
       "prompt_number": 413,
       "text": [
        "\n",
        "==> time to learn 1 sample = 133.08017700911ms\t\n",
        "ConfusionMatrix:\n",
        "[[       0      44]   0.000% \t[class: Classical]\n",
        " [       0      52]]  100.000% \t[class: Jazz]\n",
        " + average row correct: 50% \n",
        " + average rowUcol correct (VOC measure): 27.083334326744% \n",
        " + global correct: 54.166666666667%\n",
        "{\n",
        "  averageUnionValid : 0.27083334326744\n",
        "  _targ_idx : LongTensor - empty\n",
        "  valids : FloatTensor - size: 2\n",
        "  classes : \n",
        "    {\n",
        "      1 : Classical\n",
        "      2 : Jazz\n",
        "    }\n",
        "  _target : FloatTensor - empty\n",
        "  mat : FloatTensor - size: 2x2\n",
        "  _pred_idx : LongTensor - size: 1\n",
        "  _max : FloatTensor - size: 1\n",
        "  unionvalids : FloatTensor - size: 2\n",
        "  nclasses : 2\n",
        "  totalValid : 0.54166666666667\n",
        "  _prediction : FloatTensor - size: 2\n",
        "  averageValid : 0.5\n",
        "}\n"
       ]
      },
      {
       "metadata": {},
       "output_type": "pyout",
       "prompt_number": 413,
       "text": [
        "==> saving model to /home/ace/Desktop/Recurrent-Neural-Net-Music-Classification/model.net\t\n"
       ]
      },
      {
       "metadata": {},
       "output_type": "pyout",
       "prompt_number": 413,
       "text": [
        "0\t\n",
        "==> doing epoch on training data:\t\n",
        "==> online epoch # 5 [batchSize = 64]\t\n",
        "96\t\n",
        " [.............................................................................]        "
       ]
      },
      {
       "metadata": {},
       "output_type": "pyout",
       "prompt_number": 413,
       "text": [
        "                                           \b\b\b\b\b\b\b\b\b\b\b\b\b\b\b\b\b\b\b\b\b\b\b\b\b\b\b\b\b\b\b\b\b\b\b\b\b\b\b\b\b\b\b\b\b\b\b\b\b\bETA: 0ms | Step: 0ms\b\b\b\b\b\b\b\b\b\b\b\b\b\b\b\b\b\b\b\b\b\b\b\b\b\b\b\b\b\b\b\b\b\b\b\b\b\b\b\b\b\b\b\b\b\b\b\b\b\b\b\b\b\b\b\b\b\b\b\b\b\b\b\b\b\b\b 1/96 \r",
        "HERE OPTIM\t\n",
        "BEFORE FORWARD\t\n",
        "1\t"
       ]
      },
      {
       "metadata": {},
       "output_type": "pyout",
       "prompt_number": 413,
       "text": [
        "\n"
       ]
      },
      {
       "metadata": {},
       "output_type": "pyout",
       "prompt_number": 413,
       "text": [
        "AFTER FORWARD\t\n",
        "NEO\t\n",
        " 4.7002\n",
        " 5.3001\n",
        "[torch.FloatTensor of dimension 2]\n",
        "\n",
        "2\t\n",
        "BLAH\t\n"
       ]
      },
      {
       "metadata": {},
       "output_type": "pyout",
       "prompt_number": 413,
       "text": [
        " ** On entry to SGEMM  parameter number 10 had an illegal value\n"
       ]
      },
      {
       "metadata": {},
       "output_type": "pyout",
       "prompt_number": 413,
       "text": [
        " ** On entry to SGEMM  parameter number 10 had an illegal value\n"
       ]
      },
      {
       "metadata": {},
       "output_type": "pyout",
       "prompt_number": 413,
       "text": [
        "\r",
        " [>............................................................................]                                                   \b\b\b\b\b\b\b\b\b\b\b\b\b\b\b\b\b\b\b\b\b\b\b\b\b\b\b\b\b\b\b\b\b\b\b\b\b\b\b\b\b\b\b\b\b\b\b\b\b\bETA: 13s431ms | Step: 142ms\b\b\b\b\b\b\b\b\b\b\b\b\b\b\b\b\b\b\b\b\b\b\b\b\b\b\b\b\b\b\b\b\b\b\b\b\b\b\b\b\b\b\b\b\b\b\b\b\b\b\b\b\b\b\b\b\b\b\b\b\b\b\b\b\b\b\b\b\b\b\b\b\b\b 2/96 \r",
        "HERE OPTIM\t\n",
        "BEFORE FORWARD\t\n",
        "1\t\n"
       ]
      },
      {
       "metadata": {},
       "output_type": "pyout",
       "prompt_number": 413,
       "text": [
        "AFTER FORWARD\t\n",
        "NEO\t\n",
        " 4.6532\n",
        " 5.3470\n",
        "[torch.FloatTensor of dimension 2]\n",
        "\n",
        "1\t\n",
        "BLAH\t\n",
        " ** On entry to SGEMM  parameter number 10 had an illegal value\n"
       ]
      },
      {
       "metadata": {},
       "output_type": "pyout",
       "prompt_number": 413,
       "text": [
        " ** On entry to SGEMM  parameter number 10 had an illegal value\n"
       ]
      },
      {
       "metadata": {},
       "output_type": "pyout",
       "prompt_number": 413,
       "text": [
        "\r",
        " [=>...........................................................................]                                                   \b\b\b\b\b\b\b\b\b\b\b\b\b\b\b\b\b\b\b\b\b\b\b\b\b\b\b\b\b\b\b\b\b\b\b\b\b\b\b\b\b\b\b\b\b\b\b\b\b\bETA: 7s15ms | Step: 75ms\b\b\b\b\b\b\b\b\b\b\b\b\b\b\b\b\b\b\b\b\b\b\b\b\b\b\b\b\b\b\b\b\b\b\b\b\b\b\b\b\b\b\b\b\b\b\b\b\b\b\b\b\b\b\b\b\b\b\b\b\b\b\b\b\b\b\b\b\b\b\b 3/96 \r",
        "HERE OPTIM\t\n",
        "BEFORE FORWARD\t\n",
        "1\t\n"
       ]
      },
      {
       "metadata": {},
       "output_type": "pyout",
       "prompt_number": 413,
       "text": [
        "AFTER FORWARD\t\n",
        "NEO\t\n",
        " 4.7056\n",
        " 5.2946\n",
        "[torch.FloatTensor of dimension 2]\n",
        "\n",
        "1\t\n",
        "BLAH\t\n",
        " ** On entry to SGEMM  parameter number 10 had an illegal value\n"
       ]
      },
      {
       "metadata": {},
       "output_type": "pyout",
       "prompt_number": 413,
       "text": [
        " ** On entry to SGEMM  parameter number 10 had an illegal value\n"
       ]
      },
      {
       "metadata": {},
       "output_type": "pyout",
       "prompt_number": 413,
       "text": [
        "\r",
        " [==>..........................................................................]      "
       ]
      },
      {
       "metadata": {},
       "output_type": "pyout",
       "prompt_number": 413,
       "text": [
        "                                             \b\b\b\b\b\b\b\b\b\b\b\b\b\b\b\b\b\b\b\b\b\b\b\b\b\b\b\b\b\b\b\b\b\b\b\b\b\b\b\b\b\b\b\b\b\b\b\b\b\bETA: 4s862ms | Step: 52ms\b\b\b\b\b\b\b\b\b\b\b\b\b\b\b\b\b\b\b\b\b\b\b\b\b\b\b\b\b\b\b\b\b\b\b\b\b\b\b\b\b\b\b\b\b\b\b\b\b\b\b\b\b\b\b\b\b\b\b\b\b\b\b\b\b\b\b\b\b\b\b\b 4/96 \r",
        "HERE OPTIM\t\n",
        "BEFORE FORWARD\t\n",
        "1\t\n"
       ]
      },
      {
       "metadata": {},
       "output_type": "pyout",
       "prompt_number": 413,
       "text": [
        "AFTER FORWARD\t\n",
        "NEO\t\n",
        " 4.7586\n",
        " 5.2416\n",
        "[torch.FloatTensor of dimension 2]\n",
        "\n",
        "2\t\n",
        "BLAH\t\n",
        " ** On entry to SGEMM  parameter number 10 had an illegal value\n"
       ]
      },
      {
       "metadata": {},
       "output_type": "pyout",
       "prompt_number": 413,
       "text": [
        " ** On entry to SGEMM  parameter number 10 had an illegal value\n"
       ]
      },
      {
       "metadata": {},
       "output_type": "pyout",
       "prompt_number": 413,
       "text": [
        "\r",
        " [===>.........................................................................]                                                   \b\b\b\b\b\b\b\b\b\b\b\b\b\b\b\b\b\b\b\b\b\b\b\b\b\b\b\b\b\b\b\b\b\b\b\b\b\b\b\b\b\b\b\b\b\b\b\b\b\bETA: 5s374ms | Step: 59ms\b\b\b\b\b\b\b\b\b\b\b\b\b\b\b\b\b\b\b\b\b\b\b\b\b\b\b\b\b\b\b\b\b\b\b\b\b\b\b\b\b\b\b\b\b\b\b\b\b\b\b\b\b\b\b\b\b\b\b\b\b\b\b\b\b\b\b\b\b\b\b\b 5/96 \r",
        "HERE OPTIM\t\n",
        "BEFORE FORWARD\t\n",
        "1\t\n"
       ]
      },
      {
       "metadata": {},
       "output_type": "pyout",
       "prompt_number": 413,
       "text": [
        "AFTER FORWARD\t\n",
        "NEO\t\n",
        " 4.7120\n",
        " 5.2882\n",
        "[torch.FloatTensor of dimension 2]\n",
        "\n",
        "1\t\n",
        "BLAH\t\n",
        " ** On entry to SGEMM  parameter number 10 had an illegal value\n"
       ]
      },
      {
       "metadata": {},
       "output_type": "pyout",
       "prompt_number": 413,
       "text": [
        " ** On entry to SGEMM  parameter number 10 had an illegal value\n"
       ]
      },
      {
       "metadata": {},
       "output_type": "pyout",
       "prompt_number": 413,
       "text": [
        "\r",
        " [===>..............................................."
       ]
      },
      {
       "metadata": {},
       "output_type": "pyout",
       "prompt_number": 413,
       "text": [
        "..........................]                                                   \b\b\b\b\b\b\b\b\b\b\b\b\b\b\b\b\b\b\b\b\b\b\b\b\b\b\b\b\b\b\b\b\b\b\b\b\b\b\b\b\b\b\b\b\b\b\b\b\b\bETA: 4s490ms | Step: 49ms\b\b\b\b\b\b\b\b\b\b\b\b\b\b\b\b\b\b\b\b\b\b\b\b\b\b\b\b\b\b\b\b\b\b\b\b\b\b\b\b\b\b\b\b\b\b\b\b\b\b\b\b\b\b\b\b\b\b\b\b\b\b\b\b\b\b\b\b\b\b\b\b 6/96 \r",
        "HERE OPTIM\t\n",
        "BEFORE FORWARD\t\n",
        "1\t\n"
       ]
      },
      {
       "metadata": {},
       "output_type": "pyout",
       "prompt_number": 413,
       "text": [
        "AFTER FORWARD\t\n",
        "NEO\t\n",
        " 4.7639\n",
        " 5.2363\n",
        "[torch.FloatTensor of dimension 2]\n",
        "\n",
        "2\t\n",
        "BLAH\t\n"
       ]
      },
      {
       "metadata": {},
       "output_type": "pyout",
       "prompt_number": 413,
       "text": [
        " ** On entry to SGEMM  parameter number 10 had an illegal value\n"
       ]
      },
      {
       "metadata": {},
       "output_type": "pyout",
       "prompt_number": 413,
       "text": [
        " ** On entry to SGEMM  parameter number 10 had an illegal value\n"
       ]
      },
      {
       "metadata": {},
       "output_type": "pyout",
       "prompt_number": 413,
       "text": [
        "\r",
        " [====>........................................................................]                                                   \b\b\b\b\b\b\b\b\b\b\b\b\b\b\b\b\b\b\b\b\b\b\b\b\b\b\b\b\b\b\b\b\b\b\b\b\b\b\b\b\b\b\b\b\b\b\b\b\b\bETA: 6s296ms | Step: 70ms\b\b\b\b\b\b\b\b\b\b\b\b\b\b\b\b\b\b\b\b\b\b\b\b\b\b\b\b\b\b\b\b\b\b\b\b\b\b\b\b\b\b\b\b\b\b\b\b\b\b\b\b\b\b\b\b\b\b\b\b\b\b\b\b\b\b\b\b\b\b\b\b 7/96 \r",
        "HERE OPTIM\t\n",
        "BEFORE FORWARD\t\n",
        "1\t\n"
       ]
      },
      {
       "metadata": {},
       "output_type": "pyout",
       "prompt_number": 413,
       "text": [
        "AFTER FORWARD\t\n",
        "NEO\t\n",
        " 4.7172\n",
        " 5.2830\n",
        "[torch.FloatTensor of dimension 2]\n",
        "\n",
        "1\t\n",
        "BLAH\t\n",
        " ** On entry to SGEMM  parameter number 10 had an illegal value\n"
       ]
      },
      {
       "metadata": {},
       "output_type": "pyout",
       "prompt_number": 413,
       "text": [
        " ** On entry to SGEMM  parameter number 10 had an illegal value\n"
       ]
      },
      {
       "metadata": {},
       "output_type": "pyout",
       "prompt_number": 413,
       "text": [
        "\r",
        " [=====>.......................................................................]                                                   \b\b\b\b\b\b\b\b\b\b\b\b\b\b\b\b\b\b\b\b\b\b\b\b\b\b\b\b\b\b\b\b\b\b\b\b\b\b\b\b\b\b\b\b\b\b\b\b\b\bETA: 5s726ms | Step: 65ms\b\b\b\b\b\b\b\b\b\b\b\b\b\b\b\b\b\b\b\b\b\b\b\b\b\b\b\b\b\b\b\b\b\b\b\b\b\b\b\b\b\b\b\b\b\b\b\b\b\b\b\b\b\b\b\b\b\b\b\b\b\b\b\b\b\b\b\b\b\b\b\b 8/96 \r",
        "HERE OPTIM\t\n",
        "BEFORE FORWARD\t\n",
        "1\t\n"
       ]
      },
      {
       "metadata": {},
       "output_type": "pyout",
       "prompt_number": 413,
       "text": [
        "AFTER FORWARD\t\n",
        "NEO\t\n",
        " 4.7691\n",
        " 5.2312\n",
        "[torch.FloatTensor of dimension 2]\n",
        "\n",
        "1\t\n",
        "BLAH\t\n",
        " ** On entry to SGEMM  parameter number 10 had an illegal value\n",
        " ** On entry to SGEMM  parameter number 10 had an illegal value\n"
       ]
      },
      {
       "metadata": {},
       "output_type": "pyout",
       "prompt_number": 413,
       "text": [
        "\r",
        " [======>......................................................................]                                                   \b\b\b\b\b\b\b\b\b\b\b\b\b\b\b\b\b\b\b\b\b\b\b\b\b\b\b\b\b\b\b\b\b\b\b\b\b\b\b\b\b\b\b\b\b\b\b\b\b\bETA: 5s90ms | Step: 58ms\b\b\b\b\b\b\b\b\b\b\b\b\b\b\b\b\b\b\b\b\b\b\b\b\b\b\b\b\b\b\b\b\b\b\b\b\b\b\b\b\b\b\b\b\b\b\b\b\b\b\b\b\b\b\b\b\b\b\b\b\b\b\b\b\b\b\b\b\b\b\b 9/96 \r",
        "HERE OPTIM\t\n",
        "BEFORE FORWARD\t\n",
        "1\t\n"
       ]
      },
      {
       "metadata": {},
       "output_type": "pyout",
       "prompt_number": 413,
       "text": [
        "AFTER FORWARD\t\n",
        "NEO\t\n",
        " 4.8214\n",
        " 5.1789\n",
        "[torch.FloatTensor of dimension 2]\n",
        "\n",
        "1\t\n",
        "BLAH\t\n",
        " ** On entry to SGEMM  parameter number 10 had an illegal value\n"
       ]
      },
      {
       "metadata": {},
       "output_type": "pyout",
       "prompt_number": 413,
       "text": [
        " ** On entry to SGEMM  parameter number 10 had an illegal value\n"
       ]
      },
      {
       "metadata": {},
       "output_type": "pyout",
       "prompt_number": 413,
       "text": [
        "\r",
        " [=======>.....................................................................]                                                   \b\b\b\b\b\b\b\b\b\b\b\b\b\b\b\b\b\b\b\b\b\b\b\b\b\b\b\b\b\b\b\b\b\b\b\b\b\b\b\b\b\b\b\b\b\b\b\b\b\bETA: 4s567ms | Step: 53ms\b\b\b\b\b\b\b\b\b\b\b\b\b\b\b\b\b\b\b\b\b\b\b\b\b\b\b\b\b\b\b\b\b\b\b\b\b\b\b\b\b\b\b\b\b\b\b\b\b\b\b\b\b\b\b\b\b\b\b\b\b\b\b\b\b\b\b\b\b\b\b\b 10/96 \r",
        "HERE OPTIM\t\n",
        "BEFORE FORWARD\t\n",
        "1\t\n"
       ]
      },
      {
       "metadata": {},
       "output_type": "pyout",
       "prompt_number": 413,
       "text": [
        "AFTER FORWARD\t\n",
        "NEO\t\n",
        " 4.8732\n",
        " 5.1271\n",
        "[torch.FloatTensor of dimension 2]\n",
        "\n",
        "2\t\n",
        "BLAH\t\n"
       ]
      },
      {
       "metadata": {},
       "output_type": "pyout",
       "prompt_number": 413,
       "text": [
        " ** On entry to SGEMM  parameter number 10 had an illegal value\n"
       ]
      },
      {
       "metadata": {},
       "output_type": "pyout",
       "prompt_number": 413,
       "text": [
        " ** On entry to SGEMM  parameter number 10 had an illegal value\n"
       ]
      },
      {
       "metadata": {},
       "output_type": "pyout",
       "prompt_number": 413,
       "text": [
        "\r",
        " [=======>.....................................................................]                                                   \b\b\b\b\b\b\b\b\b\b\b\b\b\b\b\b\b\b\b\b\b\b\b\b\b\b\b\b\b\b\b\b\b\b\b\b\b\b\b\b\b\b\b\b\b\b\b\b\b\b"
       ]
      },
      {
       "metadata": {},
       "output_type": "pyout",
       "prompt_number": 413,
       "text": [
        "ETA: 8s414ms | Step: 98ms\b\b\b\b\b\b\b\b\b\b\b\b\b\b\b\b\b\b\b\b\b\b\b\b\b\b\b\b\b\b\b\b\b\b\b\b\b\b\b\b\b\b\b\b\b\b\b\b\b\b\b\b\b\b\b\b\b\b\b\b\b\b\b\b\b\b\b\b\b\b\b\b 11/96 \r",
        "HERE OPTIM\t\n",
        "BEFORE FORWARD\t\n",
        "1\t\n"
       ]
      },
      {
       "metadata": {},
       "output_type": "pyout",
       "prompt_number": 413,
       "text": [
        "AFTER FORWARD\t\n",
        "NEO\t\n",
        " 4.8254\n",
        " 5.1748\n",
        "[torch.FloatTensor of dimension 2]\n",
        "\n",
        "2\t\n",
        "BLAH\t\n"
       ]
      },
      {
       "metadata": {},
       "output_type": "pyout",
       "prompt_number": 413,
       "text": [
        " ** On entry to SGEMM  parameter number 10 had an illegal value\n"
       ]
      },
      {
       "metadata": {},
       "output_type": "pyout",
       "prompt_number": 413,
       "text": [
        " ** On entry to SGEMM  parameter number 10 had an illegal value\n"
       ]
      },
      {
       "metadata": {},
       "output_type": "pyout",
       "prompt_number": 413,
       "text": [
        "\r",
        " [========>....................................................................]                                                   \b\b\b\b\b\b\b\b\b\b\b\b\b\b\b\b\b\b\b\b\b\b\b\b\b\b\b\b\b\b\b\b\b\b\b\b\b\b\b\b\b\b\b\b\b\b\b\b\b\bETA: 11s577ms | Step: 137ms\b\b\b\b\b\b\b\b\b\b\b\b\b\b\b\b\b\b\b\b\b\b\b\b\b\b\b\b\b\b\b\b\b\b\b\b\b\b\b\b\b\b\b\b\b\b\b\b\b\b\b\b\b\b\b\b\b\b\b\b\b\b\b\b\b\b\b\b\b\b\b\b\b\b 12/96 \r",
        "HERE OPTIM\t\n",
        "BEFORE FORWARD\t\n",
        "1\t\n"
       ]
      },
      {
       "metadata": {},
       "output_type": "pyout",
       "prompt_number": 413,
       "text": [
        "AFTER FORWARD\t\n",
        "NEO\t\n",
        " 4.7772\n",
        " 5.2230\n",
        "[torch.FloatTensor of dimension 2]\n",
        "\n",
        "1\t\n",
        "BLAH\t\n",
        " ** On entry to SGEMM  parameter number 10 had an illegal value\n"
       ]
      },
      {
       "metadata": {},
       "output_type": "pyout",
       "prompt_number": 413,
       "text": [
        " ** On entry to SGEMM  parameter number 10 had an illegal value\n",
        "\r",
        " [=========>..........."
       ]
      },
      {
       "metadata": {},
       "output_type": "pyout",
       "prompt_number": 413,
       "text": [
        "........................................................]                                                   \b\b\b\b\b\b\b\b\b\b\b\b\b\b\b\b\b\b\b\b\b\b\b\b\b\b\b\b\b\b\b\b\b\b\b\b\b\b\b\b\b\b\b\b\b\b\b\b\b\bETA: 10s538ms | Step: 126ms\b\b\b\b\b\b\b\b\b\b\b\b\b\b\b\b\b\b\b\b\b\b\b\b\b\b\b\b\b\b\b\b\b\b\b\b\b\b\b\b\b\b\b\b\b\b\b\b\b\b\b\b\b\b\b\b\b\b\b\b\b\b\b\b\b\b\b\b\b\b\b\b\b\b 13/96 \r",
        "HERE OPTIM\t\n",
        "BEFORE FORWARD\t\n",
        "1\t\n"
       ]
      },
      {
       "metadata": {},
       "output_type": "pyout",
       "prompt_number": 413,
       "text": [
        "AFTER FORWARD\t\n",
        "NEO\t\n"
       ]
      },
      {
       "metadata": {},
       "output_type": "pyout",
       "prompt_number": 413,
       "text": [
        " 4.8284\n",
        " 5.1718\n",
        "[torch.FloatTensor of dimension 2]\n",
        "\n",
        "2\t\n",
        "BLAH\t\n",
        " ** On entry to SGEMM  parameter number 10 had an illegal value\n"
       ]
      },
      {
       "metadata": {},
       "output_type": "pyout",
       "prompt_number": 413,
       "text": [
        " ** On entry to SGEMM  parameter number 10 had an illegal value\n"
       ]
      },
      {
       "metadata": {},
       "output_type": "pyout",
       "prompt_number": 413,
       "text": [
        "\r",
        " [==========>..................................................................]                                                   \b\b\b\b\b\b\b\b\b\b\b\b\b\b\b\b\b\b\b\b\b\b\b\b\b\b\b\b\b\b\b\b\b\b\b\b\b\b\b\b\b\b\b\b\b\b\b\b\b\bETA: 10s321ms | Step: 125ms\b\b\b\b\b\b\b\b\b\b\b\b\b\b\b\b\b\b\b\b\b\b\b\b\b\b\b\b\b\b\b\b\b\b\b\b\b\b\b\b\b\b\b\b\b\b\b\b\b\b\b\b\b\b\b\b\b\b\b\b\b\b\b\b\b\b\b\b\b\b\b\b\b\b 14/96 \r",
        "HERE OPTIM\t\n",
        "BEFORE FORWARD\t\n",
        "1\t\n"
       ]
      },
      {
       "metadata": {},
       "output_type": "pyout",
       "prompt_number": 413,
       "text": [
        "AFTER FORWARD\t\n",
        "NEO\t\n",
        " 4.7811\n",
        " 5.2191\n",
        "[torch.FloatTensor of dimension 2]\n",
        "\n",
        "2\t\n",
        "BLAH\t\n"
       ]
      },
      {
       "metadata": {},
       "output_type": "pyout",
       "prompt_number": 413,
       "text": [
        " ** On entry to SGEMM  parameter number 10 had an illegal value\n"
       ]
      },
      {
       "metadata": {},
       "output_type": "pyout",
       "prompt_number": 413,
       "text": [
        " ** On entry to SGEMM  parameter number 10 had an illegal value\n"
       ]
      },
      {
       "metadata": {},
       "output_type": "pyout",
       "prompt_number": 413,
       "text": [
        "\r",
        " [===========>....................................."
       ]
      },
      {
       "metadata": {},
       "output_type": "pyout",
       "prompt_number": 413,
       "text": [
        "............................]                                                   \b\b\b\b\b\b\b\b\b\b\b\b\b\b\b\b\b\b\b\b\b\b\b\b\b\b\b\b\b\b\b\b\b\b\b\b\b\b\b\b\b\b\b\b\b\b\b\b\b\bETA: 12s351ms | Step: 152ms\b\b\b\b\b\b\b\b\b\b\b\b\b\b\b\b\b\b\b\b\b\b\b\b\b\b\b\b\b\b\b\b\b\b\b\b\b\b\b\b\b\b\b\b\b\b\b\b\b\b\b\b\b\b\b\b\b\b\b\b\b\b\b\b\b\b\b\b\b\b\b\b\b\b 15/96 \r",
        "HERE OPTIM\t\n",
        "BEFORE FORWARD\t\n",
        "1\t\n"
       ]
      },
      {
       "metadata": {},
       "output_type": "pyout",
       "prompt_number": 413,
       "text": [
        "AFTER FORWARD\t\n",
        "NEO\t\n",
        " 4.7333\n",
        " 5.2669\n",
        "[torch.FloatTensor of dimension 2]\n",
        "\n",
        "1\t\n",
        "BLAH\t\n"
       ]
      },
      {
       "metadata": {},
       "output_type": "pyout",
       "prompt_number": 413,
       "text": [
        " ** On entry to SGEMM  parameter number 10 had an illegal value\n",
        " ** On entry to SGEMM  parameter number 10 had an illegal value\n"
       ]
      },
      {
       "metadata": {},
       "output_type": "pyout",
       "prompt_number": 413,
       "text": [
        "\r",
        " [===========>.................................................................]                                                   \b\b\b\b\b\b\b\b\b\b\b\b\b\b\b\b\b\b\b\b\b\b\b\b\b\b\b\b\b\b\b\b\b\b\b\b\b\b\b\b\b\b\b\b\b\b\b\b\b\bETA: 11s448ms | Step: 143ms\b\b\b\b\b\b\b\b\b\b\b\b\b\b\b\b\b\b\b\b\b\b\b\b\b\b\b\b\b\b\b\b\b\b\b\b\b\b\b\b\b\b\b\b\b\b\b\b\b\b\b\b\b\b\b\b\b\b\b\b\b\b\b\b\b\b\b\b\b\b\b\b\b\b 16/96 \r",
        "HERE OPTIM\t\n",
        "BEFORE FORWARD\t\n",
        "1\t\n"
       ]
      },
      {
       "metadata": {},
       "output_type": "pyout",
       "prompt_number": 413,
       "text": [
        "AFTER FORWARD\t\n",
        "NEO\t\n",
        " 4.7850\n",
        " 5.2153\n",
        "[torch.FloatTensor of dimension 2]\n",
        "\n",
        "2\t\n",
        "BLAH\t\n",
        " ** On entry to SGEMM  parameter number 10 had an illegal value\n"
       ]
      },
      {
       "metadata": {},
       "output_type": "pyout",
       "prompt_number": 413,
       "text": [
        " ** On entry to SGEMM  parameter number 10 had an illegal value\n"
       ]
      },
      {
       "metadata": {},
       "output_type": "pyout",
       "prompt_number": 413,
       "text": [
        "\r",
        " [============>................................................................]                                                   \b\b\b\b\b\b\b\b\b\b\b\b\b\b\b\b\b\b\b\b\b\b\b\b\b\b\b\b\b\b\b\b\b\b\b\b\b\b\b\b\b\b\b\b\b\b\b\b\b\bETA: 10s921ms | Step: 138ms\b\b\b\b\b\b\b\b\b\b\b\b\b\b\b\b\b\b\b\b\b\b\b\b\b\b\b\b\b\b\b\b\b\b\b\b\b\b\b\b\b\b\b\b\b\b\b\b\b\b\b\b\b\b\b\b\b\b\b\b\b\b\b\b\b\b\b\b\b\b\b\b\b\b 17/96 \r",
        "HERE OPTIM\t\n",
        "BEFORE FORWARD\t\n",
        "1\t\n"
       ]
      },
      {
       "metadata": {},
       "output_type": "pyout",
       "prompt_number": 413,
       "text": [
        "AFTER FORWARD\t\n",
        "NEO\t\n",
        " 4.7381\n",
        " 5.2621\n",
        "[torch.FloatTensor of dimension 2]\n",
        "\n",
        "2\t\n",
        "BLAH\t\n"
       ]
      },
      {
       "metadata": {},
       "output_type": "pyout",
       "prompt_number": 413,
       "text": [
        " ** On entry to SGEMM  parameter number 10 had an illegal value\n"
       ]
      },
      {
       "metadata": {},
       "output_type": "pyout",
       "prompt_number": 413,
       "text": [
        " ** On entry to SGEMM  parameter number 10 had an illegal value\n"
       ]
      },
      {
       "metadata": {},
       "output_type": "pyout",
       "prompt_number": 413,
       "text": [
        "\r",
        " [=============>.................................................."
       ]
      },
      {
       "metadata": {},
       "output_type": "pyout",
       "prompt_number": 413,
       "text": [
        ".............]                                                   \b\b\b\b\b\b\b\b\b\b\b\b\b\b\b\b\b\b\b\b\b\b\b\b\b\b\b\b\b\b\b\b\b\b\b\b\b\b\b\b\b\b\b\b\b\b\b\b\b\bETA: 10s300ms | Step: 132ms\b\b\b\b\b\b\b\b\b\b\b\b\b\b\b\b\b\b\b\b\b\b\b\b\b\b\b\b\b\b\b\b\b\b\b\b\b\b\b\b\b\b\b\b\b\b\b\b\b\b\b\b\b\b\b\b\b\b\b\b\b\b\b\b\b\b\b\b\b\b\b\b\b\b 18/96 \r",
        "HERE OPTIM\t\n",
        "BEFORE FORWARD\t\n",
        "1\t\n"
       ]
      },
      {
       "metadata": {},
       "output_type": "pyout",
       "prompt_number": 413,
       "text": [
        "AFTER FORWARD\t\n",
        "NEO\t\n",
        " 4.6908\n",
        " 5.3095\n",
        "[torch.FloatTensor of dimension 2]\n",
        "\n",
        "1\t\n",
        "BLAH\t\n",
        " ** On entry to SGEMM  parameter number 10 had an illegal value\n",
        " ** On entry to SGEMM  parameter number 10 had an illegal value\n"
       ]
      },
      {
       "metadata": {},
       "output_type": "pyout",
       "prompt_number": 413,
       "text": [
        "\r",
        " [==============>..............................................................]                                                   \b\b\b\b\b\b\b\b\b\b\b\b\b\b\b\b\b\b\b\b\b\b\b\b\b\b\b\b\b\b\b\b\b\b\b\b\b\b\b\b\b\b\b\b\b\b\b\b\b\bETA: 9s621ms | Step: 124ms\b\b\b\b\b\b\b\b\b\b\b\b\b\b\b\b\b\b\b\b\b\b\b\b\b\b\b\b\b\b\b\b\b\b\b\b\b\b\b\b\b\b\b\b\b\b\b\b\b\b\b\b\b\b\b\b\b\b\b\b\b\b\b\b\b\b\b\b\b\b\b\b\b 19/96 \r",
        "HERE OPTIM\t\n",
        "BEFORE FORWARD\t\n",
        "1\t\n"
       ]
      },
      {
       "metadata": {},
       "output_type": "pyout",
       "prompt_number": 413,
       "text": [
        "AFTER FORWARD\t\n",
        "NEO\t\n",
        " 4.7428\n",
        " 5.2574\n",
        "[torch.FloatTensor of dimension 2]\n",
        "\n",
        "1\t\n",
        "BLAH\t\n",
        " ** On entry to SGEMM  parameter number 10 had an illegal value\n",
        " ** On entry to SGEMM  parameter number 10 had an illegal value\n"
       ]
      },
      {
       "metadata": {},
       "output_type": "pyout",
       "prompt_number": 413,
       "text": [
        "\r",
        " [===============>.............................................................]                                                   \b\b\b\b\b\b\b\b\b\b\b\b\b\b\b\b\b\b\b\b\b\b\b\b\b\b\b\b\b\b\b\b\b\b\b\b\b\b\b\b\b\b\b\b\b\b\b\b\b\bETA: 9s11ms | Step: 118ms\b\b\b\b\b\b\b\b\b\b\b\b\b\b\b\b\b\b\b\b\b\b\b\b\b\b\b\b\b\b\b\b\b\b\b\b\b\b\b\b\b\b\b\b\b\b\b\b\b\b\b\b\b\b\b\b\b\b\b\b\b\b\b\b\b\b\b\b\b\b\b\b 20/"
       ]
      },
      {
       "metadata": {},
       "output_type": "pyout",
       "prompt_number": 413,
       "text": [
        "96 \r",
        "HERE OPTIM\t\n",
        "BEFORE FORWARD\t\n",
        "1\t\n"
       ]
      },
      {
       "metadata": {},
       "output_type": "pyout",
       "prompt_number": 413,
       "text": [
        "AFTER FORWARD\t\n",
        "NEO\t\n"
       ]
      },
      {
       "metadata": {},
       "output_type": "pyout",
       "prompt_number": 413,
       "text": [
        " 4.7954\n",
        " 5.2048\n",
        "[torch.FloatTensor of dimension 2]\n",
        "\n",
        "2\t\n",
        "BLAH\t\n"
       ]
      },
      {
       "metadata": {},
       "output_type": "pyout",
       "prompt_number": 413,
       "text": [
        " ** On entry to SGEMM  parameter number 10 had an illegal value\n"
       ]
      },
      {
       "metadata": {},
       "output_type": "pyout",
       "prompt_number": 413,
       "text": [
        " ** On entry to SGEMM  parameter number 10 had an illegal value\n"
       ]
      },
      {
       "metadata": {},
       "output_type": "pyout",
       "prompt_number": 413,
       "text": [
        "\r",
        " [===============>.............................................................]                                                   \b\b\b\b\b\b\b\b\b\b\b\b\b\b\b\b\b\b\b\b\b\b\b\b\b\b\b\b\b\b\b\b\b\b\b\b\b\b\b\b\b\b\b\b\b\b\b\b\b\bETA: 10s200ms | Step: 136ms\b\b\b\b\b\b\b\b\b\b\b\b\b\b\b\b\b\b\b\b\b\b\b\b\b\b\b\b\b\b\b\b\b\b\b\b\b\b\b\b\b\b\b\b\b\b\b\b\b\b\b\b\b\b\b\b\b\b\b\b\b\b\b\b\b\b\b\b\b\b\b\b\b\b 21/96 \r",
        "HERE OPTIM\t\n",
        "BEFORE FORWARD\t\n",
        "1\t\n"
       ]
      },
      {
       "metadata": {},
       "output_type": "pyout",
       "prompt_number": 413,
       "text": [
        "AFTER FORWARD\t\n",
        "NEO\t\n",
        " 4.7485\n",
        " 5.2518\n",
        "[torch.FloatTensor of dimension 2]\n",
        "\n",
        "2\t\n",
        "BLAH\t\n",
        " ** On entry to SGEMM  parameter number 10 had an illegal value\n"
       ]
      },
      {
       "metadata": {},
       "output_type": "pyout",
       "prompt_number": 413,
       "text": [
        " ** On entry to SGEMM  parameter number 10 had an illegal value\n"
       ]
      },
      {
       "metadata": {},
       "output_type": "pyout",
       "prompt_number": 413,
       "text": [
        "\r",
        " [================>............................................................]                                                   \b\b\b\b\b\b\b\b\b\b\b\b\b\b\b\b\b\b\b\b\b\b\b\b\b\b\b\b\b\b\b\b\b\b\b\b\b\b\b\b\b\b\b\b\b\b\b\b\b\bETA: 9s639ms | Step: 130ms\b\b\b\b\b\b\b\b\b\b\b\b\b\b\b\b\b\b\b\b\b\b\b\b\b\b\b\b\b\b\b\b\b\b\b\b\b\b\b\b\b\b\b\b\b\b\b\b\b\b\b\b\b\b\b\b\b\b\b\b\b\b\b\b\b\b\b\b\b\b\b\b\b 22/96 \r",
        "HERE OPTIM\t\n",
        "BEFORE FORWARD\t\n",
        "1\t\n"
       ]
      },
      {
       "metadata": {},
       "output_type": "pyout",
       "prompt_number": 413,
       "text": [
        "AFTER FORWARD\t\n",
        "NEO\t\n",
        " 4.7010\n",
        " 5.2993\n",
        "[torch.FloatTensor of dimension 2]\n",
        "\n",
        "2\t\n",
        "BLAH\t\n"
       ]
      },
      {
       "metadata": {},
       "output_type": "pyout",
       "prompt_number": 413,
       "text": [
        " ** On entry to SGEMM  parameter number 10 had an illegal value\n"
       ]
      },
      {
       "metadata": {},
       "output_type": "pyout",
       "prompt_number": 413,
       "text": [
        " ** On entry to SGEMM  parameter number 10 had an illegal value\n"
       ]
      },
      {
       "metadata": {},
       "output_type": "pyout",
       "prompt_number": 413,
       "text": [
        "\r",
        " [=================>...........................................................]              "
       ]
      },
      {
       "metadata": {},
       "output_type": "pyout",
       "prompt_number": 413,
       "text": [
        "                                     \b\b\b\b\b\b\b\b\b\b\b\b\b\b\b\b\b\b\b\b\b\b\b\b\b\b\b\b\b\b\b\b\b\b\b\b\b\b\b\b\b\b\b\b\b\b\b\b\b\bETA: 9s212ms | Step: 126ms\b\b\b\b\b\b\b\b\b\b\b\b\b\b\b\b\b\b\b\b\b\b\b\b\b\b\b\b\b\b\b\b\b\b\b\b\b\b\b\b\b\b\b\b\b\b\b\b\b\b\b\b\b\b\b\b\b\b\b\b\b\b\b\b\b\b\b\b\b\b\b\b\b 23/96 \r",
        "HERE OPTIM\t\n",
        "BEFORE FORWARD\t\n",
        "1\t\n"
       ]
      },
      {
       "metadata": {},
       "output_type": "pyout",
       "prompt_number": 413,
       "text": [
        "AFTER FORWARD\t\n",
        "NEO\t\n",
        " 4.6540\n",
        " 5.3463\n",
        "[torch.FloatTensor of dimension 2]\n",
        "\n",
        "1\t\n",
        "BLAH\t\n",
        " ** On entry to SGEMM  parameter number 10 had an illegal value\n"
       ]
      },
      {
       "metadata": {},
       "output_type": "pyout",
       "prompt_number": 413,
       "text": [
        " ** On entry to SGEMM  parameter number 10 had an illegal value\n"
       ]
      },
      {
       "metadata": {},
       "output_type": "pyout",
       "prompt_number": 413,
       "text": [
        "\r",
        " [==================>........................................"
       ]
      },
      {
       "metadata": {},
       "output_type": "pyout",
       "prompt_number": 413,
       "text": [
        "..................]                                                   \b\b\b\b\b\b\b\b\b\b\b\b\b\b\b\b\b\b\b\b\b\b\b\b\b\b\b\b\b\b\b\b\b\b\b\b\b\b\b\b\b\b\b\b\b\b\b\b\b\bETA: 8s716ms | Step: 121ms\b\b\b\b\b\b\b\b\b\b\b\b\b\b\b\b\b\b\b\b\b\b\b\b\b\b\b\b\b\b\b\b\b\b\b\b\b\b\b\b\b\b\b\b\b\b\b\b\b\b\b\b\b\b\b\b\b\b\b\b\b\b\b\b\b\b\b\b\b\b\b\b\b 24/96 \r",
        "HERE OPTIM\t\n",
        "BEFORE FORWARD\t\n",
        "1\t\n"
       ]
      },
      {
       "metadata": {},
       "output_type": "pyout",
       "prompt_number": 413,
       "text": [
        "AFTER FORWARD\t\n",
        "NEO\t\n",
        " 4.7064\n",
        " 5.2938\n",
        "[torch.FloatTensor of dimension 2]\n",
        "\n",
        "1\t\n",
        "BLAH\t\n",
        " ** On entry to SGEMM  parameter number 10 had an illegal value\n"
       ]
      },
      {
       "metadata": {},
       "output_type": "pyout",
       "prompt_number": 413,
       "text": [
        " ** On entry to SGEMM  parameter number 10 had an illegal value\n"
       ]
      },
      {
       "metadata": {},
       "output_type": "pyout",
       "prompt_number": 413,
       "text": [
        "\r",
        " [===================>.........................................................]                                                   \b\b\b\b\b\b\b\b\b\b\b\b\b\b\b\b\b\b\b\b\b\b\b\b\b\b\b\b\b\b\b\b\b\b\b\b\b\b\b\b\b\b\b\b\b\b\b\b\b\bETA: 8s253ms | Step: 116ms\b\b\b\b\b\b\b\b\b\b\b\b\b\b\b\b\b\b\b\b\b\b\b\b\b\b\b\b\b\b\b\b\b\b\b\b\b\b\b\b\b\b\b\b\b\b\b\b\b\b\b\b\b\b\b\b\b\b\b\b\b\b\b\b\b\b\b\b\b\b\b\b\b 25/96 \r",
        "HERE OPTIM\t\n",
        "BEFORE FORWARD\t\n",
        "1\t\n"
       ]
      },
      {
       "metadata": {},
       "output_type": "pyout",
       "prompt_number": 413,
       "text": [
        "AFTER FORWARD\t\n",
        "NEO\t\n",
        " 4.7593\n",
        " 5.2409\n",
        "[torch.FloatTensor of dimension 2]\n",
        "\n",
        "2\t\n",
        "BLAH\t\n"
       ]
      },
      {
       "metadata": {},
       "output_type": "pyout",
       "prompt_number": 413,
       "text": [
        " ** On entry to SGEMM  parameter number 10 had an illegal value\n"
       ]
      },
      {
       "metadata": {},
       "output_type": "pyout",
       "prompt_number": 413,
       "text": [
        " ** On entry to SGEMM  parameter number 10 had an illegal value\n"
       ]
      },
      {
       "metadata": {},
       "output_type": "pyout",
       "prompt_number": 413,
       "text": [
        "\r",
        " [===================>.........................................................] "
       ]
      },
      {
       "metadata": {},
       "output_type": "pyout",
       "prompt_number": 413,
       "text": [
        "                                                  \b\b\b\b\b\b\b\b\b\b\b\b\b\b\b\b\b\b\b\b\b\b\b\b\b\b\b\b\b\b\b\b\b\b\b\b\b\b\b\b\b\b\b\b\b\b\b\b\b\bETA: 8s921ms | Step: 127ms\b\b\b\b\b\b\b\b\b\b\b\b\b\b\b\b\b\b\b\b\b\b\b\b\b\b\b\b\b\b\b\b\b\b\b\b\b\b\b\b\b\b\b\b\b\b\b\b\b\b\b\b\b\b\b\b\b\b\b\b\b\b\b\b\b\b\b\b\b\b\b\b\b 26/96 \r",
        "HERE OPTIM\t\n",
        "BEFORE FORWARD\t\n",
        "1\t\n"
       ]
      },
      {
       "metadata": {},
       "output_type": "pyout",
       "prompt_number": 413,
       "text": [
        "AFTER FORWARD\t\n",
        "NEO\t\n",
        " 4.7128\n",
        " 5.2874\n",
        "[torch.FloatTensor of dimension 2]\n",
        "\n",
        "2\t\n",
        "BLAH\t\n"
       ]
      },
      {
       "metadata": {},
       "output_type": "pyout",
       "prompt_number": 413,
       "text": [
        " ** On entry to SGEMM  parameter number 10 had an illegal value\n"
       ]
      },
      {
       "metadata": {},
       "output_type": "pyout",
       "prompt_number": 413,
       "text": [
        " ** On entry to SGEMM  parameter number 10 had an illegal value\n"
       ]
      },
      {
       "metadata": {},
       "output_type": "pyout",
       "prompt_number": 413,
       "text": [
        "\r",
        " [====================>........................................................]                                                   \b\b\b\b\b\b\b\b\b\b\b\b\b\b\b\b\b\b\b\b\b\b\b\b\b\b\b\b\b\b\b\b\b\b\b\b\b\b\b\b\b\b\b\b\b\b\b\b\b\bETA: 12s74ms | Step: 174ms\b\b\b\b\b\b\b\b\b\b\b\b\b\b\b\b\b\b\b\b\b\b\b\b\b\b\b\b\b\b\b\b\b\b\b\b\b\b\b\b\b\b\b\b\b\b\b\b\b\b\b\b\b\b\b\b\b\b\b\b\b\b\b\b\b\b\b\b\b\b\b\b\b 27/96 \r",
        "HERE OPTIM\t\n",
        "BEFORE FORWARD\t\n",
        "1\t\n"
       ]
      },
      {
       "metadata": {},
       "output_type": "pyout",
       "prompt_number": 413,
       "text": [
        "AFTER FORWARD\t\n",
        "NEO\t\n",
        " 4.6656\n",
        " 5.3347\n",
        "[torch.FloatTensor of dimension 2]\n",
        "\n",
        "1\t\n",
        "BLAH\t\n",
        " ** On entry to SGEMM  parameter number 10 had an illegal value\n"
       ]
      },
      {
       "metadata": {},
       "output_type": "pyout",
       "prompt_number": 413,
       "text": [
        " ** On entry to SGEMM  parameter number 10 had an illegal value\n"
       ]
      },
      {
       "metadata": {},
       "output_type": "pyout",
       "prompt_number": 413,
       "text": [
        "\r",
        " [=====================>.......................................................]                                                   \b\b\b\b\b\b\b\b\b\b\b\b\b\b\b\b\b\b\b\b\b\b\b\b\b\b\b\b\b\b\b\b\b\b\b\b\b\b\b\b\b\b\b\b\b\b\b\b\b\bETA: 11s501ms | Step: 169ms\b\b\b\b\b\b\b\b\b\b\b\b\b\b\b\b\b\b\b\b\b\b\b\b\b\b\b\b\b\b\b\b\b\b\b\b\b\b\b\b\b\b\b\b\b\b\b\b\b\b\b\b\b\b\b\b\b\b\b\b\b\b\b\b\b\b\b\b\b\b\b\b\b\b 28/96 \r",
        "HERE OPTIM\t\n",
        "BEFORE FORWARD\t\n",
        "1\t\n"
       ]
      },
      {
       "metadata": {},
       "output_type": "pyout",
       "prompt_number": 413,
       "text": [
        "AFTER FORWARD\t\n",
        "NEO\t\n",
        " 4.7180\n",
        " 5.2823\n",
        "[torch.FloatTensor of dimension 2]\n",
        "\n",
        "2\t\n",
        "BLAH\t\n",
        " ** On entry to SGEMM  parameter number 10 had an illegal value\n"
       ]
      },
      {
       "metadata": {},
       "output_type": "pyout",
       "prompt_number": 413,
       "text": [
        " ** On entry to SGEMM  parameter number 10 had an illegal value\n"
       ]
      },
      {
       "metadata": {},
       "output_type": "pyout",
       "prompt_number": 413,
       "text": [
        "\r",
        " [======================>......................................................]                                                   \b\b\b\b\b\b\b\b\b\b\b\b\b\b\b\b\b\b\b\b\b\b\b\b\b\b\b\b\b\b\b\b\b\b\b\b\b\b\b\b\b\b\b\b\b\b\b\b\b\bETA: 11s69ms | Step: 165ms\b\b\b\b\b\b\b\b\b\b\b\b\b\b\b\b\b\b\b\b\b\b\b\b\b\b\b\b\b\b\b\b\b\b\b\b\b\b\b\b\b\b\b\b\b\b\b\b\b\b\b\b\b\b\b\b\b\b\b\b\b\b\b\b\b\b\b\b\b\b\b\b\b 29/96 \r",
        "HERE OPTIM\t\n",
        "BEFORE FORWARD\t\n",
        "1\t\n"
       ]
      },
      {
       "metadata": {},
       "output_type": "pyout",
       "prompt_number": 413,
       "text": [
        "AFTER FORWARD\t\n",
        "NEO\t\n",
        " 4.6718\n",
        " 5.3285\n",
        "[torch.FloatTensor of dimension 2]\n",
        "\n",
        "1\t\n",
        "BLAH\t\n",
        " ** On entry to SGEMM  parameter number 10 had an illegal value\n"
       ]
      },
      {
       "metadata": {},
       "output_type": "pyout",
       "prompt_number": 413,
       "text": [
        " ** On entry to SGEMM  parameter number 10 had an illegal value\n"
       ]
      },
      {
       "metadata": {},
       "output_type": "pyout",
       "prompt_number": 413,
       "text": [
        "\r",
        " ["
       ]
      },
      {
       "metadata": {},
       "output_type": "pyout",
       "prompt_number": 413,
       "text": [
        "=======================>.....................................................]                                                   \b\b\b\b\b\b\b\b\b\b\b\b\b\b\b\b\b\b\b\b\b\b\b\b\b\b\b\b\b\b\b\b\b\b\b\b\b\b\b\b\b\b\b\b\b\b\b\b\b\bETA: 10s558ms | Step: 159ms\b\b\b\b\b\b\b\b\b\b\b\b\b\b\b\b\b\b\b\b\b\b\b\b\b\b\b\b\b\b\b\b\b\b\b\b\b\b\b\b\b\b\b\b\b\b\b\b\b\b\b\b\b\b\b\b\b\b\b\b\b\b\b\b\b\b\b\b\b\b\b\b\b\b 30/96 \r",
        "HERE OPTIM\t\n",
        "BEFORE FORWARD\t\n",
        "1\t\n"
       ]
      },
      {
       "metadata": {},
       "output_type": "pyout",
       "prompt_number": 413,
       "text": [
        "AFTER FORWARD\t\n",
        "NEO\t\n",
        " 4.7241\n",
        " 5.2762\n",
        "[torch.FloatTensor of dimension 2]\n",
        "\n",
        "1\t\n",
        "BLAH\t\n",
        " ** On entry to SGEMM  parameter number 10 had an illegal value\n"
       ]
      },
      {
       "metadata": {},
       "output_type": "pyout",
       "prompt_number": 413,
       "text": [
        " ** On entry to SGEMM  parameter number 10 had an illegal value\n"
       ]
      },
      {
       "metadata": {},
       "output_type": "pyout",
       "prompt_number": 413,
       "text": [
        "\r",
        " [=======================>.....................................................]                                                   \b\b\b\b\b\b\b\b\b\b\b\b\b\b\b\b\b\b\b\b\b\b\b\b\b\b\b\b\b\b\b\b\b\b\b\b\b\b\b\b\b\b\b\b\b\b\b\b\b\bETA: 10s70ms | Step: 154ms\b\b\b\b\b\b\b\b\b\b\b\b\b\b\b\b\b\b\b\b\b\b\b\b\b\b\b\b\b\b\b\b\b\b\b\b\b\b\b\b\b\b\b\b\b\b\b\b\b\b\b\b\b\b\b\b\b\b\b\b\b\b\b\b\b\b\b\b\b\b\b\b\b 31/96 \r",
        "HERE OPTIM\t\n",
        "BEFORE FORWARD\t\n",
        "1\t\n"
       ]
      },
      {
       "metadata": {},
       "output_type": "pyout",
       "prompt_number": 413,
       "text": [
        "AFTER FORWARD\t\n",
        "NEO\t\n",
        " 4.7768\n",
        " 5.2235\n",
        "[torch.FloatTensor of dimension 2]\n",
        "\n",
        "2\t\n",
        "BLAH\t\n",
        " ** On entry to SGEMM  parameter number 10 had an illegal value\n"
       ]
      },
      {
       "metadata": {},
       "output_type": "pyout",
       "prompt_number": 413,
       "text": [
        " ** On entry to SGEMM  parameter number 10 had an illegal value\n"
       ]
      },
      {
       "metadata": {},
       "output_type": "pyout",
       "prompt_number": 413,
       "text": [
        "\r",
        " [========================>....................................................]                                                   \b\b\b\b\b\b\b\b\b\b\b\b\b\b\b\b\b\b\b\b\b\b\b\b\b\b\b\b\b\b\b\b\b\b\b\b\b\b\b\b\b\b\b\b\b\b\b\b\b\bETA: 9s656ms | Step: 150ms\b\b\b\b\b\b\b\b\b\b\b\b\b\b\b\b\b\b\b\b\b\b\b\b\b\b\b\b\b\b\b\b\b\b\b\b\b\b\b\b\b\b\b\b\b\b\b\b\b\b\b\b\b\b\b\b\b\b\b\b\b\b\b\b\b\b\b\b\b\b\b\b\b 32/96 \r",
        "HERE OPTIM\t\n",
        "BEFORE FORWARD\t\n",
        "1\t\n"
       ]
      },
      {
       "metadata": {},
       "output_type": "pyout",
       "prompt_number": 413,
       "text": [
        "AFTER FORWARD\t\n",
        "NEO\t\n",
        " 4.7301\n",
        " 5.2702\n",
        "[torch.FloatTensor of dimension 2]\n",
        "\n",
        "1\t\n",
        "BLAH\t\n",
        " ** On entry to SGEMM  parameter number 10 had an illegal value\n"
       ]
      },
      {
       "metadata": {},
       "output_type": "pyout",
       "prompt_number": 413,
       "text": [
        " ** On entry to SGEMM  parameter number 10 had an illegal value\n"
       ]
      },
      {
       "metadata": {},
       "output_type": "pyout",
       "prompt_number": 413,
       "text": [
        "\r",
        " [=========================>...................................................]                                                   \b\b\b\b\b\b\b\b\b\b\b\b\b\b\b\b\b\b\b\b\b\b\b\b\b\b\b\b\b\b\b\b\b\b\b\b\b\b\b\b\b\b\b\b\b\b\b\b\b\bETA: 9s239ms | Step: 146ms\b\b\b\b\b\b\b\b\b\b\b\b\b\b\b\b\b\b\b\b\b\b\b\b\b\b\b\b\b\b\b\b\b\b\b\b\b\b\b\b\b\b\b\b\b\b\b\b\b\b\b\b\b\b\b\b\b\b\b\b\b\b\b\b\b\b\b\b\b\b\b\b\b 33/96 \r",
        "HERE OPTIM\t\n",
        "BEFORE FORWARD\t\n",
        "1\t\n"
       ]
      },
      {
       "metadata": {},
       "output_type": "pyout",
       "prompt_number": 413,
       "text": [
        "AFTER FORWARD\t\n",
        "NEO\t\n",
        " 4.7818\n",
        " 5.2185\n",
        "[torch.FloatTensor of dimension 2]\n",
        "\n",
        "2\t\n",
        "BLAH\t\n"
       ]
      },
      {
       "metadata": {},
       "output_type": "pyout",
       "prompt_number": 413,
       "text": [
        " ** On entry to SGEMM  parameter number 10 had an illegal value\n"
       ]
      },
      {
       "metadata": {},
       "output_type": "pyout",
       "prompt_number": 413,
       "text": [
        " ** On entry to SGEMM  parameter number 10 had an illegal value\n"
       ]
      },
      {
       "metadata": {},
       "output_type": "pyout",
       "prompt_number": 413,
       "text": [
        "\r",
        " [==========================>..................................................]                                                   \b\b\b\b\b\b\b\b\b\b\b\b\b\b\b\b\b\b\b\b\b\b\b\b\b\b\b\b\b\b\b\b\b\b\b\b\b\b\b\b\b\b\b\b\b\b\b\b\b\bETA: 9s890ms | Step: 159ms\b\b\b\b\b\b\b\b\b\b\b\b\b\b\b\b\b\b\b\b\b\b\b\b\b\b\b\b\b\b\b\b\b\b\b\b\b\b\b\b\b\b\b\b\b\b\b\b\b\b\b\b\b\b\b\b\b\b\b\b\b\b\b\b\b\b\b\b\b\b\b\b\b 34/96 \r",
        "HERE OPTIM\t\n",
        "BEFORE FORWARD\t\n",
        "1\t\n"
       ]
      },
      {
       "metadata": {},
       "output_type": "pyout",
       "prompt_number": 413,
       "text": [
        "AFTER FORWARD\t\n",
        "NEO\t\n",
        " 4.7350\n",
        " 5.2653\n",
        "[torch.FloatTensor of dimension 2]\n",
        "\n",
        "1\t\n",
        "BLAH\t\n",
        " ** On entry to SGEMM  parameter number 10 had an illegal value\n",
        " ** On entry to SGEMM  parameter number 10 had an illegal value\n",
        "\r",
        " [===========================>.................................................]                                                   \b\b\b\b\b\b\b\b\b\b\b\b\b\b\b\b\b\b\b\b\b\b\b\b\b\b\b\b\b\b\b\b\b\b\b\b\b\b\b\b\b\b\b\b\b\b\b\b\b\bETA: 9s458ms | Step: 155ms\b\b\b\b\b\b\b\b\b\b\b\b\b\b\b\b\b\b\b\b\b\b\b\b\b\b\b\b\b\b\b\b\b\b\b\b\b\b\b\b\b\b\b\b\b\b\b\b\b\b\b\b\b\b\b\b\b\b\b\b\b\b\b\b\b\b\b\b\b\b\b\b\b 35/96 \r",
        "HERE OPTIM\t\n",
        "BEFORE FORWARD\t\n",
        "1\t\n"
       ]
      },
      {
       "metadata": {},
       "output_type": "pyout",
       "prompt_number": 413,
       "text": [
        "AFTER FORWARD\t\n",
        "NEO\t\n",
        " 4.7866\n",
        " 5.2137\n",
        "[torch.FloatTensor of dimension 2]\n",
        "\n",
        "1\t\n",
        "BLAH\t\n",
        " ** On entry to SGEMM  parameter number 10 had an illegal value\n",
        " ** On entry to SGEMM  parameter number 10 had an illegal value\n"
       ]
      },
      {
       "metadata": {},
       "output_type": "pyout",
       "prompt_number": 413,
       "text": [
        "\r",
        " [===========================>.................................................]                                                   \b\b\b\b\b\b\b\b\b\b\b\b\b\b\b\b\b\b\b\b\b\b\b\b\b\b\b\b\b\b\b\b\b\b\b\b\b\b\b\b\b\b\b\b\b\b\b\b\b\bETA: 9s49ms | Step: 150ms\b\b\b\b\b\b\b\b\b\b\b\b\b\b\b\b\b\b\b\b\b\b\b\b\b\b\b\b\b\b\b\b\b\b\b\b\b\b\b\b\b\b\b\b\b\b\b\b\b\b\b\b\b\b\b\b\b\b\b\b\b\b\b\b\b\b\b\b\b\b\b\b 36/96 \r",
        "HERE OPTIM\t\n",
        "BEFORE FORWARD\t\n",
        "1\t\n"
       ]
      },
      {
       "metadata": {},
       "output_type": "pyout",
       "prompt_number": 413,
       "text": [
        "AFTER FORWARD\t\n",
        "NEO\t\n",
        " 4.8387\n",
        " 5.1615\n",
        "[torch.FloatTensor of dimension 2]\n",
        "\n",
        "1\t\n",
        "BLAH\t\n",
        " ** On entry to SGEMM  parameter number 10 had an illegal value\n"
       ]
      },
      {
       "metadata": {},
       "output_type": "pyout",
       "prompt_number": 413,
       "text": [
        " ** On entry to SGEMM  parameter number 10 had an illegal value\n"
       ]
      },
      {
       "metadata": {},
       "output_type": "pyout",
       "prompt_number": 413,
       "text": [
        "\r",
        " [============================>................................................]                                                   \b\b\b\b\b\b\b\b\b\b\b\b\b\b\b\b\b\b\b\b\b\b\b\b\b\b\b\b\b\b\b"
       ]
      },
      {
       "metadata": {},
       "output_type": "pyout",
       "prompt_number": 413,
       "text": [
        "\b\b\b\b\b\b\b\b\b\b\b\b\b\b\b\b\b\b\bETA: 8s665ms | Step: 146ms\b\b\b\b\b\b\b\b\b\b\b\b\b\b\b\b\b\b\b\b\b\b\b\b\b\b\b\b\b\b\b\b\b\b\b\b\b\b\b\b\b\b\b\b\b\b\b\b\b\b\b\b\b\b\b\b\b\b\b\b\b\b\b\b\b\b\b\b\b\b\b\b\b 37/96 \r",
        "HERE OPTIM\t\n",
        "BEFORE FORWARD\t\n",
        "1\t\n"
       ]
      },
      {
       "metadata": {},
       "output_type": "pyout",
       "prompt_number": 413,
       "text": [
        "AFTER FORWARD\t\n",
        "NEO\t\n",
        " 4.8903\n",
        " 5.1099\n",
        "[torch.FloatTensor of dimension 2]\n",
        "\n",
        "1\t\n",
        "BLAH\t\n",
        " ** On entry to SGEMM  parameter number 10 had an illegal value\n"
       ]
      },
      {
       "metadata": {},
       "output_type": "pyout",
       "prompt_number": 413,
       "text": [
        " ** On entry to SGEMM  parameter number 10 had an illegal value\n"
       ]
      },
      {
       "metadata": {},
       "output_type": "pyout",
       "prompt_number": 413,
       "text": [
        "\r",
        " [=============================>...............................................]                                                   \b\b\b\b\b\b\b\b\b\b\b\b\b\b\b\b\b\b\b\b\b\b\b\b\b\b\b\b\b\b\b\b\b\b\b\b\b\b\b\b\b\b\b\b\b\b\b\b\b\bETA: 8s300ms | Step: 143ms\b\b\b\b\b\b\b\b\b\b\b\b\b\b\b\b\b\b\b\b\b\b\b\b\b\b\b\b\b\b\b\b\b\b\b\b\b\b\b\b\b\b\b\b\b\b\b\b\b\b\b\b\b\b\b\b\b\b\b\b\b\b\b\b\b\b\b\b\b\b\b\b\b 38/96 \r",
        "HERE OPTIM\t\n",
        "BEFORE FORWARD\t\n",
        "1\t\n"
       ]
      },
      {
       "metadata": {},
       "output_type": "pyout",
       "prompt_number": 413,
       "text": [
        "AFTER FORWARD\t\n",
        "NEO\t\n",
        " 4.9414\n",
        " 5.0588\n",
        "[torch.FloatTensor of dimension 2]\n",
        "\n",
        "2\t\n",
        "BLAH\t\n"
       ]
      },
      {
       "metadata": {},
       "output_type": "pyout",
       "prompt_number": 413,
       "text": [
        " ** On entry to SGEMM  parameter number 10 had an illegal value\n"
       ]
      },
      {
       "metadata": {},
       "output_type": "pyout",
       "prompt_number": 413,
       "text": [
        " ** On entry to SGEMM  parameter number 10 had an illegal value\n"
       ]
      },
      {
       "metadata": {},
       "output_type": "pyout",
       "prompt_number": 413,
       "text": [
        "\r",
        " [==============================>..............................................]                                                   \b\b\b\b\b\b\b\b\b\b\b\b\b\b\b\b\b\b\b\b\b\b\b\b\b\b\b\b\b\b\b\b\b\b\b\b\b\b\b\b\b\b\b\b\b\b\b\b\b\b"
       ]
      },
      {
       "metadata": {},
       "output_type": "pyout",
       "prompt_number": 413,
       "text": [
        "ETA: 8s267ms | Step: 145ms\b\b\b\b\b\b\b\b\b\b\b\b\b\b\b\b\b\b\b\b\b\b\b\b\b\b\b\b\b\b\b\b\b\b\b\b\b\b\b\b\b\b\b\b\b\b\b\b\b\b\b\b\b\b\b\b\b\b\b\b\b\b\b\b\b\b\b\b\b\b\b\b\b 39/96 \r",
        "HERE OPTIM\t\n",
        "BEFORE FORWARD\t\n",
        "1\t\n"
       ]
      },
      {
       "metadata": {},
       "output_type": "pyout",
       "prompt_number": 413,
       "text": [
        "AFTER FORWARD\t\n",
        "NEO\t\n",
        " 4.8930\n",
        " 5.1072\n",
        "[torch.FloatTensor of dimension 2]\n",
        "\n",
        "1\t\n",
        "BLAH\t\n",
        " ** On entry to SGEMM  parameter number 10 had an illegal value\n"
       ]
      },
      {
       "metadata": {},
       "output_type": "pyout",
       "prompt_number": 413,
       "text": [
        " ** On entry to SGEMM  parameter number 10 had an illegal value\n"
       ]
      },
      {
       "metadata": {},
       "output_type": "pyout",
       "prompt_number": 413,
       "text": [
        "\r",
        " [===============================>....................................."
       ]
      },
      {
       "metadata": {},
       "output_type": "pyout",
       "prompt_number": 413,
       "text": [
        "........]                                                   \b\b\b\b\b\b\b\b\b\b\b\b\b\b\b\b\b\b\b\b\b\b\b\b\b\b\b\b\b\b\b\b\b\b\b\b\b\b\b\b\b\b\b\b\b\b\b\b\b\bETA: 7s932ms | Step: 141ms\b\b\b\b\b\b\b\b\b\b\b\b\b\b\b\b\b\b\b\b\b\b\b\b\b\b\b\b\b\b\b\b\b\b\b\b\b\b\b\b\b\b\b\b\b\b\b\b\b\b\b\b\b\b\b\b\b\b\b\b\b\b\b\b\b\b\b\b\b\b\b\b\b 40/96 \r",
        "HERE OPTIM\t\n",
        "BEFORE FORWARD\t\n",
        "1\t\n"
       ]
      },
      {
       "metadata": {},
       "output_type": "pyout",
       "prompt_number": 413,
       "text": [
        "AFTER FORWARD\t\n",
        "NEO\t\n",
        " 4.9431\n",
        " 5.0572\n",
        "[torch.FloatTensor of dimension 2]\n",
        "\n",
        "2\t\n"
       ]
      },
      {
       "metadata": {},
       "output_type": "pyout",
       "prompt_number": 413,
       "text": [
        "BLAH\t\n",
        " ** On entry to SGEMM  parameter number 10 had an illegal value\n"
       ]
      },
      {
       "metadata": {},
       "output_type": "pyout",
       "prompt_number": 413,
       "text": [
        " ** On entry to SGEMM  parameter number 10 had an illegal value\n"
       ]
      },
      {
       "metadata": {},
       "output_type": "pyout",
       "prompt_number": 413,
       "text": [
        "\r",
        " [===============================>.............................................]                                                   \b\b\b\b\b\b\b\b\b\b\b\b\b\b\b\b\b\b\b\b\b\b"
       ]
      },
      {
       "metadata": {},
       "output_type": "pyout",
       "prompt_number": 413,
       "text": [
        "\b\b\b\b\b\b\b\b\b\b\b\b\b\b\b\b\b\b\b\b\b\b\b\b\b\b\b\bETA: 7s706ms | Step: 140ms\b\b\b\b\b\b\b\b\b\b\b\b\b\b\b\b\b\b\b\b\b\b\b\b\b\b\b\b\b\b\b\b\b\b\b\b\b\b\b\b\b\b\b\b\b\b\b\b\b\b\b\b\b\b\b\b\b\b\b\b\b\b\b\b\b\b\b\b\b\b\b\b\b 41/96 \r",
        "HERE OPTIM\t\n",
        "BEFORE FORWARD\t\n",
        "1\t\n"
       ]
      },
      {
       "metadata": {},
       "output_type": "pyout",
       "prompt_number": 413,
       "text": [
        "AFTER FORWARD\t\n",
        "NEO\t\n",
        " 4.8947\n",
        " 5.1056\n",
        "[torch.FloatTensor of dimension 2]\n",
        "\n",
        "1\t\n",
        "BLAH\t\n"
       ]
      },
      {
       "metadata": {},
       "output_type": "pyout",
       "prompt_number": 413,
       "text": [
        " ** On entry to SGEMM  parameter number 10 had an illegal value\n"
       ]
      },
      {
       "metadata": {},
       "output_type": "pyout",
       "prompt_number": 413,
       "text": [
        " ** On entry to SGEMM  parameter number 10 had an illegal value\n"
       ]
      },
      {
       "metadata": {},
       "output_type": "pyout",
       "prompt_number": 413,
       "text": [
        "\r",
        " [================================>............................................]                   "
       ]
      },
      {
       "metadata": {},
       "output_type": "pyout",
       "prompt_number": 413,
       "text": [
        "                                \b\b\b\b\b\b\b\b\b\b\b\b\b\b\b\b\b\b\b\b\b\b\b\b\b\b\b\b\b\b\b\b\b\b\b\b\b\b\b\b\b\b\b\b\b\b\b\b\b\bETA: 7s401ms | Step: 137ms\b\b\b\b\b\b\b\b\b\b\b\b\b\b\b\b\b\b\b\b\b\b\b\b\b\b\b\b\b\b\b\b\b\b\b\b\b\b\b\b\b\b\b\b\b\b\b\b\b\b\b\b\b\b\b\b\b\b\b\b\b\b\b\b\b\b\b\b\b\b\b\b\b 42/96 \r",
        "HERE OPTIM\t\n",
        "BEFORE FORWARD\t\n",
        "1\t\n"
       ]
      },
      {
       "metadata": {},
       "output_type": "pyout",
       "prompt_number": 413,
       "text": [
        "AFTER FORWARD\t\n",
        "NEO\t\n",
        " 4.9447\n",
        " 5.0555\n",
        "[torch.FloatTensor of dimension 2]\n",
        "\n",
        "2\t\n",
        "BLAH\t\n"
       ]
      },
      {
       "metadata": {},
       "output_type": "pyout",
       "prompt_number": 413,
       "text": [
        " ** On entry to SGEMM  parameter number 10 had an illegal value\n"
       ]
      },
      {
       "metadata": {},
       "output_type": "pyout",
       "prompt_number": 413,
       "text": [
        " ** On entry to SGEMM  parameter number 10 had an illegal value\n"
       ]
      },
      {
       "metadata": {},
       "output_type": "pyout",
       "prompt_number": 413,
       "text": [
        "\r",
        " [=================================>...........................................]                                                   \b\b\b\b\b\b\b\b\b\b\b\b\b\b\b\b\b\b\b\b\b\b\b\b\b\b\b\b\b\b\b\b\b\b\b\b\b\b\b\b\b\b\b\b\b\b\b\b\b\bETA: 8s387ms | Step: 158ms\b\b\b\b\b\b\b\b\b\b\b\b\b\b\b\b\b\b\b\b\b\b\b\b\b\b\b\b\b\b\b\b\b\b\b\b\b\b\b\b\b\b\b\b\b\b\b\b\b\b\b\b\b\b\b\b\b\b\b\b\b\b\b\b\b\b\b\b\b\b\b\b\b 43/96 \r",
        "HERE OPTIM\t\n",
        "BEFORE FORWARD\t\n",
        "1\t\n"
       ]
      },
      {
       "metadata": {},
       "output_type": "pyout",
       "prompt_number": 413,
       "text": [
        "AFTER FORWARD\t\n",
        "NEO\t\n",
        " 4.8963\n",
        " 5.1039\n",
        "[torch.FloatTensor of dimension 2]\n",
        "\n",
        "2\t\n",
        "BLAH\t\n",
        " ** On entry to SGEMM  parameter number 10 had an illegal value\n"
       ]
      },
      {
       "metadata": {},
       "output_type": "pyout",
       "prompt_number": 413,
       "text": [
        " ** On entry to SGEMM  parameter number 10 had an illegal value\n"
       ]
      },
      {
       "metadata": {},
       "output_type": "pyout",
       "prompt_number": 413,
       "text": [
        "\r",
        " [==================================>..........................................]                                                   \b\b\b\b\b\b\b\b\b\b\b\b\b\b\b\b\b\b\b\b\b\b\b\b\b\b\b\b\b\b\b\b\b\b\b\b\b\b\b\b\b\b\b\b\b\b\b\b\b\bETA: 8s87ms | Step: 155ms\b\b\b\b\b\b\b\b\b\b\b\b\b\b\b\b\b\b\b\b\b\b\b\b\b\b\b\b\b\b\b\b\b\b\b\b\b\b\b\b\b\b\b\b\b\b\b\b\b\b\b\b\b\b\b\b\b\b\b\b\b\b\b\b\b\b\b\b\b\b\b\b 44/96 \r",
        "HERE OPTIM\t\n",
        "BEFORE FORWARD\t\n",
        "1\t\n"
       ]
      },
      {
       "metadata": {},
       "output_type": "pyout",
       "prompt_number": 413,
       "text": [
        "AFTER FORWARD\t\n",
        "NEO\t\n",
        " 4.8473\n",
        " 5.1528\n",
        "[torch.FloatTensor of dimension 2]\n",
        "\n",
        "1\t\n",
        "BLAH\t\n"
       ]
      },
      {
       "metadata": {},
       "output_type": "pyout",
       "prompt_number": 413,
       "text": [
        " ** On entry to SGEMM  parameter number 10 had an illegal value\n"
       ]
      },
      {
       "metadata": {},
       "output_type": "pyout",
       "prompt_number": 413,
       "text": [
        " ** On entry to SGEMM  parameter number 10 had an illegal value\n"
       ]
      },
      {
       "metadata": {},
       "output_type": "pyout",
       "prompt_number": 413,
       "text": [
        "\r",
        " [===================================>.........................................]                                                   \b\b\b\b\b\b\b\b\b\b\b\b\b\b\b\b\b\b\b\b\b\b\b\b\b\b\b\b\b\b\b\b\b\b\b\b\b\b\b\b\b\b\b\b\b\b\b\b\b\bETA: 7s762ms | Step: 152ms\b\b\b\b\b\b\b\b\b\b\b\b\b\b\b\b\b\b\b\b\b\b\b\b\b\b\b\b\b\b\b\b\b\b\b\b\b\b\b\b\b\b\b\b\b\b\b\b\b\b\b\b\b\b\b\b\b\b\b\b\b\b\b\b\b\b\b\b\b\b\b\b\b 45/96 \r",
        "HERE OPTIM\t\n",
        "BEFORE FORWARD\t\n",
        "1\t\n"
       ]
      },
      {
       "metadata": {},
       "output_type": "pyout",
       "prompt_number": 413,
       "text": [
        "AFTER FORWARD\t\n",
        "NEO\t\n",
        " 4.8978\n",
        " 5.1023\n",
        "[torch.FloatTensor of dimension 2]\n",
        "\n",
        "2\t\n",
        "BLAH\t\n"
       ]
      },
      {
       "metadata": {},
       "output_type": "pyout",
       "prompt_number": 413,
       "text": [
        " ** On entry to SGEMM  parameter number 10 had an illegal value\n"
       ]
      },
      {
       "metadata": {},
       "output_type": "pyout",
       "prompt_number": 413,
       "text": [
        " ** On entry to SGEMM  parameter number 10 had an illegal value\n"
       ]
      },
      {
       "metadata": {},
       "output_type": "pyout",
       "prompt_number": 413,
       "text": [
        "\r",
        " [===================================>.........................................]                                                   \b\b\b\b\b\b\b\b\b\b\b\b\b\b\b\b\b\b\b\b\b\b\b\b\b\b\b\b\b\b\b\b\b\b\b\b\b\b\b\b\b\b\b\b\b\b\b\b\b\bETA: 7s476ms | Step: 149ms\b\b\b\b\b\b\b\b\b\b\b\b\b\b\b\b\b\b\b\b\b\b\b\b\b\b\b\b\b\b\b\b\b\b\b\b\b\b\b\b\b\b\b\b\b\b\b\b\b\b\b\b\b\b\b\b\b\b\b\b\b\b\b\b\b\b\b\b\b\b\b\b\b 46/96 \r",
        "HERE OPTIM\t\n",
        "BEFORE FORWARD\t\n",
        "1\t\n"
       ]
      },
      {
       "metadata": {},
       "output_type": "pyout",
       "prompt_number": 413,
       "text": [
        "AFTER FORWARD\t"
       ]
      },
      {
       "metadata": {},
       "output_type": "pyout",
       "prompt_number": 413,
       "text": [
        "\n",
        "NEO\t\n",
        " 4.8499\n",
        " 5.1503\n",
        "[torch.FloatTensor of dimension 2]\n",
        "\n",
        "2\t\n",
        "BLAH\t\n",
        " ** On entry to SGEMM  parameter number 10 had an illegal value\n"
       ]
      },
      {
       "metadata": {},
       "output_type": "pyout",
       "prompt_number": 413,
       "text": [
        " ** On entry to SGEMM  parameter number 10 had an illegal value\n"
       ]
      },
      {
       "metadata": {},
       "output_type": "pyout",
       "prompt_number": 413,
       "text": [
        "\r",
        " [====================================>........................................]                                                   \b\b\b\b\b\b\b\b\b\b\b\b\b\b\b\b\b\b\b\b\b\b\b\b\b\b\b\b\b\b\b\b\b\b\b\b\b\b\b\b\b\b\b\b\b\b\b\b\b\bETA: 7s251ms | Step: 147ms\b\b\b\b\b\b\b\b\b\b\b\b\b\b\b\b\b\b\b\b\b\b\b\b\b\b\b\b\b\b\b\b\b\b\b\b\b\b\b\b\b\b\b\b\b\b\b\b\b\b\b\b\b\b\b\b\b\b\b\b\b\b\b\b\b\b\b\b\b\b\b\b\b 47/96 \r",
        "HERE OPTIM\t\n",
        "BEFORE FORWARD\t\n",
        "1\t\n"
       ]
      },
      {
       "metadata": {},
       "output_type": "pyout",
       "prompt_number": 413,
       "text": [
        "AFTER FORWARD\t\n",
        "NEO\t\n",
        " 4.8014\n",
        " 5.1988\n",
        "[torch.FloatTensor of dimension 2]\n",
        "\n",
        "2\t\n",
        "BLAH\t\n",
        " ** On entry to SGEMM  parameter number 10 had an illegal value\n"
       ]
      },
      {
       "metadata": {},
       "output_type": "pyout",
       "prompt_number": 413,
       "text": [
        " ** On entry to SGEMM  parameter number 10 had an illegal value\n"
       ]
      },
      {
       "metadata": {},
       "output_type": "pyout",
       "prompt_number": 413,
       "text": [
        "\r",
        " [=====================================>.......................................]                                                   \b\b\b\b\b\b\b\b\b\b\b\b\b\b\b\b\b\b\b\b\b\b\b\b\b\b\b\b\b\b\b\b\b\b\b\b\b\b\b\b\b\b\b\b\b\b\b\b\b\bETA: 6s978ms | Step: 145ms\b\b\b\b\b\b\b\b\b\b\b\b\b\b\b\b\b\b\b\b\b\b\b\b\b\b\b\b\b\b\b\b\b\b\b\b\b\b\b\b\b\b\b\b\b\b\b\b\b\b\b\b\b\b\b\b\b\b\b\b\b\b\b\b\b\b\b\b\b\b\b\b\b "
       ]
      },
      {
       "metadata": {},
       "output_type": "pyout",
       "prompt_number": 413,
       "text": [
        "48/96 \r",
        "HERE OPTIM\t\n",
        "BEFORE FORWARD\t\n",
        "1\t\n"
       ]
      },
      {
       "metadata": {},
       "output_type": "pyout",
       "prompt_number": 413,
       "text": [
        "AFTER FORWARD\t\n",
        "NEO\t\n",
        " 4.7534\n",
        " 5.2468\n",
        "[torch.FloatTensor of dimension 2]\n",
        "\n",
        "2\t\n",
        "BLAH\t\n",
        " ** On entry to SGEMM  parameter number 10 had an illegal value\n"
       ]
      },
      {
       "metadata": {},
       "output_type": "pyout",
       "prompt_number": 413,
       "text": [
        " ** On entry to SGEMM  parameter number 10 had an illegal value\n"
       ]
      },
      {
       "metadata": {},
       "output_type": "pyout",
       "prompt_number": 413,
       "text": [
        "\r",
        " [============================="
       ]
      },
      {
       "metadata": {},
       "output_type": "pyout",
       "prompt_number": 413,
       "text": [
        "=========>......................................]                                                   \b\b\b\b\b\b\b\b\b\b\b\b\b\b\b\b\b\b\b\b\b\b\b\b\b\b\b\b\b\b\b\b\b\b\b\b\b\b\b\b\b\b\b\b\b\b\b\b\b\bETA: 6s728ms | Step: 143ms\b\b\b\b\b\b\b\b\b\b\b\b\b\b\b\b\b\b\b\b\b\b\b\b\b\b\b\b\b\b\b\b\b\b\b\b\b\b\b\b\b\b\b\b\b\b\b\b\b\b\b\b\b\b\b\b\b\b\b\b\b\b\b\b\b\b\b\b\b\b\b\b\b 49/96 \r",
        "HERE OPTIM\t\n",
        "BEFORE FORWARD\t\n",
        "1\t\n"
       ]
      },
      {
       "metadata": {},
       "output_type": "pyout",
       "prompt_number": 413,
       "text": [
        "AFTER FORWARD\t\n",
        "NEO\t\n",
        " 4.7058\n",
        " 5.2944\n",
        "[torch.FloatTensor of dimension 2]\n",
        "\n",
        "1\t\n",
        "BLAH\t\n",
        " ** On entry to SGEMM  parameter number 10 had an illegal value\n"
       ]
      },
      {
       "metadata": {},
       "output_type": "pyout",
       "prompt_number": 413,
       "text": [
        " ** On entry to SGEMM  parameter number 10 had an illegal value\n"
       ]
      },
      {
       "metadata": {},
       "output_type": "pyout",
       "prompt_number": 413,
       "text": [
        "\r",
        " [=======================================>.....................................]                                                   \b\b\b\b\b\b\b\b\b\b\b\b\b\b\b\b\b\b\b\b\b\b\b\b\b\b\b\b\b\b\b\b\b\b\b\b\b\b\b\b\b\b\b\b\b\b\b\b\b\bETA: 6s458ms | Step: 140ms\b\b\b\b\b\b\b\b\b\b\b\b\b\b\b\b\b\b\b\b\b\b\b\b\b\b\b\b\b\b\b\b\b\b\b\b\b\b\b\b\b\b\b\b\b\b\b\b\b\b\b\b\b\b\b\b\b\b\b\b\b\b\b\b\b\b\b\b\b\b\b\b\b 50/96 \r",
        "HERE OPTIM\t\n",
        "BEFORE FORWARD\t\n",
        "1\t\n"
       ]
      },
      {
       "metadata": {},
       "output_type": "pyout",
       "prompt_number": 413,
       "text": [
        "AFTER FORWARD\t\n",
        "NEO\t\n",
        " 4.7578\n",
        " 5.2424\n",
        "[torch.FloatTensor of dimension 2]\n",
        "\n",
        "1\t\n",
        "BLAH\t\n",
        " ** On entry to SGEMM  parameter number 10 had an illegal value\n"
       ]
      },
      {
       "metadata": {},
       "output_type": "pyout",
       "prompt_number": 413,
       "text": [
        " ** On entry to SGEMM  parameter number 10 had an illegal value\n"
       ]
      },
      {
       "metadata": {},
       "output_type": "pyout",
       "prompt_number": 413,
       "text": [
        "\r",
        " [=======================================>.....................................]                                                   \b\b\b\b\b\b\b\b\b\b\b\b\b\b\b\b\b\b\b\b\b\b\b\b\b\b\b\b\b\b\b\b\b\b\b\b\b\b\b\b\b\b\b\b\b\b\b\b\b\bETA: 6s198ms | Step: 137ms\b\b\b\b\b\b\b\b\b\b\b\b\b\b\b\b\b\b\b\b\b\b\b\b\b\b\b\b\b\b\b\b\b\b\b\b\b\b\b\b\b\b\b\b\b\b\b\b\b\b\b\b\b\b\b\b\b\b\b\b\b\b\b\b\b\b\b\b\b\b\b\b\b 51/96 \r",
        "HERE OPTIM\t\n",
        "BEFORE FORWARD\t\n",
        "1\t\n"
       ]
      },
      {
       "metadata": {},
       "output_type": "pyout",
       "prompt_number": 413,
       "text": [
        "AFTER FORWARD\t\n",
        "NEO\t\n",
        " 4.8102\n",
        " 5.1900\n",
        "[torch.FloatTensor of dimension 2]\n",
        "\n",
        "2\t\n",
        "BLAH\t\n"
       ]
      },
      {
       "metadata": {},
       "output_type": "pyout",
       "prompt_number": 413,
       "text": [
        " ** On entry to SGEMM  parameter number 10 had an illegal value\n"
       ]
      },
      {
       "metadata": {},
       "output_type": "pyout",
       "prompt_number": 413,
       "text": [
        " ** On entry to SGEMM  parameter number 10 had an illegal value\n"
       ]
      },
      {
       "metadata": {},
       "output_type": "pyout",
       "prompt_number": 413,
       "text": [
        "\r",
        " [========================================>....................................]                                                   \b\b\b\b\b\b\b\b\b\b\b\b\b\b\b\b\b\b\b\b\b\b\b\b\b\b\b\b\b\b\b\b\b\b\b\b\b\b\b\b\b\b\b\b\b\b\b\b\b\bETA: 5s988ms | Step: 136ms\b\b\b\b\b\b\b\b\b\b\b\b\b\b\b\b\b\b\b\b\b\b\b\b\b\b\b\b\b\b\b\b\b\b\b\b\b\b\b\b\b\b\b\b\b\b\b\b\b\b\b\b\b\b\b\b\b\b\b\b\b\b\b\b\b\b\b\b\b\b\b\b\b 52/96 \r",
        "HERE OPTIM\t\n",
        "BEFORE FORWARD\t\n",
        "1\t\n"
       ]
      },
      {
       "metadata": {},
       "output_type": "pyout",
       "prompt_number": 413,
       "text": [
        "AFTER FORWARD\t\n",
        "NEO\t\n",
        " 4.7631\n",
        " 5.2371\n",
        "[torch.FloatTensor of dimension 2]\n",
        "\n",
        "1\t\n",
        "BLAH\t\n",
        " ** On entry to SGEMM  parameter number 10 had an illegal value\n"
       ]
      },
      {
       "metadata": {},
       "output_type": "pyout",
       "prompt_number": 413,
       "text": [
        " ** On entry to SGEMM  parameter number 10 had an illegal value\n"
       ]
      },
      {
       "metadata": {},
       "output_type": "pyout",
       "prompt_number": 413,
       "text": [
        "\r",
        " [===="
       ]
      },
      {
       "metadata": {},
       "output_type": "pyout",
       "prompt_number": 413,
       "text": [
        "=====================================>...................................]                                                   \b\b\b\b\b\b\b\b\b\b\b\b\b\b\b\b\b\b\b\b\b\b\b\b\b\b\b\b\b\b\b\b\b\b\b\b\b\b\b\b\b\b\b\b\b\b\b\b\b\bETA: 5s752ms | Step: 133ms\b\b\b\b\b\b\b\b\b\b\b\b\b\b\b\b\b\b\b\b\b\b\b\b\b\b\b\b\b\b\b\b\b\b\b\b\b\b\b\b\b\b\b\b\b\b\b\b\b\b\b\b\b\b\b\b\b\b\b\b\b\b\b\b\b\b\b\b\b\b\b\b\b 53/96 \r",
        "HERE OPTIM\t\n",
        "BEFORE FORWARD\t\n",
        "1\t\n"
       ]
      },
      {
       "metadata": {},
       "output_type": "pyout",
       "prompt_number": 413,
       "text": [
        "AFTER FORWARD\t\n",
        "NEO\t\n",
        " 4.8145\n",
        " 5.1857\n",
        "[torch.FloatTensor of dimension 2]\n",
        "\n",
        "2\t\n",
        "BLAH\t\n"
       ]
      },
      {
       "metadata": {},
       "output_type": "pyout",
       "prompt_number": 413,
       "text": [
        " ** On entry to SGEMM  parameter number 10 had an illegal value\n"
       ]
      },
      {
       "metadata": {},
       "output_type": "pyout",
       "prompt_number": 413,
       "text": [
        " ** On entry to SGEMM  parameter number 10 had an illegal value\n"
       ]
      },
      {
       "metadata": {},
       "output_type": "pyout",
       "prompt_number": 413,
       "text": [
        "\r",
        " [==========="
       ]
      },
      {
       "metadata": {},
       "output_type": "pyout",
       "prompt_number": 413,
       "text": [
        "===============================>..................................]                                                   \b\b\b\b\b\b\b\b\b\b\b\b\b\b\b\b\b\b\b\b\b\b\b\b\b\b\b\b\b\b\b\b\b\b\b\b\b\b\b\b\b\b\b\b\b\b\b\b\b\bETA: 5s727ms | Step: 136ms\b\b\b\b\b\b\b\b\b\b\b\b\b\b\b\b\b\b\b\b\b\b\b\b\b\b\b\b\b\b\b\b\b\b\b\b\b\b\b\b\b\b\b\b\b\b\b\b\b\b\b\b\b\b\b\b\b\b\b\b\b\b\b\b\b\b\b\b\b\b\b\b\b 54/96 \r",
        "HERE OPTIM\t\n",
        "BEFORE FORWARD\t\n",
        "1\t\n"
       ]
      },
      {
       "metadata": {},
       "output_type": "pyout",
       "prompt_number": 413,
       "text": [
        "AFTER FORWARD\t\n",
        "NEO\t\n",
        " 4.7673\n",
        " 5.2329\n",
        "[torch.FloatTensor of dimension 2]\n",
        "\n",
        "1\t\n",
        "BLAH\t\n",
        " ** On entry to SGEMM  parameter number 10 had an illegal value\n"
       ]
      },
      {
       "metadata": {},
       "output_type": "pyout",
       "prompt_number": 413,
       "text": [
        " ** On entry to SGEMM  parameter number 10 had an illegal value\n"
       ]
      },
      {
       "metadata": {},
       "output_type": "pyout",
       "prompt_number": 413,
       "text": [
        "\r",
        " [===========================================>.................................]                                                   \b\b\b\b\b\b\b\b\b\b\b\b\b\b\b\b\b\b\b\b\b\b\b\b\b\b\b\b\b\b\b\b\b\b\b\b\b\b\b\b\b\b\b\b\b\b\b\b\b\bETA: 5s500ms | Step: 134ms\b\b\b\b\b\b\b\b\b\b\b\b\b\b\b\b\b\b\b\b\b\b\b\b\b\b\b\b\b\b\b\b\b\b\b\b\b\b\b\b\b\b\b\b\b\b\b\b\b\b\b\b\b\b\b\b\b\b\b\b\b\b\b\b\b\b\b\b\b\b\b\b\b 55/96 \r",
        "HERE OPTIM\t\n",
        "BEFORE FORWARD\t\n",
        "1\t\n"
       ]
      },
      {
       "metadata": {},
       "output_type": "pyout",
       "prompt_number": 413,
       "text": [
        "AFTER FORWARD\t\n",
        "NEO\t\n",
        " 4.8186\n",
        " 5.1816\n",
        "[torch.FloatTensor of dimension 2]\n",
        "\n",
        "2\t\n",
        "BLAH\t\n"
       ]
      },
      {
       "metadata": {},
       "output_type": "pyout",
       "prompt_number": 413,
       "text": [
        " ** On entry to SGEMM  parameter number 10 had an illegal value\n"
       ]
      },
      {
       "metadata": {},
       "output_type": "pyout",
       "prompt_number": 413,
       "text": [
        " ** On entry to SGEMM  parameter number 10 had an illegal value\n"
       ]
      },
      {
       "metadata": {},
       "output_type": "pyout",
       "prompt_number": 413,
       "text": [
        "\r",
        " [===========================================>.................................]                                                   \b\b\b\b\b\b\b\b\b\b\b\b\b\b\b\b\b\b\b\b\b\b\b\b\b\b\b\b\b\b\b\b\b\b\b\b\b\b\b\b\b\b\b\b\b\b\b\b\b\bETA: 5s667ms | Step: 141ms\b\b\b\b\b\b\b\b\b\b\b\b\b\b\b\b\b\b\b\b\b\b\b\b\b\b\b\b\b\b\b\b\b\b\b\b\b\b\b\b\b\b\b\b\b\b\b\b\b\b\b\b\b\b\b\b\b\b\b\b\b\b\b\b\b\b\b\b\b\b\b\b\b 56/96 \r",
        "HERE OPTIM\t\n",
        "BEFORE FORWARD\t\n",
        "1\t\n"
       ]
      },
      {
       "metadata": {},
       "output_type": "pyout",
       "prompt_number": 413,
       "text": [
        "AFTER FORWARD\t\n",
        "NEO\t\n",
        " 4.7714\n",
        " 5.2288\n",
        "[torch.FloatTensor of dimension 2]\n",
        "\n",
        "2\t\n",
        "BLAH\t\n"
       ]
      },
      {
       "metadata": {},
       "output_type": "pyout",
       "prompt_number": 413,
       "text": [
        " ** On entry to SGEMM  parameter number 10 had an illegal value\n"
       ]
      },
      {
       "metadata": {},
       "output_type": "pyout",
       "prompt_number": 413,
       "text": [
        " ** On entry to SGEMM  parameter number 10 had an illegal value\n"
       ]
      },
      {
       "metadata": {},
       "output_type": "pyout",
       "prompt_number": 413,
       "text": [
        "\r",
        " [============================================>................................]                                                   \b\b\b\b\b\b\b\b\b\b\b\b\b\b\b\b\b\b\b\b\b\b\b\b\b\b\b\b\b\b\b\b\b\b\b\b\b\b\b\b\b\b\b\b\b\b\b\b\b\bETA: 5s528ms | Step: 141ms\b\b\b\b\b\b\b\b\b\b\b\b\b\b\b\b\b\b\b\b\b\b\b\b\b\b\b\b\b\b\b\b\b\b\b\b\b\b\b\b\b\b\b\b\b\b\b\b\b\b\b\b\b\b\b\b\b\b\b\b\b\b\b\b\b\b\b\b\b\b\b\b\b 57/96 \r",
        "HERE OPTIM\t\n",
        "BEFORE FORWARD\t\n",
        "1\t\n"
       ]
      },
      {
       "metadata": {},
       "output_type": "pyout",
       "prompt_number": 413,
       "text": [
        "AFTER FORWARD\t\n",
        "NEO\t\n",
        " 4.7237\n",
        " 5.2765\n",
        "[torch.FloatTensor of dimension 2]\n",
        "\n",
        "1\t\n",
        "BLAH\t\n"
       ]
      },
      {
       "metadata": {},
       "output_type": "pyout",
       "prompt_number": 413,
       "text": [
        " ** On entry to SGEMM  parameter number 10 had an illegal value\n"
       ]
      },
      {
       "metadata": {},
       "output_type": "pyout",
       "prompt_number": 413,
       "text": [
        " ** On entry to SGEMM  parameter number 10 had an illegal value\n"
       ]
      },
      {
       "metadata": {},
       "output_type": "pyout",
       "prompt_number": 413,
       "text": [
        "\r",
        " [=============================================>...............................]                                                   \b\b\b\b\b\b\b\b\b\b\b\b\b\b\b\b\b\b\b\b\b\b\b\b\b\b\b\b\b\b\b\b\b\b\b\b\b\b\b\b\b\b\b\b\b\b\b\b\b\bETA: 5s299ms | Step: 139ms\b\b\b\b\b\b\b\b\b\b\b\b\b\b\b\b\b\b\b\b\b\b\b\b\b\b\b\b\b\b\b\b\b\b\b\b\b\b\b\b\b\b\b\b\b\b\b\b\b\b\b\b\b\b\b\b\b\b\b\b\b\b\b\b\b\b\b\b\b\b\b\b\b 58/96 \r",
        "HERE OPTIM\t\n",
        "BEFORE FORWARD\t\n",
        "1\t\n"
       ]
      },
      {
       "metadata": {},
       "output_type": "pyout",
       "prompt_number": 413,
       "text": [
        "AFTER FORWARD\t\n",
        "NEO\t\n",
        " 4.7755\n",
        " 5.2247\n",
        "[torch.FloatTensor of dimension 2]\n",
        "\n",
        "1\t\n",
        "BLAH\t\n",
        " ** On entry to SGEMM  parameter number 10 had an illegal value\n"
       ]
      },
      {
       "metadata": {},
       "output_type": "pyout",
       "prompt_number": 413,
       "text": [
        " ** On entry to SGEMM  parameter number 10 had an illegal value\n"
       ]
      },
      {
       "metadata": {},
       "output_type": "pyout",
       "prompt_number": 413,
       "text": [
        "\r",
        " [==============================================>..............................]                                                   \b\b\b\b\b\b\b\b\b\b\b\b\b\b\b\b\b\b\b\b\b\b\b\b\b\b\b\b\b\b\b\b\b\b\b\b\b\b\b\b\b\b\b\b\b\b\b\b\b\bETA: 5s75ms | Step: 137ms\b\b\b\b\b\b\b\b\b\b\b\b\b\b\b\b\b\b\b\b\b\b\b\b\b\b\b\b\b\b\b\b\b\b\b\b\b\b\b\b\b\b\b\b\b\b\b\b\b\b\b\b\b\b\b\b\b\b\b\b\b\b\b\b\b\b\b\b\b\b\b\b 59/96 \r",
        "HERE OPTIM\t\n",
        "BEFORE FORWARD\t\n",
        "1\t\n"
       ]
      },
      {
       "metadata": {},
       "output_type": "pyout",
       "prompt_number": 413,
       "text": [
        "AFTER FORWARD\t\n",
        "NEO\t\n",
        " 4.8277\n",
        " 5.1725\n",
        "[torch.FloatTensor of dimension 2]\n",
        "\n",
        "2\t\n",
        "BLAH\t\n",
        " ** On entry to SGEMM  parameter number 10 had an illegal value\n"
       ]
      },
      {
       "metadata": {},
       "output_type": "pyout",
       "prompt_number": 413,
       "text": [
        " ** On entry to SGEMM  parameter number 10 had an illegal value\n"
       ]
      },
      {
       "metadata": {},
       "output_type": "pyout",
       "prompt_number": 413,
       "text": [
        "\r",
        " [===============================================>.............................]                                                   \b\b\b\b\b\b\b\b\b\b\b\b\b\b\b\b\b\b\b\b\b\b\b\b\b\b\b\b\b\b\b\b\b\b\b\b\b\b\b\b\b\b\b\b\b\b\b\b\b\bETA: 4s915ms | Step: 136ms\b\b\b\b\b\b\b\b\b\b\b\b\b\b\b\b\b\b\b\b\b\b\b\b\b\b\b\b\b\b\b\b\b\b\b\b\b\b\b\b\b\b\b\b\b\b\b\b\b\b\b\b\b\b\b\b\b\b\b\b\b\b\b\b\b\b\b\b\b\b\b\b\b 60/96 \r",
        "HERE OPTIM\t\n",
        "BEFORE FORWARD\t\n",
        "1\t\n"
       ]
      },
      {
       "metadata": {},
       "output_type": "pyout",
       "prompt_number": 413,
       "text": [
        "AFTER FORWARD\t"
       ]
      },
      {
       "metadata": {},
       "output_type": "pyout",
       "prompt_number": 413,
       "text": [
        "\n",
        "NEO\t\n",
        " 4.7805\n",
        " 5.2197\n",
        "[torch.FloatTensor of dimension 2]\n",
        "\n",
        "2\t\n",
        "BLAH\t\n",
        " ** On entry to SGEMM  parameter number 10 had an illegal value\n"
       ]
      },
      {
       "metadata": {},
       "output_type": "pyout",
       "prompt_number": 413,
       "text": [
        " ** On entry to SGEMM  parameter number 10 had an illegal value\n"
       ]
      },
      {
       "metadata": {},
       "output_type": "pyout",
       "prompt_number": 413,
       "text": [
        "\r",
        " [===============================================>.............................]                                                   \b\b\b\b\b\b\b\b\b\b\b\b\b\b\b\b\b\b\b\b\b\b\b\b\b\b\b\b\b\b\b\b\b\b\b\b\b\b\b\b\b\b\b\b\b\b\b\b\b\bETA: 4s718ms | Step: 134ms\b\b\b\b\b\b\b\b\b\b\b\b\b\b\b\b\b\b\b\b\b\b\b\b\b\b\b\b\b\b\b\b\b\b\b\b\b\b\b\b\b\b\b\b\b\b\b\b\b\b\b\b\b\b\b\b\b\b\b\b\b\b\b\b\b\b\b\b\b\b\b\b\b 61/96 \r",
        "HERE OPTIM\t\n",
        "BEFORE FORWARD\t\n",
        "1\t\n"
       ]
      },
      {
       "metadata": {},
       "output_type": "pyout",
       "prompt_number": 413,
       "text": [
        "AFTER FORWARD\t\n",
        "NEO\t\n",
        " 4.7327\n",
        " 5.2675\n",
        "[torch.FloatTensor of dimension 2]\n",
        "\n",
        "2\t\n",
        "BLAH\t\n",
        " ** On entry to SGEMM  parameter number 10 had an illegal value\n"
       ]
      },
      {
       "metadata": {},
       "output_type": "pyout",
       "prompt_number": 413,
       "text": [
        " ** On entry to SGEMM  parameter number 10 had an illegal value\n"
       ]
      },
      {
       "metadata": {},
       "output_type": "pyout",
       "prompt_number": 413,
       "text": [
        "\r",
        " [================================================>............................]                                                   \b\b\b\b\b\b\b\b\b\b\b\b\b\b\b\b\b\b\b\b\b\b\b\b\b\b\b\b\b\b\b\b\b\b\b\b\b\b\b\b\b\b\b\b\b\b\b\b\b\bETA: 4s543ms | Step: 133ms\b\b\b\b\b\b\b\b\b\b\b\b\b\b\b\b\b\b\b\b\b\b\b\b\b\b\b\b\b\b\b\b\b\b\b\b\b\b\b\b\b\b\b\b\b\b\b\b\b\b\b\b\b\b\b\b\b\b\b\b\b\b\b\b\b\b\b\b\b\b\b\b\b 62/96 \r",
        "HERE OPTIM\t\n",
        "BEFORE FORWARD\t\n",
        "1\t\n"
       ]
      },
      {
       "metadata": {},
       "output_type": "pyout",
       "prompt_number": 413,
       "text": [
        "AFTER FORWARD\t\n",
        "NEO\t\n",
        " 4.6853\n",
        " 5.3149\n",
        "[torch.FloatTensor of dimension 2]\n",
        "\n"
       ]
      },
      {
       "metadata": {},
       "output_type": "pyout",
       "prompt_number": 413,
       "text": [
        "2\t\n",
        "BLAH\t\n",
        " ** On entry to SGEMM  parameter number 10 had an illegal value\n"
       ]
      },
      {
       "metadata": {},
       "output_type": "pyout",
       "prompt_number": 413,
       "text": [
        " ** On entry to SGEMM  parameter number 10 had an illegal value\n"
       ]
      },
      {
       "metadata": {},
       "output_type": "pyout",
       "prompt_number": 413,
       "text": [
        "\r",
        " [=================================================>...........................]                                                   \b\b\b\b\b\b\b\b\b\b\b\b\b\b\b\b\b\b\b\b\b\b\b\b\b\b\b\b\b\b\b\b\b\b\b\b\b\b\b\b\b\b\b\b\b\b\b\b\b\bETA: 4s363ms | Step: 132ms\b\b\b\b\b\b\b\b\b\b\b\b\b\b\b\b\b\b\b\b\b\b\b\b\b\b\b\b\b\b\b\b\b\b\b\b\b\b\b\b\b\b\b\b\b\b\b\b\b\b\b\b\b\b\b\b\b\b\b\b\b\b\b\b\b\b\b\b\b\b\b\b\b 63/96 \r",
        "HERE OPTIM\t\n",
        "BEFORE FORWARD\t\n",
        "1\t\n"
       ]
      },
      {
       "metadata": {},
       "output_type": "pyout",
       "prompt_number": 413,
       "text": [
        "AFTER FORWARD\t\n",
        "NEO\t\n",
        " 4.6385\n",
        " 5.3617\n",
        "[torch.FloatTensor of dimension 2]\n",
        "\n",
        "2\t\n",
        "BLAH\t\n",
        " ** On entry to SGEMM  parameter number 10 had an illegal value\n"
       ]
      },
      {
       "metadata": {},
       "output_type": "pyout",
       "prompt_number": 413,
       "text": [
        " ** On entry to SGEMM  parameter number 10 had an illegal value\n"
       ]
      },
      {
       "metadata": {},
       "output_type": "pyout",
       "prompt_number": 413,
       "text": [
        "\r",
        " [==================================================>..........................]       "
       ]
      },
      {
       "metadata": {},
       "output_type": "pyout",
       "prompt_number": 413,
       "text": [
        "                                            \b\b\b\b\b\b\b\b\b\b\b\b\b\b\b\b\b\b\b\b\b\b\b\b\b\b\b\b\b\b\b\b\b\b\b\b\b\b\b\b\b\b\b\b\b\b\b\b\b\bETA: 4s179ms | Step: 130ms\b\b\b\b\b\b\b\b\b\b\b\b\b\b\b\b\b\b\b\b\b\b\b\b\b\b\b\b\b\b\b\b\b\b\b\b\b\b\b\b\b\b\b\b\b\b\b\b\b\b\b\b\b\b\b\b\b\b\b\b\b\b\b\b\b\b\b\b\b\b\b\b\b 64/96 \r",
        "HERE OPTIM\t\n",
        "BEFORE FORWARD\t\n",
        "1\t\n"
       ]
      },
      {
       "metadata": {},
       "output_type": "pyout",
       "prompt_number": 413,
       "text": [
        "AFTER FORWARD\t\n",
        "NEO\t\n"
       ]
      },
      {
       "metadata": {},
       "output_type": "pyout",
       "prompt_number": 413,
       "text": [
        " 4.5921\n",
        " 5.4081\n",
        "[torch.FloatTensor of dimension 2]\n",
        "\n",
        "1\t\n",
        "BLAH\t\n",
        " ** On entry to SGEMM  parameter number 10 had an illegal value\n"
       ]
      },
      {
       "metadata": {},
       "output_type": "pyout",
       "prompt_number": 413,
       "text": [
        " ** On entry to SGEMM  parameter number 10 had an illegal value\n"
       ]
      },
      {
       "metadata": {},
       "output_type": "pyout",
       "prompt_number": 413,
       "text": [
        "\r",
        " [===================================================>.........................]                                                   \b\b\b\b\b\b\b\b\b\b\b\b\b\b\b\b\b\b\b\b\b\b\b\b\b\b\b\b\b\b\b\b\b\b\b\b\b\b\b\b\b\b\b\b\b\b\b\b\b\bETA: 3s995ms | Step: 128ms\b\b\b\b\b\b\b\b\b\b\b\b\b\b\b\b\b\b\b\b\b\b\b\b\b\b\b\b\b\b\b\b\b\b\b\b\b\b\b\b\b\b\b\b\b\b\b\b\b\b\b\b\b\b\b\b\b\b\b\b\b\b\b\b\b"
       ]
      },
      {
       "metadata": {},
       "output_type": "pyout",
       "prompt_number": 413,
       "text": [
        "\b\b\b\b\b\b\b\b 65/96 \r",
        "HERE OPTIM\t\n",
        "BEFORE FORWARD\t\n",
        "1\t\n"
       ]
      },
      {
       "metadata": {},
       "output_type": "pyout",
       "prompt_number": 413,
       "text": [
        "AFTER FORWARD\t\n",
        "NEO\t\n",
        " 4.6452\n",
        " 5.3550\n",
        "[torch.FloatTensor of dimension 2]\n",
        "\n",
        "2\t\n",
        "BLAH\t"
       ]
      },
      {
       "metadata": {},
       "output_type": "pyout",
       "prompt_number": 413,
       "text": [
        "\n"
       ]
      },
      {
       "metadata": {},
       "output_type": "pyout",
       "prompt_number": 413,
       "text": [
        " ** On entry to SGEMM  parameter number 10 had an illegal value\n"
       ]
      },
      {
       "metadata": {},
       "output_type": "pyout",
       "prompt_number": 413,
       "text": [
        " ** On entry to SGEMM  parameter number 10 had an illegal value\n"
       ]
      },
      {
       "metadata": {},
       "output_type": "pyout",
       "prompt_number": 413,
       "text": [
        "\r",
        " [===================================================>.........................]                                             "
       ]
      },
      {
       "metadata": {},
       "output_type": "pyout",
       "prompt_number": 413,
       "text": [
        "      \b\b\b\b\b\b\b\b\b\b\b\b\b\b\b\b\b\b\b\b\b\b\b\b\b\b\b\b\b\b\b\b\b\b\b\b\b\b\b\b\b\b\b\b\b\b\b\b\b\bETA: 4s110ms | Step: 137ms\b\b\b\b\b\b\b\b\b\b\b\b\b\b\b\b\b\b\b\b\b\b\b\b\b\b\b\b\b\b\b\b\b\b\b\b\b\b\b\b\b\b\b\b\b\b\b\b\b\b\b\b\b\b\b\b\b\b\b\b\b\b\b\b\b\b\b\b\b\b\b\b\b 66/96 \r",
        "HERE OPTIM\t\n",
        "BEFORE FORWARD\t\n",
        "1\t\n"
       ]
      },
      {
       "metadata": {},
       "output_type": "pyout",
       "prompt_number": 413,
       "text": [
        "AFTER FORWARD\t\n",
        "NEO\t\n",
        " 4.5997\n",
        " 5.4005\n",
        "[torch.FloatTensor of dimension 2]\n",
        "\n",
        "2\t\n",
        "BLAH\t\n"
       ]
      },
      {
       "metadata": {},
       "output_type": "pyout",
       "prompt_number": 413,
       "text": [
        " ** On entry to SGEMM  parameter number 10 had an illegal value\n"
       ]
      },
      {
       "metadata": {},
       "output_type": "pyout",
       "prompt_number": 413,
       "text": [
        " ** On entry to SGEMM  parameter number 10 had an illegal value\n"
       ]
      },
      {
       "metadata": {},
       "output_type": "pyout",
       "prompt_number": 413,
       "text": [
        "\r",
        " [====================================================>........................]                                                   \b\b\b\b\b\b\b\b\b\b\b\b\b\b\b\b\b\b\b\b\b\b\b\b\b\b\b\b\b\b\b\b\b\b\b\b\b\b\b\b\b\b\b\b\b\b\b\b\b\bETA: 4s115ms | Step: 141ms\b\b\b\b\b\b\b\b\b\b\b\b\b\b\b\b\b\b\b\b\b\b\b\b\b\b\b\b\b\b\b\b\b\b\b\b\b\b\b\b\b\b\b\b\b\b\b\b\b\b\b\b\b\b\b\b\b\b\b\b\b\b\b\b\b\b\b\b\b\b\b\b\b 67/96 \r",
        "HERE OPTIM\t\n",
        "BEFORE FORWARD\t\n",
        "1\t\n"
       ]
      },
      {
       "metadata": {},
       "output_type": "pyout",
       "prompt_number": 413,
       "text": [
        "AFTER FORWARD\t\n",
        "NEO\t\n",
        " 4.5537\n",
        " 5.4464\n",
        "[torch.FloatTensor of dimension 2]\n",
        "\n",
        "1\t\n",
        "BLAH\t\n",
        " ** On entry to SGEMM  parameter number 10 had an illegal value\n"
       ]
      },
      {
       "metadata": {},
       "output_type": "pyout",
       "prompt_number": 413,
       "text": [
        " ** On entry to SGEMM  parameter number 10 had an illegal value\n"
       ]
      },
      {
       "metadata": {},
       "output_type": "pyout",
       "prompt_number": 413,
       "text": [
        "\r",
        " [=====================================================>.......................]                                               "
       ]
      },
      {
       "metadata": {},
       "output_type": "pyout",
       "prompt_number": 413,
       "text": [
        "    \b\b\b\b\b\b\b\b\b\b\b\b\b\b\b\b\b\b\b\b\b\b\b\b\b\b\b\b\b\b\b\b\b\b\b\b\b\b\b\b\b\b\b\b\b\b\b\b\b\bETA: 3s917ms | Step: 139ms\b\b\b\b\b\b\b\b\b\b\b\b\b\b\b\b\b\b\b\b\b\b\b\b\b\b\b\b\b\b\b\b\b\b\b\b\b\b\b\b\b\b\b\b\b\b\b\b\b\b\b\b\b\b\b\b\b\b\b\b\b\b\b\b\b\b\b\b\b\b\b\b\b 68/96 \r",
        "HERE OPTIM\t\n",
        "BEFORE FORWARD\t\n",
        "1\t\n"
       ]
      },
      {
       "metadata": {},
       "output_type": "pyout",
       "prompt_number": 413,
       "text": [
        "AFTER FORWARD\t\n",
        "NEO\t\n",
        " 4.6072\n",
        " 5.3929\n",
        "[torch.FloatTensor of dimension 2]\n",
        "\n",
        "2\t\n",
        "BLAH\t\n",
        " ** On entry to SGEMM  parameter number 10 had an illegal value\n"
       ]
      },
      {
       "metadata": {},
       "output_type": "pyout",
       "prompt_number": 413,
       "text": [
        " ** On entry to SGEMM  parameter number 10 had an illegal value\n"
       ]
      },
      {
       "metadata": {},
       "output_type": "pyout",
       "prompt_number": 413,
       "text": [
        "\r",
        " [======================================================>......................]                                                   \b\b\b\b\b\b\b\b\b\b\b\b\b\b\b\b\b\b\b\b\b\b\b\b\b\b\b\b\b\b\b\b\b\b\b\b\b\b\b\b\b\b\b\b\b\b\b\b\b\bETA: 3s768ms | Step: 139ms\b\b\b\b\b\b\b\b\b\b\b\b\b\b\b\b\b\b\b\b\b\b\b\b\b\b\b\b\b\b\b\b\b\b\b\b\b\b\b\b\b\b\b\b\b\b\b\b\b\b\b\b\b\b\b\b\b\b\b\b\b\b\b\b\b\b\b\b\b\b\b\b\b 69/96 \r",
        "HERE OPTIM\t\n",
        "BEFORE FORWARD\t\n",
        "1\t\n"
       ]
      },
      {
       "metadata": {},
       "output_type": "pyout",
       "prompt_number": 413,
       "text": [
        "AFTER FORWARD\t\n",
        "NEO\t\n",
        " 4.5621\n",
        " 5.4380\n",
        "[torch.FloatTensor of dimension 2]\n",
        "\n",
        "1\t\n",
        "BLAH\t\n",
        " ** On entry to SGEMM  parameter number 10 had an illegal value\n"
       ]
      },
      {
       "metadata": {},
       "output_type": "pyout",
       "prompt_number": 413,
       "text": [
        " ** On entry to SGEMM  parameter number 10 had an illegal value\n"
       ]
      },
      {
       "metadata": {},
       "output_type": "pyout",
       "prompt_number": 413,
       "text": [
        "\r",
        " [=======================================================>.....................]                                                   \b\b\b\b\b\b\b\b\b\b\b\b\b\b\b\b\b\b\b\b\b\b\b\b\b\b\b\b\b\b\b\b\b\b\b\b\b\b\b\b\b\b\b\b\b\b\b\b\b\bETA: 3s580ms | Step: 137ms\b\b\b\b\b\b\b\b\b\b\b\b\b\b\b\b\b\b\b\b\b\b\b\b\b\b\b\b\b\b\b\b\b\b\b\b\b\b\b\b\b\b\b\b\b\b\b\b\b\b\b\b\b\b\b\b\b\b\b\b\b\b\b\b\b\b\b\b\b\b\b\b\b 70/96 \r",
        "HERE OPTIM\t\n",
        "BEFORE FORWARD\t\n",
        "1\t\n"
       ]
      },
      {
       "metadata": {},
       "output_type": "pyout",
       "prompt_number": 413,
       "text": [
        "AFTER FORWARD\t\n",
        "NEO\t\n",
        " 4.6155\n",
        " 5.3846\n",
        "[torch.FloatTensor of dimension 2]\n",
        "\n",
        "1\t\n",
        "BLAH\t\n",
        " ** On entry to SGEMM  parameter number 10 had an illegal value\n"
       ]
      },
      {
       "metadata": {},
       "output_type": "pyout",
       "prompt_number": 413,
       "text": [
        " ** On entry to SGEMM  parameter number 10 had an illegal value\n"
       ]
      },
      {
       "metadata": {},
       "output_type": "pyout",
       "prompt_number": 413,
       "text": [
        "\r",
        " [=======================================================>.....................]                                                   \b\b\b\b\b\b\b\b\b\b\b\b\b\b\b\b\b\b\b\b\b\b\b\b\b\b\b\b\b\b\b\b\b\b\b\b\b\b\b\b\b\b\b\b\b\b\b\b\b\bETA: 3s396ms | Step: 135ms\b\b\b\b\b\b\b\b\b\b\b\b\b\b\b\b\b\b\b\b\b\b\b\b\b\b\b\b\b\b\b\b\b\b\b\b\b\b\b\b\b\b\b\b\b\b\b\b\b\b\b\b\b\b\b\b\b\b\b\b\b\b\b\b\b\b\b\b\b\b\b\b\b 71/96 \r",
        "HERE OPTIM\t\n",
        "BEFORE FORWARD\t\n",
        "1\t\n"
       ]
      },
      {
       "metadata": {},
       "output_type": "pyout",
       "prompt_number": 413,
       "text": [
        "AFTER FORWARD\t\n"
       ]
      },
      {
       "metadata": {},
       "output_type": "pyout",
       "prompt_number": 413,
       "text": [
        "NEO\t\n",
        " 4.6693\n",
        " 5.3308\n",
        "[torch.FloatTensor of dimension 2]\n",
        "\n",
        "1\t\n",
        "BLAH\t\n",
        " ** On entry to SGEMM  parameter number 10 had an illegal value\n"
       ]
      },
      {
       "metadata": {},
       "output_type": "pyout",
       "prompt_number": 413,
       "text": [
        " ** On entry to SGEMM  parameter number 10 had an illegal value\n"
       ]
      },
      {
       "metadata": {},
       "output_type": "pyout",
       "prompt_number": 413,
       "text": [
        "\r",
        " [========================================================>....................]                                                   \b\b\b\b\b\b\b\b\b\b\b\b\b\b\b\b\b\b\b\b\b\b\b\b\b\b\b\b\b\b\b\b\b\b\b\b\b\b\b\b\b\b\b\b\b\b\b\b\b\bETA: 3s217ms | Step: 134ms\b\b\b\b\b\b\b\b\b\b\b\b\b\b\b\b\b\b\b\b\b\b\b\b\b\b\b\b\b\b\b\b\b\b\b\b\b\b\b\b\b\b\b\b\b\b\b\b\b\b\b\b\b\b\b\b\b\b\b\b\b\b\b\b\b\b\b\b\b\b\b\b\b 72/96 \r",
        "HERE OPTIM\t\n",
        "BEFORE FORWARD\t\n",
        "1\t\n"
       ]
      },
      {
       "metadata": {},
       "output_type": "pyout",
       "prompt_number": 413,
       "text": [
        "AFTER FORWARD\t\n",
        "NEO\t\n",
        " 4.7226\n",
        " 5.2775\n",
        "[torch.FloatTensor of dimension 2]\n",
        "\n",
        "2\t\n",
        "BLAH\t\n",
        " ** On entry to SGEMM  parameter number 10 had an illegal value\n"
       ]
      },
      {
       "metadata": {},
       "output_type": "pyout",
       "prompt_number": 413,
       "text": [
        " ** On entry to SGEMM  parameter number 10 had an illegal value\n"
       ]
      },
      {
       "metadata": {},
       "output_type": "pyout",
       "prompt_number": 413,
       "text": [
        "\r",
        " [=========================================================>...................]                                                   \b\b\b\b\b\b\b\b\b\b\b\b\b\b\b\b\b\b\b\b\b"
       ]
      },
      {
       "metadata": {},
       "output_type": "pyout",
       "prompt_number": 413,
       "text": [
        "\b\b\b\b\b\b\b\b\b\b\b\b\b\b\b\b\b\b\b\b\b\b\b\b\b\b\b\b\bETA: 3s48ms | Step: 132ms\b\b\b\b\b\b\b\b\b\b\b\b\b\b\b\b\b\b\b\b\b\b\b\b\b\b\b\b\b\b\b\b\b\b\b\b\b\b\b\b\b\b\b\b\b\b\b\b\b\b\b\b\b\b\b\b\b\b\b\b\b\b\b\b\b\b\b\b\b\b\b\b 73/96 \r",
        "HERE OPTIM\t\n",
        "BEFORE FORWARD\t\n",
        "1\t\n"
       ]
      },
      {
       "metadata": {},
       "output_type": "pyout",
       "prompt_number": 413,
       "text": [
        "AFTER FORWARD\t\n",
        "NEO\t\n",
        " 4.6764\n",
        " 5.3237\n",
        "[torch.FloatTensor of dimension 2]\n",
        "\n",
        "1\t\n",
        "BLAH\t\n",
        " ** On entry to SGEMM  parameter number 10 had an illegal value\n"
       ]
      },
      {
       "metadata": {},
       "output_type": "pyout",
       "prompt_number": 413,
       "text": [
        " ** On entry to SGEMM  parameter number 10 had an illegal value\n"
       ]
      },
      {
       "metadata": {},
       "output_type": "pyout",
       "prompt_number": 413,
       "text": [
        "\r",
        " [==========================================================>..................]                                                   \b\b\b\b\b\b\b\b\b\b\b\b\b\b\b\b\b\b\b\b\b\b\b\b\b\b\b\b\b\b\b\b\b\b\b\b\b\b\b\b\b\b\b\b\b\b\b\b\b\bETA: 2s881ms | Step: 130ms\b\b\b\b\b\b\b\b\b\b\b\b\b\b\b\b\b\b\b\b\b\b\b\b\b\b\b\b\b\b\b\b\b\b\b\b\b\b\b\b\b\b\b\b\b\b\b\b\b\b\b\b\b\b\b\b\b\b\b\b\b\b\b\b\b\b\b\b\b\b\b\b\b 74/96 \r",
        "HERE OPTIM\t\n",
        "BEFORE FORWARD\t\n",
        "1\t\n"
       ]
      },
      {
       "metadata": {},
       "output_type": "pyout",
       "prompt_number": 413,
       "text": [
        "AFTER FORWARD\t\n",
        "NEO\t\n"
       ]
      },
      {
       "metadata": {},
       "output_type": "pyout",
       "prompt_number": 413,
       "text": [
        " 4.7286\n",
        " 5.2715\n",
        "[torch.FloatTensor of dimension 2]\n",
        "\n",
        "2\t\n",
        "BLAH\t\n"
       ]
      },
      {
       "metadata": {},
       "output_type": "pyout",
       "prompt_number": 413,
       "text": [
        " ** On entry to SGEMM  parameter number 10 had an illegal value\n"
       ]
      },
      {
       "metadata": {},
       "output_type": "pyout",
       "prompt_number": 413,
       "text": [
        " ** On entry to SGEMM  parameter number 10 had an illegal value\n"
       ]
      },
      {
       "metadata": {},
       "output_type": "pyout",
       "prompt_number": 413,
       "text": [
        "\r",
        " [===========================================================>.................]                                                   \b\b\b\b\b\b\b\b\b\b\b\b\b\b\b\b\b\b\b\b\b\b\b\b\b\b\b\b\b\b\b\b\b\b\b\b\b\b\b\b\b\b\b\b\b\b\b\b\b\bETA: 2s770ms | Step: 131ms\b\b\b\b\b\b\b\b\b\b\b\b\b\b\b\b\b\b\b\b\b\b\b\b\b\b\b\b\b\b\b\b\b\b\b\b\b\b\b\b\b\b\b\b\b\b\b\b\b\b\b\b\b\b\b\b\b\b\b\b\b\b\b\b\b\b\b\b\b\b\b\b\b 75/96 \r",
        "HERE OPTIM\t\n",
        "BEFORE FORWARD\t\n",
        "1\t\n"
       ]
      },
      {
       "metadata": {},
       "output_type": "pyout",
       "prompt_number": 413,
       "text": [
        "AFTER FORWARD\t\n",
        "NEO\t\n",
        " 4.6824\n",
        " 5.3177\n",
        "[torch.FloatTensor of dimension 2]\n",
        "\n",
        "2\t\n",
        "BLAH\t\n",
        " ** On entry to SGEMM  parameter number 10 had an illegal value\n"
       ]
      },
      {
       "metadata": {},
       "output_type": "pyout",
       "prompt_number": 413,
       "text": [
        " ** On entry to SGEMM  parameter number 10 had an illegal value\n"
       ]
      },
      {
       "metadata": {},
       "output_type": "pyout",
       "prompt_number": 413,
       "text": [
        "\r",
        " [===========================================================>.................]                                                   \b\b\b\b\b\b\b\b\b\b\b\b\b\b\b\b\b\b\b\b\b\b\b\b\b\b\b\b\b\b\b\b\b\b\b\b\b\b\b\b\b\b\b\b\b\b\b\b\b\bETA: 2s607ms | Step: 130ms\b\b\b\b\b\b\b\b\b\b\b\b\b\b\b\b\b\b\b\b\b\b\b\b\b\b\b\b\b\b\b\b\b\b\b\b\b\b\b\b\b\b\b\b\b\b\b\b\b\b\b\b\b\b\b\b\b\b\b\b\b\b\b\b\b\b\b\b\b\b\b\b\b 76/96 \r",
        "HERE OPTIM\t\n",
        "BEFORE FORWARD\t\n",
        "1\t\n"
       ]
      },
      {
       "metadata": {},
       "output_type": "pyout",
       "prompt_number": 413,
       "text": [
        "AFTER FORWARD\t\n",
        "NEO\t\n",
        " 4.6355\n",
        " 5.3645\n",
        "[torch.FloatTensor of dimension 2]\n",
        "\n",
        "2\t\n",
        "BLAH\t\n"
       ]
      },
      {
       "metadata": {},
       "output_type": "pyout",
       "prompt_number": 413,
       "text": [
        " ** On entry to SGEMM  parameter number 10 had an illegal value\n"
       ]
      },
      {
       "metadata": {},
       "output_type": "pyout",
       "prompt_number": 413,
       "text": [
        " ** On entry to SGEMM  parameter number 10 had an illegal value\n"
       ]
      },
      {
       "metadata": {},
       "output_type": "pyout",
       "prompt_number": 413,
       "text": [
        "\r",
        " [============================================================>................]                                                   \b\b\b\b\b\b\b\b\b\b\b\b\b\b\b\b\b\b\b\b\b\b\b\b\b\b\b\b\b\b\b\b\b\b\b\b\b\b\b\b\b\b\b\b\b\b\b\b\b\bETA: 2s458ms | Step: 129ms\b\b\b\b\b\b\b\b\b\b\b\b\b\b\b\b\b\b\b\b\b\b\b\b\b\b\b"
       ]
      },
      {
       "metadata": {},
       "output_type": "pyout",
       "prompt_number": 413,
       "text": [
        "\b\b\b\b\b\b\b\b\b\b\b\b\b\b\b\b\b\b\b\b\b\b\b\b\b\b\b\b\b\b\b\b\b\b\b\b\b\b\b\b\b\b\b\b\b\b 77/96 \r",
        "HERE OPTIM\t\n",
        "BEFORE FORWARD\t\n",
        "1\t\n"
       ]
      },
      {
       "metadata": {},
       "output_type": "pyout",
       "prompt_number": 413,
       "text": [
        "AFTER FORWARD\t\n",
        "NEO\t\n",
        " 4.5892\n",
        " 5.4109\n",
        "[torch.FloatTensor of dimension 2]\n",
        "\n",
        "1\t\n",
        "BLAH\t\n",
        " ** On entry to SGEMM  parameter number 10 had an illegal value\n"
       ]
      },
      {
       "metadata": {},
       "output_type": "pyout",
       "prompt_number": 413,
       "text": [
        " ** On entry to SGEMM  parameter number 10 had an illegal value\n"
       ]
      },
      {
       "metadata": {},
       "output_type": "pyout",
       "prompt_number": 413,
       "text": [
        "\r",
        " [=============================================================>...............]              "
       ]
      },
      {
       "metadata": {},
       "output_type": "pyout",
       "prompt_number": 413,
       "text": [
        "                                     \b\b\b\b\b\b\b\b\b\b\b\b\b\b\b\b\b\b\b\b\b\b\b\b\b\b\b\b\b\b\b\b\b\b\b\b\b\b\b\b\b\b\b\b\b\b\b\b\b\bETA: 2s302ms | Step: 127ms\b\b\b\b\b\b\b\b\b\b\b\b\b\b\b\b\b\b\b\b\b\b\b\b\b\b\b\b\b\b\b\b\b\b\b\b\b\b\b\b\b\b\b\b\b\b\b\b\b\b\b\b\b\b\b\b\b\b\b\b\b\b\b\b\b\b\b\b\b\b\b\b\b 78/96 \r",
        "HERE OPTIM\t\n",
        "BEFORE FORWARD\t\n",
        "1\t\n"
       ]
      },
      {
       "metadata": {},
       "output_type": "pyout",
       "prompt_number": 413,
       "text": [
        "AFTER FORWARD\t\n",
        "NEO\t\n",
        " 4.6423\n",
        " 5.3578\n",
        "[torch.FloatTensor of dimension 2]\n",
        "\n",
        "2\t\n",
        "BLAH\t\n"
       ]
      },
      {
       "metadata": {},
       "output_type": "pyout",
       "prompt_number": 413,
       "text": [
        " ** On entry to SGEMM  parameter number 10 had an illegal value\n"
       ]
      },
      {
       "metadata": {},
       "output_type": "pyout",
       "prompt_number": 413,
       "text": [
        " ** On entry to SGEMM  parameter number 10 had an illegal value\n"
       ]
      },
      {
       "metadata": {},
       "output_type": "pyout",
       "prompt_number": 413,
       "text": [
        "\r",
        " [==============================================================>..............]                                                   \b\b\b\b\b\b\b\b\b\b\b\b\b\b\b\b\b\b\b\b\b\b\b\b\b\b\b\b\b\b\b\b\b\b\b\b\b\b\b\b\b\b\b\b\b\b\b\b\b\bETA: 2s243ms | Step: 131ms\b\b\b\b\b\b\b\b\b\b\b\b\b\b\b\b\b\b\b\b\b\b\b\b\b\b\b\b\b\b\b\b\b\b\b\b\b\b\b\b\b\b\b\b\b\b\b\b\b\b\b\b\b\b\b\b\b\b\b\b\b\b\b\b\b\b\b\b\b\b\b\b\b 79/96 \r",
        "HERE OPTIM\t\n",
        "BEFORE FORWARD\t\n",
        "1\t\n"
       ]
      },
      {
       "metadata": {},
       "output_type": "pyout",
       "prompt_number": 413,
       "text": [
        "AFTER FORWARD\t\n",
        "NEO\t\n",
        " 4.5969\n",
        " 5.4032\n",
        "[torch.FloatTensor of dimension 2]\n",
        "\n",
        "2\t\n",
        "BLAH\t\n"
       ]
      },
      {
       "metadata": {},
       "output_type": "pyout",
       "prompt_number": 413,
       "text": [
        " ** On entry to SGEMM  parameter number 10 had an illegal value\n"
       ]
      },
      {
       "metadata": {},
       "output_type": "pyout",
       "prompt_number": 413,
       "text": [
        " ** On entry to SGEMM  parameter number 10 had an illegal value\n"
       ]
      },
      {
       "metadata": {},
       "output_type": "pyout",
       "prompt_number": 413,
       "text": [
        "\r",
        " [===============================================================>.............]                                                   \b\b\b\b\b\b\b\b\b\b\b\b\b\b\b\b\b\b\b\b\b\b\b\b\b\b\b\b\b\b\b\b\b\b\b\b\b\b\b\b\b\b\b\b\b\b\b\b\b\bETA: 2s141ms | Step: 133ms\b\b\b\b\b\b\b\b\b\b\b\b\b\b\b\b\b\b\b\b\b\b\b\b\b\b\b\b\b\b\b\b\b\b\b\b\b\b\b\b\b\b\b\b\b\b\b\b\b\b\b\b\b\b\b\b\b\b\b\b\b\b\b\b\b\b\b\b\b\b\b\b\b 80/96 \r"
       ]
      },
      {
       "metadata": {},
       "output_type": "pyout",
       "prompt_number": 413,
       "text": [
        "HERE OPTIM\t\n",
        "BEFORE FORWARD\t\n",
        "1\t\n"
       ]
      },
      {
       "metadata": {},
       "output_type": "pyout",
       "prompt_number": 413,
       "text": [
        "AFTER FORWARD\t\n",
        "NEO\t\n",
        " 4.5509\n",
        " 5.4492\n",
        "[torch.FloatTensor of dimension 2]\n",
        "\n",
        "1\t\n",
        "BLAH\t\n",
        " ** On entry to SGEMM  parameter number 10 had an illegal value\n"
       ]
      },
      {
       "metadata": {},
       "output_type": "pyout",
       "prompt_number": 413,
       "text": [
        " ** On entry to SGEMM  parameter number 10 had an illegal value\n"
       ]
      },
      {
       "metadata": {},
       "output_type": "pyout",
       "prompt_number": 413,
       "text": [
        "\r",
        " [===============================================================>.............]                                                   \b\b\b\b\b\b\b\b\b\b\b\b\b\b\b\b\b\b\b\b\b\b\b\b\b\b\b\b\b\b\b\b\b\b\b\b\b\b\b\b\b\b\b\b\b\b\b\b\b\bETA: 1s984ms | Step: 132ms\b\b\b\b\b\b\b\b\b\b\b\b\b\b\b\b\b\b\b\b\b\b\b\b\b\b\b\b\b\b\b\b\b\b\b\b\b\b\b\b\b\b\b\b\b\b\b\b\b\b\b\b\b\b\b\b\b\b\b\b\b\b\b\b\b\b\b\b\b\b\b\b\b 81/96 \r",
        "HERE OPTIM\t\n",
        "BEFORE FORWARD\t\n",
        "1\t\n"
       ]
      },
      {
       "metadata": {},
       "output_type": "pyout",
       "prompt_number": 413,
       "text": [
        "AFTER FORWARD\t\n",
        "NEO\t\n",
        " 4.6044\n",
        " 5.3957\n",
        "[torch.FloatTensor of dimension 2]\n",
        "\n",
        "2\t\n",
        "BLAH\t\n"
       ]
      },
      {
       "metadata": {},
       "output_type": "pyout",
       "prompt_number": 413,
       "text": [
        " ** On entry to SGEMM  parameter number 10 had an illegal value\n"
       ]
      },
      {
       "metadata": {},
       "output_type": "pyout",
       "prompt_number": 413,
       "text": [
        " ** On entry to SGEMM  parameter number 10 had an illegal value\n"
       ]
      },
      {
       "metadata": {},
       "output_type": "pyout",
       "prompt_number": 413,
       "text": [
        "\r",
        " [================================================================>............]    "
       ]
      },
      {
       "metadata": {},
       "output_type": "pyout",
       "prompt_number": 413,
       "text": [
        "                                               \b\b\b\b\b\b\b\b\b\b\b\b\b\b\b\b\b\b\b\b\b\b\b\b\b\b\b\b\b\b\b\b\b\b\b\b\b\b\b\b\b\b\b\b\b\b\b\b\b\bETA: 1s888ms | Step: 134ms\b\b\b\b\b\b\b\b\b\b\b\b\b\b\b\b\b\b\b\b\b\b\b\b\b\b\b\b\b\b\b\b\b\b\b\b\b\b\b\b\b\b\b\b\b\b\b\b\b\b\b\b\b\b\b\b\b\b\b\b\b\b\b\b\b\b\b\b\b\b\b\b\b 82/96 \r",
        "HERE OPTIM\t\n",
        "BEFORE FORWARD\t\n",
        "1\t\n"
       ]
      },
      {
       "metadata": {},
       "output_type": "pyout",
       "prompt_number": 413,
       "text": [
        "AFTER FORWARD\t\n",
        "NEO\t\n",
        " 4.5593\n",
        " 5.4408\n",
        "[torch.FloatTensor of dimension 2]\n",
        "\n",
        "2\t\n",
        "BLAH\t\n"
       ]
      },
      {
       "metadata": {},
       "output_type": "pyout",
       "prompt_number": 413,
       "text": [
        " ** On entry to SGEMM  parameter number 10 had an illegal value\n"
       ]
      },
      {
       "metadata": {},
       "output_type": "pyout",
       "prompt_number": 413,
       "text": [
        " ** On entry to SGEMM  parameter number 10 had an illegal value\n"
       ]
      },
      {
       "metadata": {},
       "output_type": "pyout",
       "prompt_number": 413,
       "text": [
        "\r",
        " [=================================================================>...........]                                                   \b\b\b\b\b\b\b\b\b\b\b\b\b\b\b\b\b\b\b\b\b\b\b\b\b\b\b\b\b\b\b\b\b\b\b\b\b\b\b\b\b\b\b\b\b\b\b\b\b\bETA: 1s833ms | Step: 141ms\b\b\b\b\b\b\b\b\b\b\b\b\b\b\b\b\b\b\b\b\b\b\b\b\b\b\b\b\b\b\b\b\b\b\b\b\b\b\b\b\b\b\b\b\b\b\b\b\b\b\b\b\b\b\b\b\b\b\b\b\b\b\b\b\b\b\b\b\b\b\b\b\b 83/96 \r",
        "HERE OPTIM\t\n",
        "BEFORE FORWARD\t\n",
        "1\t\n"
       ]
      },
      {
       "metadata": {},
       "output_type": "pyout",
       "prompt_number": 413,
       "text": [
        "AFTER FORWARD\t\n",
        "NEO\t\n",
        " 4.5138\n",
        " 5.4864\n",
        "[torch.FloatTensor of dimension 2]\n",
        "\n",
        "2\t\n",
        "BLAH\t\n",
        " ** On entry to SGEMM  parameter number 10 had an illegal value\n"
       ]
      },
      {
       "metadata": {},
       "output_type": "pyout",
       "prompt_number": 413,
       "text": [
        " ** On entry to SGEMM  parameter number 10 had an illegal value\n"
       ]
      },
      {
       "metadata": {},
       "output_type": "pyout",
       "prompt_number": 413,
       "text": [
        "\r",
        " [==================================================================>..........]                                                   \b\b\b\b\b\b\b\b\b\b\b\b\b\b\b\b\b\b\b\b\b\b\b\b\b\b\b\b\b\b\b\b\b\b\b\b\b\b\b\b\b\b\b\b\b\b\b\b\b\bETA: 1s675ms | Step: 139ms\b\b\b\b\b\b\b\b\b\b\b\b\b\b\b\b\b\b\b\b\b\b\b\b\b\b\b\b\b\b\b\b\b\b\b\b\b\b\b\b\b\b\b\b\b\b\b\b\b\b\b\b\b\b\b\b\b\b\b\b\b\b\b\b\b\b\b\b\b\b\b\b\b 84/96 \r",
        "HERE OPTIM\t\n",
        "BEFORE FORWARD\t\n",
        "1\t\n"
       ]
      },
      {
       "metadata": {},
       "output_type": "pyout",
       "prompt_number": 413,
       "text": [
        "AFTER FORWARD\t\n",
        "NEO\t\n",
        " 4.4686\n",
        " 5.5315\n",
        "[torch.FloatTensor of dimension 2]\n",
        "\n",
        "2\t\n",
        "BLAH\t\n"
       ]
      },
      {
       "metadata": {},
       "output_type": "pyout",
       "prompt_number": 413,
       "text": [
        " ** On entry to SGEMM  parameter number 10 had an illegal value\n"
       ]
      },
      {
       "metadata": {},
       "output_type": "pyout",
       "prompt_number": 413,
       "text": [
        " ** On entry to SGEMM  parameter number 10 had an illegal value\n"
       ]
      },
      {
       "metadata": {},
       "output_type": "pyout",
       "prompt_number": 413,
       "text": [
        "\r",
        " [===================================================================>.........]                                                   \b\b\b\b\b\b\b\b\b\b\b\b\b\b\b\b\b\b\b\b\b\b\b\b\b\b\b\b\b\b\b\b\b\b\b\b\b\b\b\b\b\b\b\b\b\b\b\b\b\bETA: 1s555ms | Step: 141ms\b\b\b\b\b\b\b\b\b\b\b\b\b\b\b\b\b\b\b\b\b\b\b\b\b\b\b\b\b\b\b\b\b\b\b\b\b\b\b\b\b\b\b\b\b\b\b\b\b\b\b\b\b\b\b\b\b\b\b\b\b\b\b\b\b\b\b\b\b\b\b\b\b 85/96 \r",
        "HERE OPTIM\t\n",
        "BEFORE FORWARD\t\n",
        "1\t\n"
       ]
      },
      {
       "metadata": {},
       "output_type": "pyout",
       "prompt_number": 413,
       "text": [
        "AFTER FORWARD\t\n",
        "NEO\t\n",
        " 4.4239\n",
        " 5.5763\n",
        "[torch.FloatTensor of dimension 2]\n",
        "\n",
        "2\t\n",
        "BLAH\t\n"
       ]
      },
      {
       "metadata": {},
       "output_type": "pyout",
       "prompt_number": 413,
       "text": [
        " ** On entry to SGEMM  parameter number 10 had an illegal value\n"
       ]
      },
      {
       "metadata": {},
       "output_type": "pyout",
       "prompt_number": 413,
       "text": [
        " ** On entry to SGEMM  parameter number 10 had an illegal value\n"
       ]
      },
      {
       "metadata": {},
       "output_type": "pyout",
       "prompt_number": 413,
       "text": [
        "\r",
        " [===================================================================>.........]                                                   \b\b\b\b\b\b\b\b\b\b\b\b\b\b\b\b\b\b\b\b\b\b\b\b\b\b\b\b\b\b\b\b\b\b\b\b\b\b\b\b\b\b\b\b\b\b\b\b\b\bETA: 1s475ms | Step: 147ms\b\b\b\b\b\b\b\b\b\b\b\b\b\b\b\b\b\b\b\b\b\b\b\b\b\b\b\b\b\b\b\b\b\b\b\b\b\b\b\b\b\b\b\b\b\b\b\b\b\b\b\b\b\b\b\b\b\b\b\b\b\b\b\b\b\b\b\b\b\b\b\b\b 86/96 \r",
        "HERE OPTIM\t\n",
        "BEFORE FORWARD\t\n",
        "1\t\n"
       ]
      },
      {
       "metadata": {},
       "output_type": "pyout",
       "prompt_number": 413,
       "text": [
        "AFTER FORWARD\t\n",
        "NEO\t\n",
        " 4.3797\n",
        " 5.6206\n",
        "[torch.FloatTensor of dimension 2]\n",
        "\n",
        "1\t\n",
        "BLAH\t\n",
        " ** On entry to SGEMM  parameter number 10 had an illegal value\n"
       ]
      },
      {
       "metadata": {},
       "output_type": "pyout",
       "prompt_number": 413,
       "text": [
        " ** On entry to SGEMM  parameter number 10 had an illegal value\n"
       ]
      },
      {
       "metadata": {},
       "output_type": "pyout",
       "prompt_number": 413,
       "text": [
        "\r",
        " [====================================================================>........]                                                   \b\b\b\b\b\b\b\b\b\b\b\b\b\b\b\b\b\b\b\b\b\b\b\b\b\b\b\b\b\b\b\b\b\b\b\b\b\b\b\b\b\b\b\b\b\b\b\b\b\bETA: 1s313ms | Step: 145ms\b\b\b\b\b\b\b\b\b\b\b\b\b\b\b\b\b\b\b\b\b\b\b\b\b\b\b\b\b\b\b\b\b\b\b\b\b\b\b\b\b\b\b\b\b\b\b\b\b\b\b\b\b\b\b\b\b\b\b\b\b\b\b\b\b\b\b\b\b\b\b\b\b 87/96 \r",
        "HERE OPTIM\t\n",
        "BEFORE FORWARD\t\n",
        "1\t\n"
       ]
      },
      {
       "metadata": {},
       "output_type": "pyout",
       "prompt_number": 413,
       "text": [
        "AFTER FORWARD\t\n",
        "NEO\t\n",
        " 4.4349\n",
        " 5.5654\n",
        "[torch.FloatTensor of dimension 2]\n",
        "\n",
        "1\t\n",
        "BLAH\t\n",
        " ** On entry to SGEMM  parameter number 10 had an illegal value\n"
       ]
      },
      {
       "metadata": {},
       "output_type": "pyout",
       "prompt_number": 413,
       "text": [
        " ** On entry to SGEMM  parameter number 10 had an illegal value\n"
       ]
      },
      {
       "metadata": {},
       "output_type": "pyout",
       "prompt_number": 413,
       "text": [
        "\r",
        " [=====================================================================>.......]                                                   \b\b\b\b\b\b\b\b\b\b\b\b\b\b\b\b\b\b\b\b\b\b\b\b\b\b\b\b\b\b\b\b\b\b\b\b\b\b\b\b\b\b\b\b\b\b\b\b\b\bETA: 1s155ms | Step: 144ms\b\b\b\b\b\b\b\b\b\b\b\b\b\b\b\b\b\b\b\b\b\b\b\b\b\b\b\b\b\b\b\b\b\b\b\b\b\b\b\b\b\b\b\b\b\b\b\b\b\b\b\b\b\b\b\b\b\b\b\b\b\b\b\b\b\b\b\b\b\b\b\b\b 88/96 \r",
        "HERE OPTIM\t\n",
        "BEFORE FORWARD\t\n",
        "1\t\n"
       ]
      },
      {
       "metadata": {},
       "output_type": "pyout",
       "prompt_number": 413,
       "text": [
        "AFTER FORWARD\t\n",
        "NEO\t\n",
        " 4.4905\n",
        " 5.5097\n",
        "[torch.FloatTensor of dimension 2]\n",
        "\n",
        "2\t\n",
        "BLAH\t\n"
       ]
      },
      {
       "metadata": {},
       "output_type": "pyout",
       "prompt_number": 413,
       "text": [
        " ** On entry to SGEMM  parameter number 10 had an illegal value\n"
       ]
      },
      {
       "metadata": {},
       "output_type": "pyout",
       "prompt_number": 413,
       "text": [
        " ** On entry to SGEMM  parameter number 10 had an illegal value\n"
       ]
      },
      {
       "metadata": {},
       "output_type": "pyout",
       "prompt_number": 413,
       "text": [
        "\r",
        " [======================================================================>......]                                                   \b\b\b\b\b\b\b\b\b\b\b\b\b\b\b\b\b\b\b\b\b\b\b\b\b\b\b\b\b\b\b\b\b\b\b\b\b\b\b\b\b\b\b\b\b\b\b\b\b\bETA: 1s4ms | Step: 143ms\b\b\b\b\b\b\b\b\b\b\b\b\b\b\b\b\b\b\b\b\b\b\b\b\b\b\b\b\b\b\b\b\b\b\b\b\b\b\b\b\b\b\b\b\b\b\b\b\b\b\b\b\b\b\b\b\b\b\b\b\b\b\b\b\b\b\b\b\b\b\b 89/96 \r",
        "HERE OPTIM\t\n",
        "BEFORE FORWARD\t\n",
        "1\t\n"
       ]
      },
      {
       "metadata": {},
       "output_type": "pyout",
       "prompt_number": 413,
       "text": [
        "AFTER FORWARD\t\n",
        "NEO\t\n",
        " 4.4466\n",
        " 5.5536\n",
        "[torch.FloatTensor of dimension 2]\n",
        "\n",
        "2\t\n",
        "BLAH\t\n",
        " ** On entry to SGEMM  parameter number 10 had an illegal value\n"
       ]
      },
      {
       "metadata": {},
       "output_type": "pyout",
       "prompt_number": 413,
       "text": [
        " ** On entry to SGEMM  parameter number 10 had an illegal value\n"
       ]
      },
      {
       "metadata": {},
       "output_type": "pyout",
       "prompt_number": 413,
       "text": [
        "\r",
        " [============================================================="
       ]
      },
      {
       "metadata": {},
       "output_type": "pyout",
       "prompt_number": 413,
       "text": [
        "==========>.....]                                                   \b\b\b\b\b\b\b\b\b\b\b\b\b\b\b\b\b\b\b\b\b\b\b\b\b\b\b\b\b\b\b\b\b\b\b\b\b\b\b\b\b\b\b\b\b\b\b\b\b\bETA: 854ms | Step: 142ms\b\b\b\b\b\b\b\b\b\b\b\b\b\b\b\b\b\b\b\b\b\b\b\b\b\b\b\b\b\b\b\b\b\b\b\b\b\b\b\b\b\b\b\b\b\b\b\b\b\b\b\b\b\b\b\b\b\b\b\b\b\b\b\b\b\b\b\b\b\b\b 90/96 \r",
        "HERE OPTIM\t\n",
        "BEFORE FORWARD\t\n",
        "1\t\n"
       ]
      },
      {
       "metadata": {},
       "output_type": "pyout",
       "prompt_number": 413,
       "text": [
        "AFTER FORWARD\t\n",
        "NEO\t\n",
        " 4.4022\n",
        " 5.5981\n",
        "[torch.FloatTensor of dimension 2]\n",
        "\n",
        "2\t\n",
        "BLAH\t\n",
        " ** On entry to SGEMM  parameter number 10 had an illegal value\n"
       ]
      },
      {
       "metadata": {},
       "output_type": "pyout",
       "prompt_number": 413,
       "text": [
        " ** On entry to SGEMM  parameter number 10 had an illegal value\n"
       ]
      },
      {
       "metadata": {},
       "output_type": "pyout",
       "prompt_number": 413,
       "text": [
        "\r",
        " [=======================================================================>.....]                                                   \b\b\b\b\b\b\b\b\b\b\b\b\b\b\b\b\b\b\b\b\b\b\b\b\b\b\b\b\b\b\b\b\b\b\b\b\b\b\b\b\b\b\b\b\b\b\b\b\b\bETA: 704ms | Step: 140ms\b\b\b\b\b\b\b\b\b\b\b\b\b\b\b\b\b\b\b\b\b\b\b\b\b\b\b\b\b\b\b\b\b\b\b\b\b\b\b\b\b\b\b\b\b\b\b\b\b\b\b\b\b\b\b\b\b\b\b\b\b\b\b\b\b\b\b\b\b\b\b 91/96 \r",
        "HERE OPTIM\t\n",
        "BEFORE FORWARD\t\n",
        "1\t\n"
       ]
      },
      {
       "metadata": {},
       "output_type": "pyout",
       "prompt_number": 413,
       "text": [
        "AFTER FORWARD\t\n",
        "NEO\t\n",
        " 4.3581\n",
        " 5.6421\n",
        "[torch.FloatTensor of dimension 2]\n",
        "\n",
        "1\t\n",
        "BLAH\t\n",
        " ** On entry to SGEMM  parameter number 10 had an illegal value\n"
       ]
      },
      {
       "metadata": {},
       "output_type": "pyout",
       "prompt_number": 413,
       "text": [
        " ** On entry to SGEMM  parameter number 10 had an illegal value\n"
       ]
      },
      {
       "metadata": {},
       "output_type": "pyout",
       "prompt_number": 413,
       "text": [
        "\r",
        " [========================================================================>....]                                                   \b\b\b\b\b\b\b\b\b\b\b\b\b\b\b\b\b\b\b\b\b"
       ]
      },
      {
       "metadata": {},
       "output_type": "pyout",
       "prompt_number": 413,
       "text": [
        "\b\b\b\b\b\b\b\b\b\b\b\b\b\b\b\b\b\b\b\b\b\b\b\b\b\b\b\b\bETA: 557ms | Step: 139ms\b\b\b\b\b\b\b\b\b\b\b\b\b\b\b\b\b\b\b\b\b\b\b\b\b\b\b\b\b\b\b\b\b\b\b\b\b\b\b\b\b\b\b\b\b\b\b\b\b\b\b\b\b\b\b\b\b\b\b\b\b\b\b\b\b\b\b\b\b\b\b 92/96 \r",
        "HERE OPTIM\t\n",
        "BEFORE FORWARD\t\n",
        "1\t\n"
       ]
      },
      {
       "metadata": {},
       "output_type": "pyout",
       "prompt_number": 413,
       "text": [
        "AFTER FORWARD\t\n",
        "NEO\t\n",
        " 4.4136\n",
        " 5.5867\n",
        "[torch.FloatTensor of dimension 2]\n",
        "\n",
        "2\t\n",
        "BLAH\t\n",
        " ** On entry to SGEMM  parameter number 10 had an illegal value\n"
       ]
      },
      {
       "metadata": {},
       "output_type": "pyout",
       "prompt_number": 413,
       "text": [
        " ** On entry to SGEMM  parameter number 10 had an illegal value\n"
       ]
      },
      {
       "metadata": {},
       "output_type": "pyout",
       "prompt_number": 413,
       "text": [
        "\r",
        " [=========================================================================>...]                                             "
       ]
      },
      {
       "metadata": {},
       "output_type": "pyout",
       "prompt_number": 413,
       "text": [
        "      \b\b\b\b\b\b\b\b\b\b\b\b\b\b\b\b\b\b\b\b\b\b\b\b\b\b\b\b\b\b\b\b\b\b\b\b\b\b\b\b\b\b\b\b\b\b\b\b\b\bETA: 414ms | Step: 138ms\b\b\b\b\b\b\b\b\b\b\b\b\b\b\b\b\b\b\b\b\b\b\b\b\b\b\b\b\b\b\b\b\b\b\b\b\b\b\b\b\b\b\b\b\b\b\b\b\b\b\b\b\b\b\b\b\b\b\b\b\b\b\b\b\b\b\b\b\b\b\b 93/96 \r",
        "HERE OPTIM\t\n",
        "BEFORE FORWARD\t\n",
        "1\t\n"
       ]
      },
      {
       "metadata": {},
       "output_type": "pyout",
       "prompt_number": 413,
       "text": [
        "AFTER FORWARD\t\n",
        "NEO\t\n",
        " 4.3704\n",
        " 5.6298\n",
        "[torch.FloatTensor of dimension 2]\n",
        "\n",
        "1\t\n",
        "BLAH\t\n",
        " ** On entry to SGEMM  parameter number 10 had an illegal value\n"
       ]
      },
      {
       "metadata": {},
       "output_type": "pyout",
       "prompt_number": 413,
       "text": [
        " ** On entry to SGEMM  parameter number 10 had an illegal value\n",
        "\r",
        " [==========================================================================>..]                                                   \b\b\b\b\b\b\b\b\b\b\b\b\b\b\b\b\b\b\b\b\b\b\b\b\b\b\b\b\b\b\b\b\b\b\b\b\b\b\b\b\b\b\b\b\b\b\b\b\b\bETA: 273ms | Step: 136ms\b\b\b\b\b\b\b\b\b\b\b\b\b\b\b\b\b\b\b\b\b\b\b\b\b\b\b\b\b\b\b\b\b\b\b\b\b\b\b\b\b\b\b\b\b\b\b\b\b\b\b\b\b"
       ]
      },
      {
       "metadata": {},
       "output_type": "pyout",
       "prompt_number": 413,
       "text": [
        "\b\b\b\b\b\b\b\b\b\b\b\b\b\b\b\b\b\b 94/96 \r",
        "HERE OPTIM\t\n",
        "BEFORE FORWARD\t\n",
        "1\t\n"
       ]
      },
      {
       "metadata": {},
       "output_type": "pyout",
       "prompt_number": 413,
       "text": [
        "AFTER FORWARD\t\n",
        "NEO\t\n",
        " 4.4257\n",
        " 5.5745\n",
        "[torch.FloatTensor of dimension 2]\n",
        "\n",
        "1\t\n",
        "BLAH\t\n",
        " ** On entry to SGEMM  parameter number 10 had an illegal value\n"
       ]
      },
      {
       "metadata": {},
       "output_type": "pyout",
       "prompt_number": 413,
       "text": [
        " ** On entry to SGEMM  parameter number 10 had an illegal value\n"
       ]
      },
      {
       "metadata": {},
       "output_type": "pyout",
       "prompt_number": 413,
       "text": [
        "\r",
        " [===========================================================================>.]                                                   \b\b\b\b\b\b\b\b\b\b\b\b\b\b\b\b\b\b\b\b\b\b\b\b\b\b\b\b\b\b\b\b\b\b\b\b\b\b\b\b\b\b\b\b\b\b\b\b\b\bETA: 135ms | Step: 135ms\b\b\b\b\b\b\b\b\b\b\b\b\b\b\b\b\b\b\b\b\b\b\b\b\b\b\b\b\b\b\b\b\b\b\b\b\b\b\b\b\b\b\b\b\b\b\b\b\b\b\b\b\b\b\b\b\b\b\b\b\b\b\b\b\b\b\b\b\b\b\b 95/96"
       ]
      },
      {
       "metadata": {},
       "output_type": "pyout",
       "prompt_number": 413,
       "text": [
        " \r",
        "HERE OPTIM\t\n",
        "BEFORE FORWARD\t\n",
        "1\t\n"
       ]
      },
      {
       "metadata": {},
       "output_type": "pyout",
       "prompt_number": 413,
       "text": [
        "AFTER FORWARD\t\n",
        "NEO\t\n",
        " 4.4815\n",
        " 5.5188\n",
        "[torch.FloatTensor of dimension 2]\n",
        "\n",
        "1\t\n",
        "BLAH\t\n",
        " ** On entry to SGEMM  parameter number 10 had an illegal value\n"
       ]
      },
      {
       "metadata": {},
       "output_type": "pyout",
       "prompt_number": 413,
       "text": [
        " ** On entry to SGEMM  parameter number 10 had an illegal value\n"
       ]
      },
      {
       "metadata": {},
       "output_type": "pyout",
       "prompt_number": 413,
       "text": [
        "\r",
        " [============================================================================>]                                                   \b\b\b\b\b\b\b\b\b\b\b\b\b\b\b\b\b\b\b\b\b\b\b\b\b\b\b\b\b\b\b\b\b\b\b\b\b\b\b\b\b\b\b\b\b\b\b\b\b\bETA: 0ms | Step: 133ms\b\b\b\b\b\b\b\b\b\b\b\b\b\b\b\b\b\b\b\b\b\b\b\b\b\b\b\b\b\b\b\b\b\b\b\b\b\b\b\b\b\b\b\b\b\b\b\b\b\b\b\b\b\b\b\b\b\b\b\b\b\b\b\b\b\b\b\b\b 96/96 \n",
        "\r",
        "HERE OPTIM\t\n",
        "BEFORE FORWARD\t\n",
        "1\t\n"
       ]
      },
      {
       "metadata": {},
       "output_type": "pyout",
       "prompt_number": 413,
       "text": [
        "AFTER FORWARD\t\n",
        "NEO\t\n",
        " 4.5366\n",
        " 5.4636\n",
        "[torch.FloatTensor of dimension 2]\n",
        "\n",
        "1\t\n",
        "BLAH\t\n",
        " ** On entry to SGEMM  parameter number 10 had an illegal value\n"
       ]
      },
      {
       "metadata": {},
       "output_type": "pyout",
       "prompt_number": 413,
       "text": [
        " ** On entry to SGEMM  parameter number 10 had an illegal value\n"
       ]
      },
      {
       "metadata": {},
       "output_type": "pyout",
       "prompt_number": 413,
       "text": [
        "\n",
        "==> time to learn 1 sample = 132.61860360702ms\t\n",
        "ConfusionMatrix:\n",
        "[[       0      44]   0.000% \t[class: Classical]\n",
        " [       0      52]]  100.000% \t[class: Jazz]\n",
        " + average row correct: 50% \n",
        " + average rowUcol correct (VOC measure): 27.083334326744% \n",
        " + global correct: 54.166666666667%\n",
        "{\n",
        "  averageUnionValid : 0.27083334326744\n",
        "  _targ_idx : LongTensor - empty\n",
        "  valids : FloatTensor - size: 2\n",
        "  classes : \n",
        "    {\n",
        "      1 : Classical\n",
        "      2 : Jazz\n",
        "    }\n",
        "  _target : FloatTensor - empty\n",
        "  mat : FloatTensor - size: 2x2\n",
        "  _pred_idx : LongTensor - size: 1\n",
        "  _max : FloatTensor - size: 1\n",
        "  unionvalids : FloatTensor - size: 2\n",
        "  nclasses : 2\n",
        "  totalValid : 0.54166666666667\n",
        "  _prediction : FloatTensor - size: 2\n",
        "  averageValid : 0.5\n",
        "}\n"
       ]
      },
      {
       "metadata": {},
       "output_type": "pyout",
       "prompt_number": 413,
       "text": [
        "==> saving model to /home/ace/Desktop/Recurrent-Neural-Net-Music-Classification/model.net\t\n"
       ]
      },
      {
       "metadata": {},
       "output_type": "pyout",
       "prompt_number": 413,
       "text": [
        "0\t\n",
        "==> doing epoch on training data:\t\n",
        "==> online epoch # 6 [batchSize = 64]\t\n",
        "96\t\n",
        " [............"
       ]
      },
      {
       "metadata": {},
       "output_type": "pyout",
       "prompt_number": 413,
       "text": [
        ".................................................................]                                                   \b\b\b\b\b\b\b\b\b\b\b\b\b\b\b\b\b\b\b\b\b\b\b\b\b\b\b\b\b\b\b\b\b\b\b\b\b\b\b\b\b\b\b\b\b\b\b\b\b\bETA: 0ms | Step: 0ms\b\b\b\b\b\b\b\b\b\b\b\b\b\b\b\b\b\b\b\b\b\b\b\b\b\b\b\b\b\b\b\b\b\b\b\b\b\b\b\b\b\b\b\b\b\b\b\b\b\b\b\b\b\b\b\b\b\b\b\b\b\b\b\b\b\b\b 1/96 \r",
        "HERE OPTIM\t\n",
        "BEFORE FORWARD\t\n",
        "1\t\n"
       ]
      },
      {
       "metadata": {},
       "output_type": "pyout",
       "prompt_number": 413,
       "text": [
        "AFTER FORWARD\t\n",
        "NEO\t\n"
       ]
      },
      {
       "metadata": {},
       "output_type": "pyout",
       "prompt_number": 413,
       "text": [
        " 4.5913\n",
        " 5.4090\n",
        "[torch.FloatTensor of dimension 2]\n",
        "\n",
        "1\t\n",
        "BLAH\t\n",
        " ** On entry to SGEMM  parameter number 10 had an illegal value\n"
       ]
      },
      {
       "metadata": {},
       "output_type": "pyout",
       "prompt_number": 413,
       "text": [
        " ** On entry to SGEMM  parameter number 10 had an illegal value\n"
       ]
      },
      {
       "metadata": {},
       "output_type": "pyout",
       "prompt_number": 413,
       "text": [
        "\r",
        " [>............................................................................]                                                   \b\b\b\b\b\b\b\b\b\b\b\b\b\b\b\b\b\b\b\b\b\b\b\b\b\b\b\b\b\b\b\b\b\b\b\b\b\b\b\b\b\b\b\b\b\b\b\b\b\b"
       ]
      },
      {
       "metadata": {},
       "output_type": "pyout",
       "prompt_number": 413,
       "text": [
        "ETA: 2s508ms | Step: 26ms\b\b\b\b\b\b\b\b\b\b\b\b\b\b\b\b\b\b\b\b\b\b\b\b\b\b\b\b\b\b\b\b\b\b\b\b\b\b\b\b\b\b\b\b\b\b\b\b\b\b\b\b\b\b\b\b\b\b\b\b\b\b\b\b\b\b\b\b\b\b\b\b 2/96 \r",
        "HERE OPTIM\t\n",
        "BEFORE FORWARD\t\n",
        "1\t\n"
       ]
      },
      {
       "metadata": {},
       "output_type": "pyout",
       "prompt_number": 413,
       "text": [
        "AFTER FORWARD\t\n",
        "NEO\t\n",
        " 4.6454\n",
        " 5.3549\n",
        "[torch.FloatTensor of dimension 2]\n",
        "\n",
        "2\t\n",
        "BLAH\t\n",
        " ** On entry to SGEMM  parameter number 10 had an illegal value\n"
       ]
      },
      {
       "metadata": {},
       "output_type": "pyout",
       "prompt_number": 413,
       "text": [
        " ** On entry to SGEMM  parameter number 10 had an illegal value\n"
       ]
      },
      {
       "metadata": {},
       "output_type": "pyout",
       "prompt_number": 413,
       "text": [
        "\r",
        " [=>...........................................................................]                                                   \b\b\b\b\b\b\b\b\b\b\b\b\b\b\b\b\b\b\b\b\b\b\b\b\b\b\b\b\b\b\b\b\b\b\b\b\b\b\b\b\b\b\b\b\b\b\b\b\b\bETA: 2s983ms | Step: 32ms\b\b\b\b\b\b\b\b\b\b\b\b\b\b\b\b\b\b\b\b\b\b\b\b\b\b\b\b\b\b\b\b\b\b\b\b\b\b\b\b\b\b\b\b\b\b\b\b\b\b\b\b\b\b\b\b\b\b\b\b\b\b\b\b\b\b\b\b\b\b\b\b 3/96 \r",
        "HERE OPTIM\t\n",
        "BEFORE FORWARD\t\n",
        "1\t\n"
       ]
      },
      {
       "metadata": {},
       "output_type": "pyout",
       "prompt_number": 413,
       "text": [
        "AFTER FORWARD\t\n",
        "NEO\t\n",
        " 4.5999\n",
        " 5.4003\n",
        "[torch.FloatTensor of dimension 2]\n",
        "\n",
        "2\t\n",
        "BLAH\t\n"
       ]
      },
      {
       "metadata": {},
       "output_type": "pyout",
       "prompt_number": 413,
       "text": [
        " ** On entry to SGEMM  parameter number 10 had an illegal value\n"
       ]
      },
      {
       "metadata": {},
       "output_type": "pyout",
       "prompt_number": 413,
       "text": [
        " ** On entry to SGEMM  parameter number 10 had an illegal value\n"
       ]
      },
      {
       "metadata": {},
       "output_type": "pyout",
       "prompt_number": 413,
       "text": [
        "\r",
        " [==>..........................................................................]                                                   \b\b\b\b\b\b\b\b\b\b\b\b\b\b\b\b\b\b\b\b\b\b\b\b\b\b\b\b\b\b\b\b\b\b\b\b\b\b\b\b\b\b\b\b\b\b\b\b\b\bETA: 3s10ms | Step: 32ms\b\b\b\b\b\b\b\b\b\b\b\b\b\b\b\b\b\b\b\b\b\b\b\b\b\b\b\b\b\b\b\b\b\b\b\b\b\b\b\b\b\b\b\b\b\b\b\b\b\b\b\b\b\b\b\b\b\b\b\b\b\b\b\b\b\b\b\b\b\b\b 4/96 \r",
        "HERE OPTIM\t\n",
        "BEFORE FORWARD\t\n",
        "1\t\n"
       ]
      },
      {
       "metadata": {},
       "output_type": "pyout",
       "prompt_number": 413,
       "text": [
        "AFTER FORWARD\t\n",
        "NEO\t\n",
        " 4.5539\n",
        " 5.4463\n",
        "[torch.FloatTensor of dimension 2]\n",
        "\n",
        "2\t\n",
        "BLAH\t\n"
       ]
      },
      {
       "metadata": {},
       "output_type": "pyout",
       "prompt_number": 413,
       "text": [
        " ** On entry to SGEMM  parameter number 10 had an illegal value\n"
       ]
      },
      {
       "metadata": {},
       "output_type": "pyout",
       "prompt_number": 413,
       "text": [
        " ** On entry to SGEMM  parameter number 10 had an illegal value\n"
       ]
      },
      {
       "metadata": {},
       "output_type": "pyout",
       "prompt_number": 413,
       "text": [
        "\r",
        " [===>.........................................................................]                                                   \b\b\b\b\b\b\b\b\b\b\b\b\b\b\b\b\b\b\b\b\b\b\b\b\b\b\b\b\b\b\b\b\b\b\b\b\b\b\b\b\b\b\b\b\b\b\b\b\b\bETA: 2s619ms | Step: 28ms\b\b\b\b\b\b\b\b\b\b\b\b\b\b\b\b\b\b\b\b\b\b\b\b\b\b\b\b\b\b\b\b\b\b\b\b\b\b\b\b\b\b\b\b\b\b\b\b\b\b\b\b\b\b\b\b\b\b\b\b\b\b\b\b\b\b\b\b\b\b\b\b 5/96 \r",
        "HERE OPTIM\t\n",
        "BEFORE FORWARD\t\n",
        "1\t\n"
       ]
      },
      {
       "metadata": {},
       "output_type": "pyout",
       "prompt_number": 413,
       "text": [
        "AFTER FORWARD\t\n",
        "NEO\t\n",
        " 4.5084\n",
        " 5.4918\n",
        "[torch.FloatTensor of dimension 2]\n",
        "\n",
        "1\t\n",
        "BLAH\t\n",
        " ** On entry to SGEMM  parameter number 10 had an illegal value\n"
       ]
      },
      {
       "metadata": {},
       "output_type": "pyout",
       "prompt_number": 413,
       "text": [
        " ** On entry to SGEMM  parameter number 10 had an illegal value\n"
       ]
      },
      {
       "metadata": {},
       "output_type": "pyout",
       "prompt_number": 413,
       "text": [
        "\r",
        " [===>.........................................................................]                                                   \b\b\b\b\b\b\b\b\b\b\b\b\b\b\b\b\b\b\b\b\b\b\b\b\b\b\b\b\b\b\b\b\b\b\b\b\b\b\b\b\b\b\b\b\b\b\b\b\b\bETA: 2s233ms | Step: 24ms\b\b\b\b\b\b\b\b\b\b\b\b\b\b\b\b\b\b\b\b\b\b\b\b\b\b\b\b\b\b\b\b\b\b\b\b\b\b\b\b\b\b\b\b\b\b\b\b\b\b\b\b\b\b\b\b\b\b\b\b\b\b\b\b\b\b\b\b\b\b"
       ]
      },
      {
       "metadata": {},
       "output_type": "pyout",
       "prompt_number": 413,
       "text": [
        "\b\b 6/96 \r",
        "HERE OPTIM\t\n",
        "BEFORE FORWARD\t\n",
        "1\t\n"
       ]
      },
      {
       "metadata": {},
       "output_type": "pyout",
       "prompt_number": 413,
       "text": [
        "AFTER FORWARD\t\n",
        "NEO\t\n",
        " 4.5623\n",
        " 5.4379\n",
        "[torch.FloatTensor of dimension 2]\n",
        "\n",
        "1\t\n",
        "BLAH\t\n",
        " ** On entry to SGEMM  parameter number 10 had an illegal value\n"
       ]
      },
      {
       "metadata": {},
       "output_type": "pyout",
       "prompt_number": 413,
       "text": [
        " ** On entry to SGEMM  parameter number 10 had an illegal value\n"
       ]
      },
      {
       "metadata": {},
       "output_type": "pyout",
       "prompt_number": 413,
       "text": [
        "\r",
        " [====>........................................................................]                                                   \b\b\b\b\b\b\b\b\b\b\b\b\b\b\b\b\b\b\b\b\b\b\b\b\b\b\b\b\b\b\b\b\b\b\b\b\b\b\b\b\b\b\b\b\b\b\b\b\b\b"
       ]
      },
      {
       "metadata": {},
       "output_type": "pyout",
       "prompt_number": 413,
       "text": [
        "ETA: 1s940ms | Step: 21ms\b\b\b\b\b\b\b\b\b\b\b\b\b\b\b\b\b\b\b\b\b\b\b\b\b\b\b\b\b\b\b\b\b\b\b\b\b\b\b\b\b\b\b\b\b\b\b\b\b\b\b\b\b\b\b\b\b\b\b\b\b\b\b\b\b\b\b\b\b\b\b\b 7/96 \r",
        "HERE OPTIM\t\n",
        "BEFORE FORWARD\t\n",
        "1\t\n"
       ]
      },
      {
       "metadata": {},
       "output_type": "pyout",
       "prompt_number": 413,
       "text": [
        "AFTER FORWARD\t\n",
        "NEO\t\n",
        " 4.6167\n",
        " 5.3836\n",
        "[torch.FloatTensor of dimension 2]\n",
        "\n",
        "2\t\n",
        "BLAH\t\n"
       ]
      },
      {
       "metadata": {},
       "output_type": "pyout",
       "prompt_number": 413,
       "text": [
        " ** On entry to SGEMM  parameter number 10 had an illegal value\n"
       ]
      },
      {
       "metadata": {},
       "output_type": "pyout",
       "prompt_number": 413,
       "text": [
        " ** On entry to SGEMM  parameter number 10 had an illegal value\n"
       ]
      },
      {
       "metadata": {},
       "output_type": "pyout",
       "prompt_number": 413,
       "text": [
        "\r",
        " [=====>.......................................................................]                                                   \b\b\b\b\b\b\b\b\b\b\b\b\b\b\b\b\b\b\b\b\b\b\b\b\b\b\b\b\b\b\b\b\b\b\b\b\b\b\b\b\b\b\b\b\b\b\b\b\b\bETA: 9s135ms | Step: 103ms\b\b\b\b\b\b\b\b\b\b\b\b\b\b\b\b\b\b\b\b\b\b\b\b\b\b\b\b\b\b\b\b\b\b\b\b\b\b\b\b\b\b\b\b\b\b\b\b\b\b\b\b\b\b\b\b\b\b\b\b\b\b\b\b\b\b\b\b\b\b\b\b\b 8/96 \r",
        "HERE OPTIM\t\n",
        "BEFORE FORWARD\t\n",
        "1\t\n"
       ]
      },
      {
       "metadata": {},
       "output_type": "pyout",
       "prompt_number": 413,
       "text": [
        "AFTER FORWARD\t\n",
        "NEO\t\n"
       ]
      },
      {
       "metadata": {},
       "output_type": "pyout",
       "prompt_number": 413,
       "text": [
        " 4.5715\n",
        " 5.4287\n",
        "[torch.FloatTensor of dimension 2]\n",
        "\n",
        "2\t\n",
        "BLAH\t\n",
        " ** On entry to SGEMM  parameter number 10 had an illegal value\n"
       ]
      },
      {
       "metadata": {},
       "output_type": "pyout",
       "prompt_number": 413,
       "text": [
        " ** On entry to SGEMM  parameter number 10 had an illegal value\n"
       ]
      },
      {
       "metadata": {},
       "output_type": "pyout",
       "prompt_number": 413,
       "text": [
        "\r",
        " [======>......................................................................]                                                   \b\b\b\b\b\b\b\b\b\b\b\b\b\b\b\b\b\b\b\b\b\b\b\b\b\b\b"
       ]
      },
      {
       "metadata": {},
       "output_type": "pyout",
       "prompt_number": 413,
       "text": [
        "\b\b\b\b\b\b\b\b\b\b\b\b\b\b\b\b\b\b\b\b\b\b\bETA: 8s322ms | Step: 95ms\b\b\b\b\b\b\b\b\b\b\b\b\b\b\b\b\b\b\b\b\b\b\b\b\b\b\b\b\b\b\b\b\b\b\b\b\b\b\b\b\b\b\b\b\b\b\b\b\b\b\b\b\b\b\b\b\b\b\b\b\b\b\b\b\b\b\b\b\b\b\b\b 9/96 \r",
        "HERE OPTIM\t\n",
        "BEFORE FORWARD\t\n",
        "1\t\n"
       ]
      },
      {
       "metadata": {},
       "output_type": "pyout",
       "prompt_number": 413,
       "text": [
        "AFTER FORWARD\t\n",
        "NEO\t\n",
        " 4.5258\n",
        " 5.4744\n",
        "[torch.FloatTensor of dimension 2]\n",
        "\n",
        "2\t\n",
        "BLAH\t\n"
       ]
      },
      {
       "metadata": {},
       "output_type": "pyout",
       "prompt_number": 413,
       "text": [
        " ** On entry to SGEMM  parameter number 10 had an illegal value\n"
       ]
      },
      {
       "metadata": {},
       "output_type": "pyout",
       "prompt_number": 413,
       "text": [
        " ** On entry to SGEMM  parameter number 10 had an illegal value\n"
       ]
      },
      {
       "metadata": {},
       "output_type": "pyout",
       "prompt_number": 413,
       "text": [
        "\r",
        " [=======>.....................................................................]                                                   \b\b\b\b\b\b\b\b\b\b\b\b\b\b\b\b\b\b\b\b\b\b\b\b\b\b\b\b\b\b\b\b\b\b\b\b\b\b\b\b\b\b\b\b\b\b\b\b\b\bETA: 9s322ms | Step: 108ms\b\b\b\b\b\b\b\b\b\b\b\b\b\b\b\b\b\b\b\b\b\b\b\b\b\b\b\b\b\b\b\b\b\b\b\b\b\b\b\b\b\b\b\b\b\b\b\b\b\b\b\b\b\b\b\b\b\b\b\b\b\b\b\b\b\b\b\b\b\b\b\b\b 10/96 \r",
        "HERE OPTIM\t\n",
        "BEFORE FORWARD\t\n",
        "1\t\n"
       ]
      },
      {
       "metadata": {},
       "output_type": "pyout",
       "prompt_number": 413,
       "text": [
        "AFTER FORWARD\t\n",
        "NEO\t\n",
        " 4.4805\n",
        " 5.5197\n",
        "[torch.FloatTensor of dimension 2]\n",
        "\n",
        "1\t\n",
        "BLAH\t\n",
        " ** On entry to SGEMM  parameter number 10 had an illegal value\n"
       ]
      },
      {
       "metadata": {},
       "output_type": "pyout",
       "prompt_number": 413,
       "text": [
        " ** On entry to SGEMM  parameter number 10 had an illegal value\n",
        "\r",
        " [=======>................................."
       ]
      },
      {
       "metadata": {},
       "output_type": "pyout",
       "prompt_number": 413,
       "text": [
        "....................................]                                                   \b\b\b\b\b\b\b\b\b\b\b\b\b\b\b\b\b\b\b\b\b\b\b\b\b\b\b\b\b\b\b\b\b\b\b\b\b\b\b\b\b\b\b\b\b\b\b\b\b\bETA: 8s419ms | Step: 99ms\b\b\b\b\b\b\b\b\b\b\b\b\b\b\b\b\b\b\b\b\b\b\b\b\b\b\b\b\b\b\b\b\b\b\b\b\b\b\b\b\b\b\b\b\b\b\b\b\b\b\b\b\b\b\b\b\b\b\b\b\b\b\b\b\b\b\b\b\b\b\b\b 11/96 \r",
        "HERE OPTIM\t\n",
        "BEFORE FORWARD\t\n",
        "1\t\n"
       ]
      },
      {
       "metadata": {},
       "output_type": "pyout",
       "prompt_number": 413,
       "text": [
        "AFTER FORWARD\t\n",
        "NEO\t\n",
        " 4.5347\n",
        " 5.4655\n",
        "[torch.FloatTensor of dimension 2]\n",
        "\n",
        "1\t\n",
        "BLAH\t\n",
        " ** On entry to SGEMM  parameter number 10 had an illegal value\n"
       ]
      },
      {
       "metadata": {},
       "output_type": "pyout",
       "prompt_number": 413,
       "text": [
        " ** On entry to SGEMM  parameter number 10 had an illegal value\n"
       ]
      },
      {
       "metadata": {},
       "output_type": "pyout",
       "prompt_number": 413,
       "text": [
        "\r",
        " [========>....................................................................]                                                   \b\b\b\b\b\b\b\b\b\b\b\b\b\b\b\b\b\b\b\b\b\b\b\b\b\b\b\b\b\b\b\b\b\b\b\b\b\b\b\b\b\b\b\b\b\b\b\b\b\bETA: 7s710ms | Step: 91ms\b\b\b\b\b\b\b\b\b\b\b\b\b\b\b\b\b\b\b\b\b\b\b\b\b\b\b\b\b\b\b\b\b\b\b\b\b\b\b\b\b\b\b\b\b\b\b\b\b\b\b\b\b\b\b\b\b\b\b\b\b\b\b\b\b\b\b\b\b\b\b\b 12/96 \r",
        "HERE OPTIM\t\n",
        "BEFORE FORWARD\t\n",
        "1\t\n"
       ]
      },
      {
       "metadata": {},
       "output_type": "pyout",
       "prompt_number": 413,
       "text": [
        "AFTER FORWARD\t\n",
        "NEO\t\n",
        " 4.5894\n",
        " 5.4108\n",
        "[torch.FloatTensor of dimension 2]\n",
        "\n",
        "2\t\n",
        "BLAH\t\n",
        " ** On entry to SGEMM  parameter number 10 had an illegal value\n"
       ]
      },
      {
       "metadata": {},
       "output_type": "pyout",
       "prompt_number": 413,
       "text": [
        " ** On entry to SGEMM  parameter number 10 had an illegal value\n"
       ]
      },
      {
       "metadata": {},
       "output_type": "pyout",
       "prompt_number": 413,
       "text": [
        "\r",
        " [=========>...................................................................]                                                   \b\b\b\b\b\b\b\b\b\b\b\b\b\b\b\b\b\b\b\b\b\b\b\b\b\b\b\b\b\b\b\b\b\b\b\b\b\b\b\b\b\b\b\b\b\b\b\b\b\bETA: 7s362ms | Step: 88ms\b\b\b\b\b\b\b\b\b\b\b\b\b\b\b\b\b\b\b\b\b\b\b\b\b\b\b\b\b\b\b\b\b\b\b\b\b\b\b\b\b\b\b\b\b\b\b\b\b\b\b\b\b\b\b\b\b\b\b\b\b\b\b\b\b\b\b\b\b\b\b\b 13/96 \r",
        "HERE OPTIM\t\n",
        "BEFORE FORWARD\t\n",
        "1\t\n"
       ]
      },
      {
       "metadata": {},
       "output_type": "pyout",
       "prompt_number": 413,
       "text": [
        "AFTER FORWARD\t\n",
        "NEO\t\n",
        " 4.5445\n",
        " 5.4557\n",
        "[torch.FloatTensor of dimension 2]\n",
        "\n",
        "2\t\n",
        "BLAH\t\n"
       ]
      },
      {
       "metadata": {},
       "output_type": "pyout",
       "prompt_number": 413,
       "text": [
        " ** On entry to SGEMM  parameter number 10 had an illegal value\n"
       ]
      },
      {
       "metadata": {},
       "output_type": "pyout",
       "prompt_number": 413,
       "text": [
        " ** On entry to SGEMM  parameter number 10 had an illegal value\n"
       ]
      },
      {
       "metadata": {},
       "output_type": "pyout",
       "prompt_number": 413,
       "text": [
        "\r",
        " [==========>..................................................................]                                                   \b\b\b\b\b\b\b\b\b\b\b\b\b\b\b\b\b\b\b\b\b\b\b\b\b\b\b\b\b\b\b\b\b\b\b\b\b\b\b\b\b\b\b\b\b\b\b\b\b\bETA: 9s751ms | Step: 118ms\b\b\b\b\b\b\b\b\b\b\b\b\b\b\b\b\b\b\b\b\b\b\b\b\b\b\b\b\b\b\b\b\b\b\b\b\b\b\b\b\b\b\b\b\b\b\b\b\b\b\b\b\b\b\b\b\b\b\b\b\b\b\b\b\b\b\b\b\b\b\b\b\b 14/96 \r",
        "HERE OPTIM\t\n",
        "BEFORE FORWARD\t\n",
        "1\t\n"
       ]
      },
      {
       "metadata": {},
       "output_type": "pyout",
       "prompt_number": 413,
       "text": [
        "AFTER FORWARD\t\n",
        "NEO\t\n",
        " 4.4990\n",
        " 5.5012\n",
        "[torch.FloatTensor of dimension 2]\n",
        "\n",
        "1\t\n",
        "BLAH\t\n",
        " ** On entry to SGEMM  parameter number 10 had an illegal value\n"
       ]
      },
      {
       "metadata": {},
       "output_type": "pyout",
       "prompt_number": 413,
       "text": [
        " ** On entry to SGEMM  parameter number 10 had an illegal value\n"
       ]
      },
      {
       "metadata": {},
       "output_type": "pyout",
       "prompt_number": 413,
       "text": [
        "\r",
        " [===========>.................................................................]                                                   \b\b\b\b\b\b\b\b\b\b\b\b\b\b\b\b\b\b\b\b\b\b\b\b\b\b\b\b\b\b"
       ]
      },
      {
       "metadata": {},
       "output_type": "pyout",
       "prompt_number": 413,
       "text": [
        "\b\b\b\b\b\b\b\b\b\b\b\b\b\b\b\b\b\b\b\bETA: 8s998ms | Step: 111ms\b\b\b\b\b\b\b\b\b\b\b\b\b\b\b\b\b\b\b\b\b\b\b\b\b\b\b\b\b\b\b\b\b\b\b\b\b\b\b\b\b\b\b\b\b\b\b\b\b\b\b\b\b\b\b\b\b\b\b\b\b\b\b\b\b\b\b\b\b\b\b\b\b 15/96 \r",
        "HERE OPTIM\t\n",
        "BEFORE FORWARD\t\n",
        "1\t\n"
       ]
      },
      {
       "metadata": {},
       "output_type": "pyout",
       "prompt_number": 413,
       "text": [
        "AFTER FORWARD\t\n",
        "NEO\t\n",
        " 4.5531\n",
        " 5.4472\n",
        "[torch.FloatTensor of dimension 2]\n",
        "\n",
        "1\t\n",
        "BLAH\t\n",
        " ** On entry to SGEMM  parameter number 10 had an illegal value\n"
       ]
      },
      {
       "metadata": {},
       "output_type": "pyout",
       "prompt_number": 413,
       "text": [
        " ** On entry to SGEMM  parameter number 10 had an illegal value\n"
       ]
      },
      {
       "metadata": {},
       "output_type": "pyout",
       "prompt_number": 413,
       "text": [
        "\r",
        " [===========>.................................................................]                                                   \b\b\b\b\b\b\b\b\b\b\b\b\b\b\b\b\b\b\b\b\b\b\b\b\b\b\b\b\b\b\b\b\b\b\b\b\b\b\b\b\b\b\b\b\b\b\b\b\b\bETA: 8s339ms | Step: 104ms\b\b\b\b\b\b\b\b\b\b\b\b\b\b\b\b\b\b\b\b\b\b\b\b\b\b\b\b\b\b\b\b\b\b\b\b\b\b\b\b\b\b\b\b\b\b\b\b\b\b\b\b\b\b\b\b\b\b\b\b\b\b\b\b\b\b\b\b\b\b\b\b\b 16/96 \r",
        "HERE OPTIM\t\n",
        "BEFORE FORWARD\t\n",
        "1\t\n"
       ]
      },
      {
       "metadata": {},
       "output_type": "pyout",
       "prompt_number": 413,
       "text": [
        "AFTER FORWARD\t\n",
        "NEO\t\n",
        " 4.6075\n",
        " 5.3927\n",
        "[torch.FloatTensor of dimension 2]\n",
        "\n",
        "2\t\n",
        "BLAH\t\n"
       ]
      },
      {
       "metadata": {},
       "output_type": "pyout",
       "prompt_number": 413,
       "text": [
        " ** On entry to SGEMM  parameter number 10 had an illegal value\n"
       ]
      },
      {
       "metadata": {},
       "output_type": "pyout",
       "prompt_number": 413,
       "text": [
        " ** On entry to SGEMM  parameter number 10 had an illegal value\n"
       ]
      },
      {
       "metadata": {},
       "output_type": "pyout",
       "prompt_number": 413,
       "text": [
        "\r",
        " [============>................................................................]                                                   \b\b\b\b\b\b\b\b\b\b\b\b\b\b\b\b\b\b\b\b\b\b\b\b\b\b\b\b\b\b\b\b\b\b\b\b\b\b\b\b\b\b\b\b\b\b\b\b\b\bETA: 10s845ms | Step: 137ms\b\b\b\b\b\b\b\b\b\b\b\b\b\b\b\b\b\b\b\b\b\b\b\b\b\b\b\b\b\b\b\b\b\b\b\b\b\b\b\b\b\b\b\b\b\b\b\b\b\b\b\b\b\b\b\b\b\b\b\b\b\b\b\b\b\b\b\b\b\b\b\b\b\b 17/96 \r",
        "HERE OPTIM\t\n",
        "BEFORE FORWARD\t\n",
        "1\t\n"
       ]
      },
      {
       "metadata": {},
       "output_type": "pyout",
       "prompt_number": 413,
       "text": [
        "AFTER FORWARD\t\n",
        "NEO\t\n",
        " 4.5624\n",
        " 5.4378\n",
        "[torch.FloatTensor of dimension 2]\n",
        "\n",
        "2\t\n",
        "BLAH\t\n"
       ]
      },
      {
       "metadata": {},
       "output_type": "pyout",
       "prompt_number": 413,
       "text": [
        " ** On entry to SGEMM  parameter number 10 had an illegal value\n"
       ]
      },
      {
       "metadata": {},
       "output_type": "pyout",
       "prompt_number": 413,
       "text": [
        " ** On entry to SGEMM  parameter number 10 had an illegal value\n"
       ]
      },
      {
       "metadata": {},
       "output_type": "pyout",
       "prompt_number": 413,
       "text": [
        "\r",
        " [=============>...............................................................]                                                   \b\b\b\b\b\b\b\b\b\b\b\b\b\b\b\b\b\b\b\b\b\b\b\b\b\b\b\b\b\b\b\b\b\b\b\b\b\b\b\b\b\b\b\b\b\b\b\b\b\bETA: 11s616ms | Step: 148ms\b\b\b\b\b\b\b\b\b\b\b\b\b\b\b\b\b\b\b\b\b\b\b\b\b\b\b\b\b\b\b\b\b\b\b\b\b\b\b\b\b\b\b\b\b\b\b\b\b\b\b\b\b\b"
       ]
      },
      {
       "metadata": {},
       "output_type": "pyout",
       "prompt_number": 413,
       "text": [
        "\b\b\b\b\b\b\b\b\b\b\b\b\b\b\b\b\b\b\b\b 18/96 \r",
        "HERE OPTIM\t\n",
        "BEFORE FORWARD\t\n",
        "1\t\n"
       ]
      },
      {
       "metadata": {},
       "output_type": "pyout",
       "prompt_number": 413,
       "text": [
        "AFTER FORWARD\t\n",
        "NEO\t\n",
        " 4.5168\n",
        " 5.4834\n",
        "[torch.FloatTensor of dimension 2]\n",
        "\n",
        "1\t\n",
        "BLAH\t\n",
        " ** On entry to SGEMM  parameter number 10 had an illegal value\n"
       ]
      },
      {
       "metadata": {},
       "output_type": "pyout",
       "prompt_number": 413,
       "text": [
        " ** On entry to SGEMM  parameter number 10 had an illegal value\n"
       ]
      },
      {
       "metadata": {},
       "output_type": "pyout",
       "prompt_number": 413,
       "text": [
        "\r",
        " [=========="
       ]
      },
      {
       "metadata": {},
       "output_type": "pyout",
       "prompt_number": 413,
       "text": [
        "====>..............................................................]                                                   \b\b\b\b\b\b\b\b\b\b\b\b\b\b\b\b\b\b\b\b\b\b\b\b\b\b\b\b\b\b\b\b\b\b\b\b\b\b\b\b\b\b\b\b\b\b\b\b\b\bETA: 10s864ms | Step: 141ms\b\b\b\b\b\b\b\b\b\b\b\b\b\b\b\b\b\b\b\b\b\b\b\b\b\b\b\b\b\b\b\b\b\b\b\b\b\b\b\b\b\b\b\b\b\b\b\b\b\b\b\b\b\b\b\b\b\b\b\b\b\b\b\b\b\b\b\b\b\b\b\b\b\b 19/96 \r",
        "HERE OPTIM\t\n",
        "BEFORE FORWARD\t\n",
        "1\t\n"
       ]
      },
      {
       "metadata": {},
       "output_type": "pyout",
       "prompt_number": 413,
       "text": [
        "AFTER FORWARD\t\n"
       ]
      },
      {
       "metadata": {},
       "output_type": "pyout",
       "prompt_number": 413,
       "text": [
        "NEO\t\n",
        " 4.5707\n",
        " 5.4296\n",
        "[torch.FloatTensor of dimension 2]\n",
        "\n",
        "2\t\n",
        "BLAH\t\n"
       ]
      },
      {
       "metadata": {},
       "output_type": "pyout",
       "prompt_number": 413,
       "text": [
        " ** On entry to SGEMM  parameter number 10 had an illegal value\n"
       ]
      },
      {
       "metadata": {},
       "output_type": "pyout",
       "prompt_number": 413,
       "text": [
        " ** On entry to SGEMM  parameter number 10 had an illegal value\n"
       ]
      },
      {
       "metadata": {},
       "output_type": "pyout",
       "prompt_number": 413,
       "text": [
        "\r",
        " [===============>.............................................................]                                                   \b\b\b\b\b\b\b\b\b\b\b\b\b\b\b\b\b\b\b\b\b\b\b\b\b\b\b\b\b\b\b\b\b\b\b\b\b\b\b\b\b\b\b\b\b\b\b\b\b\bETA: 15s458ms | Step: 203ms\b\b\b\b\b\b\b\b\b\b\b\b\b\b\b\b\b\b\b\b\b\b\b\b\b\b\b\b\b\b\b\b\b\b\b\b\b\b\b\b\b\b\b\b\b\b\b\b\b\b\b\b\b\b\b\b\b\b\b\b\b\b\b\b\b\b\b\b\b\b\b\b\b\b 20/96 \r",
        "HERE OPTIM\t\n",
        "BEFORE FORWARD\t\n",
        "1\t\n"
       ]
      },
      {
       "metadata": {},
       "output_type": "pyout",
       "prompt_number": 413,
       "text": [
        "AFTER FORWARD\t\n",
        "NEO\t\n",
        " 4.5259\n",
        " 5.4744\n",
        "[torch.FloatTensor of dimension 2]\n",
        "\n",
        "1\t\n",
        "BLAH\t\n",
        " ** On entry to SGEMM  parameter number 10 had an illegal value\n"
       ]
      },
      {
       "metadata": {},
       "output_type": "pyout",
       "prompt_number": 413,
       "text": [
        " ** On entry to SGEMM  parameter number 10 had an illegal value\n"
       ]
      },
      {
       "metadata": {},
       "output_type": "pyout",
       "prompt_number": 413,
       "text": [
        "\r",
        " [===============>.............................................................]                                                   \b\b\b\b\b\b\b\b\b\b\b\b\b\b\b\b\b\b\b\b\b\b\b\b\b\b\b\b\b\b\b\b\b\b\b\b\b\b\b\b\b\b\b\b\b\b\b\b\b\bETA: 14s518ms | Step: 193ms\b\b\b\b\b\b\b\b\b\b\b\b\b\b\b\b\b\b\b\b\b\b\b\b\b\b\b\b\b\b\b\b\b\b\b\b\b\b\b\b\b\b\b\b\b\b\b\b\b\b\b\b\b\b\b\b\b\b\b\b\b\b\b\b\b\b\b\b\b\b\b\b\b\b 21/96 \r",
        "HERE OPTIM\t\n",
        "BEFORE FORWARD\t\n",
        "1\t\n"
       ]
      },
      {
       "metadata": {},
       "output_type": "pyout",
       "prompt_number": 413,
       "text": [
        "AFTER FORWARD\t\n",
        "NEO\t\n",
        " 4.5797\n",
        " 5.4207\n",
        "[torch.FloatTensor of dimension 2]\n",
        "\n",
        "1\t\n",
        "BLAH\t\n",
        " ** On entry to SGEMM  parameter number 10 had an illegal value\n"
       ]
      },
      {
       "metadata": {},
       "output_type": "pyout",
       "prompt_number": 413,
       "text": [
        " ** On entry to SGEMM  parameter number 10 had an illegal value\n"
       ]
      },
      {
       "metadata": {},
       "output_type": "pyout",
       "prompt_number": 413,
       "text": [
        "\r",
        " [================>............................................................]                                                   \b\b\b\b\b\b\b\b\b\b\b\b\b\b\b\b\b\b\b\b\b\b\b\b\b\b\b\b\b\b\b\b\b\b\b\b\b\b\b\b\b\b\b\b\b\b\b\b\b\bETA: 13s665ms | Step: 184ms\b\b\b\b\b\b\b\b\b\b\b\b\b\b\b\b\b\b\b\b\b\b\b\b\b\b\b\b\b\b\b\b\b\b\b\b\b\b\b\b\b\b\b\b\b\b\b\b\b\b\b\b\b\b\b\b\b\b\b\b\b\b\b\b\b\b\b\b\b\b\b\b\b\b 22/96 \r",
        "HERE OPTIM\t\n",
        "BEFORE FORWARD\t\n",
        "1\t\n"
       ]
      },
      {
       "metadata": {},
       "output_type": "pyout",
       "prompt_number": 413,
       "text": [
        "AFTER FORWARD\t\n",
        "NEO\t\n",
        " 4.6339\n",
        " 5.3665\n",
        "[torch.FloatTensor of dimension 2]\n",
        "\n",
        "2\t\n",
        "BLAH\t\n",
        " ** On entry to SGEMM  parameter number 10 had an illegal value\n"
       ]
      },
      {
       "metadata": {},
       "output_type": "pyout",
       "prompt_number": 413,
       "text": [
        " ** On entry to SGEMM  parameter number 10 had an illegal value\n"
       ]
      },
      {
       "metadata": {},
       "output_type": "pyout",
       "prompt_number": 413,
       "text": [
        "\r",
        " [=================>......................................................"
       ]
      },
      {
       "metadata": {},
       "output_type": "pyout",
       "prompt_number": 413,
       "text": [
        ".....]                                                   \b\b\b\b\b\b\b\b\b\b\b\b\b\b\b\b\b\b\b\b\b\b\b\b\b\b\b\b\b\b\b\b\b\b\b\b\b\b\b\b\b\b\b\b\b\b\b\b\b\bETA: 12s970ms | Step: 177ms\b\b\b\b\b\b\b\b\b\b\b\b\b\b\b\b\b\b\b\b\b\b\b\b\b\b\b\b\b\b\b\b\b\b\b\b\b\b\b\b\b\b\b\b\b\b\b\b\b\b\b\b\b\b\b\b\b\b\b\b\b\b\b\b\b\b\b\b\b\b\b\b\b\b 23/96 \r",
        "HERE OPTIM\t\n",
        "BEFORE FORWARD\t\n",
        "1\t\n"
       ]
      },
      {
       "metadata": {},
       "output_type": "pyout",
       "prompt_number": 413,
       "text": [
        "AFTER FORWARD\t\n",
        "NEO\t\n",
        " 4.5886\n",
        " 5.4118\n",
        "[torch.FloatTensor of dimension 2]\n",
        "\n",
        "1\t\n",
        "BLAH\t\n",
        " ** On entry to SGEMM  parameter number 10 had an illegal value\n"
       ]
      },
      {
       "metadata": {},
       "output_type": "pyout",
       "prompt_number": 413,
       "text": [
        " ** On entry to SGEMM  parameter number 10 had an illegal value\n"
       ]
      },
      {
       "metadata": {},
       "output_type": "pyout",
       "prompt_number": 413,
       "text": [
        "\r",
        " [==================>..........................................................]                                                   \b\b\b\b\b\b\b\b\b\b\b\b\b\b\b\b\b\b\b\b\b\b\b\b\b\b\b\b\b\b\b\b\b\b\b\b\b\b\b\b\b\b\b\b\b\b\b\b\b\bETA: 12s267ms | Step: 170ms\b\b\b\b\b\b\b\b\b\b\b\b\b\b\b\b\b\b\b\b\b\b\b\b\b\b\b\b\b\b\b\b\b\b\b\b\b\b\b\b\b\b\b\b\b\b\b\b\b\b\b\b\b\b\b\b\b\b\b\b\b\b\b\b\b\b\b\b\b\b\b\b\b\b 24/96 \r",
        "HERE OPTIM\t\n",
        "BEFORE FORWARD\t\n",
        "1\t\n"
       ]
      },
      {
       "metadata": {},
       "output_type": "pyout",
       "prompt_number": 413,
       "text": [
        "AFTER FORWARD\t\n",
        "NEO\t\n",
        " 4.6417\n",
        " 5.3587\n",
        "[torch.FloatTensor of dimension 2]\n",
        "\n",
        "1\t\n",
        "BLAH\t\n",
        " ** On entry to SGEMM  parameter number 10 had an illegal value\n"
       ]
      },
      {
       "metadata": {},
       "output_type": "pyout",
       "prompt_number": 413,
       "text": [
        " ** On entry to SGEMM  parameter number 10 had an illegal value\n"
       ]
      },
      {
       "metadata": {},
       "output_type": "pyout",
       "prompt_number": 413,
       "text": [
        "\r",
        " [===================>....."
       ]
      },
      {
       "metadata": {},
       "output_type": "pyout",
       "prompt_number": 413,
       "text": [
        "....................................................]                                                   \b\b\b\b\b\b\b\b\b\b\b\b\b\b\b\b\b\b\b\b\b\b\b\b\b\b\b\b\b\b\b\b\b\b\b\b\b\b\b\b\b\b\b\b\b\b\b\b\b\bETA: 11s656ms | Step: 164ms\b\b\b\b\b\b\b\b\b\b\b\b\b\b\b\b\b\b\b\b\b\b\b\b\b\b\b\b\b\b\b\b\b\b\b\b\b\b\b\b\b\b\b\b\b\b\b\b\b\b\b\b\b\b\b\b\b\b\b\b\b\b\b\b\b\b\b\b\b\b\b\b\b\b 25/96 \r",
        "HERE OPTIM\t\n",
        "BEFORE FORWARD\t\n",
        "1\t\n"
       ]
      },
      {
       "metadata": {},
       "output_type": "pyout",
       "prompt_number": 413,
       "text": [
        "AFTER FORWARD\t\n",
        "NEO\t\n",
        " 4.6952\n",
        " 5.3051\n",
        "[torch.FloatTensor of dimension 2]\n",
        "\n",
        "2\t\n",
        "BLAH\t\n",
        " ** On entry to SGEMM  parameter number 10 had an illegal value\n"
       ]
      },
      {
       "metadata": {},
       "output_type": "pyout",
       "prompt_number": 413,
       "text": [
        " ** On entry to SGEMM  parameter number 10 had an illegal value\n"
       ]
      },
      {
       "metadata": {},
       "output_type": "pyout",
       "prompt_number": 413,
       "text": [
        "\r",
        " [===================>.........................................................]                                                   \b\b\b\b\b\b\b\b\b\b\b\b\b\b\b\b\b\b\b\b\b\b\b\b\b\b\b\b\b\b\b\b\b\b\b\b\b\b\b\b\b\b\b\b\b\b\b\b\b\bETA: 11s126ms | Step: 158ms\b\b\b\b\b\b\b\b\b\b\b\b\b\b\b\b\b\b\b\b\b\b\b\b\b\b\b\b\b\b\b\b\b\b\b\b\b\b\b\b\b\b\b\b\b\b\b\b\b\b\b\b\b\b\b\b\b\b\b\b\b\b\b\b\b\b\b\b\b\b\b\b\b\b 26/96 \r",
        "HERE OPTIM\t\n"
       ]
      },
      {
       "metadata": {},
       "output_type": "pyout",
       "prompt_number": 413,
       "text": [
        "BEFORE FORWARD\t\n",
        "1\t\n"
       ]
      },
      {
       "metadata": {},
       "output_type": "pyout",
       "prompt_number": 413,
       "text": [
        "AFTER FORWARD\t\n",
        "NEO\t\n",
        " 4.6493\n",
        " 5.3511\n",
        "[torch.FloatTensor of dimension 2]\n",
        "\n",
        "2\t\n",
        "BLAH\t\n",
        " ** On entry to SGEMM  parameter number 10 had an illegal value\n"
       ]
      },
      {
       "metadata": {},
       "output_type": "pyout",
       "prompt_number": 413,
       "text": [
        " ** On entry to SGEMM  parameter number 10 had an illegal value\n"
       ]
      },
      {
       "metadata": {},
       "output_type": "pyout",
       "prompt_number": 413,
       "text": [
        "\r",
        " [====================>........................................................]                                                   \b\b\b\b\b\b\b\b\b\b\b\b\b\b\b\b\b\b\b\b\b\b\b\b\b\b\b\b\b\b\b\b\b\b\b\b\b\b\b\b\b\b\b\b\b\b\b\b\b\bETA: 10s707ms | Step: 155ms\b\b\b\b\b\b\b\b\b\b\b\b\b\b\b\b\b\b\b\b\b\b\b\b\b\b\b\b\b\b\b\b\b\b\b\b\b\b\b\b\b\b\b\b\b\b\b\b\b\b\b\b\b\b\b\b\b\b\b\b\b\b\b\b\b\b\b\b\b\b\b\b\b\b 27/96 \r",
        "HERE OPTIM\t\n"
       ]
      },
      {
       "metadata": {},
       "output_type": "pyout",
       "prompt_number": 413,
       "text": [
        "BEFORE FORWARD\t\n",
        "1\t\n"
       ]
      },
      {
       "metadata": {},
       "output_type": "pyout",
       "prompt_number": 413,
       "text": [
        "AFTER FORWARD\t\n",
        "NEO\t\n",
        " 4.6028\n",
        " 5.3975\n",
        "[torch.FloatTensor of dimension 2]\n",
        "\n",
        "1\t\n",
        "BLAH\t\n"
       ]
      },
      {
       "metadata": {},
       "output_type": "pyout",
       "prompt_number": 413,
       "text": [
        " ** On entry to SGEMM  parameter number 10 had an illegal value\n"
       ]
      },
      {
       "metadata": {},
       "output_type": "pyout",
       "prompt_number": 413,
       "text": [
        " ** On entry to SGEMM  parameter number 10 had an illegal value\n"
       ]
      },
      {
       "metadata": {},
       "output_type": "pyout",
       "prompt_number": 413,
       "text": [
        "\r",
        " [=====================>.......................................................]                                                   \b\b\b\b\b\b\b\b\b\b\b\b\b\b\b\b\b\b\b\b\b\b\b\b\b\b\b\b\b\b\b\b\b\b\b\b\b\b\b\b\b\b\b\b\b\b\b\b\b\bETA: 10s202ms | Step: 150ms\b\b\b\b\b\b\b\b\b\b\b\b\b\b\b\b\b\b\b\b\b\b\b\b\b\b\b\b\b\b\b\b\b\b\b\b\b\b\b\b\b\b\b\b\b\b\b\b\b\b\b\b\b\b\b\b\b\b\b\b\b\b\b\b\b\b\b\b\b\b\b\b\b\b 28/96 \r",
        "HERE OPTIM\t\n",
        "BEFORE FORWARD\t\n",
        "1\t\n"
       ]
      },
      {
       "metadata": {},
       "output_type": "pyout",
       "prompt_number": 413,
       "text": [
        "AFTER FORWARD\t\n",
        "NEO\t\n",
        " 4.6558\n",
        " 5.3446\n",
        "[torch.FloatTensor of dimension 2]\n",
        "\n",
        "2\t\n",
        "BLAH\t\n"
       ]
      },
      {
       "metadata": {},
       "output_type": "pyout",
       "prompt_number": 413,
       "text": [
        " ** On entry to SGEMM  parameter number 10 had an illegal value\n"
       ]
      },
      {
       "metadata": {},
       "output_type": "pyout",
       "prompt_number": 413,
       "text": [
        " ** On entry to SGEMM  parameter number 10 had an illegal value\n"
       ]
      },
      {
       "metadata": {},
       "output_type": "pyout",
       "prompt_number": 413,
       "text": [
        "\r",
        " [======================>......................................................]                                                   \b\b\b\b\b\b\b\b\b\b\b\b\b\b\b\b\b\b\b"
       ]
      },
      {
       "metadata": {},
       "output_type": "pyout",
       "prompt_number": 413,
       "text": [
        "\b\b\b\b\b\b\b\b\b\b\b\b\b\b\b\b\b\b\b\b\b\b\b\b\b\b\b\b\b\b\bETA: 9s969ms | Step: 148ms\b\b\b\b\b\b\b\b\b\b\b\b\b\b\b\b\b\b\b\b\b\b\b\b\b\b\b\b\b\b\b\b\b\b\b\b\b\b\b\b\b\b\b\b\b\b\b\b\b\b\b\b\b\b\b\b\b\b\b\b\b\b\b\b\b\b\b\b\b\b\b\b\b 29/96 \r",
        "HERE OPTIM\t\n",
        "BEFORE FORWARD\t\n",
        "1\t\n"
       ]
      },
      {
       "metadata": {},
       "output_type": "pyout",
       "prompt_number": 413,
       "text": [
        "AFTER FORWARD\t\n",
        "NEO\t\n",
        " 4.6102\n",
        " 5.3902\n",
        "[torch.FloatTensor of dimension 2]\n",
        "\n",
        "1\t\n",
        "BLAH\t\n",
        " ** On entry to SGEMM  parameter number 10 had an illegal value\n"
       ]
      },
      {
       "metadata": {},
       "output_type": "pyout",
       "prompt_number": 413,
       "text": [
        " ** On entry to SGEMM  parameter number 10 had an illegal value\n"
       ]
      },
      {
       "metadata": {},
       "output_type": "pyout",
       "prompt_number": 413,
       "text": [
        "\r",
        " [=======================>.....................................................]                                                   \b\b\b\b\b\b\b\b\b\b\b\b\b\b\b\b\b\b\b\b\b\b\b\b\b\b\b\b\b\b\b\b\b\b\b\b\b\b\b\b\b\b\b\b\b\b\b\b\b\bETA: 9s518ms | Step: 144ms\b\b\b\b\b\b\b\b\b\b\b\b\b\b\b\b\b\b\b\b\b\b\b\b\b"
       ]
      },
      {
       "metadata": {},
       "output_type": "pyout",
       "prompt_number": 413,
       "text": [
        "\b\b\b\b\b\b\b\b\b\b\b\b\b\b\b\b\b\b\b\b\b\b\b\b\b\b\b\b\b\b\b\b\b\b\b\b\b\b\b\b\b\b\b\b\b\b\b\b 30/96 \r",
        "HERE OPTIM\t\n",
        "BEFORE FORWARD\t\n",
        "1\t\n"
       ]
      },
      {
       "metadata": {},
       "output_type": "pyout",
       "prompt_number": 413,
       "text": [
        "AFTER FORWARD\t\n",
        "NEO\t\n",
        " 4.6631\n",
        " 5.3373\n",
        "[torch.FloatTensor of dimension 2]\n",
        "\n",
        "1\t\n",
        "BLAH\t\n",
        " ** On entry to SGEMM  parameter number 10 had an illegal value\n"
       ]
      },
      {
       "metadata": {},
       "output_type": "pyout",
       "prompt_number": 413,
       "text": [
        " ** On entry to SGEMM  parameter number 10 had an illegal value\n"
       ]
      },
      {
       "metadata": {},
       "output_type": "pyout",
       "prompt_number": 413,
       "text": [
        "\r",
        " [=======================>.....................................................]                                                   \b\b\b\b\b\b\b\b\b\b\b\b\b\b\b\b\b\b\b\b\b\b\b\b\b\b\b\b\b\b\b\b\b\b\b\b\b\b\b\b\b\b\b\b\b\b\b\b\b\bETA: 9s91ms | Step: 139ms\b\b\b\b\b\b\b\b\b\b\b\b\b\b\b\b\b\b\b\b\b\b\b\b\b\b\b\b\b\b\b\b\b\b\b\b\b\b\b\b\b\b\b\b\b\b\b\b\b\b\b\b\b\b\b\b\b\b\b\b\b\b\b\b\b\b\b\b\b\b\b\b 31/96 \r",
        "HERE OPTIM\t\n",
        "BEFORE FORWARD\t\n",
        "1\t\n"
       ]
      },
      {
       "metadata": {},
       "output_type": "pyout",
       "prompt_number": 413,
       "text": [
        "AFTER FORWARD\t\n",
        "NEO\t\n",
        " 4.7165\n",
        " 5.2839\n",
        "[torch.FloatTensor of dimension 2]\n",
        "\n",
        "2\t\n",
        "BLAH\t\n"
       ]
      },
      {
       "metadata": {},
       "output_type": "pyout",
       "prompt_number": 413,
       "text": [
        " ** On entry to SGEMM  parameter number 10 had an illegal value\n"
       ]
      },
      {
       "metadata": {},
       "output_type": "pyout",
       "prompt_number": 413,
       "text": [
        " ** On entry to SGEMM  parameter number 10 had an illegal value\n"
       ]
      },
      {
       "metadata": {},
       "output_type": "pyout",
       "prompt_number": 413,
       "text": [
        "\r",
        " [========================>....................................................]                                                   \b\b\b\b\b\b\b\b\b\b\b\b\b\b\b\b\b\b\b\b\b\b\b\b\b\b\b\b\b\b\b\b\b\b\b\b\b\b\b\b\b\b\b\b\b\b\b\b\b\bETA: 8s883ms | Step: 138ms\b\b\b\b\b\b\b\b\b\b\b\b\b\b\b\b\b\b\b\b\b\b\b\b\b\b\b\b\b\b\b\b\b\b\b\b\b\b\b\b\b\b\b\b\b\b\b\b\b\b\b\b\b\b\b\b\b\b\b\b\b\b\b\b\b\b\b\b\b\b\b\b\b 32/96 \r",
        "HERE OPTIM\t\n",
        "BEFORE FORWARD\t\n",
        "1\t\n"
       ]
      },
      {
       "metadata": {},
       "output_type": "pyout",
       "prompt_number": 413,
       "text": [
        "AFTER FORWARD\t\n",
        "NEO\t\n",
        " 4.6703\n",
        " 5.3300\n",
        "[torch.FloatTensor of dimension 2]\n",
        "\n",
        "1\t\n",
        "BLAH\t\n",
        " ** On entry to SGEMM  parameter number 10 had an illegal value\n"
       ]
      },
      {
       "metadata": {},
       "output_type": "pyout",
       "prompt_number": 413,
       "text": [
        " ** On entry to SGEMM  parameter number 10 had an illegal value\n"
       ]
      },
      {
       "metadata": {},
       "output_type": "pyout",
       "prompt_number": 413,
       "text": [
        "\r",
        " [=========================>...................................................]                                                   \b\b\b\b\b\b\b\b\b\b\b\b\b\b\b\b\b\b\b\b\b\b\b\b\b\b\b\b\b\b\b\b\b\b\b\b\b\b\b\b\b\b\b\b\b\b\b\b\b\bETA: 8s495ms | Step: 134ms\b\b\b\b\b\b\b\b\b\b\b\b\b\b\b\b\b\b\b\b\b\b\b\b\b\b\b\b\b\b\b\b\b\b\b\b\b\b\b\b\b\b\b\b\b\b\b\b\b\b\b\b\b\b\b\b\b\b\b\b\b\b\b\b\b\b\b\b\b\b\b\b\b 33/96 \r",
        "HERE OPTIM\t\n",
        "BEFORE FORWARD\t\n",
        "1\t\n"
       ]
      },
      {
       "metadata": {},
       "output_type": "pyout",
       "prompt_number": 413,
       "text": [
        "AFTER FORWARD\t\n",
        "NEO\t\n",
        " 4.7226\n",
        " 5.2777\n",
        "[torch.FloatTensor of dimension 2]\n",
        "\n",
        "2\t\n",
        "BLAH\t\n"
       ]
      },
      {
       "metadata": {},
       "output_type": "pyout",
       "prompt_number": 413,
       "text": [
        " ** On entry to SGEMM  parameter number 10 had an illegal value\n"
       ]
      },
      {
       "metadata": {},
       "output_type": "pyout",
       "prompt_number": 413,
       "text": [
        " ** On entry to SGEMM  parameter number 10 had an illegal value\n"
       ]
      },
      {
       "metadata": {},
       "output_type": "pyout",
       "prompt_number": 413,
       "text": [
        "\r",
        " [==========================>..................................................]                                                   \b\b\b\b\b\b\b\b\b\b\b\b\b\b\b\b\b\b\b\b\b\b\b\b\b\b\b\b\b\b\b\b\b\b\b\b\b\b\b\b\b\b\b\b\b\b\b\b\b\bETA: 8s718ms | Step: 140ms\b\b\b\b\b\b\b\b\b\b\b\b\b\b\b\b\b\b\b\b\b\b\b\b\b\b\b\b\b\b\b\b\b\b\b\b\b\b\b\b\b\b\b\b\b\b\b\b\b\b\b\b\b\b\b\b\b\b\b\b\b\b\b\b\b\b\b\b\b\b\b\b\b 34/96 \r",
        "HERE OPTIM\t\n",
        "BEFORE FORWARD\t\n",
        "1\t\n"
       ]
      },
      {
       "metadata": {},
       "output_type": "pyout",
       "prompt_number": 413,
       "text": [
        "AFTER FORWARD\t\n",
        "NEO\t\n",
        " 4.6764\n",
        " 5.3240\n",
        "[torch.FloatTensor of dimension 2]\n",
        "\n",
        "1\t\n",
        "BLAH\t\n",
        " ** On entry to SGEMM  parameter number 10 had an illegal value\n",
        " ** On entry to SGEMM  parameter number 10 had an illegal value\n",
        "\r",
        " [===========================>.................................................]                                                   \b\b\b\b\b\b\b\b\b\b\b\b\b\b\b\b\b\b\b\b\b\b\b\b\b\b\b\b\b\b\b\b\b\b\b\b\b\b\b\b\b\b\b\b\b\b\b\b\b\bETA: 8s338ms | Step: 136ms\b\b\b\b\b\b\b\b\b\b\b\b\b\b\b\b\b\b\b\b\b\b\b\b\b\b\b\b\b\b\b\b\b\b\b\b\b\b\b\b\b\b\b\b\b\b\b\b\b\b\b\b\b\b\b\b\b\b\b\b\b\b\b\b\b\b\b\b\b\b\b\b\b 35/96 \r",
        "HERE OPTIM\t\n",
        "BEFORE FORWARD\t\n",
        "1\t\n"
       ]
      },
      {
       "metadata": {},
       "output_type": "pyout",
       "prompt_number": 413,
       "text": [
        "AFTER FORWARD\t\n",
        "NEO\t"
       ]
      },
      {
       "metadata": {},
       "output_type": "pyout",
       "prompt_number": 413,
       "text": [
        "\n",
        " 4.7286\n",
        " 5.2718\n",
        "[torch.FloatTensor of dimension 2]\n",
        "\n",
        "2\t\n",
        "BLAH\t\n",
        " ** On entry to SGEMM  parameter number 10 had an illegal value\n"
       ]
      },
      {
       "metadata": {},
       "output_type": "pyout",
       "prompt_number": 413,
       "text": [
        " ** On entry to SGEMM  parameter number 10 had an illegal value\n"
       ]
      },
      {
       "metadata": {},
       "output_type": "pyout",
       "prompt_number": 413,
       "text": [
        "\r",
        " [===========================>.................................................]                                                   \b\b\b\b\b\b\b\b\b\b\b\b\b\b\b\b\b\b\b\b\b\b\b\b\b\b\b\b\b\b\b\b\b\b\b\b\b\b\b\b\b\b\b\b\b\b\b\b\b\bETA: 7s988ms | Step: 133ms\b\b\b\b\b\b\b\b\b\b\b\b\b\b\b\b\b\b\b\b\b\b\b\b\b\b\b\b\b\b\b\b\b\b\b\b\b\b\b\b\b\b\b\b\b\b\b\b\b\b\b\b\b\b\b\b\b\b\b\b\b\b\b\b\b\b\b\b\b\b\b\b\b 36/96 \r",
        "HERE OPTIM\t\n",
        "BEFORE FORWARD\t\n",
        "1\t\n"
       ]
      },
      {
       "metadata": {},
       "output_type": "pyout",
       "prompt_number": 413,
       "text": [
        "AFTER FORWARD\t\n",
        "NEO\t\n",
        " 4.6823\n",
        " 5.3181\n",
        "[torch.FloatTensor of dimension 2]\n",
        "\n",
        "1\t\n",
        "BLAH\t\n",
        " ** On entry to SGEMM  parameter number 10 had an illegal value\n"
       ]
      },
      {
       "metadata": {},
       "output_type": "pyout",
       "prompt_number": 413,
       "text": [
        " ** On entry to SGEMM  parameter number 10 had an illegal value\n"
       ]
      },
      {
       "metadata": {},
       "output_type": "pyout",
       "prompt_number": 413,
       "text": [
        "\r",
        " [============================>................................................]                                                   \b\b\b\b\b\b\b\b\b\b\b\b\b\b\b\b\b\b\b\b\b\b\b\b\b\b\b\b\b\b\b\b\b\b\b\b\b\b\b\b\b\b\b\b\b\b\b\b\b\bETA: 7s645ms | Step: 129ms\b\b\b\b\b\b\b\b\b\b\b\b\b\b\b\b\b\b\b\b\b\b\b\b\b\b\b\b\b\b\b\b\b\b\b\b\b\b\b\b\b\b\b\b\b\b\b\b\b\b\b\b\b\b\b\b\b\b\b\b\b\b\b\b\b\b\b\b\b\b\b\b\b 37/96 \r",
        "HERE OPTIM\t\n",
        "BEFORE FORWARD\t\n",
        "1\t\n"
       ]
      },
      {
       "metadata": {},
       "output_type": "pyout",
       "prompt_number": 413,
       "text": [
        "AFTER FORWARD\t\n",
        "NEO\t\n",
        " 4.7345\n",
        " 5.2659\n",
        "[torch.FloatTensor of dimension 2]\n",
        "\n",
        "1\t\n",
        "BLAH\t\n",
        " ** On entry to SGEMM  parameter number 10 had an illegal value\n"
       ]
      },
      {
       "metadata": {},
       "output_type": "pyout",
       "prompt_number": 413,
       "text": [
        " ** On entry to SGEMM  parameter number 10 had an illegal value\n"
       ]
      },
      {
       "metadata": {},
       "output_type": "pyout",
       "prompt_number": 413,
       "text": [
        "\r",
        " [=============================>...............................................]                                                   \b\b\b\b\b\b\b\b\b\b\b\b\b\b\b\b\b\b\b\b\b\b\b\b\b\b\b\b\b\b\b\b\b\b\b\b\b\b\b\b\b\b\b\b\b\b\b\b\b\bETA: 7s324ms | Step: 126ms\b\b\b\b\b\b\b\b\b\b\b\b\b\b\b\b\b\b\b\b\b\b\b\b\b\b\b\b\b\b\b\b\b\b\b\b\b\b\b\b\b\b\b\b\b\b\b\b\b\b\b\b\b\b\b\b\b\b\b\b\b\b\b\b\b\b\b\b\b\b\b\b\b 38/96 \r",
        "HERE OPTIM\t\n",
        "BEFORE FORWARD\t\n",
        "1\t\n"
       ]
      },
      {
       "metadata": {},
       "output_type": "pyout",
       "prompt_number": 413,
       "text": [
        "AFTER FORWARD\t\n",
        "NEO\t\n",
        " 4.7872\n",
        " 5.2132\n",
        "[torch.FloatTensor of dimension 2]\n",
        "\n",
        "1\t\n",
        "BLAH\t\n"
       ]
      },
      {
       "metadata": {},
       "output_type": "pyout",
       "prompt_number": 413,
       "text": [
        " ** On entry to SGEMM  parameter number 10 had an illegal value\n"
       ]
      },
      {
       "metadata": {},
       "output_type": "pyout",
       "prompt_number": 413,
       "text": [
        " ** On entry to SGEMM  parameter number 10 had an illegal value\n",
        "\r",
        " [==============================>..............................................]                                                   \b\b\b\b\b\b\b\b\b\b\b"
       ]
      },
      {
       "metadata": {},
       "output_type": "pyout",
       "prompt_number": 413,
       "text": [
        "\b\b\b\b\b\b\b\b\b\b\b\b\b\b\b\b\b\b\b\b\b\b\b\b\b\b\b\b\b\b\b\b\b\b\b\b\b\b\bETA: 7s16ms | Step: 123ms\b\b\b\b\b\b\b\b\b\b\b\b\b\b\b\b\b\b\b\b\b\b\b\b\b\b\b\b\b\b\b\b\b\b\b\b\b\b\b\b\b\b\b\b\b\b\b\b\b\b\b\b\b\b\b\b\b\b\b\b\b\b\b\b\b\b\b\b\b\b\b\b 39/96 \r",
        "HERE OPTIM\t\n",
        "BEFORE FORWARD\t\n",
        "1\t\n"
       ]
      },
      {
       "metadata": {},
       "output_type": "pyout",
       "prompt_number": 413,
       "text": [
        "AFTER FORWARD\t\n",
        "NEO\t\n",
        " 4.8393\n",
        " 5.1611\n",
        "[torch.FloatTensor of dimension 2]\n",
        "\n",
        "2\t\n",
        "BLAH\t\n"
       ]
      },
      {
       "metadata": {},
       "output_type": "pyout",
       "prompt_number": 413,
       "text": [
        " ** On entry to SGEMM  parameter number 10 had an illegal value\n"
       ]
      },
      {
       "metadata": {},
       "output_type": "pyout",
       "prompt_number": 413,
       "text": [
        " ** On entry to SGEMM  parameter number 10 had an illegal value\n"
       ]
      },
      {
       "metadata": {},
       "output_type": "pyout",
       "prompt_number": 413,
       "text": [
        "\r",
        " [===============================>.............................................]                                                   \b\b\b\b\b\b\b\b\b\b\b\b\b\b\b\b\b\b\b\b\b\b\b\b\b\b\b\b\b\b\b\b\b\b\b\b\b\b\b\b\b\b\b\b\b\b\b\b\b\bETA: 6s730ms | Step: 120ms\b\b\b\b\b\b\b\b\b\b\b\b\b\b\b\b"
       ]
      },
      {
       "metadata": {},
       "output_type": "pyout",
       "prompt_number": 413,
       "text": [
        "\b\b\b\b\b\b\b\b\b\b\b\b\b\b\b\b\b\b\b\b\b\b\b\b\b\b\b\b\b\b\b\b\b\b\b\b\b\b\b\b\b\b\b\b\b\b\b\b\b\b\b\b\b\b\b\b\b 40/96 \r",
        "HERE OPTIM\t\n",
        "BEFORE FORWARD\t\n",
        "1\t\n"
       ]
      },
      {
       "metadata": {},
       "output_type": "pyout",
       "prompt_number": 413,
       "text": [
        "AFTER FORWARD\t\n",
        "NEO\t\n",
        " 4.7919\n",
        " 5.2085\n",
        "[torch.FloatTensor of dimension 2]\n",
        "\n",
        "2\t\n",
        "BLAH\t\n"
       ]
      },
      {
       "metadata": {},
       "output_type": "pyout",
       "prompt_number": 413,
       "text": [
        " ** On entry to SGEMM  parameter number 10 had an illegal value\n"
       ]
      },
      {
       "metadata": {},
       "output_type": "pyout",
       "prompt_number": 413,
       "text": [
        " ** On entry to SGEMM  parameter number 10 had an illegal value\n"
       ]
      },
      {
       "metadata": {},
       "output_type": "pyout",
       "prompt_number": 413,
       "text": [
        "\r",
        " [===============================>.............................................]                                                   \b\b\b\b\b\b\b\b\b\b\b\b\b\b\b\b\b\b\b\b\b\b\b\b\b\b\b\b\b\b\b\b\b\b\b\b\b\b\b\b\b\b\b\b\b\b\b\b\b\bETA: 7s71ms | Step: 128ms\b\b\b\b\b\b\b\b\b\b\b\b\b\b\b\b\b\b\b\b\b\b\b\b\b\b\b\b\b\b\b\b\b\b\b\b\b\b\b\b\b\b\b\b\b\b\b\b\b\b\b\b\b\b\b\b\b\b\b\b\b\b\b\b\b\b\b\b\b\b\b\b 41/96 \r",
        "HERE OPTIM\t\n",
        "BEFORE FORWARD\t\n",
        "1\t\n"
       ]
      },
      {
       "metadata": {},
       "output_type": "pyout",
       "prompt_number": 413,
       "text": [
        "AFTER FORWARD\t\n",
        "NEO\t\n",
        " 4.7440\n",
        " 5.2563\n",
        "[torch.FloatTensor of dimension 2]\n",
        "\n",
        "2\t\n",
        "BLAH\t\n",
        " ** On entry to SGEMM  parameter number 10 had an illegal value\n"
       ]
      },
      {
       "metadata": {},
       "output_type": "pyout",
       "prompt_number": 413,
       "text": [
        " ** On entry to SGEMM  parameter number 10 had an illegal value\n"
       ]
      },
      {
       "metadata": {},
       "output_type": "pyout",
       "prompt_number": 413,
       "text": [
        "\r",
        " [================================>............................................]                                                   \b\b\b\b\b\b\b\b\b\b\b\b\b\b\b\b\b\b\b\b\b\b\b\b\b\b\b\b\b\b\b\b\b\b\b\b\b\b\b\b\b\b\b\b\b\b\b\b\b\bETA: 6s799ms | Step: 125ms\b\b\b\b\b\b\b\b\b\b\b\b\b\b\b\b\b\b\b\b\b\b\b\b\b\b\b\b\b\b\b\b\b\b\b\b\b\b\b\b\b\b\b\b\b\b\b\b\b\b\b\b\b\b\b\b\b\b\b\b\b\b\b\b\b\b\b\b\b\b\b\b\b 42/96 \r",
        "HERE OPTIM\t\n",
        "BEFORE FORWARD\t\n",
        "1\t\n"
       ]
      },
      {
       "metadata": {},
       "output_type": "pyout",
       "prompt_number": 413,
       "text": [
        "AFTER FORWARD\t\n",
        "NEO\t\n",
        " 4.6966\n",
        " 5.3038\n",
        "[torch.FloatTensor of dimension 2]\n",
        "\n",
        "1\t\n",
        "BLAH\t\n",
        " ** On entry to SGEMM  parameter number 10 had an illegal value\n"
       ]
      },
      {
       "metadata": {},
       "output_type": "pyout",
       "prompt_number": 413,
       "text": [
        " ** On entry to SGEMM  parameter number 10 had an illegal value\n"
       ]
      },
      {
       "metadata": {},
       "output_type": "pyout",
       "prompt_number": 413,
       "text": [
        "\r",
        " [=================================>...........................................]                                                   \b\b\b\b\b\b\b\b\b\b\b\b\b\b\b\b\b\b\b\b\b\b\b\b\b\b\b\b\b\b\b\b\b\b\b\b\b\b\b\b\b\b\b\b\b\b\b\b\b\bETA: 6s524ms | Step: 123ms\b\b\b\b\b\b\b\b\b\b\b\b\b\b\b\b\b\b\b\b\b\b\b\b\b\b\b\b\b\b\b\b\b\b\b\b\b\b\b\b\b\b\b\b\b\b\b\b\b\b\b\b\b\b\b\b\b\b\b\b\b\b\b\b\b\b\b\b\b\b\b\b\b 43/96 \r",
        "HERE OPTIM\t\n",
        "BEFORE FORWARD\t\n",
        "1\t\n"
       ]
      },
      {
       "metadata": {},
       "output_type": "pyout",
       "prompt_number": 413,
       "text": [
        "AFTER FORWARD\t\n",
        "NEO\t\n",
        " 4.7486\n",
        " 5.2517\n",
        "[torch.FloatTensor of dimension 2]\n",
        "\n",
        "2\t\n",
        "BLAH\t\n"
       ]
      },
      {
       "metadata": {},
       "output_type": "pyout",
       "prompt_number": 413,
       "text": [
        " ** On entry to SGEMM  parameter number 10 had an illegal value\n"
       ]
      },
      {
       "metadata": {},
       "output_type": "pyout",
       "prompt_number": 413,
       "text": [
        " ** On entry to SGEMM  parameter number 10 had an illegal value\n"
       ]
      },
      {
       "metadata": {},
       "output_type": "pyout",
       "prompt_number": 413,
       "text": [
        "\r",
        " [==================================>..........................................]                                                   \b\b\b\b\b\b\b\b\b\b\b\b\b\b\b\b"
       ]
      },
      {
       "metadata": {},
       "output_type": "pyout",
       "prompt_number": 413,
       "text": [
        "\b\b\b\b\b\b\b\b\b\b\b\b\b\b\b\b\b\b\b\b\b\b\b\b\b\b\b\b\b\b\b\b\b\bETA: 6s320ms | Step: 121ms\b\b\b\b\b\b\b\b\b\b\b\b\b\b\b\b\b\b\b\b\b\b\b\b\b\b\b\b\b\b\b\b\b\b\b\b\b\b\b\b\b\b\b\b\b\b\b\b\b\b\b\b\b\b\b\b\b\b\b\b\b\b\b\b\b\b\b\b\b\b\b\b\b 44/96 \r",
        "HERE OPTIM\t\n",
        "BEFORE FORWARD\t\n",
        "1\t\n"
       ]
      },
      {
       "metadata": {},
       "output_type": "pyout",
       "prompt_number": 413,
       "text": [
        "AFTER FORWARD\t\n",
        "NEO\t\n",
        " 4.7021\n",
        " 5.2982\n",
        "[torch.FloatTensor of dimension 2]\n",
        "\n",
        "2\t\n",
        "BLAH\t\n",
        " ** On entry to SGEMM  parameter number 10 had an illegal value\n"
       ]
      },
      {
       "metadata": {},
       "output_type": "pyout",
       "prompt_number": 413,
       "text": [
        " ** On entry to SGEMM  parameter number 10 had an illegal value\n"
       ]
      },
      {
       "metadata": {},
       "output_type": "pyout",
       "prompt_number": 413,
       "text": [
        "\r",
        " [===================================>.........................................]                                                   \b\b\b\b\b\b\b\b\b\b\b\b\b\b\b\b\b\b\b\b\b\b\b\b\b\b\b\b\b\b\b\b\b\b\b\b\b\b\b\b\b\b\b\b\b\b\b\b\b\bETA: 6s224ms | Step: 122ms\b\b\b\b\b\b\b\b\b\b\b\b\b\b\b\b\b\b\b\b\b\b\b\b\b\b\b\b\b\b\b\b\b\b\b\b\b\b\b\b\b\b\b\b\b\b\b\b\b\b\b\b\b\b\b\b\b\b\b\b\b\b\b\b\b\b\b\b\b\b\b\b\b 45/96 \r",
        "HERE OPTIM\t\n",
        "BEFORE FORWARD\t\n",
        "1\t\n"
       ]
      },
      {
       "metadata": {},
       "output_type": "pyout",
       "prompt_number": 413,
       "text": [
        "AFTER FORWARD\t\n",
        "NEO\t\n",
        " 4.6551\n",
        " 5.3452\n",
        "[torch.FloatTensor of dimension 2]\n",
        "\n",
        "1\t\n",
        "BLAH\t\n",
        " ** On entry to SGEMM  parameter number 10 had an illegal value\n"
       ]
      },
      {
       "metadata": {},
       "output_type": "pyout",
       "prompt_number": 413,
       "text": [
        " ** On entry to SGEMM  parameter number 10 had an illegal value\n"
       ]
      },
      {
       "metadata": {},
       "output_type": "pyout",
       "prompt_number": 413,
       "text": [
        "\r",
        " [===================================>.........................................]                 "
       ]
      },
      {
       "metadata": {},
       "output_type": "pyout",
       "prompt_number": 413,
       "text": [
        "                                  \b\b\b\b\b\b\b\b\b\b\b\b\b\b\b\b\b\b\b\b\b\b\b\b\b\b\b\b\b\b\b\b\b\b\b\b\b\b\b\b\b\b\b\b\b\b\b\b\b\bETA: 5s984ms | Step: 119ms\b\b\b\b\b\b\b\b\b\b\b\b\b\b\b\b\b\b\b\b\b\b\b\b\b\b\b\b\b\b\b\b\b\b\b\b\b\b\b\b\b\b\b\b\b\b\b\b\b\b\b\b\b\b\b\b\b\b\b\b\b\b\b\b\b\b\b\b\b\b\b\b\b 46/96 \r",
        "HERE OPTIM\t\n",
        "BEFORE FORWARD\t\n",
        "1\t\n"
       ]
      },
      {
       "metadata": {},
       "output_type": "pyout",
       "prompt_number": 413,
       "text": [
        "AFTER FORWARD\t\n",
        "NEO\t\n",
        " 4.7075\n",
        " 5.2928\n",
        "[torch.FloatTensor of dimension 2]\n",
        "\n",
        "1\t\n",
        "BLAH\t\n"
       ]
      },
      {
       "metadata": {},
       "output_type": "pyout",
       "prompt_number": 413,
       "text": [
        " ** On entry to SGEMM  parameter number 10 had an illegal value\n"
       ]
      },
      {
       "metadata": {},
       "output_type": "pyout",
       "prompt_number": 413,
       "text": [
        " ** On entry to SGEMM  parameter number 10 had an illegal value\n"
       ]
      },
      {
       "metadata": {},
       "output_type": "pyout",
       "prompt_number": 413,
       "text": [
        "\r",
        " [====================================>........................................]                                                   \b\b\b\b\b\b\b\b\b\b\b\b\b\b\b\b\b\b\b\b\b\b\b\b\b\b\b\b\b\b\b\b\b\b\b\b\b\b\b\b\b\b\b\b\b\b\b\b\b\bETA: 5s752ms | Step: 117ms\b\b\b\b\b\b\b\b\b\b\b\b\b\b\b\b\b\b\b\b\b\b\b\b\b\b\b\b\b\b\b\b\b\b\b\b\b\b\b\b\b\b\b\b\b\b\b\b\b\b\b\b\b\b\b\b\b\b\b\b\b\b\b\b\b\b\b\b\b\b\b\b\b 47/96 \r",
        "HERE OPTIM\t\n",
        "BEFORE FORWARD\t\n",
        "1\t\n"
       ]
      },
      {
       "metadata": {},
       "output_type": "pyout",
       "prompt_number": 413,
       "text": [
        "AFTER FORWARD\t\n",
        "NEO\t\n",
        " 4.7604\n",
        " 5.2399\n",
        "[torch.FloatTensor of dimension 2]\n",
        "\n",
        "2\t\n",
        "BLAH\t\n"
       ]
      },
      {
       "metadata": {},
       "output_type": "pyout",
       "prompt_number": 413,
       "text": [
        " ** On entry to SGEMM  parameter number 10 had an illegal value\n"
       ]
      },
      {
       "metadata": {},
       "output_type": "pyout",
       "prompt_number": 413,
       "text": [
        " ** On entry to SGEMM  parameter number 10 had an illegal value\n"
       ]
      },
      {
       "metadata": {},
       "output_type": "pyout",
       "prompt_number": 413,
       "text": [
        "\r",
        " [="
       ]
      },
      {
       "metadata": {},
       "output_type": "pyout",
       "prompt_number": 413,
       "text": [
        "====================================>.......................................]                                                   \b\b\b\b\b\b\b\b\b\b\b\b\b\b\b\b\b\b\b\b\b\b\b\b\b\b\b\b\b\b\b\b\b\b\b\b\b\b\b\b\b\b\b\b\b\b\b\b\b\bETA: 6s56ms | Step: 126ms\b\b\b\b\b\b\b\b\b\b\b\b\b\b\b\b\b\b\b\b\b\b\b\b\b\b\b\b\b\b\b\b\b\b\b\b\b\b\b\b\b\b\b\b\b\b\b\b\b\b\b\b\b\b\b\b\b\b\b\b\b\b\b\b\b\b\b\b\b\b\b\b 48/96 \r",
        "HERE OPTIM\t\n",
        "BEFORE FORWARD\t\n",
        "1\t\n"
       ]
      },
      {
       "metadata": {},
       "output_type": "pyout",
       "prompt_number": 413,
       "text": [
        "AFTER FORWARD\t\n",
        "NEO\t\n",
        " 4.7139\n",
        " 5.2865\n",
        "[torch.FloatTensor of dimension 2]\n",
        "\n",
        "1\t\n",
        "BLAH\t\n",
        " ** On entry to SGEMM  parameter number 10 had an illegal value\n"
       ]
      },
      {
       "metadata": {},
       "output_type": "pyout",
       "prompt_number": 413,
       "text": [
        " ** On entry to SGEMM  parameter number 10 had an illegal value\n"
       ]
      },
      {
       "metadata": {},
       "output_type": "pyout",
       "prompt_number": 413,
       "text": [
        "\r",
        " [======================================>......................................]                                                   \b\b\b\b\b\b\b\b\b\b\b\b\b\b\b\b\b\b\b\b\b\b\b\b\b\b\b\b\b\b\b\b\b\b\b\b\b\b\b\b\b\b\b\b\b\b\b\b\b\bETA: 5s817ms | Step: 123ms\b\b\b\b\b\b\b\b\b\b\b\b\b\b\b\b\b\b\b\b\b\b\b\b\b\b\b\b\b\b\b\b\b\b\b\b\b\b\b\b\b\b\b\b\b\b\b\b\b\b\b\b\b\b\b\b\b\b\b\b\b\b\b\b\b\b\b\b\b\b\b\b\b 49/96 \r",
        "HERE OPTIM\t\n",
        "BEFORE FORWARD\t\n",
        "1\t\n"
       ]
      },
      {
       "metadata": {},
       "output_type": "pyout",
       "prompt_number": 413,
       "text": [
        "AFTER FORWARD\t\n",
        "NEO\t\n",
        " 4.7657\n",
        " 5.2346\n",
        "[torch.FloatTensor of dimension 2]\n",
        "\n",
        "1\t\n",
        "BLAH\t\n",
        " ** On entry to SGEMM  parameter number 10 had an illegal value\n"
       ]
      },
      {
       "metadata": {},
       "output_type": "pyout",
       "prompt_number": 413,
       "text": [
        " ** On entry to SGEMM  parameter number 10 had an illegal value\n"
       ]
      },
      {
       "metadata": {},
       "output_type": "pyout",
       "prompt_number": 413,
       "text": [
        "\r",
        " [=======================================>.....................................]                                                   \b\b\b\b\b\b\b\b\b\b\b\b\b\b\b\b\b\b\b\b\b\b\b\b\b\b\b\b\b\b\b\b\b\b\b\b\b\b\b\b\b\b\b\b\b\b\b\b\b\bETA: 5s616ms | Step: 122ms\b\b\b\b\b\b\b\b\b\b\b\b\b\b\b\b\b\b\b\b\b\b\b\b\b\b\b\b\b\b\b\b\b\b\b\b\b\b\b\b\b\b\b\b\b\b\b\b\b\b\b\b\b\b\b\b\b\b\b\b\b\b\b\b\b\b\b\b\b\b\b\b\b 50/96 \r",
        "HERE OPTIM\t\n",
        "BEFORE FORWARD\t\n",
        "1\t\n"
       ]
      },
      {
       "metadata": {},
       "output_type": "pyout",
       "prompt_number": 413,
       "text": [
        "AFTER FORWARD\t\n",
        "NEO\t\n",
        " 4.8180\n",
        " 5.1823\n",
        "[torch.FloatTensor of dimension 2]\n",
        "\n",
        "1\t\n",
        "BLAH\t\n",
        " ** On entry to SGEMM  parameter number 10 had an illegal value\n",
        " ** On entry to SGEMM  parameter number 10 had an illegal value\n",
        "\r",
        " [=======================================>.....................................]                                                   \b\b\b\b\b\b\b\b\b\b\b\b\b\b\b\b\b\b\b\b\b\b\b\b\b\b\b\b\b\b\b\b\b\b\b\b\b\b\b\b\b\b\b\b\b\b\b\b\b\bETA: 5s386ms | Step: 119ms\b\b\b\b\b\b\b\b\b\b\b\b\b"
       ]
      },
      {
       "metadata": {},
       "output_type": "pyout",
       "prompt_number": 413,
       "text": [
        "\b\b\b\b\b\b\b\b\b\b\b\b\b\b\b\b\b\b\b\b\b\b\b\b\b\b\b\b\b\b\b\b\b\b\b\b\b\b\b\b\b\b\b\b\b\b\b\b\b\b\b\b\b\b\b\b\b\b\b\b 51/96 \r",
        "HERE OPTIM\t\n",
        "BEFORE FORWARD\t\n",
        "1\t\n"
       ]
      },
      {
       "metadata": {},
       "output_type": "pyout",
       "prompt_number": 413,
       "text": [
        "AFTER FORWARD\t\n",
        "NEO\t\n",
        " 4.8699\n",
        " 5.1305\n",
        "[torch.FloatTensor of dimension 2]\n",
        "\n",
        "2\t\n",
        "BLAH\t\n"
       ]
      },
      {
       "metadata": {},
       "output_type": "pyout",
       "prompt_number": 413,
       "text": [
        " ** On entry to SGEMM  parameter number 10 had an illegal value\n"
       ]
      },
      {
       "metadata": {},
       "output_type": "pyout",
       "prompt_number": 413,
       "text": [
        " ** On entry to SGEMM  parameter number 10 had an illegal value\n"
       ]
      },
      {
       "metadata": {},
       "output_type": "pyout",
       "prompt_number": 413,
       "text": [
        "\r",
        " [========================================>....................................]                                                   \b\b\b\b\b\b\b\b\b\b\b\b\b\b\b\b\b\b\b\b\b\b\b\b\b\b\b\b\b\b\b\b\b\b\b\b\b\b\b\b\b\b\b\b\b\b\b\b\b\bETA: 5s560ms | Step: 126ms\b\b\b\b\b\b\b\b\b\b\b\b\b\b\b\b\b\b\b\b\b\b\b\b\b\b\b\b\b\b\b\b\b\b\b\b\b\b\b\b\b\b\b\b\b\b\b\b\b\b\b\b\b\b\b\b\b\b\b\b\b\b\b\b\b\b\b\b\b\b\b\b\b 52/96 \r",
        "HERE OPTIM\t\n",
        "BEFORE FORWARD\t\n",
        "1\t\n"
       ]
      },
      {
       "metadata": {},
       "output_type": "pyout",
       "prompt_number": 413,
       "text": [
        "AFTER FORWARD\t\n",
        "NEO\t\n",
        " 4.8222\n",
        " 5.1781\n",
        "[torch.FloatTensor of dimension 2]\n",
        "\n",
        "1\t\n",
        "BLAH\t\n",
        " ** On entry to SGEMM  parameter number 10 had an illegal value\n"
       ]
      },
      {
       "metadata": {},
       "output_type": "pyout",
       "prompt_number": 413,
       "text": [
        " ** On entry to SGEMM  parameter number 10 had an illegal value\n"
       ]
      },
      {
       "metadata": {},
       "output_type": "pyout",
       "prompt_number": 413,
       "text": [
        "\r",
        " [=========================================>...................................]                                                   \b\b\b\b\b\b\b\b\b\b\b\b\b\b\b\b\b\b\b\b\b\b\b\b\b\b\b\b\b\b\b\b\b\b\b\b\b\b\b\b\b\b\b\b\b\b\b\b\b\b"
       ]
      },
      {
       "metadata": {},
       "output_type": "pyout",
       "prompt_number": 413,
       "text": [
        "ETA: 5s336ms | Step: 124ms\b\b\b\b\b\b\b\b\b\b\b\b\b\b\b\b\b\b\b\b\b\b\b\b\b\b\b\b\b\b\b\b\b\b\b\b\b\b\b\b\b\b\b\b\b\b\b\b\b\b\b\b\b\b\b\b\b\b\b\b\b\b\b\b\b\b\b\b\b\b\b\b\b 53/96 \r",
        "HERE OPTIM\t\n",
        "BEFORE FORWARD\t\n",
        "1\t\n"
       ]
      },
      {
       "metadata": {},
       "output_type": "pyout",
       "prompt_number": 413,
       "text": [
        "AFTER FORWARD\t\n",
        "NEO\t\n",
        " 4.8730\n",
        " 5.1274\n",
        "[torch.FloatTensor of dimension 2]\n",
        "\n",
        "1\t\n",
        "BLAH\t\n",
        " ** On entry to SGEMM  parameter number 10 had an illegal value\n"
       ]
      },
      {
       "metadata": {},
       "output_type": "pyout",
       "prompt_number": 413,
       "text": [
        " ** On entry to SGEMM  parameter number 10 had an illegal value\n",
        "\r",
        " [==========================================>..................................]                                                   \b\b\b\b\b\b\b\b\b\b\b\b\b\b\b\b\b\b\b\b\b\b\b\b\b\b\b\b\b\b\b\b\b\b\b\b\b\b\b\b\b\b\b\b\b\b\b\b\b\bETA: 5s118ms | Step: 121ms\b\b\b\b\b\b\b\b\b\b\b\b\b\b\b\b\b\b\b\b"
       ]
      },
      {
       "metadata": {},
       "output_type": "pyout",
       "prompt_number": 413,
       "text": [
        "\b\b\b\b\b\b\b\b\b\b\b\b\b\b\b\b\b\b\b\b\b\b\b\b\b\b\b\b\b\b\b\b\b\b\b\b\b\b\b\b\b\b\b\b\b\b\b\b\b\b\b\b\b 54/96 \r",
        "HERE OPTIM\t\n",
        "BEFORE FORWARD\t\n",
        "1\t\n"
       ]
      },
      {
       "metadata": {},
       "output_type": "pyout",
       "prompt_number": 413,
       "text": [
        "AFTER FORWARD\t\n",
        "NEO\t\n",
        " 4.9242\n",
        " 5.0761\n",
        "[torch.FloatTensor of dimension 2]\n",
        "\n",
        "1\t\n"
       ]
      },
      {
       "metadata": {},
       "output_type": "pyout",
       "prompt_number": 413,
       "text": [
        "BLAH\t\n",
        " ** On entry to SGEMM  parameter number 10 had an illegal value\n"
       ]
      },
      {
       "metadata": {},
       "output_type": "pyout",
       "prompt_number": 413,
       "text": [
        " ** On entry to SGEMM  parameter number 10 had an illegal value\n"
       ]
      },
      {
       "metadata": {},
       "output_type": "pyout",
       "prompt_number": 413,
       "text": [
        "\r",
        " [===========================================>.................................]                                                   \b\b\b\b\b\b\b\b\b\b\b\b\b\b\b\b\b\b\b\b\b\b\b\b\b\b\b\b\b\b\b\b\b\b\b\b\b\b\b\b\b\b\b\b\b\b\b\b\b\bETA: 4s913ms | Step: 119ms\b\b\b\b\b\b\b\b\b\b\b\b\b\b\b\b\b\b\b\b\b\b\b\b\b\b\b\b\b\b\b\b\b\b\b\b\b\b\b\b\b\b\b\b\b\b\b\b\b\b\b\b\b\b\b\b\b\b\b\b\b\b\b\b\b\b\b\b\b\b\b\b\b 55/96 \r",
        "HERE OPTIM\t\n",
        "BEFORE FORWARD\t\n",
        "1\t\n"
       ]
      },
      {
       "metadata": {},
       "output_type": "pyout",
       "prompt_number": 413,
       "text": [
        "AFTER FORWARD\t\n",
        "NEO\t\n",
        " 4.9750\n",
        " 5.0253\n",
        "[torch.FloatTensor of dimension 2]\n",
        "\n",
        "1\t\n",
        "BLAH\t\n",
        " ** On entry to SGEMM  parameter number 10 had an illegal value\n"
       ]
      },
      {
       "metadata": {},
       "output_type": "pyout",
       "prompt_number": 413,
       "text": [
        " ** On entry to SGEMM  parameter number 10 had an illegal value\n"
       ]
      },
      {
       "metadata": {},
       "output_type": "pyout",
       "prompt_number": 413,
       "text": [
        "\r",
        " [===========================================>.................................]                                                   \b\b\b\b\b\b\b\b\b\b\b\b\b\b\b\b\b\b\b\b\b\b\b\b\b\b\b\b\b\b\b\b\b\b\b\b\b\b\b\b\b\b\b\b\b\b\b\b\b\bETA: 4s712ms | Step: 117ms\b\b\b\b\b\b\b\b\b\b\b\b\b\b\b\b\b\b\b\b\b\b\b\b\b\b\b\b\b\b\b\b\b\b\b\b\b\b\b\b\b\b\b\b\b\b\b\b\b\b\b\b\b\b\b\b\b\b\b\b\b\b\b\b\b\b\b\b\b\b\b\b\b 56/96 \r",
        "HERE OPTIM\t\n",
        "BEFORE FORWARD\t\n",
        "1\t\n"
       ]
      },
      {
       "metadata": {},
       "output_type": "pyout",
       "prompt_number": 413,
       "text": [
        "AFTER FORWARD\t\n",
        "NEO\t\n",
        " 5.0252\n",
        " 4.9751\n",
        "[torch.FloatTensor of dimension 2]\n",
        "\n",
        "2\t\n",
        "BLAH\t\n"
       ]
      },
      {
       "metadata": {},
       "output_type": "pyout",
       "prompt_number": 413,
       "text": [
        " ** On entry to SGEMM  parameter number 10 had an illegal value\n"
       ]
      },
      {
       "metadata": {},
       "output_type": "pyout",
       "prompt_number": 413,
       "text": [
        " ** On entry to SGEMM  parameter number 10 had an illegal value\n"
       ]
      },
      {
       "metadata": {},
       "output_type": "pyout",
       "prompt_number": 413,
       "text": [
        "\r",
        " [============================================>................................]                                                   \b\b\b\b\b\b\b\b\b\b\b\b\b\b\b\b\b\b\b\b\b\b\b\b\b\b\b\b\b\b\b\b\b\b\b\b\b\b\b\b\b\b\b\b\b\b\b\b\b\bETA: 4s575ms | Step: 117ms\b\b\b\b\b\b\b\b\b\b\b\b\b\b\b\b\b\b\b\b\b\b\b\b\b\b\b\b\b\b\b\b\b\b\b\b\b\b\b\b\b\b\b\b\b\b\b\b\b\b\b\b\b\b\b\b\b\b\b\b\b\b\b\b\b\b\b\b\b\b\b\b\b 57/96 \r",
        "HERE OPTIM\t\n",
        "BEFORE FORWARD\t\n",
        "1\t\n"
       ]
      },
      {
       "metadata": {},
       "output_type": "pyout",
       "prompt_number": 413,
       "text": [
        "AFTER FORWARD\t\n",
        "NEO\t\n",
        " 4.9760\n",
        " 5.0243\n",
        "[torch.FloatTensor of dimension 2]\n",
        "\n",
        "2\t\n",
        "BLAH\t\n"
       ]
      },
      {
       "metadata": {},
       "output_type": "pyout",
       "prompt_number": 413,
       "text": [
        " ** On entry to SGEMM  parameter number 10 had an illegal value\n"
       ]
      },
      {
       "metadata": {},
       "output_type": "pyout",
       "prompt_number": 413,
       "text": [
        " ** On entry to SGEMM  parameter number 10 had an illegal value\n"
       ]
      },
      {
       "metadata": {},
       "output_type": "pyout",
       "prompt_number": 413,
       "text": [
        "\r",
        " [===================================="
       ]
      },
      {
       "metadata": {},
       "output_type": "pyout",
       "prompt_number": 413,
       "text": [
        "=========>...............................]                                                   \b\b\b\b\b\b\b\b\b\b\b\b\b\b\b\b\b\b\b\b\b\b\b\b\b\b\b\b\b\b\b\b\b\b\b\b\b\b\b\b\b\b\b\b\b\b\b\b\b\bETA: 4s628ms | Step: 121ms\b\b\b\b\b\b\b\b\b\b\b\b\b\b\b\b\b\b\b\b\b\b\b\b\b\b\b\b\b\b\b\b\b\b\b\b\b\b\b\b\b\b\b\b\b\b\b\b\b\b\b\b\b\b\b\b\b\b\b\b\b\b\b\b\b\b\b\b\b\b\b\b\b 58/96 \r",
        "HERE OPTIM\t\n",
        "BEFORE FORWARD\t\n",
        "1\t\n"
       ]
      },
      {
       "metadata": {},
       "output_type": "pyout",
       "prompt_number": 413,
       "text": [
        "AFTER FORWARD\t\n",
        "NEO\t\n",
        " 4.9262\n",
        " 5.0740\n",
        "[torch.FloatTensor of dimension 2]\n",
        "\n",
        "2\t\n",
        "BLAH\t\n",
        " ** On entry to SGEMM  parameter number 10 had an illegal value\n"
       ]
      },
      {
       "metadata": {},
       "output_type": "pyout",
       "prompt_number": 413,
       "text": [
        " ** On entry to SGEMM  parameter number 10 had an illegal value\n"
       ]
      },
      {
       "metadata": {},
       "output_type": "pyout",
       "prompt_number": 413,
       "text": [
        "\r",
        " [==============================================>..............................]                                                   \b\b\b\b\b\b\b\b\b\b\b\b\b\b\b\b\b\b\b\b\b\b\b\b\b\b\b\b\b\b\b\b\b\b\b\b\b\b\b\b\b\b\b\b\b\b\b\b\b\bETA: 4s439ms | Step: 119ms\b\b\b\b\b\b\b\b\b\b\b\b\b\b\b\b\b\b\b\b\b\b\b\b\b\b\b\b\b\b\b\b\b\b\b\b\b\b\b\b\b\b\b\b\b\b\b\b\b\b\b\b\b\b\b\b\b\b\b\b\b\b\b\b\b\b\b\b\b\b\b\b\b 59/96 \r",
        "HERE OPTIM\t\n",
        "BEFORE FORWARD\t\n",
        "1\t\n"
       ]
      },
      {
       "metadata": {},
       "output_type": "pyout",
       "prompt_number": 413,
       "text": [
        "AFTER FORWARD\t\n",
        "NEO\t\n",
        " 4.8770\n",
        " 5.1233\n",
        "[torch.FloatTensor of dimension 2]\n",
        "\n",
        "2\t\n",
        "BLAH\t\n"
       ]
      },
      {
       "metadata": {},
       "output_type": "pyout",
       "prompt_number": 413,
       "text": [
        " ** On entry to SGEMM  parameter number 10 had an illegal value\n"
       ]
      },
      {
       "metadata": {},
       "output_type": "pyout",
       "prompt_number": 413,
       "text": [
        " ** On entry to SGEMM  parameter number 10 had an illegal value\n"
       ]
      },
      {
       "metadata": {},
       "output_type": "pyout",
       "prompt_number": 413,
       "text": [
        "\r",
        " [===============================================>.............................]             "
       ]
      },
      {
       "metadata": {},
       "output_type": "pyout",
       "prompt_number": 413,
       "text": [
        "                                      \b\b\b\b\b\b\b\b\b\b\b\b\b\b\b\b\b\b\b\b\b\b\b\b\b\b\b\b\b\b\b\b\b\b\b\b\b\b\b\b\b\b\b\b\b\b\b\b\b\bETA: 4s366ms | Step: 121ms\b\b\b\b\b\b\b\b\b\b\b\b\b\b\b\b\b\b\b\b\b\b\b\b\b\b\b\b\b\b\b\b\b\b\b\b\b\b\b\b\b\b\b\b\b\b\b\b\b\b\b\b\b\b\b\b\b\b\b\b\b\b\b\b\b\b\b\b\b\b\b\b\b 60/96 \r",
        "HERE OPTIM\t\n",
        "BEFORE FORWARD\t\n",
        "1\t\n"
       ]
      },
      {
       "metadata": {},
       "output_type": "pyout",
       "prompt_number": 413,
       "text": [
        "AFTER FORWARD\t\n",
        "NEO\t\n",
        " 4.8282\n",
        " 5.1720\n",
        "[torch.FloatTensor of dimension 2]\n",
        "\n",
        "2\t\n",
        "BLAH\t\n"
       ]
      },
      {
       "metadata": {},
       "output_type": "pyout",
       "prompt_number": 413,
       "text": [
        " ** On entry to SGEMM  parameter number 10 had an illegal value\n"
       ]
      },
      {
       "metadata": {},
       "output_type": "pyout",
       "prompt_number": 413,
       "text": [
        " ** On entry to SGEMM  parameter number 10 had an illegal value\n"
       ]
      },
      {
       "metadata": {},
       "output_type": "pyout",
       "prompt_number": 413,
       "text": [
        "\r",
        " [===============================================>.............................]                                                   \b\b\b\b\b\b\b\b\b\b\b\b\b\b\b\b\b\b\b\b\b\b\b\b\b\b\b\b\b\b\b\b\b\b\b\b\b\b\b\b\b\b\b\b\b\b\b\b\b\bETA: 4s559ms | Step: 130ms\b\b\b\b\b\b\b\b\b\b\b\b\b\b\b\b\b\b\b\b\b\b\b\b\b\b\b\b\b\b\b\b\b\b\b\b\b\b\b\b\b\b\b\b\b\b\b\b\b\b\b\b\b\b\b\b\b\b\b\b\b\b\b\b\b\b\b\b\b\b\b\b\b 61/96 \r",
        "HERE OPTIM\t\n",
        "BEFORE FORWARD\t\n",
        "1\t\n"
       ]
      },
      {
       "metadata": {},
       "output_type": "pyout",
       "prompt_number": 413,
       "text": [
        "AFTER FORWARD\t\n",
        "NEO\t\n",
        " 4.7799\n",
        " 5.2203\n",
        "[torch.FloatTensor of dimension 2]\n",
        "\n",
        "1\t\n",
        "BLAH\t\n"
       ]
      },
      {
       "metadata": {},
       "output_type": "pyout",
       "prompt_number": 413,
       "text": [
        " ** On entry to SGEMM  parameter number 10 had an illegal value\n"
       ]
      },
      {
       "metadata": {},
       "output_type": "pyout",
       "prompt_number": 413,
       "text": [
        " ** On entry to SGEMM  parameter number 10 had an illegal value\n"
       ]
      },
      {
       "metadata": {},
       "output_type": "pyout",
       "prompt_number": 413,
       "text": [
        "\r",
        " [================================================>............................]                                                   \b\b\b\b\b\b\b\b\b\b\b\b\b\b\b\b\b\b\b\b\b\b\b\b\b\b\b\b\b\b\b\b\b\b\b\b\b\b\b\b\b\b\b\b\b\b\b\b\b\bETA: 4s360ms | Step: 128ms\b\b\b\b\b\b\b\b\b\b\b\b\b\b\b\b\b\b\b\b\b\b\b\b\b\b\b\b\b\b\b\b\b\b\b\b\b\b\b\b\b\b\b\b\b\b\b\b\b\b\b\b\b\b\b\b\b\b\b\b\b\b\b\b\b\b\b\b\b\b\b\b\b 62/96 \r",
        "HERE OPTIM\t\n",
        "BEFORE FORWARD\t\n",
        "1\t\n"
       ]
      },
      {
       "metadata": {},
       "output_type": "pyout",
       "prompt_number": 413,
       "text": [
        "AFTER FORWARD\t\n",
        "NEO\t\n",
        " 4.8311\n",
        " 5.1691\n",
        "[torch.FloatTensor of dimension 2]\n",
        "\n",
        "2\t\n",
        "BLAH\t\n"
       ]
      },
      {
       "metadata": {},
       "output_type": "pyout",
       "prompt_number": 413,
       "text": [
        " ** On entry to SGEMM  parameter number 10 had an illegal value\n"
       ]
      },
      {
       "metadata": {},
       "output_type": "pyout",
       "prompt_number": 413,
       "text": [
        " ** On entry to SGEMM  parameter number 10 had an illegal value\n"
       ]
      },
      {
       "metadata": {},
       "output_type": "pyout",
       "prompt_number": 413,
       "text": [
        "\r",
        " [============================================"
       ]
      },
      {
       "metadata": {},
       "output_type": "pyout",
       "prompt_number": 413,
       "text": [
        "=====>...........................]                                                   \b\b\b\b\b\b\b\b\b\b\b\b\b\b\b\b\b\b\b\b\b\b\b\b\b\b\b\b\b\b\b\b\b\b\b\b\b\b\b\b\b\b\b\b\b\b\b\b\b\bETA: 4s412ms | Step: 133ms\b\b\b\b\b\b\b\b\b\b\b\b\b\b\b\b\b\b\b\b\b\b\b\b\b\b\b\b\b\b\b\b\b\b\b\b\b\b\b\b\b\b\b\b\b\b\b\b\b\b\b\b\b\b\b\b\b\b\b\b\b\b\b\b\b\b\b\b\b\b\b\b\b 63/96 \r",
        "HERE OPTIM\t\n",
        "BEFORE FORWARD\t\n",
        "1\t\n"
       ]
      },
      {
       "metadata": {},
       "output_type": "pyout",
       "prompt_number": 413,
       "text": [
        "AFTER FORWARD\t\n",
        "NEO\t\n",
        " 4.7838\n",
        " 5.2164\n",
        "[torch.FloatTensor of dimension 2]\n",
        "\n",
        "2\t\n",
        "BLAH\t\n"
       ]
      },
      {
       "metadata": {},
       "output_type": "pyout",
       "prompt_number": 413,
       "text": [
        " ** On entry to SGEMM  parameter number 10 had an illegal value\n"
       ]
      },
      {
       "metadata": {},
       "output_type": "pyout",
       "prompt_number": 413,
       "text": [
        " ** On entry to SGEMM  parameter number 10 had an illegal value\n"
       ]
      },
      {
       "metadata": {},
       "output_type": "pyout",
       "prompt_number": 413,
       "text": [
        "\r",
        " [==================================================>..........................]                                                   \b\b\b\b\b\b\b\b\b\b\b\b\b\b\b\b\b\b\b\b\b\b\b\b\b\b\b\b\b\b\b\b\b\b\b\b\b\b\b\b\b\b\b\b\b\b\b\b\b\bETA: 4s248ms | Step: 132ms\b\b\b\b\b\b\b\b\b\b\b\b\b\b\b\b\b\b\b\b\b\b\b\b\b\b\b\b\b\b\b\b\b\b\b\b\b\b\b\b\b\b\b\b\b\b\b\b\b\b\b\b\b\b\b\b\b\b\b\b\b\b\b\b\b\b\b\b\b\b\b\b\b 64/96 \r",
        "HERE OPTIM\t\n",
        "BEFORE FORWARD\t\n",
        "1\t\n"
       ]
      },
      {
       "metadata": {},
       "output_type": "pyout",
       "prompt_number": 413,
       "text": [
        "AFTER FORWARD\t\n",
        "NEO\t\n",
        " 4.7360\n",
        " 5.2642\n",
        "[torch.FloatTensor of dimension 2]\n",
        "\n",
        "1\t\n",
        "BLAH\t\n",
        " ** On entry to SGEMM  parameter number 10 had an illegal value\n"
       ]
      },
      {
       "metadata": {},
       "output_type": "pyout",
       "prompt_number": 413,
       "text": [
        " ** On entry to SGEMM  parameter number 10 had an illegal value\n"
       ]
      },
      {
       "metadata": {},
       "output_type": "pyout",
       "prompt_number": 413,
       "text": [
        "\r",
        " [===================================================>.........................]                                                   \b\b\b\b\b\b\b\b\b\b\b\b\b\b\b\b\b\b\b\b\b\b\b\b\b\b\b\b\b\b\b\b\b\b\b\b\b\b\b\b\b\b\b\b\b\b\b\b\b\bETA: 4s58ms | Step: 130ms\b\b\b\b\b\b\b\b\b\b\b\b\b\b\b\b\b\b\b\b\b\b\b\b\b\b\b\b\b\b\b\b\b\b\b\b\b\b\b\b\b\b\b\b\b\b\b\b\b\b\b\b\b\b\b\b\b\b\b\b\b\b\b\b\b\b\b\b\b\b\b\b 65/96 \r",
        "HERE OPTIM\t\n",
        "BEFORE FORWARD\t\n",
        "1\t\n"
       ]
      },
      {
       "metadata": {},
       "output_type": "pyout",
       "prompt_number": 413,
       "text": [
        "AFTER FORWARD\t\n",
        "NEO\t\n",
        " 4.7876\n",
        " 5.2126\n",
        "[torch.FloatTensor of dimension 2]\n",
        "\n",
        "1\t\n",
        "BLAH\t\n",
        " ** On entry to SGEMM  parameter number 10 had an illegal value\n"
       ]
      },
      {
       "metadata": {},
       "output_type": "pyout",
       "prompt_number": 413,
       "text": [
        " ** On entry to SGEMM  parameter number 10 had an illegal value\n"
       ]
      },
      {
       "metadata": {},
       "output_type": "pyout",
       "prompt_number": 413,
       "text": [
        "\r",
        " [===================================================>.........................]                                                   \b\b\b\b\b\b\b\b\b\b\b\b\b\b\b\b\b\b\b\b\b\b\b\b\b\b\b\b\b\b\b\b\b\b\b\b\b\b\b\b\b\b\b\b\b\b\b\b\b\bETA: 3s870ms | Step: 129ms\b\b\b\b\b\b\b\b\b\b\b\b\b\b\b\b\b\b\b\b\b\b\b\b\b\b\b\b\b\b\b\b\b\b\b\b\b\b\b\b\b\b\b\b\b\b\b\b\b\b\b\b\b\b\b\b\b\b\b\b\b\b\b\b\b\b\b\b\b\b\b\b\b 66/96 \r",
        "HERE OPTIM\t\n",
        "BEFORE FORWARD\t\n",
        "1\t\n"
       ]
      },
      {
       "metadata": {},
       "output_type": "pyout",
       "prompt_number": 413,
       "text": [
        "AFTER FORWARD\t\n",
        "NEO\t\n",
        " 4.8397\n",
        " 5.1605\n",
        "[torch.FloatTensor of dimension 2]\n",
        "\n",
        "2\t\n",
        "BLAH\t\n",
        " ** On entry to SGEMM  parameter number 10 had an illegal value\n"
       ]
      },
      {
       "metadata": {},
       "output_type": "pyout",
       "prompt_number": 413,
       "text": [
        " ** On entry to SGEMM  parameter number 10 had an illegal value\n"
       ]
      },
      {
       "metadata": {},
       "output_type": "pyout",
       "prompt_number": 413,
       "text": [
        "\r",
        " [================================="
       ]
      },
      {
       "metadata": {},
       "output_type": "pyout",
       "prompt_number": 413,
       "text": [
        "===================>........................]                                                   \b\b\b\b\b\b\b\b\b\b\b\b\b\b\b\b\b\b\b\b\b\b\b\b\b\b\b\b\b\b\b\b\b\b\b\b\b\b\b\b\b\b\b\b\b\b\b\b\b\bETA: 3s713ms | Step: 128ms\b\b\b\b\b\b\b\b\b\b\b\b\b\b\b\b\b\b\b\b\b\b\b\b\b\b\b\b\b\b\b\b\b\b\b\b\b\b\b\b\b\b\b\b\b\b\b\b\b\b\b\b\b\b\b\b\b\b\b\b\b\b\b\b\b\b\b\b\b\b\b\b\b 67/96 \r",
        "HERE OPTIM\t\n",
        "BEFORE FORWARD\t\n",
        "1\t\n"
       ]
      },
      {
       "metadata": {},
       "output_type": "pyout",
       "prompt_number": 413,
       "text": [
        "AFTER FORWARD\t\n",
        "NEO\t\n",
        " 4.7923\n",
        " 5.2079\n",
        "[torch.FloatTensor of dimension 2]\n",
        "\n",
        "2\t\n",
        "BLAH\t\n"
       ]
      },
      {
       "metadata": {},
       "output_type": "pyout",
       "prompt_number": 413,
       "text": [
        " ** On entry to SGEMM  parameter number 10 had an illegal value\n"
       ]
      },
      {
       "metadata": {},
       "output_type": "pyout",
       "prompt_number": 413,
       "text": [
        " ** On entry to SGEMM  parameter number 10 had an illegal value\n"
       ]
      },
      {
       "metadata": {},
       "output_type": "pyout",
       "prompt_number": 413,
       "text": [
        "\r",
        " [=====================================================>.......................]                                                   \b\b\b\b\b\b\b\b\b\b\b\b\b\b\b\b\b\b\b\b\b\b\b\b\b\b\b\b\b\b\b\b\b\b\b\b\b\b\b\b\b\b\b\b\b\b\b\b\b\bETA: 3s725ms | Step: 133ms\b\b\b\b\b\b\b\b\b\b\b\b\b\b\b\b\b\b\b\b\b\b\b\b\b\b\b\b\b\b\b\b\b\b\b\b\b\b\b\b\b\b\b\b\b\b\b\b\b\b\b\b\b\b\b\b\b\b\b\b\b\b\b\b\b\b\b\b\b\b\b\b\b 68/96 \r",
        "HERE OPTIM\t\n"
       ]
      },
      {
       "metadata": {},
       "output_type": "pyout",
       "prompt_number": 413,
       "text": [
        "BEFORE FORWARD\t\n",
        "1\t\n"
       ]
      },
      {
       "metadata": {},
       "output_type": "pyout",
       "prompt_number": 413,
       "text": [
        "AFTER FORWARD\t\n",
        "NEO\t\n",
        " 4.7444\n",
        " 5.2558\n",
        "[torch.FloatTensor of dimension 2]\n",
        "\n",
        "1\t\n",
        "BLAH\t\n",
        " ** On entry to SGEMM  parameter number 10 had an illegal value\n"
       ]
      },
      {
       "metadata": {},
       "output_type": "pyout",
       "prompt_number": 413,
       "text": [
        " ** On entry to SGEMM  parameter number 10 had an illegal value\n"
       ]
      },
      {
       "metadata": {},
       "output_type": "pyout",
       "prompt_number": 413,
       "text": [
        "\r",
        " [======================================================>......................]                                                   \b\b\b\b\b\b\b\b\b\b\b\b\b\b\b\b\b\b\b\b\b\b\b\b\b\b\b\b\b\b\b\b\b\b\b\b\b\b\b\b\b\b\b\b\b\b\b\b\b\bETA: 3s543ms | Step: 131ms\b\b\b\b\b\b\b\b\b\b\b\b\b\b\b\b\b\b\b\b\b\b\b\b\b\b\b\b\b\b\b\b\b\b\b\b\b\b\b\b\b\b\b\b\b\b\b\b\b\b\b\b\b\b\b\b\b\b\b\b\b\b\b\b\b\b\b\b\b\b\b\b\b 69/96 \r",
        "HERE OPTIM\t\n",
        "BEFORE FORWARD\t\n",
        "1\t\n"
       ]
      },
      {
       "metadata": {},
       "output_type": "pyout",
       "prompt_number": 413,
       "text": [
        "AFTER FORWARD\t\n",
        "NEO\t\n",
        " 4.7960\n",
        " 5.2043\n",
        "[torch.FloatTensor of dimension 2]\n",
        "\n",
        "1\t\n",
        "BLAH\t\n",
        " ** On entry to SGEMM  parameter number 10 had an illegal value\n"
       ]
      },
      {
       "metadata": {},
       "output_type": "pyout",
       "prompt_number": 413,
       "text": [
        " ** On entry to SGEMM  parameter number 10 had an illegal value\n"
       ]
      },
      {
       "metadata": {},
       "output_type": "pyout",
       "prompt_number": 413,
       "text": [
        "\r",
        " [=======================================================>.....................]                                                   \b\b\b\b\b\b\b\b\b\b\b\b\b\b\b\b\b\b\b\b\b\b\b\b\b\b\b\b\b\b\b\b\b\b\b\b\b\b\b\b\b\b\b\b\b\b\b\b\b\b"
       ]
      },
      {
       "metadata": {},
       "output_type": "pyout",
       "prompt_number": 413,
       "text": [
        "ETA: 3s366ms | Step: 129ms\b\b\b\b\b\b\b\b\b\b\b\b\b\b\b\b\b\b\b\b\b\b\b\b\b\b\b\b\b\b\b\b\b\b\b\b\b\b\b\b\b\b\b\b\b\b\b\b\b\b\b\b\b\b\b\b\b\b\b\b\b\b\b\b\b\b\b\b\b\b\b\b\b 70/96 \r",
        "HERE OPTIM\t\n",
        "BEFORE FORWARD\t\n",
        "1\t\n"
       ]
      },
      {
       "metadata": {},
       "output_type": "pyout",
       "prompt_number": 413,
       "text": [
        "AFTER FORWARD\t\n",
        "NEO\t\n",
        " 4.8480\n",
        " 5.1522\n",
        "[torch.FloatTensor of dimension 2]\n",
        "\n",
        "1\t\n",
        "BLAH\t\n",
        " ** On entry to SGEMM  parameter number 10 had an illegal value\n"
       ]
      },
      {
       "metadata": {},
       "output_type": "pyout",
       "prompt_number": 413,
       "text": [
        " ** On entry to SGEMM  parameter number 10 had an illegal value\n"
       ]
      },
      {
       "metadata": {},
       "output_type": "pyout",
       "prompt_number": 413,
       "text": [
        "\r",
        " [=======================================================>.....................]                                                   \b\b\b\b\b\b\b\b\b\b\b\b\b\b\b\b\b\b\b\b\b\b"
       ]
      },
      {
       "metadata": {},
       "output_type": "pyout",
       "prompt_number": 413,
       "text": [
        "\b\b\b\b\b\b\b\b\b\b\b\b\b\b\b\b\b\b\b\b\b\b\b\b\b\b\b\bETA: 3s193ms | Step: 127ms\b\b\b\b\b\b\b\b\b\b\b\b\b\b\b\b\b\b\b\b\b\b\b\b\b\b\b\b\b\b\b\b\b\b\b\b\b\b\b\b\b\b\b\b\b\b\b\b\b\b\b\b\b\b\b\b\b\b\b\b\b\b\b\b\b\b\b\b\b\b\b\b\b 71/96 \r",
        "HERE OPTIM\t\n",
        "BEFORE FORWARD\t\n",
        "1\t\n"
       ]
      },
      {
       "metadata": {},
       "output_type": "pyout",
       "prompt_number": 413,
       "text": [
        "AFTER FORWARD\t\n",
        "NEO\t\n",
        " 4.8995\n",
        " 5.1007\n",
        "[torch.FloatTensor of dimension 2]\n",
        "\n",
        "1\t\n",
        "BLAH\t\n"
       ]
      },
      {
       "metadata": {},
       "output_type": "pyout",
       "prompt_number": 413,
       "text": [
        " ** On entry to SGEMM  parameter number 10 had an illegal value\n"
       ]
      },
      {
       "metadata": {},
       "output_type": "pyout",
       "prompt_number": 413,
       "text": [
        " ** On entry to SGEMM  parameter number 10 had an illegal value\n"
       ]
      },
      {
       "metadata": {},
       "output_type": "pyout",
       "prompt_number": 413,
       "text": [
        "\r",
        " [========================================================>....................]                                                "
       ]
      },
      {
       "metadata": {},
       "output_type": "pyout",
       "prompt_number": 413,
       "text": [
        "   \b\b\b\b\b\b\b\b\b\b\b\b\b\b\b\b\b\b\b\b\b\b\b\b\b\b\b\b\b\b\b\b\b\b\b\b\b\b\b\b\b\b\b\b\b\b\b\b\b\bETA: 3s25ms | Step: 126ms\b\b\b\b\b\b\b\b\b\b\b\b\b\b\b\b\b\b\b\b\b\b\b\b\b\b\b\b\b\b\b\b\b\b\b\b\b\b\b\b\b\b\b\b\b\b\b\b\b\b\b\b\b\b\b\b\b\b\b\b\b\b\b\b\b\b\b\b\b\b\b\b 72/96 \r",
        "HERE OPTIM\t\n",
        "BEFORE FORWARD\t\n",
        "1\t\n"
       ]
      },
      {
       "metadata": {},
       "output_type": "pyout",
       "prompt_number": 413,
       "text": [
        "AFTER FORWARD\t\n",
        "NEO\t\n",
        " 4.9505\n",
        " 5.0497\n",
        "[torch.FloatTensor of dimension 2]\n",
        "\n",
        "2\t\n",
        "BLAH\t\n"
       ]
      },
      {
       "metadata": {},
       "output_type": "pyout",
       "prompt_number": 413,
       "text": [
        " ** On entry to SGEMM  parameter number 10 had an illegal value\n"
       ]
      },
      {
       "metadata": {},
       "output_type": "pyout",
       "prompt_number": 413,
       "text": [
        " ** On entry to SGEMM  parameter number 10 had an illegal value\n"
       ]
      },
      {
       "metadata": {},
       "output_type": "pyout",
       "prompt_number": 413,
       "text": [
        "\r",
        " [=========================================================>...................]                                                   \b\b\b\b\b\b\b\b\b\b\b\b\b\b\b\b\b\b\b\b\b\b\b\b\b\b\b\b\b\b\b\b\b\b\b\b\b\b\b\b\b\b\b\b\b\b\b\b\b\bETA: 2s904ms | Step: 126ms\b\b\b\b\b\b\b\b\b\b\b\b\b\b\b\b\b\b\b\b\b\b\b\b\b\b\b\b\b\b\b\b\b\b\b\b\b\b\b\b\b\b\b\b\b\b\b\b\b\b\b\b\b\b\b\b\b\b\b\b\b\b\b\b\b\b\b\b\b\b\b\b\b 73/96 \r",
        "HERE OPTIM\t\n",
        "BEFORE FORWARD\t\n",
        "1\t\n"
       ]
      },
      {
       "metadata": {},
       "output_type": "pyout",
       "prompt_number": 413,
       "text": [
        "AFTER FORWARD\t\n",
        "NEO\t\n",
        " 4.9020\n",
        " 5.0982\n",
        "[torch.FloatTensor of dimension 2]\n",
        "\n",
        "2\t\n",
        "BLAH\t\n"
       ]
      },
      {
       "metadata": {},
       "output_type": "pyout",
       "prompt_number": 413,
       "text": [
        " ** On entry to SGEMM  parameter number 10 had an illegal value\n"
       ]
      },
      {
       "metadata": {},
       "output_type": "pyout",
       "prompt_number": 413,
       "text": [
        " ** On entry to SGEMM  parameter number 10 had an illegal value\n"
       ]
      },
      {
       "metadata": {},
       "output_type": "pyout",
       "prompt_number": 413,
       "text": [
        "\r",
        " [==========================================================>..................]                                                   \b\b\b\b\b\b\b\b\b\b\b\b\b\b\b\b\b\b\b\b\b\b\b\b\b\b\b\b\b\b\b\b\b\b\b\b\b\b\b\b\b\b\b\b\b\b\b\b\b\bETA: 2s931ms | Step: 133ms\b\b\b\b\b\b\b\b\b\b\b\b\b\b\b\b\b\b\b\b\b\b\b\b\b\b\b\b\b\b\b\b\b\b\b\b\b\b\b\b\b\b\b\b\b\b\b\b\b\b\b\b\b\b\b\b\b\b\b\b\b\b\b\b\b\b\b\b\b\b\b\b\b 74/96 \r",
        "HERE OPTIM\t\n",
        "BEFORE FORWARD\t\n",
        "1\t\n"
       ]
      },
      {
       "metadata": {},
       "output_type": "pyout",
       "prompt_number": 413,
       "text": [
        "AFTER FORWARD\t\n",
        "NEO\t\n",
        " 4.8530\n",
        " 5.1472\n",
        "[torch.FloatTensor of dimension 2]\n",
        "\n",
        "2\t\n",
        "BLAH\t\n"
       ]
      },
      {
       "metadata": {},
       "output_type": "pyout",
       "prompt_number": 413,
       "text": [
        " ** On entry to SGEMM  parameter number 10 had an illegal value\n"
       ]
      },
      {
       "metadata": {},
       "output_type": "pyout",
       "prompt_number": 413,
       "text": [
        " ** On entry to SGEMM  parameter number 10 had an illegal value\n"
       ]
      },
      {
       "metadata": {},
       "output_type": "pyout",
       "prompt_number": 413,
       "text": [
        "\r",
        " [===========================================================>.................]                                                   \b\b\b\b\b\b\b\b\b\b\b\b\b\b\b\b\b\b\b\b\b\b\b\b\b\b\b\b\b\b\b\b\b\b\b\b\b\b\b\b\b\b\b\b\b\b\b\b\b\bETA: 2s777ms | Step: 132ms\b\b\b\b\b\b\b\b\b\b\b\b\b\b\b\b\b\b\b\b\b\b\b\b\b\b\b\b\b\b\b\b\b\b\b\b\b\b\b\b\b\b\b\b\b\b\b\b\b\b\b\b\b\b\b\b\b\b\b\b\b\b\b\b\b\b\b\b\b\b\b\b\b 75/96 \r",
        "HERE OPTIM\t\n",
        "BEFORE FORWARD\t\n",
        "1\t\n"
       ]
      },
      {
       "metadata": {},
       "output_type": "pyout",
       "prompt_number": 413,
       "text": [
        "AFTER FORWARD\t\n",
        "NEO\t\n",
        " 4.8045\n",
        " 5.1958\n",
        "[torch.FloatTensor of dimension 2]\n",
        "\n",
        "2\t\n",
        "BLAH\t\n",
        " ** On entry to SGEMM  parameter number 10 had an illegal value\n"
       ]
      },
      {
       "metadata": {},
       "output_type": "pyout",
       "prompt_number": 413,
       "text": [
        " ** On entry to SGEMM  parameter number 10 had an illegal value\n"
       ]
      },
      {
       "metadata": {},
       "output_type": "pyout",
       "prompt_number": 413,
       "text": [
        "\r",
        " [===========================================================>.................]                                                   \b\b\b\b\b\b\b\b\b\b\b\b\b\b\b\b\b\b\b\b\b\b\b\b\b\b\b\b\b\b\b\b\b\b\b\b\b\b\b\b\b\b\b\b\b\b\b\b\b\bETA: 2s614ms | Step: 130ms\b\b\b\b\b\b\b\b\b\b\b\b\b\b\b\b\b\b\b\b\b\b\b\b\b\b\b\b\b\b\b\b\b\b\b\b\b\b\b\b\b\b\b\b\b\b\b\b\b\b\b\b\b\b\b\b\b\b\b\b\b\b\b\b\b\b\b\b\b\b\b\b\b 76/96 \r",
        "HERE OPTIM\t\n",
        "BEFORE FORWARD\t\n",
        "1\t\n"
       ]
      },
      {
       "metadata": {},
       "output_type": "pyout",
       "prompt_number": 413,
       "text": [
        "AFTER FORWARD\t\n",
        "NEO\t\n",
        " 4.7564\n",
        " 5.2438\n",
        "[torch.FloatTensor of dimension 2]\n",
        "\n",
        "2\t\n",
        "BLAH\t\n"
       ]
      },
      {
       "metadata": {},
       "output_type": "pyout",
       "prompt_number": 413,
       "text": [
        " ** On entry to SGEMM  parameter number 10 had an illegal value\n"
       ]
      },
      {
       "metadata": {},
       "output_type": "pyout",
       "prompt_number": 413,
       "text": [
        " ** On entry to SGEMM  parameter number 10 had an illegal value\n"
       ]
      },
      {
       "metadata": {},
       "output_type": "pyout",
       "prompt_number": 413,
       "text": [
        "\r",
        " [============================================================>................]                                                   \b\b\b\b\b\b\b\b\b\b\b\b\b\b\b\b\b\b\b\b\b\b\b\b\b\b\b\b\b\b\b\b\b\b\b\b\b\b\b\b\b\b\b\b\b\b\b\b\b\bETA: 2s466ms | Step: 129ms\b\b\b\b\b\b\b\b\b\b\b\b\b\b\b\b\b\b\b\b\b\b\b\b\b\b\b\b\b\b\b\b\b\b\b\b\b\b\b\b\b\b\b\b\b\b\b\b\b\b\b\b\b\b\b\b\b\b\b\b\b\b\b\b\b\b\b\b\b\b\b\b\b 77/96 \r",
        "HERE OPTIM\t\n",
        "BEFORE FORWARD\t\n",
        "1\t\n"
       ]
      },
      {
       "metadata": {},
       "output_type": "pyout",
       "prompt_number": 413,
       "text": [
        "AFTER FORWARD\t\n",
        "NEO\t\n",
        " 4.7089\n",
        " 5.2914\n",
        "[torch.FloatTensor of dimension 2]\n",
        "\n",
        "2\t\n",
        "BLAH\t\n"
       ]
      },
      {
       "metadata": {},
       "output_type": "pyout",
       "prompt_number": 413,
       "text": [
        " ** On entry to SGEMM  parameter number 10 had an illegal value\n"
       ]
      },
      {
       "metadata": {},
       "output_type": "pyout",
       "prompt_number": 413,
       "text": [
        " ** On entry to SGEMM  parameter number 10 had an illegal value\n"
       ]
      },
      {
       "metadata": {},
       "output_type": "pyout",
       "prompt_number": 413,
       "text": [
        "\r",
        " [=============================================================>...............]                                                   \b\b\b\b\b\b\b\b\b\b\b\b\b\b\b\b\b\b\b\b\b\b\b\b\b\b\b\b\b\b\b\b\b\b\b\b\b\b\b\b\b\b\b\b\b\b\b\b\b\bETA: 2s324ms | Step: 129ms\b\b\b\b\b\b\b\b\b\b\b\b\b\b\b\b\b\b\b\b\b\b\b\b\b\b\b\b\b\b\b\b\b\b\b\b\b\b\b\b\b\b\b\b\b\b\b\b\b\b\b\b\b\b\b\b\b\b\b\b\b\b\b\b\b\b\b\b\b\b\b\b\b 78/96 \r",
        "HERE OPTIM\t\n",
        "BEFORE FORWARD\t\n",
        "1\t\n"
       ]
      },
      {
       "metadata": {},
       "output_type": "pyout",
       "prompt_number": 413,
       "text": [
        "AFTER FORWARD\t\n",
        "NEO\t\n",
        " 4.6618\n",
        " 5.3385\n",
        "[torch.FloatTensor of dimension 2]\n",
        "\n",
        "1\t\n",
        "BLAH\t\n",
        " ** On entry to SGEMM  parameter number 10 had an illegal value\n"
       ]
      },
      {
       "metadata": {},
       "output_type": "pyout",
       "prompt_number": 413,
       "text": [
        " ** On entry to SGEMM  parameter number 10 had an illegal value\n"
       ]
      },
      {
       "metadata": {},
       "output_type": "pyout",
       "prompt_number": 413,
       "text": [
        "\r",
        " [==============================================================>..............]                                                   \b\b\b\b\b\b\b\b\b\b\b\b\b\b\b\b\b\b\b\b\b\b\b\b\b\b\b\b\b\b\b\b\b\b\b\b\b\b\b\b\b\b\b\b\b\b\b\b\b\bETA: 2s172ms | Step: 127ms\b\b\b\b\b\b\b\b\b\b\b\b\b\b\b\b\b\b\b\b\b\b\b\b\b\b\b\b\b\b\b\b\b\b\b\b\b\b\b\b\b\b\b\b\b\b\b\b\b\b\b\b\b\b\b\b\b\b\b\b\b\b\b\b\b\b\b\b\b\b\b\b\b 79/96 \r",
        "HERE OPTIM\t\n",
        "BEFORE FORWARD\t\n",
        "1\t\n"
       ]
      },
      {
       "metadata": {},
       "output_type": "pyout",
       "prompt_number": 413,
       "text": [
        "AFTER FORWARD\t\n",
        "NEO\t\n",
        " 4.7141\n",
        " 5.2861\n",
        "[torch.FloatTensor of dimension 2]\n",
        "\n",
        "1\t\n",
        "BLAH\t\n",
        " ** On entry to SGEMM  parameter number 10 had an illegal value\n"
       ]
      },
      {
       "metadata": {},
       "output_type": "pyout",
       "prompt_number": 413,
       "text": [
        " ** On entry to SGEMM  parameter number 10 had an illegal value\n"
       ]
      },
      {
       "metadata": {},
       "output_type": "pyout",
       "prompt_number": 413,
       "text": [
        "\r",
        " [===============================================================>.............]                                                   \b\b\b\b\b\b\b\b\b\b\b\b\b\b\b\b\b\b\b\b\b\b\b\b\b\b\b\b\b\b\b\b\b\b\b\b\b\b\b\b\b\b\b\b\b\b\b\b\b\bETA: 2s22ms | Step: 126ms\b\b\b\b\b\b\b\b\b\b\b\b\b\b\b\b\b\b\b\b\b\b\b\b\b\b\b\b\b\b\b\b\b\b\b\b\b\b\b\b\b\b\b\b\b\b\b\b\b\b\b\b\b\b\b\b\b\b\b\b\b\b\b\b\b\b\b\b\b\b\b\b 80/96 \r",
        "HERE OPTIM\t\n",
        "BEFORE FORWARD\t\n",
        "1\t\n"
       ]
      },
      {
       "metadata": {},
       "output_type": "pyout",
       "prompt_number": 413,
       "text": [
        "AFTER FORWARD\t\n",
        "NEO\t\n",
        " 4.7670\n",
        " 5.2332\n",
        "[torch.FloatTensor of dimension 2]\n",
        "\n",
        "2\t\n",
        "BLAH\t\n",
        " ** On entry to SGEMM  parameter number 10 had an illegal value\n"
       ]
      },
      {
       "metadata": {},
       "output_type": "pyout",
       "prompt_number": 413,
       "text": [
        " ** On entry to SGEMM  parameter number 10 had an illegal value\n"
       ]
      },
      {
       "metadata": {},
       "output_type": "pyout",
       "prompt_number": 413,
       "text": [
        "\r",
        " [===============================================================>.............]                                                   \b\b\b\b\b\b\b\b\b\b\b\b\b\b\b\b\b\b\b\b\b\b\b\b\b\b\b\b\b\b\b\b\b\b\b\b\b\b\b\b\b\b\b\b\b\b\b\b\b\bETA: 1s878ms | Step: 125ms\b\b\b"
       ]
      },
      {
       "metadata": {},
       "output_type": "pyout",
       "prompt_number": 413,
       "text": [
        "\b\b\b\b\b\b\b\b\b\b\b\b\b\b\b\b\b\b\b\b\b\b\b\b\b\b\b\b\b\b\b\b\b\b\b\b\b\b\b\b\b\b\b\b\b\b\b\b\b\b\b\b\b\b\b\b\b\b\b\b\b\b\b\b\b\b\b\b\b\b 81/96 \r",
        "HERE OPTIM\t\n",
        "BEFORE FORWARD\t\n",
        "1\t\n"
       ]
      },
      {
       "metadata": {},
       "output_type": "pyout",
       "prompt_number": 413,
       "text": [
        "AFTER FORWARD\t\n",
        "NEO\t\n",
        " 4.7203\n",
        " 5.2799\n",
        "[torch.FloatTensor of dimension 2]\n",
        "\n",
        "1\t\n",
        "BLAH\t\n",
        " ** On entry to SGEMM  parameter number 10 had an illegal value\n"
       ]
      },
      {
       "metadata": {},
       "output_type": "pyout",
       "prompt_number": 413,
       "text": [
        " ** On entry to SGEMM  parameter number 10 had an illegal value\n"
       ]
      },
      {
       "metadata": {},
       "output_type": "pyout",
       "prompt_number": 413,
       "text": [
        "\r",
        " [================================================================>............]                                                   \b\b\b\b\b\b\b\b\b\b\b\b\b\b\b\b\b\b\b\b\b\b\b\b\b\b\b\b\b\b\b\b\b\b\b\b\b\b\b\b\b\b\b\b\b\b\b\b\b\bETA: 1s735ms | Step: 123ms\b\b\b\b\b\b\b\b\b\b\b\b\b\b\b\b\b\b\b\b\b\b\b\b\b\b\b\b\b\b\b\b\b\b\b\b\b\b\b\b\b\b\b\b\b\b\b\b\b\b\b\b\b\b\b\b\b\b\b\b\b\b\b\b\b\b\b\b\b\b\b\b\b 82/96 \r",
        "HERE OPTIM\t\n",
        "BEFORE FORWARD\t\n",
        "1\t\n"
       ]
      },
      {
       "metadata": {},
       "output_type": "pyout",
       "prompt_number": 413,
       "text": [
        "AFTER FORWARD\t\n",
        "NEO\t\n",
        " 4.7721\n",
        " 5.2281\n",
        "[torch.FloatTensor of dimension 2]\n",
        "\n",
        "2\t\n",
        "BLAH\t\n",
        " ** On entry to SGEMM  parameter number 10 had an illegal value\n"
       ]
      },
      {
       "metadata": {},
       "output_type": "pyout",
       "prompt_number": 413,
       "text": [
        " ** On entry to SGEMM  parameter number 10 had an illegal value\n"
       ]
      },
      {
       "metadata": {},
       "output_type": "pyout",
       "prompt_number": 413,
       "text": [
        "\r",
        " [=="
       ]
      },
      {
       "metadata": {},
       "output_type": "pyout",
       "prompt_number": 413,
       "text": [
        "===============================================================>...........]                                                   \b\b\b\b\b\b\b\b\b\b\b\b\b\b\b\b\b\b\b\b\b\b\b\b\b\b\b\b\b\b\b\b\b\b\b\b\b\b\b\b\b\b\b\b\b\b\b\b\b\bETA: 1s598ms | Step: 122ms\b\b\b\b\b\b\b\b\b\b\b\b\b\b\b\b\b\b\b\b\b\b\b\b\b\b\b\b\b\b\b\b\b\b\b\b\b\b\b\b\b\b\b\b\b\b\b\b\b\b\b\b\b\b\b\b\b\b\b\b\b\b\b\b\b\b\b\b\b\b\b\b\b 83/96 \r",
        "HERE OPTIM\t\n",
        "BEFORE FORWARD\t\n",
        "1\t\n"
       ]
      },
      {
       "metadata": {},
       "output_type": "pyout",
       "prompt_number": 413,
       "text": [
        "AFTER FORWARD\t\n",
        "NEO\t\n",
        " 4.7254\n",
        " 5.2748\n",
        "[torch.FloatTensor of dimension 2]\n",
        "\n",
        "2\t\n",
        "BLAH\t\n"
       ]
      },
      {
       "metadata": {},
       "output_type": "pyout",
       "prompt_number": 413,
       "text": [
        " ** On entry to SGEMM  parameter number 10 had an illegal value\n"
       ]
      },
      {
       "metadata": {},
       "output_type": "pyout",
       "prompt_number": 413,
       "text": [
        " ** On entry to SGEMM  parameter number 10 had an illegal value\n"
       ]
      },
      {
       "metadata": {},
       "output_type": "pyout",
       "prompt_number": 413,
       "text": [
        "\r",
        " [==================================================================>..........]                                                   \b\b\b\b\b\b\b\b\b\b\b\b\b\b\b\b\b\b\b\b\b\b\b\b\b\b\b\b\b\b\b\b\b\b\b\b\b\b\b\b\b\b\b\b\b\b\b\b\b\bETA: 1s493ms | Step: 124ms\b\b\b\b\b\b\b\b\b\b\b\b\b\b\b\b\b\b\b\b\b\b\b\b\b\b\b\b\b\b\b\b\b\b\b\b\b\b\b\b\b\b\b\b\b\b\b\b\b\b\b\b\b\b\b\b\b\b\b\b\b\b\b\b\b\b"
       ]
      },
      {
       "metadata": {},
       "output_type": "pyout",
       "prompt_number": 413,
       "text": [
        "\b\b\b\b\b\b\b 84/96 \r",
        "HERE OPTIM\t\n",
        "BEFORE FORWARD\t\n",
        "1\t\n"
       ]
      },
      {
       "metadata": {},
       "output_type": "pyout",
       "prompt_number": 413,
       "text": [
        "AFTER FORWARD\t\n",
        "NEO\t\n",
        " 4.6782\n",
        " 5.3221\n",
        "[torch.FloatTensor of dimension 2]\n",
        "\n",
        "1\t\n",
        "BLAH\t\n",
        " ** On entry to SGEMM  parameter number 10 had an illegal value\n"
       ]
      },
      {
       "metadata": {},
       "output_type": "pyout",
       "prompt_number": 413,
       "text": [
        " ** On entry to SGEMM  parameter number 10 had an illegal value\n",
        "\r",
        " [===================================================================>.........]                                                   \b\b\b\b\b\b\b\b\b\b\b\b\b\b\b\b\b\b\b\b\b\b\b\b\b\b\b\b\b\b\b\b\b\b\b\b\b\b\b\b\b\b\b\b\b\b\b\b\b\bETA: 1s354ms | Step: 123ms\b\b\b\b\b\b\b\b\b\b\b\b\b\b\b\b\b\b\b\b\b\b\b\b\b\b\b"
       ]
      },
      {
       "metadata": {},
       "output_type": "pyout",
       "prompt_number": 413,
       "text": [
        "\b\b\b\b\b\b\b\b\b\b\b\b\b\b\b\b\b\b\b\b\b\b\b\b\b\b\b\b\b\b\b\b\b\b\b\b\b\b\b\b\b\b\b\b\b\b 85/96 \r",
        "HERE OPTIM\t\n",
        "BEFORE FORWARD\t\n",
        "1\t\n"
       ]
      },
      {
       "metadata": {},
       "output_type": "pyout",
       "prompt_number": 413,
       "text": [
        "AFTER FORWARD\t\n",
        "NEO\t\n",
        " 4.7304\n",
        " 5.2699\n",
        "[torch.FloatTensor of dimension 2]\n",
        "\n",
        "1\t\n",
        "BLAH\t\n",
        " ** On entry to SGEMM  parameter number 10 had an illegal value\n",
        " ** On entry to SGEMM  parameter number 10 had an illegal value\n"
       ]
      },
      {
       "metadata": {},
       "output_type": "pyout",
       "prompt_number": 413,
       "text": [
        "\r",
        " [===================================================================>.........]                                                   \b\b\b\b\b\b\b\b\b\b\b\b\b\b\b\b\b\b\b\b\b\b\b\b\b\b\b\b\b\b\b\b\b\b\b\b\b\b\b\b\b\b\b\b\b\b\b\b\b\bETA: 1s217ms | Step: 121ms\b\b\b\b\b\b\b\b\b\b\b\b\b\b\b\b\b\b\b\b\b\b\b\b\b\b\b\b\b\b\b\b\b\b\b\b\b\b\b\b\b\b\b\b\b\b\b\b\b\b\b\b\b\b\b\b\b\b\b\b\b\b\b\b\b\b\b\b\b\b\b\b\b 86/96 \r",
        "HERE OPTIM\t\n",
        "BEFORE FORWARD\t\n",
        "1\t\n",
        "AFTER FORWARD\t\n",
        "NEO\t\n",
        " 4.7831\n",
        " 5.2172\n",
        "[torch.FloatTensor of dimension 2]\n",
        "\n",
        "1\t\n",
        "BLAH\t\n",
        " ** On entry to SGEMM  parameter number 10 had an illegal value\n",
        " ** On entry to SGEMM  parameter number 10 had an illegal value\n",
        "\r",
        " [====================================================================>........]   "
       ]
      },
      {
       "metadata": {},
       "output_type": "pyout",
       "prompt_number": 413,
       "text": [
        "                                                \b\b\b\b\b\b\b\b\b\b\b\b\b\b\b\b\b\b\b\b\b\b\b\b\b\b\b\b\b\b\b\b\b\b\b\b\b\b\b\b\b\b\b\b\b\b\b\b\b\bETA: 1s82ms | Step: 120ms\b\b\b\b\b\b\b\b\b\b\b\b\b\b\b\b\b\b\b\b\b\b\b\b\b\b\b\b\b\b\b\b\b\b\b\b\b\b\b\b\b\b\b\b\b\b\b\b\b\b\b\b\b\b\b\b\b\b\b\b\b\b\b\b\b\b\b\b\b\b\b\b 87/96 \r",
        "HERE OPTIM\t\n",
        "BEFORE FORWARD\t\n",
        "1\t\n"
       ]
      },
      {
       "metadata": {},
       "output_type": "pyout",
       "prompt_number": 413,
       "text": [
        "AFTER FORWARD\t\n",
        "NEO\t\n",
        " 4.8352\n",
        " 5.1650\n",
        "[torch.FloatTensor of dimension 2]\n",
        "\n",
        "2\t\n",
        "BLAH\t\n",
        " ** On entry to SGEMM  parameter number 10 had an illegal value\n"
       ]
      },
      {
       "metadata": {},
       "output_type": "pyout",
       "prompt_number": 413,
       "text": [
        " ** On entry to SGEMM  parameter number 10 had an illegal value\n"
       ]
      },
      {
       "metadata": {},
       "output_type": "pyout",
       "prompt_number": 413,
       "text": [
        "\r",
        " [=====================================================================>.......]                                                   \b\b\b\b\b\b\b\b\b\b\b\b\b\b\b\b\b\b\b\b\b\b\b\b\b\b\b\b\b\b\b\b\b\b\b\b\b\b\b\b\b\b\b\b\b\b\b\b\b\bETA: 957ms | Step: 119ms\b\b\b\b\b\b\b\b\b\b\b\b\b\b\b\b\b\b\b\b\b\b\b\b\b\b\b\b\b\b\b\b\b\b\b\b\b\b\b\b\b\b\b\b\b\b\b\b\b\b\b\b\b\b\b\b\b\b\b\b\b\b\b\b\b\b\b\b\b\b\b 88/96 \r",
        "HERE OPTIM\t\n",
        "BEFORE FORWARD\t\n",
        "1\t\n"
       ]
      },
      {
       "metadata": {},
       "output_type": "pyout",
       "prompt_number": 413,
       "text": [
        "AFTER FORWARD\t\n",
        "NEO\t\n",
        " 4.7879\n",
        " 5.2124\n",
        "[torch.FloatTensor of dimension 2]\n",
        "\n",
        "2\t\n",
        "BLAH\t\n"
       ]
      },
      {
       "metadata": {},
       "output_type": "pyout",
       "prompt_number": 413,
       "text": [
        " ** On entry to SGEMM  parameter number 10 had an illegal value\n"
       ]
      },
      {
       "metadata": {},
       "output_type": "pyout",
       "prompt_number": 413,
       "text": [
        " ** On entry to SGEMM  parameter number 10 had an illegal value\n"
       ]
      },
      {
       "metadata": {},
       "output_type": "pyout",
       "prompt_number": 413,
       "text": [
        "\r",
        " [======================================================================>......]                                                   \b\b\b\b\b\b\b\b\b\b\b\b\b\b\b\b\b\b\b\b\b\b\b\b\b\b\b\b\b\b\b\b\b\b\b\b\b\b\b\b\b\b\b\b\b\b\b\b\b\bETA: 851ms | Step: 121ms\b\b\b\b\b\b\b\b\b\b\b\b\b\b\b\b\b\b\b\b\b\b\b\b\b\b\b\b\b\b\b\b\b\b\b\b\b\b\b\b\b\b\b\b\b\b\b\b\b\b\b\b\b\b\b\b\b\b\b\b\b\b\b\b\b\b\b\b\b\b\b 89/96 \r",
        "HERE OPTIM\t\n",
        "BEFORE FORWARD\t\n",
        "1\t\n"
       ]
      },
      {
       "metadata": {},
       "output_type": "pyout",
       "prompt_number": 413,
       "text": [
        "AFTER FORWARD\t\n",
        "NEO\t\n",
        " 4.7400\n",
        " 5.2602\n",
        "[torch.FloatTensor of dimension 2]\n",
        "\n",
        "2\t\n",
        "BLAH\t\n",
        " ** On entry to SGEMM  parameter number 10 had an illegal value\n"
       ]
      },
      {
       "metadata": {},
       "output_type": "pyout",
       "prompt_number": 413,
       "text": [
        " ** On entry to SGEMM  parameter number 10 had an illegal value\n"
       ]
      },
      {
       "metadata": {},
       "output_type": "pyout",
       "prompt_number": 413,
       "text": [
        "\r",
        " [=======================================================================>.....]                                                   \b\b\b\b\b\b\b\b\b\b\b\b\b\b\b\b\b\b\b\b\b\b\b\b\b\b\b\b\b\b\b\b\b\b\b\b\b\b\b\b\b\b\b\b\b\b\b\b\b\bETA: 731ms | Step: 121ms\b\b\b\b\b\b\b\b\b\b\b\b\b\b\b\b\b\b\b\b\b\b\b\b\b\b\b\b\b\b\b\b\b\b\b\b\b\b\b\b\b\b\b\b\b\b\b\b\b\b\b\b\b\b\b\b\b\b\b\b\b\b\b\b\b\b\b\b\b\b\b 90/96 \r",
        "HERE OPTIM\t\n",
        "BEFORE FORWARD\t\n",
        "1\t\n"
       ]
      },
      {
       "metadata": {},
       "output_type": "pyout",
       "prompt_number": 413,
       "text": [
        "AFTER FORWARD\t\n",
        "NEO\t\n",
        " 4.6926\n",
        " 5.3077\n",
        "[torch.FloatTensor of dimension 2]\n",
        "\n",
        "2\t\n",
        "BLAH\t\n",
        " ** On entry to SGEMM  parameter number 10 had an illegal value\n"
       ]
      },
      {
       "metadata": {},
       "output_type": "pyout",
       "prompt_number": 413,
       "text": [
        " ** On entry to SGEMM  parameter number 10 had an illegal value\n"
       ]
      },
      {
       "metadata": {},
       "output_type": "pyout",
       "prompt_number": 413,
       "text": [
        "\r",
        " [=======================================================================>.....]                                                   \b\b\b\b\b\b\b\b\b\b\b\b\b\b\b\b\b\b\b\b\b\b\b\b\b\b\b\b\b\b\b\b\b\b\b\b\b\b\b\b\b\b\b\b\b\b\b\b\b\bETA: 603ms | Step: 120ms\b\b\b\b\b\b\b\b\b\b\b\b\b\b\b\b\b\b\b\b\b\b\b\b\b\b\b\b\b\b\b\b\b\b\b\b\b\b\b\b\b\b\b\b\b\b\b\b\b\b\b\b\b\b\b\b\b\b\b\b\b\b\b\b\b\b\b\b\b\b\b 91/96 \r",
        "HERE OPTIM\t\n",
        "BEFORE FORWARD\t\n",
        "1\t\n"
       ]
      },
      {
       "metadata": {},
       "output_type": "pyout",
       "prompt_number": 413,
       "text": [
        "AFTER FORWARD\t\n",
        "NEO\t\n",
        " 4.6457\n",
        " 5.3546\n",
        "[torch.FloatTensor of dimension 2]\n",
        "\n",
        "2\t\n",
        "BLAH\t\n",
        " ** On entry to SGEMM  parameter number 10 had an illegal value\n"
       ]
      },
      {
       "metadata": {},
       "output_type": "pyout",
       "prompt_number": 413,
       "text": [
        " ** On entry to SGEMM  parameter number 10 had an illegal value\n"
       ]
      },
      {
       "metadata": {},
       "output_type": "pyout",
       "prompt_number": 413,
       "text": [
        "\r",
        " [========================================================================>....]                                                   \b\b\b\b\b\b\b\b\b\b\b\b\b\b\b\b\b\b\b\b\b\b\b\b\b\b\b\b\b\b\b\b\b\b\b\b\b\b\b\b\b\b\b\b\b\b\b\b\b\bETA: 478ms | Step: 119ms\b\b\b\b\b\b\b\b\b\b\b\b\b\b\b\b\b\b\b\b\b\b\b\b\b\b\b\b\b\b\b\b\b\b\b\b\b\b\b\b\b\b\b\b\b\b\b\b\b\b\b\b\b\b\b\b\b\b\b\b\b\b\b\b\b\b\b\b\b\b\b 92/96 \r",
        "HERE OPTIM\t\n",
        "BEFORE FORWARD\t\n",
        "1\t\n"
       ]
      },
      {
       "metadata": {},
       "output_type": "pyout",
       "prompt_number": 413,
       "text": [
        "AFTER FORWARD\t\n",
        "NEO\t\n",
        " 4.5992\n",
        " 5.4010\n",
        "[torch.FloatTensor of dimension 2]\n",
        "\n",
        "1\t\n",
        "BLAH\t\n",
        " ** On entry to SGEMM  parameter number 10 had an illegal value\n"
       ]
      },
      {
       "metadata": {},
       "output_type": "pyout",
       "prompt_number": 413,
       "text": [
        " ** On entry to SGEMM  parameter number 10 had an illegal value\n"
       ]
      },
      {
       "metadata": {},
       "output_type": "pyout",
       "prompt_number": 413,
       "text": [
        "\r",
        " [=========================================================================>...]                                                   \b\b\b\b\b\b\b\b\b\b\b\b\b\b\b\b\b\b\b\b\b\b\b\b\b\b\b\b\b\b\b\b\b\b\b\b\b\b\b\b\b\b\b\b\b\b\b\b\b\bETA: 355ms | Step: 118ms\b\b\b\b\b\b\b\b\b\b\b\b\b\b\b\b\b\b\b\b\b\b\b\b\b\b\b\b\b\b\b\b\b\b\b\b\b\b\b\b\b\b\b\b\b\b\b\b\b\b\b\b\b\b\b\b\b\b\b\b\b\b\b\b\b\b\b\b\b\b\b 93/96 \r",
        "HERE OPTIM\t\n",
        "BEFORE FORWARD\t\n",
        "1\t\n"
       ]
      },
      {
       "metadata": {},
       "output_type": "pyout",
       "prompt_number": 413,
       "text": [
        "AFTER FORWARD\t\n",
        "NEO\t\n",
        " 4.6522\n",
        " 5.3480\n",
        "[torch.FloatTensor of dimension 2]\n",
        "\n",
        "2\t\n",
        "BLAH\t\n",
        " ** On entry to SGEMM  parameter number 10 had an illegal value\n"
       ]
      },
      {
       "metadata": {},
       "output_type": "pyout",
       "prompt_number": 413,
       "text": [
        " ** On entry to SGEMM  parameter number 10 had an illegal value\n"
       ]
      },
      {
       "metadata": {},
       "output_type": "pyout",
       "prompt_number": 413,
       "text": [
        "\r",
        " [==========================================================================>..]                                                   \b\b\b\b\b\b\b\b\b\b\b\b\b\b\b\b\b\b\b\b\b\b\b\b\b\b\b\b\b\b\b\b\b\b\b\b\b\b\b\b\b\b\b\b\b\b\b\b\b\bETA: 235ms | Step: 117ms\b\b\b\b\b\b\b\b\b\b\b\b\b\b\b\b\b\b\b\b\b\b\b\b\b\b\b\b\b\b\b\b\b\b\b\b\b\b\b\b\b\b\b\b\b\b\b\b\b\b\b\b\b\b\b\b\b\b\b\b\b\b\b\b\b\b\b\b\b\b\b 94/96 \r",
        "HERE OPTIM\t\n",
        "BEFORE FORWARD\t\n",
        "1\t\n"
       ]
      },
      {
       "metadata": {},
       "output_type": "pyout",
       "prompt_number": 413,
       "text": [
        "AFTER FORWARD\t\n",
        "NEO\t\n",
        " 4.6067\n",
        " 5.3936\n",
        "[torch.FloatTensor of dimension 2]\n",
        "\n",
        "2\t\n",
        "BLAH\t\n"
       ]
      },
      {
       "metadata": {},
       "output_type": "pyout",
       "prompt_number": 413,
       "text": [
        " ** On entry to SGEMM  parameter number 10 had an illegal value\n"
       ]
      },
      {
       "metadata": {},
       "output_type": "pyout",
       "prompt_number": 413,
       "text": [
        " ** On entry to SGEMM  parameter number 10 had an illegal value\n"
       ]
      },
      {
       "metadata": {},
       "output_type": "pyout",
       "prompt_number": 413,
       "text": [
        "\r",
        " [==========================================="
       ]
      },
      {
       "metadata": {},
       "output_type": "pyout",
       "prompt_number": 413,
       "text": [
        "================================>.]                                                   \b\b\b\b\b\b\b\b\b\b\b\b\b\b\b\b\b\b\b\b\b\b\b\b\b\b\b\b\b\b\b\b\b\b\b\b\b\b\b\b\b\b\b\b\b\b\b\b\b\bETA: 128ms | Step: 128ms\b\b\b\b\b\b\b\b\b\b\b\b\b\b\b\b\b\b\b\b\b\b\b\b\b\b\b\b\b\b\b\b\b\b\b\b\b\b\b\b\b\b\b\b\b\b\b\b\b\b\b\b\b\b\b\b\b\b\b\b\b\b\b\b\b\b\b\b\b\b\b 95/96 \r",
        "HERE OPTIM\t\n",
        "BEFORE FORWARD\t\n",
        "1\t\n"
       ]
      },
      {
       "metadata": {},
       "output_type": "pyout",
       "prompt_number": 413,
       "text": [
        "AFTER FORWARD\t\n",
        "NEO\t\n",
        " 4.5607\n",
        " 5.4395\n",
        "[torch.FloatTensor of dimension 2]\n",
        "\n",
        "2\t\n",
        "BLAH\t\n",
        " ** On entry to SGEMM  parameter number 10 had an illegal value\n"
       ]
      },
      {
       "metadata": {},
       "output_type": "pyout",
       "prompt_number": 413,
       "text": [
        " ** On entry to SGEMM  parameter number 10 had an illegal value\n"
       ]
      },
      {
       "metadata": {},
       "output_type": "pyout",
       "prompt_number": 413,
       "text": [
        "\r",
        " [============================================================================>]                                                   \b\b\b\b\b\b\b\b\b\b\b\b\b\b\b\b\b\b\b\b\b\b\b\b\b\b\b\b\b\b\b\b\b\b\b\b\b\b\b\b\b\b\b\b\b\b\b\b\b\bETA: 0ms | Step: 127ms\b\b\b\b\b\b\b\b\b\b\b\b\b\b\b\b\b\b\b\b\b\b\b\b\b\b\b\b\b\b\b\b\b\b\b\b\b\b\b\b\b\b\b\b\b\b\b\b\b\b\b\b\b\b\b\b\b\b\b\b\b\b\b\b\b\b\b\b\b 96/96 \n",
        "\r",
        "HERE OPTIM\t\n",
        "BEFORE FORWARD\t\n",
        "1\t\n"
       ]
      },
      {
       "metadata": {},
       "output_type": "pyout",
       "prompt_number": 413,
       "text": [
        "AFTER FORWARD\t\n",
        "NEO\t\n",
        " 4.5150\n",
        " 5.4851\n",
        "[torch.FloatTensor of dimension 2]\n",
        "\n",
        "2\t\n",
        "BLAH\t\n"
       ]
      },
      {
       "metadata": {},
       "output_type": "pyout",
       "prompt_number": 413,
       "text": [
        " ** On entry to SGEMM  parameter number 10 had an illegal value\n"
       ]
      },
      {
       "metadata": {},
       "output_type": "pyout",
       "prompt_number": 413,
       "text": [
        " ** On entry to SGEMM  parameter number 10 had an illegal value\n"
       ]
      },
      {
       "metadata": {},
       "output_type": "pyout",
       "prompt_number": 413,
       "text": [
        "\n",
        "==> time to learn 1 sample = 131.5241754055ms\t\n",
        "ConfusionMatrix:\n",
        "[[       0      44]   0.000% \t[class: Classical]\n",
        " [       1      51]]  98.077% \t[class: Jazz]\n",
        " + average row correct: 49.038460850716% \n",
        " + average rowUcol correct (VOC measure): 26.5625% \n",
        " + global correct: 53.125%\n",
        "{\n",
        "  averageUnionValid : 0.265625\n",
        "  _targ_idx : LongTensor - empty\n",
        "  valids : FloatTensor - size: 2\n",
        "  classes : \n",
        "    {\n",
        "      1 : Classical\n",
        "      2 : Jazz\n",
        "    }\n",
        "  _target : FloatTensor - empty\n",
        "  mat : FloatTensor - size: 2x2\n"
       ]
      },
      {
       "metadata": {},
       "output_type": "pyout",
       "prompt_number": 413,
       "text": [
        "  _pred_idx : LongTensor - size: 1\n",
        "  _max : FloatTensor - size: 1\n",
        "  unionvalids : FloatTensor - size: 2\n",
        "  nclasses : 2\n",
        "  totalValid : 0.53125\n",
        "  _prediction : FloatTensor - size: 2\n",
        "  averageValid : 0.49038460850716\n",
        "}\n"
       ]
      },
      {
       "metadata": {},
       "output_type": "pyout",
       "prompt_number": 413,
       "text": [
        "==> saving model to /home/ace/Desktop/Recurrent-Neural-Net-Music-Classification/model.net\t\n"
       ]
      },
      {
       "metadata": {},
       "output_type": "pyout",
       "prompt_number": 413,
       "text": [
        "0\t\n",
        "==> doing epoch on training data:\t\n",
        "==> online epoch # 7 [batchSize = 64]\t\n",
        "96\t\n",
        " [.............................................................................] "
       ]
      },
      {
       "metadata": {},
       "output_type": "pyout",
       "prompt_number": 413,
       "text": [
        "                                                  \b\b\b\b\b\b\b\b\b\b\b\b\b\b\b\b\b\b\b\b\b\b\b\b\b\b\b\b\b\b\b\b\b\b\b\b\b\b\b\b\b\b\b\b\b\b\b\b\b\bETA: 0ms | Step: 0ms\b\b\b\b\b\b\b\b\b\b\b\b\b\b\b\b\b\b\b\b\b\b\b\b\b\b\b\b\b\b\b\b\b\b\b\b\b\b\b\b\b\b\b\b\b\b\b\b\b\b\b\b\b\b\b\b\b\b\b\b\b\b\b\b\b\b\b 1/96 \r",
        "HERE OPTIM\t\n",
        "BEFORE FORWARD\t\n",
        "1\t\n"
       ]
      },
      {
       "metadata": {},
       "output_type": "pyout",
       "prompt_number": 413,
       "text": [
        "AFTER FORWARD\t\n",
        "NEO\t\n",
        " 4.4699\n",
        " 5.5303\n",
        "[torch.FloatTensor of dimension 2]\n",
        "\n",
        "1\t\n",
        "BLAH\t\n",
        " ** On entry to SGEMM  parameter number 10 had an illegal value\n"
       ]
      },
      {
       "metadata": {},
       "output_type": "pyout",
       "prompt_number": 413,
       "text": [
        " ** On entry to SGEMM  parameter number 10 had an illegal value\n"
       ]
      },
      {
       "metadata": {},
       "output_type": "pyout",
       "prompt_number": 413,
       "text": [
        "\r",
        " [>............................................................................]                                                   \b\b\b\b\b\b\b\b\b\b\b\b\b\b\b\b\b\b\b\b\b\b\b\b\b\b\b\b\b\b\b\b\b\b\b\b\b\b\b\b\b\b\b\b\b\b\b\b\b\bETA: 2s129ms | Step: 22ms\b\b\b\b\b\b\b\b\b\b\b\b\b\b\b\b\b\b\b\b\b\b\b\b\b\b\b\b\b\b\b\b\b\b\b\b\b\b\b\b\b\b\b\b\b\b\b\b\b\b\b\b\b\b\b\b\b\b\b\b\b\b\b\b\b\b\b\b\b\b\b\b 2/96 \r",
        "HERE OPTIM\t\n",
        "BEFORE FORWARD\t\n",
        "1\t\n"
       ]
      },
      {
       "metadata": {},
       "output_type": "pyout",
       "prompt_number": 413,
       "text": [
        "AFTER FORWARD\t\n",
        "NEO\t\n",
        " 4.5242\n",
        " 5.4760\n",
        "[torch.FloatTensor of dimension 2]\n",
        "\n",
        "2\t\n",
        "BLAH\t\n",
        " ** On entry to SGEMM  parameter number 10 had an illegal value\n"
       ]
      },
      {
       "metadata": {},
       "output_type": "pyout",
       "prompt_number": 413,
       "text": [
        " ** On entry to SGEMM  parameter number 10 had an illegal value\n"
       ]
      },
      {
       "metadata": {},
       "output_type": "pyout",
       "prompt_number": 413,
       "text": [
        "\r",
        " [=>...........................................................................]                                                   \b\b\b\b\b\b\b\b\b\b\b\b\b\b\b\b\b\b\b\b\b\b\b\b\b\b\b\b\b\b\b\b\b\b\b\b\b\b\b\b\b\b\b\b\b\b\b\b\b\bETA: 4s445ms | Step: 47ms\b\b\b\b\b\b\b\b\b\b\b\b\b\b\b\b\b\b\b\b\b\b\b\b\b\b\b\b\b\b\b\b\b\b\b\b\b\b\b\b\b\b\b\b\b\b\b\b\b\b\b\b\b\b\b\b\b\b\b\b\b\b\b\b\b\b\b\b\b\b\b\b 3/96 \r",
        "HERE OPTIM\t\n",
        "BEFORE FORWARD\t\n",
        "1\t\n"
       ]
      },
      {
       "metadata": {},
       "output_type": "pyout",
       "prompt_number": 413,
       "text": [
        "AFTER FORWARD\t\n",
        "NEO\t\n",
        " 4.4799\n",
        " 5.5202\n",
        "[torch.FloatTensor of dimension 2]\n",
        "\n",
        "2\t\n",
        "BLAH\t\n"
       ]
      },
      {
       "metadata": {},
       "output_type": "pyout",
       "prompt_number": 413,
       "text": [
        " ** On entry to SGEMM  parameter number 10 had an illegal value\n"
       ]
      },
      {
       "metadata": {},
       "output_type": "pyout",
       "prompt_number": 413,
       "text": [
        " ** On entry to SGEMM  parameter number 10 had an illegal value\n"
       ]
      },
      {
       "metadata": {},
       "output_type": "pyout",
       "prompt_number": 413,
       "text": [
        "\r",
        " [==>..........................................................................]                                                   \b\b\b\b\b\b\b\b\b\b\b\b\b\b\b\b\b\b\b\b\b\b\b\b\b\b\b\b\b\b\b\b\b\b\b\b\b\b\b\b\b\b\b\b\b\b\b\b\b\bETA: 6s82ms | Step: 66ms\b\b\b\b\b\b\b\b\b\b\b\b\b\b\b\b\b\b\b\b\b\b\b\b\b\b\b\b\b\b\b\b\b\b\b\b\b\b\b\b\b\b\b\b\b\b\b\b\b\b\b\b\b\b\b\b\b\b\b\b\b\b\b\b\b\b\b\b\b\b\b 4/96 \r",
        "HERE OPTIM\t\n",
        "BEFORE FORWARD\t\n",
        "1\t\n"
       ]
      },
      {
       "metadata": {},
       "output_type": "pyout",
       "prompt_number": 413,
       "text": [
        "AFTER FORWARD\t\n",
        "NEO\t\n",
        " 4.4351\n",
        " 5.5650\n",
        "[torch.FloatTensor of dimension 2]\n",
        "\n",
        "1\t\n",
        "BLAH\t\n",
        " ** On entry to SGEMM  parameter number 10 had an illegal value\n"
       ]
      },
      {
       "metadata": {},
       "output_type": "pyout",
       "prompt_number": 413,
       "text": [
        " ** On entry to SGEMM  parameter number 10 had an illegal value\n"
       ]
      },
      {
       "metadata": {},
       "output_type": "pyout",
       "prompt_number": 413,
       "text": [
        "\r",
        " [===>......................................................................."
       ]
      },
      {
       "metadata": {},
       "output_type": "pyout",
       "prompt_number": 413,
       "text": [
        "..]                                                   \b\b\b\b\b\b\b\b\b\b\b\b\b\b\b\b\b\b\b\b\b\b\b\b\b\b\b\b\b\b\b\b\b\b\b\b\b\b\b\b\b\b\b\b\b\b\b\b\b\bETA: 4s786ms | Step: 52ms\b\b\b\b\b\b\b\b\b\b\b\b\b\b\b\b\b\b\b\b\b\b\b\b\b\b\b\b\b\b\b\b\b\b\b\b\b\b\b\b\b\b\b\b\b\b\b\b\b\b\b\b\b\b\b\b\b\b\b\b\b\b\b\b\b\b\b\b\b\b\b\b 5/96 \r",
        "HERE OPTIM\t\n",
        "BEFORE FORWARD\t\n",
        "1\t\n"
       ]
      },
      {
       "metadata": {},
       "output_type": "pyout",
       "prompt_number": 413,
       "text": [
        "AFTER FORWARD\t\n",
        "NEO\t\n",
        " 4.4898\n",
        " 5.5104\n",
        "[torch.FloatTensor of dimension 2]\n",
        "\n",
        "1\t\n",
        "BLAH\t\n",
        " ** On entry to SGEMM  parameter number 10 had an illegal value\n"
       ]
      },
      {
       "metadata": {},
       "output_type": "pyout",
       "prompt_number": 413,
       "text": [
        " ** On entry to SGEMM  parameter number 10 had an illegal value\n"
       ]
      },
      {
       "metadata": {},
       "output_type": "pyout",
       "prompt_number": 413,
       "text": [
        "\r",
        " [===>.........................................................................]                                                   \b\b\b\b\b\b\b\b\b\b\b\b\b\b\b\b\b\b\b\b\b\b\b\b\b\b\b\b\b\b\b\b\b\b\b\b\b\b\b\b\b\b\b\b\b\b\b\b\b\bETA: 3s919ms | Step: 43ms\b\b\b\b\b\b\b\b\b\b\b\b\b\b\b\b\b\b\b\b\b\b\b\b\b\b\b\b\b\b\b\b\b\b\b\b\b\b\b\b\b\b\b\b\b\b\b\b\b\b\b\b\b\b\b\b\b\b\b\b\b\b\b\b\b\b\b\b\b\b\b\b 6/96 \r",
        "HERE OPTIM\t\n",
        "BEFORE FORWARD\t\n",
        "1\t\n"
       ]
      },
      {
       "metadata": {},
       "output_type": "pyout",
       "prompt_number": 413,
       "text": [
        "AFTER FORWARD\t\n",
        "NEO\t\n",
        " 4.5449\n",
        " 5.4553\n",
        "[torch.FloatTensor of dimension 2]\n",
        "\n",
        "1\t\n",
        "BLAH\t\n",
        " ** On entry to SGEMM  parameter number 10 had an illegal value\n"
       ]
      },
      {
       "metadata": {},
       "output_type": "pyout",
       "prompt_number": 413,
       "text": [
        " ** On entry to SGEMM  parameter number 10 had an illegal value\n"
       ]
      },
      {
       "metadata": {},
       "output_type": "pyout",
       "prompt_number": 413,
       "text": [
        "\r",
        " [====>........................................................................]                                                   \b\b\b\b\b\b\b\b\b\b\b\b\b\b\b\b\b\b\b\b\b\b\b\b\b\b\b\b\b\b\b\b\b\b\b\b\b\b\b\b\b\b\b\b\b\b\b\b\b\bETA: 3s405ms | Step: 38ms\b\b\b\b\b\b\b\b\b\b\b\b\b\b\b\b\b\b\b\b\b\b\b\b\b\b\b\b\b\b\b\b\b\b\b\b\b\b\b\b\b\b\b\b\b\b\b\b\b\b\b\b\b\b\b\b\b\b\b\b\b\b\b\b\b\b\b\b\b\b\b\b 7/96 \r",
        "HERE OPTIM\t\n",
        "BEFORE FORWARD\t\n",
        "1\t\n"
       ]
      },
      {
       "metadata": {},
       "output_type": "pyout",
       "prompt_number": 413,
       "text": [
        "AFTER FORWARD\t\n",
        "NEO\t\n",
        " 4.5994\n",
        " 5.4007\n",
        "[torch.FloatTensor of dimension 2]\n",
        "\n",
        "2\t\n",
        "BLAH\t\n"
       ]
      },
      {
       "metadata": {},
       "output_type": "pyout",
       "prompt_number": 413,
       "text": [
        " ** On entry to SGEMM  parameter number 10 had an illegal value\n"
       ]
      },
      {
       "metadata": {},
       "output_type": "pyout",
       "prompt_number": 413,
       "text": [
        " ** On entry to SGEMM  parameter number 10 had an illegal value\n"
       ]
      },
      {
       "metadata": {},
       "output_type": "pyout",
       "prompt_number": 413,
       "text": [
        "\r",
        " [=====>.................................................."
       ]
      },
      {
       "metadata": {},
       "output_type": "pyout",
       "prompt_number": 413,
       "text": [
        ".....................]                                                   \b\b\b\b\b\b\b\b\b\b\b\b\b\b\b\b\b\b\b\b\b\b\b\b\b\b\b\b\b\b\b\b\b\b\b\b\b\b\b\b\b\b\b\b\b\b\b\b\b\bETA: 9s88ms | Step: 103ms\b\b\b\b\b\b\b\b\b\b\b\b\b\b\b\b\b\b\b\b\b\b\b\b\b\b\b\b\b\b\b\b\b\b\b\b\b\b\b\b\b\b\b\b\b\b\b\b\b\b\b\b\b\b\b\b\b\b\b\b\b\b\b\b\b\b\b\b\b\b\b\b 8/96 \r",
        "HERE OPTIM\t\n",
        "BEFORE FORWARD\t\n",
        "1\t\n"
       ]
      },
      {
       "metadata": {},
       "output_type": "pyout",
       "prompt_number": 413,
       "text": [
        "AFTER FORWARD\t\n",
        "NEO\t\n",
        " 4.5545\n",
        " 5.4457\n",
        "[torch.FloatTensor of dimension 2]\n",
        "\n",
        "1\t\n"
       ]
      },
      {
       "metadata": {},
       "output_type": "pyout",
       "prompt_number": 413,
       "text": [
        "BLAH\t\n",
        " ** On entry to SGEMM  parameter number 10 had an illegal value\n",
        " ** On entry to SGEMM  parameter number 10 had an illegal value\n"
       ]
      },
      {
       "metadata": {},
       "output_type": "pyout",
       "prompt_number": 413,
       "text": [
        "\r",
        " [======>..............."
       ]
      },
      {
       "metadata": {},
       "output_type": "pyout",
       "prompt_number": 413,
       "text": [
        ".......................................................]                                                   \b\b\b\b\b\b\b\b\b\b\b\b\b\b\b\b\b\b\b\b\b\b\b\b\b\b\b\b\b\b\b\b\b\b\b\b\b\b\b\b\b\b\b\b\b\b\b\b\b\bETA: 8s58ms | Step: 92ms\b\b\b\b\b\b\b\b\b\b\b\b\b\b\b\b\b\b\b\b\b\b\b\b\b\b\b\b\b\b\b\b\b\b\b\b\b\b\b\b\b\b\b\b\b\b\b\b\b\b\b\b\b\b\b\b\b\b\b\b\b\b\b\b\b\b\b\b\b\b\b 9/96 \r",
        "HERE OPTIM\t\n",
        "BEFORE FORWARD\t\n",
        "1\t\n"
       ]
      },
      {
       "metadata": {},
       "output_type": "pyout",
       "prompt_number": 413,
       "text": [
        "AFTER FORWARD\t\n",
        "NEO\t\n"
       ]
      },
      {
       "metadata": {},
       "output_type": "pyout",
       "prompt_number": 413,
       "text": [
        " 4.6079\n",
        " 5.3922\n",
        "[torch.FloatTensor of dimension 2]\n",
        "\n",
        "1\t\n",
        "BLAH\t\n",
        " ** On entry to SGEMM  parameter number 10 had an illegal value\n"
       ]
      },
      {
       "metadata": {},
       "output_type": "pyout",
       "prompt_number": 413,
       "text": [
        " ** On entry to SGEMM  parameter number 10 had an illegal value\n"
       ]
      },
      {
       "metadata": {},
       "output_type": "pyout",
       "prompt_number": 413,
       "text": [
        "\r",
        " [=======>.....................................................................]                                                   \b\b\b\b\b\b\b\b\b\b\b\b\b\b\b\b\b\b\b\b\b\b\b\b\b\b\b\b\b\b\b\b\b\b\b\b\b\b\b\b\b\b\b\b\b\b\b\b\b\bETA: 7s144ms | Step: 83ms\b\b\b\b\b\b\b\b\b\b\b\b\b\b\b\b\b\b\b\b\b\b\b\b\b\b\b\b\b\b\b\b\b\b\b\b\b\b\b\b\b\b\b\b\b\b\b\b\b\b\b\b\b\b\b\b\b\b\b\b\b\b\b\b\b\b\b\b\b\b\b\b 10/96 "
       ]
      },
      {
       "metadata": {},
       "output_type": "pyout",
       "prompt_number": 413,
       "text": [
        "\r",
        "HERE OPTIM\t\n",
        "BEFORE FORWARD\t\n",
        "1\t\n"
       ]
      },
      {
       "metadata": {},
       "output_type": "pyout",
       "prompt_number": 413,
       "text": [
        "AFTER FORWARD\t\n",
        "NEO\t\n",
        " 4.6618\n",
        " 5.3383\n",
        "[torch.FloatTensor of dimension 2]\n",
        "\n",
        "1\t\n",
        "BLAH\t\n",
        " ** On entry to SGEMM  parameter number 10 had an illegal value\n"
       ]
      },
      {
       "metadata": {},
       "output_type": "pyout",
       "prompt_number": 413,
       "text": [
        " ** On entry to SGEMM  parameter number 10 had an illegal value\n"
       ]
      },
      {
       "metadata": {},
       "output_type": "pyout",
       "prompt_number": 413,
       "text": [
        "\r",
        " [=======>...................."
       ]
      },
      {
       "metadata": {},
       "output_type": "pyout",
       "prompt_number": 413,
       "text": [
        ".................................................]                                                   \b\b\b\b\b\b\b\b\b\b\b\b\b\b\b\b\b\b\b\b\b\b\b\b\b\b\b\b\b\b\b\b\b\b\b\b\b\b\b\b\b\b\b\b\b\b\b\b\b\bETA: 6s427ms | Step: 75ms\b\b\b\b\b\b\b\b\b\b\b\b\b\b\b\b\b\b\b\b\b\b\b\b\b\b\b\b\b\b\b\b\b\b\b\b\b\b\b\b\b\b\b\b\b\b\b\b\b\b\b\b\b\b\b\b\b\b\b\b\b\b\b\b\b\b\b\b\b\b\b\b 11/96 \r",
        "HERE OPTIM\t\n",
        "BEFORE FORWARD\t\n",
        "1\t\n"
       ]
      },
      {
       "metadata": {},
       "output_type": "pyout",
       "prompt_number": 413,
       "text": [
        "AFTER FORWARD\t\n",
        "NEO\t\n",
        " 4.7152\n",
        " 5.2849\n",
        "[torch.FloatTensor of dimension 2]\n",
        "\n",
        "2\t\n",
        "BLAH\t\n"
       ]
      },
      {
       "metadata": {},
       "output_type": "pyout",
       "prompt_number": 413,
       "text": [
        " ** On entry to SGEMM  parameter number 10 had an illegal value\n"
       ]
      },
      {
       "metadata": {},
       "output_type": "pyout",
       "prompt_number": 413,
       "text": [
        " ** On entry to SGEMM  parameter number 10 had an illegal value\n"
       ]
      },
      {
       "metadata": {},
       "output_type": "pyout",
       "prompt_number": 413,
       "text": [
        "\r",
        " [========>....................................................................]                                                   \b\b\b\b\b\b\b\b\b\b\b\b\b\b\b\b\b\b\b\b\b\b\b\b\b\b\b\b\b\b\b\b\b\b\b\b\b\b\b\b\b\b\b\b\b\b\b\b\b\bETA: 15s969ms | Step: 190ms\b\b\b\b\b\b\b\b\b\b\b\b\b\b\b\b\b\b\b\b\b\b\b\b\b\b\b\b\b\b\b\b\b\b\b\b\b\b\b\b\b\b\b\b\b\b\b\b\b\b\b\b\b\b\b\b\b\b\b\b\b\b\b\b\b\b\b\b\b\b\b\b\b\b 12/96 \r",
        "HERE OPTIM\t\n",
        "BEFORE FORWARD\t\n",
        "1\t\n"
       ]
      },
      {
       "metadata": {},
       "output_type": "pyout",
       "prompt_number": 413,
       "text": [
        "AFTER FORWARD\t\n",
        "NEO\t\n",
        " 4.6691\n",
        " 5.3312\n",
        "[torch.FloatTensor of dimension 2]\n",
        "\n",
        "2\t\n",
        "BLAH\t\n"
       ]
      },
      {
       "metadata": {},
       "output_type": "pyout",
       "prompt_number": 413,
       "text": [
        " ** On entry to SGEMM  parameter number 10 had an illegal value\n"
       ]
      },
      {
       "metadata": {},
       "output_type": "pyout",
       "prompt_number": 413,
       "text": [
        " ** On entry to SGEMM  parameter number 10 had an illegal value\n"
       ]
      },
      {
       "metadata": {},
       "output_type": "pyout",
       "prompt_number": 413,
       "text": [
        "\r"
       ]
      },
      {
       "metadata": {},
       "output_type": "pyout",
       "prompt_number": 413,
       "text": [
        " [=========>...................................................................]                                                   \b\b\b\b\b\b\b\b\b\b\b\b\b\b\b\b\b\b\b\b\b\b\b\b\b\b\b\b\b\b\b\b\b\b\b\b\b\b\b\b\b\b\b\b\b\b\b\b\b\bETA: 15s861ms | Step: 191ms\b\b\b\b\b\b\b\b\b\b\b\b\b\b\b\b\b\b\b\b\b\b\b\b\b\b\b\b\b\b\b\b\b\b\b\b\b\b\b\b\b\b\b\b\b\b\b\b\b\b\b\b\b\b\b\b\b\b\b\b\b\b\b\b\b\b\b\b\b\b\b\b\b\b 13/96 \r",
        "HERE OPTIM\t\n",
        "BEFORE FORWARD\t\n",
        "1\t\n"
       ]
      },
      {
       "metadata": {},
       "output_type": "pyout",
       "prompt_number": 413,
       "text": [
        "AFTER FORWARD\t\n",
        "NEO\t\n",
        " 4.6224\n",
        " 5.3779\n",
        "[torch.FloatTensor of dimension 2]\n",
        "\n",
        "2\t\n",
        "BLAH\t\n",
        " ** On entry to SGEMM  parameter number 10 had an illegal value\n"
       ]
      },
      {
       "metadata": {},
       "output_type": "pyout",
       "prompt_number": 413,
       "text": [
        " ** On entry to SGEMM  parameter number 10 had an illegal value\n"
       ]
      },
      {
       "metadata": {},
       "output_type": "pyout",
       "prompt_number": 413,
       "text": [
        "\r",
        " [==========>..................................................................]                                                   \b\b\b\b\b\b\b\b\b\b\b\b\b\b\b\b\b\b\b\b\b\b\b\b\b\b\b\b\b\b\b\b\b\b\b\b\b\b\b\b\b\b\b\b\b\b\b\b\b\bETA: 14s682ms | Step: 179ms\b\b\b\b\b\b\b\b\b\b\b\b\b\b\b\b\b\b\b\b\b\b\b\b\b\b\b\b\b\b"
       ]
      },
      {
       "metadata": {},
       "output_type": "pyout",
       "prompt_number": 413,
       "text": [
        "\b\b\b\b\b\b\b\b\b\b\b\b\b\b\b\b\b\b\b\b\b\b\b\b\b\b\b\b\b\b\b\b\b\b\b\b\b\b\b\b\b\b\b\b 14/96 \r",
        "HERE OPTIM\t\n",
        "BEFORE FORWARD\t\n",
        "1\t\n"
       ]
      },
      {
       "metadata": {},
       "output_type": "pyout",
       "prompt_number": 413,
       "text": [
        "AFTER FORWARD\t\n",
        "NEO\t\n",
        " 4.5762\n",
        " 5.4241\n",
        "[torch.FloatTensor of dimension 2]\n",
        "\n",
        "2\t\n",
        "BLAH\t\n"
       ]
      },
      {
       "metadata": {},
       "output_type": "pyout",
       "prompt_number": 413,
       "text": [
        " ** On entry to SGEMM  parameter number 10 had an illegal value\n"
       ]
      },
      {
       "metadata": {},
       "output_type": "pyout",
       "prompt_number": 413,
       "text": [
        " ** On entry to SGEMM  parameter number 10 had an illegal value\n"
       ]
      },
      {
       "metadata": {},
       "output_type": "pyout",
       "prompt_number": 413,
       "text": [
        "\r",
        " [===========>.................................................................]                                                   \b\b\b\b\b\b\b\b\b\b\b\b\b\b\b\b\b\b\b\b\b\b\b\b\b\b\b\b\b\b\b\b\b\b\b\b\b\b\b\b\b\b\b\b\b\b\b\b\b\bETA: 13s832ms | Step: 170ms\b\b\b\b\b\b\b\b\b\b\b\b\b\b\b\b\b\b\b\b\b\b\b\b\b\b\b\b\b\b\b\b\b\b\b\b\b\b\b\b\b\b\b\b\b\b\b\b\b\b\b\b\b\b\b\b\b\b\b\b\b\b\b\b\b\b\b\b\b\b\b\b\b\b 15/96 \r",
        "HERE OPTIM\t\n",
        "BEFORE FORWARD\t\n",
        "1\t\n"
       ]
      },
      {
       "metadata": {},
       "output_type": "pyout",
       "prompt_number": 413,
       "text": [
        "AFTER FORWARD\t\n",
        "NEO\t\n",
        " 4.5304\n",
        " 5.4699\n",
        "[torch.FloatTensor of dimension 2]\n",
        "\n",
        "1\t\n",
        "BLAH\t\n",
        " ** On entry to SGEMM  parameter number 10 had an illegal value\n"
       ]
      },
      {
       "metadata": {},
       "output_type": "pyout",
       "prompt_number": 413,
       "text": [
        " ** On entry to SGEMM  parameter number 10 had an illegal value\n"
       ]
      },
      {
       "metadata": {},
       "output_type": "pyout",
       "prompt_number": 413,
       "text": [
        "\r",
        " [===========>.................................................................]                                                   \b\b\b\b\b\b\b\b\b\b\b\b\b\b\b\b\b\b\b\b\b\b\b\b\b\b\b\b\b\b\b\b\b\b\b\b\b\b\b\b\b\b\b\b\b\b\b\b\b\b"
       ]
      },
      {
       "metadata": {},
       "output_type": "pyout",
       "prompt_number": 413,
       "text": [
        "ETA: 12s896ms | Step: 161ms\b\b\b\b\b\b\b\b\b\b\b\b\b\b\b\b\b\b\b\b\b\b\b\b\b\b\b\b\b\b\b\b\b\b\b\b\b\b\b\b\b\b\b\b\b\b\b\b\b\b\b\b\b\b\b\b\b\b\b\b\b\b\b\b\b\b\b\b\b\b\b\b\b\b 16/96 \r",
        "HERE OPTIM\t\n",
        "BEFORE FORWARD\t\n",
        "1\t\n"
       ]
      },
      {
       "metadata": {},
       "output_type": "pyout",
       "prompt_number": 413,
       "text": [
        "AFTER FORWARD\t\n",
        "NEO\t\n",
        " 4.5841\n",
        " 5.4162\n",
        "[torch.FloatTensor of dimension 2]\n",
        "\n",
        "1\t\n",
        "BLAH\t\n",
        " ** On entry to SGEMM  parameter number 10 had an illegal value\n"
       ]
      },
      {
       "metadata": {},
       "output_type": "pyout",
       "prompt_number": 413,
       "text": [
        " ** On entry to SGEMM  parameter number 10 had an illegal value\n"
       ]
      },
      {
       "metadata": {},
       "output_type": "pyout",
       "prompt_number": 413,
       "text": [
        "\r",
        " [============>................................................................]                                                   \b\b\b\b\b\b\b\b\b\b\b\b\b\b\b\b\b\b\b\b\b\b\b\b\b\b\b\b\b\b\b\b\b\b\b\b\b\b\b\b\b\b\b\b\b\b\b\b\b\bETA: 11s990ms | Step: 151ms\b\b\b\b\b\b\b\b\b\b\b\b\b\b\b\b\b\b\b\b\b\b\b\b\b\b\b\b\b\b\b\b\b\b\b\b\b\b\b\b\b\b\b\b\b\b\b\b\b\b\b\b\b\b\b\b\b\b\b\b\b\b\b\b\b\b\b\b\b\b\b\b\b\b 17/96 \r",
        "HERE OPTIM\t\n",
        "BEFORE FORWARD\t\n",
        "1\t\n"
       ]
      },
      {
       "metadata": {},
       "output_type": "pyout",
       "prompt_number": 413,
       "text": [
        "AFTER FORWARD\t\n",
        "NEO\t\n",
        " 4.6382\n",
        " 5.3620\n",
        "[torch.FloatTensor of dimension 2]\n",
        "\n",
        "1\t\n",
        "BLAH\t\n",
        " ** On entry to SGEMM  parameter number 10 had an illegal value\n"
       ]
      },
      {
       "metadata": {},
       "output_type": "pyout",
       "prompt_number": 413,
       "text": [
        " ** On entry to SGEMM  parameter number 10 had an illegal value\n"
       ]
      },
      {
       "metadata": {},
       "output_type": "pyout",
       "prompt_number": 413,
       "text": [
        "\r",
        " [=============>...............................................................]                                                   \b\b\b\b\b\b\b\b\b\b\b\b\b\b\b\b\b\b\b\b\b\b\b\b\b\b\b\b\b\b\b\b\b\b\b\b\b\b\b\b\b\b\b\b\b\b\b\b\b\bETA: 11s177ms | Step: 143ms\b\b\b\b\b\b\b\b\b\b\b\b\b\b\b\b\b\b\b\b\b\b\b\b\b\b\b\b\b\b\b\b\b\b\b\b\b\b\b\b\b\b\b\b\b\b\b\b\b\b\b\b\b\b\b\b\b\b\b\b\b\b\b\b\b\b\b\b\b\b\b\b\b\b 18/96 \r",
        "HERE OPTIM\t\n",
        "BEFORE FORWARD\t\n",
        "1\t\n"
       ]
      },
      {
       "metadata": {},
       "output_type": "pyout",
       "prompt_number": 413,
       "text": [
        "AFTER FORWARD\t\n",
        "NEO\t\n",
        " 4.6919\n",
        " 5.3084\n",
        "[torch.FloatTensor of dimension 2]\n",
        "\n",
        "2\t\n",
        "BLAH\t\n"
       ]
      },
      {
       "metadata": {},
       "output_type": "pyout",
       "prompt_number": 413,
       "text": [
        " ** On entry to SGEMM  parameter number 10 had an illegal value\n"
       ]
      },
      {
       "metadata": {},
       "output_type": "pyout",
       "prompt_number": 413,
       "text": [
        " ** On entry to SGEMM  parameter number 10 had an illegal value\n"
       ]
      },
      {
       "metadata": {},
       "output_type": "pyout",
       "prompt_number": 413,
       "text": [
        "\r",
        " [==============>..............................................................]                                                   \b\b\b\b\b\b\b\b\b\b\b\b\b\b\b\b\b\b\b\b\b\b\b\b\b\b\b\b\b\b\b\b\b\b\b\b\b\b\b\b\b\b\b\b\b\b\b\b\b\bETA: 12s67ms | Step: 156ms\b\b\b\b\b\b\b\b\b\b\b\b\b\b\b\b\b\b\b\b\b\b\b\b\b\b\b\b\b\b\b\b\b\b\b\b\b\b\b\b\b\b\b\b\b\b\b\b\b\b\b\b\b\b\b\b\b\b\b\b\b\b\b\b\b\b\b\b\b\b\b\b\b 19/96 \r",
        "HERE OPTIM\t\n",
        "BEFORE FORWARD\t\n",
        "1\t\n"
       ]
      },
      {
       "metadata": {},
       "output_type": "pyout",
       "prompt_number": 413,
       "text": [
        "AFTER FORWARD\t\n",
        "NEO\t\n",
        " 4.6459\n",
        " 5.3543\n",
        "[torch.FloatTensor of dimension 2]\n",
        "\n",
        "1\t\n",
        "BLAH\t\n",
        " ** On entry to SGEMM  parameter number 10 had an illegal value\n"
       ]
      },
      {
       "metadata": {},
       "output_type": "pyout",
       "prompt_number": 413,
       "text": [
        " ** On entry to SGEMM  parameter number 10 had an illegal value\n"
       ]
      },
      {
       "metadata": {},
       "output_type": "pyout",
       "prompt_number": 413,
       "text": [
        "\r",
        " [===============>.............................................................]                                                   \b\b\b\b\b\b\b\b\b\b\b\b\b\b\b\b\b\b\b\b\b\b\b\b\b\b\b\b\b\b\b\b\b\b\b\b\b\b\b\b\b\b\b\b\b\b\b\b\b\bETA: 11s332ms | Step: 149ms\b\b\b\b\b\b\b\b\b\b\b\b\b\b\b\b\b\b\b\b\b\b\b\b\b\b\b\b\b\b\b\b\b\b\b\b\b\b\b\b\b\b\b\b\b\b\b\b\b\b\b\b\b\b\b\b\b\b\b\b\b\b\b\b\b\b\b\b\b\b\b\b\b\b 20/96 \r",
        "HERE OPTIM\t\n",
        "BEFORE FORWARD\t\n",
        "1\t\n"
       ]
      },
      {
       "metadata": {},
       "output_type": "pyout",
       "prompt_number": 413,
       "text": [
        "AFTER FORWARD\t\n",
        "NEO\t\n",
        " 4.6985\n",
        " 5.3017\n",
        "[torch.FloatTensor of dimension 2]\n",
        "\n",
        "2\t\n",
        "BLAH\t\n"
       ]
      },
      {
       "metadata": {},
       "output_type": "pyout",
       "prompt_number": 413,
       "text": [
        " ** On entry to SGEMM  parameter number 10 had an illegal value\n"
       ]
      },
      {
       "metadata": {},
       "output_type": "pyout",
       "prompt_number": 413,
       "text": [
        " ** On entry to SGEMM  parameter number 10 had an illegal value\n"
       ]
      },
      {
       "metadata": {},
       "output_type": "pyout",
       "prompt_number": 413,
       "text": [
        "\r",
        " [===============>.............................................................]                                                   \b\b\b\b\b\b\b\b\b\b\b\b\b\b\b\b\b\b\b\b\b\b\b\b\b\b\b\b\b\b\b\b\b\b\b\b\b\b\b\b\b\b\b\b\b\b\b\b\b\bETA: 10s904ms | Step: 145ms\b\b\b\b\b\b\b\b\b\b\b\b\b\b\b\b\b\b\b\b\b\b\b\b\b\b\b\b\b\b\b\b\b\b\b\b\b\b\b\b\b\b\b\b\b\b\b\b\b\b\b\b\b\b\b\b\b\b\b\b\b\b\b\b\b\b\b\b\b\b\b\b\b\b 21/96 \r",
        "HERE OPTIM\t\n",
        "BEFORE FORWARD\t\n",
        "1\t\n"
       ]
      },
      {
       "metadata": {},
       "output_type": "pyout",
       "prompt_number": 413,
       "text": [
        "AFTER FORWARD\t\n",
        "NEO\t\n",
        " 4.6525\n",
        " 5.3477\n",
        "[torch.FloatTensor of dimension 2]\n",
        "\n",
        "1\t\n",
        "BLAH\t\n",
        " ** On entry to SGEMM  parameter number 10 had an illegal value\n"
       ]
      },
      {
       "metadata": {},
       "output_type": "pyout",
       "prompt_number": 413,
       "text": [
        " ** On entry to SGEMM  parameter number 10 had an illegal value\n"
       ]
      },
      {
       "metadata": {},
       "output_type": "pyout",
       "prompt_number": 413,
       "text": [
        "\r",
        " [================>............................................................]                                                   \b\b\b\b\b\b\b\b\b\b\b\b\b\b\b\b\b\b\b\b\b\b\b\b\b\b\b\b\b\b\b\b\b\b\b\b\b\b\b\b\b\b\b\b\b\b\b\b\b\bETA: 10s275ms | Step: 138ms\b\b\b\b\b\b\b\b\b\b\b\b\b\b\b\b\b\b\b\b\b\b\b\b\b\b\b\b\b\b\b\b\b\b\b\b\b\b\b\b\b\b\b\b\b\b\b\b\b\b\b\b\b\b\b\b\b\b\b\b\b\b\b\b\b\b\b\b\b\b\b\b\b\b 22/96 \r",
        "HERE OPTIM\t\n",
        "BEFORE FORWARD\t\n",
        "1\t\n"
       ]
      },
      {
       "metadata": {},
       "output_type": "pyout",
       "prompt_number": 413,
       "text": [
        "AFTER FORWARD\t\n",
        "NEO\t\n",
        " 4.7050\n",
        " 5.2953\n",
        "[torch.FloatTensor of dimension 2]\n",
        "\n",
        "2\t\n",
        "BLAH\t\n"
       ]
      },
      {
       "metadata": {},
       "output_type": "pyout",
       "prompt_number": 413,
       "text": [
        " ** On entry to SGEMM  parameter number 10 had an illegal value\n"
       ]
      },
      {
       "metadata": {},
       "output_type": "pyout",
       "prompt_number": 413,
       "text": [
        " ** On entry to SGEMM  parameter number 10 had an illegal value\n"
       ]
      },
      {
       "metadata": {},
       "output_type": "pyout",
       "prompt_number": 413,
       "text": [
        "\r",
        " [=================>...........................................................]                                                   \b\b\b\b\b\b\b\b\b\b\b\b\b\b\b\b\b\b\b\b\b\b\b\b\b\b\b\b\b\b\b\b\b\b\b\b\b\b\b\b\b\b\b\b\b\b\b\b\b\b"
       ]
      },
      {
       "metadata": {},
       "output_type": "pyout",
       "prompt_number": 413,
       "text": [
        "ETA: 10s175ms | Step: 139ms\b\b\b\b\b\b\b\b\b\b\b\b\b\b\b\b\b\b\b\b\b\b\b\b\b\b\b\b\b\b\b\b\b\b\b\b\b\b\b\b\b\b\b\b\b\b\b\b\b\b\b\b\b\b\b\b\b\b\b\b\b\b\b\b\b\b\b\b\b\b\b\b\b\b 23/96 \r",
        "HERE OPTIM\t\n",
        "BEFORE FORWARD\t\n",
        "1\t\n"
       ]
      },
      {
       "metadata": {},
       "output_type": "pyout",
       "prompt_number": 413,
       "text": [
        "AFTER FORWARD\t\n",
        "NEO\t\n",
        " 4.6589\n",
        " 5.3413\n",
        "[torch.FloatTensor of dimension 2]\n",
        "\n",
        "2\t\n",
        "BLAH\t\n"
       ]
      },
      {
       "metadata": {},
       "output_type": "pyout",
       "prompt_number": 413,
       "text": [
        " ** On entry to SGEMM  parameter number 10 had an illegal value\n"
       ]
      },
      {
       "metadata": {},
       "output_type": "pyout",
       "prompt_number": 413,
       "text": [
        " ** On entry to SGEMM  parameter number 10 had an illegal value\n"
       ]
      },
      {
       "metadata": {},
       "output_type": "pyout",
       "prompt_number": 413,
       "text": [
        "\r",
        " [==================>..........................................................]                                                   \b\b\b\b\b\b\b\b\b\b\b\b\b\b\b\b\b\b\b\b\b\b\b\b\b\b\b\b\b\b\b\b\b\b\b\b\b\b\b\b\b\b\b\b\b\b\b\b\b\bETA: 10s753ms | Step: 149ms\b\b\b\b\b\b\b\b\b\b\b\b\b\b\b\b\b\b\b\b\b\b\b\b\b\b\b\b\b\b\b\b\b\b\b\b\b\b\b\b\b\b\b\b\b\b\b\b\b\b\b\b\b\b\b\b\b\b\b\b\b\b\b\b\b\b\b\b\b\b\b\b\b\b 24/96 \r",
        "HERE OPTIM\t\n",
        "BEFORE FORWARD\t\n",
        "1\t\n"
       ]
      },
      {
       "metadata": {},
       "output_type": "pyout",
       "prompt_number": 413,
       "text": [
        "AFTER FORWARD\t\n",
        "NEO\t\n",
        " 4.6123\n",
        " 5.3880\n",
        "[torch.FloatTensor of dimension 2]\n",
        "\n",
        "2\t\n",
        "BLAH\t\n"
       ]
      },
      {
       "metadata": {},
       "output_type": "pyout",
       "prompt_number": 413,
       "text": [
        " ** On entry to SGEMM  parameter number 10 had an illegal value\n"
       ]
      },
      {
       "metadata": {},
       "output_type": "pyout",
       "prompt_number": 413,
       "text": [
        " ** On entry to SGEMM  parameter number 10 had an illegal value\n"
       ]
      },
      {
       "metadata": {},
       "output_type": "pyout",
       "prompt_number": 413,
       "text": [
        "\r",
        " [===================>.........................................................]                                                   \b\b\b\b\b\b\b\b\b\b\b\b\b\b\b\b\b\b\b\b\b\b\b\b\b\b\b\b\b\b\b\b\b\b\b\b\b\b\b\b\b\b\b\b\b\b\b\b\b\bETA: 11s505ms | Step: 162ms\b\b\b\b\b\b\b\b\b\b\b\b\b\b\b\b\b\b\b\b\b\b\b\b\b\b\b\b\b\b\b\b\b\b\b\b\b\b\b\b\b\b\b\b\b\b\b\b\b\b\b\b\b\b\b\b\b\b\b\b\b\b\b\b\b\b\b\b\b\b\b\b\b\b 25/96 \r",
        "HERE OPTIM\t\n",
        "BEFORE FORWARD\t\n",
        "1\t\n"
       ]
      },
      {
       "metadata": {},
       "output_type": "pyout",
       "prompt_number": 413,
       "text": [
        "AFTER FORWARD\t\n",
        "NEO\t\n",
        " 4.5662\n",
        " 5.4340\n",
        "[torch.FloatTensor of dimension 2]\n",
        "\n",
        "2\t\n",
        "BLAH\t\n"
       ]
      },
      {
       "metadata": {},
       "output_type": "pyout",
       "prompt_number": 413,
       "text": [
        " ** On entry to SGEMM  parameter number 10 had an illegal value\n"
       ]
      },
      {
       "metadata": {},
       "output_type": "pyout",
       "prompt_number": 413,
       "text": [
        " ** On entry to SGEMM  parameter number 10 had an illegal value\n"
       ]
      },
      {
       "metadata": {},
       "output_type": "pyout",
       "prompt_number": 413,
       "text": [
        "\r",
        " [===================>.........................................................]                                                   \b\b\b\b\b\b\b\b\b\b\b\b\b\b\b\b\b\b\b\b\b\b\b\b\b\b\b\b\b\b\b\b\b\b\b\b\b\b\b\b\b\b\b\b\b\b\b\b\b\bETA: 12s679ms | Step: 181ms\b\b\b\b\b\b\b\b\b\b\b\b\b\b\b\b\b\b\b\b\b\b\b\b\b\b\b\b\b\b\b\b\b\b\b\b\b\b\b\b\b\b\b\b\b\b\b\b\b\b\b\b\b\b\b\b\b\b\b\b\b\b\b\b\b\b\b\b\b\b\b\b\b\b 26/96 \r",
        "HERE OPTIM\t\n",
        "BEFORE FORWARD\t\n",
        "1\t\n"
       ]
      },
      {
       "metadata": {},
       "output_type": "pyout",
       "prompt_number": 413,
       "text": [
        "AFTER FORWARD\t\n",
        "NEO\t\n",
        " 4.5206\n",
        " 5.4796\n",
        "[torch.FloatTensor of dimension 2]\n",
        "\n",
        "2\t\n",
        "BLAH\t\n",
        " ** On entry to SGEMM  parameter number 10 had an illegal value\n"
       ]
      },
      {
       "metadata": {},
       "output_type": "pyout",
       "prompt_number": 413,
       "text": [
        " ** On entry to SGEMM  parameter number 10 had an illegal value\n"
       ]
      },
      {
       "metadata": {},
       "output_type": "pyout",
       "prompt_number": 413,
       "text": [
        "\r",
        " [====================>....."
       ]
      },
      {
       "metadata": {},
       "output_type": "pyout",
       "prompt_number": 413,
       "text": [
        "...................................................]                                                   \b\b\b\b\b\b\b\b\b\b\b\b\b\b\b\b\b\b\b\b\b\b\b\b\b\b\b\b\b\b\b\b\b\b\b\b\b\b\b\b\b\b\b\b\b\b\b\b\b\bETA: 12s186ms | Step: 176ms\b\b\b\b\b\b\b\b\b\b\b\b\b\b\b\b\b\b\b\b\b\b\b\b\b\b\b\b\b\b\b\b\b\b\b\b\b\b\b\b\b\b\b\b\b\b\b\b\b\b\b\b\b\b\b\b\b\b\b\b\b\b\b\b\b\b\b\b\b\b\b\b\b\b 27/96 \r",
        "HERE OPTIM\t\n",
        "BEFORE FORWARD\t\n",
        "1\t\n"
       ]
      },
      {
       "metadata": {},
       "output_type": "pyout",
       "prompt_number": 413,
       "text": [
        "AFTER FORWARD\t\n",
        "NEO\t\n",
        " 4.4753\n",
        " 5.5249\n",
        "[torch.FloatTensor of dimension 2]\n",
        "\n",
        "2\t\n",
        "BLAH\t\n"
       ]
      },
      {
       "metadata": {},
       "output_type": "pyout",
       "prompt_number": 413,
       "text": [
        " ** On entry to SGEMM  parameter number 10 had an illegal value\n"
       ]
      },
      {
       "metadata": {},
       "output_type": "pyout",
       "prompt_number": 413,
       "text": [
        " ** On entry to SGEMM  parameter number 10 had an illegal value\n"
       ]
      },
      {
       "metadata": {},
       "output_type": "pyout",
       "prompt_number": 413,
       "text": [
        "\r",
        " [=====================>.......................................................]                                                   \b\b\b\b\b\b\b\b\b\b\b\b\b\b\b\b\b\b\b\b\b\b\b\b\b\b\b\b\b\b\b\b\b\b\b\b\b\b\b\b\b\b\b\b\b\b\b\b\b\bETA: 11s700ms | Step: 172ms\b\b\b\b\b\b\b\b\b\b\b\b\b\b\b\b\b\b\b\b\b\b\b\b\b\b\b\b\b\b\b\b\b\b\b\b\b\b\b\b\b\b\b\b\b\b\b\b\b\b\b\b\b\b\b\b\b\b\b\b\b\b\b\b\b\b\b\b\b\b\b\b\b\b 28/96 \r",
        "HERE OPTIM\t\n",
        "BEFORE FORWARD\t\n",
        "1\t\n"
       ]
      },
      {
       "metadata": {},
       "output_type": "pyout",
       "prompt_number": 413,
       "text": [
        "AFTER FORWARD\t\n",
        "NEO\t\n",
        " 4.4306\n",
        " 5.5696\n",
        "[torch.FloatTensor of dimension 2]\n",
        "\n",
        "2\t\n",
        "BLAH\t\n"
       ]
      },
      {
       "metadata": {},
       "output_type": "pyout",
       "prompt_number": 413,
       "text": [
        " ** On entry to SGEMM  parameter number 10 had an illegal value\n"
       ]
      },
      {
       "metadata": {},
       "output_type": "pyout",
       "prompt_number": 413,
       "text": [
        " ** On entry to SGEMM  parameter number 10 had an illegal value\n"
       ]
      },
      {
       "metadata": {},
       "output_type": "pyout",
       "prompt_number": 413,
       "text": [
        "\r",
        " [======================>......................................................]                                                   \b\b\b\b\b\b\b\b\b\b\b\b\b\b\b\b\b\b\b\b\b\b\b\b\b\b\b\b\b\b\b\b\b\b\b\b\b\b\b\b\b\b\b\b\b\b\b\b\b\bETA: 12s282ms | Step: 183ms\b\b\b\b\b\b\b\b\b\b\b\b\b\b\b\b\b\b\b\b\b\b\b\b\b\b\b\b\b\b\b\b\b\b\b\b\b\b\b\b\b\b\b\b\b\b\b\b\b\b\b\b\b\b\b\b\b\b\b\b\b\b\b\b\b\b\b\b\b\b\b\b\b\b 29/96 \r",
        "HERE OPTIM\t\n"
       ]
      },
      {
       "metadata": {},
       "output_type": "pyout",
       "prompt_number": 413,
       "text": [
        "BEFORE FORWARD\t\n",
        "1\t\n"
       ]
      },
      {
       "metadata": {},
       "output_type": "pyout",
       "prompt_number": 413,
       "text": [
        "AFTER FORWARD\t\n",
        "NEO\t\n",
        " 4.3863\n",
        " 5.6139\n",
        "[torch.FloatTensor of dimension 2]\n",
        "\n",
        "1\t\n",
        "BLAH\t\n",
        " ** On entry to SGEMM  parameter number 10 had an illegal value\n"
       ]
      },
      {
       "metadata": {},
       "output_type": "pyout",
       "prompt_number": 413,
       "text": [
        " ** On entry to SGEMM  parameter number 10 had an illegal value\n"
       ]
      },
      {
       "metadata": {},
       "output_type": "pyout",
       "prompt_number": 413,
       "text": [
        "\r",
        " [=======================>.....................................................]                                                   \b\b\b\b\b\b\b\b\b\b\b\b\b\b\b\b\b\b\b\b\b\b\b\b\b\b\b\b\b\b\b\b\b\b\b\b\b\b\b\b\b\b\b\b\b\b\b\b\b\bETA: 11s721ms | Step: 177ms\b\b\b\b\b"
       ]
      },
      {
       "metadata": {},
       "output_type": "pyout",
       "prompt_number": 413,
       "text": [
        "\b\b\b\b\b\b\b\b\b\b\b\b\b\b\b\b\b\b\b\b\b\b\b\b\b\b\b\b\b\b\b\b\b\b\b\b\b\b\b\b\b\b\b\b\b\b\b\b\b\b\b\b\b\b\b\b\b\b\b\b\b\b\b\b\b\b\b\b\b 30/96 \r",
        "HERE OPTIM\t\n",
        "BEFORE FORWARD\t\n",
        "1\t\n"
       ]
      },
      {
       "metadata": {},
       "output_type": "pyout",
       "prompt_number": 413,
       "text": [
        "AFTER FORWARD\t\n",
        "NEO\t\n",
        " 4.4414\n",
        " 5.5588\n",
        "[torch.FloatTensor of dimension 2]\n",
        "\n",
        "1\t\n",
        "BLAH\t\n",
        " ** On entry to SGEMM  parameter number 10 had an illegal value\n"
       ]
      },
      {
       "metadata": {},
       "output_type": "pyout",
       "prompt_number": 413,
       "text": [
        " ** On entry to SGEMM  parameter number 10 had an illegal value\n"
       ]
      },
      {
       "metadata": {},
       "output_type": "pyout",
       "prompt_number": 413,
       "text": [
        "\r",
        " [=======================>.....................................................]                                                   \b\b\b\b\b\b\b\b\b\b\b\b\b\b\b\b\b\b\b\b\b\b\b\b\b\b\b\b\b\b\b\b\b\b\b\b\b\b\b\b\b\b\b\b\b\b\b\b\b\bETA: 11s182ms | Step: 172ms\b\b\b\b\b\b\b\b\b\b\b\b\b\b\b\b\b\b\b\b\b\b\b\b\b\b\b\b\b\b\b\b\b\b\b\b\b\b\b\b\b\b\b\b\b\b\b\b\b\b\b\b\b\b\b\b\b\b\b\b\b\b\b\b\b\b\b\b\b\b\b\b\b\b 31/96 \r",
        "HERE OPTIM\t\n",
        "BEFORE FORWARD\t\n",
        "1\t\n"
       ]
      },
      {
       "metadata": {},
       "output_type": "pyout",
       "prompt_number": 413,
       "text": [
        "AFTER FORWARD\t\n",
        "NEO\t\n",
        " 4.4970\n",
        " 5.5032\n",
        "[torch.FloatTensor of dimension 2]\n",
        "\n",
        "2\t\n",
        "BLAH\t\n"
       ]
      },
      {
       "metadata": {},
       "output_type": "pyout",
       "prompt_number": 413,
       "text": [
        " ** On entry to SGEMM  parameter number 10 had an illegal value\n"
       ]
      },
      {
       "metadata": {},
       "output_type": "pyout",
       "prompt_number": 413,
       "text": [
        " ** On entry to SGEMM  parameter number 10 had an illegal value\n"
       ]
      },
      {
       "metadata": {},
       "output_type": "pyout",
       "prompt_number": 413,
       "text": [
        "\r",
        " [========================>....................................................]                                                   \b\b\b\b\b\b\b\b\b\b\b\b\b\b\b\b\b\b\b\b\b\b\b\b\b\b\b\b\b\b\b\b\b\b\b\b\b\b\b\b\b\b\b\b\b\b\b\b\b\bETA: 10s791ms | Step: 168ms\b\b\b\b\b\b\b\b\b\b\b\b\b\b\b\b\b\b\b\b\b\b\b\b\b\b\b\b\b\b\b\b\b\b\b\b\b\b\b\b\b\b\b\b\b\b\b\b\b\b\b\b\b\b\b\b\b\b\b\b\b\b\b\b\b\b\b\b\b\b\b\b\b\b 32/96 \r",
        "HERE OPTIM\t\n",
        "BEFORE FORWARD\t\n",
        "1\t\n"
       ]
      },
      {
       "metadata": {},
       "output_type": "pyout",
       "prompt_number": 413,
       "text": [
        "AFTER FORWARD\t\n",
        "NEO\t\n",
        " 4.4530\n",
        " 5.5472\n",
        "[torch.FloatTensor of dimension 2]\n",
        "\n",
        "2\t\n",
        "BLAH\t\n",
        " ** On entry to SGEMM  parameter number 10 had an illegal value\n"
       ]
      },
      {
       "metadata": {},
       "output_type": "pyout",
       "prompt_number": 413,
       "text": [
        " ** On entry to SGEMM  parameter number 10 had an illegal value\n"
       ]
      },
      {
       "metadata": {},
       "output_type": "pyout",
       "prompt_number": 413,
       "text": [
        "\r",
        " [=========================>...................................................]                                                   \b\b\b\b\b\b\b\b\b\b\b\b\b\b\b\b\b\b\b\b\b\b\b\b\b\b\b\b\b\b\b\b\b\b\b\b\b\b\b\b\b\b\b\b\b\b\b\b\b\bETA: 10s547ms | Step: 167ms\b\b\b\b\b\b\b\b\b\b\b\b\b\b\b\b\b\b\b\b\b\b\b\b\b\b\b\b\b\b\b\b\b\b\b\b\b\b\b\b\b\b\b\b\b\b\b\b\b\b\b\b\b\b\b\b\b\b\b\b\b\b\b\b\b\b\b\b\b\b\b\b\b\b 33/96 \r",
        "HERE OPTIM\t\n",
        "BEFORE FORWARD\t\n",
        "1\t\n"
       ]
      },
      {
       "metadata": {},
       "output_type": "pyout",
       "prompt_number": 413,
       "text": [
        "AFTER FORWARD\t\n",
        "NEO\t\n",
        " 4.4085\n",
        " 5.5917\n",
        "[torch.FloatTensor of dimension 2]\n",
        "\n",
        "2\t\n",
        "BLAH\t\n",
        " ** On entry to SGEMM  parameter number 10 had an illegal value\n"
       ]
      },
      {
       "metadata": {},
       "output_type": "pyout",
       "prompt_number": 413,
       "text": [
        " ** On entry to SGEMM  parameter number 10 had an illegal value\n"
       ]
      },
      {
       "metadata": {},
       "output_type": "pyout",
       "prompt_number": 413,
       "text": [
        "\r",
        " [==========================>..................................................]                                                   \b\b\b\b\b\b\b\b\b\b\b\b\b\b\b\b\b\b\b\b\b\b\b\b\b\b\b\b\b\b\b\b\b\b\b\b\b\b\b\b\b\b\b\b\b\b\b\b\b\bETA: 10s273ms | Step: 165ms\b\b\b\b\b\b\b\b\b\b\b\b\b\b\b\b\b\b\b\b\b\b\b\b\b\b\b\b\b\b\b\b\b\b\b\b\b\b\b\b\b\b\b\b\b\b\b\b\b\b\b\b\b\b\b\b\b\b\b\b\b\b\b\b\b\b\b\b\b\b\b\b\b\b 34/96 \r",
        "HERE OPTIM\t\n",
        "BEFORE FORWARD\t\n",
        "1\t\n"
       ]
      },
      {
       "metadata": {},
       "output_type": "pyout",
       "prompt_number": 413,
       "text": [
        "AFTER FORWARD\t\n",
        "NEO\t\n",
        " 4.3644\n",
        " 5.6358\n",
        "[torch.FloatTensor of dimension 2]\n",
        "\n",
        "1\t\n",
        "BLAH\t\n",
        " ** On entry to SGEMM  parameter number 10 had an illegal value\n",
        " ** On entry to SGEMM  parameter number 10 had an illegal value\n"
       ]
      },
      {
       "metadata": {},
       "output_type": "pyout",
       "prompt_number": 413,
       "text": [
        "\r",
        " [===========================>.................................................]                                                   \b\b\b\b\b\b\b\b\b\b\b\b\b\b\b\b\b\b\b\b\b\b\b\b\b\b\b\b\b\b\b\b\b\b\b\b\b\b\b\b\b\b\b\b\b\b\b\b\b\bETA: 9s822ms | Step: 161ms\b\b\b\b\b\b\b\b\b\b\b\b\b\b\b\b\b\b\b\b\b\b\b\b\b\b\b\b\b\b\b\b\b\b\b\b\b\b\b\b\b\b\b\b\b\b\b\b\b\b\b\b\b\b\b\b\b\b\b\b\b\b\b\b\b\b\b\b\b\b\b\b\b 35/96 \r",
        "HERE OPTIM\t\n",
        "BEFORE FORWARD\t\n",
        "1\t\n"
       ]
      },
      {
       "metadata": {},
       "output_type": "pyout",
       "prompt_number": 413,
       "text": [
        "AFTER FORWARD\t\n",
        "NEO\t\n",
        " 4.4198\n",
        " 5.5804\n",
        "[torch.FloatTensor of dimension 2]\n",
        "\n",
        "2\t\n",
        "BLAH\t\n"
       ]
      },
      {
       "metadata": {},
       "output_type": "pyout",
       "prompt_number": 413,
       "text": [
        " ** On entry to SGEMM  parameter number 10 had an illegal value\n"
       ]
      },
      {
       "metadata": {},
       "output_type": "pyout",
       "prompt_number": 413,
       "text": [
        " ** On entry to SGEMM  parameter number 10 had an illegal value\n"
       ]
      },
      {
       "metadata": {},
       "output_type": "pyout",
       "prompt_number": 413,
       "text": [
        "\r",
        " [===========================>.................................................]                                                   \b\b\b\b\b\b\b\b\b\b\b\b\b\b\b\b\b\b\b\b\b\b\b\b\b\b\b\b\b\b\b\b\b\b\b\b\b\b\b\b\b\b\b\b\b\b\b\b\b\bETA: 9s460ms | Step: 157ms\b\b\b\b\b\b\b\b\b\b\b\b\b\b\b\b\b\b\b\b\b\b\b\b\b\b\b\b\b\b\b\b\b\b\b\b\b\b\b\b\b\b\b\b\b\b\b\b\b\b\b\b\b\b\b\b\b\b\b\b\b\b\b\b\b\b\b\b\b\b\b\b\b 36/96 \r",
        "HERE OPTIM\t\n",
        "BEFORE FORWARD\t\n",
        "1\t\n"
       ]
      },
      {
       "metadata": {},
       "output_type": "pyout",
       "prompt_number": 413,
       "text": [
        "AFTER FORWARD\t\n",
        "NEO\t\n",
        " 4.3766\n",
        " 5.6236\n",
        "[torch.FloatTensor of dimension 2]\n",
        "\n",
        "1\t\n",
        "BLAH\t\n",
        " ** On entry to SGEMM  parameter number 10 had an illegal value\n"
       ]
      },
      {
       "metadata": {},
       "output_type": "pyout",
       "prompt_number": 413,
       "text": [
        " ** On entry to SGEMM  parameter number 10 had an illegal value\n"
       ]
      },
      {
       "metadata": {},
       "output_type": "pyout",
       "prompt_number": 413,
       "text": [
        "\r",
        " [============================>................................................]                                                   \b\b\b\b\b\b\b\b\b\b\b\b\b\b\b\b\b\b\b\b\b\b\b\b\b\b\b\b\b\b\b\b\b\b\b\b\b\b\b\b\b\b\b\b\b\b\b\b\b\bETA: 9s62ms | Step: 153ms\b\b\b\b\b\b\b\b\b\b\b\b\b\b\b\b\b\b\b\b\b\b\b\b\b\b\b\b\b\b\b\b\b\b\b\b\b\b\b\b\b\b\b\b\b\b\b\b\b\b\b\b\b\b\b\b\b\b\b\b\b\b\b\b\b\b\b\b\b\b\b\b 37/96 \r",
        "HERE OPTIM\t\n",
        "BEFORE FORWARD\t\n",
        "1\t\n"
       ]
      },
      {
       "metadata": {},
       "output_type": "pyout",
       "prompt_number": 413,
       "text": [
        "AFTER FORWARD\t\n",
        "NEO\t\n",
        " 4.4318\n",
        " 5.5684\n",
        "[torch.FloatTensor of dimension 2]\n",
        "\n",
        "1\t\n",
        "BLAH\t\n",
        " ** On entry to SGEMM  parameter number 10 had an illegal value\n"
       ]
      },
      {
       "metadata": {},
       "output_type": "pyout",
       "prompt_number": 413,
       "text": [
        " ** On entry to SGEMM  parameter number 10 had an illegal value\n"
       ]
      },
      {
       "metadata": {},
       "output_type": "pyout",
       "prompt_number": 413,
       "text": [
        "\r",
        " [=============================>...............................................]                                                   \b\b\b\b\b\b\b\b\b\b\b\b\b\b\b\b\b\b\b\b\b\b\b\b\b\b\b\b\b\b\b\b\b\b\b\b\b\b\b\b\b\b\b\b\b\b\b\b\b\bETA: 8s680ms | Step: 149ms\b\b\b\b\b\b\b\b\b\b\b\b\b\b\b\b\b\b\b\b\b\b\b\b\b\b\b\b\b\b\b\b\b\b\b\b\b\b\b\b\b\b\b\b\b\b\b\b\b\b\b\b\b\b\b\b\b\b\b\b\b\b\b\b\b\b\b\b\b\b\b\b\b 38/96 \r",
        "HERE OPTIM\t\n",
        "BEFORE FORWARD\t\n",
        "1\t\n"
       ]
      },
      {
       "metadata": {},
       "output_type": "pyout",
       "prompt_number": 413,
       "text": [
        "AFTER FORWARD\t\n",
        "NEO\t\n",
        " 4.4875\n",
        " 5.5127\n",
        "[torch.FloatTensor of dimension 2]\n",
        "\n",
        "2\t\n",
        "BLAH\t\n"
       ]
      },
      {
       "metadata": {},
       "output_type": "pyout",
       "prompt_number": 413,
       "text": [
        " ** On entry to SGEMM  parameter number 10 had an illegal value\n"
       ]
      },
      {
       "metadata": {},
       "output_type": "pyout",
       "prompt_number": 413,
       "text": [
        " ** On entry to SGEMM  parameter number 10 had an illegal value\n"
       ]
      },
      {
       "metadata": {},
       "output_type": "pyout",
       "prompt_number": 413,
       "text": [
        "\r",
        " [==============================>..............................................]                                                   \b\b\b\b\b\b\b\b\b\b\b\b\b\b\b\b\b\b\b\b\b\b\b\b\b\b\b\b\b\b\b\b\b\b\b\b\b\b\b\b\b\b\b\b\b\b\b\b\b\bETA: 8s452ms | Step: 148ms\b\b\b\b\b\b\b\b\b\b\b\b\b\b\b\b\b\b\b\b\b\b\b\b\b\b\b\b\b\b\b\b\b\b\b\b\b\b"
       ]
      },
      {
       "metadata": {},
       "output_type": "pyout",
       "prompt_number": 413,
       "text": [
        "\b\b\b\b\b\b\b\b\b\b\b\b\b\b\b\b\b\b\b\b\b\b\b\b\b\b\b\b\b\b\b\b\b\b\b 39/96 \r",
        "HERE OPTIM\t\n",
        "BEFORE FORWARD\t\n",
        "1\t\n"
       ]
      },
      {
       "metadata": {},
       "output_type": "pyout",
       "prompt_number": 413,
       "text": [
        "AFTER FORWARD\t\n",
        "NEO\t\n",
        " 4.4436\n",
        " 5.5566\n",
        "[torch.FloatTensor of dimension 2]\n",
        "\n",
        "1\t\n",
        "BLAH\t\n",
        " ** On entry to SGEMM  parameter number 10 had an illegal value\n"
       ]
      },
      {
       "metadata": {},
       "output_type": "pyout",
       "prompt_number": 413,
       "text": [
        " ** On entry to SGEMM  parameter number 10 had an illegal value\n",
        "\r",
        " [===============================>.............................................]                                                   \b\b\b\b\b\b\b\b\b\b\b\b\b\b\b\b\b\b\b\b\b\b\b\b\b\b\b\b\b\b\b\b\b\b\b\b\b\b\b\b\b\b\b\b\b\b\b\b\b\bETA: 8s105ms | Step: 144ms\b\b\b\b\b\b\b\b\b\b\b\b\b\b\b\b\b\b\b\b\b\b\b\b\b\b\b\b\b\b\b\b\b\b\b\b\b\b\b\b\b\b\b\b\b\b\b\b\b\b\b\b\b\b\b\b\b\b\b\b\b\b\b\b\b\b\b\b\b\b\b\b\b 40/96 \r",
        "HERE OPTIM\t\n",
        "BEFORE FORWARD\t\n",
        "1\t\n"
       ]
      },
      {
       "metadata": {},
       "output_type": "pyout",
       "prompt_number": 413,
       "text": [
        "AFTER FORWARD\t\n",
        "NEO\t\n",
        " 4.4982\n",
        " 5.5020\n",
        "[torch.FloatTensor of dimension 2]\n",
        "\n",
        "1\t\n",
        "BLAH\t\n",
        " ** On entry to SGEMM  parameter number 10 had an illegal value\n"
       ]
      },
      {
       "metadata": {},
       "output_type": "pyout",
       "prompt_number": 413,
       "text": [
        " ** On entry to SGEMM  parameter number 10 had an illegal value\n"
       ]
      },
      {
       "metadata": {},
       "output_type": "pyout",
       "prompt_number": 413,
       "text": [
        "\r",
        " [===============================>.............................................]                                                   \b\b\b\b\b\b\b\b\b\b\b\b\b\b\b\b\b\b\b\b\b\b\b\b\b\b\b\b\b\b\b\b\b\b\b\b\b\b\b\b\b\b\b\b\b\b\b\b\b\bETA: 7s776ms | Step: 141ms\b\b\b\b\b\b\b\b\b\b\b\b\b\b\b\b\b\b\b\b\b\b\b\b\b\b\b\b\b\b\b\b\b\b\b\b\b\b\b\b\b\b\b\b\b\b\b\b\b\b\b\b\b\b\b\b\b\b\b\b\b\b\b\b\b\b\b\b\b\b\b\b\b 41/96 \r",
        "HERE OPTIM\t\n",
        "BEFORE FORWARD\t\n",
        "1\t\n"
       ]
      },
      {
       "metadata": {},
       "output_type": "pyout",
       "prompt_number": 413,
       "text": [
        "AFTER FORWARD\t\n",
        "NEO\t\n",
        " 4.5532\n",
        " 5.4470\n",
        "[torch.FloatTensor of dimension 2]\n",
        "\n",
        "1\t\n",
        "BLAH\t\n",
        " ** On entry to SGEMM  parameter number 10 had an illegal value\n"
       ]
      },
      {
       "metadata": {},
       "output_type": "pyout",
       "prompt_number": 413,
       "text": [
        " ** On entry to SGEMM  parameter number 10 had an illegal value\n"
       ]
      },
      {
       "metadata": {},
       "output_type": "pyout",
       "prompt_number": 413,
       "text": [
        "\r",
        " [============================="
       ]
      },
      {
       "metadata": {},
       "output_type": "pyout",
       "prompt_number": 413,
       "text": [
        "===>............................................]                                                   \b\b\b\b\b\b\b\b\b\b\b\b\b\b\b\b\b\b\b\b\b\b\b\b\b\b\b\b\b\b\b\b\b\b\b\b\b\b\b\b\b\b\b\b\b\b\b\b\b\bETA: 7s499ms | Step: 138ms\b\b\b\b\b\b\b\b\b\b\b\b\b\b\b\b\b\b\b\b\b\b\b\b\b\b\b\b\b\b\b\b\b\b\b\b\b\b\b\b\b\b\b\b\b\b\b\b\b\b\b\b\b\b\b\b\b\b\b\b\b\b\b\b\b\b\b\b\b\b\b\b\b 42/96 \r",
        "HERE OPTIM\t\n",
        "BEFORE FORWARD\t\n",
        "1\t\n"
       ]
      },
      {
       "metadata": {},
       "output_type": "pyout",
       "prompt_number": 413,
       "text": [
        "AFTER FORWARD\t\n",
        "NEO\t\n",
        " 4.6077\n",
        " 5.3925\n",
        "[torch.FloatTensor of dimension 2]\n",
        "\n",
        "2\t\n",
        "BLAH\t\n"
       ]
      },
      {
       "metadata": {},
       "output_type": "pyout",
       "prompt_number": 413,
       "text": [
        " ** On entry to SGEMM  parameter number 10 had an illegal value\n"
       ]
      },
      {
       "metadata": {},
       "output_type": "pyout",
       "prompt_number": 413,
       "text": [
        " ** On entry to SGEMM  parameter number 10 had an illegal value\n"
       ]
      },
      {
       "metadata": {},
       "output_type": "pyout",
       "prompt_number": 413,
       "text": [
        "\r",
        " [=================================>...........................................]                                                   \b\b\b\b\b\b\b\b\b\b\b\b\b\b\b\b\b\b\b\b\b\b\b\b\b\b\b\b\b\b\b\b\b\b\b\b\b\b\b\b\b\b\b\b\b\b\b\b\b\bETA: 7s226ms | Step: 136ms\b\b\b\b\b\b\b\b\b\b\b\b\b\b\b\b\b\b\b\b\b\b\b\b\b\b\b\b\b\b\b\b\b\b\b\b\b\b\b\b\b\b\b\b\b\b\b\b\b\b\b\b\b\b\b\b\b\b\b\b\b\b\b\b\b\b\b\b\b\b\b\b\b 43/96 \r",
        "HERE OPTIM\t\n",
        "BEFORE FORWARD\t\n",
        "1\t\n"
       ]
      },
      {
       "metadata": {},
       "output_type": "pyout",
       "prompt_number": 413,
       "text": [
        "AFTER FORWARD\t\n",
        "NEO\t\n",
        " 4.5626\n",
        " 5.4376\n",
        "[torch.FloatTensor of dimension 2]\n",
        "\n",
        "2\t\n",
        "BLAH\t\n",
        " ** On entry to SGEMM  parameter number 10 had an illegal value\n"
       ]
      },
      {
       "metadata": {},
       "output_type": "pyout",
       "prompt_number": 413,
       "text": [
        " ** On entry to SGEMM  parameter number 10 had an illegal value\n"
       ]
      },
      {
       "metadata": {},
       "output_type": "pyout",
       "prompt_number": 413,
       "text": [
        "\r",
        " [==================================>..........................................]                                                   \b\b\b\b\b\b\b\b\b\b\b\b\b\b\b\b\b\b\b\b\b\b\b\b\b\b\b\b\b\b\b\b\b\b\b\b\b"
       ]
      },
      {
       "metadata": {},
       "output_type": "pyout",
       "prompt_number": 413,
       "text": [
        "\b\b\b\b\b\b\b\b\b\b\b\b\bETA: 6s935ms | Step: 133ms\b\b\b\b\b\b\b\b\b\b\b\b\b\b\b\b\b\b\b\b\b\b\b\b\b\b\b\b\b\b\b\b\b\b\b\b\b\b\b\b\b\b\b\b\b\b\b\b\b\b\b\b\b\b\b\b\b\b\b\b\b\b\b\b\b\b\b\b\b\b\b\b\b 44/96 \r",
        "HERE OPTIM\t\n",
        "BEFORE FORWARD\t\n",
        "1\t\n"
       ]
      },
      {
       "metadata": {},
       "output_type": "pyout",
       "prompt_number": 413,
       "text": [
        "AFTER FORWARD\t\n",
        "NEO\t\n",
        " 4.5170\n",
        " 5.4832\n",
        "[torch.FloatTensor of dimension 2]\n",
        "\n",
        "2\t\n",
        "BLAH\t\n",
        " ** On entry to SGEMM  parameter number 10 had an illegal value\n"
       ]
      },
      {
       "metadata": {},
       "output_type": "pyout",
       "prompt_number": 413,
       "text": [
        " ** On entry to SGEMM  parameter number 10 had an illegal value\n"
       ]
      },
      {
       "metadata": {},
       "output_type": "pyout",
       "prompt_number": 413,
       "text": [
        "\r",
        " [===================================>.........................................]                                                   \b\b\b\b\b\b\b\b\b\b\b\b\b\b\b\b\b\b\b\b\b\b\b\b\b\b\b\b\b\b\b\b\b\b\b\b\b\b\b\b\b\b\b\b\b\b\b\b\b\bETA: 6s680ms | Step: 130ms\b\b\b\b\b\b\b\b\b\b\b\b\b\b\b\b\b\b\b\b\b\b\b\b\b\b\b\b\b\b\b\b\b\b\b\b\b\b\b\b\b\b\b\b\b\b\b\b\b\b\b\b\b\b\b\b\b\b\b\b\b\b\b\b\b\b\b\b\b\b\b\b\b 45/96 \r",
        "HERE OPTIM\t\n",
        "BEFORE FORWARD\t\n",
        "1\t\n"
       ]
      },
      {
       "metadata": {},
       "output_type": "pyout",
       "prompt_number": 413,
       "text": [
        "AFTER FORWARD\t\n",
        "NEO\t\n",
        " 4.4718\n",
        " 5.5284\n",
        "[torch.FloatTensor of dimension 2]\n",
        "\n",
        "2\t\n",
        "BLAH\t\n",
        " ** On entry to SGEMM  parameter number 10 had an illegal value\n"
       ]
      },
      {
       "metadata": {},
       "output_type": "pyout",
       "prompt_number": 413,
       "text": [
        " ** On entry to SGEMM  parameter number 10 had an illegal value\n"
       ]
      },
      {
       "metadata": {},
       "output_type": "pyout",
       "prompt_number": 413,
       "text": [
        "\r",
        " [===================================>.........................................]                                                   \b\b\b\b\b\b\b\b\b\b\b\b\b\b\b\b\b\b\b\b\b\b\b\b\b\b\b\b\b\b\b\b\b\b\b\b\b\b\b\b\b\b\b\b\b\b\b\b\b\bETA: 6s498ms | Step: 129ms\b\b\b\b\b\b\b\b\b\b\b\b\b\b\b\b\b\b\b\b\b\b\b\b\b\b\b\b\b\b\b\b\b\b\b\b\b\b\b\b\b\b\b\b\b\b\b\b\b\b\b\b\b\b\b\b\b\b\b\b\b\b\b\b\b\b\b\b\b\b\b\b\b 46/96 \r",
        "HERE OPTIM\t\n",
        "BEFORE FORWARD\t\n",
        "1\t\n"
       ]
      },
      {
       "metadata": {},
       "output_type": "pyout",
       "prompt_number": 413,
       "text": [
        "AFTER FORWARD\t\n",
        "NEO\t\n",
        " 4.4271\n",
        " 5.5731\n",
        "[torch.FloatTensor of dimension 2]\n",
        "\n",
        "2\t\n",
        "BLAH\t\n"
       ]
      },
      {
       "metadata": {},
       "output_type": "pyout",
       "prompt_number": 413,
       "text": [
        " ** On entry to SGEMM  parameter number 10 had an illegal value\n"
       ]
      },
      {
       "metadata": {},
       "output_type": "pyout",
       "prompt_number": 413,
       "text": [
        " ** On entry to SGEMM  parameter number 10 had an illegal value\n"
       ]
      },
      {
       "metadata": {},
       "output_type": "pyout",
       "prompt_number": 413,
       "text": [
        "\r",
        " [====================================>..............................."
       ]
      },
      {
       "metadata": {},
       "output_type": "pyout",
       "prompt_number": 413,
       "text": [
        ".........]                                                   \b\b\b\b\b\b\b\b\b\b\b\b\b\b\b\b\b\b\b\b\b\b\b\b\b\b\b\b\b\b\b\b\b\b\b\b\b\b\b\b\b\b\b\b\b\b\b\b\b\bETA: 6s277ms | Step: 128ms\b\b\b\b\b\b\b\b\b\b\b\b\b\b\b\b\b\b\b\b\b\b\b\b\b\b\b\b\b\b\b\b\b\b\b\b\b\b\b\b\b\b\b\b\b\b\b\b\b\b\b\b\b\b\b\b\b\b\b\b\b\b\b\b\b\b\b\b\b\b\b\b\b 47/96 \r",
        "HERE OPTIM\t\n",
        "BEFORE FORWARD\t\n",
        "1\t\n"
       ]
      },
      {
       "metadata": {},
       "output_type": "pyout",
       "prompt_number": 413,
       "text": [
        "AFTER FORWARD\t\n",
        "NEO\t\n",
        " 4.3828\n",
        " 5.6174\n",
        "[torch.FloatTensor of dimension 2]\n",
        "\n",
        "1\t\n",
        "BLAH\t\n",
        " ** On entry to SGEMM  parameter number 10 had an illegal value\n"
       ]
      },
      {
       "metadata": {},
       "output_type": "pyout",
       "prompt_number": 413,
       "text": [
        " ** On entry to SGEMM  parameter number 10 had an illegal value\n"
       ]
      },
      {
       "metadata": {},
       "output_type": "pyout",
       "prompt_number": 413,
       "text": [
        "\r"
       ]
      },
      {
       "metadata": {},
       "output_type": "pyout",
       "prompt_number": 413,
       "text": [
        " [=====================================>.......................................]                                                   \b\b\b\b\b\b\b\b\b\b\b\b\b\b\b\b\b\b\b\b\b\b\b\b\b\b\b\b\b\b\b\b\b\b\b\b\b\b\b\b\b\b\b\b\b\b\b\b\b\bETA: 6s32ms | Step: 125ms\b\b\b\b\b\b\b\b\b\b\b\b\b\b\b\b\b\b\b\b\b\b\b\b\b\b\b\b\b\b\b\b\b\b\b\b\b\b\b\b\b\b\b\b\b\b\b\b\b\b\b\b\b\b\b\b\b\b\b\b\b\b\b\b\b\b\b\b\b\b\b\b 48/96 \r",
        "HERE OPTIM\t\n",
        "BEFORE FORWARD\t\n",
        "1\t\n"
       ]
      },
      {
       "metadata": {},
       "output_type": "pyout",
       "prompt_number": 413,
       "text": [
        "AFTER FORWARD\t\n",
        "NEO\t\n",
        " 4.4380\n",
        " 5.5622\n",
        "[torch.FloatTensor of dimension 2]\n",
        "\n",
        "1\t\n",
        "BLAH\t\n",
        " ** On entry to SGEMM  parameter number 10 had an illegal value\n"
       ]
      },
      {
       "metadata": {},
       "output_type": "pyout",
       "prompt_number": 413,
       "text": [
        " ** On entry to SGEMM  parameter number 10 had an illegal value\n"
       ]
      },
      {
       "metadata": {},
       "output_type": "pyout",
       "prompt_number": 413,
       "text": [
        "\r",
        " [======================================>......................................]                                                   \b\b\b\b\b\b\b\b\b\b\b\b\b\b\b\b\b\b\b\b\b\b\b\b\b\b\b\b\b\b\b\b\b\b\b\b\b\b\b\b\b\b\b\b\b\b\b\b\b\bETA: 5s800ms | Step: 123ms\b\b\b\b\b\b\b\b\b\b\b\b\b\b\b\b\b\b\b\b\b\b\b\b\b\b\b\b\b\b\b\b\b\b\b\b\b\b\b\b\b\b\b\b\b\b\b\b\b\b\b\b\b\b\b\b\b\b\b\b\b\b\b\b\b\b\b\b\b\b\b\b\b 49/96 \r",
        "HERE OPTIM\t\n",
        "BEFORE FORWARD\t\n",
        "1\t\n"
       ]
      },
      {
       "metadata": {},
       "output_type": "pyout",
       "prompt_number": 413,
       "text": [
        "AFTER FORWARD\t\n",
        "NEO\t\n",
        " 4.4936\n",
        " 5.5066\n",
        "[torch.FloatTensor of dimension 2]\n",
        "\n",
        "2\t\n",
        "BLAH\t\n"
       ]
      },
      {
       "metadata": {},
       "output_type": "pyout",
       "prompt_number": 413,
       "text": [
        " ** On entry to SGEMM  parameter number 10 had an illegal value\n"
       ]
      },
      {
       "metadata": {},
       "output_type": "pyout",
       "prompt_number": 413,
       "text": [
        " ** On entry to SGEMM  parameter number 10 had an illegal value\n"
       ]
      },
      {
       "metadata": {},
       "output_type": "pyout",
       "prompt_number": 413,
       "text": [
        "\r",
        " [=======================================>.....................................]                                                   \b\b\b\b\b\b\b\b\b\b\b\b\b\b\b\b\b\b\b\b\b\b\b\b\b\b\b\b\b\b\b\b\b\b\b\b\b\b\b\b\b\b\b\b\b\b\b\b\b\bETA: 6s69ms | Step: 131ms\b\b"
       ]
      },
      {
       "metadata": {},
       "output_type": "pyout",
       "prompt_number": 413,
       "text": [
        "\b\b\b\b\b\b\b\b\b\b\b\b\b\b\b\b\b\b\b\b\b\b\b\b\b\b\b\b\b\b\b\b\b\b\b\b\b\b\b\b\b\b\b\b\b\b\b\b\b\b\b\b\b\b\b\b\b\b\b\b\b\b\b\b\b\b\b\b\b\b 50/96 \r",
        "HERE OPTIM\t\n",
        "BEFORE FORWARD\t\n",
        "1\t\n"
       ]
      },
      {
       "metadata": {},
       "output_type": "pyout",
       "prompt_number": 413,
       "text": [
        "AFTER FORWARD\t\n",
        "NEO\t\n",
        " 4.4497\n",
        " 5.5506\n",
        "[torch.FloatTensor of dimension 2]\n",
        "\n",
        "2\t\n",
        "BLAH\t\n"
       ]
      },
      {
       "metadata": {},
       "output_type": "pyout",
       "prompt_number": 413,
       "text": [
        " ** On entry to SGEMM  parameter number 10 had an illegal value\n"
       ]
      },
      {
       "metadata": {},
       "output_type": "pyout",
       "prompt_number": 413,
       "text": [
        " ** On entry to SGEMM  parameter number 10 had an illegal value\n"
       ]
      },
      {
       "metadata": {},
       "output_type": "pyout",
       "prompt_number": 413,
       "text": [
        "\r",
        " [=======================================>.."
       ]
      },
      {
       "metadata": {},
       "output_type": "pyout",
       "prompt_number": 413,
       "text": [
        "...................................]                                                   \b\b\b\b\b\b\b\b\b\b\b\b\b\b\b\b\b\b\b\b\b\b\b\b\b\b\b\b\b\b\b\b\b\b\b\b\b\b\b\b\b\b\b\b\b\b\b\b\b\bETA: 5s976ms | Step: 132ms\b\b\b\b\b\b\b\b\b\b\b\b\b\b\b\b\b\b\b\b\b\b\b\b\b\b\b\b\b\b\b\b\b\b\b\b\b\b\b\b\b\b\b\b\b\b\b\b\b\b\b\b\b\b\b\b\b\b\b\b\b\b\b\b\b\b\b\b\b\b\b\b\b 51/96 \r",
        "HERE OPTIM\t\n",
        "BEFORE FORWARD\t\n",
        "1\t\n"
       ]
      },
      {
       "metadata": {},
       "output_type": "pyout",
       "prompt_number": 413,
       "text": [
        "AFTER FORWARD\t\n",
        "NEO\t\n",
        " 4.4052\n",
        " 5.5950\n",
        "[torch.FloatTensor of dimension 2]\n",
        "\n"
       ]
      },
      {
       "metadata": {},
       "output_type": "pyout",
       "prompt_number": 413,
       "text": [
        "1\t\n",
        "BLAH\t\n",
        " ** On entry to SGEMM  parameter number 10 had an illegal value\n"
       ]
      },
      {
       "metadata": {},
       "output_type": "pyout",
       "prompt_number": 413,
       "text": [
        " ** On entry to SGEMM  parameter number 10 had an illegal value\n"
       ]
      },
      {
       "metadata": {},
       "output_type": "pyout",
       "prompt_number": 413,
       "text": [
        "\r",
        " [========================================>....................................]                                                   \b\b\b\b\b\b\b\b\b\b\b\b\b\b\b\b\b\b\b\b\b\b\b\b\b\b\b\b\b\b\b\b\b\b\b\b\b\b\b\b\b\b\b\b\b\b\b\b\b\bETA: 5s745ms | Step: 130ms\b\b\b\b\b\b\b\b\b\b\b\b\b\b\b\b\b\b\b\b\b\b\b\b\b\b\b\b\b\b\b\b\b\b\b\b\b\b\b\b\b\b\b\b\b\b\b\b\b\b\b\b\b\b\b\b\b\b\b\b\b\b\b\b\b\b\b\b\b\b\b\b\b 52/96 \r",
        "HERE OPTIM\t\n",
        "BEFORE FORWARD\t\n",
        "1\t\n"
       ]
      },
      {
       "metadata": {},
       "output_type": "pyout",
       "prompt_number": 413,
       "text": [
        "AFTER FORWARD\t\n",
        "NEO\t\n",
        " 4.4601\n",
        " 5.5401\n",
        "[torch.FloatTensor of dimension 2]\n",
        "\n",
        "2\t\n",
        "BLAH\t\n"
       ]
      },
      {
       "metadata": {},
       "output_type": "pyout",
       "prompt_number": 413,
       "text": [
        " ** On entry to SGEMM  parameter number 10 had an illegal value\n"
       ]
      }
     ]
    },
    {
     "cell_type": "code",
     "collapsed": false,
     "input": [],
     "language": "python",
     "metadata": {},
     "outputs": [
      {
       "metadata": {},
       "output_type": "pyout",
       "prompt_number": 180,
       "text": [
        "\n"
       ]
      }
     ],
     "prompt_number": 180
    },
    {
     "cell_type": "code",
     "collapsed": false,
     "input": [],
     "language": "python",
     "metadata": {},
     "outputs": []
    }
   ],
   "metadata": {}
  }
 ]
}