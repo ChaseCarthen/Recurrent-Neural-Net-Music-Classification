{
 "metadata": {
  "language": "lua",
  "name": "",
  "signature": "sha256:3cf24251adf2495a65e37a653fe2d2eaa78e7665089ae00cb15228860541e79f"
 },
 "nbformat": 3,
 "nbformat_minor": 0,
 "worksheets": [
  {
   "cells": [
    {
     "cell_type": "code",
     "collapsed": false,
     "input": [
      "local torch = require 'torch'\n",
      "local midi = require 'MIDI'\n",
      "local ser = require 'ser'\n",
      "mtbv = require \"midiToBinaryVector\"\n",
      "require 'lfs'"
     ],
     "language": "python",
     "metadata": {},
     "outputs": [],
     "prompt_number": 64
    },
    {
     "cell_type": "code",
     "collapsed": false,
     "input": [],
     "language": "python",
     "metadata": {},
     "outputs": [
      {
       "metadata": {},
       "output_type": "pyout",
       "prompt_number": 65,
       "text": [
        "\n"
       ]
      }
     ],
     "prompt_number": 65
    },
    {
     "cell_type": "code",
     "collapsed": false,
     "input": [
      "local SongGroupContainer = {}\n",
      "\n",
      "for directoryName in lfs.dir(\"./music\") \n",
      "do \n",
      "    if directoryName ~= \"..\" and directoryName ~= \".\" and lfs.attributes(\"./music/\"..directoryName,\"mode\") == \"directory\"\n",
      "    then\n",
      "        directoryPath = \"./music/\"..directoryName..\"/\"\n",
      "        \n",
      "        local obj = \n",
      "        {\n",
      "            Genre = directoryName,\n",
      "            Songs = {}\n",
      "        }\n",
      "        \n",
      "        \n",
      "        for filename in lfs.dir(\"./music/\"..directoryName) \n",
      "        do FullFilePath = './music/'..directoryName..\"/\"..filename\n",
      "            if string.find(filename, \".mid\")\n",
      "            then obj.Songs[filename] = midiToBinaryVec(FullFilePath) \n",
      "            end\n",
      "        end\n",
      "        SongGroupContainer[directoryName] = obj\n",
      "        --SerializeData(directoryPath..outputFileName, obj)\n",
      "    end\n",
      "end\n",
      "\n"
     ],
     "language": "python",
     "metadata": {},
     "outputs": []
    },
    {
     "cell_type": "code",
     "collapsed": false,
     "input": [
      "print(SongGroupContainer)\n"
     ],
     "language": "python",
     "metadata": {},
     "outputs": [
      {
       "metadata": {},
       "output_type": "pyout",
       "prompt_number": 74,
       "text": [
        "\n"
       ]
      }
     ],
     "prompt_number": 74
    },
    {
     "cell_type": "code",
     "collapsed": false,
     "input": [],
     "language": "python",
     "metadata": {},
     "outputs": []
    }
   ],
   "metadata": {}
  }
 ]
}