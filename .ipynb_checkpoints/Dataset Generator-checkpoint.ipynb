{
 "metadata": {
  "language": "lua",
  "name": "",
  "signature": "sha256:83e8349d10acb31b450432d2ca4162a8184a38ee5e4ac7722f0b9b4a41f93d18"
 },
 "nbformat": 3,
 "nbformat_minor": 0,
 "worksheets": [
  {
   "cells": [
    {
     "cell_type": "code",
     "collapsed": false,
     "input": [
      "local torch = require 'torch'\n",
      "local midi = require 'MIDI'\n",
      "mtbv = require \"midiToBinaryVector\"\n",
      "require 'lfs'"
     ],
     "language": "python",
     "metadata": {},
     "outputs": [
      {
       "metadata": {},
       "output_type": "pyout",
       "prompt_number": 44,
       "text": [
        "function: 0x41ba3e88\t\n"
       ]
      }
     ],
     "prompt_number": 44
    },
    {
     "cell_type": "code",
     "collapsed": false,
     "input": [
      "obj = \n",
      "{\n",
      "    Genre = \"classical\",\n",
      "    Songs = {}\n",
      "}\n",
      "\n",
      "counter = 0.\n",
      "for filename in lfs.dir(\"./music/classical\") \n",
      "    do print (\"./music/classical/\"..filename) \n",
      "    if string.find(filename, \".mid\") ~= nil\n",
      "    then obj.Songs[filename] = midiToBinaryVec(\"./music/classical/\"..filename)  \n",
      "    end\n",
      "end"
     ],
     "language": "python",
     "metadata": {},
     "outputs": [
      {
       "metadata": {},
       "output_type": "pyout",
       "prompt_number": 52,
       "text": [
        "./music/classical/.\t\n",
        "./music/classical/..\t\n",
        "./music/classical/014907ch.mid\t\n"
       ]
      },
      {
       "ename": "invalid tensor sizes\nstack traceback:\n\t[C]: at 0x7f19173f2d20\n\t[C]: in function 'Tensor'\n\t./midiToBinaryVector.lua:84: in function 'midiToBinaryVec'\n\t[string \"obj = ...\"]:11: in main chunk\n\t[C]: in function 'xpcall'\n\t/home/zayik/torch/install/share/lua/5.1/itorch/main.lua:174: in function </home/zayik/torch/install/share/lua/5.1/itorch/main.lua:140>\n\t/home/zayik/torch/install/share/lua/5.1/lzmq/poller.lua:75: in function 'poll'\n\t/home/zayik/torch/install/share/lua/5.1/lzmq/impl/loop.lua:307: in function 'poll'\n\t/home/zayik/torch/install/share/lua/5.1/lzmq/impl/loop.lua:325: in function 'sleep_ex'\n\t/home/zayik/torch/install/share/lua/5.1/lzmq/impl/loop.lua:370: in function 'start'\n\t/home/zayik/torch/install/share/lua/5.1/itorch/main.lua:341: in main chunk\n\t[C]: in function 'require'\n\t(command line):1: in main chunk\n\t[C]: at 0x00406170",
       "evalue": "",
       "output_type": "pyerr",
       "traceback": [
        "invalid tensor sizes\nstack traceback:\n\t[C]: at 0x7f19173f2d20\n\t[C]: in function 'Tensor'\n\t./midiToBinaryVector.lua:84: in function 'midiToBinaryVec'\n\t[string \"obj = ...\"]:11: in main chunk\n\t[C]: in function 'xpcall'\n\t/home/zayik/torch/install/share/lua/5.1/itorch/main.lua:174: in function </home/zayik/torch/install/share/lua/5.1/itorch/main.lua:140>\n\t/home/zayik/torch/install/share/lua/5.1/lzmq/poller.lua:75: in function 'poll'\n\t/home/zayik/torch/install/share/lua/5.1/lzmq/impl/loop.lua:307: in function 'poll'\n\t/home/zayik/torch/install/share/lua/5.1/lzmq/impl/loop.lua:325: in function 'sleep_ex'\n\t/home/zayik/torch/install/share/lua/5.1/lzmq/impl/loop.lua:370: in function 'start'\n\t/home/zayik/torch/install/share/lua/5.1/itorch/main.lua:341: in main chunk\n\t[C]: in function 'require'\n\t(command line):1: in main chunk\n\t[C]: at 0x00406170"
       ]
      }
     ],
     "prompt_number": 52
    },
    {
     "cell_type": "code",
     "collapsed": false,
     "input": [],
     "language": "python",
     "metadata": {},
     "outputs": []
    }
   ],
   "metadata": {}
  }
 ]
}